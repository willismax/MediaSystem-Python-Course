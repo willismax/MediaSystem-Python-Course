{
  "nbformat": 4,
  "nbformat_minor": 0,
  "metadata": {
    "kernelspec": {
      "name": "python3",
      "display_name": "Python 3"
    },
    "colab": {
      "provenance": [],
      "collapsed_sections": [
        "RzlIdwOKu2xP",
        "QTqmcPogoAs0",
        "CEPfC4nYwcNK",
        "XtYhHji5xVjZ",
        "QwX0KwQBVi-1",
        "IdIiR6zAGgqG",
        "1mABK55VGqej",
        "zwW3MXc1_6sq",
        "NfKEe2JnARFs",
        "YdY-mhy2lUjz",
        "8nM73obEICAd",
        "Y1V7f_WGZXgK",
        "TY3QLDDpXzF9",
        "P2B4ORKYcbPS",
        "BlJPJrTbclrJ",
        "l1QshDtSdFPe",
        "758vCJ0FKtv2",
        "5isngi2t9aDh"
      ],
      "include_colab_link": true
    }
  },
  "cells": [
    {
      "cell_type": "markdown",
      "metadata": {
        "id": "view-in-github",
        "colab_type": "text"
      },
      "source": [
        "<a href=\"https://colab.research.google.com/github/willismax/NUTC-CSIE-MS/blob/main/Intro-Python/PythonBasic_3.ipynb\" target=\"_parent\"><img src=\"https://colab.research.google.com/assets/colab-badge.svg\" alt=\"Open In Colab\"/></a>"
      ]
    },
    {
      "cell_type": "markdown",
      "metadata": {
        "collapsed": true,
        "id": "6OZu7Iytc9vG"
      },
      "source": [
        "#  Python->基礎語法#3 儲存容器、控制敘述、列表推導式"
      ]
    },
    {
      "cell_type": "markdown",
      "metadata": {
        "id": "UZ34YQevW6W4"
      },
      "source": [
        "![](https://python.rs/pylogo.png)"
      ]
    },
    {
      "cell_type": "markdown",
      "metadata": {
        "id": "RzlIdwOKu2xP"
      },
      "source": [
        "## 儲存容器\n",
        "-串列 list 、元組 tuple 、集合 Set\n"
      ]
    },
    {
      "cell_type": "markdown",
      "metadata": {
        "id": "QTqmcPogoAs0"
      },
      "source": [
        "### 串列 list `[]`\n",
        "\n"
      ]
    },
    {
      "cell_type": "markdown",
      "metadata": {
        "id": "rDYDucLroF4i"
      },
      "source": [
        "|計算|說明|\n",
        "|-|-|\n",
        "x in L\t|判斷 x 是否在 L 中\n",
        "x not in L\t|判斷 x 是否不在 L 中\n",
        "L + t\t|連接 L 及 t\n",
        "L ＊ n, n ＊ L\t|將 L 重複 n 次連接 L 本身\n",
        "L[i]|\t取得索引值 i 的元素\n",
        "L[i:j]\t|取得索引值 i 到 j 的子序列\n",
        "L[i:j:k]\t|取得索引值 i 到 j ，間隔 k 的子序列\n",
        "len(L)\t|回傳 L 的元素個數\n",
        "min(L)\t|回傳 L 中的最小值\n",
        "max(L)\t|回傳 L 中的最大值\n",
        "L.index(i)\t|取得 L 中第一次出現 i 的索引值\n",
        "L.count(i)\t|累計 L 中 i 出現的個數"
      ]
    },
    {
      "cell_type": "code",
      "metadata": {
        "id": "BGyqM9o1oTdA"
      },
      "source": [
        "L = [9, 5, 2, 7]\n",
        "\n",
        "L"
      ],
      "execution_count": null,
      "outputs": []
    },
    {
      "cell_type": "code",
      "metadata": {
        "id": "VoWmZHkiogA2"
      },
      "source": [
        "len(L)"
      ],
      "execution_count": null,
      "outputs": []
    },
    {
      "cell_type": "code",
      "source": [
        "L[0]"
      ],
      "metadata": {
        "id": "qdXA5f8NaCaZ"
      },
      "execution_count": null,
      "outputs": []
    },
    {
      "cell_type": "code",
      "metadata": {
        "id": "KaxP4OKeoqh1"
      },
      "source": [
        "L[:] # [魚頭 : 尾前]"
      ],
      "execution_count": null,
      "outputs": []
    },
    {
      "cell_type": "code",
      "metadata": {
        "id": "7rpX3_p5_OYe"
      },
      "source": [
        "L[0:2]"
      ],
      "execution_count": null,
      "outputs": []
    },
    {
      "cell_type": "code",
      "metadata": {
        "id": "LU1lNsNJ_r2n"
      },
      "source": [
        "k=['庭','院','深','深','深','幾','許']"
      ],
      "execution_count": null,
      "outputs": []
    },
    {
      "cell_type": "code",
      "metadata": {
        "id": "3r1jy2AIsx1h"
      },
      "source": [
        "#深深深"
      ],
      "execution_count": null,
      "outputs": []
    },
    {
      "cell_type": "code",
      "metadata": {
        "id": "2iXDaYmz_wYH"
      },
      "source": [
        "k[2:5]"
      ],
      "execution_count": null,
      "outputs": []
    },
    {
      "cell_type": "code",
      "metadata": {
        "id": "47gS6DypAHCR"
      },
      "source": [
        "!pip install twstock"
      ],
      "execution_count": null,
      "outputs": []
    },
    {
      "cell_type": "code",
      "metadata": {
        "id": "lk8hCNuYAM17"
      },
      "source": [
        "import twstock\n",
        "\n",
        "stock = twstock.Stock(\"2330\")\n",
        "\n",
        "stock.price"
      ],
      "execution_count": null,
      "outputs": []
    },
    {
      "cell_type": "code",
      "metadata": {
        "id": "qOpc8ZHrAaBc"
      },
      "source": [
        "stock.price[-1]"
      ],
      "execution_count": null,
      "outputs": []
    },
    {
      "cell_type": "markdown",
      "metadata": {
        "id": "s1UpBOeVoKjw"
      },
      "source": [
        "|計算|說明|\n",
        "|-|-|\n",
        "L[i] = x\t|將索引值 i 的元素指派為 x\n",
        "L[i:j] = t\t|將索引值 i 到 j 的元素指派為 t ， t 為迭代器\n",
        "del L[i:j]\t|刪除索引值 i 到 j 的元素\n",
        "L[i:j:k] = t\t|將索引值 i 到 j ，間隔 k 的元素指派為 t ， t 為迭代器\n",
        "del L[i:j:k]\t|刪除索引值 i 到 j ，間隔 k 的元素\n",
        "list comprehension\t|列表推導式：運用運算式生成新的串列"
      ]
    },
    {
      "cell_type": "code",
      "metadata": {
        "id": "Ifllvb53tl3C"
      },
      "source": [
        "#for 迴圈\n",
        "\n",
        "\n",
        "for i in [1,2,3,4]:\n",
        "    print(i*i)\n"
      ],
      "execution_count": null,
      "outputs": []
    },
    {
      "cell_type": "code",
      "metadata": {
        "id": "Xc_-D-V3ux_A"
      },
      "source": [
        "r = []\n",
        "\n",
        "for i in range(10):\n",
        "    r.append(i)\n",
        "\n",
        "r"
      ],
      "execution_count": null,
      "outputs": []
    },
    {
      "cell_type": "code",
      "metadata": {
        "id": "WMF5iRcNA1ZH"
      },
      "source": [
        "a=[]\n",
        "for i in range(100):\n",
        "  if i % 2 == 1:\n",
        "    a.append(i)\n",
        "\n",
        "a"
      ],
      "execution_count": null,
      "outputs": []
    },
    {
      "cell_type": "code",
      "metadata": {
        "id": "sd4ZOZRSwDjX"
      },
      "source": [
        "a = [ i*i for i in range(10)]\n",
        "a"
      ],
      "execution_count": null,
      "outputs": []
    },
    {
      "cell_type": "code",
      "metadata": {
        "id": "jY0LBzIsxOLY"
      },
      "source": [
        "a = [ \n",
        "    i \n",
        "     for i in range(10) \n",
        "     ]\n",
        "a\n"
      ],
      "execution_count": null,
      "outputs": []
    },
    {
      "cell_type": "code",
      "metadata": {
        "id": "AsFVXVT0wYrg"
      },
      "source": [
        "b = [ \n",
        "     i*i \n",
        "     for i in range(100) \n",
        "     if i % 2 == 1\n",
        "     ]\n",
        "b"
      ],
      "execution_count": null,
      "outputs": []
    },
    {
      "cell_type": "code",
      "metadata": {
        "id": "_vOnagPZBN2V"
      },
      "source": [
        "%%timeit\n",
        "a=[ i**2 \n",
        "   for i in range(100) \n",
        "   if i % 2 ==1]\n",
        "a"
      ],
      "execution_count": null,
      "outputs": []
    },
    {
      "cell_type": "code",
      "metadata": {
        "id": "5tNAtB4DozqD"
      },
      "source": [
        "#列表推導式list comprehension\n",
        "[x for x in L if x > 3]"
      ],
      "execution_count": null,
      "outputs": []
    },
    {
      "cell_type": "code",
      "metadata": {
        "id": "kQLNC6hlj_16"
      },
      "source": [
        "#如以原本寫法如下\n",
        "result = [] #先創空list\n",
        "for x in L: #for迴圈逐一判斷\n",
        "    if x >3: #判斷條件\n",
        "        result.append(x) #符合的結果附加到result串列裡\n",
        "\n",
        "print(result)"
      ],
      "execution_count": null,
      "outputs": []
    },
    {
      "cell_type": "code",
      "metadata": {
        "id": "7vzuXp_84-9D"
      },
      "source": [
        "#sorted(iterable, *, key=None, reverse=False)\n",
        "\n",
        "sorted_L = sorted(L , reverse=True)\n",
        "sorted_L"
      ],
      "execution_count": null,
      "outputs": []
    },
    {
      "cell_type": "markdown",
      "metadata": {
        "id": "cLMHuRG5oNKI"
      },
      "source": [
        "|計算|說明|\n",
        "|-|-|\n",
        "list.append(x)\t|將 x 附加到 list 的最後\n",
        "list.extend(x)\t|將 x 中的元素附加到 list 的最後\n",
        "list.count(x)\t|計算 list 中 x 出現的次數\n",
        "list.index(x[, i[, j]])\t|回傳 x 在 list 最小的索引值\n",
        "list.insert(i, x)\t|將 x 插入 list 索引值 i 的地方\n",
        "list.pop([i])\t|取出 list 中索引值為 i 的元素，預設是最後一個\n",
        "list.remove(x)\t|移除 list 中第一個 x 元素\n",
        "list.reverse()\t|倒轉 list 中元素的順序\n",
        "list.sort([key[, reverse]])\t|排序 list 中的元素"
      ]
    },
    {
      "cell_type": "markdown",
      "metadata": {
        "id": "CEPfC4nYwcNK"
      },
      "source": [
        "### 元組 tuple ()"
      ]
    },
    {
      "cell_type": "markdown",
      "metadata": {
        "id": "B73EuJmmwYUl"
      },
      "source": [
        "- 元組 tuple 屬於不可變 (mutable) 的序列 (sequence) 型別，是不可更改的，可進行以下序列通用的計算。\n",
        "\n",
        "計算|\t說明\n",
        "-|-\n",
        "`x in s`\t|判斷 x 是否在 s 中\n",
        "`x not in s`\t|判斷 x 是否不在 s 中\n",
        "`s + t`\t|連接 s 及 t\n",
        "`s * n, n * s`\t|將 s 重複 n 次連接 s 本身\n",
        "`s[i]`\t|取得索引值 i 的元素\n",
        "`s[i:j]`\t|取得索引值 i 到 j 的子序列\n",
        "`s[i:j:k]`\t|取得索引值 i 到 j ，間隔 k 的子序列\n",
        "`len(s)`\t|回傳 s 的元素個數\n",
        "`min(s)`\t|回傳 s 中的最小值\n",
        "`max(s)`\t|回傳 s 中的最大值\n",
        "`s.index(i)`\t|取得 s 中第一次出現 i 的索引值\n",
        "`s.count(i)`\t|累計 s 中 i 出現的個數\n"
      ]
    },
    {
      "cell_type": "code",
      "metadata": {
        "id": "UMAdC1mvwhdO"
      },
      "source": [
        "t = 2, 4, 6, 8\n",
        "type(t)"
      ],
      "execution_count": null,
      "outputs": []
    },
    {
      "cell_type": "code",
      "metadata": {
        "id": "ohA0lfRQze1B"
      },
      "source": [
        "L"
      ],
      "execution_count": null,
      "outputs": []
    },
    {
      "cell_type": "code",
      "metadata": {
        "id": "oW6mwEnLwl-N"
      },
      "source": [
        "#更改會報錯\n",
        "t[0] = 1"
      ],
      "execution_count": null,
      "outputs": []
    },
    {
      "cell_type": "code",
      "metadata": {
        "id": "KXlYCiIKDtOi"
      },
      "source": [
        "2 in t"
      ],
      "execution_count": null,
      "outputs": []
    },
    {
      "cell_type": "markdown",
      "metadata": {
        "id": "XtYhHji5xVjZ"
      },
      "source": [
        "### 集合Set {}\n"
      ]
    },
    {
      "cell_type": "markdown",
      "metadata": {
        "id": "1CUyljg5xURE"
      },
      "source": [
        "- 集合set使用大括弧圍起來，但沒有重複的元素，且無序的存放元素。可將集合視為無鍵的字典物件。\n",
        "- 針對集合的`in`操作速度非常快，資料量大時更適合。\n",
        "- 不常用，但用在找出不重複的資料時好用。"
      ]
    },
    {
      "cell_type": "code",
      "metadata": {
        "id": "rdCJjxDOxWiG"
      },
      "source": [
        "s1 = {9,9,5,5,2,2,7,7}\n",
        "s2 = {9,5,2,7}\n",
        "s1 == s2"
      ],
      "execution_count": null,
      "outputs": []
    },
    {
      "cell_type": "code",
      "metadata": {
        "id": "PQFwEpzq0Kcv"
      },
      "source": [
        "s1"
      ],
      "execution_count": null,
      "outputs": []
    },
    {
      "cell_type": "code",
      "metadata": {
        "id": "lnufk7NG0hrW"
      },
      "source": [
        "# !pip install jieba"
      ],
      "execution_count": null,
      "outputs": []
    },
    {
      "cell_type": "code",
      "metadata": {
        "id": "ElCI5lmUZd7P"
      },
      "source": [
        "import jieba\n",
        "\n",
        "text = \"\"\"2022 iThome 鐵人賽\n",
        "iThome 鐵人賽是 IT 圈的年度盛事，是推動台灣 IT 技術向上成長的重要力量！每年逾千名 IT 行內人透過鐵人賽「連續 30 天發表技術文章不中斷」，寫出一整年的成長與學習、爆發驚人的技術能量。\n",
        "鐵人們在賽事中寫下的成果，深獲業界好評與肯定。在博碩文化與 iThome 攜手合作之下，從 2018 年開始，陸續出版了多位得獎者的作品，讓得獎的鐵人們得以分享他們的榮耀與成果，幫助更多的讀者群、發揮更大的影響力，並且在寫code的人生中，為自己寫下最珍貴的那一頁。\n",
        "在 iThome 鐵人賽的 30 天挑戰中，參賽者每一天都必須努力趕在午夜 12 點前、克服萬難，按下【送出】鍵，更別說賽期中還有中秋、國慶兩大殺手連假。當你已經艱辛奮鬥，攀越學業、社交、職場、家庭等一座座山峰，不管是喘氣休息、還是正駐足欣賞當前美景，是否還有勇氣與毅力，繼續登頂？許多鐵人們回想參賽以來最大的收獲，往往就是「原來我做得到」。\n",
        "越來越多 IT 人透過 iThome 鐵人賽展現自我，並自豪地將賽事成果列入自己的履歷（讓徵才企業垂涎不已）。不用高估世界，也不用低估自己，今年就和眾多 IT 同儕一起喚醒心中最強大的鐵人！再一步，世界就在你的腳下。\"\"\"\n",
        "\n",
        "wordlist = jieba.cut(text,cut_all=False)\n",
        "wordlist = [ seg for seg in wordlist ]\n",
        "\n",
        "wordlist"
      ],
      "execution_count": null,
      "outputs": []
    },
    {
      "cell_type": "code",
      "metadata": {
        "id": "oBT4TyDGcons"
      },
      "source": [
        "wordset = set(wordlist)\n",
        "wordset"
      ],
      "execution_count": null,
      "outputs": []
    },
    {
      "cell_type": "code",
      "metadata": {
        "id": "xBkiJvWG2ZRs"
      },
      "source": [
        "'鐵人' in wordlist"
      ],
      "execution_count": null,
      "outputs": []
    },
    {
      "cell_type": "code",
      "metadata": {
        "id": "kRC_l6BDM2Iq"
      },
      "source": [
        "%%timeit \n",
        "'鐵人' in wordlist"
      ],
      "execution_count": null,
      "outputs": []
    },
    {
      "cell_type": "code",
      "metadata": {
        "id": "TwD4ebjbM9Qb"
      },
      "source": [
        "%timeit '鐵人' in wordset "
      ],
      "execution_count": null,
      "outputs": []
    },
    {
      "cell_type": "markdown",
      "metadata": {
        "id": "oLfIEvonyY8i"
      },
      "source": [
        "計算\t|說明\n",
        "    -|-\n",
        "    `x in s`\t|判斷 x 是否在 s 中\n",
        "    `x not in s`\t|判斷 x 是否不在 s 中\n",
        "    `s1 & s2`\t|且運算，取得 s1 與 s2 的交集，等於 s1.intersection(s2)\n",
        "    `s2 \\| s2`\t|或運算，取得 s1 與 s2 的聯集，等於 s1.union(s2)\n",
        "    `s1 ^ s2`\t|對稱差運算，取得 s1 與 s2 的對稱差集，等於 s1.symmetric_difference(s2)\n",
        "    `s1 - s2`\t|差運算，取得 s1 與 s2 的差集，等於 s1.difference(s2)\n",
        "    `s1 < s2`\t|判斷 s1 是否為 s2 的真子集\n",
        "    `s1 <= s2`\t|判斷 s1 是否為 s2 的子集，等於 s1.issubset(s2)\n",
        "    `s1 > s2`\t|判斷 s2 是否為 s1 的真子集\n",
        "    `s1 >= s2`\t|判斷 s2 是否為 s1 的子集，等於 s1.issuperset(s2)\n",
        "    `len(s)`\t|回傳 s 的元素個數\n",
        "    `min(s)`\t|回傳 s 中的最小值， s 中的元素必須是相同型態\n",
        "    `max(s)`\t|回傳 s 中的最大值， s 中的元素必須是相同型態\n",
        "\n",
        "\n",
        "- 由於 set 型態是可變的，因此有額外兩個新增與刪除元素的方法：\n",
        "\n",
        "方法|說明\n",
        "-|-\n",
        "`s.add(e)`|增加 e 為 s 的元素\n",
        "`s.remove(e)`\t|從 s 中刪除元素 e\n"
      ]
    },
    {
      "cell_type": "markdown",
      "metadata": {
        "id": "QwX0KwQBVi-1"
      },
      "source": [
        "### 字典Dictionary"
      ]
    },
    {
      "cell_type": "markdown",
      "metadata": {
        "id": "9IWvGnwmVq0I"
      },
      "source": [
        "- 以`{}`以及冒號`:`來分隔鍵與值，以創建字典物件\n",
        "- 建立字典變數可利用大括弧，裡頭以 `key:value` 為配對的資料項目，每一筆資料再以逗號區隔開，例如\n",
        "`d1 = {one:\"a\", two:\"b\"}`\n",
        "\n",
        "- 使用字典須注意， key 必須是不可變的資料型態，且不可重複，如數字、字串 (string) 等； value 沒有限制，因此有需要的話，使用串列 (list) 或字典皆可。\n",
        "\n",
        "- 也可以利用字典型態的建構子 (constructor) 建立物件。"
      ]
    },
    {
      "cell_type": "markdown",
      "source": [
        "- 字典、串列與JSON相似，用法可以相互參照\n",
        "- 一個公車交通資訊API [MOTC Transport API V2](https://ptx.transportdata.tw/MOTC/?t=Tourism&v=2#/)"
      ],
      "metadata": {
        "id": "Ho0QRmRsEU4B"
      }
    },
    {
      "cell_type": "markdown",
      "source": [
        "- 一個產品資訊API\n",
        "    ```\n",
        "    //\n",
        "    //取得產品列表(Get)：/api/livejs/v1/customer/{api_path}/products\n",
        "    {\n",
        "    \"status\": true,\n",
        "    \"products\": [\n",
        "        {\n",
        "        \"category\": \"產品分類 (String)\",\n",
        "        \"image\": \"產品圖片 (String)\",\n",
        "        \"id\": \"產品ID  (String)\",\n",
        "        \"title\": \"產品名稱  (String)\",\n",
        "        \"origin_price\": \"產品原始價錢 (Number)\",\n",
        "        \"price\": \"產品銷售價錢 (Number)\"\n",
        "        }\n",
        "    ]\n",
        "    }\n",
        "    ```"
      ],
      "metadata": {
        "id": "9mg2VtUeDAH5"
      }
    },
    {
      "cell_type": "code",
      "source": [
        "{\"數學\": [100, 90, 80, 70] }"
      ],
      "metadata": {
        "id": "zdrucczYE6al"
      },
      "execution_count": null,
      "outputs": []
    },
    {
      "cell_type": "code",
      "source": [
        "score = {\"Math\": [183, 70], \"English\": [163, 45]}"
      ],
      "metadata": {
        "id": "aC9BgZiSE-EA"
      },
      "execution_count": null,
      "outputs": []
    },
    {
      "cell_type": "code",
      "source": [
        "score"
      ],
      "metadata": {
        "id": "qTzsMUESFGBc"
      },
      "execution_count": null,
      "outputs": []
    },
    {
      "cell_type": "code",
      "metadata": {
        "id": "xZlstgZbWVuS"
      },
      "source": [
        "{\"one\":\"a\", \"two\":\"b\"}"
      ],
      "execution_count": null,
      "outputs": []
    },
    {
      "cell_type": "code",
      "source": [
        "dict(one=\"a\", two=\"b\")"
      ],
      "metadata": {
        "id": "vNMqqvQTFLUW"
      },
      "execution_count": null,
      "outputs": []
    },
    {
      "cell_type": "code",
      "source": [
        "dict({\"one\":\"a\", \"two\":\"b\"})"
      ],
      "metadata": {
        "id": "5AdTF5ZeFM03"
      },
      "execution_count": null,
      "outputs": []
    },
    {
      "cell_type": "code",
      "source": [
        "dict(zip((\"one\", \"two\"), (\"a\", \"b\")))"
      ],
      "metadata": {
        "id": "75nYlnOEFPE0"
      },
      "execution_count": null,
      "outputs": []
    },
    {
      "cell_type": "code",
      "metadata": {
        "id": "f75wL86m4YaP"
      },
      "source": [
        "dict([[\"one\", \"a\"], [\"two\", \"b\"]])"
      ],
      "execution_count": null,
      "outputs": []
    },
    {
      "cell_type": "markdown",
      "metadata": {
        "id": "cb6Y3ySDWvaS"
      },
      "source": [
        "- 字典物件可進行以下的運算\n",
        "\n",
        "|計算|\t說明|\n",
        "-|-\n",
        "d[key]\t|從 d 中取得 key 的 value\n",
        "d[key] = value\t|指定 d 的 key 的值為 value\n",
        "del d[key]\t|刪除 d 的 key 值\n",
        "key in d\t|判斷 key 是否在 d 中\n",
        "key not in d\t|判斷 key 是否不在 d 中\n",
        "iter(d)\t|回傳由 d 的 key 建立的迭代器\n",
        "len(d)\t|回傳 d 的配對資料個數"
      ]
    },
    {
      "cell_type": "markdown",
      "metadata": {
        "id": "nV9n9aSyXAAR"
      },
      "source": [
        "- 字典物件的方法 (method)\n",
        "\n",
        "|方法|\t描述|\n",
        "-|-\n",
        "dict.clear()\t|清空 dict 的所有配對資料\n",
        "dict.copy()\t|回傳 dict 的拷貝\n",
        "classmethod dict.fromkeys(seq[, value])\t|由 seq 中的元素構成 key ，每個 key 都給相同的 value 值\n",
        "dict.get(key[, default])\t|從 dict 中取得 key 的 value ，若無此 key 則回傳 default ， default 預設為 None\n",
        "dict.items()\t|回傳 dict_items 物件，使 key:value 儲存為序對，然後依序儲存在 dict_items 物件中\n",
        "dict.keys()\t|回傳 dict_items 物件，使 key 依序儲存在 dict_items 物件中\n",
        "dict.pop(key[, default])\t|將 key 的 value 從 dict 移除，若無此 kay ，回傳 default\n",
        "dict.popitem()\t|從 dict 移除任意一組 key:value\n",
        "dict.setdefault(key[, default])\t|如果 key 在 dict 中，回傳 value 值，反之，將 key:default 加入 dict 之中\n",
        "dict.update([other])\t|將 dict 以 other 更新\n",
        "dict.values()\t|回傳 dict_items 物件，使 value 依序儲存在 dict_items 物件中\n"
      ]
    },
    {
      "cell_type": "code",
      "metadata": {
        "id": "zCjgtIELt_Po"
      },
      "source": [
        "d1 = {'a' : 'C8763', \"b\" : [9, 5, 2, 7]}\n",
        "d1"
      ],
      "execution_count": null,
      "outputs": []
    },
    {
      "cell_type": "code",
      "metadata": {
        "id": "4SlfFqXU5rNT"
      },
      "source": [
        "type(d1[\"b\"])"
      ],
      "execution_count": null,
      "outputs": []
    },
    {
      "cell_type": "code",
      "metadata": {
        "id": "RdJ02qDbuDRq"
      },
      "source": [
        "d1[\"天線寶寶\"]=\"你好\"\n",
        "d1"
      ],
      "execution_count": null,
      "outputs": []
    },
    {
      "cell_type": "code",
      "metadata": {
        "id": "O4OpK27r6A1Y"
      },
      "source": [
        "bike = [{\"地點\":\"台中火車站\",\"車位\":0},{\"地點\":\"高美濕地\",\"車位\":100}]"
      ],
      "execution_count": null,
      "outputs": []
    },
    {
      "cell_type": "code",
      "metadata": {
        "id": "y3TYe_PjuH2t"
      },
      "source": [
        "d1['b']"
      ],
      "execution_count": null,
      "outputs": []
    },
    {
      "cell_type": "code",
      "metadata": {
        "id": "_irZR6qluL94"
      },
      "source": [
        "'b' in d1"
      ],
      "execution_count": null,
      "outputs": []
    },
    {
      "cell_type": "code",
      "metadata": {
        "id": "qi3nSp6QuP_K"
      },
      "source": [
        "del d1['b']\n",
        "d1"
      ],
      "execution_count": null,
      "outputs": []
    },
    {
      "cell_type": "code",
      "metadata": {
        "id": "85JNHCiDuWZS"
      },
      "source": [
        "d1.keys()"
      ],
      "execution_count": null,
      "outputs": []
    },
    {
      "cell_type": "code",
      "metadata": {
        "id": "q898i3dEuaQR"
      },
      "source": [
        "d1.values()"
      ],
      "execution_count": null,
      "outputs": []
    },
    {
      "cell_type": "code",
      "metadata": {
        "id": "ssU0_oTS3Som"
      },
      "source": [
        "d1.items()"
      ],
      "execution_count": null,
      "outputs": []
    },
    {
      "cell_type": "markdown",
      "metadata": {
        "id": "d3Y7iVhiug3C"
      },
      "source": [
        "- 可以update方法將字典合併"
      ]
    },
    {
      "cell_type": "code",
      "metadata": {
        "id": "--Qq2vucurMp"
      },
      "source": [
        "d1.update({'b':9487 , 'c': 'ithome'})\n",
        "d1  # 'b':[9,5,2,7]被覆寫掉了"
      ],
      "execution_count": null,
      "outputs": []
    },
    {
      "cell_type": "markdown",
      "metadata": {
        "id": "IdIiR6zAGgqG"
      },
      "source": [
        "## Python控制敘述"
      ]
    },
    {
      "cell_type": "markdown",
      "metadata": {
        "id": "1mABK55VGqej"
      },
      "source": [
        "### 條件判斷 `if`, `elif`, `else`"
      ]
    },
    {
      "cell_type": "code",
      "metadata": {
        "id": "S4E8-KI9rIly",
        "colab": {
          "base_uri": "https://localhost:8080/"
        },
        "outputId": "05652e63-3054-450e-ff8c-4758da2281c0"
      },
      "source": [
        "if True:\n",
        "  print(\"YES\")"
      ],
      "execution_count": null,
      "outputs": [
        {
          "output_type": "stream",
          "name": "stdout",
          "text": [
            "YES\n"
          ]
        }
      ]
    },
    {
      "cell_type": "code",
      "metadata": {
        "id": "NaiboZPgG6ti",
        "colab": {
          "base_uri": "https://localhost:8080/"
        },
        "outputId": "2dbd8ae1-56cf-4a69-83ca-6e493a56eb40"
      },
      "source": [
        "if 1:\n",
        "  print(\"YES\")"
      ],
      "execution_count": null,
      "outputs": [
        {
          "output_type": "stream",
          "name": "stdout",
          "text": [
            "YES\n"
          ]
        }
      ]
    },
    {
      "cell_type": "code",
      "metadata": {
        "id": "ZWN3T_uJG8-J"
      },
      "source": [
        "%%timeit\n",
        "if 8+9 is 17:\n",
        "  print(\"YES\")"
      ],
      "execution_count": null,
      "outputs": []
    },
    {
      "cell_type": "code",
      "metadata": {
        "id": "EJ6EC8dqHPwZ"
      },
      "source": [
        "%%timeit\n",
        "if 8+9 == 17:\n",
        "  print(\"YES\")"
      ],
      "execution_count": null,
      "outputs": []
    },
    {
      "cell_type": "code",
      "metadata": {
        "id": "OGBToi4lnV04"
      },
      "source": [
        "鐵人幫第n日 = 20\n",
        "鐵人幫文章篇數 = 19 \n",
        "if 鐵人幫文章篇數 - 鐵人幫文章篇數 <= 0:\n",
        "    print(\"快點寫! 連庫拉皮卡要下船了阿\")\n",
        "else: \n",
        "    print(\"不用趕稿我就讚!\")"
      ],
      "execution_count": null,
      "outputs": []
    },
    {
      "cell_type": "code",
      "metadata": {
        "id": "v9JlAUc9o0Wl"
      },
      "source": [
        "鐵人幫第n日 = 19\n",
        "鐵人幫文章篇數 = 19 \n",
        "if 鐵人幫文章篇數 - 鐵人幫文章篇數 == 0:\n",
        "    print(\"快趕稿，別富奸阿!!!!\")\n",
        "elif 鐵人幫文章篇數 - 鐵人幫文章篇數 < 0:\n",
        "    print(\"斷更! 挑戰失敗\")\n",
        "else: \n",
        "    print(\"持續更新我就讚!\")"
      ],
      "execution_count": null,
      "outputs": []
    },
    {
      "cell_type": "markdown",
      "metadata": {
        "id": "HIHNeolCJNWg"
      },
      "source": [
        "### 迴圈"
      ]
    },
    {
      "cell_type": "markdown",
      "metadata": {
        "id": "zwW3MXc1_6sq"
      },
      "source": [
        "迴圈是程式語言的特徵，讓電腦協助你重覆執行某項判斷，主流用法就是for迴圈與while迴圈，另外python還有一個枚舉可以使用。\n",
        "\n",
        "\n",
        "### For迴圈\n",
        "- 先來個for迴圈吧，基本上for迴圈常與list結合使用，也常配合`range()`。\n",
        "\n",
        "    ```\n",
        "    for 指標 in 要判別的資料集:\n",
        "        執行項目\n",
        "    ```\n"
      ]
    },
    {
      "cell_type": "code",
      "metadata": {
        "id": "Xa3v9qxZJw3p"
      },
      "source": [
        "for i in range(10):\n",
        "  print (i, \"is less than 10\")"
      ],
      "execution_count": null,
      "outputs": []
    },
    {
      "cell_type": "code",
      "metadata": {
        "id": "u8EClBs1JV7X"
      },
      "source": [
        "for x in range(10):\n",
        "  if x==3:\n",
        "    continue # go immediately to the next iteration\n",
        "  if x==8:    \n",
        "    break # quit the loop entirely\n",
        "  print(x)"
      ],
      "execution_count": null,
      "outputs": []
    },
    {
      "cell_type": "code",
      "metadata": {
        "id": "JOsTCx7dEEjJ"
      },
      "source": [
        "for i in range(5): #[0,1,2,3,4]\n",
        "    print(i)"
      ],
      "execution_count": null,
      "outputs": []
    },
    {
      "cell_type": "code",
      "metadata": {
        "id": "SKpz5Q0FBnBH"
      },
      "source": [
        "五俗藍 = [\"紅茶\", \"綠茶\", \"烏龍\", \"鐵觀音\", \"多多冰沙\", \"咖啡冰沙\", \"抹茶拿鐵\"] "
      ],
      "execution_count": null,
      "outputs": []
    },
    {
      "cell_type": "code",
      "metadata": {
        "id": "9xzcYwKc2FJ7"
      },
      "source": [
        "for i in range(len(五俗藍)): # 以len()取出串列內容個數\n",
        "    print(五俗藍[i])"
      ],
      "execution_count": null,
      "outputs": []
    },
    {
      "cell_type": "code",
      "metadata": {
        "id": "8mvMpIF61_Bi"
      },
      "source": [
        "for i in 五俗藍:\n",
        "    print(i)"
      ],
      "execution_count": null,
      "outputs": []
    },
    {
      "cell_type": "markdown",
      "metadata": {
        "id": "NfKEe2JnARFs"
      },
      "source": [
        "### 補充 range()\n",
        "\n",
        "- range()是建構式(constructor)，用來表示不可變(immutable)的數字序列，例如[0,1,2,3,4]。\n",
        "- 通常配合for迴圈產生內容。\n",
        "- 建構式比已經占用記憶體位置的list省空間。\n",
        "\n",
        "    ```\n",
        "    range(start, stop[, step])\n",
        "    range(stop)\n",
        "    ```"
      ]
    },
    {
      "cell_type": "code",
      "metadata": {
        "id": "FzrOlfrxD4_j"
      },
      "source": [
        "a = range(1,11,2)"
      ],
      "execution_count": null,
      "outputs": []
    },
    {
      "cell_type": "code",
      "source": [
        "a.start\n",
        "a.step"
      ],
      "metadata": {
        "colab": {
          "base_uri": "https://localhost:8080/"
        },
        "id": "2NG7Rc-3mRJs",
        "outputId": "c81d6234-bcf3-4009-bce5-ad921df802ea"
      },
      "execution_count": null,
      "outputs": [
        {
          "output_type": "execute_result",
          "data": {
            "text/plain": [
              "2"
            ]
          },
          "metadata": {},
          "execution_count": 40
        }
      ]
    },
    {
      "cell_type": "code",
      "source": [
        "a.index(5)"
      ],
      "metadata": {
        "colab": {
          "base_uri": "https://localhost:8080/"
        },
        "id": "raaS--LElqKV",
        "outputId": "0b55cbf5-c47a-4497-eb63-22277d1dfbd5"
      },
      "execution_count": null,
      "outputs": [
        {
          "output_type": "execute_result",
          "data": {
            "text/plain": [
              "2"
            ]
          },
          "metadata": {},
          "execution_count": 43
        }
      ]
    },
    {
      "cell_type": "code",
      "source": [
        "i = iter(a)\n",
        "i"
      ],
      "metadata": {
        "colab": {
          "base_uri": "https://localhost:8080/"
        },
        "id": "5AqXoV_mmqEu",
        "outputId": "98ec9e58-c078-4a78-fcaa-a4f7d05d8280"
      },
      "execution_count": null,
      "outputs": [
        {
          "output_type": "execute_result",
          "data": {
            "text/plain": [
              "<range_iterator at 0x7effefe32600>"
            ]
          },
          "metadata": {},
          "execution_count": 44
        }
      ]
    },
    {
      "cell_type": "code",
      "source": [
        "next(i)"
      ],
      "metadata": {
        "id": "Yw2oyBcQm2bO"
      },
      "execution_count": null,
      "outputs": []
    },
    {
      "cell_type": "markdown",
      "metadata": {
        "id": "YdY-mhy2lUjz"
      },
      "source": [
        "### [Do it] HW3 : 九九乘法表"
      ]
    },
    {
      "cell_type": "markdown",
      "metadata": {
        "id": "_NUCX8nclUj1"
      },
      "source": [
        "- 試輸出以下樣式\n",
        "```\n",
        "2*1=02 2*2=04 2*3=06 2*4=08 2*5=10 2*6=12 2*7=14 2*8=16 2*9=18 \n",
        "3*1=03 3*2=06 3*3=09 3*4=12 3*5=15 3*6=18 3*7=21 3*8=24 3*9=27 \n",
        "4*1=04 4*2=08 4*3=12 4*4=16 4*5=20 4*6=24 4*7=28 4*8=32 4*9=36 \n",
        "5*1=05 5*2=10 5*3=15 5*4=20 5*5=25 5*6=30 5*7=35 5*8=40 5*9=45 \n",
        "6*1=06 6*2=12 6*3=18 6*4=24 6*5=30 6*6=36 6*7=42 6*8=48 6*9=54 \n",
        "7*1=07 7*2=14 7*3=21 7*4=28 7*5=35 7*6=42 7*7=49 7*8=56 7*9=63 \n",
        "8*1=08 8*2=16 8*3=24 8*4=32 8*5=40 8*6=48 8*7=56 8*8=64 8*9=72 \n",
        "9*1=09 9*2=18 9*3=27 9*4=36 9*5=45 9*6=54 9*7=63 9*8=72 9*9=81 \n",
        "```"
      ]
    },
    {
      "cell_type": "code",
      "metadata": {
        "id": "BBh2vibJlUj1"
      },
      "source": [
        "?print"
      ],
      "execution_count": null,
      "outputs": []
    },
    {
      "cell_type": "code",
      "source": [
        "# Your Code Here:\n",
        "\n",
        "\n"
      ],
      "metadata": {
        "id": "_U58kIOElUj1"
      },
      "execution_count": null,
      "outputs": []
    },
    {
      "cell_type": "markdown",
      "metadata": {
        "id": "lW0kZXDpBnBG"
      },
      "source": [
        "### enumerate()枚舉\n",
        "\n",
        "假設我們要迭代list成員的名稱，並獲取list中每個成員的位置。可以用enumerate，又稱枚舉"
      ]
    },
    {
      "cell_type": "code",
      "metadata": {
        "id": "6kd2F0eIBnBH"
      },
      "source": [
        "for i, v in enumerate(五俗藍):\n",
        "    print(i,v)"
      ],
      "execution_count": null,
      "outputs": []
    },
    {
      "cell_type": "markdown",
      "metadata": {
        "id": "8nM73obEICAd"
      },
      "source": [
        "### while迴圈\n",
        "\n",
        "- while迴圈，除非成立才會跳出循環。\n",
        "- 注意成為無窮迴圈。\n",
        "- 適合不知道要重複執行多少次任務時。\n",
        "\n",
        "    ```\n",
        "    初始值\n",
        "    while 條件式：\n",
        "       程式區塊\n",
        "       索引變化\n",
        "    ```"
      ]
    },
    {
      "cell_type": "code",
      "metadata": {
        "id": "61sIbGMMIMv4"
      },
      "source": [
        "x=0  #設定初始值\n",
        "while x < 10:  #條件判斷\n",
        "  print (x, \"is less than 10\")  #執行陳述\n",
        "  x += 1  #初值增減 x=x+1"
      ],
      "execution_count": null,
      "outputs": []
    },
    {
      "cell_type": "code",
      "metadata": {
        "id": "27Mj_-q7GMiz"
      },
      "source": [
        "count = 0 \n",
        "\n",
        "while count < 6: \n",
        "    print('The count is:', count)\n",
        "    count += 1  #count=count+1\n",
        "\n",
        "print (\"Good bye!\")"
      ],
      "execution_count": null,
      "outputs": []
    },
    {
      "cell_type": "code",
      "metadata": {
        "id": "PDURjPN1GPYF"
      },
      "source": [
        "# continue\n",
        "i = 1 \n",
        "while (i < 6): \n",
        "    i += 1   #  i=i+1\n",
        "    if i%2 > 0: #1\n",
        "        continue \n",
        "    print(i)"
      ],
      "execution_count": null,
      "outputs": []
    },
    {
      "cell_type": "code",
      "metadata": {
        "id": "qGajEMhzGTHk"
      },
      "source": [
        "# break\n",
        "i = 1 \n",
        "while (1):\n",
        "    print(i) \n",
        "    i += 1 \n",
        "    if i > 10:\n",
        "        break"
      ],
      "execution_count": null,
      "outputs": []
    },
    {
      "cell_type": "markdown",
      "metadata": {
        "id": "1J0wg1qrGVxU"
      },
      "source": [
        "*現學現賣之「金庫密碼」"
      ]
    },
    {
      "cell_type": "code",
      "metadata": {
        "id": "VHmhbgspGY6s"
      },
      "source": [
        "password = '' #先設一個空字串讓程式知道\n",
        "\n",
        "while password != \"1234\":\n",
        "  password = input(\"快點輸入密碼>>\")\n",
        "  \n",
        "  if password == '1234':\n",
        "    print(\"進來吧\")\n",
        "    break\n",
        "  else:\n",
        "    print(\"密碼錯誤再來一次\")  "
      ],
      "execution_count": null,
      "outputs": []
    },
    {
      "cell_type": "markdown",
      "metadata": {
        "id": "TW9dZkrB7vA3"
      },
      "source": [
        "- 通常密碼會單獨儲存在另一個檔案，作為環境變數。"
      ]
    },
    {
      "cell_type": "code",
      "metadata": {
        "id": "H4lxoQDr41tZ"
      },
      "source": [
        "%%writefile config.py\n",
        "\n",
        "# 金庫密碼\n",
        "SERECT = '5678'\n",
        "SERECT2 = '1111115678'"
      ],
      "execution_count": null,
      "outputs": []
    },
    {
      "cell_type": "code",
      "metadata": {
        "id": "3CrBLpBO5r5R"
      },
      "source": [
        "import config\n",
        "\n",
        "password = '' #先設一個空字串讓程式知道\n",
        "\n",
        "while password != config.SERECT:\n",
        "  password = input(\"快點輸入密碼>>\")\n",
        "  \n",
        "  if password == config.SERECT:\n",
        "    print(\"進來吧\")\n",
        "    break\n",
        "  else:\n",
        "    print(\"密碼錯誤再來一次\")  \n",
        "\n",
        "print(f\"註: 密碼為 {config.SERECT}\")"
      ],
      "execution_count": null,
      "outputs": []
    },
    {
      "cell_type": "markdown",
      "metadata": {
        "id": "uU9-G8Th8Xxj"
      },
      "source": [
        "- [註]: 在 Colab 如果遇到重複寫入 `config.py` 卻未更新參數時，請在選單[執行階段]選擇[重新啟動執行階段]，再執行一次。"
      ]
    },
    {
      "cell_type": "markdown",
      "metadata": {
        "id": "dv8BsUE9V6Dt"
      },
      "source": [
        "### 例外陳述"
      ]
    },
    {
      "cell_type": "markdown",
      "metadata": {
        "id": "1QwaYCYQV-E9"
      },
      "source": [
        "- 例外處理 (exception handling) 是利用 try 、 except 、 finally 及 else\n",
        "- 所謂例外 (exception) 是指已知有可能發生的錯誤 (error) ，像是開啟檔案，檔案卻不存在，或除數為 0 等等的情況。\n"
      ]
    },
    {
      "cell_type": "code",
      "metadata": {
        "id": "u8pW3M6axwuK"
      },
      "source": [
        "1/0"
      ],
      "execution_count": null,
      "outputs": []
    },
    {
      "cell_type": "code",
      "metadata": {
        "id": "IfCWVwZZWzHs"
      },
      "source": [
        "try:\n",
        "    result = 1 / 0\n",
        "except ZeroDivisionError:\n",
        "    result = 0\n",
        "    print(\"......\")\n",
        "    \n",
        "print(result)\n"
      ],
      "execution_count": null,
      "outputs": []
    },
    {
      "cell_type": "markdown",
      "metadata": {
        "id": "Kyg9-AXiWgk6"
      },
      "source": [
        "- try: 所有可能發生例外的程式碼都要放在try來嘗試是否有錯誤\n",
        "- except: 後空一格接例外類別 (class) ，底下程式區塊做相對應的例外處理\n",
        "- else:假設沒有例外發生的處理\n",
        "- finally 是例外處理結束後，無論如何都會執行的部分(可有可無)"
      ]
    },
    {
      "cell_type": "code",
      "metadata": {
        "id": "dfjTPID6YGQP"
      },
      "source": [
        "try:                     #需嘗試有無錯誤的程式區塊\n",
        "    a = 1 / 0\n",
        "except:                   #錯誤的話則...(省略ZeroDivisionError錯誤類別描述)\n",
        "    a = 0\n",
        "else:                    #未發生例外狀況則...\n",
        "    m1 = \"未發生例外狀況，粉好沒事\"\n",
        "finally:                   #無論錯誤最後一定會執行的\n",
        "    print(\"例外判斷結束句\")\n",
        "\n",
        "print(a)\n",
        "print(m1)"
      ],
      "execution_count": null,
      "outputs": []
    },
    {
      "cell_type": "code",
      "metadata": {
        "id": "MjMqhxjSzT5y"
      },
      "source": [
        "try:                     #需嘗試有無錯誤的程式區塊\n",
        "    a = 1 / None\n",
        "except:                   #錯誤的話則...(省略ZeroDivisionError錯誤類別描述)\n",
        "    a = 0\n",
        "else:                    #未發生例外狀況則...\n",
        "    m2 = \"未發生例外狀況，粉好沒事\"\n",
        "finally:                   #無論錯誤最後一定會執行的\n",
        "    print(\"例外判斷結束句\")\n",
        "\n",
        "print(a)\n",
        "print(m2)"
      ],
      "execution_count": null,
      "outputs": []
    },
    {
      "cell_type": "markdown",
      "metadata": {
        "id": "Y1V7f_WGZXgK"
      },
      "source": [
        "## 練習:以try/except撰寫模組安裝\n"
      ]
    },
    {
      "cell_type": "markdown",
      "metadata": {
        "id": "8u37VW_9cFaY"
      },
      "source": [
        "- 以try/except撰寫模組安裝，嘗試如果沒有安裝twswock模組([該模組介紹](https://twstock.readthedocs.io/zh_TW/latest/))，則安裝該模組。\n",
        "  - 提示1: 先嘗試import模組，沒有的話則安裝在import模組。\n",
        "  - 提示2: 安裝模組用到`!pip install 模組` 指令。"
      ]
    },
    {
      "cell_type": "code",
      "metadata": {
        "id": "pe5jvvSQ8j1_"
      },
      "source": [
        "# !pip install twstock"
      ],
      "execution_count": null,
      "outputs": []
    },
    {
      "cell_type": "code",
      "metadata": {
        "id": "IIovm8cG5g2W"
      },
      "source": [
        "import twstock"
      ],
      "execution_count": null,
      "outputs": []
    },
    {
      "cell_type": "code",
      "metadata": {
        "id": "acNP3e3cZ-qh"
      },
      "source": [
        "#Please answer here\n",
        "try:\n",
        "    import twstock\n",
        "except:\n",
        "    !pip install twstock\n",
        "    import twstock"
      ],
      "execution_count": null,
      "outputs": []
    },
    {
      "cell_type": "markdown",
      "metadata": {
        "id": "TY3QLDDpXzF9"
      },
      "source": [
        "## 列表推導式\n"
      ]
    },
    {
      "cell_type": "markdown",
      "metadata": {
        "id": "WOJuq2FIYh2c"
      },
      "source": [
        "- 列表推導式(list comprehension)非常帥氣，可以用英文List Creation from For Loop來理解，用以創建具有篩選能力的迴圈，其結果存為list"
      ]
    },
    {
      "cell_type": "markdown",
      "metadata": {
        "id": "P2B4ORKYcbPS"
      },
      "source": [
        "### 使用列表推導式"
      ]
    },
    {
      "cell_type": "code",
      "metadata": {
        "id": "ZdoFbIHza4rY",
        "colab": {
          "base_uri": "https://localhost:8080/"
        },
        "outputId": "3ef59a53-a103-4cb7-f8fa-6cb60af90cc0"
      },
      "source": [
        "list1 = []\n",
        "\n",
        "for i in range(10):\n",
        "    list1.append(i)\n",
        "\n",
        "print(list1)"
      ],
      "execution_count": null,
      "outputs": [
        {
          "output_type": "stream",
          "name": "stdout",
          "text": [
            "[0, 1, 2, 3, 4, 5, 6, 7, 8, 9]\n"
          ]
        }
      ]
    },
    {
      "cell_type": "code",
      "metadata": {
        "colab": {
          "base_uri": "https://localhost:8080/"
        },
        "id": "fdhrEWlA9Har",
        "outputId": "bbb28a08-8d07-4f96-d075-db3c41ce3cee"
      },
      "source": [
        "[ i  for i in range(10) ]"
      ],
      "execution_count": null,
      "outputs": [
        {
          "output_type": "execute_result",
          "data": {
            "text/plain": [
              "[0, 1, 2, 3, 4, 5, 6, 7, 8, 9]"
            ]
          },
          "metadata": {},
          "execution_count": 18
        }
      ]
    },
    {
      "cell_type": "code",
      "metadata": {
        "id": "D2dQ2QHBaCLk",
        "colab": {
          "base_uri": "https://localhost:8080/"
        },
        "outputId": "dfdfc278-63b2-4285-9073-9d8e68830afb"
      },
      "source": [
        "list2 = []\n",
        "\n",
        "for i in range(10):\n",
        "  if i%2>0:\n",
        "    list2.append(i)\n",
        "\n",
        "print(list2)"
      ],
      "execution_count": null,
      "outputs": [
        {
          "output_type": "stream",
          "name": "stdout",
          "text": [
            "[1, 3, 5, 7, 9]\n"
          ]
        }
      ]
    },
    {
      "cell_type": "code",
      "metadata": {
        "id": "K5ek8LtIZNWK",
        "colab": {
          "base_uri": "https://localhost:8080/"
        },
        "outputId": "1c41e0ff-11b5-4cde-ac4e-9d85cc4562b5"
      },
      "source": [
        "[ i for i in range(10) if i%2 > 0]"
      ],
      "execution_count": null,
      "outputs": [
        {
          "output_type": "execute_result",
          "data": {
            "text/plain": [
              "[1, 3, 5, 7, 9]"
            ]
          },
          "metadata": {},
          "execution_count": 21
        }
      ]
    },
    {
      "cell_type": "code",
      "metadata": {
        "id": "8Tf3U0EFZiXg",
        "colab": {
          "base_uri": "https://localhost:8080/"
        },
        "outputId": "4914529f-1fd0-4857-981f-6d289225bf65"
      },
      "source": [
        "[ i*i for i in range(10)]"
      ],
      "execution_count": null,
      "outputs": [
        {
          "output_type": "execute_result",
          "data": {
            "text/plain": [
              "[0, 1, 4, 9, 16, 25, 36, 49, 64, 81]"
            ]
          },
          "metadata": {},
          "execution_count": 22
        }
      ]
    },
    {
      "cell_type": "code",
      "metadata": {
        "id": "dyKGiwxkZxT0",
        "colab": {
          "base_uri": "https://localhost:8080/"
        },
        "outputId": "a3743311-570d-4dbf-c8df-5faf2b0c4915"
      },
      "source": [
        "[ i for i in range(10) if i%2>0 ]"
      ],
      "execution_count": null,
      "outputs": [
        {
          "output_type": "execute_result",
          "data": {
            "text/plain": [
              "[1, 3, 5, 7, 9]"
            ]
          },
          "metadata": {},
          "execution_count": 23
        }
      ]
    },
    {
      "cell_type": "markdown",
      "metadata": {
        "id": "BlJPJrTbclrJ"
      },
      "source": [
        "### 使用列表推導式篩選字典"
      ]
    },
    {
      "cell_type": "code",
      "metadata": {
        "id": "6KWCuLxXbPaA",
        "colab": {
          "base_uri": "https://localhost:8080/"
        },
        "outputId": "e17dd5ae-e3ca-4e76-8a9f-7eb75d58d431"
      },
      "source": [
        "dict1 = {'國文':87, '英文':78, '韓文':101, '穿越文':178, '史豔文':999}\n",
        "dict1"
      ],
      "execution_count": null,
      "outputs": [
        {
          "output_type": "execute_result",
          "data": {
            "text/plain": [
              "{'史豔文': 999, '國文': 87, '穿越文': 178, '英文': 78, '韓文': 101}"
            ]
          },
          "metadata": {},
          "execution_count": 24
        }
      ]
    },
    {
      "cell_type": "code",
      "metadata": {
        "colab": {
          "base_uri": "https://localhost:8080/"
        },
        "id": "y4CYJ4-U_HNR",
        "outputId": "eecdba77-8eed-436e-dfe1-e6acf02dfd5a"
      },
      "source": [
        "[ i for i in dict1 ]"
      ],
      "execution_count": null,
      "outputs": [
        {
          "output_type": "execute_result",
          "data": {
            "text/plain": [
              "['國文', '英文', '韓文', '穿越文', '史豔文']"
            ]
          },
          "metadata": {},
          "execution_count": 25
        }
      ]
    },
    {
      "cell_type": "code",
      "metadata": {
        "colab": {
          "base_uri": "https://localhost:8080/"
        },
        "id": "fiT67datASuO",
        "outputId": "a75f0d11-a821-4000-ebb4-c2c1f2db2a9e"
      },
      "source": [
        "dict1.keys()"
      ],
      "execution_count": null,
      "outputs": [
        {
          "output_type": "execute_result",
          "data": {
            "text/plain": [
              "dict_keys(['國文', '英文', '韓文', '穿越文', '史豔文'])"
            ]
          },
          "metadata": {},
          "execution_count": 28
        }
      ]
    },
    {
      "cell_type": "code",
      "metadata": {
        "colab": {
          "base_uri": "https://localhost:8080/"
        },
        "id": "r1y4lvfbAY6J",
        "outputId": "de301a6f-39a2-41d4-9251-e31f29aeacb4"
      },
      "source": [
        "dict1.values()"
      ],
      "execution_count": null,
      "outputs": [
        {
          "output_type": "execute_result",
          "data": {
            "text/plain": [
              "dict_values([87, 78, 101, 178, 999])"
            ]
          },
          "metadata": {},
          "execution_count": 31
        }
      ]
    },
    {
      "cell_type": "code",
      "metadata": {
        "id": "1bcl--iuc1Ku",
        "colab": {
          "base_uri": "https://localhost:8080/"
        },
        "outputId": "c90df14d-563b-435c-c7b0-df15da442bbf"
      },
      "source": [
        "[ i for i in dict1.keys()] "
      ],
      "execution_count": null,
      "outputs": [
        {
          "output_type": "execute_result",
          "data": {
            "text/plain": [
              "['國文', '英文', '韓文', '穿越文', '史豔文']"
            ]
          },
          "metadata": {},
          "execution_count": 26
        }
      ]
    },
    {
      "cell_type": "code",
      "metadata": {
        "id": "eIsiwCoQcwA4",
        "colab": {
          "base_uri": "https://localhost:8080/"
        },
        "outputId": "8f81aae9-dea9-4235-e24a-e9b8014194cf"
      },
      "source": [
        "[ i for i in dict1.values()] "
      ],
      "execution_count": null,
      "outputs": [
        {
          "output_type": "execute_result",
          "data": {
            "text/plain": [
              "[87, 78, 101, 178, 999]"
            ]
          },
          "metadata": {},
          "execution_count": 27
        }
      ]
    },
    {
      "cell_type": "code",
      "metadata": {
        "id": "1guxl-4Af1aZ",
        "colab": {
          "base_uri": "https://localhost:8080/"
        },
        "outputId": "a5ed9b1c-31d3-48a0-e016-a9efacd48d41"
      },
      "source": [
        "[k for k , v in dict1.items()]"
      ],
      "execution_count": null,
      "outputs": [
        {
          "output_type": "execute_result",
          "data": {
            "text/plain": [
              "['國文', '英文', '韓文', '穿越文', '史豔文']"
            ]
          },
          "metadata": {},
          "execution_count": 32
        }
      ]
    },
    {
      "cell_type": "code",
      "metadata": {
        "id": "JvnNsPn4gA3k",
        "colab": {
          "base_uri": "https://localhost:8080/"
        },
        "outputId": "3d61e0c7-0c15-4f0f-aa98-2f4c916aee4a"
      },
      "source": [
        "[k for k , v in dict1.items()]"
      ],
      "execution_count": null,
      "outputs": [
        {
          "output_type": "execute_result",
          "data": {
            "text/plain": [
              "['國文', '英文', '韓文', '穿越文', '史豔文']"
            ]
          },
          "metadata": {},
          "execution_count": 37
        }
      ]
    },
    {
      "cell_type": "code",
      "metadata": {
        "colab": {
          "base_uri": "https://localhost:8080/"
        },
        "id": "MaKoQiTHA0rt",
        "outputId": "6ea8640d-ef4a-4b18-dacd-2eff15b244a3"
      },
      "source": [
        "dict1.items()"
      ],
      "execution_count": null,
      "outputs": [
        {
          "output_type": "execute_result",
          "data": {
            "text/plain": [
              "dict_items([('國文', 87), ('英文', 78), ('韓文', 101), ('穿越文', 178), ('史豔文', 999)])"
            ]
          },
          "metadata": {},
          "execution_count": 34
        }
      ]
    },
    {
      "cell_type": "code",
      "metadata": {
        "colab": {
          "base_uri": "https://localhost:8080/"
        },
        "id": "bf0tRbRxA5rW",
        "outputId": "b07aa428-e0c9-4e97-f3d1-ecae1373d1fd"
      },
      "source": [
        "[ v for k,v in dict1.items()   ]"
      ],
      "execution_count": null,
      "outputs": [
        {
          "output_type": "execute_result",
          "data": {
            "text/plain": [
              "[87, 78, 101, 178, 999]"
            ]
          },
          "metadata": {},
          "execution_count": 36
        }
      ]
    },
    {
      "cell_type": "code",
      "metadata": {
        "id": "kjVYja6_gD3C",
        "colab": {
          "base_uri": "https://localhost:8080/"
        },
        "outputId": "c72755be-7c70-4ffa-ffcd-bd20cb08fd1a"
      },
      "source": [
        "[{k:v} for k , v in dict1.items()]"
      ],
      "execution_count": null,
      "outputs": [
        {
          "output_type": "execute_result",
          "data": {
            "text/plain": [
              "[{'國文': 87}, {'英文': 78}, {'韓文': 101}, {'穿越文': 178}, {'史豔文': 999}]"
            ]
          },
          "metadata": {},
          "execution_count": 38
        }
      ]
    },
    {
      "cell_type": "markdown",
      "metadata": {
        "id": "l1QshDtSdFPe"
      },
      "source": [
        "## 練習:使用列表推導式篩選\n"
      ]
    },
    {
      "cell_type": "markdown",
      "metadata": {
        "id": "pKLCMvqcAgsc"
      },
      "source": [
        "- 使用列表推導式篩選上述dict1之中，值不大於87是哪些key?"
      ]
    },
    {
      "cell_type": "code",
      "metadata": {
        "id": "pbekRm_uieF2"
      },
      "source": [
        "# Your code here\n",
        "\n",
        "[ k for k,v in dict1.items() if v<87]\n"
      ],
      "execution_count": null,
      "outputs": []
    },
    {
      "cell_type": "markdown",
      "metadata": {
        "id": "7fPXV_hqDQM7"
      },
      "source": [
        "- 請執行以下程式，並使用列表推導式篩選出文字的彈幕\n",
        "  - 提示: 需先用for迴圈解析list，再解析每個dict，其中key = 其中key = \"text\"。也就是要2個for迴圈+if條件判斷。"
      ]
    },
    {
      "cell_type": "code",
      "metadata": {
        "id": "z_ztOPzSCyr6",
        "colab": {
          "base_uri": "https://localhost:8080/"
        },
        "outputId": "d06fddbd-beba-46e8-efe8-f0d47b325871"
      },
      "source": [
        "import requests\n",
        "\n",
        "def get_danmu(sn):\n",
        "  \"\"\"取得巴哈姆特動漫瘋彈幕。\n",
        "  \n",
        "  動漫瘋彈幕為觀眾自發性留言，如果影片序號存在，\n",
        "  則抓取彈幕JSON檔。\n",
        "  Args:\n",
        "    sn: int \n",
        "    影片的編號，例如: https://ani.gamer.com.tw/animeVideo.php?sn=22259 \n",
        "    sn = 22259。\n",
        "  Returns:\n",
        "    list(dict())，例如:\n",
        "    [{\n",
        "        'text': '簽', \n",
        "        'color': '#FFFFFF', \n",
        "        'size': 1, \n",
        "        'position': 0, \n",
        "        'time': 0, \n",
        "        'sn': 23449942, \n",
        "        'userid': 'ava26'\n",
        "        },...]\n",
        "  \"\"\"\n",
        "  data = {'sn': sn}\n",
        "  h = {\n",
        "      'Content-Type':\n",
        "      'application/x-www-form-urlencoded;charset=utf-8',\n",
        "      'origin':\n",
        "      'https://ani.gamer.com.tw',\n",
        "      'authority':\n",
        "      'ani.gamer.com.tw',\n",
        "      'user-agent':\n",
        "      'Mozilla/5.0 (Windows NT 10.0; Win64; x64) AppleWebKit/537.36 (KHTML, like Gecko) Chrome/85.0.4183.83 Safari/537.36'\n",
        "  }\n",
        "\n",
        "  try: \n",
        "    r = requests.post(\n",
        "      'https://ani.gamer.com.tw/ajax/danmuGet.php', \n",
        "      data=data, \n",
        "      headers=h)\n",
        "    r.status_code == 200\n",
        "    res = r.json()\n",
        "    print(f\"動畫瘋sn:{sn}計{len(res)}篇彈幕\")\n",
        "  except:\n",
        "    print(f'彈幕下載失敗status_code= {r.status_code}')\n",
        "  return res\n",
        "\n",
        "if __name__ == \"__main__\":\n",
        "    j = get_danmu(25560)\n",
        "    print(j[:3])"
      ],
      "execution_count": null,
      "outputs": [
        {
          "output_type": "stream",
          "name": "stdout",
          "text": [
            "動畫瘋sn:25560計2397篇彈幕\n",
            "[{'text': '頭香', 'color': '#FFFFFF', 'size': 1, 'position': 0, 'time': 0, 'sn': 23358087, 'userid': 'h54321'}, {'text': 'BBQ蘿莉控 我在這邊', 'color': '#FF0026', 'size': 1, 'position': 0, 'time': 0, 'sn': 23358121, 'userid': 'wl03018809'}, {'text': '簽', 'color': '#BEBEBE', 'size': 2, 'position': 2, 'time': 0, 'sn': 23358134, 'userid': 'ayung0227'}]\n"
          ]
        }
      ]
    },
    {
      "cell_type": "code",
      "metadata": {
        "id": "crvILqZPC61z"
      },
      "source": [
        "[{'text': '頭香', 'color': '#FFFFFF', 'size': 1, 'position': 0, 'time': 0, 'sn': 23358087, 'userid': 'h54321'},\n",
        " {'text': 'BBQ蘿莉控 我在這邊', 'color': '#FF0026', 'size': 1, 'position': 0, 'time': 0, 'sn': 23358121, 'userid': 'wl03018809'}, \n",
        " {'text': '簽', 'color': '#BEBEBE', 'size': 2, 'position': 2, 'time': 0, 'sn': 23358134, 'userid': 'ayung0227'}]\n"
      ],
      "execution_count": null,
      "outputs": []
    },
    {
      "cell_type": "code",
      "metadata": {
        "id": "uTEp3T6wxNPD"
      },
      "source": [
        "list2 = []\n",
        "\n",
        "for i in j:  # 開list\n",
        "    for k,v in i.items(): # 開dict\n",
        "          if k == 'text':\n",
        "              list2.append(v)\n",
        "\n",
        "list2"
      ],
      "execution_count": null,
      "outputs": []
    },
    {
      "cell_type": "code",
      "metadata": {
        "id": "3pfjaXvvynEu"
      },
      "source": [
        "[ v \n",
        " for i in j \n",
        " for k,v in i.items() \n",
        " if k == 'text'\n",
        " ]"
      ],
      "execution_count": null,
      "outputs": []
    },
    {
      "cell_type": "code",
      "metadata": {
        "id": "gblAeVT4DE57"
      },
      "source": [
        "# Your code here\n",
        "\n",
        "[ ? for ? in ? for ?,? in ? if ?=='text']"
      ],
      "execution_count": null,
      "outputs": []
    },
    {
      "cell_type": "markdown",
      "metadata": {
        "id": "758vCJ0FKtv2"
      },
      "source": [
        "## 字典推導式"
      ]
    },
    {
      "cell_type": "code",
      "metadata": {
        "id": "jkT4ViBnAxPe"
      },
      "source": [
        "import jieba\n",
        "\n",
        "text = \"\"\"挑戰 iThome 鐵人賽\n",
        "喚醒心中最強大的鐵人\n",
        "iThome 鐵人賽已經是 IT 圈的年度盛事，也是推動台灣 IT 技術向上成長的重要力量！無數的技術人報名鐵人賽「連續 30 天發表技術文章不中斷」爆發驚人的技術能量，寫出一整年的成長與學習。\n",
        "鐵人們在 iThome 鐵人賽中寫下的成果受到業界肯定，博碩文化與 iThome 合作，第 12 屆的得獎作品正在陸續出版，而 2021 年第 13 屆 iThome 鐵人賽的得獎者，依然有機會將作品出版成書。\n",
        "挑戰 iThome 鐵人賽不容易的事，在 30 天的挑戰中，挑戰者每一天都必須努力趕在晚上 12 點之前克服萬難，按下【送出】鍵。這麼艱鉅的挑戰，許多人懷疑自己是否能做到？挑戰的第一步，就是不要低估自己。許多鐵人們回想參賽以來最大的收獲，往往就是「原來我做得到」。\n",
        "成功挑戰 iThome 鐵人賽是 IT 人技術生涯上耀眼的成績，越來越多企業將 iThome 鐵人賽的成績作為徵才的重要參考。優秀的 IT 人們，不用高估世界，也不用低估自己，今年就和眾多 IT 人一起喚醒心中最強大的鐵人！\"\"\"\n",
        "\n",
        "wordlist = jieba.cut(text,cut_all=False)\n",
        "wordlist = [ seg for seg in wordlist ]\n",
        "\n",
        "wordlist"
      ],
      "execution_count": null,
      "outputs": []
    },
    {
      "cell_type": "code",
      "metadata": {
        "id": "ODmAGHJbK9s-"
      },
      "source": [
        "word_dict = { w : wordlist.count(w) for w in wordlist}"
      ],
      "execution_count": null,
      "outputs": []
    },
    {
      "cell_type": "code",
      "metadata": {
        "id": "4xwhsRcCD_UN"
      },
      "source": [
        "word_dict"
      ],
      "execution_count": null,
      "outputs": []
    },
    {
      "cell_type": "code",
      "metadata": {
        "id": "SG3uWgUSLKyl"
      },
      "source": [
        "# 如果要依據出現頻率排序，在尚未教到lambda時，先參考https://ithelp.ithome.com.tw/articles/10222946\n",
        "sorted(word_dict.items(), key=lambda x:x[1], reverse=True)"
      ],
      "execution_count": null,
      "outputs": []
    },
    {
      "cell_type": "markdown",
      "metadata": {
        "id": "5isngi2t9aDh"
      },
      "source": [
        "## [Do it] HW3 : 九九乘法表"
      ]
    },
    {
      "cell_type": "markdown",
      "metadata": {
        "id": "qSXqwdE69zIP"
      },
      "source": [
        "- 試輸出以下樣式\n",
        "```\n",
        "2*1=02 2*2=04 2*3=06 2*4=08 2*5=10 2*6=12 2*7=14 2*8=16 2*9=18 \n",
        "3*1=03 3*2=06 3*3=09 3*4=12 3*5=15 3*6=18 3*7=21 3*8=24 3*9=27 \n",
        "4*1=04 4*2=08 4*3=12 4*4=16 4*5=20 4*6=24 4*7=28 4*8=32 4*9=36 \n",
        "5*1=05 5*2=10 5*3=15 5*4=20 5*5=25 5*6=30 5*7=35 5*8=40 5*9=45 \n",
        "6*1=06 6*2=12 6*3=18 6*4=24 6*5=30 6*6=36 6*7=42 6*8=48 6*9=54 \n",
        "7*1=07 7*2=14 7*3=21 7*4=28 7*5=35 7*6=42 7*7=49 7*8=56 7*9=63 \n",
        "8*1=08 8*2=16 8*3=24 8*4=32 8*5=40 8*6=48 8*7=56 8*8=64 8*9=72 \n",
        "9*1=09 9*2=18 9*3=27 9*4=36 9*5=45 9*6=54 9*7=63 9*8=72 9*9=81 \n",
        "```"
      ]
    },
    {
      "cell_type": "code",
      "metadata": {
        "id": "DD0KBYRJ0m18"
      },
      "source": [
        "?print"
      ],
      "execution_count": null,
      "outputs": []
    },
    {
      "cell_type": "code",
      "source": [
        "# Your Code Here:\n",
        "\n",
        "\n"
      ],
      "metadata": {
        "id": "WpcKmGa3b8hH"
      },
      "execution_count": null,
      "outputs": []
    }
  ]
}