{
 "cells": [
  {
   "cell_type": "code",
   "execution_count": 1,
   "metadata": {},
   "outputs": [],
   "source": [
    "import datetime\n",
    "from flask  import Flask, jsonify\n",
    "import requests\n",
    "import json\n",
    "import time"
   ]
  },
  {
   "cell_type": "code",
   "execution_count": 2,
   "metadata": {},
   "outputs": [],
   "source": [
    "def get_cinema_income():\n",
    "    start_date = (datetime.datetime.now() - datetime.timedelta(80)).strftime(\"%Y/%m/%d\") #前80日\n",
    "    end_date = datetime.datetime.now().strftime(\"%Y/%m/%d\")\n",
    "    url = f'https://boxoffice.tfi.org.tw/api/export?start={str(start_date)}&end={str(end_date)}'\n",
    "    print(url)\n",
    "    res = requests.get(url)\n",
    "    time.sleep(3)\n",
    "    return res.json()\n",
    "\n",
    "def save_josn_data():\n",
    "    data = get_cinema_income()\n",
    "    with open('./static/data.json', 'w', encoding='utf-8') as f:\n",
    "        json.dump(data, f, ensure_ascii=False, indent=4)"
   ]
  },
  {
   "cell_type": "code",
   "execution_count": 3,
   "metadata": {},
   "outputs": [
    {
     "name": "stdout",
     "output_type": "stream",
     "text": [
      "https://boxoffice.tfi.org.tw/api/export?start=2023/09/07&end=2023/11/26\n"
     ]
    }
   ],
   "source": [
    "save_josn_data()"
   ]
  },
  {
   "cell_type": "code",
   "execution_count": 4,
   "metadata": {},
   "outputs": [],
   "source": [
    "def load_json_data():\n",
    "    try:\n",
    "        with open('./static/data.json', 'r', encoding='utf-8') as f:\n",
    "            data = json.load(f)\n",
    "            return data\n",
    "    except Exception as e:  \n",
    "        print('load json data error:', e)\n",
    "        return None"
   ]
  },
  {
   "cell_type": "code",
   "execution_count": null,
   "metadata": {},
   "outputs": [],
   "source": [
    "load_json_data()"
   ]
  }
 ],
 "metadata": {
  "kernelspec": {
   "display_name": "Python 3",
   "language": "python",
   "name": "python3"
  },
  "language_info": {
   "codemirror_mode": {
    "name": "ipython",
    "version": 3
   },
   "file_extension": ".py",
   "mimetype": "text/x-python",
   "name": "python",
   "nbconvert_exporter": "python",
   "pygments_lexer": "ipython3",
   "version": "3.11.5"
  },
  "orig_nbformat": 4,
  "vscode": {
   "interpreter": {
    "hash": "30e885505460fe2bd3e8d06b055622cb5488effccc056204a7cdd4d0f9ed2b6f"
   }
  }
 },
 "nbformat": 4,
 "nbformat_minor": 2
}
