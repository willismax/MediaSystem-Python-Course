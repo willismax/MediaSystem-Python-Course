{
 "cells": [
  {
   "cell_type": "markdown",
   "metadata": {},
   "source": [
    "# 導入必要的庫\n"
   ]
  },
  {
   "cell_type": "code",
   "execution_count": 7,
   "metadata": {},
   "outputs": [],
   "source": [
    "# 導入必要的庫\n",
    "import pytest"
   ]
  },
  {
   "cell_type": "markdown",
   "metadata": {},
   "source": [
    "# 設定 API 端點\n",
    "設定要測試的 API 端點。"
   ]
  },
  {
   "cell_type": "code",
   "execution_count": null,
   "metadata": {},
   "outputs": [],
   "source": [
    "import requests\n",
    "import pytest\n",
    "\n",
    "# 設定 API 端點\n",
    "API_ENDPOINT = \"http://example.com/api/v1/resources\"\n",
    "\n",
    "# 檢查 API 端點是否可以正常訪問\n",
    "response = requests.get(API_ENDPOINT)\n",
    "\n",
    "# 如果回應的狀態碼不是 200 (HTTP OK)，則拋出異常\n",
    "assert response.status_code == 200, f\"API endpoint {API_ENDPOINT} is not accessible\""
   ]
  },
  {
   "cell_type": "markdown",
   "metadata": {},
   "source": [
    "# 定義測試函數\n",
    "定義測試函數，這些函數將使用 pytest 來驗證 API 的回應。"
   ]
  },
  {
   "cell_type": "code",
   "execution_count": null,
   "metadata": {},
   "outputs": [],
   "source": [
    "# 定義測試函數，這些函數將使用 pytest 來驗證 API 的回應\n",
    "\n",
    "# 測試 API 端點是否可以正常訪問\n",
    "def test_api_endpoint():\n",
    "    response = requests.get(API_ENDPOINT)\n",
    "    assert response.status_code == 200, f\"API endpoint {API_ENDPOINT} is not accessible\"\n",
    "\n",
    "# 測試 API 回應的內容是否為 JSON 格式\n",
    "def test_api_response_json():\n",
    "    response = requests.get(API_ENDPOINT)\n",
    "    try:\n",
    "        response.json()\n",
    "    except ValueError:\n",
    "        pytest.fail(f\"API endpoint {API_ENDPOINT} does not return JSON\")\n",
    "\n",
    "# 測試 API 回應的內容是否包含特定的鍵值\n",
    "def test_api_response_keys():\n",
    "    response = requests.get(API_ENDPOINT)\n",
    "    json_response = response.json()\n",
    "    assert \"key1\" in json_response, f\"API response does not contain 'key1'\"\n",
    "    assert \"key2\" in json_response, f\"API response does not contain 'key2'\""
   ]
  },
  {
   "cell_type": "markdown",
   "metadata": {},
   "source": [
    "# 執行測試\n",
    "使用 pytest 執行測試函數，並查看測試結果。"
   ]
  },
  {
   "cell_type": "code",
   "execution_count": null,
   "metadata": {},
   "outputs": [
    {
     "name": "stdout",
     "output_type": "stream",
     "text": [
      "\u001b[1m============================= test session starts ==============================\u001b[0m\n",
      "platform linux -- Python 3.10.13, pytest-7.4.3, pluggy-1.3.0 -- /usr/local/python/3.10.13/bin/python\n",
      "cachedir: .pytest_cache\n",
      "metadata: {'Python': '3.10.13', 'Platform': 'Linux-6.2.0-1018-azure-x86_64-with-glibc2.31', 'Packages': {'pytest': '7.4.3', 'pluggy': '1.3.0'}, 'Plugins': {'anyio': '4.0.0', 'cov': '4.1.0', 'metadata': '3.0.0', 'json-report': '1.5.0', 'html': '4.1.1'}, 'JAVA_HOME': '/usr/local/sdkman/candidates/java/current'}\n",
      "rootdir: /workspaces/MediaSystem-Python-Course/07.Pytest-DEMO\n",
      "plugins: anyio-4.0.0, cov-4.1.0, metadata-3.0.0, json-report-1.5.0, html-4.1.1\n",
      "collected 3 items                                                              \u001b[0m\n",
      "\n",
      "test_my_module.py::test_sum \u001b[32mPASSED\u001b[0m\u001b[32m                                       [ 33%]\u001b[0m\n",
      "test_my_module.py::test_bmi \u001b[32mPASSED\u001b[0m\u001b[32m                                       [ 66%]\u001b[0m\n",
      "test_my_module.py::test_bmi_2 \u001b[31mFAILED\u001b[0m\u001b[31m                                     [100%]\u001b[0m\n",
      "\n",
      "=================================== FAILURES ===================================\n",
      "\u001b[31m\u001b[1m__________________________________ test_bmi_2 __________________________________\u001b[0m\n",
      "\n",
      "    \u001b[94mdef\u001b[39;49;00m \u001b[92mtest_bmi_2\u001b[39;49;00m():\u001b[90m\u001b[39;49;00m\n",
      ">       \u001b[94massert\u001b[39;49;00m MyModule.bmi_2(\u001b[33m\"\u001b[39;49;00m\u001b[33m70\u001b[39;49;00m\u001b[33m\"\u001b[39;49;00m,\u001b[94m173\u001b[39;49;00m) == \u001b[94m23.38868655818771\u001b[39;49;00m\u001b[90m\u001b[39;49;00m\n",
      "\n",
      "\u001b[1m\u001b[31mtest_my_module.py\u001b[0m:12: \n",
      "_ _ _ _ _ _ _ _ _ _ _ _ _ _ _ _ _ _ _ _ _ _ _ _ _ _ _ _ _ _ _ _ _ _ _ _ _ _ _ _ \n",
      "\n",
      "w = '70', h = 173\n",
      "\n",
      "    \u001b[94mdef\u001b[39;49;00m \u001b[92mbmi_2\u001b[39;49;00m(w, h):\u001b[90m\u001b[39;49;00m\n",
      ">       \u001b[94mreturn\u001b[39;49;00m w/(h/\u001b[94m100\u001b[39;49;00m)**\u001b[94m2\u001b[39;49;00m\u001b[90m\u001b[39;49;00m\n",
      "\u001b[1m\u001b[31mE       TypeError: unsupported operand type(s) for /: 'str' and 'float'\u001b[0m\n",
      "\n",
      "\u001b[1m\u001b[31mmy_module.py\u001b[0m:9: TypeError\n",
      "\u001b[36m\u001b[1m=========================== short test summary info ============================\u001b[0m\n",
      "\u001b[31mFAILED\u001b[0m test_my_module.py::\u001b[1mtest_bmi_2\u001b[0m - TypeError: unsupported operand type(s) for /: 'str' and 'float'\n",
      "\u001b[31m========================= \u001b[31m\u001b[1m1 failed\u001b[0m, \u001b[32m2 passed\u001b[0m\u001b[31m in 0.16s\u001b[0m\u001b[31m ==========================\u001b[0m\n"
     ]
    }
   ],
   "source": [
    "# 使用 pytest 執行測試函數\n",
    "!pytest -v"
   ]
  },
  {
   "cell_type": "code",
   "execution_count": null,
   "metadata": {},
   "outputs": [],
   "source": [
    "!pytest -v # 使用 pytest 執行測試函數"
   ]
  },
  {
   "cell_type": "code",
   "execution_count": null,
   "metadata": {},
   "outputs": [],
   "source": [
    "!pytest -q # 使用 pytest 執行測試函數，並隱藏詳細的輸出"
   ]
  },
  {
   "cell_type": "code",
   "execution_count": 2,
   "metadata": {},
   "outputs": [
    {
     "name": "stdout",
     "output_type": "stream",
     "text": [
      "\u001b[1m============================= test session starts ==============================\u001b[0m\n",
      "platform linux -- Python 3.10.13, pytest-7.4.3, pluggy-1.3.0\n",
      "rootdir: /workspaces/MediaSystem-Python-Course/07.Pytest-DEMO\n",
      "plugins: anyio-4.0.0, cov-4.1.0, metadata-3.0.0, json-report-1.5.0, html-4.1.1\n",
      "collected 2 items                                                              \u001b[0m\n",
      "\n",
      "test_my_module.py \u001b[32m.\u001b[0m\u001b[32m.\u001b[0m\u001b[32m                                                     [100%]\u001b[0m\n",
      "\n",
      "---------- coverage: platform linux, python 3.10.13-final-0 ----------\n",
      "Name                Stmts   Miss  Cover\n",
      "---------------------------------------\n",
      "my_module.py           12      5    58%\n",
      "test_my_module.py       5      0   100%\n",
      "---------------------------------------\n",
      "TOTAL                  17      5    71%\n",
      "\n",
      "\n",
      "\u001b[32m============================== \u001b[32m\u001b[1m2 passed\u001b[0m\u001b[32m in 0.04s\u001b[0m\u001b[32m ===============================\u001b[0m\n"
     ]
    }
   ],
   "source": [
    "!pytest --cov=./ # 使用 pytest 執行測試函數，並計算測試覆蓋率"
   ]
  },
  {
   "cell_type": "code",
   "execution_count": 6,
   "metadata": {},
   "outputs": [
    {
     "name": "stdout",
     "output_type": "stream",
     "text": [
      "\u001b[1m============================= test session starts ==============================\u001b[0m\n",
      "platform linux -- Python 3.10.13, pytest-7.4.3, pluggy-1.3.0\n",
      "rootdir: /workspaces/MediaSystem-Python-Course/07.Pytest-DEMO\n",
      "plugins: anyio-4.0.0, cov-4.1.0, metadata-3.0.0, json-report-1.5.0, html-4.1.1\n",
      "collected 2 items                                                              \u001b[0m\n",
      "\n",
      "test_my_module.py \u001b[32m.\u001b[0m\u001b[32m.\u001b[0m\u001b[32m                                                     [100%]\u001b[0m\n",
      "\n",
      "---------- coverage: platform linux, python 3.10.13-final-0 ----------\n",
      "Coverage HTML written to dir report/cov_html\n",
      "\n",
      "\n",
      "\u001b[32m============================== \u001b[32m\u001b[1m2 passed\u001b[0m\u001b[32m in 0.05s\u001b[0m\u001b[32m ===============================\u001b[0m\n"
     ]
    }
   ],
   "source": [
    "!pytest --cov-report=html:report/cov_html --cov=./ # 使用 pytest 執行測試函數，並計算測試覆蓋率，並輸出 HTML 格式的報告 \n"
   ]
  }
 ],
 "metadata": {
  "kernelspec": {
   "display_name": "Python 3",
   "language": "python",
   "name": "python3"
  },
  "language_info": {
   "codemirror_mode": {
    "name": "ipython",
    "version": 3
   },
   "file_extension": ".py",
   "mimetype": "text/x-python",
   "name": "python",
   "nbconvert_exporter": "python",
   "pygments_lexer": "ipython3",
   "version": "3.10.13"
  },
  "orig_nbformat": 4
 },
 "nbformat": 4,
 "nbformat_minor": 2
}
