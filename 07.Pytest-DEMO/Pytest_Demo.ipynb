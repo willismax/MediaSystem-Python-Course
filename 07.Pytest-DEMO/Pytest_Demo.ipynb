{
  "cells": [
    {
      "cell_type": "markdown",
      "metadata": {
        "id": "view-in-github",
        "colab_type": "text"
      },
      "source": [
        "<a href=\"https://colab.research.google.com/github/willismax/MediaSystem-Python-Course/blob/main/07.Pytest-DEMO/Pytest_Demo.ipynb\" target=\"_parent\"><img src=\"https://colab.research.google.com/assets/colab-badge.svg\" alt=\"Open In Colab\"/></a>"
      ]
    },
    {
      "cell_type": "markdown",
      "metadata": {
        "id": "idiKNkynK_xO"
      },
      "source": [
        "# 導入必要的庫\n"
      ]
    },
    {
      "cell_type": "code",
      "source": [
        "!git clone https://github.com/willismax/MediaSystem-Python-Course.git\n",
        "%cd MediaSystem-Python-Course/07.Pytest-DEMO\n",
        "!ls"
      ],
      "metadata": {
        "id": "UOXF851qLNbV"
      },
      "execution_count": null,
      "outputs": []
    },
    {
      "cell_type": "code",
      "execution_count": 2,
      "metadata": {
        "id": "2b8E27H1K_xQ"
      },
      "outputs": [],
      "source": [
        "# 導入必要的庫\n",
        "import pytest"
      ]
    },
    {
      "cell_type": "markdown",
      "metadata": {
        "id": "lnKVdAsRK_xR"
      },
      "source": [
        "# 執行測試\n",
        "使用 pytest 執行測試函數，並查看測試結果。"
      ]
    },
    {
      "cell_type": "code",
      "execution_count": null,
      "metadata": {
        "id": "Vp6B1_P3K_xR"
      },
      "outputs": [],
      "source": [
        "# 使用 pytest 執行測試函數\n",
        "!pytest -v"
      ]
    },
    {
      "cell_type": "code",
      "execution_count": null,
      "metadata": {
        "id": "ItOoLaLoK_xR"
      },
      "outputs": [],
      "source": [
        "!pytest -v # 使用 pytest 執行測試函數"
      ]
    },
    {
      "cell_type": "code",
      "execution_count": null,
      "metadata": {
        "id": "jkWWEHsxK_xR"
      },
      "outputs": [],
      "source": [
        "!pytest -q # 使用 pytest 執行測試函數，並隱藏詳細的輸出"
      ]
    },
    {
      "cell_type": "code",
      "source": [
        "!pip install pytest-cov"
      ],
      "metadata": {
        "id": "0x5oSVd3M5Cp"
      },
      "execution_count": null,
      "outputs": []
    },
    {
      "cell_type": "code",
      "execution_count": null,
      "metadata": {
        "id": "u2JD9kYGK_xR"
      },
      "outputs": [],
      "source": [
        "!pytest --cov=./ # 使用 pytest 執行測試函數，並計算測試覆蓋率"
      ]
    },
    {
      "cell_type": "code",
      "execution_count": null,
      "metadata": {
        "id": "ZtZ9NJQ7K_xS"
      },
      "outputs": [],
      "source": [
        "!pytest --cov-report=html:report/cov_html --cov=./ # 使用 pytest 執行測試函數，並計算測試覆蓋率，並輸出 HTML 格式的報告"
      ]
    }
  ],
  "metadata": {
    "kernelspec": {
      "display_name": "Python 3",
      "language": "python",
      "name": "python3"
    },
    "language_info": {
      "codemirror_mode": {
        "name": "ipython",
        "version": 3
      },
      "file_extension": ".py",
      "mimetype": "text/x-python",
      "name": "python",
      "nbconvert_exporter": "python",
      "pygments_lexer": "ipython3",
      "version": "3.10.13"
    },
    "orig_nbformat": 4,
    "colab": {
      "provenance": [],
      "include_colab_link": true
    }
  },
  "nbformat": 4,
  "nbformat_minor": 0
}