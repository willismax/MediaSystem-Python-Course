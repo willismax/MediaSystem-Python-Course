{
  "cells": [
    {
      "cell_type": "markdown",
      "metadata": {
        "colab_type": "text",
        "id": "view-in-github"
      },
      "source": [
        "<a href=\"https://colab.research.google.com/github/willismax/MediaSystem-Python-Course/blob/main/04.Selenium/%E7%B6%B2%E9%A0%81%E6%93%B7%E5%8F%96_Selenium.ipynb\" target=\"_parent\"><img src=\"https://colab.research.google.com/assets/colab-badge.svg\" alt=\"Open In Colab\"/></a>"
      ]
    },
    {
      "cell_type": "markdown",
      "metadata": {
        "id": "554PWz0AKh7B"
      },
      "source": [
        "# 網頁擷取_Selenium"
      ]
    },
    {
      "cell_type": "markdown",
      "metadata": {
        "id": "H_a4icy_D5EO"
      },
      "source": [
        "![image.png](https://hackmd.io/_uploads/H1hC-R1ma.png)\n"
      ]
    },
    {
      "cell_type": "markdown",
      "metadata": {
        "id": "ZLDxrZXZ8Lpz"
      },
      "source": [
        "\n",
        "- 官方網站介紹\n",
        "    - [Selenium](https://www.selenium.dev/)\n",
        "    - [下載Driver](https://www.selenium.dev/selenium/docs/api/py/index.html) (4.X版已經不用額外安裝)\n"
      ]
    },
    {
      "cell_type": "markdown",
      "metadata": {
        "id": "8hSUl3LADuRF"
      },
      "source": [
        "選擇元素的各種方法\n",
        "```python\n",
        "find_element(By.ID, \"fruits\")\n",
        "find_element(By.NAME, \"q\")\n",
        "find_element(By.CLASS_NAME, \"tomatoes\")\n",
        "find_elements(By.TAG_NAME, \"li\")          #html標籤\n",
        "find_element(By.LINK_TEXT, \"More information...\")\n",
        "find_element(By.PARTIAL_LINK_TEXT, )\n",
        "find_element(By.XPATH, )           #最常用    #/html開頭為絕對路徑；//相對路徑\n",
        "find_element(By.CSS_SELECTOR,\"#fruits .tomatoes\")\n",
        "\n",
        "```\n"
      ]
    },
    {
      "cell_type": "code",
      "execution_count": null,
      "metadata": {
        "id": "IZ4ivfcX8X6m"
      },
      "outputs": [],
      "source": [
        "#下載安裝相關套件，以下為Colab的安裝方式\n",
        "\n",
        "%pip install -U selenium\n",
        "# !apt-get update\n",
        "# !apt install chromium-chromedriver\n",
        "# !cp /usr/lib/chromium-browser/chromedriver /usr/bin"
      ]
    },
    {
      "cell_type": "markdown",
      "metadata": {
        "id": "r2frX1gyv3Si"
      },
      "source": [
        "### 常用的`webdriver.ChromeOptions()`參數\n",
        "- start-maximized: Chrome開啟最大化視窗\n",
        "- incognito: 無痕模式開啟\n",
        "- headless: 不開啟Chrome模式\n",
        "- disable-extensions: 停用Chrome擴充功能\n",
        "- disable-popup-blocking: 停用Chrome彈出視窗\n",
        "- make-default-browser: 設為預設瀏覽器\n",
        "- version: 顯示瀏覽器版本\n",
        "- disable-infobars: 阻止 Chrome 顯示通知“Chrome 由自動化軟體控制”"
      ]
    },
    {
      "cell_type": "code",
      "execution_count": 22,
      "metadata": {
        "cellView": "form",
        "colab": {
          "base_uri": "https://localhost:8080/",
          "height": 36
        },
        "id": "hjWGOEB18oY6",
        "outputId": "5923fdcc-886d-4215-e01e-b159a14050ce"
      },
      "outputs": [
        {
          "name": "stdout",
          "output_type": "stream",
          "text": [
            "https://hackmd.io/_uploads/S1R4G8N52.jpg\n"
          ]
        }
      ],
      "source": [
        "#@title 以 Selenium 爬取 PTT 指定目標\n",
        "\n",
        "from selenium.webdriver import Chrome\n",
        "from selenium.webdriver.chrome.options import Options\n",
        "from selenium.webdriver.common.by import By\n",
        "\n",
        "\n",
        "options = Options()\n",
        "options.add_argument(\"--headless\")\n",
        "options.add_argument('--no-sandbox') #在背景執行\n",
        "options.add_argument('--disable-dev-shm-usage')\n",
        "options.add_argument(\"--start-maximized\")\n",
        "\n",
        "\n",
        "\n",
        "wd = Chrome(options=options)\n",
        "url = \"https://www.ptt.cc/bbs/Gossiping/M.1689707284.A.6C7.html\"\n",
        "wd.get(url)\n",
        "\n",
        "while (wd.current_url=='https://www.ptt.cc/ask/over18?from=%2Fbbs%2FGossiping%2FM.1689707284.A.6C7.html'):  #跳轉詢問18歲詢問頁面時，注意URL?from的變化\n",
        "  wd.find_element(By.CLASS_NAME, \"over18-button-container\").click()\n",
        "\n",
        "# 改XPATH定位\n",
        "# 改SELECTOR定位\n",
        "\n",
        "\n",
        "elem = wd.find_element(By.LINK_TEXT,'https://hackmd.io/_uploads/S1R4G8N52.jpg')\n",
        "print(elem.text)\n",
        "# wd.close()\n"
      ]
    },
    {
      "cell_type": "markdown",
      "metadata": {
        "id": "Dxiy3VEHa25b"
      },
      "source": [
        "\n",
        "\n",
        "---\n",
        "\n"
      ]
    },
    {
      "cell_type": "markdown",
      "metadata": {},
      "source": [
        "### 以 Selenium 搜尋 PTT 指定列表\n"
      ]
    },
    {
      "cell_type": "markdown",
      "metadata": {},
      "source": [
        "![image](https://hackmd.io/_uploads/SyBjKUY4T.png)"
      ]
    },
    {
      "cell_type": "code",
      "execution_count": 10,
      "metadata": {
        "cellView": "form",
        "colab": {
          "base_uri": "https://localhost:8080/"
        },
        "id": "oLya4zKJbf2K",
        "outputId": "be88391a-0988-48b7-ee76-61bcbb3a0c8d"
      },
      "outputs": [
        {
          "name": "stdout",
          "output_type": "stream",
          "text": [
            "[新聞] 513經歷者現身映後 張吉安激動當場淚崩\n",
            "[{'title': '[新聞] 513經歷者現身映後 張吉安激動當場淚崩', 'href': 'https://www.ptt.cc/bbs/movie/M.1700494036.A.B1C.html'}, {'title': '[新聞] 李鴻其演而優則導 拍戲不重演員名氣', 'href': 'https://www.ptt.cc/bbs/movie/M.1700494158.A.50F.html'}, {'title': '[新聞] 《驚奇隊長2》導演：本來有亞當術士和時', 'href': 'https://www.ptt.cc/bbs/movie/M.1700496097.A.0D4.html'}, {'title': '[新聞] 驚奇少女公布她的《秘密戰爭》許願名單：', 'href': 'https://www.ptt.cc/bbs/movie/M.1700497030.A.06A.html'}, {'title': 'Re: [請益] 會讓人提起勇氣和信心的電影', 'href': 'https://www.ptt.cc/bbs/movie/M.1700497252.A.320.html'}, {'title': 'Re: [請益] 會讓人提起勇氣和信心的電影', 'href': 'https://www.ptt.cc/bbs/movie/M.1700498281.A.15C.html'}, {'title': 'Re: [情報] 查克史奈德《REBEL MOON》角色海報', 'href': 'https://www.ptt.cc/bbs/movie/M.1700500348.A.54E.html'}, {'title': '[情報] 水行俠2最新預告 公布個人角色海報', 'href': 'https://www.ptt.cc/bbs/movie/M.1700502650.A.198.html'}]\n"
          ]
        }
      ],
      "source": [
        "#@title 以 Selenium 搜尋 PTT 指定列表\n",
        "\n",
        "from selenium import webdriver\n",
        "from selenium.webdriver.chrome.options import Options\n",
        "from selenium.webdriver.common.by import By\n",
        "from bs4 import BeautifulSoup\n",
        "\n",
        "options = Options()\n",
        "# options.add_argument('--headless')\n",
        "options.add_argument('--no-sandbox')\n",
        "options.add_argument('--disable-dev-shm-usage')\n",
        "wd = webdriver.Chrome(options=options)\n",
        "url ='https://www.ptt.cc/bbs/movie/index.html'\n",
        "wd.get(url)\n",
        "\n",
        "elem = wd.find_element(By.CLASS_NAME,\"title\")\n",
        "print(elem.text)\n",
        "\n",
        "#beautifulsoup解析\n",
        "soup = BeautifulSoup(wd.page_source,\"html.parser\")\n",
        "links = soup.select('div.title > a')\n",
        "\n",
        "# title = [ link.get_text() for link in links if '板規' not in link.get_text()]\n",
        "# href = [ f'https://www.ptt.cc{link.get(\"href\")}' for link in links ]\n",
        "\n",
        "res = [\n",
        "    {'title': link.get_text(),\n",
        "     'href': f'https://www.ptt.cc{link.get(\"href\")}'\n",
        "     } for link in links if '公告' not in link.get_text() ]\n",
        "\n",
        "\n",
        "print(res)\n",
        "# wd.close()"
      ]
    },
    {
      "cell_type": "code",
      "execution_count": 11,
      "metadata": {
        "colab": {
          "base_uri": "https://localhost:8080/",
          "height": 394
        },
        "id": "hcfMeSAnGtyH",
        "outputId": "9a8a6b0b-b89e-4376-91a4-a45d00663b83"
      },
      "outputs": [
        {
          "data": {
            "text/html": [
              "<div>\n",
              "<style scoped>\n",
              "    .dataframe tbody tr th:only-of-type {\n",
              "        vertical-align: middle;\n",
              "    }\n",
              "\n",
              "    .dataframe tbody tr th {\n",
              "        vertical-align: top;\n",
              "    }\n",
              "\n",
              "    .dataframe thead th {\n",
              "        text-align: right;\n",
              "    }\n",
              "</style>\n",
              "<table border=\"1\" class=\"dataframe\">\n",
              "  <thead>\n",
              "    <tr style=\"text-align: right;\">\n",
              "      <th></th>\n",
              "      <th>title</th>\n",
              "      <th>href</th>\n",
              "    </tr>\n",
              "  </thead>\n",
              "  <tbody>\n",
              "    <tr>\n",
              "      <th>0</th>\n",
              "      <td>[新聞] 513經歷者現身映後 張吉安激動當場淚崩</td>\n",
              "      <td>https://www.ptt.cc/bbs/movie/M.1700494036.A.B1...</td>\n",
              "    </tr>\n",
              "    <tr>\n",
              "      <th>1</th>\n",
              "      <td>[新聞] 李鴻其演而優則導 拍戲不重演員名氣</td>\n",
              "      <td>https://www.ptt.cc/bbs/movie/M.1700494158.A.50...</td>\n",
              "    </tr>\n",
              "    <tr>\n",
              "      <th>2</th>\n",
              "      <td>[新聞] 《驚奇隊長2》導演：本來有亞當術士和時</td>\n",
              "      <td>https://www.ptt.cc/bbs/movie/M.1700496097.A.0D...</td>\n",
              "    </tr>\n",
              "    <tr>\n",
              "      <th>3</th>\n",
              "      <td>[新聞] 驚奇少女公布她的《秘密戰爭》許願名單：</td>\n",
              "      <td>https://www.ptt.cc/bbs/movie/M.1700497030.A.06...</td>\n",
              "    </tr>\n",
              "    <tr>\n",
              "      <th>4</th>\n",
              "      <td>Re: [請益] 會讓人提起勇氣和信心的電影</td>\n",
              "      <td>https://www.ptt.cc/bbs/movie/M.1700497252.A.32...</td>\n",
              "    </tr>\n",
              "    <tr>\n",
              "      <th>5</th>\n",
              "      <td>Re: [請益] 會讓人提起勇氣和信心的電影</td>\n",
              "      <td>https://www.ptt.cc/bbs/movie/M.1700498281.A.15...</td>\n",
              "    </tr>\n",
              "    <tr>\n",
              "      <th>6</th>\n",
              "      <td>Re: [情報] 查克史奈德《REBEL MOON》角色海報</td>\n",
              "      <td>https://www.ptt.cc/bbs/movie/M.1700500348.A.54...</td>\n",
              "    </tr>\n",
              "    <tr>\n",
              "      <th>7</th>\n",
              "      <td>[情報] 水行俠2最新預告 公布個人角色海報</td>\n",
              "      <td>https://www.ptt.cc/bbs/movie/M.1700502650.A.19...</td>\n",
              "    </tr>\n",
              "  </tbody>\n",
              "</table>\n",
              "</div>"
            ],
            "text/plain": [
              "                            title  \\\n",
              "0       [新聞] 513經歷者現身映後 張吉安激動當場淚崩   \n",
              "1          [新聞] 李鴻其演而優則導 拍戲不重演員名氣   \n",
              "2        [新聞] 《驚奇隊長2》導演：本來有亞當術士和時   \n",
              "3        [新聞] 驚奇少女公布她的《秘密戰爭》許願名單：   \n",
              "4          Re: [請益] 會讓人提起勇氣和信心的電影   \n",
              "5          Re: [請益] 會讓人提起勇氣和信心的電影   \n",
              "6  Re: [情報] 查克史奈德《REBEL MOON》角色海報   \n",
              "7          [情報] 水行俠2最新預告 公布個人角色海報   \n",
              "\n",
              "                                                href  \n",
              "0  https://www.ptt.cc/bbs/movie/M.1700494036.A.B1...  \n",
              "1  https://www.ptt.cc/bbs/movie/M.1700494158.A.50...  \n",
              "2  https://www.ptt.cc/bbs/movie/M.1700496097.A.0D...  \n",
              "3  https://www.ptt.cc/bbs/movie/M.1700497030.A.06...  \n",
              "4  https://www.ptt.cc/bbs/movie/M.1700497252.A.32...  \n",
              "5  https://www.ptt.cc/bbs/movie/M.1700498281.A.15...  \n",
              "6  https://www.ptt.cc/bbs/movie/M.1700500348.A.54...  \n",
              "7  https://www.ptt.cc/bbs/movie/M.1700502650.A.19...  "
            ]
          },
          "execution_count": 11,
          "metadata": {},
          "output_type": "execute_result"
        }
      ],
      "source": [
        "import pandas as pd\n",
        "\n",
        "pd.DataFrame(res)"
      ]
    },
    {
      "cell_type": "code",
      "execution_count": 13,
      "metadata": {
        "colab": {
          "base_uri": "https://localhost:8080/"
        },
        "id": "TjQRsNrFCMwg",
        "outputId": "493ead32-b772-47fb-d5f1-661e4205ae2e"
      },
      "outputs": [
        {
          "data": {
            "text/plain": [
              "0    https://www.ptt.cc/bbs/movie/M.1700494036.A.B1...\n",
              "1    https://www.ptt.cc/bbs/movie/M.1700494158.A.50...\n",
              "2    https://www.ptt.cc/bbs/movie/M.1700496097.A.0D...\n",
              "3    https://www.ptt.cc/bbs/movie/M.1700497030.A.06...\n",
              "4    https://www.ptt.cc/bbs/movie/M.1700497252.A.32...\n",
              "5    https://www.ptt.cc/bbs/movie/M.1700498281.A.15...\n",
              "6    https://www.ptt.cc/bbs/movie/M.1700500348.A.54...\n",
              "7    https://www.ptt.cc/bbs/movie/M.1700502650.A.19...\n",
              "Name: href, dtype: object"
            ]
          },
          "execution_count": 13,
          "metadata": {},
          "output_type": "execute_result"
        }
      ],
      "source": [
        "pd.DataFrame(res)['href']"
      ]
    },
    {
      "cell_type": "markdown",
      "metadata": {
        "id": "uNqZOmdDHJJt"
      },
      "source": [
        "\n",
        "\n",
        "---\n",
        "\n"
      ]
    },
    {
      "cell_type": "code",
      "execution_count": 15,
      "metadata": {
        "cellView": "form",
        "colab": {
          "base_uri": "https://localhost:8080/"
        },
        "id": "w-16-PTz-wts",
        "outputId": "492d3e9f-03d3-4801-c8f6-6e33dbb3d5d1"
      },
      "outputs": [
        {
          "name": "stdout",
          "output_type": "stream",
          "text": [
            "openai.comOpenAI\n",
            "openai.com › product › gpt-4GPT-4 - OpenAI\n",
            "platform.openai.com › appsOpenAI Platform\n",
            "zh.wikipedia.org › zh-tw › OpenAIOpenAI - 維基百科，自由的百科全書\n",
            "Introducing OpenAI\n",
            "Product - OpenAI\n",
            "OpenAI Platform\n",
            "Introducing OpenAI\n",
            "openai.com › research › gpt-4GPT-4 - OpenAI\n",
            "azure.microsoft.com › zh-tw › productsAzure OpenAI 服務 - 進階語言模型 | Microsoft Azure\n"
          ]
        }
      ],
      "source": [
        "#@title Yahoo搜尋\n",
        "from selenium import webdriver\n",
        "from selenium.webdriver import Chrome\n",
        "from selenium.webdriver.chrome.options import Options\n",
        "from selenium.webdriver.common.by import By\n",
        "from selenium.webdriver.support.ui import WebDriverWait\n",
        "from selenium.webdriver.support import expected_conditions\n",
        "from bs4 import BeautifulSoup\n",
        "\n",
        "\n",
        "options = Options()\n",
        "options.add_argument('--headless')\n",
        "options.add_argument('--no-sandbox')\n",
        "options.add_argument('--disable-dev-shm-usage')\n",
        "\n",
        "wd = webdriver.Chrome(options=options)\n",
        "url='https://tw.yahoo.com/'\n",
        "wd.get(url)\n",
        "\n",
        "# 操作網頁元素\n",
        "element = wd.find_element(By.ID, 'header-search-input')\n",
        "key_word = 'OpenAI' #@param\n",
        "element.send_keys(key_word)\n",
        "wd.find_element(By.ID, 'header-desktop-search-button').click()\n",
        "\n",
        "# 等待目標表格'id 為 web'的div出現\n",
        "WebDriverWait(wd, 5).until(\n",
        "    expected_conditions.presence_of_element_located((By.ID, 'web')))\n",
        "\n",
        "#然後就是beautifulsoup的範疇了，將目前頁面用bs4解析\n",
        "soup = BeautifulSoup(wd.page_source,\"html.parser\")\n",
        "links = soup.select('div#web h3')\n",
        "\n",
        "for link in links:\n",
        "    print(link.get_text())\n",
        "\n",
        "wd.quit()"
      ]
    },
    {
      "cell_type": "code",
      "execution_count": null,
      "metadata": {
        "cellView": "form",
        "id": "90bY_cdgIlG9"
      },
      "outputs": [],
      "source": [
        "#@title Google搜尋\n",
        "from selenium import webdriver\n",
        "from selenium.webdriver import Chrome\n",
        "from selenium.webdriver.chrome.options import Options\n",
        "from selenium.webdriver.common.by import By\n",
        "from selenium.webdriver.support.ui import WebDriverWait\n",
        "from selenium.webdriver.support import expected_conditions\n",
        "from bs4 import BeautifulSoup\n",
        "\n",
        "\n",
        "options = Options()\n",
        "options.add_argument('--headless')\n",
        "options.add_argument('--no-sandbox')\n",
        "options.add_argument('--disable-dev-shm-usage')\n",
        "\n",
        "wd = webdriver.Chrome(options=options)\n",
        "url = 'https://www.google.com/'\n",
        "wd.get(url)\n",
        "\n",
        "# 用XPATH定位元素 - 搜尋框\n",
        "element = wd.find_element(By.XPATH,\"/html/body/div[4]/div[2]/form/div[1]/div[1]/div[2]/div/div[2]/textarea\")\n",
        "key_word = '\\u9032\\u64CA\\u7684\\u5DE8\\u4EBA'\n",
        "element.send_keys(key_word)\n",
        "\n",
        "# 用XPATH定位元素 - 點選搜尋\n",
        "wd.find_element(By.XPATH,'/html/body/div[1]/div[3]/form/div[1]/div[1]/div[4]/center/input[1]').click()\n",
        "\n",
        "\n",
        "# 用BeautifulSoup解析 - 標題h3\n",
        "soup = BeautifulSoup(wd.page_source,\"html.parser\")\n",
        "links = soup.select('div > a > h3')\n",
        "\n",
        "for link in links:\n",
        "    print(link.get_text())\n",
        "\n",
        "wd.quit()"
      ]
    },
    {
      "cell_type": "code",
      "execution_count": null,
      "metadata": {
        "cellView": "form",
        "id": "vgSm7otm7F7u"
      },
      "outputs": [],
      "source": [
        "#@title PChome 搜尋 PS5\n",
        "# https://blog.jiatool.com/posts/pchome_spider01/\n",
        "# 實際搶單可參考: https://github.com/ywchiu/largitdata/blob/master/code/Course_137.ipynb\n",
        "from selenium import webdriver\n",
        "from selenium.webdriver import Chrome\n",
        "from selenium.webdriver.chrome.options import Options\n",
        "from selenium.webdriver.common.by import By\n",
        "\n",
        "\n",
        "options = Options()\n",
        "options.add_argument(\"--headless\")\n",
        "options.add_argument('--no-sandbox') #在背景執行\n",
        "options.add_argument('--disable-dev-shm-usage')\n",
        "options.add_argument(\"--start-maximized\")\n",
        "options.add_argument('--disable-dev-shm-usage')\n",
        "\n",
        "wd = Chrome(options=options)\n",
        "\n",
        "key_word = 'ps5'\n",
        "\n",
        "url = f'https://ecshweb.pchome.com.tw/search/v3.3/?q={key_word}'\n",
        "wd.get(url)\n",
        "\n",
        "WebDriverWait(wd, 5).until(\n",
        "    expected_conditions.presence_of_element_located((By.TAG_NAME, 'h5')))\n",
        "\n",
        "#beautifulsoup解析\n",
        "soup = BeautifulSoup(wd.page_source,\"html.parser\")\n",
        "# wd.quit()\n",
        "\n",
        "elems = soup.select('h5 > a')\n",
        "\n",
        "items = [{\n",
        "    'title': elem.get_text(),\n",
        "    'link': f'https{elem.get(\"href\")}'}\n",
        "    for elem in elems]\n",
        "\n",
        "\n",
        "items"
      ]
    },
    {
      "cell_type": "code",
      "execution_count": null,
      "metadata": {
        "cellView": "form",
        "id": "cdnoS8V--QSZ"
      },
      "outputs": [],
      "source": [
        "#@title MOMO搶PS5\n",
        "# https://ithelp.ithome.com.tw/articles/10262268\n",
        "from selenium import webdriver\n",
        "from selenium.webdriver import Chrome\n",
        "from selenium.webdriver.chrome.options import Options\n",
        "from selenium.webdriver.common.by import By\n",
        "from selenium.webdriver.support.ui import WebDriverWait\n",
        "from selenium.webdriver.support import expected_conditions as EC\n",
        "import time\n",
        "\n",
        "\n",
        "options = Options()\n",
        "options.add_argument(\"--headless\")\n",
        "options.add_argument('--no-sandbox') #在背景執行\n",
        "options.add_argument('--disable-dev-shm-usage')\n",
        "options.add_argument(\"--start-maximized\")\n",
        "\n",
        "prefs = {'profile.default_content_setting_values':{'notifications': 2}}\n",
        "options.add_experimental_option('prefs', prefs)\n",
        "\n",
        "driver = Chrome(options=options)\n",
        "\n",
        "driver.get(\"https://m.momoshop.com.tw/mymomo/login.momo\") # 到登入頁面\n",
        "\n",
        "driver.find_element(By.ID,'memId').send_keys('帳號') # 輸入帳號\n",
        "driver.find_element(By.ID,'passwd').send_keys('密碼') # 輸入密碼\n",
        "driver.find_element(By.CLASS_NAME,'login').click()\n",
        "driver.get(\"https://www.momoshop.com.tw/goods/GoodsDetail.jsp?i_code=9435324\")\n",
        "\n",
        "count=0\n",
        "while count<2:\n",
        "  try:\n",
        "    buy = WebDriverWait(driver, 1, 0.5).until(EC.presence_of_element_located((By.ID, 'buy_yes'))) # 顯性等待\n",
        "    buy.click() # 偵測到可以購買按鈕就點擊按鈕\n",
        "    print ('可以購買!')\n",
        "    break # 後面結帳部分就不寫囉\n",
        "  except:\n",
        "    print(\"還不能購買! 重新整理!\")\n",
        "    driver.refresh() # 重整頁面\n",
        "    count+=1"
      ]
    }
  ],
  "metadata": {
    "colab": {
      "include_colab_link": true,
      "provenance": []
    },
    "kernelspec": {
      "display_name": "Python 3",
      "name": "python3"
    },
    "language_info": {
      "codemirror_mode": {
        "name": "ipython",
        "version": 3
      },
      "file_extension": ".py",
      "mimetype": "text/x-python",
      "name": "python",
      "nbconvert_exporter": "python",
      "pygments_lexer": "ipython3",
      "version": "3.8.8"
    }
  },
  "nbformat": 4,
  "nbformat_minor": 0
}
