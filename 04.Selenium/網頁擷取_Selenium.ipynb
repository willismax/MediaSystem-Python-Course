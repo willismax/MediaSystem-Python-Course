{
  "cells": [
    {
      "cell_type": "markdown",
      "metadata": {
        "id": "view-in-github",
        "colab_type": "text"
      },
      "source": [
        "<a href=\"https://colab.research.google.com/github/willismax/MediaSystem-Python-Course/blob/main/04.Selenium/%E7%B6%B2%E9%A0%81%E6%93%B7%E5%8F%96_Selenium.ipynb\" target=\"_parent\"><img src=\"https://colab.research.google.com/assets/colab-badge.svg\" alt=\"Open In Colab\"/></a>"
      ]
    },
    {
      "cell_type": "markdown",
      "metadata": {
        "id": "554PWz0AKh7B"
      },
      "source": [
        "# 網頁擷取_Selenium"
      ]
    },
    {
      "cell_type": "markdown",
      "metadata": {
        "id": "H_a4icy_D5EO"
      },
      "source": [
        "![image.png](https://hackmd.io/_uploads/H1hC-R1ma.png)\n"
      ]
    },
    {
      "cell_type": "markdown",
      "metadata": {
        "id": "ZLDxrZXZ8Lpz"
      },
      "source": [
        "\n",
        "- 官方網站介紹\n",
        "    - [Selenium](https://www.selenium.dev/)\n",
        "    - [下載Driver](https://www.selenium.dev/selenium/docs/api/py/index.html) (4.X版已經不用額外安裝)\n"
      ]
    },
    {
      "cell_type": "markdown",
      "metadata": {
        "id": "8hSUl3LADuRF"
      },
      "source": [
        "選擇元素的各種方法\n",
        "```python\n",
        "find_element(By.ID, \"fruits\")\n",
        "find_element(By.NAME, \"q\")\n",
        "find_element(By.CLASS_NAME, \"tomatoes\")\n",
        "find_elements(By.TAG_NAME, \"li\")          #html標籤\n",
        "find_element(By.LINK_TEXT, \"More information...\")\n",
        "find_element(By.PARTIAL_LINK_TEXT, )\n",
        "find_element(By.XPATH, )           #最常用    #/html開頭為絕對路徑；//相對路徑\n",
        "find_element(By.CSS_SELECTOR,\"#fruits .tomatoes\")\n",
        "\n",
        "```\n"
      ]
    },
    {
      "cell_type": "code",
      "execution_count": 1,
      "metadata": {
        "id": "IZ4ivfcX8X6m",
        "outputId": "3761c299-2c4d-4d5d-87e0-d67451d41daf",
        "colab": {
          "base_uri": "https://localhost:8080/"
        }
      },
      "outputs": [
        {
          "output_type": "stream",
          "name": "stdout",
          "text": [
            "Collecting selenium\n",
            "  Downloading selenium-4.19.0-py3-none-any.whl (10.5 MB)\n",
            "\u001b[2K     \u001b[90m━━━━━━━━━━━━━━━━━━━━━━━━━━━━━━━━━━━━━━━━\u001b[0m \u001b[32m10.5/10.5 MB\u001b[0m \u001b[31m45.1 MB/s\u001b[0m eta \u001b[36m0:00:00\u001b[0m\n",
            "\u001b[?25hRequirement already satisfied: urllib3[socks]<3,>=1.26 in /usr/local/lib/python3.10/dist-packages (from selenium) (2.0.7)\n",
            "Collecting trio~=0.17 (from selenium)\n",
            "  Downloading trio-0.25.0-py3-none-any.whl (467 kB)\n",
            "\u001b[2K     \u001b[90m━━━━━━━━━━━━━━━━━━━━━━━━━━━━━━━━━━━━━━━━\u001b[0m \u001b[32m467.2/467.2 kB\u001b[0m \u001b[31m27.1 MB/s\u001b[0m eta \u001b[36m0:00:00\u001b[0m\n",
            "\u001b[?25hCollecting trio-websocket~=0.9 (from selenium)\n",
            "  Downloading trio_websocket-0.11.1-py3-none-any.whl (17 kB)\n",
            "Requirement already satisfied: certifi>=2021.10.8 in /usr/local/lib/python3.10/dist-packages (from selenium) (2024.2.2)\n",
            "Requirement already satisfied: typing_extensions>=4.9.0 in /usr/local/lib/python3.10/dist-packages (from selenium) (4.10.0)\n",
            "Requirement already satisfied: attrs>=23.2.0 in /usr/local/lib/python3.10/dist-packages (from trio~=0.17->selenium) (23.2.0)\n",
            "Requirement already satisfied: sortedcontainers in /usr/local/lib/python3.10/dist-packages (from trio~=0.17->selenium) (2.4.0)\n",
            "Requirement already satisfied: idna in /usr/local/lib/python3.10/dist-packages (from trio~=0.17->selenium) (3.6)\n",
            "Collecting outcome (from trio~=0.17->selenium)\n",
            "  Downloading outcome-1.3.0.post0-py2.py3-none-any.whl (10 kB)\n",
            "Requirement already satisfied: sniffio>=1.3.0 in /usr/local/lib/python3.10/dist-packages (from trio~=0.17->selenium) (1.3.1)\n",
            "Requirement already satisfied: exceptiongroup in /usr/local/lib/python3.10/dist-packages (from trio~=0.17->selenium) (1.2.0)\n",
            "Collecting wsproto>=0.14 (from trio-websocket~=0.9->selenium)\n",
            "  Downloading wsproto-1.2.0-py3-none-any.whl (24 kB)\n",
            "Requirement already satisfied: pysocks!=1.5.7,<2.0,>=1.5.6 in /usr/local/lib/python3.10/dist-packages (from urllib3[socks]<3,>=1.26->selenium) (1.7.1)\n",
            "Collecting h11<1,>=0.9.0 (from wsproto>=0.14->trio-websocket~=0.9->selenium)\n",
            "  Downloading h11-0.14.0-py3-none-any.whl (58 kB)\n",
            "\u001b[2K     \u001b[90m━━━━━━━━━━━━━━━━━━━━━━━━━━━━━━━━━━━━━━━━\u001b[0m \u001b[32m58.3/58.3 kB\u001b[0m \u001b[31m7.1 MB/s\u001b[0m eta \u001b[36m0:00:00\u001b[0m\n",
            "\u001b[?25hInstalling collected packages: outcome, h11, wsproto, trio, trio-websocket, selenium\n",
            "Successfully installed h11-0.14.0 outcome-1.3.0.post0 selenium-4.19.0 trio-0.25.0 trio-websocket-0.11.1 wsproto-1.2.0\n"
          ]
        }
      ],
      "source": [
        "#下載安裝相關套件，以下為Colab的安裝方式\n",
        "\n",
        "%pip install -U selenium\n",
        "# !apt-get update\n",
        "# !apt install chromium-chromedriver\n",
        "# !cp /usr/lib/chromium-browser/chromedriver /usr/bin"
      ]
    },
    {
      "cell_type": "markdown",
      "metadata": {
        "id": "r2frX1gyv3Si"
      },
      "source": [
        "### 常用的`webdriver.ChromeOptions()`參數\n",
        "- start-maximized: Chrome開啟最大化視窗\n",
        "- incognito: 無痕模式開啟\n",
        "- headless: 不開啟Chrome模式\n",
        "- disable-extensions: 停用Chrome擴充功能\n",
        "- disable-popup-blocking: 停用Chrome彈出視窗\n",
        "- make-default-browser: 設為預設瀏覽器\n",
        "- version: 顯示瀏覽器版本\n",
        "- disable-infobars: 阻止 Chrome 顯示通知“Chrome 由自動化軟體控制”"
      ]
    },
    {
      "cell_type": "code",
      "execution_count": 2,
      "metadata": {
        "cellView": "form",
        "colab": {
          "base_uri": "https://localhost:8080/"
        },
        "id": "hjWGOEB18oY6",
        "outputId": "c5179b3e-370c-4c14-f58d-735da41227e5"
      },
      "outputs": [
        {
          "output_type": "stream",
          "name": "stdout",
          "text": [
            "https://hackmd.io/_uploads/S1R4G8N52.jpg\n"
          ]
        }
      ],
      "source": [
        "#@title 以 Selenium 爬取 PTT 指定目標\n",
        "\n",
        "from selenium.webdriver import Chrome\n",
        "from selenium.webdriver.chrome.options import Options\n",
        "from selenium.webdriver.common.by import By\n",
        "\n",
        "\n",
        "options = Options()\n",
        "options.add_argument(\"--headless\")\n",
        "options.add_argument('--no-sandbox') #在背景執行\n",
        "options.add_argument('--disable-dev-shm-usage')\n",
        "options.add_argument(\"--start-maximized\")\n",
        "\n",
        "\n",
        "\n",
        "wd = Chrome(options=options)\n",
        "url = \"https://www.ptt.cc/bbs/Gossiping/M.1689707284.A.6C7.html\"\n",
        "wd.get(url)\n",
        "\n",
        "while (wd.current_url=='https://www.ptt.cc/ask/over18?from=%2Fbbs%2FGossiping%2FM.1689707284.A.6C7.html'):  #跳轉詢問18歲詢問頁面時，注意URL?from的變化\n",
        "  wd.find_element(By.CLASS_NAME, \"over18-button-container\").click()\n",
        "\n",
        "# 改XPATH定位\n",
        "# 改SELECTOR定位\n",
        "\n",
        "\n",
        "elem = wd.find_element(By.LINK_TEXT,'https://hackmd.io/_uploads/S1R4G8N52.jpg')\n",
        "print(elem.text)\n",
        "# wd.close()\n"
      ]
    },
    {
      "cell_type": "markdown",
      "metadata": {
        "id": "Dxiy3VEHa25b"
      },
      "source": [
        "\n",
        "\n",
        "---\n",
        "\n"
      ]
    },
    {
      "cell_type": "markdown",
      "metadata": {
        "id": "lWV4AYCFyjAq"
      },
      "source": [
        "### 以 Selenium 搜尋 PTT 指定列表\n"
      ]
    },
    {
      "cell_type": "markdown",
      "metadata": {
        "id": "ID-7kyvRyjAq"
      },
      "source": [
        "![image](https://hackmd.io/_uploads/SyBjKUY4T.png)"
      ]
    },
    {
      "cell_type": "code",
      "execution_count": 8,
      "metadata": {
        "cellView": "form",
        "colab": {
          "base_uri": "https://localhost:8080/"
        },
        "id": "oLya4zKJbf2K",
        "outputId": "1264c12a-a4be-4ef6-ddae-2a948372272b"
      },
      "outputs": [
        {
          "output_type": "stream",
          "name": "stdout",
          "text": [
            "[討論] 異形:聖約 一個小問題\n",
            "[{'title': '[討論] 異形:聖約  一個小問題', 'href': 'https://www.ptt.cc/bbs/movie/M.1711856856.A.531.html'}, {'title': '[討論] 最近看了三部電影的一點想法', 'href': 'https://www.ptt.cc/bbs/movie/M.1711857618.A.C36.html'}]\n"
          ]
        }
      ],
      "source": [
        "#@title 以 Selenium 搜尋 PTT 指定列表\n",
        "\n",
        "from selenium.webdriver import Chrome\n",
        "from selenium.webdriver.chrome.options import Options\n",
        "from selenium.webdriver.common.by import By\n",
        "from bs4 import BeautifulSoup\n",
        "\n",
        "options = Options()\n",
        "options.add_argument('--headless')\n",
        "options.add_argument('--no-sandbox')\n",
        "options.add_argument('--disable-dev-shm-usage')\n",
        "wd = Chrome(options=options)\n",
        "url ='https://www.ptt.cc/bbs/movie/index.html'\n",
        "wd.get(url)\n",
        "\n",
        "elem = wd.find_element(By.CLASS_NAME,\"title\")\n",
        "print(elem.text)\n",
        "\n",
        "#beautifulsoup解析\n",
        "soup = BeautifulSoup(wd.page_source,\"html.parser\")\n",
        "links = soup.select('div.title > a')\n",
        "\n",
        "# title = [ link.get_text() for link in links if '板規' not in link.get_text()]\n",
        "# href = [ f'https://www.ptt.cc{link.get(\"href\")}' for link in links ]\n",
        "\n",
        "res = [\n",
        "    {'title': link.get_text(),\n",
        "     'href': f'https://www.ptt.cc{link.get(\"href\")}'\n",
        "     } for link in links if '公告' not in link.get_text() ]\n",
        "\n",
        "\n",
        "print(res)\n",
        "wd.close()"
      ]
    },
    {
      "cell_type": "code",
      "execution_count": 6,
      "metadata": {
        "colab": {
          "base_uri": "https://localhost:8080/",
          "height": 112
        },
        "id": "hcfMeSAnGtyH",
        "outputId": "5687a33e-4bae-4038-a816-544facac78ae"
      },
      "outputs": [
        {
          "output_type": "execute_result",
          "data": {
            "text/plain": [
              "                title                                               href\n",
              "0   [討論] 異形:聖約  一個小問題  https://www.ptt.cc/bbs/movie/M.1711856856.A.53...\n",
              "1  [討論] 最近看了三部電影的一點想法  https://www.ptt.cc/bbs/movie/M.1711857618.A.C3..."
            ],
            "text/html": [
              "\n",
              "  <div id=\"df-59aa0270-e555-488d-9bf5-e47184b1ae42\" class=\"colab-df-container\">\n",
              "    <div>\n",
              "<style scoped>\n",
              "    .dataframe tbody tr th:only-of-type {\n",
              "        vertical-align: middle;\n",
              "    }\n",
              "\n",
              "    .dataframe tbody tr th {\n",
              "        vertical-align: top;\n",
              "    }\n",
              "\n",
              "    .dataframe thead th {\n",
              "        text-align: right;\n",
              "    }\n",
              "</style>\n",
              "<table border=\"1\" class=\"dataframe\">\n",
              "  <thead>\n",
              "    <tr style=\"text-align: right;\">\n",
              "      <th></th>\n",
              "      <th>title</th>\n",
              "      <th>href</th>\n",
              "    </tr>\n",
              "  </thead>\n",
              "  <tbody>\n",
              "    <tr>\n",
              "      <th>0</th>\n",
              "      <td>[討論] 異形:聖約  一個小問題</td>\n",
              "      <td>https://www.ptt.cc/bbs/movie/M.1711856856.A.53...</td>\n",
              "    </tr>\n",
              "    <tr>\n",
              "      <th>1</th>\n",
              "      <td>[討論] 最近看了三部電影的一點想法</td>\n",
              "      <td>https://www.ptt.cc/bbs/movie/M.1711857618.A.C3...</td>\n",
              "    </tr>\n",
              "  </tbody>\n",
              "</table>\n",
              "</div>\n",
              "    <div class=\"colab-df-buttons\">\n",
              "\n",
              "  <div class=\"colab-df-container\">\n",
              "    <button class=\"colab-df-convert\" onclick=\"convertToInteractive('df-59aa0270-e555-488d-9bf5-e47184b1ae42')\"\n",
              "            title=\"Convert this dataframe to an interactive table.\"\n",
              "            style=\"display:none;\">\n",
              "\n",
              "  <svg xmlns=\"http://www.w3.org/2000/svg\" height=\"24px\" viewBox=\"0 -960 960 960\">\n",
              "    <path d=\"M120-120v-720h720v720H120Zm60-500h600v-160H180v160Zm220 220h160v-160H400v160Zm0 220h160v-160H400v160ZM180-400h160v-160H180v160Zm440 0h160v-160H620v160ZM180-180h160v-160H180v160Zm440 0h160v-160H620v160Z\"/>\n",
              "  </svg>\n",
              "    </button>\n",
              "\n",
              "  <style>\n",
              "    .colab-df-container {\n",
              "      display:flex;\n",
              "      gap: 12px;\n",
              "    }\n",
              "\n",
              "    .colab-df-convert {\n",
              "      background-color: #E8F0FE;\n",
              "      border: none;\n",
              "      border-radius: 50%;\n",
              "      cursor: pointer;\n",
              "      display: none;\n",
              "      fill: #1967D2;\n",
              "      height: 32px;\n",
              "      padding: 0 0 0 0;\n",
              "      width: 32px;\n",
              "    }\n",
              "\n",
              "    .colab-df-convert:hover {\n",
              "      background-color: #E2EBFA;\n",
              "      box-shadow: 0px 1px 2px rgba(60, 64, 67, 0.3), 0px 1px 3px 1px rgba(60, 64, 67, 0.15);\n",
              "      fill: #174EA6;\n",
              "    }\n",
              "\n",
              "    .colab-df-buttons div {\n",
              "      margin-bottom: 4px;\n",
              "    }\n",
              "\n",
              "    [theme=dark] .colab-df-convert {\n",
              "      background-color: #3B4455;\n",
              "      fill: #D2E3FC;\n",
              "    }\n",
              "\n",
              "    [theme=dark] .colab-df-convert:hover {\n",
              "      background-color: #434B5C;\n",
              "      box-shadow: 0px 1px 3px 1px rgba(0, 0, 0, 0.15);\n",
              "      filter: drop-shadow(0px 1px 2px rgba(0, 0, 0, 0.3));\n",
              "      fill: #FFFFFF;\n",
              "    }\n",
              "  </style>\n",
              "\n",
              "    <script>\n",
              "      const buttonEl =\n",
              "        document.querySelector('#df-59aa0270-e555-488d-9bf5-e47184b1ae42 button.colab-df-convert');\n",
              "      buttonEl.style.display =\n",
              "        google.colab.kernel.accessAllowed ? 'block' : 'none';\n",
              "\n",
              "      async function convertToInteractive(key) {\n",
              "        const element = document.querySelector('#df-59aa0270-e555-488d-9bf5-e47184b1ae42');\n",
              "        const dataTable =\n",
              "          await google.colab.kernel.invokeFunction('convertToInteractive',\n",
              "                                                    [key], {});\n",
              "        if (!dataTable) return;\n",
              "\n",
              "        const docLinkHtml = 'Like what you see? Visit the ' +\n",
              "          '<a target=\"_blank\" href=https://colab.research.google.com/notebooks/data_table.ipynb>data table notebook</a>'\n",
              "          + ' to learn more about interactive tables.';\n",
              "        element.innerHTML = '';\n",
              "        dataTable['output_type'] = 'display_data';\n",
              "        await google.colab.output.renderOutput(dataTable, element);\n",
              "        const docLink = document.createElement('div');\n",
              "        docLink.innerHTML = docLinkHtml;\n",
              "        element.appendChild(docLink);\n",
              "      }\n",
              "    </script>\n",
              "  </div>\n",
              "\n",
              "\n",
              "<div id=\"df-e2c87006-82de-4524-8219-912419c9ef93\">\n",
              "  <button class=\"colab-df-quickchart\" onclick=\"quickchart('df-e2c87006-82de-4524-8219-912419c9ef93')\"\n",
              "            title=\"Suggest charts\"\n",
              "            style=\"display:none;\">\n",
              "\n",
              "<svg xmlns=\"http://www.w3.org/2000/svg\" height=\"24px\"viewBox=\"0 0 24 24\"\n",
              "     width=\"24px\">\n",
              "    <g>\n",
              "        <path d=\"M19 3H5c-1.1 0-2 .9-2 2v14c0 1.1.9 2 2 2h14c1.1 0 2-.9 2-2V5c0-1.1-.9-2-2-2zM9 17H7v-7h2v7zm4 0h-2V7h2v10zm4 0h-2v-4h2v4z\"/>\n",
              "    </g>\n",
              "</svg>\n",
              "  </button>\n",
              "\n",
              "<style>\n",
              "  .colab-df-quickchart {\n",
              "      --bg-color: #E8F0FE;\n",
              "      --fill-color: #1967D2;\n",
              "      --hover-bg-color: #E2EBFA;\n",
              "      --hover-fill-color: #174EA6;\n",
              "      --disabled-fill-color: #AAA;\n",
              "      --disabled-bg-color: #DDD;\n",
              "  }\n",
              "\n",
              "  [theme=dark] .colab-df-quickchart {\n",
              "      --bg-color: #3B4455;\n",
              "      --fill-color: #D2E3FC;\n",
              "      --hover-bg-color: #434B5C;\n",
              "      --hover-fill-color: #FFFFFF;\n",
              "      --disabled-bg-color: #3B4455;\n",
              "      --disabled-fill-color: #666;\n",
              "  }\n",
              "\n",
              "  .colab-df-quickchart {\n",
              "    background-color: var(--bg-color);\n",
              "    border: none;\n",
              "    border-radius: 50%;\n",
              "    cursor: pointer;\n",
              "    display: none;\n",
              "    fill: var(--fill-color);\n",
              "    height: 32px;\n",
              "    padding: 0;\n",
              "    width: 32px;\n",
              "  }\n",
              "\n",
              "  .colab-df-quickchart:hover {\n",
              "    background-color: var(--hover-bg-color);\n",
              "    box-shadow: 0 1px 2px rgba(60, 64, 67, 0.3), 0 1px 3px 1px rgba(60, 64, 67, 0.15);\n",
              "    fill: var(--button-hover-fill-color);\n",
              "  }\n",
              "\n",
              "  .colab-df-quickchart-complete:disabled,\n",
              "  .colab-df-quickchart-complete:disabled:hover {\n",
              "    background-color: var(--disabled-bg-color);\n",
              "    fill: var(--disabled-fill-color);\n",
              "    box-shadow: none;\n",
              "  }\n",
              "\n",
              "  .colab-df-spinner {\n",
              "    border: 2px solid var(--fill-color);\n",
              "    border-color: transparent;\n",
              "    border-bottom-color: var(--fill-color);\n",
              "    animation:\n",
              "      spin 1s steps(1) infinite;\n",
              "  }\n",
              "\n",
              "  @keyframes spin {\n",
              "    0% {\n",
              "      border-color: transparent;\n",
              "      border-bottom-color: var(--fill-color);\n",
              "      border-left-color: var(--fill-color);\n",
              "    }\n",
              "    20% {\n",
              "      border-color: transparent;\n",
              "      border-left-color: var(--fill-color);\n",
              "      border-top-color: var(--fill-color);\n",
              "    }\n",
              "    30% {\n",
              "      border-color: transparent;\n",
              "      border-left-color: var(--fill-color);\n",
              "      border-top-color: var(--fill-color);\n",
              "      border-right-color: var(--fill-color);\n",
              "    }\n",
              "    40% {\n",
              "      border-color: transparent;\n",
              "      border-right-color: var(--fill-color);\n",
              "      border-top-color: var(--fill-color);\n",
              "    }\n",
              "    60% {\n",
              "      border-color: transparent;\n",
              "      border-right-color: var(--fill-color);\n",
              "    }\n",
              "    80% {\n",
              "      border-color: transparent;\n",
              "      border-right-color: var(--fill-color);\n",
              "      border-bottom-color: var(--fill-color);\n",
              "    }\n",
              "    90% {\n",
              "      border-color: transparent;\n",
              "      border-bottom-color: var(--fill-color);\n",
              "    }\n",
              "  }\n",
              "</style>\n",
              "\n",
              "  <script>\n",
              "    async function quickchart(key) {\n",
              "      const quickchartButtonEl =\n",
              "        document.querySelector('#' + key + ' button');\n",
              "      quickchartButtonEl.disabled = true;  // To prevent multiple clicks.\n",
              "      quickchartButtonEl.classList.add('colab-df-spinner');\n",
              "      try {\n",
              "        const charts = await google.colab.kernel.invokeFunction(\n",
              "            'suggestCharts', [key], {});\n",
              "      } catch (error) {\n",
              "        console.error('Error during call to suggestCharts:', error);\n",
              "      }\n",
              "      quickchartButtonEl.classList.remove('colab-df-spinner');\n",
              "      quickchartButtonEl.classList.add('colab-df-quickchart-complete');\n",
              "    }\n",
              "    (() => {\n",
              "      let quickchartButtonEl =\n",
              "        document.querySelector('#df-e2c87006-82de-4524-8219-912419c9ef93 button');\n",
              "      quickchartButtonEl.style.display =\n",
              "        google.colab.kernel.accessAllowed ? 'block' : 'none';\n",
              "    })();\n",
              "  </script>\n",
              "</div>\n",
              "\n",
              "    </div>\n",
              "  </div>\n"
            ],
            "application/vnd.google.colaboratory.intrinsic+json": {
              "type": "dataframe",
              "summary": "{\n  \"name\": \"pd\",\n  \"rows\": 2,\n  \"fields\": [\n    {\n      \"column\": \"title\",\n      \"properties\": {\n        \"dtype\": \"string\",\n        \"num_unique_values\": 2,\n        \"samples\": [\n          \"[\\u8a0e\\u8ad6] \\u6700\\u8fd1\\u770b\\u4e86\\u4e09\\u90e8\\u96fb\\u5f71\\u7684\\u4e00\\u9ede\\u60f3\\u6cd5\",\n          \"[\\u8a0e\\u8ad6] \\u7570\\u5f62:\\u8056\\u7d04  \\u4e00\\u500b\\u5c0f\\u554f\\u984c\"\n        ],\n        \"semantic_type\": \"\",\n        \"description\": \"\"\n      }\n    },\n    {\n      \"column\": \"href\",\n      \"properties\": {\n        \"dtype\": \"string\",\n        \"num_unique_values\": 2,\n        \"samples\": [\n          \"https://www.ptt.cc/bbs/movie/M.1711857618.A.C36.html\",\n          \"https://www.ptt.cc/bbs/movie/M.1711856856.A.531.html\"\n        ],\n        \"semantic_type\": \"\",\n        \"description\": \"\"\n      }\n    }\n  ]\n}"
            }
          },
          "metadata": {},
          "execution_count": 6
        }
      ],
      "source": [
        "import pandas as pd\n",
        "\n",
        "pd.DataFrame(res)"
      ]
    },
    {
      "cell_type": "code",
      "execution_count": 7,
      "metadata": {
        "colab": {
          "base_uri": "https://localhost:8080/"
        },
        "id": "TjQRsNrFCMwg",
        "outputId": "4b8e48f2-791b-4dd9-899f-7cac06defee3"
      },
      "outputs": [
        {
          "output_type": "execute_result",
          "data": {
            "text/plain": [
              "0    https://www.ptt.cc/bbs/movie/M.1711856856.A.53...\n",
              "1    https://www.ptt.cc/bbs/movie/M.1711857618.A.C3...\n",
              "Name: href, dtype: object"
            ]
          },
          "metadata": {},
          "execution_count": 7
        }
      ],
      "source": [
        "pd.DataFrame(res)['href']"
      ]
    },
    {
      "cell_type": "markdown",
      "metadata": {
        "id": "uNqZOmdDHJJt"
      },
      "source": [
        "\n",
        "\n",
        "---\n",
        "\n"
      ]
    },
    {
      "cell_type": "code",
      "execution_count": 9,
      "metadata": {
        "cellView": "form",
        "colab": {
          "base_uri": "https://localhost:8080/"
        },
        "id": "w-16-PTz-wts",
        "outputId": "8c4e2a96-f4cd-4b2f-ac79-3d8ae90f4a32"
      },
      "outputs": [
        {
          "output_type": "stream",
          "name": "stdout",
          "text": [
            "openai.comOpenAI\n",
            "chat.openai.comChatGPT\n",
            "openai.com › chatgptChatGPT - OpenAI\n",
            "openai.com › product › gpt-4GPT-4 - OpenAI\n",
            "OpenAI API\n",
            "Product - OpenAI\n",
            "About - OpenAI\n",
            "openai.com › blog › chatgptIntroducing ChatGPT - OpenAI\n",
            "zh.wikipedia.org › zh-tw › OpenAIOpenAI - 維基百科，自由的百科全書\n"
          ]
        }
      ],
      "source": [
        "#@title Yahoo搜尋\n",
        "from selenium import webdriver\n",
        "from selenium.webdriver import Chrome\n",
        "from selenium.webdriver.chrome.options import Options\n",
        "from selenium.webdriver.common.by import By\n",
        "from selenium.webdriver.support.ui import WebDriverWait\n",
        "from selenium.webdriver.support import expected_conditions\n",
        "from bs4 import BeautifulSoup\n",
        "\n",
        "\n",
        "options = Options()\n",
        "options.add_argument('--headless')\n",
        "options.add_argument('--no-sandbox')\n",
        "options.add_argument('--disable-dev-shm-usage')\n",
        "\n",
        "wd = webdriver.Chrome(options=options)\n",
        "url='https://tw.yahoo.com/'\n",
        "wd.get(url)\n",
        "\n",
        "# 操作網頁元素\n",
        "element = wd.find_element(By.ID, 'header-search-input')\n",
        "key_word = 'OpenAI' #@param\n",
        "element.send_keys(key_word)\n",
        "wd.find_element(By.ID, 'header-desktop-search-button').click()\n",
        "\n",
        "# 等待目標表格'id 為 web'的div出現\n",
        "WebDriverWait(wd, 5).until(\n",
        "    expected_conditions.presence_of_element_located((By.ID, 'web')))\n",
        "\n",
        "#然後就是beautifulsoup的範疇了，將目前頁面用bs4解析\n",
        "soup = BeautifulSoup(wd.page_source,\"html.parser\")\n",
        "links = soup.select('div#web h3')\n",
        "\n",
        "for link in links:\n",
        "    print(link.get_text())\n",
        "\n",
        "wd.quit()"
      ]
    },
    {
      "cell_type": "code",
      "execution_count": null,
      "metadata": {
        "cellView": "form",
        "id": "90bY_cdgIlG9"
      },
      "outputs": [],
      "source": [
        "#@title Google搜尋\n",
        "from selenium import webdriver\n",
        "from selenium.webdriver import Chrome\n",
        "from selenium.webdriver.chrome.options import Options\n",
        "from selenium.webdriver.common.by import By\n",
        "from selenium.webdriver.support.ui import WebDriverWait\n",
        "from selenium.webdriver.support import expected_conditions\n",
        "from bs4 import BeautifulSoup\n",
        "\n",
        "\n",
        "options = Options()\n",
        "options.add_argument('--headless')\n",
        "options.add_argument('--no-sandbox')\n",
        "options.add_argument('--disable-dev-shm-usage')\n",
        "\n",
        "wd = webdriver.Chrome(options=options)\n",
        "url = 'https://www.google.com/'\n",
        "wd.get(url)\n",
        "\n",
        "# 用XPATH定位元素 - 搜尋框\n",
        "element = wd.find_element(By.XPATH,\"/html/body/div[4]/div[2]/form/div[1]/div[1]/div[2]/div/div[2]/textarea\")\n",
        "key_word = '\\u9032\\u64CA\\u7684\\u5DE8\\u4EBA'\n",
        "element.send_keys(key_word)\n",
        "\n",
        "# 用XPATH定位元素 - 點選搜尋\n",
        "wd.find_element(By.XPATH,'/html/body/div[1]/div[3]/form/div[1]/div[1]/div[4]/center/input[1]').click()\n",
        "\n",
        "\n",
        "# 用BeautifulSoup解析 - 標題h3\n",
        "soup = BeautifulSoup(wd.page_source,\"html.parser\")\n",
        "links = soup.select('div > a > h3')\n",
        "\n",
        "for link in links:\n",
        "    print(link.get_text())\n",
        "\n",
        "wd.quit()"
      ]
    },
    {
      "cell_type": "code",
      "execution_count": null,
      "metadata": {
        "cellView": "form",
        "id": "vgSm7otm7F7u"
      },
      "outputs": [],
      "source": [
        "#@title PChome 搜尋 PS5\n",
        "# https://blog.jiatool.com/posts/pchome_spider01/\n",
        "# 實際搶單可參考: https://github.com/ywchiu/largitdata/blob/master/code/Course_137.ipynb\n",
        "from selenium import webdriver\n",
        "from selenium.webdriver import Chrome\n",
        "from selenium.webdriver.chrome.options import Options\n",
        "from selenium.webdriver.common.by import By\n",
        "\n",
        "\n",
        "options = Options()\n",
        "options.add_argument(\"--headless\")\n",
        "options.add_argument('--no-sandbox') #在背景執行\n",
        "options.add_argument('--disable-dev-shm-usage')\n",
        "options.add_argument(\"--start-maximized\")\n",
        "options.add_argument('--disable-dev-shm-usage')\n",
        "\n",
        "wd = Chrome(options=options)\n",
        "\n",
        "key_word = 'ps5'\n",
        "\n",
        "url = f'https://ecshweb.pchome.com.tw/search/v3.3/?q={key_word}'\n",
        "wd.get(url)\n",
        "\n",
        "WebDriverWait(wd, 5).until(\n",
        "    expected_conditions.presence_of_element_located((By.TAG_NAME, 'h5')))\n",
        "\n",
        "#beautifulsoup解析\n",
        "soup = BeautifulSoup(wd.page_source,\"html.parser\")\n",
        "# wd.quit()\n",
        "\n",
        "elems = soup.select('h5 > a')\n",
        "\n",
        "items = [{\n",
        "    'title': elem.get_text(),\n",
        "    'link': f'https{elem.get(\"href\")}'}\n",
        "    for elem in elems]\n",
        "\n",
        "\n",
        "items"
      ]
    },
    {
      "cell_type": "code",
      "execution_count": null,
      "metadata": {
        "cellView": "form",
        "id": "cdnoS8V--QSZ"
      },
      "outputs": [],
      "source": [
        "#@title MOMO搶PS5\n",
        "# https://ithelp.ithome.com.tw/articles/10262268\n",
        "from selenium import webdriver\n",
        "from selenium.webdriver import Chrome\n",
        "from selenium.webdriver.chrome.options import Options\n",
        "from selenium.webdriver.common.by import By\n",
        "from selenium.webdriver.support.ui import WebDriverWait\n",
        "from selenium.webdriver.support import expected_conditions as EC\n",
        "import time\n",
        "\n",
        "\n",
        "options = Options()\n",
        "options.add_argument(\"--headless\")\n",
        "options.add_argument('--no-sandbox') #在背景執行\n",
        "options.add_argument('--disable-dev-shm-usage')\n",
        "options.add_argument(\"--start-maximized\")\n",
        "\n",
        "prefs = {'profile.default_content_setting_values':{'notifications': 2}}\n",
        "options.add_experimental_option('prefs', prefs)\n",
        "\n",
        "driver = Chrome(options=options)\n",
        "\n",
        "driver.get(\"https://m.momoshop.com.tw/mymomo/login.momo\") # 到登入頁面\n",
        "\n",
        "driver.find_element(By.ID,'memId').send_keys('帳號') # 輸入帳號\n",
        "driver.find_element(By.ID,'passwd').send_keys('密碼') # 輸入密碼\n",
        "driver.find_element(By.CLASS_NAME,'login').click()\n",
        "driver.get(\"https://www.momoshop.com.tw/goods/GoodsDetail.jsp?i_code=9435324\")\n",
        "\n",
        "count=0\n",
        "while count<2:\n",
        "  try:\n",
        "    buy = WebDriverWait(driver, 1, 0.5).until(EC.presence_of_element_located((By.ID, 'buy_yes'))) # 顯性等待\n",
        "    buy.click() # 偵測到可以購買按鈕就點擊按鈕\n",
        "    print ('可以購買!')\n",
        "    break # 後面結帳部分就不寫囉\n",
        "  except:\n",
        "    print(\"還不能購買! 重新整理!\")\n",
        "    driver.refresh() # 重整頁面\n",
        "    count+=1"
      ]
    }
  ],
  "metadata": {
    "colab": {
      "provenance": [],
      "include_colab_link": true
    },
    "kernelspec": {
      "display_name": "Python 3",
      "name": "python3"
    },
    "language_info": {
      "codemirror_mode": {
        "name": "ipython",
        "version": 3
      },
      "file_extension": ".py",
      "mimetype": "text/x-python",
      "name": "python",
      "nbconvert_exporter": "python",
      "pygments_lexer": "ipython3",
      "version": "3.8.8"
    }
  },
  "nbformat": 4,
  "nbformat_minor": 0
}