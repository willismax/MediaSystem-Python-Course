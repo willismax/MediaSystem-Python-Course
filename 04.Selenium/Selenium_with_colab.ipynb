{
  "cells": [
    {
      "cell_type": "markdown",
      "metadata": {
        "id": "view-in-github",
        "colab_type": "text"
      },
      "source": [
        "<a href=\"https://colab.research.google.com/github/willismax/MediaSystem-Python-Course/blob/main/04.Selenium/Selenium_with_colab.ipynb\" target=\"_parent\"><img src=\"https://colab.research.google.com/assets/colab-badge.svg\" alt=\"Open In Colab\"/></a>"
      ]
    },
    {
      "cell_type": "markdown",
      "metadata": {
        "id": "554PWz0AKh7B"
      },
      "source": [
        "# Selenium"
      ]
    },
    {
      "cell_type": "markdown",
      "metadata": {
        "id": "ZLDxrZXZ8Lpz"
      },
      "source": [
        "\n",
        "- 官方網站介紹\n",
        "    - [Selenium](https://www.selenium.dev/)\n",
        "    - [下載Driver](https://www.selenium.dev/selenium/docs/api/py/index.html)\n",
        "- 克服Colab使用Selenium問題\n",
        "    - https://stackoverflow.com/questions/51046454/how-can-we-use-selenium-webdriver-in-colab-research-google-com\n",
        "    - https://medium.com/@yanweiliu/python%E7%88%AC%E8%9F%B2%E5%AD%B8%E7%BF%92%E7%AD%86%E8%A8%98-%E4%BA%8C-selenium%E8%87%AA%E5%8B%95%E5%8C%96-ab0a27a94ff2"
      ]
    },
    {
      "cell_type": "markdown",
      "metadata": {
        "id": "8hSUl3LADuRF"
      },
      "source": [
        "選擇元素的各種方法\n",
        "```python\n",
        "find_element(By.ID, \"fruits\")\n",
        "find_element(By.NAME, \"q\")\n",
        "find_element(By.CLASS_NAME, \"tomatoes\")\n",
        "find_elements(By.TAG_NAME, \"li\")          #html標籤\n",
        "find_element(By.LINK_TEXT, \"More information...\")\n",
        "find_element(By.PARTIAL_LINK_TEXT, )\n",
        "find_element(By.XPATH, )           #最常用    #/html開頭為絕對路徑；//相對路徑\n",
        "find_element(By.CSS_SELECTOR,\"#fruits .tomatoes\")\n",
        "\n",
        "```\n"
      ]
    },
    {
      "cell_type": "code",
      "execution_count": null,
      "metadata": {
        "colab": {
          "base_uri": "https://localhost:8080/"
        },
        "id": "IZ4ivfcX8X6m",
        "outputId": "9469c6dd-5287-4ce0-fe2e-75cc7555a83f"
      },
      "outputs": [
        {
          "name": "stdout",
          "output_type": "stream",
          "text": [
            "Collecting selenium\n",
            "  Downloading selenium-4.12.0-py3-none-any.whl (9.4 MB)\n",
            "\u001b[2K     \u001b[90m━━━━━━━━━━━━━━━━━━━━━━━━━━━━━━━━━━━━━━━━\u001b[0m \u001b[32m9.4/9.4 MB\u001b[0m \u001b[31m63.5 MB/s\u001b[0m eta \u001b[36m0:00:00\u001b[0m\n",
            "\u001b[?25hRequirement already satisfied: urllib3[socks]<3,>=1.26 in /usr/local/lib/python3.10/dist-packages (from selenium) (2.0.4)\n",
            "Collecting trio~=0.17 (from selenium)\n",
            "  Downloading trio-0.22.2-py3-none-any.whl (400 kB)\n",
            "\u001b[2K     \u001b[90m━━━━━━━━━━━━━━━━━━━━━━━━━━━━━━━━━━━━━━\u001b[0m \u001b[32m400.2/400.2 kB\u001b[0m \u001b[31m42.6 MB/s\u001b[0m eta \u001b[36m0:00:00\u001b[0m\n",
            "\u001b[?25hCollecting trio-websocket~=0.9 (from selenium)\n",
            "  Downloading trio_websocket-0.10.3-py3-none-any.whl (17 kB)\n",
            "Requirement already satisfied: certifi>=2021.10.8 in /usr/local/lib/python3.10/dist-packages (from selenium) (2023.7.22)\n",
            "Requirement already satisfied: attrs>=20.1.0 in /usr/local/lib/python3.10/dist-packages (from trio~=0.17->selenium) (23.1.0)\n",
            "Requirement already satisfied: sortedcontainers in /usr/local/lib/python3.10/dist-packages (from trio~=0.17->selenium) (2.4.0)\n",
            "Requirement already satisfied: idna in /usr/local/lib/python3.10/dist-packages (from trio~=0.17->selenium) (3.4)\n",
            "Collecting outcome (from trio~=0.17->selenium)\n",
            "  Downloading outcome-1.2.0-py2.py3-none-any.whl (9.7 kB)\n",
            "Requirement already satisfied: sniffio in /usr/local/lib/python3.10/dist-packages (from trio~=0.17->selenium) (1.3.0)\n",
            "Requirement already satisfied: exceptiongroup>=1.0.0rc9 in /usr/local/lib/python3.10/dist-packages (from trio~=0.17->selenium) (1.1.3)\n",
            "Collecting wsproto>=0.14 (from trio-websocket~=0.9->selenium)\n",
            "  Downloading wsproto-1.2.0-py3-none-any.whl (24 kB)\n",
            "Requirement already satisfied: pysocks!=1.5.7,<2.0,>=1.5.6 in /usr/local/lib/python3.10/dist-packages (from urllib3[socks]<3,>=1.26->selenium) (1.7.1)\n",
            "Collecting h11<1,>=0.9.0 (from wsproto>=0.14->trio-websocket~=0.9->selenium)\n",
            "  Downloading h11-0.14.0-py3-none-any.whl (58 kB)\n",
            "\u001b[2K     \u001b[90m━━━━━━━━━━━━━━━━━━━━━━━━━━━━━━━━━━━━━━━━\u001b[0m \u001b[32m58.3/58.3 kB\u001b[0m \u001b[31m8.0 MB/s\u001b[0m eta \u001b[36m0:00:00\u001b[0m\n",
            "\u001b[?25hInstalling collected packages: outcome, h11, wsproto, trio, trio-websocket, selenium\n",
            "Successfully installed h11-0.14.0 outcome-1.2.0 selenium-4.12.0 trio-0.22.2 trio-websocket-0.10.3 wsproto-1.2.0\n",
            "Get:1 https://cloud.r-project.org/bin/linux/ubuntu jammy-cran40/ InRelease [3,626 B]\n",
            "Hit:2 https://developer.download.nvidia.com/compute/cuda/repos/ubuntu2204/x86_64  InRelease\n",
            "Hit:3 http://archive.ubuntu.com/ubuntu jammy InRelease\n",
            "Get:4 http://security.ubuntu.com/ubuntu jammy-security InRelease [110 kB]\n",
            "Get:5 http://archive.ubuntu.com/ubuntu jammy-updates InRelease [119 kB]\n",
            "Hit:6 https://ppa.launchpadcontent.net/c2d4u.team/c2d4u4.0+/ubuntu jammy InRelease\n",
            "Get:7 http://archive.ubuntu.com/ubuntu jammy-backports InRelease [109 kB]\n",
            "Get:8 http://security.ubuntu.com/ubuntu jammy-security/main amd64 Packages [915 kB]\n",
            "Get:9 http://archive.ubuntu.com/ubuntu jammy-updates/main amd64 Packages [1,185 kB]\n",
            "Hit:10 https://ppa.launchpadcontent.net/deadsnakes/ppa/ubuntu jammy InRelease\n",
            "Get:11 http://security.ubuntu.com/ubuntu jammy-security/restricted amd64 Packages [995 kB]\n",
            "Get:12 http://archive.ubuntu.com/ubuntu jammy-updates/restricted amd64 Packages [1,015 kB]\n",
            "Get:13 https://ppa.launchpadcontent.net/graphics-drivers/ppa/ubuntu jammy InRelease [24.3 kB]\n",
            "Get:14 http://archive.ubuntu.com/ubuntu jammy-updates/universe amd64 Packages [1,251 kB]\n",
            "Hit:15 https://ppa.launchpadcontent.net/ubuntugis/ppa/ubuntu jammy InRelease\n",
            "Get:16 https://ppa.launchpadcontent.net/graphics-drivers/ppa/ubuntu jammy/main amd64 Packages [37.3 kB]\n",
            "Fetched 5,765 kB in 2s (3,075 kB/s)\n",
            "Reading package lists... Done\n",
            "Reading package lists... Done\n",
            "Building dependency tree... Done\n",
            "Reading state information... Done\n",
            "The following additional packages will be installed:\n",
            "  apparmor chromium-browser libfuse3-3 liblzo2-2 snapd squashfs-tools\n",
            "  systemd-hwe-hwdb udev\n",
            "Suggested packages:\n",
            "  apparmor-profiles-extra apparmor-utils fuse3 zenity | kdialog\n",
            "The following NEW packages will be installed:\n",
            "  apparmor chromium-browser chromium-chromedriver libfuse3-3 liblzo2-2 snapd\n",
            "  squashfs-tools systemd-hwe-hwdb udev\n",
            "0 upgraded, 9 newly installed, 0 to remove and 16 not upgraded.\n",
            "Need to get 26.3 MB of archives.\n",
            "After this operation, 116 MB of additional disk space will be used.\n",
            "Get:1 http://archive.ubuntu.com/ubuntu jammy-updates/main amd64 apparmor amd64 3.0.4-2ubuntu2.2 [595 kB]\n",
            "Get:2 http://archive.ubuntu.com/ubuntu jammy/main amd64 liblzo2-2 amd64 2.10-2build3 [53.7 kB]\n",
            "Get:3 http://archive.ubuntu.com/ubuntu jammy/main amd64 squashfs-tools amd64 1:4.5-3build1 [159 kB]\n",
            "Get:4 http://archive.ubuntu.com/ubuntu jammy-updates/main amd64 udev amd64 249.11-0ubuntu3.9 [1,557 kB]\n",
            "Get:5 http://archive.ubuntu.com/ubuntu jammy/main amd64 libfuse3-3 amd64 3.10.5-1build1 [81.2 kB]\n",
            "Get:6 http://archive.ubuntu.com/ubuntu jammy-updates/main amd64 snapd amd64 2.58+22.04.1 [23.8 MB]\n",
            "Get:7 http://archive.ubuntu.com/ubuntu jammy-updates/universe amd64 chromium-browser amd64 1:85.0.4183.83-0ubuntu2.22.04.1 [49.2 kB]\n",
            "Get:8 http://archive.ubuntu.com/ubuntu jammy-updates/universe amd64 chromium-chromedriver amd64 1:85.0.4183.83-0ubuntu2.22.04.1 [2,308 B]\n",
            "Get:9 http://archive.ubuntu.com/ubuntu jammy-updates/main amd64 systemd-hwe-hwdb all 249.11.3 [2,908 B]\n",
            "Fetched 26.3 MB in 2s (16.3 MB/s)\n",
            "Preconfiguring packages ...\n",
            "Selecting previously unselected package apparmor.\n",
            "(Reading database ... 120893 files and directories currently installed.)\n",
            "Preparing to unpack .../0-apparmor_3.0.4-2ubuntu2.2_amd64.deb ...\n",
            "Unpacking apparmor (3.0.4-2ubuntu2.2) ...\n",
            "Selecting previously unselected package liblzo2-2:amd64.\n",
            "Preparing to unpack .../1-liblzo2-2_2.10-2build3_amd64.deb ...\n",
            "Unpacking liblzo2-2:amd64 (2.10-2build3) ...\n",
            "Selecting previously unselected package squashfs-tools.\n",
            "Preparing to unpack .../2-squashfs-tools_1%3a4.5-3build1_amd64.deb ...\n",
            "Unpacking squashfs-tools (1:4.5-3build1) ...\n",
            "Selecting previously unselected package udev.\n",
            "Preparing to unpack .../3-udev_249.11-0ubuntu3.9_amd64.deb ...\n",
            "Unpacking udev (249.11-0ubuntu3.9) ...\n",
            "Selecting previously unselected package libfuse3-3:amd64.\n",
            "Preparing to unpack .../4-libfuse3-3_3.10.5-1build1_amd64.deb ...\n",
            "Unpacking libfuse3-3:amd64 (3.10.5-1build1) ...\n",
            "Selecting previously unselected package snapd.\n",
            "Preparing to unpack .../5-snapd_2.58+22.04.1_amd64.deb ...\n",
            "Unpacking snapd (2.58+22.04.1) ...\n",
            "Setting up apparmor (3.0.4-2ubuntu2.2) ...\n",
            "Created symlink /etc/systemd/system/sysinit.target.wants/apparmor.service → /lib/systemd/system/apparmor.service.\n",
            "Setting up liblzo2-2:amd64 (2.10-2build3) ...\n",
            "Setting up squashfs-tools (1:4.5-3build1) ...\n",
            "Setting up udev (249.11-0ubuntu3.9) ...\n",
            "invoke-rc.d: could not determine current runlevel\n",
            "invoke-rc.d: policy-rc.d denied execution of start.\n",
            "Setting up libfuse3-3:amd64 (3.10.5-1build1) ...\n",
            "Setting up snapd (2.58+22.04.1) ...\n",
            "Created symlink /etc/systemd/system/multi-user.target.wants/snapd.aa-prompt-listener.service → /lib/systemd/system/snapd.aa-prompt-listener.service.\n",
            "Created symlink /etc/systemd/system/multi-user.target.wants/snapd.apparmor.service → /lib/systemd/system/snapd.apparmor.service.\n",
            "Created symlink /etc/systemd/system/multi-user.target.wants/snapd.autoimport.service → /lib/systemd/system/snapd.autoimport.service.\n",
            "Created symlink /etc/systemd/system/multi-user.target.wants/snapd.core-fixup.service → /lib/systemd/system/snapd.core-fixup.service.\n",
            "Created symlink /etc/systemd/system/multi-user.target.wants/snapd.recovery-chooser-trigger.service → /lib/systemd/system/snapd.recovery-chooser-trigger.service.\n",
            "Created symlink /etc/systemd/system/multi-user.target.wants/snapd.seeded.service → /lib/systemd/system/snapd.seeded.service.\n",
            "Created symlink /etc/systemd/system/cloud-final.service.wants/snapd.seeded.service → /lib/systemd/system/snapd.seeded.service.\n",
            "Unit /lib/systemd/system/snapd.seeded.service is added as a dependency to a non-existent unit cloud-final.service.\n",
            "Created symlink /etc/systemd/system/multi-user.target.wants/snapd.service → /lib/systemd/system/snapd.service.\n",
            "Created symlink /etc/systemd/system/timers.target.wants/snapd.snap-repair.timer → /lib/systemd/system/snapd.snap-repair.timer.\n",
            "Created symlink /etc/systemd/system/sockets.target.wants/snapd.socket → /lib/systemd/system/snapd.socket.\n",
            "Created symlink /etc/systemd/system/final.target.wants/snapd.system-shutdown.service → /lib/systemd/system/snapd.system-shutdown.service.\n",
            "Selecting previously unselected package chromium-browser.\n",
            "(Reading database ... 121333 files and directories currently installed.)\n",
            "Preparing to unpack .../chromium-browser_1%3a85.0.4183.83-0ubuntu2.22.04.1_amd64.deb ...\n",
            "=> Installing the chromium snap\n",
            "==> Checking connectivity with the snap store\n",
            "===> System doesn't have a working snapd, skipping\n",
            "Unpacking chromium-browser (1:85.0.4183.83-0ubuntu2.22.04.1) ...\n",
            "Selecting previously unselected package chromium-chromedriver.\n",
            "Preparing to unpack .../chromium-chromedriver_1%3a85.0.4183.83-0ubuntu2.22.04.1_amd64.deb ...\n",
            "Unpacking chromium-chromedriver (1:85.0.4183.83-0ubuntu2.22.04.1) ...\n",
            "Selecting previously unselected package systemd-hwe-hwdb.\n",
            "Preparing to unpack .../systemd-hwe-hwdb_249.11.3_all.deb ...\n",
            "Unpacking systemd-hwe-hwdb (249.11.3) ...\n",
            "Setting up systemd-hwe-hwdb (249.11.3) ...\n",
            "Setting up chromium-browser (1:85.0.4183.83-0ubuntu2.22.04.1) ...\n",
            "update-alternatives: using /usr/bin/chromium-browser to provide /usr/bin/x-www-browser (x-www-browser) in auto mode\n",
            "update-alternatives: using /usr/bin/chromium-browser to provide /usr/bin/gnome-www-browser (gnome-www-browser) in auto mode\n",
            "Setting up chromium-chromedriver (1:85.0.4183.83-0ubuntu2.22.04.1) ...\n",
            "Processing triggers for udev (249.11-0ubuntu3.9) ...\n",
            "Processing triggers for hicolor-icon-theme (0.17-2) ...\n",
            "Processing triggers for libc-bin (2.35-0ubuntu3.1) ...\n",
            "/sbin/ldconfig.real: /usr/local/lib/libtbbmalloc.so.2 is not a symbolic link\n",
            "\n",
            "/sbin/ldconfig.real: /usr/local/lib/libtbbmalloc_proxy.so.2 is not a symbolic link\n",
            "\n",
            "/sbin/ldconfig.real: /usr/local/lib/libtbb.so.12 is not a symbolic link\n",
            "\n",
            "/sbin/ldconfig.real: /usr/local/lib/libtbbbind_2_5.so.3 is not a symbolic link\n",
            "\n",
            "/sbin/ldconfig.real: /usr/local/lib/libtbbbind.so.3 is not a symbolic link\n",
            "\n",
            "/sbin/ldconfig.real: /usr/local/lib/libtbbbind_2_0.so.3 is not a symbolic link\n",
            "\n",
            "Processing triggers for man-db (2.10.2-1) ...\n",
            "Processing triggers for dbus (1.12.20-2ubuntu4.1) ...\n",
            "cp: '/usr/lib/chromium-browser/chromedriver' and '/usr/bin/chromedriver' are the same file\n"
          ]
        }
      ],
      "source": [
        "#下載安裝相關套件，以下為Colab的安裝方式\n",
        "\n",
        "!pip install selenium\n",
        "!apt-get update\n",
        "!apt install chromium-chromedriver\n",
        "!cp /usr/lib/chromium-browser/chromedriver /usr/bin"
      ]
    },
    {
      "cell_type": "markdown",
      "metadata": {
        "id": "r2frX1gyv3Si"
      },
      "source": [
        "### 常用的`webdriver.ChromeOptions()`參數\n",
        "- start-maximized: Chrome開啟最大化視窗\n",
        "- incognito: 無痕模式開啟\n",
        "- headless: 不開啟Chrome模式\n",
        "- disable-extensions: 停用Chrome擴充功能\n",
        "- disable-popup-blocking: 停用Chrome彈出視窗\n",
        "- make-default-browser: 設為預設瀏覽器\n",
        "- version: 顯示瀏覽器版本\n",
        "- disable-infobars: 阻止 Chrome 顯示通知“Chrome 由自動化軟體控制”"
      ]
    },
    {
      "cell_type": "code",
      "execution_count": null,
      "metadata": {
        "colab": {
          "background_save": true
        },
        "id": "hjWGOEB18oY6",
        "outputId": "49e37760-e901-41f4-8593-10fe1afd5a5e"
      },
      "outputs": [
        {
          "ename": "TypeError",
          "evalue": "ignored",
          "output_type": "error",
          "traceback": [
            "\u001b[0;31m---------------------------------------------------------------------------\u001b[0m",
            "\u001b[0;31mTypeError\u001b[0m                                 Traceback (most recent call last)",
            "\u001b[0;32m<ipython-input-2-add82b5f4adc>\u001b[0m in \u001b[0;36m<cell line: 14>\u001b[0;34m()\u001b[0m\n\u001b[1;32m     12\u001b[0m \u001b[0;34m\u001b[0m\u001b[0m\n\u001b[1;32m     13\u001b[0m \u001b[0;34m\u001b[0m\u001b[0m\n\u001b[0;32m---> 14\u001b[0;31m \u001b[0mwd\u001b[0m \u001b[0;34m=\u001b[0m \u001b[0mwebdriver\u001b[0m\u001b[0;34m.\u001b[0m\u001b[0mChrome\u001b[0m\u001b[0;34m(\u001b[0m\u001b[0;34m'chromedriver'\u001b[0m\u001b[0;34m,\u001b[0m \u001b[0mchrome_options\u001b[0m\u001b[0;34m=\u001b[0m\u001b[0mchrome_options\u001b[0m\u001b[0;34m)\u001b[0m\u001b[0;34m\u001b[0m\u001b[0;34m\u001b[0m\u001b[0m\n\u001b[0m\u001b[1;32m     15\u001b[0m \u001b[0murl\u001b[0m \u001b[0;34m=\u001b[0m \u001b[0;34m\"https://www.ptt.cc/bbs/Gossiping/M.1637073252.A.4B3.html\"\u001b[0m\u001b[0;34m\u001b[0m\u001b[0;34m\u001b[0m\u001b[0m\n\u001b[1;32m     16\u001b[0m \u001b[0mwd\u001b[0m\u001b[0;34m.\u001b[0m\u001b[0mget\u001b[0m\u001b[0;34m(\u001b[0m\u001b[0murl\u001b[0m\u001b[0;34m)\u001b[0m\u001b[0;34m\u001b[0m\u001b[0;34m\u001b[0m\u001b[0m\n",
            "\u001b[0;31mTypeError\u001b[0m: WebDriver.__init__() got an unexpected keyword argument 'chrome_options'"
          ]
        }
      ],
      "source": [
        "#@title 以 Selenium 爬取 PTT 指定目標\n",
        "\n",
        "from selenium.webdriver.common.by import By\n",
        "from selenium import webdriver\n",
        "import sys\n",
        "\n",
        "sys.path.insert(0,'/usr/lib/chromium-browser/chromedriver')\n",
        "chrome_options = webdriver.ChromeOptions()\n",
        "chrome_options.add_argument('--headless') #在背景執行\n",
        "chrome_options.add_argument('--no-sandbox')\n",
        "chrome_options.add_argument('--disable-dev-shm-usage')\n",
        "\n",
        "\n",
        "wd = webdriver.Chrome('chromedriver', chrome_options=chrome_options)\n",
        "url = \"https://www.ptt.cc/bbs/Gossiping/M.1637073252.A.4B3.html\"\n",
        "wd.get(url)\n",
        "\n",
        "while (wd.current_url=='https://www.ptt.cc/ask/over18?from=%2Fbbs%2FGossiping%2FM.1637073252.A.4B3.html'):  #跳轉詢問18歲詢問頁面時，注意URL?from的變化\n",
        "  wd.find_element(By.CLASS_NAME, \"over18-button-container\").click() #class定位\n",
        "\n",
        "# 改XPATH定位\n",
        "# 改SELECTOR定位\n",
        "\n",
        "\n",
        "elem = wd.find_element(By.LINK_TEXT,'https://i.imgur.com/eYdHA26.png')\n",
        "print(elem.text)\n",
        "wd.close()\n"
      ]
    },
    {
      "cell_type": "markdown",
      "metadata": {
        "id": "Dxiy3VEHa25b"
      },
      "source": [
        "\n",
        "\n",
        "---\n",
        "\n"
      ]
    },
    {
      "cell_type": "code",
      "execution_count": null,
      "metadata": {
        "colab": {
          "base_uri": "https://localhost:8080/"
        },
        "id": "oLya4zKJbf2K",
        "outputId": "125f7841-0221-4608-f4a4-58deae0176bf"
      },
      "outputs": [
        {
          "name": "stderr",
          "output_type": "stream",
          "text": [
            "<ipython-input-5-264b28c70dc3>:16: DeprecationWarning: use options instead of chrome_options\n",
            "  wd = webdriver.Chrome('chromedriver',chrome_options=chrome_options)\n"
          ]
        },
        {
          "name": "stdout",
          "output_type": "stream",
          "text": [
            "[{'title': '[新聞] 好萊塢華人百年電影特展  盧燕、陳沖親述', 'href': 'https://www.ptt.cc/bbs/movie/M.1670037923.A.778.html'}, {'title': '[  雷] 超好雷 灌籃高手 The first SLAM DUNK', 'href': 'https://www.ptt.cc/bbs/movie/M.1670039071.A.EB7.html'}, {'title': 'Re: [  雷] 灌籃高手 試合終了', 'href': 'https://www.ptt.cc/bbs/movie/M.1670040067.A.E7D.html'}, {'title': '[普雷] 灌籃高手 THE FIRST SLAM DUNK', 'href': 'https://www.ptt.cc/bbs/movie/M.1670040472.A.7FF.html'}, {'title': '[贈送] 新光影城電影票兩張', 'href': 'https://www.ptt.cc/bbs/movie/M.1670041613.A.634.html'}, {'title': 'Re: [  雷] 灌籃高手 試合終了', 'href': 'https://www.ptt.cc/bbs/movie/M.1670043426.A.F05.html'}, {'title': 'Re: [  雷] 灌籃高手 試合終了', 'href': 'https://www.ptt.cc/bbs/movie/M.1670049522.A.7D8.html'}]\n"
          ]
        }
      ],
      "source": [
        "#@title 以 Selenium 搜尋 PTT 指定列表\n",
        "\n",
        "from selenium import webdriver\n",
        "from selenium.webdriver.support.ui import WebDriverWait\n",
        "from selenium.webdriver.support import expected_conditions\n",
        "from selenium.webdriver.common.by import By\n",
        "from bs4 import BeautifulSoup\n",
        "import sys\n",
        "\n",
        "sys.path.insert(0,'/usr/lib/chromium-browser/chromedriver')\n",
        "\n",
        "chrome_options = webdriver.ChromeOptions()\n",
        "chrome_options.add_argument('--headless')\n",
        "chrome_options.add_argument('--no-sandbox')\n",
        "chrome_options.add_argument('--disable-dev-shm-usage')\n",
        "wd = webdriver.Chrome('chromedriver',chrome_options=chrome_options)\n",
        "url ='https://www.ptt.cc/bbs/movie/index.html'\n",
        "wd.get(url)\n",
        "\n",
        "elem = wd.find_element(By.CLASS_NAME,\"title\")\n",
        "# print(elem.text)\n",
        "\n",
        "#beautifulsoup解析\n",
        "soup = BeautifulSoup(wd.page_source,\"html.parser\")\n",
        "links = soup.select('div.title > a')\n",
        "\n",
        "# title = [ link.get_text() for link in links if '板規' not in link.get_text()]\n",
        "# href = [ f'https://www.ptt.cc{link.get(\"href\")}' for link in links ]\n",
        "\n",
        "res = [{\n",
        "    'title': link.get_text(),\n",
        "    'href': f'https://www.ptt.cc{link.get(\"href\")}'\n",
        "} for link in links if '公告' not in link.get_text() ]\n",
        "\n",
        "\n",
        "print(res)\n",
        "wd.close()"
      ]
    },
    {
      "cell_type": "code",
      "execution_count": null,
      "metadata": {
        "colab": {
          "base_uri": "https://localhost:8080/",
          "height": 385
        },
        "id": "hcfMeSAnGtyH",
        "outputId": "bc7d19cc-bd30-4a50-bcd9-927f7992dcda"
      },
      "outputs": [
        {
          "data": {
            "text/html": [
              "\n",
              "  <div id=\"df-d6833161-d843-4553-a4fe-f133917aaad2\">\n",
              "    <div class=\"colab-df-container\">\n",
              "      <div>\n",
              "<style scoped>\n",
              "    .dataframe tbody tr th:only-of-type {\n",
              "        vertical-align: middle;\n",
              "    }\n",
              "\n",
              "    .dataframe tbody tr th {\n",
              "        vertical-align: top;\n",
              "    }\n",
              "\n",
              "    .dataframe thead th {\n",
              "        text-align: right;\n",
              "    }\n",
              "</style>\n",
              "<table border=\"1\" class=\"dataframe\">\n",
              "  <thead>\n",
              "    <tr style=\"text-align: right;\">\n",
              "      <th></th>\n",
              "      <th>title</th>\n",
              "      <th>href</th>\n",
              "    </tr>\n",
              "  </thead>\n",
              "  <tbody>\n",
              "    <tr>\n",
              "      <th>0</th>\n",
              "      <td>[新聞] 好萊塢華人百年電影特展  盧燕、陳沖親述</td>\n",
              "      <td>https://www.ptt.cc/bbs/movie/M.1670037923.A.77...</td>\n",
              "    </tr>\n",
              "    <tr>\n",
              "      <th>1</th>\n",
              "      <td>[  雷] 超好雷 灌籃高手 The first SLAM DUNK</td>\n",
              "      <td>https://www.ptt.cc/bbs/movie/M.1670039071.A.EB...</td>\n",
              "    </tr>\n",
              "    <tr>\n",
              "      <th>2</th>\n",
              "      <td>Re: [  雷] 灌籃高手 試合終了</td>\n",
              "      <td>https://www.ptt.cc/bbs/movie/M.1670040067.A.E7...</td>\n",
              "    </tr>\n",
              "    <tr>\n",
              "      <th>3</th>\n",
              "      <td>[普雷] 灌籃高手 THE FIRST SLAM DUNK</td>\n",
              "      <td>https://www.ptt.cc/bbs/movie/M.1670040472.A.7F...</td>\n",
              "    </tr>\n",
              "    <tr>\n",
              "      <th>4</th>\n",
              "      <td>[贈送] 新光影城電影票兩張</td>\n",
              "      <td>https://www.ptt.cc/bbs/movie/M.1670041613.A.63...</td>\n",
              "    </tr>\n",
              "    <tr>\n",
              "      <th>5</th>\n",
              "      <td>Re: [  雷] 灌籃高手 試合終了</td>\n",
              "      <td>https://www.ptt.cc/bbs/movie/M.1670043426.A.F0...</td>\n",
              "    </tr>\n",
              "    <tr>\n",
              "      <th>6</th>\n",
              "      <td>Re: [  雷] 灌籃高手 試合終了</td>\n",
              "      <td>https://www.ptt.cc/bbs/movie/M.1670049522.A.7D...</td>\n",
              "    </tr>\n",
              "  </tbody>\n",
              "</table>\n",
              "</div>\n",
              "      <button class=\"colab-df-convert\" onclick=\"convertToInteractive('df-d6833161-d843-4553-a4fe-f133917aaad2')\"\n",
              "              title=\"Convert this dataframe to an interactive table.\"\n",
              "              style=\"display:none;\">\n",
              "        \n",
              "  <svg xmlns=\"http://www.w3.org/2000/svg\" height=\"24px\"viewBox=\"0 0 24 24\"\n",
              "       width=\"24px\">\n",
              "    <path d=\"M0 0h24v24H0V0z\" fill=\"none\"/>\n",
              "    <path d=\"M18.56 5.44l.94 2.06.94-2.06 2.06-.94-2.06-.94-.94-2.06-.94 2.06-2.06.94zm-11 1L8.5 8.5l.94-2.06 2.06-.94-2.06-.94L8.5 2.5l-.94 2.06-2.06.94zm10 10l.94 2.06.94-2.06 2.06-.94-2.06-.94-.94-2.06-.94 2.06-2.06.94z\"/><path d=\"M17.41 7.96l-1.37-1.37c-.4-.4-.92-.59-1.43-.59-.52 0-1.04.2-1.43.59L10.3 9.45l-7.72 7.72c-.78.78-.78 2.05 0 2.83L4 21.41c.39.39.9.59 1.41.59.51 0 1.02-.2 1.41-.59l7.78-7.78 2.81-2.81c.8-.78.8-2.07 0-2.86zM5.41 20L4 18.59l7.72-7.72 1.47 1.35L5.41 20z\"/>\n",
              "  </svg>\n",
              "      </button>\n",
              "      \n",
              "  <style>\n",
              "    .colab-df-container {\n",
              "      display:flex;\n",
              "      flex-wrap:wrap;\n",
              "      gap: 12px;\n",
              "    }\n",
              "\n",
              "    .colab-df-convert {\n",
              "      background-color: #E8F0FE;\n",
              "      border: none;\n",
              "      border-radius: 50%;\n",
              "      cursor: pointer;\n",
              "      display: none;\n",
              "      fill: #1967D2;\n",
              "      height: 32px;\n",
              "      padding: 0 0 0 0;\n",
              "      width: 32px;\n",
              "    }\n",
              "\n",
              "    .colab-df-convert:hover {\n",
              "      background-color: #E2EBFA;\n",
              "      box-shadow: 0px 1px 2px rgba(60, 64, 67, 0.3), 0px 1px 3px 1px rgba(60, 64, 67, 0.15);\n",
              "      fill: #174EA6;\n",
              "    }\n",
              "\n",
              "    [theme=dark] .colab-df-convert {\n",
              "      background-color: #3B4455;\n",
              "      fill: #D2E3FC;\n",
              "    }\n",
              "\n",
              "    [theme=dark] .colab-df-convert:hover {\n",
              "      background-color: #434B5C;\n",
              "      box-shadow: 0px 1px 3px 1px rgba(0, 0, 0, 0.15);\n",
              "      filter: drop-shadow(0px 1px 2px rgba(0, 0, 0, 0.3));\n",
              "      fill: #FFFFFF;\n",
              "    }\n",
              "  </style>\n",
              "\n",
              "      <script>\n",
              "        const buttonEl =\n",
              "          document.querySelector('#df-d6833161-d843-4553-a4fe-f133917aaad2 button.colab-df-convert');\n",
              "        buttonEl.style.display =\n",
              "          google.colab.kernel.accessAllowed ? 'block' : 'none';\n",
              "\n",
              "        async function convertToInteractive(key) {\n",
              "          const element = document.querySelector('#df-d6833161-d843-4553-a4fe-f133917aaad2');\n",
              "          const dataTable =\n",
              "            await google.colab.kernel.invokeFunction('convertToInteractive',\n",
              "                                                     [key], {});\n",
              "          if (!dataTable) return;\n",
              "\n",
              "          const docLinkHtml = 'Like what you see? Visit the ' +\n",
              "            '<a target=\"_blank\" href=https://colab.research.google.com/notebooks/data_table.ipynb>data table notebook</a>'\n",
              "            + ' to learn more about interactive tables.';\n",
              "          element.innerHTML = '';\n",
              "          dataTable['output_type'] = 'display_data';\n",
              "          await google.colab.output.renderOutput(dataTable, element);\n",
              "          const docLink = document.createElement('div');\n",
              "          docLink.innerHTML = docLinkHtml;\n",
              "          element.appendChild(docLink);\n",
              "        }\n",
              "      </script>\n",
              "    </div>\n",
              "  </div>\n",
              "  "
            ],
            "text/plain": [
              "                                title  \\\n",
              "0           [新聞] 好萊塢華人百年電影特展  盧燕、陳沖親述   \n",
              "1  [  雷] 超好雷 灌籃高手 The first SLAM DUNK   \n",
              "2                 Re: [  雷] 灌籃高手 試合終了   \n",
              "3       [普雷] 灌籃高手 THE FIRST SLAM DUNK   \n",
              "4                      [贈送] 新光影城電影票兩張   \n",
              "5                 Re: [  雷] 灌籃高手 試合終了   \n",
              "6                 Re: [  雷] 灌籃高手 試合終了   \n",
              "\n",
              "                                                href  \n",
              "0  https://www.ptt.cc/bbs/movie/M.1670037923.A.77...  \n",
              "1  https://www.ptt.cc/bbs/movie/M.1670039071.A.EB...  \n",
              "2  https://www.ptt.cc/bbs/movie/M.1670040067.A.E7...  \n",
              "3  https://www.ptt.cc/bbs/movie/M.1670040472.A.7F...  \n",
              "4  https://www.ptt.cc/bbs/movie/M.1670041613.A.63...  \n",
              "5  https://www.ptt.cc/bbs/movie/M.1670043426.A.F0...  \n",
              "6  https://www.ptt.cc/bbs/movie/M.1670049522.A.7D...  "
            ]
          },
          "execution_count": 6,
          "metadata": {},
          "output_type": "execute_result"
        }
      ],
      "source": [
        "import pandas as pd\n",
        "\n",
        "# pd.DataFrame({\"title\":title, \"href\":href})\n",
        "pd.DataFrame(res)\n"
      ]
    },
    {
      "cell_type": "code",
      "execution_count": null,
      "metadata": {
        "colab": {
          "base_uri": "https://localhost:8080/"
        },
        "id": "TjQRsNrFCMwg",
        "outputId": "cafac867-0f6c-46e9-c570-69af623c2a5d"
      },
      "outputs": [
        {
          "data": {
            "text/plain": [
              "0    https://www.ptt.cc/bbs/movie/M.1670037923.A.77...\n",
              "1    https://www.ptt.cc/bbs/movie/M.1670039071.A.EB...\n",
              "2    https://www.ptt.cc/bbs/movie/M.1670040067.A.E7...\n",
              "3    https://www.ptt.cc/bbs/movie/M.1670040472.A.7F...\n",
              "4    https://www.ptt.cc/bbs/movie/M.1670041613.A.63...\n",
              "5    https://www.ptt.cc/bbs/movie/M.1670043426.A.F0...\n",
              "6    https://www.ptt.cc/bbs/movie/M.1670049522.A.7D...\n",
              "Name: href, dtype: object"
            ]
          },
          "execution_count": 7,
          "metadata": {},
          "output_type": "execute_result"
        }
      ],
      "source": [
        "pd.DataFrame(res)['href']\n"
      ]
    },
    {
      "cell_type": "markdown",
      "metadata": {
        "id": "uNqZOmdDHJJt"
      },
      "source": [
        "\n",
        "\n",
        "---\n",
        "\n"
      ]
    },
    {
      "cell_type": "code",
      "execution_count": null,
      "metadata": {
        "cellView": "form",
        "id": "w-16-PTz-wts"
      },
      "outputs": [],
      "source": [
        "#@title Yahoo搜尋 \"霍華德\"\n",
        "from selenium import webdriver\n",
        "from selenium.webdriver.support.ui import WebDriverWait\n",
        "from selenium.webdriver.support import expected_conditions\n",
        "from selenium.webdriver.common.by import By\n",
        "from bs4 import BeautifulSoup\n",
        "\n",
        "\n",
        "chrome_options = webdriver.ChromeOptions()\n",
        "chrome_options.add_argument('--headless')\n",
        "chrome_options.add_argument('--no-sandbox')\n",
        "chrome_options.add_argument('--disable-dev-shm-usage')\n",
        "\n",
        "wd = webdriver.Chrome('chromedriver',chrome_options=chrome_options)\n",
        "url='https://tw.yahoo.com/'\n",
        "wd.get(url)\n",
        "\n",
        "# 操作網頁元素\n",
        "element = wd.find_element(By.ID, 'header-search-input')\n",
        "key_word = '霍華德'\n",
        "element.send_keys(key_word)\n",
        "wd.find_element(By.ID, 'header-desktop-search-button').click()\n",
        "\n",
        "# 等待目標表格'id 為 web'的div出現\n",
        "WebDriverWait(wd, 5).until(\n",
        "    expected_conditions.presence_of_element_located((By.ID, 'web')))\n",
        "\n",
        "#然後就是beautifulsoup的範疇了，將目前頁面用bs4解析\n",
        "soup = BeautifulSoup(wd.page_source,\"html.parser\")\n",
        "links = soup.select('div#web h3')\n",
        "\n",
        "for link in links:\n",
        "    print(link.get_text())\n",
        "\n",
        "wd.quit()"
      ]
    },
    {
      "cell_type": "code",
      "execution_count": null,
      "metadata": {
        "colab": {
          "base_uri": "https://localhost:8080/"
        },
        "id": "V7OBTtG-EtTq",
        "outputId": "39d04a07-4c5b-4baf-ebb0-edcbcbd5e91f"
      },
      "outputs": [
        {
          "name": "stderr",
          "output_type": "stream",
          "text": [
            "<ipython-input-10-5566c586dccd>:14: DeprecationWarning: use options instead of chrome_options\n",
            "  wd = webdriver.Chrome('chromedriver',chrome_options=chrome_options)\n"
          ]
        },
        {
          "name": "stdout",
          "output_type": "stream",
          "text": [
            "zh.wikipedia.org › wiki › 眉溪眉溪 - 维基百科，自由的百科全书\n",
            "www.renai.gov.tw › pg村落-仁愛鄉公所全球資訊網\n",
            "www.tipp.org.tw › tribe_detail3臺灣原住民族資訊資源網 - 認識原住民族 - 部落介紹\n",
            "smiletaiwan.cw.com.tw › article › 930跟著大自然一起復健，眉溪部落讓蝴蝶飛回來 - 部落款款行 - 微笑 ... \n",
            "nantou.welcometw.com › spots › info眉溪部落 - 好玩景點 - 南投好好玩\n",
            "www.sunrisevilla.com.tw南投 · 埔里眉溪曉莊Sunrise Villa | 鄉村渡假別墅 | 埔里民宿推薦\n",
            "news.ltn.com.tw › news › life賽德克族人家園重生了！ 仁愛鄉南豐村眉溪畔部落秘境 - 生活 - ... \n",
            "圖片\n"
          ]
        }
      ],
      "source": [
        "#@title YAHOO搜尋\n",
        "from selenium import webdriver\n",
        "from selenium.webdriver.support.ui import WebDriverWait\n",
        "from selenium.webdriver.support import expected_conditions\n",
        "from selenium.webdriver.common.by import By\n",
        "from bs4 import BeautifulSoup\n",
        "\n",
        "\n",
        "chrome_options = webdriver.ChromeOptions()\n",
        "chrome_options.add_argument('--headless')\n",
        "chrome_options.add_argument('--no-sandbox')\n",
        "chrome_options.add_argument('--disable-dev-shm-usage')\n",
        "\n",
        "wd = webdriver.Chrome('chromedriver',chrome_options=chrome_options)\n",
        "url='https://tw.yahoo.com/'\n",
        "wd.get(url)\n",
        "\n",
        "# 操作網頁元素\n",
        "element = wd.find_element(By.ID, 'header-search-input')\n",
        "key_word = '\\u7709\\u6EAA' #@param {type:\"string\"}\n",
        "element.send_keys(key_word)\n",
        "wd.find_element(By.ID, 'header-desktop-search-button').click()\n",
        "\n",
        "# 等待目標表格'id 為 web'的div出現\n",
        "WebDriverWait(wd, 5).until(\n",
        "    expected_conditions.presence_of_element_located((By.ID, 'web')))\n",
        "\n",
        "#然後就是beautifulsoup的範疇了，將目前頁面用bs4解析\n",
        "soup = BeautifulSoup(wd.page_source,\"html.parser\")\n",
        "links = soup.select('div#web h3')\n",
        "\n",
        "for link in links:\n",
        "    print(link.get_text())\n",
        "\n",
        "wd.quit()"
      ]
    },
    {
      "cell_type": "code",
      "execution_count": null,
      "metadata": {
        "colab": {
          "base_uri": "https://localhost:8080/"
        },
        "id": "90bY_cdgIlG9",
        "outputId": "c16f3d80-87bd-4925-8b20-22f2d2f1dee6"
      },
      "outputs": [
        {
          "name": "stderr",
          "output_type": "stream",
          "text": [
            "<ipython-input-11-46689a9bb36a>:14: DeprecationWarning: use options instead of chrome_options\n",
            "  wd = webdriver.Chrome('chromedriver',chrome_options=chrome_options)\n"
          ]
        },
        {
          "name": "stdout",
          "output_type": "stream",
          "text": [
            "鬼滅之刃- 维基百科\n",
            "鬼灭之刃- 维基百科，自由的百科全书\n",
            "鬼滅之刃_百度百科\n",
            "Watch 鬼滅之刃| Disney+\n",
            "鬼灭之刃(4强韧的利刃)\n",
            "遊戲「鬼滅之刃火之神血風譚」官方網站 - SEGA\n",
            "鬼灭之刃 - 樱花动漫\n",
            "鬼滅之刃- 野獸國行動商城\n",
            "鬼滅之刃Wiki\n",
            "鬼灭之刃 - 萌娘百科\n",
            "Demon Slayer: Kimetsu no Yaiba's Hopeful Ending, Explained - CBR\n",
            "What does Kimetsu no Yaiba mean? - Quora\n",
            "Demon Slayer: Every Major Character's Age, Height, And Birthday\n"
          ]
        }
      ],
      "source": [
        "#@title Google搜尋\n",
        "from selenium import webdriver\n",
        "from selenium.webdriver.support.ui import WebDriverWait\n",
        "from selenium.webdriver.support import expected_conditions\n",
        "from selenium.webdriver.common.by import By\n",
        "from bs4 import BeautifulSoup\n",
        "\n",
        "\n",
        "chrome_options = webdriver.ChromeOptions()\n",
        "chrome_options.add_argument('--headless') #在背景執行\n",
        "chrome_options.add_argument('--no-sandbox')\n",
        "chrome_options.add_argument('--disable-dev-shm-usage')\n",
        "\n",
        "wd = webdriver.Chrome('chromedriver',chrome_options=chrome_options)\n",
        "url = 'https://www.google.com/'\n",
        "wd.get(url)\n",
        "\n",
        "# 用XPATH定位元素 - 搜尋框\n",
        "element = wd.find_element(By.XPATH,\"/html/body/div[1]/div[3]/form/div[1]/div[1]/div[1]/div/div[2]/input\")\n",
        "key_word = '\\u9B3C\\u6EC5' #@param {type:\"string\"}\n",
        "element.send_keys(key_word)\n",
        "\n",
        "# 用XPATH定位元素 - 點選搜尋\n",
        "wd.find_element(By.XPATH,'/html/body/div[1]/div[3]/form/div[1]/div[1]/div[4]/center/input[1]').click()\n",
        "\n",
        "\n",
        "# 用BeautifulSoup解析 - 標題h3\n",
        "soup = BeautifulSoup(wd.page_source,\"html.parser\")\n",
        "links = soup.select('div > a > h3')\n",
        "\n",
        "for link in links:\n",
        "    print(link.get_text())\n",
        "\n",
        "wd.quit()"
      ]
    },
    {
      "cell_type": "code",
      "execution_count": null,
      "metadata": {
        "colab": {
          "base_uri": "https://localhost:8080/"
        },
        "id": "vgSm7otm7F7u",
        "outputId": "04152768-b078-49d0-c699-b6b49f95a58a"
      },
      "outputs": [
        {
          "name": "stderr",
          "output_type": "stream",
          "text": [
            "<ipython-input-12-b50ac2ef9e9e>:15: DeprecationWarning: use options instead of chrome_options\n",
            "  wd = webdriver.Chrome('chromedriver',chrome_options=chrome_options)\n"
          ]
        },
        {
          "data": {
            "text/plain": [
              "[{'title': 'PS4 惡靈古堡 8：村莊 中文典藏版',\n",
              "  'link': 'https//24h.pchome.com.tw/prod/DGBJGD-A900BBRM3'},\n",
              " {'title': 'THRUSTMASTER 圖馬思特 \\xa0TXLE 力回饋 賽車方向盤+踏板',\n",
              "  'link': 'https//24h.pchome.com.tw/prod/DGCU2S-A900FBGE1'},\n",
              " {'title': 'THRUSTMASTER 圖馬思特 \\xa0T248X 賽車方向盤+踏板',\n",
              "  'link': 'https//24h.pchome.com.tw/prod/DGCU2S-A900FBGEB'},\n",
              " {'title': 'Seagate【FireCuda 530】2TB Gen4 PCIE SSD(含散熱片)',\n",
              "  'link': 'https//24h.pchome.com.tw/prod/DGBJGB-A900FCBSZ'},\n",
              " {'title': 'Seagate【FireCuda 530】4TB Gen4 PCIE SSD(含散熱片)',\n",
              "  'link': 'https//24h.pchome.com.tw/prod/DGBJGB-A900FCBTE'},\n",
              " {'title': '海盜船 CORSAIR MP600 PRO 2TB Gen4x4 PCIe SSD固態硬碟',\n",
              "  'link': 'https//24h.pchome.com.tw/prod/DRAHE2-A900ESCNJ'},\n",
              " {'title': '海盜船 CORSAIR MP600 PRO 2TB Gen4x4 PCIe SSD固態硬碟',\n",
              "  'link': 'https//24h.pchome.com.tw/prod/DGBJJ3-A900FNA8L'},\n",
              " {'title': 'PlayStation VR2 (PS VR2) 頭戴裝置',\n",
              "  'link': 'https//24h.pchome.com.tw/prod/DGBJIU-A900FQKHW'},\n",
              " {'title': 'PlayStation VR2 (PS VR2) 頭戴裝置《地平線 山之呼喚》組合包',\n",
              "  'link': 'https//24h.pchome.com.tw/prod/DGBJIU-A900FQKHV'},\n",
              " {'title': 'THRUSTMASTER 圖馬思特 T300 RS GT 方向盤',\n",
              "  'link': 'https//24h.pchome.com.tw/prod/DGBJGB-A900DYX1A'},\n",
              " {'title': 'SONY INZONE H9無線降噪電競耳機 (WH-G900N)',\n",
              "  'link': 'https//24h.pchome.com.tw/prod/DGBJGD-A900FDIP8'},\n",
              " {'title': 'PS5《 卡利斯托協議 The Callisto Protocol 》中文一般版',\n",
              "  'link': 'https//24h.pchome.com.tw/prod/DGBJGD-A900FCC1W'},\n",
              " {'title': 'PS5 DualSense 無線控制器',\n",
              "  'link': 'https//24h.pchome.com.tw/prod/DGBJGB-1900AZWI9'},\n",
              " {'title': 'PS5 光碟版主機地平線同捆組+羅技G923 賽車模擬方向盤(不含變速器)',\n",
              "  'link': 'https//24h.pchome.com.tw/prod/DGBJG9-A900FCOOI'},\n",
              " {'title': 'PS5 PULSE 3D 無線耳機組',\n",
              "  'link': 'https//24h.pchome.com.tw/prod/DGBJGB-1900AZWIA'},\n",
              " {'title': 'SONY PS5原廠 DualSense雙手把充電座-CFI-ZDS1',\n",
              "  'link': 'https//24h.pchome.com.tw/prod/DGBJGB-A900B0FDT'},\n",
              " {'title': 'PS5《狂野之心 Wild Hearts》中文一般版',\n",
              "  'link': 'https//24h.pchome.com.tw/prod/DGBJGD-A900FMPFO'},\n",
              " {'title': 'PS5《戰神：諸神黃昏 God of War Ragnarök》中文版+PS5 DualSense 無線控制器 深灰迷彩',\n",
              "  'link': 'https//24h.pchome.com.tw/prod/DGBJGA-1900FQNCR'},\n",
              " {'title': 'PS5 DualSense 充電座',\n",
              "  'link': 'https//24h.pchome.com.tw/prod/DGBJGB-1900AZWHV'},\n",
              " {'title': 'SONY PS5原廠 DualSense 無線控制器-星塵紅 CFI-ZCT1G02',\n",
              "  'link': 'https//24h.pchome.com.tw/prod/DGBJGB-A900BFM9E'}]"
            ]
          },
          "execution_count": 12,
          "metadata": {},
          "output_type": "execute_result"
        }
      ],
      "source": [
        "#@title PChome 搜尋 PS5\n",
        "# https://blog.jiatool.com/posts/pchome_spider01/\n",
        "# 實際搶單可參考: https://github.com/ywchiu/largitdata/blob/master/code/Course_137.ipynb\n",
        "from selenium import webdriver\n",
        "from selenium.webdriver.support.ui import WebDriverWait\n",
        "from selenium.webdriver.support import expected_conditions\n",
        "from selenium.webdriver.common.by import By\n",
        "from bs4 import BeautifulSoup\n",
        "\n",
        "chrome_options = webdriver.ChromeOptions()\n",
        "chrome_options.add_argument('--headless')\n",
        "chrome_options.add_argument('--no-sandbox')\n",
        "chrome_options.add_argument('--disable-dev-shm-usage')\n",
        "\n",
        "wd = webdriver.Chrome('chromedriver',chrome_options=chrome_options)\n",
        "\n",
        "key_word = 'ps5'\n",
        "\n",
        "url = f'https://ecshweb.pchome.com.tw/search/v3.3/?q={key_word}'\n",
        "wd.get(url)\n",
        "\n",
        "WebDriverWait(wd, 5).until(\n",
        "    expected_conditions.presence_of_element_located((By.TAG_NAME, 'h5')))\n",
        "\n",
        "#beautifulsoup解析\n",
        "soup = BeautifulSoup(wd.page_source,\"html.parser\")\n",
        "wd.quit()\n",
        "\n",
        "elems = soup.select('h5 > a')\n",
        "\n",
        "items = [{\n",
        "    'title': elem.get_text(),\n",
        "    'link': f'https{elem.get(\"href\")}'}\n",
        "    for elem in elems\n",
        "    ]\n",
        "\n",
        "# for elem in elems:\n",
        "#   item = dict()\n",
        "#   item['title'] = elem.get_text()\n",
        "#   item['link'] = f'https{elem.get(\"href\")}'\n",
        "#   items.append(item)\n",
        "\n",
        "items"
      ]
    },
    {
      "cell_type": "code",
      "execution_count": null,
      "metadata": {
        "cellView": "form",
        "id": "cdnoS8V--QSZ"
      },
      "outputs": [],
      "source": [
        "#@title MOMO搶PS5\n",
        "# https://ithelp.ithome.com.tw/articles/10262268\n",
        "\n",
        "from selenium import webdriver\n",
        "from selenium.webdriver.common.by import By\n",
        "from selenium.webdriver.support.ui import WebDriverWait\n",
        "from selenium.webdriver.support import expected_conditions as EC\n",
        "import time\n",
        "\n",
        "options = webdriver.ChromeOptions()\n",
        "chrome_options.add_argument('--headless')\n",
        "chrome_options.add_argument('--no-sandbox')\n",
        "chrome_options.add_argument('--disable-dev-shm-usage')\n",
        "prefs = {'profile.default_content_setting_values':{'notifications': 2}}\n",
        "chrome_options.add_experimental_option('prefs', prefs)\n",
        "driver = webdriver.Chrome(options=chrome_options)\n",
        "\n",
        "driver.get(\"https://m.momoshop.com.tw/mymomo/login.momo\") # 到登入頁面\n",
        "\n",
        "driver.find_element_by_id('memId').send_keys('帳號') # 輸入帳號\n",
        "driver.find_element_by_id('passwd').send_keys('密碼') # 輸入密碼\n",
        "driver.find_element_by_class_name('login').click()\n",
        "driver.get(\"https://www.momoshop.com.tw/goods/GoodsDetail.jsp?i_code=9435324\")\n",
        "\n",
        "while 1:\n",
        "  try:\n",
        "    buy = WebDriverWait(driver, 1, 0.5).until(EC.presence_of_element_located((By.ID, 'buy_yes'))) # 顯性等待\n",
        "    buy.click() # 偵測到可以購買按鈕就點擊按鈕\n",
        "    print ('可以購買!')\n",
        "    break # 後面結帳部分就不寫囉\n",
        "  except:\n",
        "    print(\"還不能購買! 重新整理!\")\n",
        "    driver.refresh() # 重整頁面"
      ]
    }
  ],
  "metadata": {
    "colab": {
      "provenance": [],
      "include_colab_link": true
    },
    "kernelspec": {
      "display_name": "Python 3",
      "name": "python3"
    }
  },
  "nbformat": 4,
  "nbformat_minor": 0
}