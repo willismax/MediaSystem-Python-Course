{
 "cells": [
  {
   "cell_type": "markdown",
   "metadata": {},
   "source": [
    "## Install a Selenium "
   ]
  },
  {
   "cell_type": "code",
   "execution_count": null,
   "metadata": {},
   "outputs": [],
   "source": [
    "%pip install selenium"
   ]
  },
  {
   "cell_type": "code",
   "execution_count": null,
   "metadata": {},
   "outputs": [],
   "source": [
    "%pip install bs4"
   ]
  },
  {
   "cell_type": "markdown",
   "metadata": {},
   "source": [
    "## install webdriver\n",
    "\n",
    "新版說明\n",
    "- https://www.selenium.dev/documentation/webdriver/getting_started/install_drivers/\n",
    "- 下載跟您電腦對應的webdriver https://googlechromelabs.github.io/chrome-for-testing/\n",
    "- chromewebdriver解壓縮放在指定目錄"
   ]
  },
  {
   "cell_type": "code",
   "execution_count": 14,
   "metadata": {},
   "outputs": [
    {
     "name": "stdout",
     "output_type": "stream",
     "text": [
      "[{'title': '[討論] 第四台電影頻道是不是快不行了', 'href': 'https://www.ptt.cc/bbs/movie/M.1693663765.A.7C7.html'}, {'title': 'Re: [討論] 國片的髒話為什麼很出戲？', 'href': 'https://www.ptt.cc/bbs/movie/M.1693664353.A.7EB.html'}, {'title': '[情報] 橋本愛、仲野太賀主演《在車上》製片新作《熱のあとに》', 'href': 'https://www.ptt.cc/bbs/movie/M.1693667070.A.01B.html'}, {'title': 'Re: [討論] 第四台電影頻道是不是快不行了', 'href': 'https://www.ptt.cc/bbs/movie/M.1693668442.A.FC7.html'}, {'title': '[LIVE] 年代much38台 23:00 恐怖份子(楊德昌)', 'href': 'https://www.ptt.cc/bbs/movie/M.1693669519.A.803.html'}, {'title': '[討論] 台灣電影院怎不流行送特典吸引多刷???', 'href': 'https://www.ptt.cc/bbs/movie/M.1693669725.A.A8C.html'}, {'title': '[新聞] 經典恐怖再度回歸 德古拉嚇不了現代觀眾', 'href': 'https://www.ptt.cc/bbs/movie/M.1693671462.A.AF2.html'}, {'title': '[好雷] 王室緋聞守則的台詞', 'href': 'https://www.ptt.cc/bbs/movie/M.1693674408.A.8F9.html'}, {'title': '[問片] 找一部鄭秀文的片', 'href': 'https://www.ptt.cc/bbs/movie/M.1693674692.A.99D.html'}, {'title': '[普雷] 《之前的我們》-膚淺的因緣 ', 'href': 'https://www.ptt.cc/bbs/movie/M.1693677964.A.8F2.html'}, {'title': '[問片] sheep may safely graze', 'href': 'https://www.ptt.cc/bbs/movie/M.1693679507.A.450.html'}, {'title': '[討論] 芭比全球年度票房冠軍，奧本海默第三名', 'href': 'https://www.ptt.cc/bbs/movie/M.1693680704.A.581.html'}, {'title': '[新聞] 李安送上終身成就獎「梁朝偉激動哭了」 ', 'href': 'https://www.ptt.cc/bbs/movie/M.1693694419.A.84F.html'}, {'title': '[版務] 搶贈票是否可以開分身搶之討論', 'href': 'https://www.ptt.cc/bbs/movie/M.1690523275.A.F98.html'}, {'title': '[公告] 試行版規修改以及投票', 'href': 'https://www.ptt.cc/bbs/movie/M.1693492330.A.FBB.html'}]\n"
     ]
    }
   ],
   "source": [
    "#@title 以 Selenium 搜尋 PTT 指定列表\n",
    "\n",
    "from selenium import webdriver\n",
    "from selenium.webdriver.support.ui import WebDriverWait\n",
    "from selenium.webdriver.support import expected_conditions\n",
    "from selenium.webdriver.common.by import By\n",
    "from bs4 import BeautifulSoup\n",
    "import sys\n",
    "\n",
    "sys.path.insert(0,'chromedriver')\n",
    "\n",
    "chrome_options = webdriver.ChromeOptions()\n",
    "# chrome_options.add_argument('--headless') # 成為無頭模式\n",
    "chrome_options.add_argument('--no-sandbox')\n",
    "chrome_options.add_argument('--disable-dev-shm-usage')\n",
    "# wd = webdriver.Chrome('chromedriver',chrome_options=chrome_options)\n",
    "wd = webdriver.Chrome(chrome_options)\n",
    "url ='https://www.ptt.cc/bbs/movie/index.html'\n",
    "wd.get(url)\n",
    "\n",
    "elem = wd.find_element(By.CLASS_NAME,\"title\")\n",
    "# print(elem.text)\n",
    "\n",
    "#beautifulsoup解析\n",
    "soup = BeautifulSoup(wd.page_source,\"html.parser\")\n",
    "links = soup.select('div.title > a')\n",
    "\n",
    "# title = [ link.get_text() for link in links if '板規' not in link.get_text()]\n",
    "# href = [ f'https://www.ptt.cc{link.get(\"href\")}' for link in links ]\n",
    "\n",
    "res = [{\n",
    "    'title': link.get_text(),\n",
    "    'href': f'https://www.ptt.cc{link.get(\"href\")}'\n",
    "} for link in links if '板規' not in link.get_text() ]\n",
    "\n",
    "print(res)\n",
    "wd.close()"
   ]
  },
  {
   "cell_type": "code",
   "execution_count": 16,
   "metadata": {},
   "outputs": [],
   "source": [
    "#@title 以 Selenium 搜尋 PTT 指定列表\n",
    "\n",
    "from selenium import webdriver\n",
    "from selenium.webdriver import Chrome\n",
    "from selenium.webdriver.chrome.options import Options\n",
    "from selenium.webdriver.common.by import By\n",
    "from bs4 import BeautifulSoup\n",
    "\n",
    "\n",
    "def make_webdriver() -> Chrome:\n",
    "  options = create_options()\n",
    "  driver = Chrome(options=options)\n",
    "  return driver\n",
    "\n",
    "\n",
    "def create_options() -> Options:\n",
    "  options = Options()\n",
    "  options.add_argument(\"--headless\")\n",
    "  options.add_argument('--no-sandbox')\n",
    "  options.add_argument('--disable-dev-shm-usage')\n",
    "  options.add_argument(\"--start-maximized\")\n",
    "  return options\n",
    "\n",
    "\n",
    "def get_ptt_board_list(board):\n",
    "  url = f\"https://www.ptt.cc/bbs/{board}/index.html\"\n",
    "  wd = make_webdriver()\n",
    "  wd.get(url=url)\n",
    "  soup = BeautifulSoup(wd.page_source,\"html.parser\")\n",
    "  links = soup.select('div.title > a')\n",
    "  res = [{\n",
    "      'title': link.get_text(),\n",
    "      'href': f'https://www.ptt.cc{link.get(\"href\")}'\n",
    "  } for link in links if '公告' not in link.get_text() ]\n",
    "  wd.quit()\n",
    "  return res\n",
    "\n",
    "if __name__ == '__main__':\n",
    "  res = get_ptt_board_list('movie')\n",
    "  print(res)\n"
   ]
  }
 ],
 "metadata": {
  "kernelspec": {
   "display_name": "Python 3.9.13 64-bit",
   "language": "python",
   "name": "python3"
  },
  "language_info": {
   "codemirror_mode": {
    "name": "ipython",
    "version": 3
   },
   "file_extension": ".py",
   "mimetype": "text/x-python",
   "name": "python",
   "nbconvert_exporter": "python",
   "pygments_lexer": "ipython3",
   "version": "3.8.8"
  },
  "orig_nbformat": 4,
  "vscode": {
   "interpreter": {
    "hash": "30e885505460fe2bd3e8d06b055622cb5488effccc056204a7cdd4d0f9ed2b6f"
   }
  }
 },
 "nbformat": 4,
 "nbformat_minor": 2
}
