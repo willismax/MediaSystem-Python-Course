{
 "cells": [
  {
   "cell_type": "markdown",
   "metadata": {},
   "source": [
    "## Install a Selenium "
   ]
  },
  {
   "cell_type": "code",
   "execution_count": null,
   "metadata": {},
   "outputs": [],
   "source": [
    "%pip install -U selenium"
   ]
  },
  {
   "cell_type": "code",
   "execution_count": null,
   "metadata": {},
   "outputs": [],
   "source": [
    "%pip install bs4"
   ]
  },
  {
   "cell_type": "markdown",
   "metadata": {},
   "source": [
    "## install webdriver\n",
    "\n",
    "(更新後的4.X版已經不用額外安裝)\n",
    "- https://www.selenium.dev/documentation/webdriver/getting_started/install_drivers/\n",
    "- 下載跟您電腦對應的webdriver https://googlechromelabs.github.io/chrome-for-testing/\n",
    "- chromewebdriver解壓縮放在指定目錄"
   ]
  },
  {
   "cell_type": "code",
   "execution_count": 1,
   "metadata": {},
   "outputs": [],
   "source": [
    "#@title 以 Selenium 搜尋 PTT 指定列表\n",
    "\n",
    "from selenium import webdriver\n",
    "from selenium.webdriver.support.ui import WebDriverWait\n",
    "from selenium.webdriver.support import expected_conditions\n",
    "from selenium.webdriver.common.by import By\n",
    "from bs4 import BeautifulSoup\n",
    "import sys\n",
    "\n",
    "sys.path.insert(0,'chromedriver')\n",
    "\n",
    "chrome_options = webdriver.ChromeOptions()\n",
    "# chrome_options.add_argument('--headless') # 成為無頭模式\n",
    "chrome_options.add_argument('--no-sandbox')\n",
    "chrome_options.add_argument('--disable-dev-shm-usage')\n",
    "# wd = webdriver.Chrome('chromedriver',chrome_options=chrome_options)\n",
    "wd = webdriver.Chrome(chrome_options)\n",
    "url ='https://www.ptt.cc/bbs/movie/index.html'\n",
    "wd.get(url)\n",
    "\n",
    "elem = wd.find_element(By.CLASS_NAME,\"title\")\n",
    "# print(elem.text)\n",
    "\n",
    "#beautifulsoup解析\n",
    "soup = BeautifulSoup(wd.page_source,\"html.parser\")\n",
    "links = soup.select('div.title > a')\n",
    "\n",
    "# title = [ link.get_text() for link in links if '板規' not in link.get_text()]\n",
    "# href = [ f'https://www.ptt.cc{link.get(\"href\")}' for link in links ]\n",
    "\n",
    "res = [{\n",
    "    'title': link.get_text(),\n",
    "    'href': f'https://www.ptt.cc{link.get(\"href\")}'\n",
    "} for link in links if '板規' not in link.get_text() ]\n",
    "\n",
    "print(res)\n",
    "wd.close()"
   ]
  },
  {
   "cell_type": "code",
   "execution_count": 4,
   "metadata": {},
   "outputs": [
    {
     "name": "stdout",
     "output_type": "stream",
     "text": [
      "[{'title': '[新聞] 513經歷者現身映後 張吉安激動當場淚崩', 'href': 'https://www.ptt.cc/bbs/movie/M.1700494036.A.B1C.html'}, {'title': '[新聞] 李鴻其演而優則導 拍戲不重演員名氣', 'href': 'https://www.ptt.cc/bbs/movie/M.1700494158.A.50F.html'}, {'title': '[新聞] 《驚奇隊長2》導演：本來有亞當術士和時', 'href': 'https://www.ptt.cc/bbs/movie/M.1700496097.A.0D4.html'}, {'title': '[新聞] 驚奇少女公布她的《秘密戰爭》許願名單：', 'href': 'https://www.ptt.cc/bbs/movie/M.1700497030.A.06A.html'}, {'title': 'Re: [請益] 會讓人提起勇氣和信心的電影', 'href': 'https://www.ptt.cc/bbs/movie/M.1700497252.A.320.html'}, {'title': 'Re: [請益] 會讓人提起勇氣和信心的電影', 'href': 'https://www.ptt.cc/bbs/movie/M.1700498281.A.15C.html'}, {'title': 'Re: [情報] 查克史奈德《REBEL MOON》角色海報', 'href': 'https://www.ptt.cc/bbs/movie/M.1700500348.A.54E.html'}, {'title': '[情報] 水行俠2最新預告 公布個人角色海報', 'href': 'https://www.ptt.cc/bbs/movie/M.1700502650.A.198.html'}]\n"
     ]
    }
   ],
   "source": [
    "#@title 以 Selenium 搜尋 PTT 指定列表\n",
    "\n",
    "from selenium import webdriver\n",
    "from selenium.webdriver import Chrome\n",
    "from selenium.webdriver.chrome.options import Options\n",
    "from selenium.webdriver.common.by import By\n",
    "from bs4 import BeautifulSoup\n",
    "\n",
    "\n",
    "def make_webdriver() -> Chrome:\n",
    "  options = create_options()\n",
    "  driver = Chrome(options=options)\n",
    "  return driver\n",
    "\n",
    "\n",
    "def create_options() -> Options:\n",
    "  options = Options()\n",
    "  options.add_argument(\"--headless\")\n",
    "  options.add_argument('--no-sandbox')\n",
    "  options.add_argument('--disable-dev-shm-usage')\n",
    "  options.add_argument(\"--start-maximized\")\n",
    "  return options\n",
    "\n",
    "\n",
    "def get_ptt_board_list(board):\n",
    "  url = f\"https://www.ptt.cc/bbs/{board}/index.html\"\n",
    "  wd = make_webdriver()\n",
    "  wd.get(url=url)\n",
    "  soup = BeautifulSoup(wd.page_source,\"html.parser\")\n",
    "  links = soup.select('div.title > a')\n",
    "  res = [{\n",
    "      'title': link.get_text(),\n",
    "      'href': f'https://www.ptt.cc{link.get(\"href\")}'\n",
    "  } for link in links if '公告' not in link.get_text() ]\n",
    "  wd.quit()\n",
    "  return res\n",
    "\n",
    "if __name__ == '__main__':\n",
    "  res = get_ptt_board_list('movie')\n",
    "  print(res)\n"
   ]
  }
 ],
 "metadata": {
  "kernelspec": {
   "display_name": "Python 3.9.13 64-bit",
   "language": "python",
   "name": "python3"
  },
  "language_info": {
   "codemirror_mode": {
    "name": "ipython",
    "version": 3
   },
   "file_extension": ".py",
   "mimetype": "text/x-python",
   "name": "python",
   "nbconvert_exporter": "python",
   "pygments_lexer": "ipython3",
   "version": "3.8.8"
  },
  "orig_nbformat": 4,
  "vscode": {
   "interpreter": {
    "hash": "30e885505460fe2bd3e8d06b055622cb5488effccc056204a7cdd4d0f9ed2b6f"
   }
  }
 },
 "nbformat": 4,
 "nbformat_minor": 2
}
