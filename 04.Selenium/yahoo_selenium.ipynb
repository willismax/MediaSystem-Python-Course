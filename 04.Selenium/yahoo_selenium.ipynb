{
 "cells": [
  {
   "cell_type": "code",
   "execution_count": null,
   "metadata": {},
   "outputs": [],
   "source": [
    "!pip install selenium"
   ]
  },
  {
   "cell_type": "code",
   "execution_count": null,
   "metadata": {},
   "outputs": [],
   "source": [
    "!pip install bs4"
   ]
  },
  {
   "cell_type": "code",
   "execution_count": 1,
   "metadata": {},
   "outputs": [
    {
     "name": "stderr",
     "output_type": "stream",
     "text": [
      "C:\\Users\\WiixA\\AppData\\Local\\Temp\\ipykernel_12256\\1233411571.py:14: DeprecationWarning: use options instead of chrome_options\n",
      "  wd = webdriver.Chrome('chromedriver',chrome_options=chrome_options)\n"
     ]
    },
    {
     "name": "stdout",
     "output_type": "stream",
     "text": [
      "zh.wikipedia.org › zh-tw › 迪韋特·侯活德懷特·霍華德 - 維基百科，自由的百科全書\n",
      "頭條新聞\n",
      "udn.com › news › storyT1聯盟／霍華德與球迷吃鍋傳正能量 將隨隊出征高雄 | 籃球 | 運 ... \n",
      "news.cts.com.tw › cna › sports霍華德兌現承諾 邀2球迷一起嗑鍋共進晚餐 - 華視新聞網\n",
      "health.tvbs.com.tw › nutrition › 336532「魔獸」霍華德大讚這款「台灣茶」！醫曝2喝法消脂、降三高 5種 ... \n",
      "tw.news.yahoo.com › gq風格大賞-魔獸霍華德勁裝GQ風格大賞！魔獸霍華德勁裝出席\n",
      "圖片\n",
      "news.ttv.com.tw › news › 11112020003700WT1／霍華德暖心火鍋邀約！ 與球迷共進晚餐傳遞正能量\n",
      "www.nownews.com › news › 5971929T1／不是為了錢來台！魔獸霍華德身家高達77億 | 運動 | NOWnews ... \n"
     ]
    }
   ],
   "source": [
    "#@title Yahoo搜尋 \"霍華德\"\n",
    "from selenium import webdriver\n",
    "from selenium.webdriver.support.ui import WebDriverWait\n",
    "from selenium.webdriver.support import expected_conditions\n",
    "from selenium.webdriver.common.by import By\n",
    "from bs4 import BeautifulSoup\n",
    "\n",
    "\n",
    "chrome_options = webdriver.ChromeOptions()\n",
    "chrome_options.add_argument('--headless') # 無頭模式\n",
    "chrome_options.add_argument('--no-sandbox')\n",
    "chrome_options.add_argument('--disable-dev-shm-usage')\n",
    "\n",
    "wd = webdriver.Chrome('chromedriver',chrome_options=chrome_options)\n",
    "url='https://tw.yahoo.com/'\n",
    "wd.get(url)\n",
    "\n",
    "# 操作網頁元素\n",
    "element = wd.find_element(By.ID, 'header-search-input')\n",
    "key_word = '霍華德'\n",
    "element.send_keys(key_word)\n",
    "wd.find_element(By.ID, 'header-desktop-search-button').click()\n",
    "\n",
    "# 等待目標表格'id 為 web'的div出現\n",
    "WebDriverWait(wd, 5).until(\n",
    "    expected_conditions.presence_of_element_located((By.ID, 'web')))\n",
    "\n",
    "#然後就是beautifulsoup的範疇了，將目前頁面用bs4解析\n",
    "soup = BeautifulSoup(wd.page_source,\"html.parser\")\n",
    "links = soup.select('div#web h3')\n",
    "\n",
    "for link in links:\n",
    "    print(link.get_text())\n",
    "\n",
    "wd.quit()"
   ]
  }
 ],
 "metadata": {
  "kernelspec": {
   "display_name": "Python 3.9.13 64-bit",
   "language": "python",
   "name": "python3"
  },
  "language_info": {
   "codemirror_mode": {
    "name": "ipython",
    "version": 3
   },
   "file_extension": ".py",
   "mimetype": "text/x-python",
   "name": "python",
   "nbconvert_exporter": "python",
   "pygments_lexer": "ipython3",
   "version": "3.9.13"
  },
  "orig_nbformat": 4,
  "vscode": {
   "interpreter": {
    "hash": "30e885505460fe2bd3e8d06b055622cb5488effccc056204a7cdd4d0f9ed2b6f"
   }
  }
 },
 "nbformat": 4,
 "nbformat_minor": 2
}
