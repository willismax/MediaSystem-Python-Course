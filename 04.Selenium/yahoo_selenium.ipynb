{
 "cells": [
  {
   "cell_type": "code",
   "execution_count": null,
   "metadata": {},
   "outputs": [],
   "source": [
    "%pip install -U selenium"
   ]
  },
  {
   "cell_type": "code",
   "execution_count": null,
   "metadata": {},
   "outputs": [],
   "source": [
    "%pip install bs4"
   ]
  },
  {
   "cell_type": "code",
   "execution_count": 6,
   "metadata": {},
   "outputs": [
    {
     "name": "stdout",
     "output_type": "stream",
     "text": [
      "openai.comOpenAI\n",
      "zh.wikipedia.org › zh-tw › OpenAIOpenAI - 維基百科，自由的百科全書\n",
      "platform.openai.com › appsOpenAI Platform\n",
      "openai.com › research › gpt-4GPT-4 - OpenAI\n",
      "OpenAI Platform\n",
      "Product - OpenAI\n",
      "OpenAI Platform\n",
      "OpenAI - Wikipedia\n",
      "zh.wikipedia.org › wiki › OpenAIOpenAI - 维基百科，自由的百科全书簡\n"
     ]
    }
   ],
   "source": [
    "#@title Yahoo搜尋 \"霍華德\"\n",
    "from selenium import webdriver\n",
    "from selenium.webdriver.chrome.options import Options\n",
    "from selenium.webdriver.support.ui import WebDriverWait\n",
    "from selenium.webdriver.support import expected_conditions\n",
    "from selenium.webdriver.common.by import By\n",
    "from bs4 import BeautifulSoup\n",
    "\n",
    "\n",
    "chrome_options = Options()\n",
    "# chrome_options.add_argument('--headless') # 無頭模式\n",
    "chrome_options.add_argument('--no-sandbox')\n",
    "chrome_options.add_argument('--disable-dev-shm-usage')\n",
    "\n",
    "wd = webdriver.Chrome(options=chrome_options)\n",
    "url='https://tw.yahoo.com/'\n",
    "wd.get(url)\n",
    "\n",
    "# 操作網頁元素\n",
    "element = wd.find_element(By.ID, 'header-search-input')\n",
    "key_word = 'OpenAI'\n",
    "element.send_keys(key_word)\n",
    "wd.find_element(By.ID, 'header-desktop-search-button').click()\n",
    "\n",
    "# 等待目標表格'id 為 web'的div出現\n",
    "WebDriverWait(wd, 5).until(\n",
    "    expected_conditions.presence_of_element_located((By.ID, 'web')))\n",
    "\n",
    "#然後就是beautifulsoup的範疇了，將目前頁面用bs4解析\n",
    "soup = BeautifulSoup(wd.page_source,\"html.parser\")\n",
    "links = soup.select('div#web h3')\n",
    "\n",
    "for link in links:\n",
    "    print(link.get_text())\n",
    "\n",
    "wd.quit()"
   ]
  }
 ],
 "metadata": {
  "kernelspec": {
   "display_name": "Python 3.9.13 64-bit",
   "language": "python",
   "name": "python3"
  },
  "language_info": {
   "codemirror_mode": {
    "name": "ipython",
    "version": 3
   },
   "file_extension": ".py",
   "mimetype": "text/x-python",
   "name": "python",
   "nbconvert_exporter": "python",
   "pygments_lexer": "ipython3",
   "version": "3.8.8"
  },
  "orig_nbformat": 4,
  "vscode": {
   "interpreter": {
    "hash": "30e885505460fe2bd3e8d06b055622cb5488effccc056204a7cdd4d0f9ed2b6f"
   }
  }
 },
 "nbformat": 4,
 "nbformat_minor": 2
}
