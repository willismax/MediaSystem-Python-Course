{
  "cells": [
    {
      "cell_type": "markdown",
      "metadata": {
        "id": "view-in-github",
        "colab_type": "text"
      },
      "source": [
        "<a href=\"https://colab.research.google.com/github/willismax/MediaSystem-Python-Course/blob/main/01.Intro-Python/NumPy_Tutorial.ipynb\" target=\"_parent\"><img src=\"https://colab.research.google.com/assets/colab-badge.svg\" alt=\"Open In Colab\"/></a>"
      ]
    },
    {
      "cell_type": "markdown",
      "id": "81bc894e",
      "metadata": {
        "id": "81bc894e"
      },
      "source": [
        "# NumPy 基礎教學"
      ]
    },
    {
      "cell_type": "markdown",
      "id": "68a7e8a4",
      "metadata": {
        "id": "68a7e8a4"
      },
      "source": [
        "### 課程大綱\n",
        "1. 介紹與安裝\n",
        "2. 基本操作\n",
        "3. 索引與切片\n",
        "4. 數組操作\n",
        "5. 數學函數\n",
        "6. 統計函數\n",
        "7. 形狀操作\n",
        "8. 高級操作與應用\n",
        "9. 計算運用"
      ]
    },
    {
      "cell_type": "markdown",
      "id": "dcc1e50d",
      "metadata": {
        "id": "dcc1e50d"
      },
      "source": [
        "#### 1. 介紹與安裝\n",
        "\n",
        "- NumPy（Numerical Python）是一個用於科學計算的開源 Python 庫。它由 Travis Oliphant 在2005年建立，目的是要整合當時已存在的數學庫 Numeric 和 Numarray，並提供更強大、更高效的數組操作能力。\n",
        "- NumPy是Python的一個工具，可以幫助我們進行數學計算。首先，我們需要安裝並導入它。"
      ]
    },
    {
      "cell_type": "code",
      "execution_count": null,
      "id": "0f35a052",
      "metadata": {
        "colab": {
          "base_uri": "https://localhost:8080/"
        },
        "id": "0f35a052",
        "outputId": "0f40e237-0ed7-471d-934a-f0ccb0496239"
      },
      "outputs": [
        {
          "output_type": "stream",
          "name": "stdout",
          "text": [
            "Requirement already satisfied: numpy in /usr/local/lib/python3.10/dist-packages (1.25.2)\n"
          ]
        }
      ],
      "source": [
        "# 安裝 NumPy， Colab 已經有裝\n",
        "!pip install -q numpy"
      ]
    },
    {
      "cell_type": "code",
      "source": [
        "# 導入 NumPy\n",
        "import numpy as np"
      ],
      "metadata": {
        "id": "bEXYE5FNAuAZ"
      },
      "id": "bEXYE5FNAuAZ",
      "execution_count": 2,
      "outputs": []
    },
    {
      "cell_type": "markdown",
      "id": "c1071f5b",
      "metadata": {
        "id": "c1071f5b"
      },
      "source": [
        "#### 2. 基本操作\n",
        "**目標**: 學習如何建立和操作數組。\n",
        "**內容**: 數組是一種有序排列的數字。這裡我們會學習如何創建和使用它們。"
      ]
    },
    {
      "cell_type": "code",
      "execution_count": null,
      "id": "9768c66c",
      "metadata": {
        "colab": {
          "base_uri": "https://localhost:8080/"
        },
        "id": "9768c66c",
        "outputId": "1aa8ca9c-35e2-4d85-b5f7-7dc686e09a9d"
      },
      "outputs": [
        {
          "output_type": "execute_result",
          "data": {
            "text/plain": [
              "(5,)"
            ]
          },
          "metadata": {},
          "execution_count": 4
        }
      ],
      "source": [
        "import numpy as np\n",
        "\n",
        "# 建立一個一維數組\n",
        "array_1d = np.array([1, 2, 3, 4, 5])\n",
        "array_1d.shape"
      ]
    },
    {
      "cell_type": "code",
      "source": [
        "# 建立一個二維數組\n",
        "array_2d = np.array([[1, 2, 3], [4, 5, 6]])\n",
        "array_2d.shape"
      ],
      "metadata": {
        "colab": {
          "base_uri": "https://localhost:8080/"
        },
        "id": "5TC0S3DxA-tE",
        "outputId": "f9060063-aa81-4754-f72c-860f902669a1"
      },
      "id": "5TC0S3DxA-tE",
      "execution_count": null,
      "outputs": [
        {
          "output_type": "execute_result",
          "data": {
            "text/plain": [
              "(2, 3)"
            ]
          },
          "metadata": {},
          "execution_count": 5
        }
      ]
    },
    {
      "cell_type": "code",
      "source": [
        "# 基本操作\n",
        "array_1d + 10"
      ],
      "metadata": {
        "colab": {
          "base_uri": "https://localhost:8080/"
        },
        "id": "Nz-gXRt2BDfe",
        "outputId": "395e9af3-fdc3-4db5-df02-d38b89e850cd"
      },
      "id": "Nz-gXRt2BDfe",
      "execution_count": null,
      "outputs": [
        {
          "output_type": "execute_result",
          "data": {
            "text/plain": [
              "array([11, 12, 13, 14, 15])"
            ]
          },
          "metadata": {},
          "execution_count": 7
        }
      ]
    },
    {
      "cell_type": "code",
      "source": [
        "array_2d * 2"
      ],
      "metadata": {
        "colab": {
          "base_uri": "https://localhost:8080/"
        },
        "id": "ljbtswT0BHPT",
        "outputId": "a2c390e9-43ac-47ce-d78a-6c02655d50ef"
      },
      "id": "ljbtswT0BHPT",
      "execution_count": null,
      "outputs": [
        {
          "output_type": "execute_result",
          "data": {
            "text/plain": [
              "array([[ 2,  4,  6],\n",
              "       [ 8, 10, 12]])"
            ]
          },
          "metadata": {},
          "execution_count": 6
        }
      ]
    },
    {
      "cell_type": "markdown",
      "id": "432d76b3",
      "metadata": {
        "id": "432d76b3"
      },
      "source": [
        "#### 3. 索引與切片\n",
        "**目標**: 學習如何找到和取出數組中的部分數字。\n",
        "**內容**: 我們可以使用索引來找到數組中的特定數字，使用切片來取出一部分數字。"
      ]
    },
    {
      "cell_type": "code",
      "execution_count": null,
      "id": "4cefe7ce",
      "metadata": {
        "colab": {
          "base_uri": "https://localhost:8080/"
        },
        "id": "4cefe7ce",
        "outputId": "32240777-4ca0-4ef6-d512-0379409b7d3a"
      },
      "outputs": [
        {
          "output_type": "execute_result",
          "data": {
            "text/plain": [
              "1"
            ]
          },
          "metadata": {},
          "execution_count": 8
        }
      ],
      "source": [
        "import numpy as np\n",
        "\n",
        "# 一維數組索引\n",
        "array_1d = np.array([1, 2, 3, 4, 5])\n",
        "array_1d[0]  # 取得第一個數字"
      ]
    },
    {
      "cell_type": "code",
      "source": [
        "# 二維數組索引\n",
        "array_2d = np.array([[1, 2, 3], [4, 5, 6]])\n",
        "array_2d[1, 2]  # 取得第二排第三個數字"
      ],
      "metadata": {
        "colab": {
          "base_uri": "https://localhost:8080/"
        },
        "id": "GuacioYsBN1X",
        "outputId": "f6589ad0-7809-4def-be55-f4ce3b261341"
      },
      "id": "GuacioYsBN1X",
      "execution_count": null,
      "outputs": [
        {
          "output_type": "execute_result",
          "data": {
            "text/plain": [
              "6"
            ]
          },
          "metadata": {},
          "execution_count": 9
        }
      ]
    },
    {
      "cell_type": "code",
      "source": [
        "# 切片操作\n",
        "array_1d[1:4]  # 取得第二到第四個數字"
      ],
      "metadata": {
        "colab": {
          "base_uri": "https://localhost:8080/"
        },
        "id": "oXC3k4y_BO_M",
        "outputId": "1d082349-9b22-48c3-f577-a50ad2dbdb7b"
      },
      "id": "oXC3k4y_BO_M",
      "execution_count": null,
      "outputs": [
        {
          "output_type": "execute_result",
          "data": {
            "text/plain": [
              "array([2, 3, 4])"
            ]
          },
          "metadata": {},
          "execution_count": 10
        }
      ]
    },
    {
      "cell_type": "code",
      "source": [
        "array_2d[:, 1:3]  # 取得所有行的第二到第三列"
      ],
      "metadata": {
        "colab": {
          "base_uri": "https://localhost:8080/"
        },
        "id": "kK8xtqqqBWmD",
        "outputId": "59c72928-4b0e-4c4b-b8c2-4871f4c715e4"
      },
      "id": "kK8xtqqqBWmD",
      "execution_count": null,
      "outputs": [
        {
          "output_type": "execute_result",
          "data": {
            "text/plain": [
              "array([[2, 3],\n",
              "       [5, 6]])"
            ]
          },
          "metadata": {},
          "execution_count": 11
        }
      ]
    },
    {
      "cell_type": "markdown",
      "id": "d541d4d4",
      "metadata": {
        "id": "d541d4d4"
      },
      "source": [
        "#### 4. 數組操作\n",
        "可以將兩個數組合併成一個，或將一個數組分成多個，還可以複製數組。"
      ]
    },
    {
      "cell_type": "markdown",
      "source": [
        "- 合併數組\n"
      ],
      "metadata": {
        "id": "qLTT18MsBjV4"
      },
      "id": "qLTT18MsBjV4"
    },
    {
      "cell_type": "code",
      "execution_count": null,
      "id": "f9210b4d",
      "metadata": {
        "colab": {
          "base_uri": "https://localhost:8080/"
        },
        "id": "f9210b4d",
        "outputId": "fdfe7f58-bb1c-402f-be0e-17b0bfdf1de3"
      },
      "outputs": [
        {
          "output_type": "stream",
          "name": "stdout",
          "text": [
            "[[1 2 3 4 5]\n",
            " [1 2 3 4 5]]\n"
          ]
        }
      ],
      "source": [
        "import numpy as np\n",
        "\n",
        "array_1d = np.array([1, 2, 3])\n",
        "\n",
        "# 合併數組\n",
        "array_v = np.vstack((array_1d, array_1d))  # 垂直合併\n",
        "print(array_v)"
      ]
    },
    {
      "cell_type": "code",
      "source": [
        "array_h = np.hstack((array_1d, array_1d))  # 水平合併\n",
        "print(array_h)"
      ],
      "metadata": {
        "colab": {
          "base_uri": "https://localhost:8080/"
        },
        "id": "7SnA702ZBmXE",
        "outputId": "318ec4e0-416f-4b7a-b27c-4df0386fa339"
      },
      "id": "7SnA702ZBmXE",
      "execution_count": null,
      "outputs": [
        {
          "output_type": "stream",
          "name": "stdout",
          "text": [
            "[1 2 3 4 5 1 2 3 4 5]\n"
          ]
        }
      ]
    },
    {
      "cell_type": "code",
      "source": [
        "# 分割數組\n",
        "split_array = np.split(array_1d, 5)  # 分成五個部分\n",
        "print(split_array)"
      ],
      "metadata": {
        "colab": {
          "base_uri": "https://localhost:8080/"
        },
        "id": "Y57KI-RJBqzU",
        "outputId": "11b16fcb-13ca-4c89-8df1-42bf52d387ce"
      },
      "id": "Y57KI-RJBqzU",
      "execution_count": null,
      "outputs": [
        {
          "output_type": "stream",
          "name": "stdout",
          "text": [
            "[array([1]), array([2]), array([3]), array([4]), array([5])]\n"
          ]
        }
      ]
    },
    {
      "cell_type": "code",
      "source": [
        "# 複製數組\n",
        "array_copy = np.copy(array_1d)  # 複製\n",
        "print(array_copy)"
      ],
      "metadata": {
        "colab": {
          "base_uri": "https://localhost:8080/"
        },
        "id": "JeGJpiS3Bhti",
        "outputId": "c4d8f3cc-1c5a-491c-c7e1-6f5f53dd6056"
      },
      "id": "JeGJpiS3Bhti",
      "execution_count": null,
      "outputs": [
        {
          "output_type": "stream",
          "name": "stdout",
          "text": [
            "[1 2 3 4 5]\n"
          ]
        }
      ]
    },
    {
      "cell_type": "markdown",
      "id": "9c7f9532",
      "metadata": {
        "id": "9c7f9532"
      },
      "source": [
        "#### 5. 數學函數\n",
        "可以對數組中的數字進行加減乘除等操作。"
      ]
    },
    {
      "cell_type": "code",
      "execution_count": 4,
      "id": "795f0057",
      "metadata": {
        "colab": {
          "base_uri": "https://localhost:8080/"
        },
        "id": "795f0057",
        "outputId": "053762e7-48b3-47c3-f099-56701e8ac93b"
      },
      "outputs": [
        {
          "output_type": "stream",
          "name": "stdout",
          "text": [
            "[ 6  7  8  9 10]\n",
            "[-1  0  1  2  3]\n",
            "[ 3  6  9 12 15]\n",
            "[0.5 1.  1.5 2.  2.5]\n"
          ]
        }
      ],
      "source": [
        "import numpy as np\n",
        "\n",
        "array_1d = np.array([1, 2, 3, 4, 5])\n",
        "\n",
        "# 加減乘除\n",
        "print(np.add(array_1d, 5))  # 每個數字加5\n",
        "print(np.subtract(array_1d, 2))  # 每個數字減2\n",
        "print(np.multiply(array_1d, 3))  # 每個數字乘3\n",
        "print(np.divide(array_1d, 2))  # 每個數字除以2\n",
        "\n"
      ]
    },
    {
      "cell_type": "code",
      "source": [
        "# 指數與對數\n",
        "print(np.exp(array_1d))  # 每個數字的指數值\n",
        "print(np.log(array_1d))  # 每個數字的對數值"
      ],
      "metadata": {
        "colab": {
          "base_uri": "https://localhost:8080/"
        },
        "id": "HY7upPLDB_tB",
        "outputId": "b72b55de-996e-4f53-9546-f52e55d9e9a7"
      },
      "id": "HY7upPLDB_tB",
      "execution_count": null,
      "outputs": [
        {
          "output_type": "stream",
          "name": "stdout",
          "text": [
            "[  2.71828183   7.3890561   20.08553692  54.59815003 148.4131591 ]\n",
            "[0.         0.69314718 1.09861229 1.38629436 1.60943791]\n"
          ]
        }
      ]
    },
    {
      "cell_type": "code",
      "source": [
        "# 三角函數\n",
        "print(np.sin(array_1d))  # 每個數字的正弦值\n",
        "print(np.cos(array_1d))  # 每個數字的餘弦值"
      ],
      "metadata": {
        "colab": {
          "base_uri": "https://localhost:8080/"
        },
        "id": "Cubk1YcSB5D8",
        "outputId": "3bde53f6-1296-4900-a21b-ddf7a7ae6dda"
      },
      "id": "Cubk1YcSB5D8",
      "execution_count": null,
      "outputs": [
        {
          "output_type": "stream",
          "name": "stdout",
          "text": [
            "[ 0.84147098  0.90929743  0.14112001 -0.7568025  -0.95892427]\n",
            "[ 0.54030231 -0.41614684 -0.9899925  -0.65364362  0.28366219]\n"
          ]
        }
      ]
    },
    {
      "cell_type": "markdown",
      "id": "d85e51f3",
      "metadata": {
        "id": "d85e51f3"
      },
      "source": [
        "#### 6. 統計函數\n",
        "**目標**: 學習常用的統計操作。\n",
        "**內容**: 我們可以找到數組中的最大值、最小值、平均值等。"
      ]
    },
    {
      "cell_type": "code",
      "execution_count": 5,
      "id": "f12a9b6d",
      "metadata": {
        "colab": {
          "base_uri": "https://localhost:8080/"
        },
        "id": "f12a9b6d",
        "outputId": "924e8245-ec6a-4a6d-8cd1-2889ac98abdd"
      },
      "outputs": [
        {
          "output_type": "stream",
          "name": "stdout",
          "text": [
            "1\n",
            "5\n",
            "3.0\n",
            "1.4142135623730951\n",
            "2.0\n"
          ]
        }
      ],
      "source": [
        "import numpy as np\n",
        "\n",
        "array_1d = np.array([1, 2, 3, 4, 5])\n",
        "\n",
        "# 統計函數\n",
        "print(np.min(array_1d))  # 最小值\n",
        "print(np.max(array_1d))  # 最大值\n",
        "print(np.mean(array_1d))  # 平均值\n",
        "print(np.std(array_1d))  # 標準差\n",
        "print(np.var(array_1d))  # 變異數(方差)"
      ]
    },
    {
      "cell_type": "markdown",
      "id": "d0bfecf0",
      "metadata": {
        "id": "d0bfecf0"
      },
      "source": [
        "#### 7. 形狀操作\n",
        "**目標**: 學習如何改變數組的形狀。\n",
        "**內容**: 我們可以改變數組的形狀，讓它變成不同的結構。"
      ]
    },
    {
      "cell_type": "code",
      "execution_count": 6,
      "id": "273dad65",
      "metadata": {
        "colab": {
          "base_uri": "https://localhost:8080/"
        },
        "id": "273dad65",
        "outputId": "ea3e07e0-b183-4385-a9db-b5e9dbd04513"
      },
      "outputs": [
        {
          "output_type": "stream",
          "name": "stdout",
          "text": [
            "[[1 2]\n",
            " [3 4]\n",
            " [5 6]]\n"
          ]
        }
      ],
      "source": [
        "import numpy as np\n",
        "\n",
        "array_2d = np.array([[1, 2, 3], [4, 5, 6]])\n",
        "\n",
        "# 重塑數組\n",
        "array_reshaped = np.reshape(array_2d, (3, 2))  # 改變形狀為3行2列\n",
        "print(array_reshaped)"
      ]
    },
    {
      "cell_type": "code",
      "source": [
        "# 轉置數組\n",
        "array_transposed = np.transpose(array_2d)  # 行列互換\n",
        "print(array_transposed)"
      ],
      "metadata": {
        "colab": {
          "base_uri": "https://localhost:8080/"
        },
        "id": "4O_y1HmhCNzn",
        "outputId": "d0533aea-926e-4cc5-e616-6a00a2baf292"
      },
      "id": "4O_y1HmhCNzn",
      "execution_count": null,
      "outputs": [
        {
          "output_type": "stream",
          "name": "stdout",
          "text": [
            "[[1 4]\n",
            " [2 5]\n",
            " [3 6]]\n"
          ]
        }
      ]
    },
    {
      "cell_type": "markdown",
      "id": "05f5da2f",
      "metadata": {
        "id": "05f5da2f"
      },
      "source": [
        "#### 8. 高級操作與應用\n",
        "**目標**: 了解NumPy在高級操作中的應用。\n",
        "**內容**: 我們可以將數組存成檔案，做線性代數計算，生成隨機數。"
      ]
    },
    {
      "cell_type": "code",
      "execution_count": 7,
      "id": "517e399b",
      "metadata": {
        "colab": {
          "base_uri": "https://localhost:8080/"
        },
        "id": "517e399b",
        "outputId": "7b1660bc-6ab6-40b4-d1f5-cd432dcfe223"
      },
      "outputs": [
        {
          "output_type": "stream",
          "name": "stdout",
          "text": [
            "[1 2 3 4 5]\n"
          ]
        }
      ],
      "source": [
        "import numpy as np\n",
        "\n",
        "array_1d = np.array([1, 2, 3, 4, 5])\n",
        "\n",
        "# 序列化與反序列化\n",
        "np.save('array.npy', array_1d)  # 保存到檔案\n",
        "loaded_array = np.load('array.npy')  # 從檔案讀取\n",
        "print(loaded_array)"
      ]
    },
    {
      "cell_type": "code",
      "source": [
        "# 線性代數\n",
        "matrix = np.array([[1, 2], [3, 4]])\n",
        "inverse_matrix = np.linalg.inv(matrix)  # 求逆矩陣\n",
        "print(inverse_matrix)"
      ],
      "metadata": {
        "colab": {
          "base_uri": "https://localhost:8080/"
        },
        "id": "OTN70qOLCR8h",
        "outputId": "238ed8c5-de28-4207-e856-c2328491c977"
      },
      "id": "OTN70qOLCR8h",
      "execution_count": 8,
      "outputs": [
        {
          "output_type": "stream",
          "name": "stdout",
          "text": [
            "[[-2.   1. ]\n",
            " [ 1.5 -0.5]]\n"
          ]
        }
      ]
    },
    {
      "cell_type": "code",
      "source": [
        "# 隨機數生成\n",
        "random_array = np.random.random((2, 3))  # 生成2行3列的隨機數組\n",
        "print(random_array)"
      ],
      "metadata": {
        "colab": {
          "base_uri": "https://localhost:8080/"
        },
        "id": "gaH62GDDCTdd",
        "outputId": "ca37924e-0dd3-46fd-a433-5e59fcc63a6d"
      },
      "id": "gaH62GDDCTdd",
      "execution_count": 9,
      "outputs": [
        {
          "output_type": "stream",
          "name": "stdout",
          "text": [
            "[[0.17647656 0.48805574 0.17940235]\n",
            " [0.99700418 0.05390199 0.4827274 ]]\n"
          ]
        }
      ]
    },
    {
      "cell_type": "markdown",
      "source": [
        "#### 9. 計算運用"
      ],
      "metadata": {
        "id": "jead9raaCkEm"
      },
      "id": "jead9raaCkEm"
    },
    {
      "cell_type": "markdown",
      "source": [
        "##### 向量化 (Vectorization)\n",
        "\n",
        "- 向量化是指使用數組運算來取代明確的循環操作。這種方法能夠使數學運算在數組上更快、更高效。NumPy 提供的許多函數和操作都已經向量化，這意味著它們能夠直接對整個數組進行操作，而不需要寫循環。\n",
        "\n",
        "- 假設我們有兩個數組，並想對它們的每個元素進行相加。如果使用傳統的循環，我們可能會這樣做：\n",
        "\n",
        "這樣的操作在 NumPy 中不僅更簡潔，還能充分利用底層的 C 和 Fortran 優化，提高計算效率。\n"
      ],
      "metadata": {
        "id": "T7FvXsl-EqpL"
      },
      "id": "T7FvXsl-EqpL"
    },
    {
      "cell_type": "code",
      "source": [
        "# 傳統循環方法\n",
        "array1 = np.array([1, 2, 3, 4])\n",
        "array2 = np.array([5, 6, 7, 8])\n",
        "result = np.zeros(4)\n",
        "\n",
        "for i in range(len(array1)):\n",
        "    result[i] = array1[i] + array2[i]\n",
        "\n",
        "print(result)"
      ],
      "metadata": {
        "id": "FSMzMfN4E_XT",
        "colab": {
          "base_uri": "https://localhost:8080/"
        },
        "outputId": "8c86b820-8da4-409d-fa55-97c3120de1a5"
      },
      "id": "FSMzMfN4E_XT",
      "execution_count": 10,
      "outputs": [
        {
          "output_type": "stream",
          "name": "stdout",
          "text": [
            "[ 6.  8. 10. 12.]\n"
          ]
        }
      ]
    },
    {
      "cell_type": "markdown",
      "source": [
        "使用向量化，我們可以簡化成："
      ],
      "metadata": {
        "id": "BzCZm7r0FHL_"
      },
      "id": "BzCZm7r0FHL_"
    },
    {
      "cell_type": "code",
      "source": [
        "# 向量化方法\n",
        "result = array1 + array2\n",
        "print(result)"
      ],
      "metadata": {
        "id": "xncmy8BRFOyv",
        "outputId": "1f07b293-a5ce-47d4-8b8b-fdab7c4c9b00",
        "colab": {
          "base_uri": "https://localhost:8080/"
        }
      },
      "id": "xncmy8BRFOyv",
      "execution_count": 11,
      "outputs": [
        {
          "output_type": "stream",
          "name": "stdout",
          "text": [
            "[ 6  8 10 12]\n"
          ]
        }
      ]
    },
    {
      "cell_type": "markdown",
      "source": [
        "##### 廣播 (Broadcasting)\n",
        "\n",
        "廣播是指在數組運算中，NumPy 允許不同形狀的數組進行操作，並自動將較小的數組擴展為與較大數組相同的形狀，從而使運算順利進行。廣播的核心思想是擴展數組，使它們具有兼容的形狀，這樣就可以進行元素級別的操作。\n",
        "\n",
        "##### 廣播的例子\n",
        "\n",
        "假設我們有一個數組和一個標量，想要對數組中的每個元素加上這個量。通常我們會這樣做：\n",
        "\n"
      ],
      "metadata": {
        "id": "ktX1xReQWjPl"
      },
      "id": "ktX1xReQWjPl"
    },
    {
      "cell_type": "code",
      "source": [
        "# 傳統循環方法\n",
        "array = np.array([1, 2, 3, 4])\n",
        "scalar = 10\n",
        "result = np.zeros(4)\n",
        "\n",
        "for i in range(len(array)):\n",
        "    result[i] = array[i] + scalar\n",
        "\n",
        "print(result)"
      ],
      "metadata": {
        "colab": {
          "base_uri": "https://localhost:8080/"
        },
        "id": "oJhDhPYSWtXU",
        "outputId": "bc44c899-71a3-42a7-a03e-4332bf4649f3"
      },
      "id": "oJhDhPYSWtXU",
      "execution_count": 12,
      "outputs": [
        {
          "output_type": "stream",
          "name": "stdout",
          "text": [
            "[11. 12. 13. 14.]\n"
          ]
        }
      ]
    },
    {
      "cell_type": "markdown",
      "source": [
        "使用廣播，我們可以這樣做：\n"
      ],
      "metadata": {
        "id": "QvxrsMtSW86A"
      },
      "id": "QvxrsMtSW86A"
    },
    {
      "cell_type": "code",
      "source": [
        "# 廣播方法\n",
        "result = array + scalar\n",
        "print(result)"
      ],
      "metadata": {
        "colab": {
          "base_uri": "https://localhost:8080/"
        },
        "id": "v62zSmHqW3AY",
        "outputId": "db03ef83-0301-455b-f067-7aed980d6a3a"
      },
      "id": "v62zSmHqW3AY",
      "execution_count": 13,
      "outputs": [
        {
          "output_type": "stream",
          "name": "stdout",
          "text": [
            "[11 12 13 14]\n"
          ]
        }
      ]
    },
    {
      "cell_type": "markdown",
      "source": [
        "\n",
        "#### 不同形狀數組的廣播\n",
        "\n",
        "- 廣播也可以應用於不同形狀的數組。例如，一個形狀為 (4, 1) 的數組和一個形狀為 (1, 3) 的數組相加：\n",
        "- 這裡，`array1` 會被擴展為 (4, 3) 的形狀，而 `array2` 也會被擴展為 (4, 3) 的形狀，然後再進行加法運算。結果如下："
      ],
      "metadata": {
        "id": "JrU3y-KyWzZH"
      },
      "id": "JrU3y-KyWzZH"
    },
    {
      "cell_type": "code",
      "source": [
        "array1 = np.array([[1], [2], [3], [4]])\n",
        "array2 = np.array([[10, 20, 30]])\n",
        "\n",
        "result = array1 + array2\n",
        "print(result)"
      ],
      "metadata": {
        "colab": {
          "base_uri": "https://localhost:8080/"
        },
        "id": "8r_3Nyy2XChI",
        "outputId": "ec06e0f4-52df-4a79-ba13-7447680ffa4a"
      },
      "id": "8r_3Nyy2XChI",
      "execution_count": 14,
      "outputs": [
        {
          "output_type": "stream",
          "name": "stdout",
          "text": [
            "[[11 21 31]\n",
            " [12 22 32]\n",
            " [13 23 33]\n",
            " [14 24 34]]\n"
          ]
        }
      ]
    },
    {
      "cell_type": "code",
      "source": [
        "import numpy as np\n",
        "\n",
        "# 定義曲線調整的中心值，即期望調整後成績的平均值\n",
        "CURVE_CENTER = 80\n",
        "\n",
        "# 初始化成績數組，包含多個學生的成績\n",
        "grades = np.array([72, 35, 64, 88, 51, 90, 74, 12])\n",
        "\n",
        "def curve(grades):\n",
        "    # 計算當前成績的平均值\n",
        "    average = grades.mean()\n",
        "\n",
        "    # 計算調整量，即中心值與當前平均值之間的差\n",
        "    change = CURVE_CENTER - average\n",
        "\n",
        "    # 將調整量加到每個成績上，得到新的成績\n",
        "    new_grades = grades + change\n",
        "\n",
        "    # 使用 np.clip 函數限制新的成績，確保不低於原始成績且不超過100分\n",
        "    return np.clip(new_grades, grades, 100)\n",
        "\n",
        "# 調整成績，並將結果存儲在 curved_grades 中\n",
        "curved_grades = curve(grades)\n",
        "\n",
        "# 輸出調整後的成績\n",
        "print(curved_grades)\n"
      ],
      "metadata": {
        "colab": {
          "base_uri": "https://localhost:8080/"
        },
        "id": "wtJ_sS9JCo-K",
        "outputId": "4a0424a8-ac3f-47b6-e59d-611f4c7beb61"
      },
      "id": "wtJ_sS9JCo-K",
      "execution_count": 17,
      "outputs": [
        {
          "output_type": "stream",
          "name": "stdout",
          "text": [
            "[ 91.25  54.25  83.25 100.    70.25 100.    93.25  31.25]\n"
          ]
        }
      ]
    },
    {
      "cell_type": "markdown",
      "id": "65f4bd43",
      "metadata": {
        "id": "65f4bd43"
      },
      "source": [
        "### 參考來源\n",
        "1. NumPy 官方文件：https://numpy.org/doc/stable/\n",
        "2. Python Documentation：https://docs.python.org/3/\n",
        "3. [W3Schools NumPy Tutorial](https://www.w3schools.com/python/numpy_intro.asp)\n",
        "4. [NumPy Tutorial (Real Python)](https://realpython.com/numpy-tutorial/)\n",
        "5. ChatGPT"
      ]
    }
  ],
  "metadata": {
    "colab": {
      "provenance": [],
      "include_colab_link": true
    },
    "language_info": {
      "name": "python"
    },
    "kernelspec": {
      "name": "python3",
      "display_name": "Python 3"
    }
  },
  "nbformat": 4,
  "nbformat_minor": 5
}