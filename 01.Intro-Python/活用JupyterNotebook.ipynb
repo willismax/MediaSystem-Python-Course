{
  "nbformat": 4,
  "nbformat_minor": 0,
  "metadata": {
    "kernelspec": {
      "name": "python36",
      "display_name": "Python 3.6",
      "language": "python"
    },
    "language_info": {
      "mimetype": "text/x-python",
      "nbconvert_exporter": "python",
      "name": "python",
      "pygments_lexer": "ipython3",
      "version": "3.6.6",
      "file_extension": ".py",
      "codemirror_mode": {
        "version": 3,
        "name": "ipython"
      }
    },
    "colab": {
      "provenance": [],
      "collapsed_sections": [
        "xnW5m3MyWjR6",
        "MT5vcI6DHD8e",
        "6L-ZjCmZi-zU",
        "NGqMz5GzYM_P",
        "pTaAQK4iZ7sX",
        "xZ7TvFblbbwn",
        "NxQWZSwycCs1"
      ],
      "include_colab_link": true
    },
    "widgets": {
      "application/vnd.jupyter.widget-state+json": {
        "032576ffec1b4863a03b0cc48733d91d": {
          "model_module": "@jupyter-widgets/controls",
          "model_name": "ButtonModel",
          "model_module_version": "1.5.0",
          "state": {
            "_dom_classes": [],
            "_model_module": "@jupyter-widgets/controls",
            "_model_module_version": "1.5.0",
            "_model_name": "ButtonModel",
            "_view_count": null,
            "_view_module": "@jupyter-widgets/controls",
            "_view_module_version": "1.5.0",
            "_view_name": "ButtonView",
            "button_style": "",
            "description": "Click Me!",
            "disabled": false,
            "icon": "",
            "layout": "IPY_MODEL_0e15f9686cec4b7a8d8a52607d4c881f",
            "style": "IPY_MODEL_15b76aedcf8d48e48c588df82a3064cc",
            "tooltip": ""
          }
        },
        "0e15f9686cec4b7a8d8a52607d4c881f": {
          "model_module": "@jupyter-widgets/base",
          "model_name": "LayoutModel",
          "model_module_version": "1.2.0",
          "state": {
            "_model_module": "@jupyter-widgets/base",
            "_model_module_version": "1.2.0",
            "_model_name": "LayoutModel",
            "_view_count": null,
            "_view_module": "@jupyter-widgets/base",
            "_view_module_version": "1.2.0",
            "_view_name": "LayoutView",
            "align_content": null,
            "align_items": null,
            "align_self": null,
            "border": null,
            "bottom": null,
            "display": null,
            "flex": null,
            "flex_flow": null,
            "grid_area": null,
            "grid_auto_columns": null,
            "grid_auto_flow": null,
            "grid_auto_rows": null,
            "grid_column": null,
            "grid_gap": null,
            "grid_row": null,
            "grid_template_areas": null,
            "grid_template_columns": null,
            "grid_template_rows": null,
            "height": null,
            "justify_content": null,
            "justify_items": null,
            "left": null,
            "margin": null,
            "max_height": null,
            "max_width": null,
            "min_height": null,
            "min_width": null,
            "object_fit": null,
            "object_position": null,
            "order": null,
            "overflow": null,
            "overflow_x": null,
            "overflow_y": null,
            "padding": null,
            "right": null,
            "top": null,
            "visibility": null,
            "width": null
          }
        },
        "15b76aedcf8d48e48c588df82a3064cc": {
          "model_module": "@jupyter-widgets/controls",
          "model_name": "ButtonStyleModel",
          "model_module_version": "1.5.0",
          "state": {
            "_model_module": "@jupyter-widgets/controls",
            "_model_module_version": "1.5.0",
            "_model_name": "ButtonStyleModel",
            "_view_count": null,
            "_view_module": "@jupyter-widgets/base",
            "_view_module_version": "1.2.0",
            "_view_name": "StyleView",
            "button_color": null,
            "font_weight": ""
          }
        },
        "3862a2d35e7a4dc890e933d0738d8e6b": {
          "model_module": "@jupyter-widgets/output",
          "model_name": "OutputModel",
          "model_module_version": "1.0.0",
          "state": {
            "_dom_classes": [],
            "_model_module": "@jupyter-widgets/output",
            "_model_module_version": "1.0.0",
            "_model_name": "OutputModel",
            "_view_count": null,
            "_view_module": "@jupyter-widgets/output",
            "_view_module_version": "1.0.0",
            "_view_name": "OutputView",
            "layout": "IPY_MODEL_d6e2e04ddacc4360abb09e4a10aaee0c",
            "msg_id": "",
            "outputs": []
          }
        },
        "d6e2e04ddacc4360abb09e4a10aaee0c": {
          "model_module": "@jupyter-widgets/base",
          "model_name": "LayoutModel",
          "model_module_version": "1.2.0",
          "state": {
            "_model_module": "@jupyter-widgets/base",
            "_model_module_version": "1.2.0",
            "_model_name": "LayoutModel",
            "_view_count": null,
            "_view_module": "@jupyter-widgets/base",
            "_view_module_version": "1.2.0",
            "_view_name": "LayoutView",
            "align_content": null,
            "align_items": null,
            "align_self": null,
            "border": null,
            "bottom": null,
            "display": null,
            "flex": null,
            "flex_flow": null,
            "grid_area": null,
            "grid_auto_columns": null,
            "grid_auto_flow": null,
            "grid_auto_rows": null,
            "grid_column": null,
            "grid_gap": null,
            "grid_row": null,
            "grid_template_areas": null,
            "grid_template_columns": null,
            "grid_template_rows": null,
            "height": null,
            "justify_content": null,
            "justify_items": null,
            "left": null,
            "margin": null,
            "max_height": null,
            "max_width": null,
            "min_height": null,
            "min_width": null,
            "object_fit": null,
            "object_position": null,
            "order": null,
            "overflow": null,
            "overflow_x": null,
            "overflow_y": null,
            "padding": null,
            "right": null,
            "top": null,
            "visibility": null,
            "width": null
          }
        },
        "7a594555ab534420a90e2c7a14fb7f55": {
          "model_module": "@jupyter-widgets/controls",
          "model_name": "IntSliderModel",
          "model_module_version": "1.5.0",
          "state": {
            "_dom_classes": [],
            "_model_module": "@jupyter-widgets/controls",
            "_model_module_version": "1.5.0",
            "_model_name": "IntSliderModel",
            "_view_count": null,
            "_view_module": "@jupyter-widgets/controls",
            "_view_module_version": "1.5.0",
            "_view_name": "IntSliderView",
            "continuous_update": true,
            "description": "",
            "description_tooltip": null,
            "disabled": false,
            "layout": "IPY_MODEL_0b03f3726b354790859c912e348dbb69",
            "max": 10,
            "min": 0,
            "orientation": "horizontal",
            "readout": true,
            "readout_format": "d",
            "step": 1,
            "style": "IPY_MODEL_a8f1eedbe48c40c7be177b09b885fd76",
            "value": 5
          }
        },
        "0b03f3726b354790859c912e348dbb69": {
          "model_module": "@jupyter-widgets/base",
          "model_name": "LayoutModel",
          "model_module_version": "1.2.0",
          "state": {
            "_model_module": "@jupyter-widgets/base",
            "_model_module_version": "1.2.0",
            "_model_name": "LayoutModel",
            "_view_count": null,
            "_view_module": "@jupyter-widgets/base",
            "_view_module_version": "1.2.0",
            "_view_name": "LayoutView",
            "align_content": null,
            "align_items": null,
            "align_self": null,
            "border": null,
            "bottom": null,
            "display": null,
            "flex": null,
            "flex_flow": null,
            "grid_area": null,
            "grid_auto_columns": null,
            "grid_auto_flow": null,
            "grid_auto_rows": null,
            "grid_column": null,
            "grid_gap": null,
            "grid_row": null,
            "grid_template_areas": null,
            "grid_template_columns": null,
            "grid_template_rows": null,
            "height": null,
            "justify_content": null,
            "justify_items": null,
            "left": null,
            "margin": null,
            "max_height": null,
            "max_width": null,
            "min_height": null,
            "min_width": null,
            "object_fit": null,
            "object_position": null,
            "order": null,
            "overflow": null,
            "overflow_x": null,
            "overflow_y": null,
            "padding": null,
            "right": null,
            "top": null,
            "visibility": null,
            "width": null
          }
        },
        "a8f1eedbe48c40c7be177b09b885fd76": {
          "model_module": "@jupyter-widgets/controls",
          "model_name": "SliderStyleModel",
          "model_module_version": "1.5.0",
          "state": {
            "_model_module": "@jupyter-widgets/controls",
            "_model_module_version": "1.5.0",
            "_model_name": "SliderStyleModel",
            "_view_count": null,
            "_view_module": "@jupyter-widgets/base",
            "_view_module_version": "1.2.0",
            "_view_name": "StyleView",
            "description_width": "",
            "handle_color": null
          }
        }
      }
    }
  },
  "cells": [
    {
      "cell_type": "markdown",
      "metadata": {
        "id": "view-in-github",
        "colab_type": "text"
      },
      "source": [
        "<a href=\"https://colab.research.google.com/github/willismax/MediaSystem-Python-Course/blob/main/01.Intro-Python/%E6%B4%BB%E7%94%A8JupyterNotebook.ipynb\" target=\"_parent\"><img src=\"https://colab.research.google.com/assets/colab-badge.svg\" alt=\"Open In Colab\"/></a>"
      ]
    },
    {
      "cell_type": "markdown",
      "metadata": {
        "id": "j2tQ--1xFDo1"
      },
      "source": [
        "# 活用Jupyter Notebook"
      ]
    },
    {
      "cell_type": "markdown",
      "metadata": {
        "id": "hOKeAC3DWMIV"
      },
      "source": [
        "![](https://jupyter.org/assets/main-logo.svg)\n",
        "\n",
        "這一節我們談到常用的Jupyter Notebook使用方法，並且針對Google Colab使用上幾個方便的功能介紹，以便銜接後續的資料視覺化運用"
      ]
    },
    {
      "cell_type": "markdown",
      "metadata": {
        "id": "xnW5m3MyWjR6"
      },
      "source": [
        "## Jupyter Notebook簡介\n"
      ]
    },
    {
      "cell_type": "markdown",
      "metadata": {
        "id": "CELe7LHxWu3B"
      },
      "source": [
        "- 前身是IPython Notebook\n",
        "- Jupyter的名稱來源於JUlia, PYThon, R\n",
        "- 讀音和木星（Jupiter）是類似的\n",
        "- 原創者 Fernado Perez 博士\n",
        "- 非常適合用來做筆記、報表與簡報"
      ]
    },
    {
      "cell_type": "markdown",
      "metadata": {
        "id": "MT5vcI6DHD8e"
      },
      "source": [
        "## Jupyter Notebook使用\n"
      ]
    },
    {
      "cell_type": "markdown",
      "metadata": {
        "id": "Q4YMZo-RFDo5"
      },
      "source": [
        "Jupyter Notebook是目前資料分析的主流平台，主要可使用Python，其他如R語言也有支援，有些指令要先瞭解會更好用。\n",
        "- 首先知道執行除了按\"RUN\"，更常用的是\"shift+enter\"\n",
        "執行時間\n",
        "    - %matplotlib inline 圖會直接顯示在網頁裡面(預設matplotlib圖會另開視窗)\n"
      ]
    },
    {
      "cell_type": "markdown",
      "metadata": {
        "id": "6L-ZjCmZi-zU"
      },
      "source": [
        "### 系統指令\n"
      ]
    },
    {
      "cell_type": "markdown",
      "metadata": {
        "id": "TNCm65dLjBNF"
      },
      "source": [
        "- `!pwd` 系統路徑\n",
        "- `!pip3 install 套件名稱` #如同在終端機視窗下達指令，只要你加了驚嘆號\n",
        "- !只會暫時執行一次`/bin/bash`，切換路徑的持續狀態要用`%cd`"
      ]
    },
    {
      "cell_type": "code",
      "metadata": {
        "id": "HSa2LhuIjOW6",
        "colab": {
          "base_uri": "https://localhost:8080/"
        },
        "outputId": "0b551183-f838-4b16-c4b8-edd82fe6a60b"
      },
      "source": [
        "!pwd\n",
        "!ls"
      ],
      "execution_count": 1,
      "outputs": [
        {
          "output_type": "stream",
          "name": "stdout",
          "text": [
            "/content\n",
            "sample_data\n"
          ]
        }
      ]
    },
    {
      "cell_type": "code",
      "metadata": {
        "id": "4E-lKHRSyfLX",
        "colab": {
          "base_uri": "https://localhost:8080/"
        },
        "outputId": "e272688f-cc98-4f16-cee8-98dcbe94b212"
      },
      "source": [
        "!cd sample_data/\n",
        "!ls"
      ],
      "execution_count": 2,
      "outputs": [
        {
          "output_type": "stream",
          "name": "stdout",
          "text": [
            "sample_data\n"
          ]
        }
      ]
    },
    {
      "cell_type": "code",
      "metadata": {
        "id": "1a618Jz6-GH_",
        "colab": {
          "base_uri": "https://localhost:8080/"
        },
        "outputId": "9224c737-2561-4e3a-ec8d-e9cf96eaf9b0"
      },
      "source": [
        "%cd sample_data/\n",
        "!ls"
      ],
      "execution_count": 3,
      "outputs": [
        {
          "output_type": "stream",
          "name": "stdout",
          "text": [
            "/content/sample_data\n",
            "anscombe.json\t\t     california_housing_train.csv  mnist_train_small.csv\n",
            "california_housing_test.csv  mnist_test.csv\t\t   README.md\n"
          ]
        }
      ]
    },
    {
      "cell_type": "code",
      "metadata": {
        "id": "qiqMTih0-QMv",
        "colab": {
          "base_uri": "https://localhost:8080/"
        },
        "outputId": "890c8dcf-71cc-48e2-878b-073ef31741fa"
      },
      "source": [
        "%cd .."
      ],
      "execution_count": 4,
      "outputs": [
        {
          "output_type": "stream",
          "name": "stdout",
          "text": [
            "/content\n"
          ]
        }
      ]
    },
    {
      "cell_type": "markdown",
      "metadata": {
        "id": "NGqMz5GzYM_P"
      },
      "source": [
        "### 常用快捷鍵"
      ]
    },
    {
      "cell_type": "markdown",
      "metadata": {
        "id": "YDUsH4UoYQWt"
      },
      "source": [
        "- 快捷鍵搜索:  Ctrl + Shift + P\n",
        "- 註解整行: Ctrl + /\n",
        "- 開啟說明文件: 如: `sum?` 或 `?sum`\n",
        "- 多光標功能(mutiple cursors): 以 Alt選取\n",
        "- Run Cell： Ctrl + Enter (留在原地)、Shift + Enter (跳到下一格)\n"
      ]
    },
    {
      "cell_type": "code",
      "metadata": {
        "id": "K2CsvwuizAxj"
      },
      "source": [
        "?sum"
      ],
      "execution_count": 5,
      "outputs": []
    },
    {
      "cell_type": "code",
      "metadata": {
        "id": "gZKwU6-h_H4c"
      },
      "source": [
        "help(sum)"
      ],
      "execution_count": null,
      "outputs": []
    },
    {
      "cell_type": "markdown",
      "metadata": {
        "id": "pTaAQK4iZ7sX"
      },
      "source": [
        "### 魔術指令\n",
        "- `%CD` 如系統的cd切換路徑\n",
        "- `%timeit`、`%time` 將試跑N次該格程式碼，計算執行速度\n",
        "- `%%timeit`、`%%time` 將針對整個cell跑程式計算速度\n",
        "- `%%writefile 檔案名稱` 將創建檔案\n",
        "- `%cat 檔案名稱` 將顯示檔案內容\n",
        "- `%run 檔案名稱` 將執行檔案\n",
        "- `%%shell 指令` 將執行linux sell指令"
      ]
    },
    {
      "cell_type": "code",
      "metadata": {
        "id": "88pt5c3FaAlZ",
        "colab": {
          "base_uri": "https://localhost:8080/",
          "height": 235
        },
        "outputId": "86e84c53-6fec-48f5-84c4-3ef66d6fff2d"
      },
      "source": [
        "%lsmagic"
      ],
      "execution_count": 7,
      "outputs": [
        {
          "output_type": "execute_result",
          "data": {
            "text/plain": [
              "Available line magics:\n",
              "%alias  %alias_magic  %autoawait  %autocall  %automagic  %autosave  %bookmark  %cat  %cd  %clear  %colors  %conda  %config  %connect_info  %cp  %debug  %dhist  %dirs  %doctest_mode  %ed  %edit  %env  %gui  %hist  %history  %killbgscripts  %ldir  %less  %lf  %lk  %ll  %load  %load_ext  %loadpy  %logoff  %logon  %logstart  %logstate  %logstop  %ls  %lsmagic  %lx  %macro  %magic  %man  %matplotlib  %mkdir  %more  %mv  %notebook  %page  %pastebin  %pdb  %pdef  %pdoc  %pfile  %pinfo  %pinfo2  %pip  %popd  %pprint  %precision  %prun  %psearch  %psource  %pushd  %pwd  %pycat  %pylab  %qtconsole  %quickref  %recall  %rehashx  %reload_ext  %rep  %rerun  %reset  %reset_selective  %rm  %rmdir  %run  %save  %sc  %set_env  %shell  %store  %sx  %system  %tb  %tensorflow_version  %time  %timeit  %unalias  %unload_ext  %who  %who_ls  %whos  %xdel  %xmode\n",
              "\n",
              "Available cell magics:\n",
              "%%!  %%HTML  %%SVG  %%bash  %%bigquery  %%capture  %%debug  %%file  %%html  %%javascript  %%js  %%latex  %%markdown  %%perl  %%prun  %%pypy  %%python  %%python2  %%python3  %%ruby  %%script  %%sh  %%shell  %%svg  %%sx  %%system  %%time  %%timeit  %%writefile\n",
              "\n",
              "Automagic is ON, % prefix IS NOT needed for line magics."
            ],
            "application/json": {
              "line": {
                "automagic": "AutoMagics",
                "autocall": "AutoMagics",
                "alias_magic": "BasicMagics",
                "lsmagic": "BasicMagics",
                "magic": "BasicMagics",
                "page": "BasicMagics",
                "pprint": "BasicMagics",
                "colors": "BasicMagics",
                "xmode": "BasicMagics",
                "quickref": "BasicMagics",
                "doctest_mode": "BasicMagics",
                "gui": "BasicMagics",
                "precision": "BasicMagics",
                "notebook": "BasicMagics",
                "save": "CodeMagics",
                "pastebin": "CodeMagics",
                "loadpy": "CodeMagics",
                "load": "CodeMagics",
                "edit": "KernelMagics",
                "config": "ConfigMagics",
                "prun": "ExecutionMagics",
                "pdb": "ExecutionMagics",
                "debug": "ExecutionMagics",
                "tb": "ExecutionMagics",
                "run": "ExecutionMagics",
                "timeit": "ExecutionMagics",
                "time": "ExecutionMagics",
                "macro": "ExecutionMagics",
                "load_ext": "ExtensionMagics",
                "unload_ext": "ExtensionMagics",
                "reload_ext": "ExtensionMagics",
                "history": "HistoryMagics",
                "recall": "HistoryMagics",
                "rerun": "HistoryMagics",
                "logstart": "LoggingMagics",
                "logstop": "LoggingMagics",
                "logoff": "LoggingMagics",
                "logon": "LoggingMagics",
                "logstate": "LoggingMagics",
                "pinfo": "NamespaceMagics",
                "pinfo2": "NamespaceMagics",
                "pdef": "NamespaceMagics",
                "pdoc": "NamespaceMagics",
                "psource": "NamespaceMagics",
                "pfile": "NamespaceMagics",
                "psearch": "NamespaceMagics",
                "who_ls": "NamespaceMagics",
                "who": "NamespaceMagics",
                "whos": "NamespaceMagics",
                "reset": "NamespaceMagics",
                "reset_selective": "NamespaceMagics",
                "xdel": "NamespaceMagics",
                "alias": "OSMagics",
                "unalias": "OSMagics",
                "rehashx": "OSMagics",
                "pwd": "OSMagics",
                "cd": "OSMagics",
                "env": "OSMagics",
                "set_env": "OSMagics",
                "pushd": "OSMagics",
                "popd": "OSMagics",
                "dirs": "OSMagics",
                "dhist": "OSMagics",
                "sc": "OSMagics",
                "sx": "OSMagics",
                "system": "OSMagics",
                "bookmark": "OSMagics",
                "pycat": "OSMagics",
                "pip": "Other",
                "conda": "PackagingMagics",
                "matplotlib": "PylabMagics",
                "pylab": "PylabMagics",
                "killbgscripts": "ScriptMagics",
                "autoawait": "AsyncMagics",
                "ed": "Other",
                "hist": "Other",
                "rep": "Other",
                "clear": "KernelMagics",
                "less": "KernelMagics",
                "more": "KernelMagics",
                "man": "KernelMagics",
                "connect_info": "KernelMagics",
                "qtconsole": "KernelMagics",
                "autosave": "KernelMagics",
                "mkdir": "Other",
                "rmdir": "Other",
                "mv": "Other",
                "rm": "Other",
                "cp": "Other",
                "cat": "Other",
                "ls": "Other",
                "ll": "Other",
                "lf": "Other",
                "lk": "Other",
                "ldir": "Other",
                "lx": "Other",
                "store": "StoreMagics",
                "shell": "Other",
                "tensorflow_version": "Other"
              },
              "cell": {
                "js": "DisplayMagics",
                "javascript": "DisplayMagics",
                "latex": "DisplayMagics",
                "svg": "DisplayMagics",
                "html": "DisplayMagics",
                "markdown": "DisplayMagics",
                "prun": "ExecutionMagics",
                "debug": "ExecutionMagics",
                "timeit": "ExecutionMagics",
                "time": "ExecutionMagics",
                "capture": "ExecutionMagics",
                "sx": "OSMagics",
                "system": "OSMagics",
                "!": "OSMagics",
                "writefile": "OSMagics",
                "script": "ScriptMagics",
                "sh": "Other",
                "bash": "Other",
                "perl": "Other",
                "ruby": "Other",
                "python": "Other",
                "python2": "Other",
                "python3": "Other",
                "pypy": "Other",
                "SVG": "Other",
                "HTML": "Other",
                "file": "Other",
                "bigquery": "Other",
                "shell": "Other"
              }
            }
          },
          "metadata": {},
          "execution_count": 7
        }
      ]
    },
    {
      "cell_type": "code",
      "metadata": {
        "id": "HWw0w7xDbUyd"
      },
      "source": [
        "%timeit print(\"Hello World\")"
      ],
      "execution_count": null,
      "outputs": []
    },
    {
      "cell_type": "code",
      "metadata": {
        "id": "Jj802Y54_j5x",
        "colab": {
          "base_uri": "https://localhost:8080/"
        },
        "outputId": "82d08695-bc88-4027-8a35-d657abc7eccc"
      },
      "source": [
        "%%timeit\n",
        "\n",
        "a = []\n",
        "for i in range(1000):\n",
        "  a.append(i)"
      ],
      "execution_count": 9,
      "outputs": [
        {
          "output_type": "stream",
          "name": "stdout",
          "text": [
            "43.8 µs ± 11 µs per loop (mean ± std. dev. of 7 runs, 10000 loops each)\n"
          ]
        }
      ]
    },
    {
      "cell_type": "code",
      "metadata": {
        "id": "rMptV_hu_6H-",
        "colab": {
          "base_uri": "https://localhost:8080/"
        },
        "outputId": "b5c5a44a-a5cb-487c-cfd5-4a60dd327920"
      },
      "source": [
        "%%timeit\n",
        "\n",
        "a = [ i for i in range(1000)]"
      ],
      "execution_count": 10,
      "outputs": [
        {
          "output_type": "stream",
          "name": "stdout",
          "text": [
            "21.9 µs ± 389 ns per loop (mean ± std. dev. of 7 runs, 10000 loops each)\n"
          ]
        }
      ]
    },
    {
      "cell_type": "code",
      "metadata": {
        "id": "d6rGO9KfANtc",
        "colab": {
          "base_uri": "https://localhost:8080/"
        },
        "outputId": "39a17226-f088-42e5-aa3c-ad6a100c79a8"
      },
      "source": [
        "%%writefile hello.py\n",
        "print(\"hello world\")"
      ],
      "execution_count": 11,
      "outputs": [
        {
          "output_type": "stream",
          "name": "stdout",
          "text": [
            "Writing hello.py\n"
          ]
        }
      ]
    },
    {
      "cell_type": "code",
      "metadata": {
        "id": "wJDZxM36BAeN",
        "colab": {
          "base_uri": "https://localhost:8080/"
        },
        "outputId": "e0741049-0221-4865-91fb-588a950e76d1"
      },
      "source": [
        "%cat hello.py"
      ],
      "execution_count": 12,
      "outputs": [
        {
          "output_type": "stream",
          "name": "stdout",
          "text": [
            "print(\"hello world\")\n"
          ]
        }
      ]
    },
    {
      "cell_type": "code",
      "metadata": {
        "id": "GD2P56SXAhtW",
        "colab": {
          "base_uri": "https://localhost:8080/"
        },
        "outputId": "dc113ee9-f537-4178-8ac7-05381d6bbf60"
      },
      "source": [
        "%%shell\n",
        "python hello.py"
      ],
      "execution_count": 13,
      "outputs": [
        {
          "output_type": "stream",
          "name": "stdout",
          "text": [
            "hello world\n"
          ]
        },
        {
          "output_type": "execute_result",
          "data": {
            "text/plain": []
          },
          "metadata": {},
          "execution_count": 13
        }
      ]
    },
    {
      "cell_type": "code",
      "metadata": {
        "id": "r8CTM_gXDRkM",
        "colab": {
          "base_uri": "https://localhost:8080/"
        },
        "outputId": "501a68d0-1b0a-4f0d-fd1e-cfeab4331071"
      },
      "source": [
        "%run hello.py"
      ],
      "execution_count": 14,
      "outputs": [
        {
          "output_type": "stream",
          "name": "stdout",
          "text": [
            "hello world\n"
          ]
        }
      ]
    },
    {
      "cell_type": "code",
      "metadata": {
        "id": "1Cu63FSoXFYl",
        "colab": {
          "base_uri": "https://localhost:8080/"
        },
        "outputId": "e3e39fab-c884-4d5a-e0e8-9902a687324d"
      },
      "source": [
        "!python hello.py"
      ],
      "execution_count": 15,
      "outputs": [
        {
          "output_type": "stream",
          "name": "stdout",
          "text": [
            "hello world\n"
          ]
        }
      ]
    },
    {
      "cell_type": "markdown",
      "metadata": {
        "id": "za7op7uVXlVo"
      },
      "source": [
        "- 補充 `.py`的指定python開啟好處"
      ]
    },
    {
      "cell_type": "code",
      "metadata": {
        "id": "jTNvvkyPXOlM",
        "colab": {
          "base_uri": "https://localhost:8080/"
        },
        "outputId": "574fc652-0e4a-4a57-996a-8b82fb06ce0a"
      },
      "source": [
        "%%writefile hello2.py\n",
        "#!/usr/bin/env python\n",
        "\n",
        "print(\"你好世界\")"
      ],
      "execution_count": 16,
      "outputs": [
        {
          "output_type": "stream",
          "name": "stdout",
          "text": [
            "Writing hello2.py\n"
          ]
        }
      ]
    },
    {
      "cell_type": "code",
      "metadata": {
        "id": "DBJ7wki9Xyx4",
        "colab": {
          "base_uri": "https://localhost:8080/"
        },
        "outputId": "9078177c-cbb5-476f-e16d-5caf1d86d150"
      },
      "source": [
        "%cat hello2.py"
      ],
      "execution_count": 17,
      "outputs": [
        {
          "output_type": "stream",
          "name": "stdout",
          "text": [
            "#!/usr/bin/env python\n",
            "\n",
            "print(\"你好世界\")\n"
          ]
        }
      ]
    },
    {
      "cell_type": "code",
      "metadata": {
        "id": "Coj-eP8LX27-",
        "colab": {
          "base_uri": "https://localhost:8080/"
        },
        "outputId": "e4e65606-25be-4425-dfc9-25238697d793"
      },
      "source": [
        "%%shell\n",
        "python hello2.py"
      ],
      "execution_count": 18,
      "outputs": [
        {
          "output_type": "stream",
          "name": "stdout",
          "text": [
            "你好世界\n"
          ]
        },
        {
          "output_type": "execute_result",
          "data": {
            "text/plain": []
          },
          "metadata": {},
          "execution_count": 18
        }
      ]
    },
    {
      "cell_type": "code",
      "metadata": {
        "id": "iZ_L5uDCY8mP",
        "colab": {
          "base_uri": "https://localhost:8080/"
        },
        "outputId": "866bf8ee-778c-4599-bc22-9ea8b4a10dbb"
      },
      "source": [
        "%run hello2.py"
      ],
      "execution_count": 19,
      "outputs": [
        {
          "output_type": "stream",
          "name": "stdout",
          "text": [
            "你好世界\n"
          ]
        }
      ]
    },
    {
      "cell_type": "code",
      "metadata": {
        "colab": {
          "base_uri": "https://localhost:8080/"
        },
        "id": "eDFEbu_ANvT8",
        "outputId": "ea0dd3fb-61d3-4407-ae0c-66ed3c7d9666"
      },
      "source": [
        "!hello2.py"
      ],
      "execution_count": 20,
      "outputs": [
        {
          "output_type": "stream",
          "name": "stdout",
          "text": [
            "/bin/bash: line 1: hello2.py: command not found\n"
          ]
        }
      ]
    },
    {
      "cell_type": "markdown",
      "metadata": {
        "id": "xZ7TvFblbbwn"
      },
      "source": [
        "## Colab互動功能"
      ]
    },
    {
      "cell_type": "markdown",
      "metadata": {
        "id": "76ireFIqbkK1"
      },
      "source": [
        "[Colab官方教學](https://colab.research.google.com/notebooks/welcome.ipynb?authuser=1#scrollTo=-Rh3-Vt9Nev9)\n",
        "\n",
        "- [Interactive forms](https://colab.research.google.com/notebooks/forms.ipynb)\n",
        "- [Interactive widgets](https://colab.research.google.com/notebooks/widgets.ipynb)"
      ]
    },
    {
      "cell_type": "markdown",
      "metadata": {
        "id": "Mk_VDdNub9cQ"
      },
      "source": [
        "### Forms表格"
      ]
    },
    {
      "cell_type": "markdown",
      "metadata": {
        "id": "NxQWZSwycCs1"
      },
      "source": [
        "#### 插入表格\n",
        "  - 在code cell，選擇**Insert → Add form field**\n",
        "\n",
        "####  隱藏表格\n",
        "  - 在選單選擇**Edit → Show/hide code**即可隱藏該cell code\n",
        "\n",
        "- 進一步請參閱官方文件:[Interactive forms](https://colab.research.google.com/notebooks/forms.ipynb)"
      ]
    },
    {
      "cell_type": "code",
      "metadata": {
        "id": "3dMOdLYBdbzJ"
      },
      "source": [
        "#@title Number fields\n",
        "number_input = 10.0 #@param {type:\"number\"}\n",
        "number_slider = 0 #@param {type:\"slider\", min:-1, max:1, step:0.1}\n",
        "\n",
        "integer_input = 10 #@param {type:\"integer\"}\n",
        "integer_slider = 1 #@param {type:\"slider\", min:0, max:100, step:1}\n",
        "\n",
        "print(number_input)\n",
        "print(number_slider)\n",
        "\n",
        "print(integer_input)\n",
        "print(integer_slider)"
      ],
      "execution_count": null,
      "outputs": []
    },
    {
      "cell_type": "code",
      "metadata": {
        "id": "uzbMpQ0TeHBy"
      },
      "source": [
        "#@title Double click on this line in the code cell. { display-mode: \"form\" }\n",
        "\n",
        "option1 = 'B' #@param [\"A\", \"B\", \"C\"]\n",
        "print('You selected', option1)\n"
      ],
      "execution_count": null,
      "outputs": []
    },
    {
      "cell_type": "markdown",
      "metadata": {
        "id": "MBHSQmZLfDmR"
      },
      "source": [
        "#### 結合Jupyter原生Widgets"
      ]
    },
    {
      "cell_type": "code",
      "metadata": {
        "id": "Xv9STk-PfNJi",
        "colab": {
          "base_uri": "https://localhost:8080/",
          "height": 49,
          "referenced_widgets": [
            "032576ffec1b4863a03b0cc48733d91d",
            "0e15f9686cec4b7a8d8a52607d4c881f",
            "15b76aedcf8d48e48c588df82a3064cc",
            "3862a2d35e7a4dc890e933d0738d8e6b",
            "d6e2e04ddacc4360abb09e4a10aaee0c"
          ]
        },
        "outputId": "2e03eb5c-d209-4527-baac-22345195a950"
      },
      "source": [
        "import ipywidgets as widgets\n",
        "from IPython.display import display\n",
        "button = widgets.Button(description=\"Click Me!\")\n",
        "output = widgets.Output()\n",
        "\n",
        "def on_button_clicked(b):\n",
        "  # Display the message within the output widget.\n",
        "  with output:\n",
        "    print(\"Button clicked.\")\n",
        "\n",
        "button.on_click(on_button_clicked)\n",
        "display(button, output)"
      ],
      "execution_count": 21,
      "outputs": [
        {
          "output_type": "display_data",
          "data": {
            "text/plain": [
              "Button(description='Click Me!', style=ButtonStyle())"
            ],
            "application/vnd.jupyter.widget-view+json": {
              "version_major": 2,
              "version_minor": 0,
              "model_id": "032576ffec1b4863a03b0cc48733d91d"
            }
          },
          "metadata": {}
        },
        {
          "output_type": "display_data",
          "data": {
            "text/plain": [
              "Output()"
            ],
            "application/vnd.jupyter.widget-view+json": {
              "version_major": 2,
              "version_minor": 0,
              "model_id": "3862a2d35e7a4dc890e933d0738d8e6b"
            }
          },
          "metadata": {}
        }
      ]
    },
    {
      "cell_type": "code",
      "metadata": {
        "id": "F9Lq4FJJfUhS",
        "colab": {
          "base_uri": "https://localhost:8080/",
          "height": 49,
          "referenced_widgets": [
            "7a594555ab534420a90e2c7a14fb7f55",
            "0b03f3726b354790859c912e348dbb69",
            "a8f1eedbe48c40c7be177b09b885fd76"
          ]
        },
        "outputId": "a91378ac-58b7-4f02-a961-65529fc45f2f"
      },
      "source": [
        "import ipywidgets as widgets\n",
        "slider = widgets.IntSlider(value=5, max=10)\n",
        "display(slider)"
      ],
      "execution_count": 22,
      "outputs": [
        {
          "output_type": "display_data",
          "data": {
            "text/plain": [
              "IntSlider(value=5, max=10)"
            ],
            "application/vnd.jupyter.widget-view+json": {
              "version_major": 2,
              "version_minor": 0,
              "model_id": "7a594555ab534420a90e2c7a14fb7f55"
            }
          },
          "metadata": {}
        }
      ]
    },
    {
      "cell_type": "code",
      "metadata": {
        "id": "__OlO0qwfXO_",
        "colab": {
          "base_uri": "https://localhost:8080/"
        },
        "outputId": "c33a870c-a493-40a3-a2ba-6c1014b27a74"
      },
      "source": [
        "# The current value of the slider\n",
        "slider.value"
      ],
      "execution_count": 23,
      "outputs": [
        {
          "output_type": "execute_result",
          "data": {
            "text/plain": [
              "5"
            ]
          },
          "metadata": {},
          "execution_count": 23
        }
      ]
    }
  ]
}