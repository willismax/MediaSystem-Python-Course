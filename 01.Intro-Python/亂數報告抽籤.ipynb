{
  "nbformat": 4,
  "nbformat_minor": 0,
  "metadata": {
    "colab": {
      "provenance": [],
      "include_colab_link": true
    },
    "kernelspec": {
      "name": "python3",
      "display_name": "Python 3"
    }
  },
  "cells": [
    {
      "cell_type": "markdown",
      "metadata": {
        "id": "view-in-github",
        "colab_type": "text"
      },
      "source": [
        "<a href=\"https://colab.research.google.com/github/willismax/MediaSystem-Python-Course/blob/main/01.Intro-Python/%E4%BA%82%E6%95%B8%E5%A0%B1%E5%91%8A%E6%8A%BD%E7%B1%A4.ipynb\" target=\"_parent\"><img src=\"https://colab.research.google.com/assets/colab-badge.svg\" alt=\"Open In Colab\"/></a>"
      ]
    },
    {
      "cell_type": "code",
      "metadata": {
        "id": "dJJH8FFHmx4v",
        "colab": {
          "base_uri": "https://localhost:8080/"
        },
        "outputId": "3699cfa0-8f4b-4d58-b69c-464e3d53391a",
        "cellView": "form"
      },
      "source": [
        "# @title 組別確認\n",
        "t = \"\"\"\n",
        "team1\n",
        "team1\n",
        "team2\n",
        "team3\n",
        "\"\"\"\n",
        "\n",
        "# 新增\n",
        "t+=\"\"\"\n",
        "team4\n",
        "\"\"\"\n",
        "\n",
        "\n",
        "team_list = t.split()\n",
        "team_list = list(set(team_list))\n",
        "team_list"
      ],
      "execution_count": 47,
      "outputs": [
        {
          "output_type": "execute_result",
          "data": {
            "text/plain": [
              "['team4', 'team2', 'team3', 'team1']"
            ]
          },
          "metadata": {},
          "execution_count": 47
        }
      ]
    },
    {
      "cell_type": "code",
      "metadata": {
        "id": "ulOyKhus1nRk"
      },
      "source": [
        "len(team_list)"
      ],
      "execution_count": null,
      "outputs": []
    },
    {
      "cell_type": "code",
      "metadata": {
        "id": "59iFxbAcuoro",
        "cellView": "form"
      },
      "source": [
        "# @title 抽籤啦\n",
        "\n",
        "import random\n",
        "from time import sleep\n",
        "\n",
        "random.shuffle(team_list) #洗牌\n",
        "\n",
        "print(\"=====報告的順序是=====\")\n",
        "\n",
        "for i,v in enumerate(team_list):\n",
        "  sleep(0.7)\n",
        "  print(i+1,v)\n"
      ],
      "execution_count": null,
      "outputs": []
    },
    {
      "cell_type": "code",
      "metadata": {
        "id": "AzpJ2xKgnaEx",
        "cellView": "form"
      },
      "source": [
        "# @title 報告順序清冊\n",
        "\n",
        "for i,v in enumerate(team_list):\n",
        "  print(f'{i+1}. {v}')"
      ],
      "execution_count": null,
      "outputs": []
    },
    {
      "cell_type": "code",
      "source": [
        "#自願:\n",
        "\n",
        "\n",
        "\n"
      ],
      "metadata": {
        "id": "rcGR8BV0gy0_"
      },
      "execution_count": null,
      "outputs": []
    }
  ]
}