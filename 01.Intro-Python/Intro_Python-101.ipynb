{
 "nbformat": 4,
 "nbformat_minor": 0,
 "metadata": {
  "colab": {
   "provenance": [],
   "collapsed_sections": [
    "5YuMmErFcBUl",
    "kd_e77BbcBVu",
    "heAWN8N5cBV6",
    "ytlMVeTYPf0d",
    "GM6-nsp7cBWa",
    "qrM7hgo8cBWo",
    "drbM_qaZcBW7",
    "-3ecKtR8cBXI",
    "KDCvPXXRcBXc",
    "JFyiNQiiW1aZ",
    "6lfFAiTFVq31",
    "RnhxUIgKXElj",
    "61vtOckbcBXj"
   ],
   "include_colab_link": true
  },
  "cells": [
    {
      "cell_type": "markdown",
      "metadata": {
        "id": "view-in-github",
        "colab_type": "text"
      },
      "source": [
        "<a href=\"https://colab.research.google.com/github/willismax/MediaSystem-Python-Course/blob/main/01.Intro-Python/Intro_Python-101.ipynb\" target=\"_parent\"><img src=\"https://colab.research.google.com/assets/colab-badge.svg\" alt=\"Open In Colab\"/></a>"
      ]
    },
    {
      "cell_type": "markdown",
      "metadata": {
        "collapsed": true,
        "id": "VXOUG8U3cBRg"
      },
      "source": [
        "#  01.Python_basic基礎"
      ]
    },
    {
      "cell_type": "markdown",
      "metadata": {
        "id": "xHVa2XhJ33Jx"
      },
      "source": [
        "![](https://python.rs/pylogo.png)"
      ]
    },
    {
      "cell_type": "markdown",
      "metadata": {
        "id": "eE4plAjFcBRh"
      },
      "source": [
        "\n",
        "- 我們先來認識所謂「程式」的基礎吧\n",
        "    - 建立環境\n",
        "    \n",
        "- 程式的組成\n",
        "    - 基本資料型態 (整數、浮點數、字串、布林)(串列、元組、字典、集合)\n",
        "    - 格式化的輸出與輸入（print, input()）\n",
        "    - 運算子、運算式與敘述(+-*/、大小等於)\n",
        "    - 選擇性敘述（if-else）\n",
        "    - 迴圈(for, while)\n",
        "    - 函數(def foo():)\n",
        "    - 類別(class Foo():)"
      ]
    },
    {
      "cell_type": "code",
      "metadata": {
        "id": "n_sCN11q8ik2"
      },
      "source": [
        "import this"
      ],
      "execution_count": null,
      "outputs": []
    },
    {
      "cell_type": "markdown",
      "metadata": {
        "id": "buxG-8GOcBRp"
      },
      "source": [
        "## 建立Python環境"
      ]
    },
    {
      "cell_type": "markdown",
      "metadata": {
        "id": "_NOY3yM4cBRq"
      },
      "source": [
        "以下方法擇一皆可\n",
        "- 官網下載Python: https://www.python.org/\n",
        "  - 電腦直接裝Python者，可用命令列或IDEL\n",
        "\n",
        "- 開啟Google的[Colab](https://colab.research.google.com/)\n",
        "  - 線上開啟新的筆記本，也等於跟google要了一個虛擬機\n",
        "  - 如果你要自學，推薦使用Colab\n",
        "\n",
        "- 安裝[ANACONDA](https://www.anaconda.com/):\n",
        "    - 安裝ANACONDA者，可用jupyter notebook，初學者建議\n",
        "    - 如果你要自學，本文推薦下載，但比較大包\n"
      ]
    },
    {
      "cell_type": "code",
      "source": [
        "!nvidia-smi"
      ],
      "metadata": {
        "colab": {
          "base_uri": "https://localhost:8080/"
        },
        "id": "zvgmfF3ityP3",
        "outputId": "7234c1af-aec6-45ba-dd91-3014ed5d45de"
      },
      "execution_count": null,
      "outputs": [
        {
          "output_type": "stream",
          "name": "stdout",
          "text": [
            "Sun Sep  3 06:11:15 2023       \n",
            "+-----------------------------------------------------------------------------+\n",
            "| NVIDIA-SMI 525.105.17   Driver Version: 525.105.17   CUDA Version: 12.0     |\n",
            "|-------------------------------+----------------------+----------------------+\n",
            "| GPU  Name        Persistence-M| Bus-Id        Disp.A | Volatile Uncorr. ECC |\n",
            "| Fan  Temp  Perf  Pwr:Usage/Cap|         Memory-Usage | GPU-Util  Compute M. |\n",
            "|                               |                      |               MIG M. |\n",
            "|===============================+======================+======================|\n",
            "|   0  Tesla T4            Off  | 00000000:00:04.0 Off |                    0 |\n",
            "| N/A   40C    P8     9W /  70W |      0MiB / 15360MiB |      0%      Default |\n",
            "|                               |                      |                  N/A |\n",
            "+-------------------------------+----------------------+----------------------+\n",
            "                                                                               \n",
            "+-----------------------------------------------------------------------------+\n",
            "| Processes:                                                                  |\n",
            "|  GPU   GI   CI        PID   Type   Process name                  GPU Memory |\n",
            "|        ID   ID                                                   Usage      |\n",
            "|=============================================================================|\n",
            "|  No running processes found                                                 |\n",
            "+-----------------------------------------------------------------------------+\n"
          ]
        }
      ]
    },
    {
      "cell_type": "markdown",
      "metadata": {
        "id": "qgN6-EPycBRr"
      },
      "source": [
        "## 0.Python的變數"
      ]
    },
    {
      "cell_type": "markdown",
      "source": [
        "- 變數，儲存內容的盒子\n",
        "- 在Python，變數更像是貼標籤的概念(標籤指向的資料改變，)"
      ],
      "metadata": {
        "id": "5HiClYiDsi7H"
      }
    },
    {
      "cell_type": "code",
      "metadata": {
        "id": "P_B2GgT4c7NS"
      },
      "source": [
        "a = 1"
      ],
      "execution_count": null,
      "outputs": []
    },
    {
      "cell_type": "code",
      "source": [
        "a"
      ],
      "metadata": {
        "id": "oOO2xtE-qzen"
      },
      "execution_count": null,
      "outputs": []
    },
    {
      "cell_type": "code",
      "metadata": {
        "id": "AAzR0hNIDgdA"
      },
      "source": [
        "#我有a隻手機\n",
        "print(\"我有\",a,\"隻手機\")"
      ],
      "execution_count": null,
      "outputs": []
    },
    {
      "cell_type": "markdown",
      "metadata": {
        "id": "7J0vJ06BcBSO"
      },
      "source": [
        "## 1.立馬進行基本計算"
      ]
    },
    {
      "cell_type": "markdown",
      "metadata": {
        "id": "UnmkApV1cBSP"
      },
      "source": [
        "加減乘除非常方便，直接進行即可"
      ]
    },
    {
      "cell_type": "code",
      "source": [
        "1+1"
      ],
      "metadata": {
        "id": "Zgq8K1ZOt7bB"
      },
      "execution_count": null,
      "outputs": []
    },
    {
      "cell_type": "code",
      "metadata": {
        "id": "85gCWVfWcBSn"
      },
      "source": [
        "# **是次方\n",
        "\n",
        "print(2**10)"
      ],
      "execution_count": null,
      "outputs": []
    },
    {
      "cell_type": "code",
      "metadata": {
        "id": "k0O0G5tFcBSs"
      },
      "source": [
        "# 除法ＯＫ的\n",
        "\n",
        "99/44"
      ],
      "execution_count": null,
      "outputs": []
    },
    {
      "cell_type": "code",
      "metadata": {
        "id": "6xZ9jFgXcBS2"
      },
      "source": [
        "#餘數%\n",
        "\n",
        "dise = 9487 % 6 #012345 骰子\n",
        "\n",
        "print(dise+1)"
      ],
      "execution_count": null,
      "outputs": []
    },
    {
      "cell_type": "markdown",
      "metadata": {
        "id": "qxzzFer7cBTA"
      },
      "source": [
        "## 2.輕鬆上手資料型態"
      ]
    },
    {
      "cell_type": "markdown",
      "metadata": {
        "id": "ONDZ14I2cBTB"
      },
      "source": [
        "基本資料型態在python指的是整數int、浮點數float(就是小數)、字串str(文字)、布林bool(True or False)"
      ]
    },
    {
      "cell_type": "markdown",
      "metadata": {
        "id": "UKfCCVK_cBTI"
      },
      "source": [
        "想知道手上資料的型態，可以用type()來確認"
      ]
    },
    {
      "cell_type": "code",
      "metadata": {
        "id": "ViwZ0XpL8zTv"
      },
      "source": [
        "b=True"
      ],
      "execution_count": null,
      "outputs": []
    },
    {
      "cell_type": "code",
      "source": [
        "b"
      ],
      "metadata": {
        "id": "f0G0eO7iroF2"
      },
      "execution_count": null,
      "outputs": []
    },
    {
      "cell_type": "code",
      "metadata": {
        "id": "jq4w17Kb81gs",
        "colab": {
          "base_uri": "https://localhost:8080/"
        },
        "outputId": "80c30af7-e8c8-487d-98b4-11f6265a6e9f"
      },
      "source": [
        "# type()\n",
        "type(b)"
      ],
      "execution_count": null,
      "outputs": [
        {
          "output_type": "execute_result",
          "data": {
            "text/plain": [
              "bool"
            ]
          },
          "metadata": {},
          "execution_count": 29
        }
      ]
    },
    {
      "cell_type": "code",
      "metadata": {
        "id": "M7lzhJOpSXgh"
      },
      "source": [
        "num1 = 78\n",
        "num2 = 0.55\n",
        "\n",
        "type(num1), type(num2)"
      ],
      "execution_count": null,
      "outputs": []
    },
    {
      "cell_type": "code",
      "metadata": {
        "id": "rm3CaGXIxAOE"
      },
      "source": [
        "1+2"
      ],
      "execution_count": null,
      "outputs": []
    },
    {
      "cell_type": "code",
      "source": [
        "1+2."
      ],
      "metadata": {
        "id": "-mX_NCLCr4Rg"
      },
      "execution_count": null,
      "outputs": []
    },
    {
      "cell_type": "code",
      "metadata": {
        "id": "XW5Umh7L8kza"
      },
      "source": [
        "type(1+2.)"
      ],
      "execution_count": null,
      "outputs": []
    },
    {
      "cell_type": "code",
      "metadata": {
        "id": "ecvcuJnbcBTI"
      },
      "source": [
        "type(87), type(55.66),  type(\"5566\"), type( 1 != 1 )"
      ],
      "execution_count": null,
      "outputs": []
    },
    {
      "cell_type": "code",
      "metadata": {
        "id": "qnwmtw9tx9vj"
      },
      "source": [
        "'我有一串\"文字\"'"
      ],
      "execution_count": null,
      "outputs": []
    },
    {
      "cell_type": "markdown",
      "source": [
        "#### Question1\n",
        "- 要怎麼確認是文字、整數還是小數?"
      ],
      "metadata": {
        "id": "pywhB907sIhB"
      }
    },
    {
      "cell_type": "code",
      "metadata": {
        "id": "FxTrd1OH9RFk"
      },
      "source": [
        "#文字的數字怎麼確認?\n",
        "type('88')"
      ],
      "execution_count": null,
      "outputs": []
    },
    {
      "cell_type": "markdown",
      "source": [
        "#### Question2\n",
        "- 如何強制將小數轉成整數?"
      ],
      "metadata": {
        "id": "0ppke77Qs3FO"
      }
    },
    {
      "cell_type": "code",
      "metadata": {
        "id": "0BFeJ99CPxBR"
      },
      "source": [
        "#浮點數轉整數\n",
        "\n",
        "int(100.666)"
      ],
      "execution_count": null,
      "outputs": []
    },
    {
      "cell_type": "markdown",
      "metadata": {
        "id": "7m0EialPcBTW"
      },
      "source": [
        "\n",
        "## 3.快速使用輸入與輸出"
      ]
    },
    {
      "cell_type": "markdown",
      "metadata": {
        "id": "dphrf_0IcBTX"
      },
      "source": [
        "- 輸出以print()把資料印出來\n",
        "- 輸入就以input()讓使用者使用\n",
        "\n",
        "- 在jupyter notebook，每個cell最後一個print()可以省略"
      ]
    },
    {
      "cell_type": "code",
      "metadata": {
        "id": "JCaY4RN5EXhN"
      },
      "source": [
        "input()"
      ],
      "execution_count": null,
      "outputs": []
    },
    {
      "cell_type": "code",
      "source": [
        "input('請輸入姓名:')"
      ],
      "metadata": {
        "id": "EE364zFat5aX"
      },
      "execution_count": null,
      "outputs": []
    },
    {
      "cell_type": "code",
      "metadata": {
        "id": "RePdpTu6cBTY"
      },
      "source": [
        "'我的名子是:'+input()"
      ],
      "execution_count": null,
      "outputs": []
    },
    {
      "cell_type": "code",
      "source": [
        "print('我的名子是:'+input())"
      ],
      "metadata": {
        "id": "yiP85033uLgK"
      },
      "execution_count": null,
      "outputs": []
    },
    {
      "cell_type": "code",
      "metadata": {
        "id": "A0MRNBsHE2wR"
      },
      "source": [
        "name = input()\n",
        "print('我的名子是:' + name)"
      ],
      "execution_count": null,
      "outputs": []
    },
    {
      "cell_type": "code",
      "metadata": {
        "id": "lvJ6_u4U0mY_"
      },
      "source": [
        "email = input( '我的email帳號:')\n",
        "print('我的email帳號:',email)"
      ],
      "execution_count": null,
      "outputs": []
    },
    {
      "cell_type": "code",
      "metadata": {
        "id": "3JXhmLnTcBTm"
      },
      "source": [
        "顏文字 = \"(ﾟДﾟ)< ============O))\"\n",
        "\n",
        "顏文字"
      ],
      "execution_count": null,
      "outputs": []
    },
    {
      "cell_type": "code",
      "source": [
        "顏文字*500"
      ],
      "metadata": {
        "id": "sInqpcIStWlv"
      },
      "execution_count": null,
      "outputs": []
    },
    {
      "cell_type": "markdown",
      "metadata": {
        "id": "eNjQQubk13oy"
      },
      "source": [
        "#### print()"
      ]
    },
    {
      "cell_type": "code",
      "metadata": {
        "id": "qfn1Mkyp18bx"
      },
      "source": [
        "print(\"hi\")"
      ],
      "execution_count": null,
      "outputs": []
    },
    {
      "cell_type": "code",
      "metadata": {
        "id": "8njH9070EN93"
      },
      "source": [
        "#3種寫法一次比較\n",
        "name = \"野原新之助\"\n",
        "age = 5\n",
        "\n",
        "print(f\"大姊姊我是{name}，我今年{age}歲!!\") # f-string\n",
        "\n",
        "print(\"大姊姊我是%s，我今年%d歲!!\"% (name, age))\n",
        "print(\"大姊姊我是{}，我今年{}歲!\".format(name, age))"
      ],
      "execution_count": null,
      "outputs": []
    },
    {
      "cell_type": "markdown",
      "metadata": {
        "id": "J66dOy-3cBTw"
      },
      "source": [
        "## 4.第一個動手做：計算BMI\n",
        "- 運用前述所學，設計一個BMI計算器，能夠正確計算BMI\n",
        "- BMI = 體重(公斤) / 身高平方(平方公尺)\n",
        "- 由使用者輸入體重、身高，顯示計算結果"
      ]
    },
    {
      "cell_type": "code",
      "source": [
        "# 來練習吧\n",
        "\n"
      ],
      "metadata": {
        "id": "Bhm4ACf_vVtc"
      },
      "execution_count": null,
      "outputs": []
    },
    {
      "cell_type": "markdown",
      "metadata": {
        "id": "1Yjq52tocBT_"
      },
      "source": [
        "## 5.條件判斷"
      ]
    },
    {
      "cell_type": "code",
      "metadata": {
        "id": "7Iw2Y5ecLPMA"
      },
      "source": [
        "3>=2"
      ],
      "execution_count": null,
      "outputs": []
    },
    {
      "cell_type": "code",
      "metadata": {
        "id": "AyukwKYqLSNX"
      },
      "source": [
        "\"Z\" > \"b\" #利大於弊"
      ],
      "execution_count": null,
      "outputs": []
    },
    {
      "cell_type": "code",
      "metadata": {
        "id": "oNSDR_Gy7OAx"
      },
      "source": [
        "a=5\n",
        "b=1\n",
        "\n",
        "if a == b:\n",
        "    print(\"a==b\")\n",
        "elif a > b:\n",
        "    print('a>b')\n",
        "else:\n",
        "    print(\"a<b\")\n"
      ],
      "execution_count": null,
      "outputs": []
    },
    {
      "cell_type": "code",
      "metadata": {
        "id": "h_aQXu_n89l3"
      },
      "source": [
        "if (1):\n",
        "    print('成立')\n",
        "else:\n",
        "    print('不成立') # None, False, 0"
      ],
      "execution_count": null,
      "outputs": []
    },
    {
      "cell_type": "code",
      "metadata": {
        "id": "HKhbJ0QOIeVM"
      },
      "source": [
        "if 3<2:\n",
        "    print(\"Yse\")\n",
        "else:\n",
        "    print(\"NO\")"
      ],
      "execution_count": null,
      "outputs": []
    },
    {
      "cell_type": "code",
      "metadata": {
        "id": "nNE4SKNEcBUA"
      },
      "source": [
        "if 1!=1:\n",
        "    print(\"YES\")\n",
        "else:\n",
        "    print(\"NO\")\n"
      ],
      "execution_count": null,
      "outputs": []
    },
    {
      "cell_type": "markdown",
      "metadata": {
        "id": "5YuMmErFcBUl"
      },
      "source": [
        "## 6.必須知道什麼是串列list"
      ]
    },
    {
      "cell_type": "code",
      "metadata": {
        "id": "4Phg0R-m-SFV"
      },
      "source": [
        "# list\n"
      ],
      "execution_count": null,
      "outputs": []
    },
    {
      "cell_type": "code",
      "metadata": {
        "id": "muhOOP7WJ5KZ"
      },
      "source": [
        "[ 1, 2, 3.14, 7.788, \"c8763\"]"
      ],
      "execution_count": null,
      "outputs": []
    },
    {
      "cell_type": "code",
      "metadata": {
        "id": "OwTaKmFPcBUm"
      },
      "source": [
        "[7,5,4.444,\"挖苦挖苦\",True,False]"
      ],
      "execution_count": null,
      "outputs": []
    },
    {
      "cell_type": "code",
      "metadata": {
        "id": "pknFNXTfcBUx"
      },
      "source": [
        "APPLE = [1, 2, 3, 0]"
      ],
      "execution_count": null,
      "outputs": []
    },
    {
      "cell_type": "code",
      "metadata": {
        "id": "GP_WrJc1cBUz"
      },
      "source": [
        "PEN = [7, 7, 3, 2]"
      ],
      "execution_count": null,
      "outputs": []
    },
    {
      "cell_type": "code",
      "metadata": {
        "id": "nBpeNXoqcBU4"
      },
      "source": [
        "APPLE + PEN"
      ],
      "execution_count": null,
      "outputs": []
    },
    {
      "cell_type": "code",
      "metadata": {
        "id": "xD64NIt2cBU_"
      },
      "source": [
        "APPLE-PEN"
      ],
      "execution_count": null,
      "outputs": []
    },
    {
      "cell_type": "code",
      "metadata": {
        "id": "Qj6NWJmIcBVF"
      },
      "source": [
        "APPLE*5"
      ],
      "execution_count": null,
      "outputs": []
    },
    {
      "cell_type": "markdown",
      "metadata": {
        "id": "sBgZM87U_Os6"
      },
      "source": [
        "#### 切片"
      ]
    },
    {
      "cell_type": "code",
      "metadata": {
        "id": "8wfh5T-gNp5e"
      },
      "source": [
        "#APPLE[ 頭0 : 尾前 ]"
      ],
      "execution_count": null,
      "outputs": []
    },
    {
      "cell_type": "code",
      "metadata": {
        "id": "_GhnEm2R_SwF"
      },
      "source": [
        "APPLE=[9, 5, 2, 7]"
      ],
      "execution_count": null,
      "outputs": []
    },
    {
      "cell_type": "code",
      "metadata": {
        "id": "Zv7Ekpfa_bDR"
      },
      "source": [
        "APPLE[2]"
      ],
      "execution_count": null,
      "outputs": []
    },
    {
      "cell_type": "code",
      "metadata": {
        "id": "i98TLrGcACCK"
      },
      "source": [
        "#APPLE[ 魚頭: 魚屁股]\n",
        "APPLE[0:2]"
      ],
      "execution_count": null,
      "outputs": []
    },
    {
      "cell_type": "code",
      "metadata": {
        "id": "YHtuh1tuge1c"
      },
      "source": [
        "APPLE[0 : 3]"
      ],
      "execution_count": null,
      "outputs": []
    },
    {
      "cell_type": "code",
      "metadata": {
        "id": "bgyWzCzscBVQ"
      },
      "source": [
        "APPLE[ :3]  #不包含第4"
      ],
      "execution_count": null,
      "outputs": []
    },
    {
      "cell_type": "code",
      "metadata": {
        "id": "dThPWD5JcBVS"
      },
      "source": [
        "APPLE[-1]"
      ],
      "execution_count": null,
      "outputs": []
    },
    {
      "cell_type": "code",
      "metadata": {
        "id": "Os6Se9wBO5Ac"
      },
      "source": [
        "!pip install twstock"
      ],
      "execution_count": null,
      "outputs": []
    },
    {
      "cell_type": "code",
      "metadata": {
        "id": "BczEJReaPBvv"
      },
      "source": [
        "import twstock\n",
        "\n",
        "stock= twstock.Stock(\"2330\")"
      ],
      "execution_count": null,
      "outputs": []
    },
    {
      "cell_type": "code",
      "metadata": {
        "id": "C9SAClg1PiAz"
      },
      "source": [
        "stock.price[-1]"
      ],
      "execution_count": null,
      "outputs": []
    },
    {
      "cell_type": "code",
      "metadata": {
        "id": "VV5t2WVjcBVa"
      },
      "source": [
        "詞 = \"庭院深深深幾許\""
      ],
      "execution_count": null,
      "outputs": []
    },
    {
      "cell_type": "code",
      "metadata": {
        "id": "JSlIEZr9cBVh"
      },
      "source": [
        "詞[0]"
      ],
      "execution_count": null,
      "outputs": []
    },
    {
      "cell_type": "code",
      "metadata": {
        "id": "n-FsI9nOcBVl"
      },
      "source": [
        "詞[2:5]"
      ],
      "execution_count": null,
      "outputs": []
    },
    {
      "cell_type": "code",
      "metadata": {
        "id": "tUzotRJAcBVp"
      },
      "source": [
        "詞[-5:]"
      ],
      "execution_count": null,
      "outputs": []
    },
    {
      "cell_type": "code",
      "metadata": {
        "id": "x-RXSD55cBVs"
      },
      "source": [
        "list(詞)"
      ],
      "execution_count": null,
      "outputs": []
    },
    {
      "cell_type": "markdown",
      "metadata": {
        "id": "kd_e77BbcBVu"
      },
      "source": [
        "## 7.第二個動手做：線上遊戲命名產生器"
      ]
    },
    {
      "cell_type": "markdown",
      "metadata": {
        "id": "zw_SKJYMcBVv"
      },
      "source": [
        "80%玩家表示，最花時間的就是命名，既然我們學會了串列list，那我們來嘗試做一個命名產生器\n",
        "\n",
        "首先以list把地點跟明星名字存起來"
      ]
    },
    {
      "cell_type": "code",
      "metadata": {
        "id": "0al5rUdGcBVv"
      },
      "source": [
        "local = [\"基隆\",'南港','松山','台北','萬華','板橋','樹林','鶯歌','桃園','中壢','楊梅','竹北','新竹','苗栗','銅鑼',\n",
        "         '后里','豐原','潭子','太原','台中','大慶','烏日','新烏日','成功','彰化','花壇','大村','員林','永靖','社頭',\n",
        "         '田中','二水','林內','民雄','嘉義','林鳳營','高雄']\n",
        "star = ['山下智囧','囧把刀','尾田賀一航','木村倒頭哉','湯姆嗑吐司','木村唾液','今晨五','彭于晏','朝偉哥',\"山道猴子\"]"
      ],
      "execution_count": null,
      "outputs": []
    },
    {
      "cell_type": "code",
      "metadata": {
        "id": "q8Ui2nif1fcW"
      },
      "source": [
        "local[2]+star[1]"
      ],
      "execution_count": null,
      "outputs": []
    },
    {
      "cell_type": "code",
      "metadata": {
        "id": "K5RjDv0AcBVx"
      },
      "source": [
        "import random\n",
        "\n",
        "a = random.sample(local,1)+ random.sample(star,1)   #shift+tab\n",
        "\"\".join(a)"
      ],
      "execution_count": null,
      "outputs": []
    },
    {
      "cell_type": "markdown",
      "metadata": {
        "id": "fP-QPiXTcBV0"
      },
      "source": [
        "用亂數取出一組組合，加在一起組成新的list，最後在取出list內容將字串合在一起"
      ]
    },
    {
      "cell_type": "markdown",
      "metadata": {
        "id": "7On4fAShcBV4"
      },
      "source": [
        "不命名變數也可以，方法百百種，python很自由"
      ]
    },
    {
      "cell_type": "code",
      "metadata": {
        "id": "JDjK5GDMcBV5"
      },
      "source": [
        "\"\".join(random.sample(local, 1) + random.sample(star, 1))"
      ],
      "execution_count": null,
      "outputs": []
    },
    {
      "cell_type": "markdown",
      "metadata": {
        "id": "heAWN8N5cBV6"
      },
      "source": [
        "## 8.kv配對的字典"
      ]
    },
    {
      "cell_type": "code",
      "metadata": {
        "id": "6PqkmF8n40HB",
        "colab": {
          "base_uri": "https://localhost:8080/"
        },
        "outputId": "9f850cca-8531-4b68-c7c7-89cf6e823b9c"
      },
      "source": [
        "{\"ip\":\"0.0.0.0\"}"
      ],
      "execution_count": null,
      "outputs": [
        {
          "output_type": "execute_result",
          "data": {
            "text/plain": [
              "{'ip': '0.0.0.0'}"
            ]
          },
          "metadata": {},
          "execution_count": 60
        }
      ]
    },
    {
      "cell_type": "code",
      "metadata": {
        "id": "uvQHQp8kPsy6"
      },
      "source": [
        "成績 =  {\"數學\" : [100,90,80] }"
      ],
      "execution_count": null,
      "outputs": []
    },
    {
      "cell_type": "code",
      "metadata": {
        "id": "gmVj2U2icBV-"
      },
      "source": [
        "同學 = {\n",
        "    \"andy\":[183,70],\n",
        "    \"Alice\":[163,45]\n",
        "    }"
      ],
      "execution_count": null,
      "outputs": []
    },
    {
      "cell_type": "code",
      "metadata": {
        "id": "BC7vWPerP-ld"
      },
      "source": [
        "同學"
      ],
      "execution_count": null,
      "outputs": []
    },
    {
      "cell_type": "code",
      "metadata": {
        "id": "gcF4fDRJcBWA"
      },
      "source": [
        "同學[\"andy\"][1]"
      ],
      "execution_count": null,
      "outputs": []
    },
    {
      "cell_type": "markdown",
      "metadata": {
        "id": "ytlMVeTYPf0d"
      },
      "source": [
        "## 9.條件判斷II:如果，否則"
      ]
    },
    {
      "cell_type": "markdown",
      "metadata": {
        "id": "uqQDo1UWcBWE"
      },
      "source": [
        "\n",
        "可以分成\n",
        "- if:           #條件成立執行以下描述\n",
        "- if else       #如果(成立就執行...),否則(成立就執行...)\n",
        "- if elif else  #如果(成立就執行...),否則如果(成立就執行...),否則(成立就執行...)"
      ]
    },
    {
      "cell_type": "code",
      "metadata": {
        "id": "epSXRZA-cBWF"
      },
      "source": [
        "A = 5\n",
        "B = 8"
      ],
      "execution_count": null,
      "outputs": []
    },
    {
      "cell_type": "code",
      "metadata": {
        "id": "9wGnHxWicBWH"
      },
      "source": [
        "if A == B:\n",
        "  print('A = B')"
      ],
      "execution_count": null,
      "outputs": []
    },
    {
      "cell_type": "code",
      "metadata": {
        "id": "MNUl4k70Tmsw"
      },
      "source": [
        "if A != B:\n",
        "  print(\"a!=b\")"
      ],
      "execution_count": null,
      "outputs": []
    },
    {
      "cell_type": "code",
      "metadata": {
        "id": "id-GrVbacBWK"
      },
      "source": [
        "if A == B:\n",
        "  print('A == B')\n",
        "else:\n",
        "  print('A != B')"
      ],
      "execution_count": null,
      "outputs": []
    },
    {
      "cell_type": "code",
      "metadata": {
        "id": "N_ZeDU4hcBWN"
      },
      "source": [
        "if A > B:\n",
        "    print('A > B')\n",
        "elif A < B:\n",
        "    print('A < B')\n",
        "else:\n",
        "    print('A == B')"
      ],
      "execution_count": null,
      "outputs": []
    },
    {
      "cell_type": "markdown",
      "metadata": {
        "id": "Su_WhpiMcBWR"
      },
      "source": [
        "現學現賣之「智慧聊天機器人」"
      ]
    },
    {
      "cell_type": "code",
      "metadata": {
        "id": "lBxHzw_BcBWT"
      },
      "source": [
        "say = input(\">>\")\n",
        "if say == '早安':\n",
        "    print(\"早安唷\")\n",
        "else:\n",
        "    print(\"你說\"+say+\"阿? 阿阿阿阿阿我知道了\")\n"
      ],
      "execution_count": null,
      "outputs": []
    },
    {
      "cell_type": "markdown",
      "metadata": {
        "id": "n1lfLxRTcBWZ"
      },
      "source": [
        "## 10.人生就是迴圈"
      ]
    },
    {
      "cell_type": "markdown",
      "metadata": {
        "id": "GM6-nsp7cBWa"
      },
      "source": [
        "迴圈是程式語言的特徵，讓電腦協助你重覆執行某項判斷，主流用法就是for迴圈與while迴圈，另外python還有一個枚舉可以使用。\n",
        "\n",
        "\n",
        "### 10-1 For迴圈\n",
        "- 先來個for迴圈吧，基本上for迴圈常與list結合使用\n",
        "\n",
        "```\n",
        "for 指標 in 要判別的資料集:\n",
        "    執行項目\n",
        "```\n"
      ]
    },
    {
      "cell_type": "code",
      "metadata": {
        "id": "oudlqYNKcBWb"
      },
      "source": [
        "五俗蘭 = [\"紅茶\", \"綠茶\", \"烏龍\", \"鐵觀音\", \"多多冰沙\", \"八冰綠\", \"抹茶拿鐵\"]"
      ],
      "execution_count": 1,
      "outputs": []
    },
    {
      "cell_type": "code",
      "metadata": {
        "id": "3AA2805ll_fI"
      },
      "source": [
        "print(五俗蘭)"
      ],
      "execution_count": null,
      "outputs": []
    },
    {
      "cell_type": "code",
      "source": [
        "五俗蘭[:4]"
      ],
      "metadata": {
        "id": "TRsG3j6MwxZO"
      },
      "execution_count": null,
      "outputs": []
    },
    {
      "cell_type": "code",
      "metadata": {
        "id": "xFFA7bpM7ZNh",
        "outputId": "8a0b8f24-c848-4a36-b355-5d58f9f6ca6b",
        "colab": {
          "base_uri": "https://localhost:8080/"
        }
      },
      "source": [
        "for i in 五俗蘭:\n",
        "    print(i)"
      ],
      "execution_count": 2,
      "outputs": [
        {
          "output_type": "stream",
          "name": "stdout",
          "text": [
            "紅茶\n",
            "綠茶\n",
            "烏龍\n",
            "鐵觀音\n",
            "多多冰沙\n",
            "八冰綠\n",
            "抹茶拿鐵\n"
          ]
        }
      ]
    },
    {
      "cell_type": "code",
      "metadata": {
        "id": "cfHf90Ip2wq4"
      },
      "source": [
        "for i in range(5):\n",
        "  print(五俗蘭[i])"
      ],
      "execution_count": null,
      "outputs": []
    },
    {
      "cell_type": "code",
      "metadata": {
        "id": "sNzF0aDMVVGQ"
      },
      "source": [
        "len(五俗蘭)"
      ],
      "execution_count": null,
      "outputs": []
    },
    {
      "cell_type": "code",
      "metadata": {
        "id": "CMrS9u3RmJug"
      },
      "source": [
        "for i in range(7):\n",
        "  print(五俗蘭[i])"
      ],
      "execution_count": null,
      "outputs": []
    },
    {
      "cell_type": "code",
      "metadata": {
        "id": "9kup7hBV3Xem"
      },
      "source": [
        "for i in range(len(五俗蘭)):\n",
        "  print(五俗蘭[i])"
      ],
      "execution_count": null,
      "outputs": []
    },
    {
      "cell_type": "code",
      "source": [
        "for i in 五俗蘭:\n",
        "    print(i)"
      ],
      "metadata": {
        "id": "XKkS-_apxO93"
      },
      "execution_count": null,
      "outputs": []
    },
    {
      "cell_type": "code",
      "source": [
        "# 如果list超級大，可以用iter + next節省記憶體\n",
        "五俗蘭_iterator = iter(五俗蘭)\n",
        "\n",
        "while True:\n",
        "    try:\n",
        "        i = next(五俗蘭_iterator)\n",
        "        print(i)\n",
        "    except StopIteration:\n",
        "        break"
      ],
      "metadata": {
        "id": "DBBjvDJuydvb"
      },
      "execution_count": null,
      "outputs": []
    },
    {
      "cell_type": "markdown",
      "metadata": {
        "id": "qrM7hgo8cBWo"
      },
      "source": [
        "### 10-2 enumerate()枚舉\n",
        "\n",
        "假設我們要迭代list成員的名稱，並獲取list中每個成員的位置。可以用enumerate，又稱枚舉\n",
        "\n"
      ]
    },
    {
      "cell_type": "code",
      "metadata": {
        "id": "CdSUMeWecBWs"
      },
      "source": [
        "for i, v in enumerate(五俗蘭):\n",
        "    print(i, v)"
      ],
      "execution_count": null,
      "outputs": []
    },
    {
      "cell_type": "markdown",
      "metadata": {
        "id": "drbM_qaZcBW7"
      },
      "source": [
        "### 10-3 while迴圈\n",
        "\n",
        "while迴圈，除非成立才會跳出循環\n",
        "```\n",
        "初始值\n",
        "while 條件式：\n",
        "   程式區塊\n",
        "   (索引變化)\n",
        "```"
      ]
    },
    {
      "cell_type": "code",
      "metadata": {
        "id": "GdxXfux5cBW8",
        "scrolled": true
      },
      "source": [
        "count = 0\n",
        "\n",
        "while (count < 6):\n",
        "    print('The count is:', count)\n",
        "    count += 1 #count =count+1\n",
        "\n",
        "print (\"Good bye!\")"
      ],
      "execution_count": null,
      "outputs": []
    },
    {
      "cell_type": "code",
      "metadata": {
        "id": "-apyeexmcBW_"
      },
      "source": [
        "# continue用法\n",
        "\n",
        "i = 1\n",
        "while (i < 6):\n",
        "    i += 1   #  i=i+1\n",
        "    if i%2 > 0: #1\n",
        "        continue\n",
        "    print(i)"
      ],
      "execution_count": null,
      "outputs": []
    },
    {
      "cell_type": "code",
      "metadata": {
        "id": "Ijh400zIcBXD"
      },
      "source": [
        "# break用法\n",
        "i = 1\n",
        "while (1):\n",
        "    print(i)\n",
        "    i += 1\n",
        "    if i > 10:\n",
        "        break"
      ],
      "execution_count": null,
      "outputs": []
    },
    {
      "cell_type": "markdown",
      "metadata": {
        "id": "juaPQpa9cBXG"
      },
      "source": [
        "*現學現賣之「金庫密碼」"
      ]
    },
    {
      "cell_type": "code",
      "metadata": {
        "id": "OWCY-7QocBXG"
      },
      "source": [
        "password = '' #先設一個空字串讓程式知道\n",
        "\n",
        "while password != \"1234\":\n",
        "  password = input(\"快點輸入密碼>>\")\n",
        "\n",
        "  if password == '1234':\n",
        "    print(\"密碼正確\")\n",
        "    break\n",
        "  else:\n",
        "    print(\"密碼錯誤再來一次\")\n"
      ],
      "execution_count": null,
      "outputs": []
    },
    {
      "cell_type": "markdown",
      "metadata": {
        "id": "-3ecKtR8cBXI"
      },
      "source": [
        "## 11.函數其實很精彩"
      ]
    },
    {
      "cell_type": "markdown",
      "metadata": {
        "id": "BczGhDdGcBXJ"
      },
      "source": [
        "用來打包你所會的一切，必要時呼叫出來就可以用\n",
        "```\n",
        "def foo(引數1,引數2):\n",
        "    執行內容\n",
        "    retuen 回傳值\n",
        "```\n",
        "\n",
        "呼叫時使用\n",
        "```\n",
        "foo(引數1,引數2)\n",
        "```"
      ]
    },
    {
      "cell_type": "code",
      "metadata": {
        "id": "IQ4xwATXYHA3"
      },
      "source": [
        "def toto_bmi(wei,hei):\n",
        "    bmi = float(wei) / float(hei)**2\n",
        "    return bmi"
      ],
      "execution_count": null,
      "outputs": []
    },
    {
      "cell_type": "code",
      "metadata": {
        "id": "iPAl8KK1YrxV"
      },
      "source": [
        "a = toto_bmi(70, 1.73)"
      ],
      "execution_count": null,
      "outputs": []
    },
    {
      "cell_type": "code",
      "metadata": {
        "id": "H7yUZjMLY99W"
      },
      "source": [
        "a"
      ],
      "execution_count": null,
      "outputs": []
    },
    {
      "cell_type": "code",
      "metadata": {
        "id": "-_x8hQv370yj"
      },
      "source": [
        "#BMI=w/h**2\n",
        "\n",
        "def cal_BMI(w,h):\n",
        "  bmi = float(w) / float(h)**2\n",
        "  return bmi"
      ],
      "execution_count": null,
      "outputs": []
    },
    {
      "cell_type": "code",
      "metadata": {
        "id": "NxN8J63Q8nLi"
      },
      "source": [
        "cal_BMI(70,1.7)"
      ],
      "execution_count": null,
      "outputs": []
    },
    {
      "cell_type": "code",
      "metadata": {
        "id": "axqEjSBWkI2E"
      },
      "source": [
        "cal_BMI(h=1.73,w=70)"
      ],
      "execution_count": null,
      "outputs": []
    },
    {
      "cell_type": "code",
      "metadata": {
        "id": "SZW0-YH5kajP"
      },
      "source": [
        "#BMI=w/h**2\n",
        "\n",
        "def cal_BMI(w=70,h=1.73):\n",
        "    \"\"\"\n",
        "    w輸入kg\n",
        "    h輸入公尺\n",
        "    \"\"\"\n",
        "    bmi = float(w) / float(h)**2\n",
        "    return bmi"
      ],
      "execution_count": null,
      "outputs": []
    },
    {
      "cell_type": "code",
      "metadata": {
        "id": "ZkLUiZW7kloj"
      },
      "source": [
        "cal_BMI()"
      ],
      "execution_count": null,
      "outputs": []
    },
    {
      "cell_type": "code",
      "metadata": {
        "id": "MKLCzzfMYWWl"
      },
      "source": [
        "def add(a ,b):\n",
        "  sum = a + b\n",
        "  return sum"
      ],
      "execution_count": null,
      "outputs": []
    },
    {
      "cell_type": "code",
      "metadata": {
        "id": "vydTC0UfYlAF"
      },
      "source": [
        "add(2,555)"
      ],
      "execution_count": null,
      "outputs": []
    },
    {
      "cell_type": "code",
      "metadata": {
        "id": "4Vi4j6WGcBXJ"
      },
      "source": [
        "def repaly_word(b):\n",
        "    print(b)\n",
        "    print(\"我想你\")"
      ],
      "execution_count": null,
      "outputs": []
    },
    {
      "cell_type": "code",
      "metadata": {
        "id": "5shGp1-5-A74"
      },
      "source": [
        "repaly_word(\"真的嗎\")"
      ],
      "execution_count": null,
      "outputs": []
    },
    {
      "cell_type": "code",
      "metadata": {
        "id": "AV7jAMfvcBXM"
      },
      "source": [
        "repaly_word(\"a\")"
      ],
      "execution_count": null,
      "outputs": []
    },
    {
      "cell_type": "code",
      "metadata": {
        "id": "iBLQzNklcBXS"
      },
      "source": [
        "def 加法(a,b):\n",
        "    result = a + b\n",
        "    return result"
      ],
      "execution_count": null,
      "outputs": []
    },
    {
      "cell_type": "code",
      "metadata": {
        "id": "nJLd_fEacBXX"
      },
      "source": [
        "加法(9,9)"
      ],
      "execution_count": null,
      "outputs": []
    },
    {
      "cell_type": "markdown",
      "metadata": {
        "id": "KDCvPXXRcBXc"
      },
      "source": [
        "## 12.第三個動手做：打造訂餐系統"
      ]
    },
    {
      "cell_type": "markdown",
      "metadata": {
        "id": "oOpPP_NFcBXd"
      },
      "source": [
        "當程式以函數包起來後，使用者只要呼叫函數，輸入對應的引數，即可得到結果，不需要在意裡面的細節囉"
      ]
    },
    {
      "cell_type": "code",
      "metadata": {
        "id": "SUUf0ymbcBXd"
      },
      "source": [
        "def 訂餐(幾號餐,數量):\n",
        "    if 幾號餐 == 1:\n",
        "        price = 數量*60\n",
        "    elif 幾號餐 == 2:\n",
        "        price = 數量*70\n",
        "    elif 幾號餐 == 3:\n",
        "        price = 數量*80\n",
        "    else:\n",
        "        print(\"請選擇1至3號餐，輸入1個數字即可，謝謝\")\n",
        "    return f\"您選的是{幾號餐}號餐, 數量是{數量}個，金額是{price}元\""
      ],
      "execution_count": null,
      "outputs": []
    },
    {
      "cell_type": "code",
      "metadata": {
        "id": "ieH5r0Z2cBXf"
      },
      "source": [
        "訂餐(2,3)"
      ],
      "execution_count": null,
      "outputs": []
    },
    {
      "cell_type": "code",
      "metadata": {
        "id": "iPwNnkypcBXh"
      },
      "source": [
        "訂餐(2,9)"
      ],
      "execution_count": null,
      "outputs": []
    },
    {
      "cell_type": "markdown",
      "metadata": {
        "id": "BypzXxTESq7q"
      },
      "source": [
        "## 13.用來個翻譯吧\n",
        "來體驗怎麼使用外部模組"
      ]
    },
    {
      "cell_type": "markdown",
      "metadata": {
        "id": "JFyiNQiiW1aZ"
      },
      "source": [
        "### 13-2.Python google翻譯"
      ]
    },
    {
      "cell_type": "markdown",
      "metadata": {
        "id": "9WIJXVlLU7Nq"
      },
      "source": [
        "1. google搜尋`python google 翻譯`\n",
        "2. 看文章程式碼\n",
        "3. 回頭找模組的官方文件(或github的說明文件)，拓展想要的應用"
      ]
    },
    {
      "cell_type": "code",
      "metadata": {
        "id": "CfgN6owgThMM"
      },
      "source": [
        "!pip install googletrans==3.1.0a0"
      ],
      "execution_count": null,
      "outputs": []
    },
    {
      "cell_type": "code",
      "metadata": {
        "id": "bv4FFtejS0UG"
      },
      "source": [
        "from googletrans import Translator\n",
        "\n",
        "translator = Translator()\n",
        "\n",
        "translator.translate('今晚我要來點真主單的紅茶拿鐵加珍珠', dest='en').text"
      ],
      "execution_count": null,
      "outputs": []
    },
    {
      "cell_type": "code",
      "metadata": {
        "id": "YeQKrrQvT8ZU"
      },
      "source": [
        "print('English:', translator.translate('水之呼吸', dest='en').text)\n",
        "print('Japanese:', translator.translate('水之呼吸', dest='ja').text)\n",
        "print('Korean:', translator.translate('水之呼吸', dest='ko').text)"
      ],
      "execution_count": null,
      "outputs": []
    },
    {
      "cell_type": "markdown",
      "metadata": {
        "id": "6lfFAiTFVq31"
      },
      "source": [
        "### 13-2. 翻譯轉語音"
      ]
    },
    {
      "cell_type": "markdown",
      "metadata": {
        "id": "5uS7VUVNV2JY"
      },
      "source": [
        "1. google搜尋`python google 文字轉語音`\n",
        "2. 看文章程式碼\n",
        "3. 回頭找模組的官方文件(或github的說明文件)，拓展想要的應用"
      ]
    },
    {
      "cell_type": "code",
      "metadata": {
        "id": "PFjLu6j_V9AJ"
      },
      "source": [
        "!pip install gtts"
      ],
      "execution_count": null,
      "outputs": []
    },
    {
      "cell_type": "code",
      "metadata": {
        "id": "5V2mV_U3WM9f"
      },
      "source": [
        "from gtts import gTTS\n",
        "import os\n",
        "\n",
        "mytext = 'Convert this Text to Speech in Python'\n",
        "\n",
        "language = 'en'\n",
        "mygTTS = gTTS(text=mytext, lang=language, slow=False)\n",
        "mygTTS.save(\"output.mp3\")\n",
        "\n",
        "# Play the converted file\n",
        "os.system(\"start output.mp3\")"
      ],
      "execution_count": null,
      "outputs": []
    },
    {
      "cell_type": "markdown",
      "metadata": {
        "id": "RnhxUIgKXElj"
      },
      "source": [
        "### 13-3.把翻譯+語音串起來"
      ]
    },
    {
      "cell_type": "code",
      "metadata": {
        "id": "E5Pi5ZtOXKf0"
      },
      "source": [
        "!pip install googletrans==3.1.0a0\n",
        "!pip install gtts"
      ],
      "execution_count": null,
      "outputs": []
    },
    {
      "cell_type": "code",
      "metadata": {
        "id": "l21cRd5NXS_u"
      },
      "source": [
        "from googletrans import Translator\n",
        "from gtts import gTTS\n",
        "import os\n",
        "\n",
        "def google_text_to_speak(text, to_speak_language='en'):\n",
        "  translator = Translator()\n",
        "  ttext = translator.translate(text, dest=to_speak_language).text\n",
        "  tts = gTTS(text= ttext, lang=to_speak_language)\n",
        "  tts.save(f'{text} {to_speak_language}.mp3')\n",
        "\n",
        "if __name__ == \"__main__\":\n",
        "  google_text_to_speak(\"今晚打咚咚\")\n",
        "  google_text_to_speak(\"本節目由五洲製藥贊助撥出\",'ja')"
      ],
      "execution_count": null,
      "outputs": []
    },
    {
      "cell_type": "code",
      "metadata": {
        "id": "v0dkfpiTZh7D"
      },
      "source": [
        "google_text_to_speak(\"今晚打老虎\")\n",
        "google_text_to_speak(\"今晚打老虎\",to_speak_language = 'ja')"
      ],
      "execution_count": null,
      "outputs": []
    },
    {
      "cell_type": "code",
      "metadata": {
        "id": "dfONID8Ap3Zv"
      },
      "source": [
        "import googletrans\n",
        "print(googletrans.LANGCODES)"
      ],
      "execution_count": null,
      "outputs": []
    },
    {
      "cell_type": "markdown",
      "metadata": {
        "id": "61vtOckbcBXj"
      },
      "source": [
        "## reference\n",
        "  - [蔡炎龍老師Github](https://github.com/yenlung/Python-3-Data-Analysis-Basics)\n",
        "  - [A Whirlwind Tour of Python (正體中文版)](https://doggy8088.github.io/A-Whirlwind-Tour-of-Python-zh-tw/)"
      ]
    }
   ]
  },
  {
   "cell_type": "markdown",
   "metadata": {
    "id": "qgN6-EPycBRr"
   },
   "source": [
    "## 0.Python的變數"
   ]
  },
  {
   "cell_type": "markdown",
   "source": [
    "- 變數，儲存內容的盒子\n",
    "- 在Python，變數更像是貼標籤的概念(標籤指向的資料改變，)"
   ],
   "metadata": {
    "id": "5HiClYiDsi7H"
   }
  },
  {
   "cell_type": "code",
   "metadata": {
    "id": "P_B2GgT4c7NS"
   },
   "source": [
    "a = 1"
   ],
   "execution_count": null,
   "outputs": []
  },
  {
   "cell_type": "code",
   "source": [
    "a"
   ],
   "metadata": {
    "id": "oOO2xtE-qzen"
   },
   "execution_count": null,
   "outputs": []
  },
  {
   "cell_type": "code",
   "metadata": {
    "id": "AAzR0hNIDgdA"
   },
   "source": [
    "#我有a隻手機\n",
    "print(\"我有\",a,\"隻手機\")"
   ],
   "execution_count": null,
   "outputs": []
  },
  {
   "cell_type": "markdown",
   "metadata": {
    "id": "7J0vJ06BcBSO"
   },
   "source": [
    "## 1.立馬進行基本計算"
   ]
  },
  {
   "cell_type": "markdown",
   "metadata": {
    "id": "UnmkApV1cBSP"
   },
   "source": [
    "加減乘除非常方便，直接進行即可"
   ]
  },
  {
   "cell_type": "code",
   "source": [
    "1+1"
   ],
   "metadata": {
    "id": "Zgq8K1ZOt7bB"
   },
   "execution_count": null,
   "outputs": []
  },
  {
   "cell_type": "code",
   "metadata": {
    "id": "85gCWVfWcBSn"
   },
   "source": [
    "# **是次方\n",
    "\n",
    "print(2**10)"
   ],
   "execution_count": null,
   "outputs": []
  },
  {
   "cell_type": "code",
   "metadata": {
    "id": "k0O0G5tFcBSs"
   },
   "source": [
    "# 除法ＯＫ的\n",
    "\n",
    "99/44"
   ],
   "execution_count": null,
   "outputs": []
  },
  {
   "cell_type": "code",
   "metadata": {
    "id": "6xZ9jFgXcBS2"
   },
   "source": [
    "#餘數%\n",
    "\n",
    "dise = 9487 % 6 #012345 骰子\n",
    "\n",
    "print(dise+1)"
   ],
   "execution_count": null,
   "outputs": []
  },
  {
   "cell_type": "markdown",
   "metadata": {
    "id": "qxzzFer7cBTA"
   },
   "source": [
    "## 2.輕鬆上手資料型態"
   ]
  },
  {
   "cell_type": "markdown",
   "metadata": {
    "id": "ONDZ14I2cBTB"
   },
   "source": [
    "基本資料型態在python指的是整數int、浮點數float(就是小數)、字串str(文字)、布林bool(True or False)"
   ]
  },
  {
   "cell_type": "markdown",
   "metadata": {
    "id": "UKfCCVK_cBTI"
   },
   "source": [
    "想知道手上資料的型態，可以用type()來確認"
   ]
  },
  {
   "cell_type": "code",
   "metadata": {
    "id": "ViwZ0XpL8zTv"
   },
   "source": [
    "b=True"
   ],
   "execution_count": null,
   "outputs": []
  },
  {
   "cell_type": "code",
   "source": [
    "b"
   ],
   "metadata": {
    "id": "f0G0eO7iroF2"
   },
   "execution_count": null,
   "outputs": []
  },
  {
   "cell_type": "code",
   "metadata": {
    "id": "jq4w17Kb81gs",
    "colab": {
     "base_uri": "https://localhost:8080/"
    },
    "outputId": "80c30af7-e8c8-487d-98b4-11f6265a6e9f"
   },
   "source": [
    "# type()\n",
    "type(b)"
   ],
   "execution_count": null,
   "outputs": [
    {
     "output_type": "execute_result",
     "data": {
      "text/plain": [
       "bool"
      ]
     },
     "metadata": {},
     "execution_count": 29
    }
   ]
  },
  {
   "cell_type": "code",
   "metadata": {
    "id": "M7lzhJOpSXgh"
   },
   "source": [
    "num1 = 78\n",
    "num2 = 0.55\n",
    "\n",
    "type(num1), type(num2)"
   ],
   "execution_count": null,
   "outputs": []
  },
  {
   "cell_type": "code",
   "metadata": {
    "id": "rm3CaGXIxAOE"
   },
   "source": [
    "1+2"
   ],
   "execution_count": null,
   "outputs": []
  },
  {
   "cell_type": "code",
   "source": [
    "1+2."
   ],
   "metadata": {
    "id": "-mX_NCLCr4Rg"
   },
   "execution_count": null,
   "outputs": []
  },
  {
   "cell_type": "code",
   "metadata": {
    "id": "XW5Umh7L8kza"
   },
   "source": [
    "type(1+2.)"
   ],
   "execution_count": null,
   "outputs": []
  },
  {
   "cell_type": "code",
   "metadata": {
    "id": "ecvcuJnbcBTI"
   },
   "source": [
    "type(87), type(55.66),  type(\"5566\"), type( 1 != 1 )"
   ],
   "execution_count": null,
   "outputs": []
  },
  {
   "cell_type": "code",
   "metadata": {
    "id": "qnwmtw9tx9vj"
   },
   "source": [
    "'我有一串\"文字\"'"
   ],
   "execution_count": null,
   "outputs": []
  },
  {
   "cell_type": "markdown",
   "source": [
    "#### Question1\n",
    "- 要怎麼確認是文字、整數還是小數?"
   ],
   "metadata": {
    "id": "pywhB907sIhB"
   }
  },
  {
   "cell_type": "code",
   "metadata": {
    "id": "FxTrd1OH9RFk"
   },
   "source": [
    "#文字的數字怎麼確認?\n",
    "type('88')"
   ],
   "execution_count": null,
   "outputs": []
  },
  {
   "cell_type": "markdown",
   "source": [
    "#### Question2\n",
    "- 如何強制將小數轉成整數?"
   ],
   "metadata": {
    "id": "0ppke77Qs3FO"
   }
  },
  {
   "cell_type": "code",
   "metadata": {
    "id": "0BFeJ99CPxBR"
   },
   "source": [
    "#浮點數轉整數\n",
    "\n",
    "int(100.666)"
   ],
   "execution_count": null,
   "outputs": []
  },
  {
   "cell_type": "markdown",
   "metadata": {
    "id": "7m0EialPcBTW"
   },
   "source": [
    "\n",
    "## 3.快速使用輸入與輸出"
   ]
  },
  {
   "cell_type": "markdown",
   "metadata": {
    "id": "dphrf_0IcBTX"
   },
   "source": [
    "- 輸出以print()把資料印出來\n",
    "- 輸入就以input()讓使用者使用\n",
    "\n",
    "- 在jupyter notebook，每個cell最後一個print()可以省略"
   ]
  },
  {
   "cell_type": "code",
   "metadata": {
    "id": "JCaY4RN5EXhN"
   },
   "source": [
    "input()"
   ],
   "execution_count": null,
   "outputs": []
  },
  {
   "cell_type": "code",
   "source": [
    "input('請輸入姓名:')"
   ],
   "metadata": {
    "id": "EE364zFat5aX"
   },
   "execution_count": null,
   "outputs": []
  },
  {
   "cell_type": "code",
   "metadata": {
    "id": "RePdpTu6cBTY"
   },
   "source": [
    "'我的名子是:'+input()"
   ],
   "execution_count": null,
   "outputs": []
  },
  {
   "cell_type": "code",
   "source": [
    "print('我的名子是:'+input())"
   ],
   "metadata": {
    "id": "yiP85033uLgK"
   },
   "execution_count": null,
   "outputs": []
  },
  {
   "cell_type": "code",
   "metadata": {
    "id": "A0MRNBsHE2wR"
   },
   "source": [
    "name = input()\n",
    "print('我的名子是:' + name)"
   ],
   "execution_count": null,
   "outputs": []
  },
  {
   "cell_type": "code",
   "metadata": {
    "id": "lvJ6_u4U0mY_"
   },
   "source": [
    "email = input( '我的email帳號:')\n",
    "print('我的email帳號:',email)"
   ],
   "execution_count": null,
   "outputs": []
  },
  {
   "cell_type": "code",
   "metadata": {
    "id": "3JXhmLnTcBTm"
   },
   "source": [
    "顏文字 = \"(ﾟДﾟ)< ============O))\"\n",
    "\n",
    "顏文字"
   ],
   "execution_count": null,
   "outputs": []
  },
  {
   "cell_type": "code",
   "source": [
    "顏文字*500"
   ],
   "metadata": {
    "id": "sInqpcIStWlv"
   },
   "execution_count": null,
   "outputs": []
  },
  {
   "cell_type": "markdown",
   "metadata": {
    "id": "eNjQQubk13oy"
   },
   "source": [
    "#### print()"
   ]
  },
  {
   "cell_type": "code",
   "metadata": {
    "id": "qfn1Mkyp18bx"
   },
   "source": [
    "print(\"hi\")"
   ],
   "execution_count": null,
   "outputs": []
  },
  {
   "cell_type": "code",
   "metadata": {
    "id": "8njH9070EN93"
   },
   "source": [
    "#3種寫法一次比較\n",
    "name = \"野原新之助\"\n",
    "age = 5\n",
    "\n",
    "print(f\"大姊姊我是{name}，我今年{age}歲!!\") # f-string\n",
    "\n",
    "print(\"大姊姊我是%s，我今年%d歲!!\"% (name, age))\n",
    "print(\"大姊姊我是{}，我今年{}歲!\".format(name, age))"
   ],
   "execution_count": null,
   "outputs": []
  },
  {
   "cell_type": "markdown",
   "metadata": {
    "id": "J66dOy-3cBTw"
   },
   "source": [
    "## 4.第一個動手做：計算BMI\n",
    "- 運用前述所學，設計一個BMI計算器，能夠正確計算BMI\n",
    "- BMI = 體重(公斤) / 身高平方(平方公尺)\n",
    "- 由使用者輸入體重、身高，顯示計算結果"
   ]
  },
  {
   "cell_type": "code",
   "source": [
    "# 來練習吧\n",
    "\n"
   ],
   "metadata": {
    "id": "Bhm4ACf_vVtc"
   },
   "execution_count": null,
   "outputs": []
  },
  {
   "cell_type": "markdown",
   "metadata": {
    "id": "1Yjq52tocBT_"
   },
   "source": [
    "## 5.條件判斷"
   ]
  },
  {
   "cell_type": "code",
   "metadata": {
    "id": "7Iw2Y5ecLPMA"
   },
   "source": [
    "3>=2"
   ],
   "execution_count": null,
   "outputs": []
  },
  {
   "cell_type": "code",
   "metadata": {
    "id": "AyukwKYqLSNX"
   },
   "source": [
    "\"Z\" > \"b\" #利大於弊"
   ],
   "execution_count": null,
   "outputs": []
  },
  {
   "cell_type": "code",
   "metadata": {
    "id": "oNSDR_Gy7OAx"
   },
   "source": [
    "a=5\n",
    "b=1\n",
    "\n",
    "if a == b:\n",
    "    print(\"a==b\")\n",
    "elif a > b:\n",
    "    print('a>b')\n",
    "else:\n",
    "    print(\"a<b\")\n"
   ],
   "execution_count": null,
   "outputs": []
  },
  {
   "cell_type": "code",
   "metadata": {
    "id": "h_aQXu_n89l3"
   },
   "source": [
    "if (1):\n",
    "    print('成立')\n",
    "else:\n",
    "    print('不成立') # None, False, 0"
   ],
   "execution_count": null,
   "outputs": []
  },
  {
   "cell_type": "code",
   "metadata": {
    "id": "HKhbJ0QOIeVM"
   },
   "source": [
    "if 3<2:\n",
    "    print(\"Yse\")\n",
    "else:\n",
    "    print(\"NO\")"
   ],
   "execution_count": null,
   "outputs": []
  },
  {
   "cell_type": "code",
   "metadata": {
    "id": "nNE4SKNEcBUA"
   },
   "source": [
    "if 1!=1:\n",
    "    print(\"YES\")\n",
    "else:\n",
    "    print(\"NO\")\n"
   ],
   "execution_count": null,
   "outputs": []
  },
  {
   "cell_type": "markdown",
   "metadata": {
    "id": "5YuMmErFcBUl"
   },
   "source": [
    "## 6.必須知道什麼是串列list"
   ]
  },
  {
   "cell_type": "code",
   "metadata": {
    "id": "4Phg0R-m-SFV"
   },
   "source": [
    "# list\n"
   ],
   "execution_count": null,
   "outputs": []
  },
  {
   "cell_type": "code",
   "metadata": {
    "id": "muhOOP7WJ5KZ"
   },
   "source": [
    "[ 1, 2, 3.14, 7.788, \"c8763\"]"
   ],
   "execution_count": null,
   "outputs": []
  },
  {
   "cell_type": "code",
   "metadata": {
    "id": "OwTaKmFPcBUm"
   },
   "source": [
    "[7,5,4.444,\"挖苦挖苦\",True,False]"
   ],
   "execution_count": null,
   "outputs": []
  },
  {
   "cell_type": "code",
   "metadata": {
    "id": "pknFNXTfcBUx"
   },
   "source": [
    "APPLE = [1, 2, 3, 0]"
   ],
   "execution_count": null,
   "outputs": []
  },
  {
   "cell_type": "code",
   "metadata": {
    "id": "GP_WrJc1cBUz"
   },
   "source": [
    "PEN = [7, 7, 3, 2]"
   ],
   "execution_count": null,
   "outputs": []
  },
  {
   "cell_type": "code",
   "metadata": {
    "id": "nBpeNXoqcBU4"
   },
   "source": [
    "APPLE + PEN"
   ],
   "execution_count": null,
   "outputs": []
  },
  {
   "cell_type": "code",
   "metadata": {
    "id": "xD64NIt2cBU_"
   },
   "source": [
    "APPLE-PEN"
   ],
   "execution_count": null,
   "outputs": []
  },
  {
   "cell_type": "code",
   "metadata": {
    "id": "Qj6NWJmIcBVF"
   },
   "source": [
    "APPLE*5"
   ],
   "execution_count": null,
   "outputs": []
  },
  {
   "cell_type": "markdown",
   "metadata": {
    "id": "sBgZM87U_Os6"
   },
   "source": [
    "#### 切片"
   ]
  },
  {
   "cell_type": "code",
   "metadata": {
    "id": "8wfh5T-gNp5e"
   },
   "source": [
    "#APPLE[ 頭0 : 尾前 ]"
   ],
   "execution_count": null,
   "outputs": []
  },
  {
   "cell_type": "code",
   "metadata": {
    "id": "_GhnEm2R_SwF"
   },
   "source": [
    "APPLE=[9, 5, 2, 7]"
   ],
   "execution_count": null,
   "outputs": []
  },
  {
   "cell_type": "code",
   "metadata": {
    "id": "Zv7Ekpfa_bDR"
   },
   "source": [
    "APPLE[2]"
   ],
   "execution_count": null,
   "outputs": []
  },
  {
   "cell_type": "code",
   "metadata": {
    "id": "i98TLrGcACCK"
   },
   "source": [
    "#APPLE[ 魚頭: 魚屁股]\n",
    "APPLE[0:2]"
   ],
   "execution_count": null,
   "outputs": []
  },
  {
   "cell_type": "code",
   "metadata": {
    "id": "YHtuh1tuge1c"
   },
   "source": [
    "APPLE[0 : 3]"
   ],
   "execution_count": null,
   "outputs": []
  },
  {
   "cell_type": "code",
   "metadata": {
    "id": "bgyWzCzscBVQ"
   },
   "source": [
    "APPLE[ :3]  #不包含第4"
   ],
   "execution_count": null,
   "outputs": []
  },
  {
   "cell_type": "code",
   "metadata": {
    "id": "dThPWD5JcBVS"
   },
   "source": [
    "APPLE[-1]"
   ],
   "execution_count": null,
   "outputs": []
  },
  {
   "cell_type": "code",
   "metadata": {
    "id": "Os6Se9wBO5Ac"
   },
   "source": [
    "!pip install twstock"
   ],
   "execution_count": null,
   "outputs": []
  },
  {
   "cell_type": "code",
   "metadata": {
    "id": "BczEJReaPBvv"
   },
   "source": [
    "import twstock\n",
    "\n",
    "stock= twstock.Stock(\"2330\")"
   ],
   "execution_count": null,
   "outputs": []
  },
  {
   "cell_type": "code",
   "metadata": {
    "id": "C9SAClg1PiAz"
   },
   "source": [
    "stock.price[-1]"
   ],
   "execution_count": null,
   "outputs": []
  },
  {
   "cell_type": "code",
   "metadata": {
    "id": "VV5t2WVjcBVa"
   },
   "source": [
    "詞 = \"庭院深深深幾許\""
   ],
   "execution_count": null,
   "outputs": []
  },
  {
   "cell_type": "code",
   "metadata": {
    "id": "JSlIEZr9cBVh"
   },
   "source": [
    "詞[0]"
   ],
   "execution_count": null,
   "outputs": []
  },
  {
   "cell_type": "code",
   "metadata": {
    "id": "n-FsI9nOcBVl"
   },
   "source": [
    "詞[2:5]"
   ],
   "execution_count": null,
   "outputs": []
  },
  {
   "cell_type": "code",
   "metadata": {
    "id": "tUzotRJAcBVp"
   },
   "source": [
    "詞[-5:]"
   ],
   "execution_count": null,
   "outputs": []
  },
  {
   "cell_type": "code",
   "metadata": {
    "id": "x-RXSD55cBVs"
   },
   "source": [
    "list(詞)"
   ],
   "execution_count": null,
   "outputs": []
  },
  {
   "cell_type": "markdown",
   "metadata": {
    "id": "kd_e77BbcBVu"
   },
   "source": [
    "## 7.第二個動手做：線上遊戲命名產生器"
   ]
  },
  {
   "cell_type": "markdown",
   "metadata": {
    "id": "zw_SKJYMcBVv"
   },
   "source": [
    "80%玩家表示，最花時間的就是命名，既然我們學會了串列list，那我們來嘗試做一個命名產生器\n",
    "\n",
    "首先以list把地點跟明星名字存起來"
   ]
  },
  {
   "cell_type": "code",
   "metadata": {
    "id": "0al5rUdGcBVv"
   },
   "source": [
    "local = [\"基隆\",'南港','松山','台北','萬華','板橋','樹林','鶯歌','桃園','中壢','楊梅','竹北','新竹','苗栗','銅鑼',\n",
    "         '后里','豐原','潭子','太原','台中','大慶','烏日','新烏日','成功','彰化','花壇','大村','員林','永靖','社頭',\n",
    "         '田中','二水','林內','民雄','嘉義','林鳳營','高雄']\n",
    "star = ['山下智囧','囧把刀','尾田賀一航','木村倒頭哉','湯姆嗑吐司','木村唾液','今晨五','彭于晏','朝偉哥',\"山道猴子\"]"
   ],
   "execution_count": null,
   "outputs": []
  },
  {
   "cell_type": "code",
   "metadata": {
    "id": "q8Ui2nif1fcW"
   },
   "source": [
    "local[2]+star[1]"
   ],
   "execution_count": null,
   "outputs": []
  },
  {
   "cell_type": "code",
   "metadata": {
    "id": "K5RjDv0AcBVx"
   },
   "source": [
    "import random\n",
    "\n",
    "a = random.sample(local,1)+ random.sample(star,1)   #shift+tab\n",
    "\"\".join(a)"
   ],
   "execution_count": null,
   "outputs": []
  },
  {
   "cell_type": "markdown",
   "metadata": {
    "id": "fP-QPiXTcBV0"
   },
   "source": [
    "用亂數取出一組組合，加在一起組成新的list，最後在取出list內容將字串合在一起"
   ]
  },
  {
   "cell_type": "markdown",
   "metadata": {
    "id": "7On4fAShcBV4"
   },
   "source": [
    "不命名變數也可以，方法百百種，python很自由"
   ]
  },
  {
   "cell_type": "code",
   "metadata": {
    "id": "JDjK5GDMcBV5"
   },
   "source": [
    "\"\".join(random.sample(local, 1) + random.sample(star, 1))"
   ],
   "execution_count": null,
   "outputs": []
  },
  {
   "cell_type": "markdown",
   "metadata": {
    "id": "heAWN8N5cBV6"
   },
   "source": [
    "## 8.kv配對的字典"
   ]
  },
  {
   "cell_type": "code",
   "metadata": {
    "id": "6PqkmF8n40HB",
    "colab": {
     "base_uri": "https://localhost:8080/"
    },
    "outputId": "9f850cca-8531-4b68-c7c7-89cf6e823b9c"
   },
   "source": [
    "{\"ip\":\"0.0.0.0\"}"
   ],
   "execution_count": null,
   "outputs": [
    {
     "output_type": "execute_result",
     "data": {
      "text/plain": [
       "{'ip': '0.0.0.0'}"
      ]
     },
     "metadata": {},
     "execution_count": 60
    }
   ]
  },
  {
   "cell_type": "code",
   "metadata": {
    "id": "uvQHQp8kPsy6"
   },
   "source": [
    "成績 =  {\"數學\" : [100,90,80] }"
   ],
   "execution_count": null,
   "outputs": []
  },
  {
   "cell_type": "code",
   "metadata": {
    "id": "gmVj2U2icBV-"
   },
   "source": [
    "同學 = {\n",
    "    \"andy\":[183,70],\n",
    "    \"Alice\":[163,45]\n",
    "    }"
   ],
   "execution_count": null,
   "outputs": []
  },
  {
   "cell_type": "code",
   "metadata": {
    "id": "BC7vWPerP-ld"
   },
   "source": [
    "同學"
   ],
   "execution_count": null,
   "outputs": []
  },
  {
   "cell_type": "code",
   "metadata": {
    "id": "gcF4fDRJcBWA"
   },
   "source": [
    "同學[\"andy\"][1]"
   ],
   "execution_count": null,
   "outputs": []
  },
  {
   "cell_type": "markdown",
   "metadata": {
    "id": "ytlMVeTYPf0d"
   },
   "source": [
    "## 9.條件判斷II:如果，否則"
   ]
  },
  {
   "cell_type": "markdown",
   "metadata": {
    "id": "uqQDo1UWcBWE"
   },
   "source": [
    "\n",
    "可以分成\n",
    "- if:           #條件成立執行以下描述\n",
    "- if else       #如果(成立就執行...),否則(成立就執行...)\n",
    "- if elif else  #如果(成立就執行...),否則如果(成立就執行...),否則(成立就執行...)"
   ]
  },
  {
   "cell_type": "code",
   "metadata": {
    "id": "epSXRZA-cBWF"
   },
   "source": [
    "A = 5\n",
    "B = 8"
   ],
   "execution_count": null,
   "outputs": []
  },
  {
   "cell_type": "code",
   "metadata": {
    "id": "9wGnHxWicBWH"
   },
   "source": [
    "if A == B:\n",
    "  print('A = B')"
   ],
   "execution_count": null,
   "outputs": []
  },
  {
   "cell_type": "code",
   "metadata": {
    "id": "MNUl4k70Tmsw"
   },
   "source": [
    "if A != B:\n",
    "  print(\"a!=b\")"
   ],
   "execution_count": null,
   "outputs": []
  },
  {
   "cell_type": "code",
   "metadata": {
    "id": "id-GrVbacBWK"
   },
   "source": [
    "if A == B:\n",
    "  print('A == B')\n",
    "else:\n",
    "  print('A != B')"
   ],
   "execution_count": null,
   "outputs": []
  },
  {
   "cell_type": "code",
   "metadata": {
    "id": "N_ZeDU4hcBWN"
   },
   "source": [
    "if A > B:\n",
    "    print('A > B')\n",
    "elif A < B:\n",
    "    print('A < B')\n",
    "else:\n",
    "    print('A == B')"
   ],
   "execution_count": null,
   "outputs": []
  },
  {
   "cell_type": "markdown",
   "metadata": {
    "id": "Su_WhpiMcBWR"
   },
   "source": [
    "現學現賣之「智慧聊天機器人」"
   ]
  },
  {
   "cell_type": "code",
   "metadata": {
    "id": "lBxHzw_BcBWT"
   },
   "source": [
    "say = input(\">>\")\n",
    "if say == '早安':\n",
    "    print(\"早安唷\")\n",
    "else:\n",
    "    print(\"你說\"+say+\"阿? 阿阿阿阿阿我知道了\")\n"
   ],
   "execution_count": null,
   "outputs": []
  },
  {
   "cell_type": "markdown",
   "metadata": {
    "id": "n1lfLxRTcBWZ"
   },
   "source": [
    "## 10.人生就是迴圈"
   ]
  },
  {
   "cell_type": "markdown",
   "metadata": {
    "id": "GM6-nsp7cBWa"
   },
   "source": [
    "迴圈是程式語言的特徵，讓電腦協助你重覆執行某項判斷，主流用法就是for迴圈與while迴圈，另外python還有一個枚舉可以使用。\n",
    "\n",
    "\n",
    "### 10-1 For迴圈\n",
    "- 先來個for迴圈吧，基本上for迴圈常與list結合使用\n",
    "\n",
    "```\n",
    "for 指標 in 要判別的資料集:\n",
    "    執行項目\n",
    "```\n"
   ]
  },
  {
   "cell_type": "code",
   "metadata": {
    "id": "oudlqYNKcBWb"
   },
   "source": [
    "五俗蘭 = [\"紅茶\", \"綠茶\", \"烏龍\", \"鐵觀音\", \"多多冰沙\", \"八冰綠\", \"抹茶拿鐵\"]"
   ],
   "execution_count": null,
   "outputs": []
  },
  {
   "cell_type": "code",
   "metadata": {
    "id": "3AA2805ll_fI"
   },
   "source": [
    "print(五俗蘭)"
   ],
   "execution_count": null,
   "outputs": []
  },
  {
   "cell_type": "code",
   "source": [
    "五俗蘭[:4]"
   ],
   "metadata": {
    "id": "TRsG3j6MwxZO"
   },
   "execution_count": null,
   "outputs": []
  },
  {
   "cell_type": "code",
   "metadata": {
    "id": "xFFA7bpM7ZNh"
   },
   "source": [
    "for i in 五俗蘭:\n",
    "    print(i)"
   ],
   "execution_count": null,
   "outputs": []
  },
  {
   "cell_type": "code",
   "metadata": {
    "id": "cfHf90Ip2wq4"
   },
   "source": [
    "for i in range(5):\n",
    "  print(五俗蘭[i])"
   ],
   "execution_count": null,
   "outputs": []
  },
  {
   "cell_type": "code",
   "metadata": {
    "id": "sNzF0aDMVVGQ"
   },
   "source": [
    "len(五俗蘭)"
   ],
   "execution_count": null,
   "outputs": []
  },
  {
   "cell_type": "code",
   "metadata": {
    "id": "CMrS9u3RmJug"
   },
   "source": [
    "for i in range(7):\n",
    "  print(五俗蘭[i])"
   ],
   "execution_count": null,
   "outputs": []
  },
  {
   "cell_type": "code",
   "metadata": {
    "id": "9kup7hBV3Xem"
   },
   "source": [
    "for i in range(len(五俗蘭)):\n",
    "  print(五俗蘭[i])"
   ],
   "execution_count": null,
   "outputs": []
  },
  {
   "cell_type": "code",
   "source": [
    "for i in 五俗蘭:\n",
    "    print(i)"
   ],
   "metadata": {
    "id": "XKkS-_apxO93"
   },
   "execution_count": null,
   "outputs": []
  },
  {
   "cell_type": "code",
   "source": [
    "# 如果list超級大，可以用iter + next節省記憶體\n",
    "五俗蘭_iterator = iter(五俗蘭)\n",
    "\n",
    "while True:\n",
    "    try:\n",
    "        i = next(五俗蘭_iterator)\n",
    "        print(i)\n",
    "    except StopIteration:\n",
    "        break"
   ],
   "metadata": {
    "id": "DBBjvDJuydvb"
   },
   "execution_count": null,
   "outputs": []
  },
  {
   "cell_type": "markdown",
   "metadata": {
    "id": "qrM7hgo8cBWo"
   },
   "source": [
    "### 10-2 enumerate()枚舉\n",
    "\n",
    "假設我們要迭代list成員的名稱，並獲取list中每個成員的位置。可以用enumerate，又稱枚舉\n",
    "\n"
   ]
  },
  {
   "cell_type": "code",
   "metadata": {
    "id": "CdSUMeWecBWs"
   },
   "source": [
    "for i, v in enumerate(五俗蘭):\n",
    "    print(i, v)"
   ],
   "execution_count": null,
   "outputs": []
  },
  {
   "cell_type": "markdown",
   "metadata": {
    "id": "drbM_qaZcBW7"
   },
   "source": [
    "### 10-3 while迴圈\n",
    "\n",
    "while迴圈，除非成立才會跳出循環\n",
    "```\n",
    "初始值\n",
    "while 條件式：\n",
    "   程式區塊\n",
    "   (索引變化)\n",
    "```"
   ]
  },
  {
   "cell_type": "code",
   "metadata": {
    "id": "GdxXfux5cBW8",
    "scrolled": true
   },
   "source": [
    "count = 0\n",
    "\n",
    "while (count < 6):\n",
    "    print('The count is:', count)\n",
    "    count += 1 #count =count+1\n",
    "\n",
    "print (\"Good bye!\")"
   ],
   "execution_count": null,
   "outputs": []
  },
  {
   "cell_type": "code",
   "metadata": {
    "id": "-apyeexmcBW_"
   },
   "source": [
    "# continue用法\n",
    "\n",
    "i = 1\n",
    "while (i < 6):\n",
    "    i += 1   #  i=i+1\n",
    "    if i%2 > 0: #1\n",
    "        continue\n",
    "    print(i)"
   ],
   "execution_count": null,
   "outputs": []
  },
  {
   "cell_type": "code",
   "metadata": {
    "id": "Ijh400zIcBXD"
   },
   "source": [
    "# break用法\n",
    "i = 1\n",
    "while (1):\n",
    "    print(i)\n",
    "    i += 1\n",
    "    if i > 10:\n",
    "        break"
   ],
   "execution_count": null,
   "outputs": []
  },
  {
   "cell_type": "markdown",
   "metadata": {
    "id": "juaPQpa9cBXG"
   },
   "source": [
    "*現學現賣之「金庫密碼」"
   ]
  },
  {
   "cell_type": "code",
   "metadata": {
    "id": "OWCY-7QocBXG"
   },
   "source": [
    "password = '' #先設一個空字串讓程式知道\n",
    "\n",
    "while password != \"1234\":\n",
    "  password = input(\"快點輸入密碼>>\")\n",
    "\n",
    "  if password == '1234':\n",
    "    print(\"密碼正確\")\n",
    "    break\n",
    "  else:\n",
    "    print(\"密碼錯誤再來一次\")\n"
   ],
   "execution_count": null,
   "outputs": []
  },
  {
   "cell_type": "markdown",
   "metadata": {
    "id": "-3ecKtR8cBXI"
   },
   "source": [
    "## 11.函數其實很精彩"
   ]
  },
  {
   "cell_type": "markdown",
   "metadata": {
    "id": "BczGhDdGcBXJ"
   },
   "source": [
    "用來打包你所會的一切，必要時呼叫出來就可以用\n",
    "```\n",
    "def foo(引數1,引數2):\n",
    "    執行內容\n",
    "    retuen 回傳值\n",
    "```\n",
    "\n",
    "呼叫時使用\n",
    "```\n",
    "foo(引數1,引數2)\n",
    "```"
   ]
  },
  {
   "cell_type": "code",
   "metadata": {
    "id": "IQ4xwATXYHA3"
   },
   "source": [
    "def toto_bmi(wei, hei):\n",
    "    bmi = float(wei) / float(hei)**2\n",
    "    return bmi"
   ],
   "execution_count": null,
   "outputs": []
  },
  {
   "cell_type": "code",
   "metadata": {
    "id": "iPAl8KK1YrxV"
   },
   "source": [
    "a = toto_bmi(70, 1.73)"
   ],
   "execution_count": null,
   "outputs": []
  },
  {
   "cell_type": "code",
   "metadata": {
    "id": "H7yUZjMLY99W"
   },
   "source": [
    "a"
   ],
   "execution_count": null,
   "outputs": []
  },
  {
   "cell_type": "code",
   "metadata": {
    "id": "-_x8hQv370yj"
   },
   "source": [
    "#BMI=w/h**2\n",
    "\n",
    "def cal_BMI(w, h):\n",
    "  bmi = float(w) / float(h)**2\n",
    "  return bmi"
   ],
   "execution_count": null,
   "outputs": []
  },
  {
   "cell_type": "code",
   "metadata": {
    "id": "NxN8J63Q8nLi"
   },
   "source": [
    "cal_BMI(70,1.7)"
   ],
   "execution_count": null,
   "outputs": []
  },
  {
   "cell_type": "code",
   "metadata": {
    "id": "axqEjSBWkI2E"
   },
   "source": [
    "cal_BMI(h=1.73, w=70)"
   ],
   "execution_count": null,
   "outputs": []
  },
  {
   "cell_type": "code",
   "metadata": {
    "id": "SZW0-YH5kajP"
   },
   "source": [
    "#BMI=w/h**2\n",
    "\n",
    "def cal_BMI( w=70, h=1.73):\n",
    "    \"\"\"\n",
    "    w輸入kg\n",
    "    h輸入公尺\n",
    "    \"\"\"\n",
    "    bmi = float(w) / float(h)**2\n",
    "    return bmi"
   ],
   "execution_count": null,
   "outputs": []
  },
  {
   "cell_type": "code",
   "metadata": {
    "id": "ZkLUiZW7kloj"
   },
   "source": [
    "cal_BMI()"
   ],
   "execution_count": null,
   "outputs": []
  },
  {
   "cell_type": "code",
   "metadata": {
    "id": "MKLCzzfMYWWl"
   },
   "source": [
    "def add(a , b):\n",
    "  sum = a + b\n",
    "  return sum"
   ],
   "execution_count": null,
   "outputs": []
  },
  {
   "cell_type": "code",
   "metadata": {
    "id": "vydTC0UfYlAF"
   },
   "source": [
    "add(2,555)"
   ],
   "execution_count": null,
   "outputs": []
  },
  {
   "cell_type": "code",
   "metadata": {
    "id": "4Vi4j6WGcBXJ"
   },
   "source": [
    "def repaly_word(b):\n",
    "    print(b)\n",
    "    print(\"我想你\")"
   ],
   "execution_count": null,
   "outputs": []
  },
  {
   "cell_type": "code",
   "metadata": {
    "id": "5shGp1-5-A74"
   },
   "source": [
    "repaly_word(\"真的嗎\")"
   ],
   "execution_count": null,
   "outputs": []
  },
  {
   "cell_type": "code",
   "metadata": {
    "id": "AV7jAMfvcBXM"
   },
   "source": [
    "repaly_word(\"a\")"
   ],
   "execution_count": null,
   "outputs": []
  },
  {
   "cell_type": "code",
   "metadata": {
    "id": "iBLQzNklcBXS"
   },
   "source": [
    "def 加法(a,b):\n",
    "    result = a + b\n",
    "    return result"
   ],
   "execution_count": null,
   "outputs": []
  },
  {
   "cell_type": "code",
   "metadata": {
    "id": "nJLd_fEacBXX"
   },
   "source": [
    "加法(9,9)"
   ],
   "execution_count": null,
   "outputs": []
  },
  {
   "cell_type": "markdown",
   "metadata": {
    "id": "KDCvPXXRcBXc"
   },
   "source": [
    "## 12.第三個動手做：打造訂餐系統"
   ]
  },
  {
   "cell_type": "markdown",
   "metadata": {
    "id": "oOpPP_NFcBXd"
   },
   "source": [
    "當程式以函數包起來後，使用者只要呼叫函數，輸入對應的引數，即可得到結果，不需要在意裡面的細節囉"
   ]
  },
  {
   "cell_type": "code",
   "metadata": {
    "id": "SUUf0ymbcBXd"
   },
   "source": [
    "def 訂餐(第1至3號餐,數量):\n",
    "    if 第1至3號餐 == 1:\n",
    "        price = 數量*60\n",
    "    elif 第1至3號餐 == 2:\n",
    "        price = 數量*70\n",
    "    elif 第1至3號餐 == 3:\n",
    "        price = 數量*80\n",
    "    else:\n",
    "        print(\"請選擇1至3號餐，輸入1個數字即可，謝謝\")\n",
    "    return f\"您選的是{第1至3號餐}號餐, 數量是{數量}個，金額是{price}元\""
   ],
   "execution_count": null,
   "outputs": []
  },
  {
   "cell_type": "code",
   "metadata": {
    "id": "ieH5r0Z2cBXf"
   },
   "source": [
    "訂餐(2,3)"
   ],
   "execution_count": null,
   "outputs": []
  },
  {
   "cell_type": "code",
   "metadata": {
    "id": "iPwNnkypcBXh"
   },
   "source": [
    "訂餐(2,9)"
   ],
   "execution_count": null,
   "outputs": []
  },
  {
   "cell_type": "markdown",
   "metadata": {
    "id": "BypzXxTESq7q"
   },
   "source": [
    "## 13.用來個翻譯吧\n",
    "來體驗怎麼使用外部模組"
   ]
  },
  {
   "cell_type": "markdown",
   "metadata": {
    "id": "JFyiNQiiW1aZ"
   },
   "source": [
    "### 13-2.Python google翻譯"
   ]
  },
  {
   "cell_type": "markdown",
   "metadata": {
    "id": "9WIJXVlLU7Nq"
   },
   "source": [
    "1. google搜尋`python google 翻譯`\n",
    "2. 看文章程式碼\n",
    "3. 回頭找模組的官方文件(或github的說明文件)，拓展想要的應用"
   ]
  },
  {
   "cell_type": "code",
   "metadata": {
    "id": "CfgN6owgThMM"
   },
   "source": [
    "!pip install googletrans==3.1.0a0"
   ],
   "execution_count": null,
   "outputs": []
  },
  {
   "cell_type": "code",
   "metadata": {
    "id": "bv4FFtejS0UG"
   },
   "source": [
    "from googletrans import Translator\n",
    "\n",
    "translator = Translator()\n",
    "\n",
    "translator.translate('今晚我要來點真主單的紅茶拿鐵加珍珠', dest='en').text"
   ],
   "execution_count": null,
   "outputs": []
  },
  {
   "cell_type": "code",
   "metadata": {
    "id": "YeQKrrQvT8ZU"
   },
   "source": [
    "print('English:', translator.translate('水之呼吸', dest='en').text)\n",
    "print('Japanese:', translator.translate('水之呼吸', dest='ja').text)\n",
    "print('Korean:', translator.translate('水之呼吸', dest='ko').text)"
   ],
   "execution_count": null,
   "outputs": []
  },
  {
   "cell_type": "markdown",
   "metadata": {
    "id": "6lfFAiTFVq31"
   },
   "source": [
    "### 13-2. 翻譯轉語音"
   ]
  },
  {
   "cell_type": "markdown",
   "metadata": {
    "id": "5uS7VUVNV2JY"
   },
   "source": [
    "1. google搜尋`python google 文字轉語音`\n",
    "2. 看文章程式碼\n",
    "3. 回頭找模組的官方文件(或github的說明文件)，拓展想要的應用"
   ]
  },
  {
   "cell_type": "code",
   "metadata": {
    "id": "PFjLu6j_V9AJ"
   },
   "source": [
    "!pip install gtts"
   ],
   "execution_count": null,
   "outputs": []
  },
  {
   "cell_type": "code",
   "metadata": {
    "id": "5V2mV_U3WM9f"
   },
   "source": [
    "from gtts import gTTS\n",
    "import os\n",
    "\n",
    "mytext = 'Convert this Text to Speech in Python'\n",
    "\n",
    "language = 'en'\n",
    "mygTTS = gTTS(text=mytext, lang=language, slow=False)\n",
    "mygTTS.save(\"output.mp3\")\n",
    "\n",
    "# Play the converted file\n",
    "os.system(\"start output.mp3\")"
   ],
   "execution_count": null,
   "outputs": []
  },
  {
   "cell_type": "markdown",
   "metadata": {
    "id": "RnhxUIgKXElj"
   },
   "source": [
    "### 13-3.把翻譯+語音串起來"
   ]
  },
  {
   "cell_type": "code",
   "metadata": {
    "id": "E5Pi5ZtOXKf0"
   },
   "source": [
    "!pip install googletrans==3.1.0a0\n",
    "!pip install gtts"
   ],
   "execution_count": null,
   "outputs": []
  },
  {
   "cell_type": "code",
   "metadata": {
    "id": "l21cRd5NXS_u"
   },
   "source": [
    "from googletrans import Translator\n",
    "from gtts import gTTS\n",
    "import os\n",
    "\n",
    "def google_text_to_speak(text, to_speak_language='en'):\n",
    "  translator = Translator()\n",
    "  ttext = translator.translate(text, dest=to_speak_language).text\n",
    "  tts = gTTS(text= ttext, lang=to_speak_language)\n",
    "  tts.save(f'{text} {to_speak_language}.mp3')\n",
    "\n",
    "if __name__ == \"__main__\":\n",
    "  google_text_to_speak(\"今晚打咚咚\")\n",
    "  google_text_to_speak(\"本節目由五洲製藥贊助撥出\",'ja')"
   ],
   "execution_count": null,
   "outputs": []
  },
  {
   "cell_type": "code",
   "metadata": {
    "id": "v0dkfpiTZh7D"
   },
   "source": [
    "google_text_to_speak(\"今晚打老虎\")\n",
    "google_text_to_speak(\"今晚打老虎\",to_speak_language = 'ja')"
   ],
   "execution_count": null,
   "outputs": []
  },
  {
   "cell_type": "code",
   "metadata": {
    "id": "dfONID8Ap3Zv"
   },
   "source": [
    "import googletrans\n",
    "print(googletrans.LANGCODES)"
   ],
   "execution_count": null,
   "outputs": []
  },
  {
   "cell_type": "markdown",
   "metadata": {
    "id": "61vtOckbcBXj"
   },
   "source": [
    "## reference\n",
    "  - [蔡炎龍老師Github](https://github.com/yenlung/Python-3-Data-Analysis-Basics)\n",
    "  - [A Whirlwind Tour of Python (正體中文版)](https://doggy8088.github.io/A-Whirlwind-Tour-of-Python-zh-tw/)"
   ]
  }
 ]
}
