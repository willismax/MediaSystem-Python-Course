{
  "nbformat": 4,
  "nbformat_minor": 0,
  "metadata": {
    "kernelspec": {
      "name": "python3",
      "display_name": "Python 3"
    },
    "colab": {
      "provenance": [],
      "collapsed_sections": [
        "8joqiyurKQ9o",
        "LZzsYCfvB9u-",
        "xiWTSL-nCKTO",
        "T3sTUH66PHt1",
        "-HLePPGebJ8M",
        "wO4qas7nmXdT",
        "NDu0oOQiowKr",
        "Igmzh_7vHwU6",
        "xLpUDsCtIXoG"
      ],
      "include_colab_link": true
    }
  },
  "cells": [
    {
      "cell_type": "markdown",
      "metadata": {
        "id": "view-in-github",
        "colab_type": "text"
      },
      "source": [
        "<a href=\"https://colab.research.google.com/github/willismax/MediaSystem-Python-Course/blob/main/01.Intro-Python/PythonBasic_4.ipynb\" target=\"_parent\"><img src=\"https://colab.research.google.com/assets/colab-badge.svg\" alt=\"Open In Colab\"/></a>"
      ]
    },
    {
      "cell_type": "markdown",
      "metadata": {
        "collapsed": true,
        "id": "6OZu7Iytc9vG"
      },
      "source": [
        "#  Python->基礎語法#4 函數、類別"
      ]
    },
    {
      "cell_type": "markdown",
      "metadata": {
        "id": "UZ34YQevW6W4"
      },
      "source": [
        "![](https://python.rs/pylogo.png)"
      ]
    },
    {
      "cell_type": "markdown",
      "metadata": {
        "id": "8joqiyurKQ9o"
      },
      "source": [
        "## Python函式"
      ]
    },
    {
      "cell_type": "markdown",
      "metadata": {
        "id": "X_3zYqpvKaEG"
      },
      "source": [
        "- Python有人稱之為膠水語言，因為可以豐富的自行組織為函式(function)，也可以運用別人製作的函式。\n",
        "- 函式以def關鍵字定義之，並以 `return` 關鍵字回傳函式輸出。\n",
        "- 函式括弧內稱之為\"引數\"或\"參數\"，通常超過2個以上會設定預設值。\n",
        "- 一個函數只做好一件事情。\n",
        "\n",
        "```python\n",
        "def 自訂函式名稱(引數):\n",
        "    陳述\n",
        "    return 執行結果\n",
        "```"
      ]
    },
    {
      "cell_type": "code",
      "source": [
        "def 自訂函式():\n",
        "    return \"pass\""
      ],
      "metadata": {
        "id": "Ft8WNgz8WRfI"
      },
      "execution_count": null,
      "outputs": []
    },
    {
      "cell_type": "code",
      "source": [
        "自訂函式()"
      ],
      "metadata": {
        "id": "-RjUGUggWjnC"
      },
      "execution_count": null,
      "outputs": []
    },
    {
      "cell_type": "code",
      "metadata": {
        "id": "cqpuet302Zkf"
      },
      "source": [
        "def 加法(a,b):\n",
        "    _ = a+b\n",
        "    return _"
      ],
      "execution_count": null,
      "outputs": []
    },
    {
      "cell_type": "code",
      "metadata": {
        "id": "SdJ9JeYS2_2R"
      },
      "source": [
        "def 加法(a,b):\n",
        "    return a+b"
      ],
      "execution_count": null,
      "outputs": []
    },
    {
      "cell_type": "code",
      "metadata": {
        "id": "-2S_TQp22zPG"
      },
      "source": [
        "加法(2,3)"
      ],
      "execution_count": null,
      "outputs": []
    },
    {
      "cell_type": "code",
      "source": [
        "def add_01(a, b):\n",
        "    res = a + b\n",
        "    return res"
      ],
      "metadata": {
        "id": "iXfScxp4W2f7"
      },
      "execution_count": null,
      "outputs": []
    },
    {
      "cell_type": "code",
      "metadata": {
        "id": "_EC17ltd5IxI"
      },
      "source": [
        "def cal_sum(add1,add2):\n",
        "    sum = add1 + add2\n",
        "    return sum"
      ],
      "execution_count": null,
      "outputs": []
    },
    {
      "cell_type": "code",
      "metadata": {
        "id": "5YnOMaA_5gkJ"
      },
      "source": [
        "cal_sum(1,2)"
      ],
      "execution_count": null,
      "outputs": []
    },
    {
      "cell_type": "code",
      "source": [
        "def my_function(x, y, z=1.5 , a=1 , b=2 , c=3): #x,y,z稱之為\"引數\"或\"參數\"\n",
        "    result = z + x + y + a + b + c\n",
        "    return result"
      ],
      "metadata": {
        "id": "Rqovkp2dXdPp"
      },
      "execution_count": null,
      "outputs": []
    },
    {
      "cell_type": "code",
      "source": [
        "my_function(1,2,z=4,5,6,7)"
      ],
      "metadata": {
        "id": "47U6h4O_X9dE"
      },
      "execution_count": null,
      "outputs": []
    },
    {
      "cell_type": "code",
      "metadata": {
        "id": "NcbkFNucKCD3"
      },
      "source": [
        "def my_function(x1, y, z=1.5): #x,y,z稱之為\"引數\"或\"參數\"\n",
        "    if z > 1:\n",
        "        result = z * (x + y)\n",
        "        print(1212)\n",
        "    else:\n",
        "        result = z / (x + y)\n",
        "        print(4002)\n",
        "    return result"
      ],
      "execution_count": null,
      "outputs": []
    },
    {
      "cell_type": "code",
      "metadata": {
        "id": "siU4OohL4aQa"
      },
      "source": [
        "my_function(z=1, x=2, y=3)"
      ],
      "execution_count": null,
      "outputs": []
    },
    {
      "cell_type": "code",
      "metadata": {
        "id": "GKVg4WlJ7FqC"
      },
      "source": [
        "my_function()"
      ],
      "execution_count": null,
      "outputs": []
    },
    {
      "cell_type": "code",
      "metadata": {
        "id": "Qf2LJcza7ORw"
      },
      "source": [
        "my_function(1,2,z=100)"
      ],
      "execution_count": null,
      "outputs": []
    },
    {
      "cell_type": "markdown",
      "metadata": {
        "id": "LZzsYCfvB9u-"
      },
      "source": [
        "### 全域變數/區域變數"
      ]
    },
    {
      "cell_type": "markdown",
      "metadata": {
        "id": "qNqB0jMlLU7j"
      },
      "source": [
        "- 如果函式未以return敘述回傳，輸出將為空無物件，即函式處理的結果不會傳出來\n",
        "- 引數作用在函式內，只是區域變數\n"
      ]
    },
    {
      "cell_type": "markdown",
      "metadata": {
        "id": "xanvSyB0NNa3"
      },
      "source": [
        "- 何謂全域變數？區域變數？比較以下兩者\n",
        "- 在函式內引數傳遞因為只在函式內有作用，可以將引數視為區域變數\n"
      ]
    },
    {
      "cell_type": "code",
      "metadata": {
        "id": "yqceur0lLM0c"
      },
      "source": [
        "z= 2\n",
        "\n",
        "my_function(1,2)"
      ],
      "execution_count": null,
      "outputs": []
    },
    {
      "cell_type": "code",
      "metadata": {
        "id": "66O8eUd9MZf5"
      },
      "source": [
        "def foo_1():\n",
        "  a1 = [ i for i in range(5)]           #宣告空list在函式內\n",
        "  print(a1)\n",
        "  return None\n",
        "\n",
        "\n",
        "print( foo_1() )\n",
        "print( a1 )"
      ],
      "execution_count": null,
      "outputs": []
    },
    {
      "cell_type": "code",
      "metadata": {
        "id": "GKqzgCpZ6eH8"
      },
      "source": [
        "def looooooop():\n",
        "    a3 = []\n",
        "    for i in range(7):\n",
        "        a3.append(i)\n",
        "    return a3\n",
        "\n",
        "looooooop()"
      ],
      "execution_count": null,
      "outputs": []
    },
    {
      "cell_type": "code",
      "source": [
        "a3"
      ],
      "metadata": {
        "id": "8ZINisA6S1-4"
      },
      "execution_count": null,
      "outputs": []
    },
    {
      "cell_type": "code",
      "metadata": {
        "id": "ad3wgihrNZKj"
      },
      "source": [
        "a2 = []\n",
        "a2222 = []             #宣告空list在函式外\n",
        "\n",
        "def foo_2():\n",
        "  for i in range(5):\n",
        "    a2.append(i)\n",
        "\n",
        "\n",
        "foo_2()\n",
        "print(a2)\n",
        "print(a2222)"
      ],
      "execution_count": null,
      "outputs": []
    },
    {
      "cell_type": "markdown",
      "metadata": {
        "id": "nC1gslI3L-17"
      },
      "source": [
        "- 函式的設計要多考量使用者的易用性&誤用的可能。"
      ]
    },
    {
      "cell_type": "code",
      "metadata": {
        "id": "76kXCsDgK-ha"
      },
      "source": [
        "#誤用tuple而非list\n",
        "a3 = []\n",
        "\n",
        "# a3 = ()\n",
        "\n",
        "def foo3(a, n):\n",
        "    a.append(n)\n",
        "\n",
        "\n",
        "foo3(a3, 2)\n",
        "print(a3)"
      ],
      "execution_count": null,
      "outputs": []
    },
    {
      "cell_type": "markdown",
      "metadata": {
        "id": "z6cqsTAkM3Xf"
      },
      "source": [
        "如果要解決使用者輸入的引數非預期資料型態，可以用`try`、`except`、`assert` 先檢查參數是否為預期的資料型態。\n",
        "\n"
      ]
    },
    {
      "cell_type": "code",
      "metadata": {
        "id": "aYK0j3IJM2IR"
      },
      "source": [
        "a4 = ()\n",
        "\n",
        "def foo4(a, n):\n",
        "  try:\n",
        "    type(a) == list\n",
        "    a.append(n)\n",
        "  except:\n",
        "    print(\"第一個參數必須是list\")\n",
        "\n",
        "\n",
        "foo4(a4, 7)\n",
        "print(a4)\n"
      ],
      "execution_count": null,
      "outputs": []
    },
    {
      "cell_type": "markdown",
      "metadata": {
        "id": "xiWTSL-nCKTO"
      },
      "source": [
        "### 寫好一個函數"
      ]
    },
    {
      "cell_type": "markdown",
      "metadata": {
        "id": "Va7vw-OyCSTn"
      },
      "source": [
        "- 參考[Pythonic 風格指引](https://tw-google-styleguide.readthedocs.io/en/latest/google-python-styleguide/python_style_rules.html)\n",
        "  - 您應該要寫好說明，除非別人不應用到(不可見)，或很精簡短小。\n",
        "  - 文檔描述函數的用途，而不是逐行描述程式碼怎麼做。\n"
      ]
    },
    {
      "cell_type": "code",
      "source": [
        "def BMI(高, 重):\n",
        "    \"\"\"這個就是計算BMI啦\n",
        "    Args:\n",
        "      高:m，公尺\n",
        "      重:kg,公斤\n",
        "    Return:\n",
        "      BMI計算結果，沒有四捨五入....\n",
        "    \"\"\"\n",
        "    bmi = 重/(高**2)\n",
        "    return [bmi, 高, 重]\n"
      ],
      "metadata": {
        "id": "nPGZBKTOiVzt"
      },
      "execution_count": null,
      "outputs": []
    },
    {
      "cell_type": "code",
      "source": [
        "BMI(1.70, 60)"
      ],
      "metadata": {
        "id": "-3pEWogbipLu"
      },
      "execution_count": null,
      "outputs": []
    },
    {
      "cell_type": "code",
      "metadata": {
        "id": "3oOJ5InkNovz"
      },
      "source": [
        "def convert_temperature_unit(raw_temperature, raw_temperature_unit):\n",
        "    \"\"\"溫度單位換算\n",
        "    Args:\n",
        "      raw_temperature: float 原始溫度\n",
        "      raw_temperature_unit: str 原始溫度單位，f/F為華氏，c/C為攝氏\n",
        "    Returns:\n",
        "      攝氏/華氏溫度轉換結果的文字說明，如果成功並回傳 result_temperature，\n",
        "      如果失敗提示請輸入c或f。\n",
        "    \"\"\"\n",
        "\n",
        "    # raw_temperature轉換為float\n",
        "    try:\n",
        "        raw_temperature = float(raw_temperature)\n",
        "    except ValueError as err:\n",
        "        print(err)\n",
        "\n",
        "    #c2f、f2c\n",
        "    raw_temperature_unit = str(raw_temperature_unit).lower()\n",
        "    try:\n",
        "        if raw_temperature_unit == \"c\":\n",
        "            description = \"攝氏轉華氏\"\n",
        "            result_temperature = raw_temperature*9/5+32\n",
        "        if raw_temperature_unit == \"f\":\n",
        "            description = \"華氏轉攝氏\"\n",
        "            result_temperature = round((raw_temperature-32)*(5/9),2)\n",
        "        print(f\"{description}溫度為{result_temperature}\")\n",
        "        return result_temperature\n",
        "    except:\n",
        "        print(\"溫度單位輸入錯誤，請輸入攝氏C/c或華氏F/f\")\n",
        "\n",
        "if __name__ == '__main__':\n",
        "    t , u = input(\"請輸入溫度\"), input(\"請輸入原始溫度為攝氏(C)或華氏(F)\")\n",
        "    convert_temperature_unit(t,u)\n"
      ],
      "execution_count": null,
      "outputs": []
    },
    {
      "cell_type": "code",
      "source": [
        "convert_temperature_unit(30,\"c\")"
      ],
      "metadata": {
        "id": "GRndxrffesFO"
      },
      "execution_count": null,
      "outputs": []
    },
    {
      "cell_type": "code",
      "source": [
        "if __name__ == '__main__':\n",
        "    t , u = input(\"請輸入溫度\"), input(\"請輸入原始溫度為攝氏(C)或華氏(F)\")\n",
        "    convert_temperature_unit(t,u)"
      ],
      "metadata": {
        "id": "YeBhvrHAeqky"
      },
      "execution_count": null,
      "outputs": []
    },
    {
      "cell_type": "code",
      "source": [
        "convert_temperature_unit()"
      ],
      "metadata": {
        "id": "AjgziwWtc4tX"
      },
      "execution_count": null,
      "outputs": []
    },
    {
      "cell_type": "markdown",
      "metadata": {
        "id": "T3sTUH66PHt1"
      },
      "source": [
        "## 練習: 自定義函式\n",
        "- 練習自定義函式：如果降雨機率大於70，回傳帶雨傘；如果最高溫度大於30，回傳戴墨鏡。\n",
        "- 需增加函數說明。\n",
        "- 請參考[Python風格規範](https://tw-google-styleguide.readthedocs.io/en/latest/google-python-styleguide/python_style_rules.html)"
      ]
    },
    {
      "cell_type": "code",
      "metadata": {
        "id": "wqVtx77_yf33"
      },
      "source": [
        "# Your code here:\n",
        "\n",
        ""
      ],
      "execution_count": null,
      "outputs": []
    },
    {
      "cell_type": "code",
      "source": [],
      "metadata": {
        "id": "ClG6N1h8l0JM"
      },
      "execution_count": null,
      "outputs": []
    },
    {
      "cell_type": "markdown",
      "metadata": {
        "id": "-HLePPGebJ8M"
      },
      "source": [
        "### 函式的引述*args及**kwargs"
      ]
    },
    {
      "cell_type": "code",
      "metadata": {
        "id": "g-v2B7NlbIyo"
      },
      "source": [
        "def foo(a, b, *args, **kwargs): # *[], **{:}\n",
        "  print(f\"type:{type(args)}\") #tuple\n",
        "  print(f\"type:{type(kwargs)}\") #dict\n",
        "  print(f\"unnamed args:{args}\")\n",
        "  print(f\"keyword args:{kwargs}\")"
      ],
      "execution_count": null,
      "outputs": []
    },
    {
      "cell_type": "code",
      "metadata": {
        "id": "Ny9pZE7Wb7K_"
      },
      "source": [
        "foo(1, 2, ['護國神山', '台G店'], ship_logo=\"EVERGREEN\", 聲明='航海王提醒您當沖有害健康')"
      ],
      "execution_count": null,
      "outputs": []
    },
    {
      "cell_type": "markdown",
      "metadata": {
        "id": "wO4qas7nmXdT"
      },
      "source": [
        "### 匿名函式lambda\n"
      ]
    },
    {
      "cell_type": "markdown",
      "metadata": {
        "id": "JIjeKEMWmuaq"
      },
      "source": [
        "- lambda:\n",
        "  - 本地限定的匿名函數。\n",
        "    ```\n",
        "    lambda parameter_list: expression\n",
        "\n",
        "    ```"
      ]
    },
    {
      "cell_type": "code",
      "metadata": {
        "id": "eq7I_wrXxFYh"
      },
      "source": [
        "add = lambda x,y: x*y\n",
        "add(9,9)"
      ],
      "execution_count": null,
      "outputs": []
    },
    {
      "cell_type": "code",
      "metadata": {
        "id": "W2a0u49HmWld"
      },
      "source": [
        "add = lambda a,b : a + b\n",
        "add(2,5)"
      ],
      "execution_count": null,
      "outputs": []
    },
    {
      "cell_type": "markdown",
      "metadata": {
        "id": "V_Abk9pXoLXT"
      },
      "source": [
        "- filter()\n",
        "  - 結合lambda匿名函數過濾，是個生成器(generator)，產生的結果需用list或for迴圈顯示。\n",
        "\n",
        "    ```\n",
        "    filter(lambda parameter: expression, iterable)\n",
        "\n",
        "    ```"
      ]
    },
    {
      "cell_type": "code",
      "metadata": {
        "id": "vDzz72kinWVa"
      },
      "source": [
        "res = filter(lambda x: x>10, [9,10,11,12,13])\n",
        "\n",
        "print(res)\n",
        "print(list(res))"
      ],
      "execution_count": null,
      "outputs": []
    },
    {
      "cell_type": "markdown",
      "metadata": {
        "id": "NDu0oOQiowKr"
      },
      "source": [
        "### 函式裝飾器 Function Decorator"
      ]
    },
    {
      "cell_type": "markdown",
      "metadata": {
        "id": "iLRBEQAfo2Wt"
      },
      "source": [
        "- Python的語法糖，因為Python的函式也是物件，所以可以達成函式做為一個引數引入另一個函式，而函式裝飾器提供了簡潔的方式處裡函式的傳入。"
      ]
    },
    {
      "cell_type": "code",
      "metadata": {
        "id": "76N59Fut1N6z"
      },
      "source": [
        "def 洋蔥皮1號(arg):\n",
        "    def wrapper():\n",
        "        print(\"===洋蔥內餡開始===\")\n",
        "        arg()\n",
        "        print(\"===洋蔥內餡結束===\")\n",
        "    return wrapper\n",
        "\n",
        "@洋蔥皮1號\n",
        "def 洋蔥內餡():\n",
        "    print(\">>我是洋蔥內餡<<\")\n",
        "\n",
        "o = 洋蔥內餡()\n",
        "o"
      ],
      "execution_count": null,
      "outputs": []
    },
    {
      "cell_type": "code",
      "metadata": {
        "id": "MM9k6kzc2qTF"
      },
      "source": [
        "def 洋蔥皮1號(arg):\n",
        "    print(\"===洋蔥內餡開始====\")\n",
        "    洋蔥內餡()\n",
        "    print(\"===洋蔥內餡結束====\")\n",
        "\n",
        "def 洋蔥內餡():\n",
        "    print(\">>我是洋蔥內餡<<\")\n",
        "\n",
        "o = 洋蔥皮1號(洋蔥內餡)\n",
        "o"
      ],
      "execution_count": null,
      "outputs": []
    },
    {
      "cell_type": "code",
      "metadata": {
        "id": "iPAereSpovCz"
      },
      "source": [
        "from time import sleep\n",
        "\n",
        "def 中二裝飾器(給我函數當引數):\n",
        "  def wrapper():\n",
        "    print('幫我稱10秒!!!!!')\n",
        "    sleep(1)\n",
        "    給我函數當引數()\n",
        "    sleep(1)\n",
        "    print('歐拉歐拉歐拉歐拉歐拉')\n",
        "    sleep(1)\n",
        "    print('K.O.')\n",
        "  return wrapper"
      ],
      "execution_count": null,
      "outputs": []
    },
    {
      "cell_type": "code",
      "metadata": {
        "id": "MRpc7u7Pq_Mf"
      },
      "source": [
        "\n",
        "\n",
        "@中二裝飾器\n",
        "def 一二三():\n",
        "  print('EX嘎裡棒!!!!!')\n",
        "\n",
        "一二三()\n"
      ],
      "execution_count": null,
      "outputs": []
    },
    {
      "cell_type": "markdown",
      "metadata": {
        "id": "XdrQTDrWsmZG"
      },
      "source": [
        "#### Flask example"
      ]
    },
    {
      "cell_type": "code",
      "metadata": {
        "id": "IgS9exOhsrYL"
      },
      "source": [
        "!pip install -q flask-ngrok"
      ],
      "execution_count": null,
      "outputs": []
    },
    {
      "cell_type": "code",
      "metadata": {
        "id": "meLxPVrRsuqk"
      },
      "source": [
        "from flask import Flask\n",
        "from flask_ngrok import run_with_ngrok\n",
        "\n",
        "app = Flask(__name__)\n",
        "run_with_ngrok(app)   #starts ngrok when the app is run\n",
        "\n",
        "@app.route(\"/\")\n",
        "def home():\n",
        "  return \"<h1> Colab 顯靈啦 !</h1><img src='https://img.technews.tw/wp-content/uploads/2021/01/07174138/meme-03-e1610012503601.png' with='600' heigh='400' alt='一張圖片'>\"\n",
        "\n",
        "app.run()"
      ],
      "execution_count": null,
      "outputs": []
    },
    {
      "cell_type": "markdown",
      "metadata": {
        "id": "RwqvjRrxQaeX"
      },
      "source": [
        "## 物件導向"
      ]
    },
    {
      "cell_type": "markdown",
      "metadata": {
        "id": "ZjeX4TakCWiS"
      },
      "source": [
        "### 什麼是物件導向程式設計？"
      ]
    },
    {
      "cell_type": "markdown",
      "metadata": {
        "id": "HDO2jY8AIwcm"
      },
      "source": [
        "- 在早期程式碼撰寫，當程式越寫約多，程式碼越來越複雜，重複的程式碼一直複製貼上既浪費記憶體空間也浪費運算資源，之後就開始有「函式」(函數)的概念，將重複會運用到的程式碼」以函式包裝起來，一次撰寫可多次呼叫，此種做法可稱函式導向程式設計(functional programming,FP)[wiki](https://en.wikipedia.org/wiki/Functional_programming)。\n",
        "- 但函式多了有幾十幾百個後，實在也是不容易區分管理，為了更有系統架構，開始有個物件導向程式設計的概念，並成為現代程式語言運用的濫觴。\n",
        "\n"
      ]
    },
    {
      "cell_type": "markdown",
      "metadata": {
        "id": "yhiSon4vCsf1"
      },
      "source": [
        "\n",
        "- 物件：任何實體、事物都可以當作物件，像車子、玩具、刷子，能摸到、聽到、接觸到等\n",
        "- 物件導向：以物件的想法建構與延伸，像車子，可以輪子數量延伸三輪車、二輪車、履帶車等不同車種；可以依照用途分房車、商用車、休旅車。但你不需每次車子都重頭設計\n",
        "- 物件導向程式設計：\n",
        "   - 方便程式碼更有組織，以利重用\n",
        "   - 簡化主程式邏輯（FP也有此好處）"
      ]
    },
    {
      "cell_type": "markdown",
      "metadata": {
        "id": "b12FL81vKb-H"
      },
      "source": [
        "- Python的功能實現都基於物件，在使用模組及程式碼的易用性非常成功，但嚴格說Python並非物件導向程式語言，只是可以取OOP的精神實踐程式碼。最明顯的就是沒有真正的私有屬性，只有取其精神以底線_命名的方法當作類似私有屬性的命名方式，實際上仍可有方式呼叫。\n"
      ]
    },
    {
      "cell_type": "markdown",
      "metadata": {
        "id": "Igmzh_7vHwU6"
      },
      "source": [
        "#### 參考案例"
      ]
    },
    {
      "cell_type": "markdown",
      "metadata": {
        "id": "1awX13ZWHmQa"
      },
      "source": [
        "https://ithelp.ithome.com.tw/articles/10227231\n",
        "\n",
        "- 不使用物件導向描述一件事\n",
        "![](https://ithelp.ithome.com.tw/upload/images/20191012/20120926DofTuprV1c.png)\n",
        "\n",
        "- 使用物件導向描述一件事\n",
        "![](https://ithelp.ithome.com.tw/upload/images/20191012/201209264Bk10jRzsf.png)\n",
        "\n"
      ]
    },
    {
      "cell_type": "markdown",
      "metadata": {
        "id": "bdJohxS-F4hN"
      },
      "source": [
        "### 類別定義"
      ]
    },
    {
      "cell_type": "markdown",
      "metadata": {
        "id": "mjFXZ1y6F_qL"
      },
      "source": [
        "- 以class定義類別。\n",
        "- 類別的設定牽涉到物件導向(Object-Oriented, OO)的觀念，\b物件導向程式設計(Object-Oriented Programming, OOP)，其特色可以用鴨子型別來解釋，「當他走路像鴨子、 游泳像鴨子、叫聲像鴨子，那他就是隻鴨子」\n",
        "- 相關觀念有封裝、繼承、多型"
      ]
    },
    {
      "cell_type": "code",
      "metadata": {
        "id": "HzgCIeCN4T_k"
      },
      "source": [
        "class Person():\n",
        "    pass"
      ],
      "execution_count": null,
      "outputs": []
    },
    {
      "cell_type": "code",
      "metadata": {
        "id": "gWEt51UFSTA0"
      },
      "source": [
        "#定義一個空類別duck\n",
        "\n",
        "class Duck:\n",
        "  pass"
      ],
      "execution_count": null,
      "outputs": []
    },
    {
      "cell_type": "markdown",
      "metadata": {
        "id": "Cc-eSuo7Q1MS"
      },
      "source": [
        "- OOP如果有繼承別的物件，或稱有父類別的形況下，在定義類別時以()表示，此時不是引數的意思喔\n",
        "- 因為Python所有皆是物件object，全部的父類別皆為object，故以下表示等同上方寫法"
      ]
    },
    {
      "cell_type": "code",
      "metadata": {
        "id": "_V68ygDKPnuC"
      },
      "source": [
        "class Duck(object):\n",
        "  pass"
      ],
      "execution_count": null,
      "outputs": []
    },
    {
      "cell_type": "markdown",
      "metadata": {
        "id": "8gAaIRMYU2Lc"
      },
      "source": [
        "- 比較object及duck可使用的方法差異\n"
      ]
    },
    {
      "cell_type": "code",
      "metadata": {
        "id": "LXJBBm-QSyL5",
        "colab": {
          "base_uri": "https://localhost:8080/"
        },
        "outputId": "23f0a02e-902f-4acc-b96a-5e05a43f651c"
      },
      "source": [
        "print(dir(object))\n",
        "print(dir(Duck))\n",
        "\n",
        "#s1^s2 對稱差運算，取得 s1 與 s2 的對稱差集\n",
        "print(set(dir(object)) ^ set(dir(Duck)))"
      ],
      "execution_count": null,
      "outputs": [
        {
          "output_type": "stream",
          "name": "stdout",
          "text": [
            "['__class__', '__delattr__', '__dir__', '__doc__', '__eq__', '__format__', '__ge__', '__getattribute__', '__gt__', '__hash__', '__init__', '__init_subclass__', '__le__', '__lt__', '__ne__', '__new__', '__reduce__', '__reduce_ex__', '__repr__', '__setattr__', '__sizeof__', '__str__', '__subclasshook__']\n",
            "['__class__', '__delattr__', '__dict__', '__dir__', '__doc__', '__eq__', '__format__', '__ge__', '__getattribute__', '__gt__', '__hash__', '__init__', '__init_subclass__', '__le__', '__lt__', '__module__', '__ne__', '__new__', '__reduce__', '__reduce_ex__', '__repr__', '__setattr__', '__sizeof__', '__str__', '__subclasshook__', '__weakref__']\n",
            "{'__weakref__', '__dict__', '__module__'}\n"
          ]
        }
      ]
    },
    {
      "cell_type": "code",
      "metadata": {
        "id": "2Yvar3CgTtoN",
        "colab": {
          "base_uri": "https://localhost:8080/"
        },
        "outputId": "1f334ebf-b9f7-47d8-96ab-e7cd9359f6d4"
      },
      "source": [
        "duck實例 = Duck()\n",
        "print(duck實例)"
      ],
      "execution_count": null,
      "outputs": [
        {
          "output_type": "stream",
          "name": "stdout",
          "text": [
            "<__main__.Duck object at 0x7f3e9a66efd0>\n"
          ]
        }
      ]
    },
    {
      "cell_type": "markdown",
      "metadata": {
        "id": "ny6ijFmmPo2U"
      },
      "source": [
        "### 屬性與方法"
      ]
    },
    {
      "cell_type": "code",
      "metadata": {
        "id": "zzBXTzSJZMcl"
      },
      "source": [
        "class Duck:\n",
        "  def __init__(self, name=\"鴨子\", fly=False):\n",
        "    \"\"\"#屬性的初始值設定\"\"\"\n",
        "    self.name = name\n",
        "    self.fly = fly\n",
        "\n",
        "  def re_name(self,name):\n",
        "    self.name = name"
      ],
      "execution_count": null,
      "outputs": []
    },
    {
      "cell_type": "code",
      "metadata": {
        "id": "I-Q6vQZiQb14"
      },
      "source": [
        "duck = Duck()"
      ],
      "execution_count": null,
      "outputs": []
    },
    {
      "cell_type": "code",
      "metadata": {
        "id": "wktVsdd-QgdP",
        "colab": {
          "base_uri": "https://localhost:8080/",
          "height": 35
        },
        "outputId": "8658c310-24d6-47e4-e663-f5858e5cb5dd"
      },
      "source": [
        "duck.name"
      ],
      "execution_count": null,
      "outputs": [
        {
          "output_type": "execute_result",
          "data": {
            "text/plain": [
              "'鴨子'"
            ],
            "application/vnd.google.colaboratory.intrinsic+json": {
              "type": "string"
            }
          },
          "metadata": {},
          "execution_count": 64
        }
      ]
    },
    {
      "cell_type": "code",
      "metadata": {
        "id": "P1wxJFkbQjuW",
        "colab": {
          "base_uri": "https://localhost:8080/",
          "height": 35
        },
        "outputId": "170cebb5-2615-4897-831f-5c0257f722b6"
      },
      "source": [
        "duck.re_name(\"塞子\")\n",
        "duck.name"
      ],
      "execution_count": null,
      "outputs": [
        {
          "output_type": "execute_result",
          "data": {
            "text/plain": [
              "'塞子'"
            ],
            "application/vnd.google.colaboratory.intrinsic+json": {
              "type": "string"
            }
          },
          "metadata": {},
          "execution_count": 65
        }
      ]
    },
    {
      "cell_type": "markdown",
      "metadata": {
        "id": "nZ02V2lPnmEi"
      },
      "source": [
        "### 繼承與子類別獨特屬性"
      ]
    },
    {
      "cell_type": "markdown",
      "metadata": {
        "id": "YWXrJdLdntSf"
      },
      "source": [
        "- 物件導向以繼承(inheritance)表達上述概念。繼承建立起父子關係，子類自動具有父類的所有屬性。"
      ]
    },
    {
      "cell_type": "code",
      "metadata": {
        "id": "bjgH0h4MIsQl"
      },
      "source": [
        "class PsyDuck(Duck):\n",
        "  def __init__(self):\n",
        "    self.name = \"可達鴨\"\n",
        "    self.skills =['頭槌']\n",
        "    self.trainer_info = {}\n",
        "\n",
        "  def learn_skills(self,s):\n",
        "      self.skills.append(s)\n",
        "      return f\"學會了新技巧「{s}」 , 現在已會使用 {self.skills}\"\n",
        "\n",
        "  def set_trainer_info(self,**kv):\n",
        "    for k,v in kv.items():\n",
        "      self.trainer_info[k] = v\n",
        "    return f\" {self.name} 的訓練師資訊更新為:   {self.trainer_info}\""
      ],
      "execution_count": null,
      "outputs": []
    },
    {
      "cell_type": "code",
      "metadata": {
        "id": "u0HmIBrwJGvP",
        "colab": {
          "base_uri": "https://localhost:8080/",
          "height": 35
        },
        "outputId": "1dd8fe89-d33b-4f74-a0e8-e7c4a9cfce39"
      },
      "source": [
        "duck_1030 = PsyDuck()\n",
        "duck_1030.name"
      ],
      "execution_count": null,
      "outputs": [
        {
          "output_type": "execute_result",
          "data": {
            "text/plain": [
              "'可達鴨'"
            ],
            "application/vnd.google.colaboratory.intrinsic+json": {
              "type": "string"
            }
          },
          "metadata": {},
          "execution_count": 67
        }
      ]
    },
    {
      "cell_type": "code",
      "metadata": {
        "id": "4L4Xq01d8GjP",
        "colab": {
          "base_uri": "https://localhost:8080/"
        },
        "outputId": "6198d7a2-94f7-4398-ca7a-a0af8d882e6a"
      },
      "source": [
        "duck_1030.skills"
      ],
      "execution_count": null,
      "outputs": [
        {
          "output_type": "execute_result",
          "data": {
            "text/plain": [
              "['頭槌']"
            ]
          },
          "metadata": {},
          "execution_count": 68
        }
      ]
    },
    {
      "cell_type": "code",
      "metadata": {
        "id": "NyFEYgAKREFg",
        "colab": {
          "base_uri": "https://localhost:8080/",
          "height": 35
        },
        "outputId": "409a13ff-4d04-4248-d521-836014026d46"
      },
      "source": [
        "duck_1030.learn_skills('發呆')"
      ],
      "execution_count": null,
      "outputs": [
        {
          "output_type": "execute_result",
          "data": {
            "text/plain": [
              "\"學會了新技巧「發呆」 , 現在已會使用 ['頭槌', '發呆']\""
            ],
            "application/vnd.google.colaboratory.intrinsic+json": {
              "type": "string"
            }
          },
          "metadata": {},
          "execution_count": 69
        }
      ]
    },
    {
      "cell_type": "code",
      "metadata": {
        "id": "quIjwJXLNrXz",
        "colab": {
          "base_uri": "https://localhost:8080/",
          "height": 35
        },
        "outputId": "c00a58d7-fc9e-46d8-d0c7-dc8e884e2bce"
      },
      "source": [
        "duck_1030.set_trainer_info( 小名='小三' , 年齡=12) # {'小名':'小三' , '年齡':'12'}"
      ],
      "execution_count": null,
      "outputs": [
        {
          "output_type": "execute_result",
          "data": {
            "text/plain": [
              "\" 可達鴨 的訓練師資訊更新為:   {'小名': '小三', '年齡': 12}\""
            ],
            "application/vnd.google.colaboratory.intrinsic+json": {
              "type": "string"
            }
          },
          "metadata": {},
          "execution_count": 70
        }
      ]
    },
    {
      "cell_type": "code",
      "source": [
        "duck_1030.get_name()"
      ],
      "metadata": {
        "colab": {
          "base_uri": "https://localhost:8080/",
          "height": 167
        },
        "id": "Ifhb2aZesN34",
        "outputId": "c3b81105-1308-4ccd-bc52-51cbad374dc6"
      },
      "execution_count": null,
      "outputs": [
        {
          "output_type": "error",
          "ename": "AttributeError",
          "evalue": "ignored",
          "traceback": [
            "\u001b[0;31m---------------------------------------------------------------------------\u001b[0m",
            "\u001b[0;31mAttributeError\u001b[0m                            Traceback (most recent call last)",
            "\u001b[0;32m<ipython-input-71-1c34266657af>\u001b[0m in \u001b[0;36m<module>\u001b[0;34m\u001b[0m\n\u001b[0;32m----> 1\u001b[0;31m \u001b[0mduck_1030\u001b[0m\u001b[0;34m.\u001b[0m\u001b[0mget_name\u001b[0m\u001b[0;34m(\u001b[0m\u001b[0;34m)\u001b[0m\u001b[0;34m\u001b[0m\u001b[0;34m\u001b[0m\u001b[0m\n\u001b[0m",
            "\u001b[0;31mAttributeError\u001b[0m: 'PsyDuck' object has no attribute 'get_name'"
          ]
        }
      ]
    },
    {
      "cell_type": "markdown",
      "metadata": {
        "id": "G79TuorxzqPx"
      },
      "source": [
        "## 經典案例: 銀行帳戶"
      ]
    },
    {
      "cell_type": "code",
      "metadata": {
        "id": "bDtfFuaenoQp"
      },
      "source": [
        "class Account:\n",
        "    \"\"\"銀行帳戶\"\"\"\n",
        "    def __init__(self, number, name):\n",
        "        self.number = number\n",
        "        self.name = name\n",
        "        self.balance = 0\n",
        "    def deposit(self, amount):\n",
        "        \"\"\"存款動作: amount代表存入金額\"\"\"\n",
        "        if amount <= 0:\n",
        "            raise ValueError('必須存入正數')\n",
        "        self.balance += amount\n",
        "    def withdraw(self, amount):\n",
        "        \"\"\"取款動作: amount代表取款金額\"\"\"\n",
        "        if amount <= self.balance:\n",
        "            self.balance -= amount\n",
        "        else:\n",
        "            raise RuntimeError('餘額不足')"
      ],
      "execution_count": null,
      "outputs": []
    },
    {
      "cell_type": "code",
      "metadata": {
        "id": "H3HNH-3U96pU",
        "colab": {
          "base_uri": "https://localhost:8080/",
          "height": 167
        },
        "outputId": "c177acb0-b831-464b-ab99-17fc6a7bc7de"
      },
      "source": [
        "acct1 = Account()"
      ],
      "execution_count": null,
      "outputs": [
        {
          "output_type": "error",
          "ename": "TypeError",
          "evalue": "ignored",
          "traceback": [
            "\u001b[0;31m---------------------------------------------------------------------------\u001b[0m",
            "\u001b[0;31mTypeError\u001b[0m                                 Traceback (most recent call last)",
            "\u001b[0;32m<ipython-input-82-361a9972df7c>\u001b[0m in \u001b[0;36m<module>\u001b[0;34m\u001b[0m\n\u001b[0;32m----> 1\u001b[0;31m \u001b[0macct1\u001b[0m \u001b[0;34m=\u001b[0m \u001b[0mAccount\u001b[0m\u001b[0;34m(\u001b[0m\u001b[0;34m)\u001b[0m\u001b[0;34m\u001b[0m\u001b[0;34m\u001b[0m\u001b[0m\n\u001b[0m",
            "\u001b[0;31mTypeError\u001b[0m: __init__() missing 2 required positional arguments: 'number' and 'name'"
          ]
        }
      ]
    },
    {
      "cell_type": "code",
      "metadata": {
        "id": "_WOMpk3x-HIj"
      },
      "source": [
        "acct1 = Account('123–456–789', 'Justin') #開一個帳戶"
      ],
      "execution_count": null,
      "outputs": []
    },
    {
      "cell_type": "code",
      "source": [
        "acct1.balance"
      ],
      "metadata": {
        "colab": {
          "base_uri": "https://localhost:8080/"
        },
        "id": "V5UXmOSltI1C",
        "outputId": "1257c29f-e629-44c8-d091-76721762586f"
      },
      "execution_count": null,
      "outputs": [
        {
          "output_type": "execute_result",
          "data": {
            "text/plain": [
              "0"
            ]
          },
          "metadata": {},
          "execution_count": 84
        }
      ]
    },
    {
      "cell_type": "code",
      "source": [
        "acct1.deposit(10000)\n",
        "print(acct1.balance)"
      ],
      "metadata": {
        "colab": {
          "base_uri": "https://localhost:8080/"
        },
        "id": "a87_OBD8j_Ta",
        "outputId": "fb081eb2-6729-40c1-9c40-202e805db9af"
      },
      "execution_count": null,
      "outputs": [
        {
          "output_type": "stream",
          "name": "stdout",
          "text": [
            "10000\n"
          ]
        }
      ]
    },
    {
      "cell_type": "code",
      "source": [
        "acct1.withdraw(3000)\n",
        "print(acct1.balance)"
      ],
      "metadata": {
        "colab": {
          "base_uri": "https://localhost:8080/",
          "height": 271
        },
        "id": "35b2uEl7j7OI",
        "outputId": "ece48bf3-e1b4-48d0-aa9a-571616abc54b"
      },
      "execution_count": null,
      "outputs": [
        {
          "output_type": "error",
          "ename": "RuntimeError",
          "evalue": "ignored",
          "traceback": [
            "\u001b[0;31m---------------------------------------------------------------------------\u001b[0m",
            "\u001b[0;31mRuntimeError\u001b[0m                              Traceback (most recent call last)",
            "\u001b[0;32m<ipython-input-89-e3056769ff76>\u001b[0m in \u001b[0;36m<module>\u001b[0;34m\u001b[0m\n\u001b[0;32m----> 1\u001b[0;31m \u001b[0macct1\u001b[0m\u001b[0;34m.\u001b[0m\u001b[0mwithdraw\u001b[0m\u001b[0;34m(\u001b[0m\u001b[0;36m3000\u001b[0m\u001b[0;34m)\u001b[0m\u001b[0;34m\u001b[0m\u001b[0;34m\u001b[0m\u001b[0m\n\u001b[0m\u001b[1;32m      2\u001b[0m \u001b[0mprint\u001b[0m\u001b[0;34m(\u001b[0m\u001b[0macct1\u001b[0m\u001b[0;34m.\u001b[0m\u001b[0mbalance\u001b[0m\u001b[0;34m)\u001b[0m\u001b[0;34m\u001b[0m\u001b[0;34m\u001b[0m\u001b[0m\n",
            "\u001b[0;32m<ipython-input-81-6d2d19e47c97>\u001b[0m in \u001b[0;36mwithdraw\u001b[0;34m(self, amount)\u001b[0m\n\u001b[1;32m     15\u001b[0m             \u001b[0mself\u001b[0m\u001b[0;34m.\u001b[0m\u001b[0mbalance\u001b[0m \u001b[0;34m-=\u001b[0m \u001b[0mamount\u001b[0m\u001b[0;34m\u001b[0m\u001b[0;34m\u001b[0m\u001b[0m\n\u001b[1;32m     16\u001b[0m         \u001b[0;32melse\u001b[0m\u001b[0;34m:\u001b[0m\u001b[0;34m\u001b[0m\u001b[0;34m\u001b[0m\u001b[0m\n\u001b[0;32m---> 17\u001b[0;31m             \u001b[0;32mraise\u001b[0m \u001b[0mRuntimeError\u001b[0m\u001b[0;34m(\u001b[0m\u001b[0;34m'餘額不足'\u001b[0m\u001b[0;34m)\u001b[0m\u001b[0;34m\u001b[0m\u001b[0;34m\u001b[0m\u001b[0m\n\u001b[0m",
            "\u001b[0;31mRuntimeError\u001b[0m: 餘額不足"
          ]
        }
      ]
    },
    {
      "cell_type": "code",
      "metadata": {
        "id": "lUo_Gmxgn0O1",
        "colab": {
          "base_uri": "https://localhost:8080/"
        },
        "outputId": "4a508a88-25ed-412e-aa37-cb3cf23bc90f"
      },
      "source": [
        "acct2 = Account('123–456–789', 'Justin') #開一個帳戶\n",
        "acct2.deposit(100)\n",
        "acct2.withdraw(30)\n",
        "print(acct2.balance) #餘額是 70"
      ],
      "execution_count": null,
      "outputs": [
        {
          "output_type": "stream",
          "name": "stdout",
          "text": [
            "70\n"
          ]
        }
      ]
    },
    {
      "cell_type": "code",
      "metadata": {
        "id": "PTY6modG-yCk"
      },
      "source": [
        "acct1.skill = \"我是一個多餘的技能\""
      ],
      "execution_count": null,
      "outputs": []
    },
    {
      "cell_type": "code",
      "metadata": {
        "id": "qQUyvOi-_Arj",
        "colab": {
          "base_uri": "https://localhost:8080/",
          "height": 35
        },
        "outputId": "0795a52e-827c-4e61-ad1d-72cb548f34fc"
      },
      "source": [
        "acct1.skill"
      ],
      "execution_count": null,
      "outputs": [
        {
          "output_type": "execute_result",
          "data": {
            "text/plain": [
              "'我是一個多餘的技能'"
            ],
            "application/vnd.google.colaboratory.intrinsic+json": {
              "type": "string"
            }
          },
          "metadata": {},
          "execution_count": 94
        }
      ]
    },
    {
      "cell_type": "markdown",
      "metadata": {
        "id": "xLpUDsCtIXoG"
      },
      "source": [
        "### 封裝\n",
        "- 以私有變數讓使用者難以任意取用。\n",
        "- 但仍有方法可以使用，仍有風險!"
      ]
    },
    {
      "cell_type": "code",
      "metadata": {
        "id": "-nPQ_O_5IstM"
      },
      "source": [
        "class Account:\n",
        "    \"銀行帳戶\"\n",
        "    def __init__(self, user_number, user_name):\n",
        "        \"\"\"初始化帳戶建構方法\"\"\"\n",
        "        self.__number = user_number\n",
        "        self.__name = user_name\n",
        "        self.__balance = 0\n",
        "    def deposit(self, amount):\n",
        "        \"\"\"存款動作: amount代表存入金額\"\"\"\n",
        "        if amount <= 0:\n",
        "            raise ValueError('必須存入正數')\n",
        "        self.__balance += amount\n",
        "    def withdraw(self, amount):\n",
        "        \"\"\"取款動作: amount代表取款金額\"\"\"\n",
        "        if amount <= self.__balance:\n",
        "            self.__balance -= amount\n",
        "        else:\n",
        "            raise RuntimeError('餘額不足')\n",
        "    def get_balance(self):\n",
        "        \"\"\"顯示存款餘額\"\"\"\n",
        "        print(f\"存款餘額為{self.__balance}元\")\n"
      ],
      "execution_count": null,
      "outputs": []
    },
    {
      "cell_type": "code",
      "metadata": {
        "id": "mh23yGHUKYYi"
      },
      "source": [
        "acct3 = Account('123–456–789', 'Jobs')\n",
        "acct3.deposit(100)\n",
        "acct3.withdraw(30)\n",
        "\n"
      ],
      "execution_count": null,
      "outputs": []
    },
    {
      "cell_type": "code",
      "source": [
        "acct3.__balance #私有屬性可以呼叫嗎?"
      ],
      "metadata": {
        "colab": {
          "base_uri": "https://localhost:8080/",
          "height": 167
        },
        "id": "qeHtYhbDug3z",
        "outputId": "27d34bd0-6fab-46e8-ff25-2f1b70ad25c9"
      },
      "execution_count": null,
      "outputs": [
        {
          "output_type": "error",
          "ename": "AttributeError",
          "evalue": "ignored",
          "traceback": [
            "\u001b[0;31m---------------------------------------------------------------------------\u001b[0m",
            "\u001b[0;31mAttributeError\u001b[0m                            Traceback (most recent call last)",
            "\u001b[0;32m<ipython-input-98-ab9183ffca9e>\u001b[0m in \u001b[0;36m<module>\u001b[0;34m\u001b[0m\n\u001b[0;32m----> 1\u001b[0;31m \u001b[0macct3\u001b[0m\u001b[0;34m.\u001b[0m\u001b[0m__balance\u001b[0m \u001b[0;31m#私有屬性可以呼叫嗎?\u001b[0m\u001b[0;34m\u001b[0m\u001b[0;34m\u001b[0m\u001b[0m\n\u001b[0m",
            "\u001b[0;31mAttributeError\u001b[0m: 'Account' object has no attribute '__balance'"
          ]
        }
      ]
    },
    {
      "cell_type": "code",
      "metadata": {
        "id": "2NDAfwwKLu4G",
        "colab": {
          "base_uri": "https://localhost:8080/"
        },
        "outputId": "ffb53d9c-8e11-4dde-a970-56bc34b1806a"
      },
      "source": [
        "acct3.get_balance()"
      ],
      "execution_count": null,
      "outputs": [
        {
          "output_type": "stream",
          "name": "stdout",
          "text": [
            "存款餘額為70元\n"
          ]
        }
      ]
    },
    {
      "cell_type": "code",
      "metadata": {
        "id": "bjffqMoqKcAE",
        "colab": {
          "base_uri": "https://localhost:8080/"
        },
        "outputId": "0a871714-2bd8-4a03-9e0d-9b0991246c88"
      },
      "source": [
        "# 私有屬性/方法還是可以被使用!!\n",
        "\n",
        "acct3._Account__balance=50000000000000000000000000000000000000000000\n",
        "acct3.get_balance()"
      ],
      "execution_count": null,
      "outputs": [
        {
          "output_type": "stream",
          "name": "stdout",
          "text": [
            "存款餘額為50000000000000000000000000000000000000000000元\n"
          ]
        }
      ]
    }
  ]
}