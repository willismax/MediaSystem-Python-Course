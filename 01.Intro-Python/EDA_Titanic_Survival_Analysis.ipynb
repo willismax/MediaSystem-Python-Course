{
  "cells": [
    {
      "cell_type": "markdown",
      "metadata": {
        "id": "view-in-github",
        "colab_type": "text"
      },
      "source": [
        "<a href=\"https://colab.research.google.com/github/willismax/MediaSystem-Python-Course/blob/main/01.Intro-Python/EDA_Titanic_Survival_Analysis.ipynb\" target=\"_parent\"><img src=\"https://colab.research.google.com/assets/colab-badge.svg\" alt=\"Open In Colab\"/></a>"
      ]
    },
    {
      "cell_type": "markdown",
      "metadata": {
        "id": "kG97xVEF3fX0"
      },
      "source": [
        "# 探索性資料分析 (EDA) 簡介\n",
        "探索性資料分析（Exploratory Data Analysis, EDA）是一種初步分析資料的過程，目的是理解資料的基本特徵、結構、關係和分佈情況。EDA通常通過可視化圖表和統計摘要來幫助分析師發現資料中的模式、異常值和關鍵變數，為後續的資料建模和決策提供基礎。\n"
      ]
    },
    {
      "cell_type": "markdown",
      "metadata": {
        "id": "lVnPrEuX3fX4"
      },
      "source": [
        "## 為什麼需要進行EDA？\n",
        "1. **理解資料**：熟悉資料的各種屬性及其分佈情況。\n",
        "2. **發現異常**：識別資料中的異常值和錯誤。\n",
        "3. **發現模式**：識別資料中的趨勢、相關性和重要變數。\n",
        "4. **數據清理**：決定如何處理缺失值和異常值。\n",
        "5. **指導模型構建**：選擇合適的特徵和模型。\n"
      ]
    },
    {
      "cell_type": "markdown",
      "metadata": {
        "id": "DWCiyDgl3fX5"
      },
      "source": [
        "## EDA的基本步驟\n",
        "1. **數據讀取與基本檢視**\n",
        "    - 讀取數據集\n",
        "    - 檢視數據結構、類型和簡單統計量\n",
        "2. **數據清理**\n",
        "    - 處理缺失值\n",
        "    - 處理異常值\n",
        "    - 數據轉換\n",
        "3. **數據可視化**\n",
        "    - 單變數分析（直方圖、箱形圖等）\n",
        "    - 雙變數分析（散佈圖、相關矩陣等）\n",
        "    - 多變數分析（熱力圖、對角線圖等）\n",
        "4. **特徵工程**\n",
        "    - 創建新特徵\n",
        "    - 特徵選擇與降維\n"
      ]
    },
    {
      "cell_type": "markdown",
      "metadata": {
        "id": "QC09Y7Uv3fX5"
      },
      "source": [
        "## EDA案例：鐵達尼號生存分析\n",
        "在這個案例中，我們將對鐵達尼號的乘客數據進行探索性資料分析。通過這個分析，我們將逐步了解數據的基本特徵、發現數據中的重要趨勢和異常情況，並為後續的分析和模型建構提供基礎。\n"
      ]
    },
    {
      "cell_type": "code",
      "source": [
        "!curl -o titanic.csv https://raw.githubusercontent.com/datasciencedojo/datasets/master/titanic.csv"
      ],
      "metadata": {
        "colab": {
          "base_uri": "https://localhost:8080/"
        },
        "id": "PpXjVX1y4aH3",
        "outputId": "5c2830cd-e124-462a-e8d8-5148c1a7b15f"
      },
      "execution_count": 1,
      "outputs": [
        {
          "output_type": "stream",
          "name": "stdout",
          "text": [
            "  % Total    % Received % Xferd  Average Speed   Time    Time     Time  Current\n",
            "                                 Dload  Upload   Total   Spent    Left  Speed\n",
            "\r  0     0    0     0    0     0      0      0 --:--:-- --:--:-- --:--:--     0\r100 60302  100 60302    0     0   221k      0 --:--:-- --:--:-- --:--:--  222k\n"
          ]
        }
      ]
    },
    {
      "cell_type": "code",
      "execution_count": 2,
      "metadata": {
        "id": "RX0aZUdn3fX6"
      },
      "outputs": [],
      "source": [
        "# 步驟一：數據讀取與基本檢視\n",
        "import pandas as pd\n",
        "\n",
        "# 讀取鐵達尼號數據\n",
        "data = pd.read_csv('titanic.csv')"
      ]
    },
    {
      "cell_type": "code",
      "source": [
        "# 檢視數據結構\n",
        "data.info()"
      ],
      "metadata": {
        "colab": {
          "base_uri": "https://localhost:8080/"
        },
        "id": "f4bL6_-p5MVI",
        "outputId": "09a59e1a-bfbc-4a24-ca02-c9507b76d035"
      },
      "execution_count": 3,
      "outputs": [
        {
          "output_type": "stream",
          "name": "stdout",
          "text": [
            "<class 'pandas.core.frame.DataFrame'>\n",
            "RangeIndex: 891 entries, 0 to 890\n",
            "Data columns (total 12 columns):\n",
            " #   Column       Non-Null Count  Dtype  \n",
            "---  ------       --------------  -----  \n",
            " 0   PassengerId  891 non-null    int64  \n",
            " 1   Survived     891 non-null    int64  \n",
            " 2   Pclass       891 non-null    int64  \n",
            " 3   Name         891 non-null    object \n",
            " 4   Sex          891 non-null    object \n",
            " 5   Age          714 non-null    float64\n",
            " 6   SibSp        891 non-null    int64  \n",
            " 7   Parch        891 non-null    int64  \n",
            " 8   Ticket       891 non-null    object \n",
            " 9   Fare         891 non-null    float64\n",
            " 10  Cabin        204 non-null    object \n",
            " 11  Embarked     889 non-null    object \n",
            "dtypes: float64(2), int64(5), object(5)\n",
            "memory usage: 83.7+ KB\n"
          ]
        }
      ]
    },
    {
      "cell_type": "markdown",
      "source": [
        "- PassengerId：乘客編號，獨特識別每一位乘客。\n",
        "- Survived：是否生還，1 表示生還，0 表示未生還。\n",
        "- Pclass：乘客艙等，1 表示頭等艙，2 表示二等艙，3 表示三等艙。\n",
        "- Name：乘客姓名。\n",
        "- Sex：乘客性別。\n",
        "- Age：乘客年齡。\n",
        "- SibSp：乘客在船上的兄弟姐妹和配偶數量。\n",
        "- Parch：乘客在船上的父母及子女人數。\n",
        "- Ticket：船票號碼。\n",
        "- Fare：船票費用。\n",
        "- Cabin：客艙號碼。\n",
        "- Embarked：登船港口，C 表示Cherbourg，Q 表示Queenstown，S 表示Southampton。\n"
      ],
      "metadata": {
        "id": "u9GLmBURyUa3"
      }
    },
    {
      "cell_type": "code",
      "source": [
        "data.head()"
      ],
      "metadata": {
        "colab": {
          "base_uri": "https://localhost:8080/",
          "height": 206
        },
        "id": "p5VKchCI5QTq",
        "outputId": "5379034e-c4e2-43dc-8ac3-e5b4be009136"
      },
      "execution_count": 4,
      "outputs": [
        {
          "output_type": "execute_result",
          "data": {
            "text/plain": [
              "   PassengerId  Survived  Pclass  \\\n",
              "0            1         0       3   \n",
              "1            2         1       1   \n",
              "2            3         1       3   \n",
              "3            4         1       1   \n",
              "4            5         0       3   \n",
              "\n",
              "                                                Name     Sex   Age  SibSp  \\\n",
              "0                            Braund, Mr. Owen Harris    male  22.0      1   \n",
              "1  Cumings, Mrs. John Bradley (Florence Briggs Th...  female  38.0      1   \n",
              "2                             Heikkinen, Miss. Laina  female  26.0      0   \n",
              "3       Futrelle, Mrs. Jacques Heath (Lily May Peel)  female  35.0      1   \n",
              "4                           Allen, Mr. William Henry    male  35.0      0   \n",
              "\n",
              "   Parch            Ticket     Fare Cabin Embarked  \n",
              "0      0         A/5 21171   7.2500   NaN        S  \n",
              "1      0          PC 17599  71.2833   C85        C  \n",
              "2      0  STON/O2. 3101282   7.9250   NaN        S  \n",
              "3      0            113803  53.1000  C123        S  \n",
              "4      0            373450   8.0500   NaN        S  "
            ],
            "text/html": [
              "\n",
              "  <div id=\"df-4f68d006-f7a6-48ab-ac78-fae9dff2b975\" class=\"colab-df-container\">\n",
              "    <div>\n",
              "<style scoped>\n",
              "    .dataframe tbody tr th:only-of-type {\n",
              "        vertical-align: middle;\n",
              "    }\n",
              "\n",
              "    .dataframe tbody tr th {\n",
              "        vertical-align: top;\n",
              "    }\n",
              "\n",
              "    .dataframe thead th {\n",
              "        text-align: right;\n",
              "    }\n",
              "</style>\n",
              "<table border=\"1\" class=\"dataframe\">\n",
              "  <thead>\n",
              "    <tr style=\"text-align: right;\">\n",
              "      <th></th>\n",
              "      <th>PassengerId</th>\n",
              "      <th>Survived</th>\n",
              "      <th>Pclass</th>\n",
              "      <th>Name</th>\n",
              "      <th>Sex</th>\n",
              "      <th>Age</th>\n",
              "      <th>SibSp</th>\n",
              "      <th>Parch</th>\n",
              "      <th>Ticket</th>\n",
              "      <th>Fare</th>\n",
              "      <th>Cabin</th>\n",
              "      <th>Embarked</th>\n",
              "    </tr>\n",
              "  </thead>\n",
              "  <tbody>\n",
              "    <tr>\n",
              "      <th>0</th>\n",
              "      <td>1</td>\n",
              "      <td>0</td>\n",
              "      <td>3</td>\n",
              "      <td>Braund, Mr. Owen Harris</td>\n",
              "      <td>male</td>\n",
              "      <td>22.0</td>\n",
              "      <td>1</td>\n",
              "      <td>0</td>\n",
              "      <td>A/5 21171</td>\n",
              "      <td>7.2500</td>\n",
              "      <td>NaN</td>\n",
              "      <td>S</td>\n",
              "    </tr>\n",
              "    <tr>\n",
              "      <th>1</th>\n",
              "      <td>2</td>\n",
              "      <td>1</td>\n",
              "      <td>1</td>\n",
              "      <td>Cumings, Mrs. John Bradley (Florence Briggs Th...</td>\n",
              "      <td>female</td>\n",
              "      <td>38.0</td>\n",
              "      <td>1</td>\n",
              "      <td>0</td>\n",
              "      <td>PC 17599</td>\n",
              "      <td>71.2833</td>\n",
              "      <td>C85</td>\n",
              "      <td>C</td>\n",
              "    </tr>\n",
              "    <tr>\n",
              "      <th>2</th>\n",
              "      <td>3</td>\n",
              "      <td>1</td>\n",
              "      <td>3</td>\n",
              "      <td>Heikkinen, Miss. Laina</td>\n",
              "      <td>female</td>\n",
              "      <td>26.0</td>\n",
              "      <td>0</td>\n",
              "      <td>0</td>\n",
              "      <td>STON/O2. 3101282</td>\n",
              "      <td>7.9250</td>\n",
              "      <td>NaN</td>\n",
              "      <td>S</td>\n",
              "    </tr>\n",
              "    <tr>\n",
              "      <th>3</th>\n",
              "      <td>4</td>\n",
              "      <td>1</td>\n",
              "      <td>1</td>\n",
              "      <td>Futrelle, Mrs. Jacques Heath (Lily May Peel)</td>\n",
              "      <td>female</td>\n",
              "      <td>35.0</td>\n",
              "      <td>1</td>\n",
              "      <td>0</td>\n",
              "      <td>113803</td>\n",
              "      <td>53.1000</td>\n",
              "      <td>C123</td>\n",
              "      <td>S</td>\n",
              "    </tr>\n",
              "    <tr>\n",
              "      <th>4</th>\n",
              "      <td>5</td>\n",
              "      <td>0</td>\n",
              "      <td>3</td>\n",
              "      <td>Allen, Mr. William Henry</td>\n",
              "      <td>male</td>\n",
              "      <td>35.0</td>\n",
              "      <td>0</td>\n",
              "      <td>0</td>\n",
              "      <td>373450</td>\n",
              "      <td>8.0500</td>\n",
              "      <td>NaN</td>\n",
              "      <td>S</td>\n",
              "    </tr>\n",
              "  </tbody>\n",
              "</table>\n",
              "</div>\n",
              "    <div class=\"colab-df-buttons\">\n",
              "\n",
              "  <div class=\"colab-df-container\">\n",
              "    <button class=\"colab-df-convert\" onclick=\"convertToInteractive('df-4f68d006-f7a6-48ab-ac78-fae9dff2b975')\"\n",
              "            title=\"Convert this dataframe to an interactive table.\"\n",
              "            style=\"display:none;\">\n",
              "\n",
              "  <svg xmlns=\"http://www.w3.org/2000/svg\" height=\"24px\" viewBox=\"0 -960 960 960\">\n",
              "    <path d=\"M120-120v-720h720v720H120Zm60-500h600v-160H180v160Zm220 220h160v-160H400v160Zm0 220h160v-160H400v160ZM180-400h160v-160H180v160Zm440 0h160v-160H620v160ZM180-180h160v-160H180v160Zm440 0h160v-160H620v160Z\"/>\n",
              "  </svg>\n",
              "    </button>\n",
              "\n",
              "  <style>\n",
              "    .colab-df-container {\n",
              "      display:flex;\n",
              "      gap: 12px;\n",
              "    }\n",
              "\n",
              "    .colab-df-convert {\n",
              "      background-color: #E8F0FE;\n",
              "      border: none;\n",
              "      border-radius: 50%;\n",
              "      cursor: pointer;\n",
              "      display: none;\n",
              "      fill: #1967D2;\n",
              "      height: 32px;\n",
              "      padding: 0 0 0 0;\n",
              "      width: 32px;\n",
              "    }\n",
              "\n",
              "    .colab-df-convert:hover {\n",
              "      background-color: #E2EBFA;\n",
              "      box-shadow: 0px 1px 2px rgba(60, 64, 67, 0.3), 0px 1px 3px 1px rgba(60, 64, 67, 0.15);\n",
              "      fill: #174EA6;\n",
              "    }\n",
              "\n",
              "    .colab-df-buttons div {\n",
              "      margin-bottom: 4px;\n",
              "    }\n",
              "\n",
              "    [theme=dark] .colab-df-convert {\n",
              "      background-color: #3B4455;\n",
              "      fill: #D2E3FC;\n",
              "    }\n",
              "\n",
              "    [theme=dark] .colab-df-convert:hover {\n",
              "      background-color: #434B5C;\n",
              "      box-shadow: 0px 1px 3px 1px rgba(0, 0, 0, 0.15);\n",
              "      filter: drop-shadow(0px 1px 2px rgba(0, 0, 0, 0.3));\n",
              "      fill: #FFFFFF;\n",
              "    }\n",
              "  </style>\n",
              "\n",
              "    <script>\n",
              "      const buttonEl =\n",
              "        document.querySelector('#df-4f68d006-f7a6-48ab-ac78-fae9dff2b975 button.colab-df-convert');\n",
              "      buttonEl.style.display =\n",
              "        google.colab.kernel.accessAllowed ? 'block' : 'none';\n",
              "\n",
              "      async function convertToInteractive(key) {\n",
              "        const element = document.querySelector('#df-4f68d006-f7a6-48ab-ac78-fae9dff2b975');\n",
              "        const dataTable =\n",
              "          await google.colab.kernel.invokeFunction('convertToInteractive',\n",
              "                                                    [key], {});\n",
              "        if (!dataTable) return;\n",
              "\n",
              "        const docLinkHtml = 'Like what you see? Visit the ' +\n",
              "          '<a target=\"_blank\" href=https://colab.research.google.com/notebooks/data_table.ipynb>data table notebook</a>'\n",
              "          + ' to learn more about interactive tables.';\n",
              "        element.innerHTML = '';\n",
              "        dataTable['output_type'] = 'display_data';\n",
              "        await google.colab.output.renderOutput(dataTable, element);\n",
              "        const docLink = document.createElement('div');\n",
              "        docLink.innerHTML = docLinkHtml;\n",
              "        element.appendChild(docLink);\n",
              "      }\n",
              "    </script>\n",
              "  </div>\n",
              "\n",
              "\n",
              "    <div id=\"df-db8cb389-242c-475c-990a-806dab994ff7\">\n",
              "      <button class=\"colab-df-quickchart\" onclick=\"quickchart('df-db8cb389-242c-475c-990a-806dab994ff7')\"\n",
              "                title=\"Suggest charts\"\n",
              "                style=\"display:none;\">\n",
              "\n",
              "<svg xmlns=\"http://www.w3.org/2000/svg\" height=\"24px\"viewBox=\"0 0 24 24\"\n",
              "     width=\"24px\">\n",
              "    <g>\n",
              "        <path d=\"M19 3H5c-1.1 0-2 .9-2 2v14c0 1.1.9 2 2 2h14c1.1 0 2-.9 2-2V5c0-1.1-.9-2-2-2zM9 17H7v-7h2v7zm4 0h-2V7h2v10zm4 0h-2v-4h2v4z\"/>\n",
              "    </g>\n",
              "</svg>\n",
              "      </button>\n",
              "\n",
              "<style>\n",
              "  .colab-df-quickchart {\n",
              "      --bg-color: #E8F0FE;\n",
              "      --fill-color: #1967D2;\n",
              "      --hover-bg-color: #E2EBFA;\n",
              "      --hover-fill-color: #174EA6;\n",
              "      --disabled-fill-color: #AAA;\n",
              "      --disabled-bg-color: #DDD;\n",
              "  }\n",
              "\n",
              "  [theme=dark] .colab-df-quickchart {\n",
              "      --bg-color: #3B4455;\n",
              "      --fill-color: #D2E3FC;\n",
              "      --hover-bg-color: #434B5C;\n",
              "      --hover-fill-color: #FFFFFF;\n",
              "      --disabled-bg-color: #3B4455;\n",
              "      --disabled-fill-color: #666;\n",
              "  }\n",
              "\n",
              "  .colab-df-quickchart {\n",
              "    background-color: var(--bg-color);\n",
              "    border: none;\n",
              "    border-radius: 50%;\n",
              "    cursor: pointer;\n",
              "    display: none;\n",
              "    fill: var(--fill-color);\n",
              "    height: 32px;\n",
              "    padding: 0;\n",
              "    width: 32px;\n",
              "  }\n",
              "\n",
              "  .colab-df-quickchart:hover {\n",
              "    background-color: var(--hover-bg-color);\n",
              "    box-shadow: 0 1px 2px rgba(60, 64, 67, 0.3), 0 1px 3px 1px rgba(60, 64, 67, 0.15);\n",
              "    fill: var(--button-hover-fill-color);\n",
              "  }\n",
              "\n",
              "  .colab-df-quickchart-complete:disabled,\n",
              "  .colab-df-quickchart-complete:disabled:hover {\n",
              "    background-color: var(--disabled-bg-color);\n",
              "    fill: var(--disabled-fill-color);\n",
              "    box-shadow: none;\n",
              "  }\n",
              "\n",
              "  .colab-df-spinner {\n",
              "    border: 2px solid var(--fill-color);\n",
              "    border-color: transparent;\n",
              "    border-bottom-color: var(--fill-color);\n",
              "    animation:\n",
              "      spin 1s steps(1) infinite;\n",
              "  }\n",
              "\n",
              "  @keyframes spin {\n",
              "    0% {\n",
              "      border-color: transparent;\n",
              "      border-bottom-color: var(--fill-color);\n",
              "      border-left-color: var(--fill-color);\n",
              "    }\n",
              "    20% {\n",
              "      border-color: transparent;\n",
              "      border-left-color: var(--fill-color);\n",
              "      border-top-color: var(--fill-color);\n",
              "    }\n",
              "    30% {\n",
              "      border-color: transparent;\n",
              "      border-left-color: var(--fill-color);\n",
              "      border-top-color: var(--fill-color);\n",
              "      border-right-color: var(--fill-color);\n",
              "    }\n",
              "    40% {\n",
              "      border-color: transparent;\n",
              "      border-right-color: var(--fill-color);\n",
              "      border-top-color: var(--fill-color);\n",
              "    }\n",
              "    60% {\n",
              "      border-color: transparent;\n",
              "      border-right-color: var(--fill-color);\n",
              "    }\n",
              "    80% {\n",
              "      border-color: transparent;\n",
              "      border-right-color: var(--fill-color);\n",
              "      border-bottom-color: var(--fill-color);\n",
              "    }\n",
              "    90% {\n",
              "      border-color: transparent;\n",
              "      border-bottom-color: var(--fill-color);\n",
              "    }\n",
              "  }\n",
              "</style>\n",
              "\n",
              "      <script>\n",
              "        async function quickchart(key) {\n",
              "          const quickchartButtonEl =\n",
              "            document.querySelector('#' + key + ' button');\n",
              "          quickchartButtonEl.disabled = true;  // To prevent multiple clicks.\n",
              "          quickchartButtonEl.classList.add('colab-df-spinner');\n",
              "          try {\n",
              "            const charts = await google.colab.kernel.invokeFunction(\n",
              "                'suggestCharts', [key], {});\n",
              "          } catch (error) {\n",
              "            console.error('Error during call to suggestCharts:', error);\n",
              "          }\n",
              "          quickchartButtonEl.classList.remove('colab-df-spinner');\n",
              "          quickchartButtonEl.classList.add('colab-df-quickchart-complete');\n",
              "        }\n",
              "        (() => {\n",
              "          let quickchartButtonEl =\n",
              "            document.querySelector('#df-db8cb389-242c-475c-990a-806dab994ff7 button');\n",
              "          quickchartButtonEl.style.display =\n",
              "            google.colab.kernel.accessAllowed ? 'block' : 'none';\n",
              "        })();\n",
              "      </script>\n",
              "    </div>\n",
              "\n",
              "    </div>\n",
              "  </div>\n"
            ],
            "application/vnd.google.colaboratory.intrinsic+json": {
              "type": "dataframe",
              "variable_name": "data",
              "summary": "{\n  \"name\": \"data\",\n  \"rows\": 891,\n  \"fields\": [\n    {\n      \"column\": \"PassengerId\",\n      \"properties\": {\n        \"dtype\": \"number\",\n        \"std\": 257,\n        \"min\": 1,\n        \"max\": 891,\n        \"num_unique_values\": 891,\n        \"samples\": [\n          710,\n          440,\n          841\n        ],\n        \"semantic_type\": \"\",\n        \"description\": \"\"\n      }\n    },\n    {\n      \"column\": \"Survived\",\n      \"properties\": {\n        \"dtype\": \"number\",\n        \"std\": 0,\n        \"min\": 0,\n        \"max\": 1,\n        \"num_unique_values\": 2,\n        \"samples\": [\n          1,\n          0\n        ],\n        \"semantic_type\": \"\",\n        \"description\": \"\"\n      }\n    },\n    {\n      \"column\": \"Pclass\",\n      \"properties\": {\n        \"dtype\": \"number\",\n        \"std\": 0,\n        \"min\": 1,\n        \"max\": 3,\n        \"num_unique_values\": 3,\n        \"samples\": [\n          3,\n          1\n        ],\n        \"semantic_type\": \"\",\n        \"description\": \"\"\n      }\n    },\n    {\n      \"column\": \"Name\",\n      \"properties\": {\n        \"dtype\": \"string\",\n        \"num_unique_values\": 891,\n        \"samples\": [\n          \"Moubarek, Master. Halim Gonios (\\\"William George\\\")\",\n          \"Kvillner, Mr. Johan Henrik Johannesson\"\n        ],\n        \"semantic_type\": \"\",\n        \"description\": \"\"\n      }\n    },\n    {\n      \"column\": \"Sex\",\n      \"properties\": {\n        \"dtype\": \"category\",\n        \"num_unique_values\": 2,\n        \"samples\": [\n          \"female\",\n          \"male\"\n        ],\n        \"semantic_type\": \"\",\n        \"description\": \"\"\n      }\n    },\n    {\n      \"column\": \"Age\",\n      \"properties\": {\n        \"dtype\": \"number\",\n        \"std\": 14.526497332334044,\n        \"min\": 0.42,\n        \"max\": 80.0,\n        \"num_unique_values\": 88,\n        \"samples\": [\n          0.75,\n          22.0\n        ],\n        \"semantic_type\": \"\",\n        \"description\": \"\"\n      }\n    },\n    {\n      \"column\": \"SibSp\",\n      \"properties\": {\n        \"dtype\": \"number\",\n        \"std\": 1,\n        \"min\": 0,\n        \"max\": 8,\n        \"num_unique_values\": 7,\n        \"samples\": [\n          1,\n          0\n        ],\n        \"semantic_type\": \"\",\n        \"description\": \"\"\n      }\n    },\n    {\n      \"column\": \"Parch\",\n      \"properties\": {\n        \"dtype\": \"number\",\n        \"std\": 0,\n        \"min\": 0,\n        \"max\": 6,\n        \"num_unique_values\": 7,\n        \"samples\": [\n          0,\n          1\n        ],\n        \"semantic_type\": \"\",\n        \"description\": \"\"\n      }\n    },\n    {\n      \"column\": \"Ticket\",\n      \"properties\": {\n        \"dtype\": \"string\",\n        \"num_unique_values\": 681,\n        \"samples\": [\n          \"11774\",\n          \"248740\"\n        ],\n        \"semantic_type\": \"\",\n        \"description\": \"\"\n      }\n    },\n    {\n      \"column\": \"Fare\",\n      \"properties\": {\n        \"dtype\": \"number\",\n        \"std\": 49.693428597180905,\n        \"min\": 0.0,\n        \"max\": 512.3292,\n        \"num_unique_values\": 248,\n        \"samples\": [\n          11.2417,\n          51.8625\n        ],\n        \"semantic_type\": \"\",\n        \"description\": \"\"\n      }\n    },\n    {\n      \"column\": \"Cabin\",\n      \"properties\": {\n        \"dtype\": \"category\",\n        \"num_unique_values\": 147,\n        \"samples\": [\n          \"D45\",\n          \"B49\"\n        ],\n        \"semantic_type\": \"\",\n        \"description\": \"\"\n      }\n    },\n    {\n      \"column\": \"Embarked\",\n      \"properties\": {\n        \"dtype\": \"category\",\n        \"num_unique_values\": 3,\n        \"samples\": [\n          \"S\",\n          \"C\"\n        ],\n        \"semantic_type\": \"\",\n        \"description\": \"\"\n      }\n    }\n  ]\n}"
            }
          },
          "metadata": {},
          "execution_count": 4
        }
      ]
    },
    {
      "cell_type": "code",
      "execution_count": 6,
      "metadata": {
        "colab": {
          "base_uri": "https://localhost:8080/"
        },
        "id": "TM7nelNm3fX6",
        "outputId": "7ff13c3f-1a4b-406a-a2f5-6abfca120668"
      },
      "outputs": [
        {
          "output_type": "stream",
          "name": "stdout",
          "text": [
            "<class 'pandas.core.frame.DataFrame'>\n",
            "Index: 705 entries, 0 to 890\n",
            "Data columns (total 12 columns):\n",
            " #   Column       Non-Null Count  Dtype  \n",
            "---  ------       --------------  -----  \n",
            " 0   PassengerId  705 non-null    int64  \n",
            " 1   Survived     705 non-null    int64  \n",
            " 2   Pclass       705 non-null    int64  \n",
            " 3   Name         705 non-null    object \n",
            " 4   Sex          705 non-null    object \n",
            " 5   Age          705 non-null    float64\n",
            " 6   SibSp        705 non-null    int64  \n",
            " 7   Parch        705 non-null    int64  \n",
            " 8   Ticket       705 non-null    object \n",
            " 9   Fare         705 non-null    float64\n",
            " 10  Cabin        181 non-null    object \n",
            " 11  Embarked     705 non-null    object \n",
            "dtypes: float64(2), int64(5), object(5)\n",
            "memory usage: 71.6+ KB\n",
            "None\n"
          ]
        }
      ],
      "source": [
        "# 步驟二：數據清理\n",
        "# 1. 先 drop 掉 Embarked 缺失值（若同時要處理 Age 缺失，可改成 subset=['Age','Embarked']）\n",
        "data = data.dropna(subset=['Embarked']).copy()\n",
        "\n",
        "# 2. 計算中位數\n",
        "age_median = data['Age'].median()\n",
        "fare_median = data['Fare'].median()\n",
        "\n",
        "# 3. 透過直接賦值填補缺失值，避免 chained assignment\n",
        "data['Age']  = data['Age'].fillna(age_median)\n",
        "data['Fare'] = data['Fare'].fillna(fare_median)\n",
        "\n",
        "# 4. 移除不合理的票價（Fare <= 0），並再 copy 一次以確保後續操作安全\n",
        "data = data[data['Fare'] > 0].copy()\n",
        "\n",
        "# 5. 檢查結果\n",
        "print(data.info())\n"
      ]
    },
    {
      "cell_type": "code",
      "source": [
        "!wget -O TaipeiSansTCBeta-Regular.ttf https://drive.google.com/uc?id=1eGAsTN1HBpJAkeVM57\\_C7ccp7hbgSz3\\_&export=download\n",
        "\n",
        "import matplotlib\n",
        "\n",
        "# 改style要在改font之前\n",
        "# plt.style.use('seaborn')\n",
        "matplotlib.font_manager.fontManager.addfont('TaipeiSansTCBeta-Regular.ttf')\n",
        "matplotlib.rc('font', family='Taipei Sans TC Beta')"
      ],
      "metadata": {
        "colab": {
          "base_uri": "https://localhost:8080/"
        },
        "id": "xM7TpJN_Er8J",
        "outputId": "812e3720-0b28-437b-a4e1-ac274007a5c3"
      },
      "execution_count": 7,
      "outputs": [
        {
          "output_type": "stream",
          "name": "stdout",
          "text": [
            "--2025-07-19 02:22:23--  https://drive.google.com/uc?id=1eGAsTN1HBpJAkeVM57_C7ccp7hbgSz3_\n",
            "Resolving drive.google.com (drive.google.com)... 74.125.196.102, 74.125.196.113, 74.125.196.101, ...\n",
            "Connecting to drive.google.com (drive.google.com)|74.125.196.102|:443... connected.\n",
            "HTTP request sent, awaiting response... 303 See Other\n",
            "Location: https://drive.usercontent.google.com/download?id=1eGAsTN1HBpJAkeVM57_C7ccp7hbgSz3_ [following]\n",
            "--2025-07-19 02:22:23--  https://drive.usercontent.google.com/download?id=1eGAsTN1HBpJAkeVM57_C7ccp7hbgSz3_\n",
            "Resolving drive.usercontent.google.com (drive.usercontent.google.com)... 173.194.217.132, 2607:f8b0:400c:c13::84\n",
            "Connecting to drive.usercontent.google.com (drive.usercontent.google.com)|173.194.217.132|:443... connected.\n",
            "HTTP request sent, awaiting response... 200 OK\n",
            "Length: 20659344 (20M) [application/octet-stream]\n",
            "Saving to: ‘TaipeiSansTCBeta-Regular.ttf’\n",
            "\n",
            "TaipeiSansTCBeta-Re 100%[===================>]  19.70M  40.6MB/s    in 0.5s    \n",
            "\n",
            "2025-07-19 02:22:29 (40.6 MB/s) - ‘TaipeiSansTCBeta-Regular.ttf’ saved [20659344/20659344]\n",
            "\n"
          ]
        }
      ]
    },
    {
      "cell_type": "code",
      "execution_count": 8,
      "metadata": {
        "colab": {
          "base_uri": "https://localhost:8080/",
          "height": 472
        },
        "id": "QTJMKdfu3fX7",
        "outputId": "9de4621b-80a4-46c3-942f-7823ec99d33d"
      },
      "outputs": [
        {
          "output_type": "display_data",
          "data": {
            "text/plain": [
              "<Figure size 640x480 with 1 Axes>"
            ],
            "image/png": "[encoded data removed]"
          },
          "metadata": {}
        }
      ],
      "source": [
        "# 步驟三：數據可視化\n",
        "import matplotlib.pyplot as plt\n",
        "import seaborn as sns\n",
        "\n",
        "# 直方圖：年齡分佈\n",
        "plt.hist(data['Age'], bins=30, color='blue', alpha=0.7)\n",
        "plt.title('年齡分佈')\n",
        "plt.xlabel('年齡')\n",
        "plt.ylabel('頻率')\n",
        "plt.show()"
      ]
    },
    {
      "cell_type": "code",
      "source": [
        "# 箱形圖：票價分佈\n",
        "plt.boxplot(data['Fare'], vert=False)\n",
        "plt.title('票價分佈')\n",
        "plt.xlabel('票價')\n",
        "plt.show()"
      ],
      "metadata": {
        "colab": {
          "base_uri": "https://localhost:8080/",
          "height": 472
        },
        "id": "Nn1b5zqcDkBp",
        "outputId": "2aa39f51-8416-4b14-fbf4-72e339279464"
      },
      "execution_count": 9,
      "outputs": [
        {
          "output_type": "display_data",
          "data": {
            "text/plain": [
              "<Figure size 640x480 with 1 Axes>"
            ],
            "image/png": "[encoded data removed]"
          },
          "metadata": {}
        }
      ]
    },
    {
      "cell_type": "markdown",
      "source": [
        "> 如果你/妳會好奇這位票價最高的乘客是誰，恭喜妳很適合這門課程。請持續追問數據，並且找到第一手報導資料(第一性原理)，希望能找到比[這篇](https://www.encyclopedia-titanica.org/titanic-survivor/annie-moore-ward.html)更可信任的文章。"
      ],
      "metadata": {
        "id": "oqPDblEtg_8I"
      }
    },
    {
      "cell_type": "code",
      "source": [
        "# prompt: 票價最高的人是否生存\n",
        "\n",
        "# 找出票價最高的乘客\n",
        "max_fare_passenger = data.loc[data['Fare'].idxmax()]\n",
        "\n",
        "# 檢查該乘客是否生還\n",
        "survived_status = max_fare_passenger['Survived']\n",
        "\n",
        "if survived_status == 1:\n",
        "    print(\"票價最高的乘客生還了。\")\n",
        "else:\n",
        "    print(\"票價最高的乘客沒有生還。\")\n",
        "\n",
        "# 也可以直接查看該乘客的 Survived 值\n",
        "print(f\"票價最高的乘客的生還狀態 (1=生還, 0=未生還): {survived_status}\")\n",
        "print(f\"票價最高的乘客資訊:\\n{max_fare_passenger}\")"
      ],
      "metadata": {
        "id": "ZTRASuYBfw5s",
        "outputId": "9386937d-d1ce-442a-e6d8-f1b794af23c4",
        "colab": {
          "base_uri": "https://localhost:8080/"
        }
      },
      "execution_count": 10,
      "outputs": [
        {
          "output_type": "stream",
          "name": "stdout",
          "text": [
            "票價最高的乘客生還了。\n",
            "票價最高的乘客的生還狀態 (1=生還, 0=未生還): 1\n",
            "票價最高的乘客資訊:\n",
            "PassengerId                 259\n",
            "Survived                      1\n",
            "Pclass                        1\n",
            "Name           Ward, Miss. Anna\n",
            "Sex                      female\n",
            "Age                        35.0\n",
            "SibSp                         0\n",
            "Parch                         0\n",
            "Ticket                 PC 17755\n",
            "Fare                   512.3292\n",
            "Cabin                       NaN\n",
            "Embarked                      C\n",
            "Name: 258, dtype: object\n"
          ]
        }
      ]
    },
    {
      "cell_type": "code",
      "source": [
        "# 雙變數分析：生存狀況與性別\n",
        "sns.countplot(x='Survived', hue='Sex', data=data)\n",
        "plt.title('生存狀況與性別')\n",
        "plt.xlabel('是否生還')\n",
        "plt.ylabel('人數')\n",
        "plt.show()"
      ],
      "metadata": {
        "colab": {
          "base_uri": "https://localhost:8080/",
          "height": 472
        },
        "id": "z6FTIz0gDlSl",
        "outputId": "371c1af9-c1e0-4923-bf54-461250b453d8"
      },
      "execution_count": 11,
      "outputs": [
        {
          "output_type": "display_data",
          "data": {
            "text/plain": [
              "<Figure size 640x480 with 1 Axes>"
            ],
            "image/png": "[encoded data removed]"
          },
          "metadata": {}
        }
      ]
    },
    {
      "cell_type": "code",
      "source": [
        "# 雙變數分析：生存狀況與船艙等級\n",
        "sns.countplot(x='Survived', hue='Pclass', data=data)\n",
        "plt.title('生存狀況與船艙等級')\n",
        "plt.xlabel('是否生還')\n",
        "plt.ylabel('人數')\n",
        "plt.show()"
      ],
      "metadata": {
        "colab": {
          "base_uri": "https://localhost:8080/",
          "height": 472
        },
        "id": "bu0SjKZ4DnBN",
        "outputId": "4c0a1093-7205-4363-ad8e-7fc088d9c0a2"
      },
      "execution_count": 12,
      "outputs": [
        {
          "output_type": "display_data",
          "data": {
            "text/plain": [
              "<Figure size 640x480 with 1 Axes>"
            ],
            "image/png": "[encoded data removed]"
          },
          "metadata": {}
        }
      ]
    },
    {
      "cell_type": "code",
      "source": [
        "# prompt: 艙等與生存與否的比例繪圖\n",
        "\n",
        "import matplotlib.pyplot as plt\n",
        "import seaborn as sns\n",
        "\n",
        "# 艙等與生存與否的比例繪圖\n",
        "sns.barplot(x='Pclass', y='Survived', data=data)\n",
        "plt.title('艙等與生存與否的比例')\n",
        "plt.xlabel('艙等')\n",
        "plt.ylabel('生存比例')\n",
        "plt.show()\n"
      ],
      "metadata": {
        "id": "J34IqVvwy7yh",
        "outputId": "c4bff29e-fcbd-4f17-ad31-24f1f5b2fcab",
        "colab": {
          "base_uri": "https://localhost:8080/",
          "height": 472
        }
      },
      "execution_count": null,
      "outputs": [
        {
          "output_type": "display_data",
          "data": {
            "text/plain": [
              "<Figure size 640x480 with 1 Axes>"
            ],
            "image/png": "[encoded data removed]"
          },
          "metadata": {}
        }
      ]
    },
    {
      "cell_type": "code",
      "source": [
        "# prompt: 艙等的男女與生存與否的比例繪圖\n",
        "\n",
        "import matplotlib.pyplot as plt\n",
        "sns.barplot(x='Pclass', y='Survived', hue='Sex', data=data)\n",
        "plt.title('艙等的男女與生存與否的比例')\n",
        "plt.xlabel('艙等')\n",
        "plt.ylabel('生存比例')\n",
        "plt.show()\n"
      ],
      "metadata": {
        "id": "8SjuBczEzc1i",
        "outputId": "fbc72370-b2e1-41e7-e3f6-03558380f881",
        "colab": {
          "base_uri": "https://localhost:8080/",
          "height": 472
        }
      },
      "execution_count": null,
      "outputs": [
        {
          "output_type": "display_data",
          "data": {
            "text/plain": [
              "<Figure size 640x480 with 1 Axes>"
            ],
            "image/png": "[encoded data removed]"
          },
          "metadata": {}
        }
      ]
    },
    {
      "cell_type": "markdown",
      "source": [
        "### 請嘗試用妳/你的想法持續追問，探索數據..."
      ],
      "metadata": {
        "id": "VIFT12KIhz2v"
      }
    },
    {
      "cell_type": "markdown",
      "metadata": {
        "id": "925Y6PTa3fX7"
      },
      "source": [
        "## 結論與後續工作\n",
        "通過這個探索性資料分析，我們對鐵達尼號乘客數據有了初步的了解。接下來，我們將基於這些發現進行更深入的數據分析和建模工作，以便為預測乘客生存機率提供有力支持。\n"
      ]
    },
    {
      "cell_type": "markdown",
      "source": [
        "- 可以給LLM的Prompt:`請先做EDA，再依據生存者聚類為3類，分別解釋其特徵。`"
      ],
      "metadata": {
        "id": "MMrE-5VJcgwe"
      }
    },
    {
      "cell_type": "markdown",
      "metadata": {
        "id": "mUVuFkdU3fX8"
      },
      "source": [
        "## 參考資料\n",
        "- [Pandas 官方文件](https://pandas.pydata.org/pandas-docs/stable/)\n",
        "- [Matplotlib 官方文件](https://matplotlib.org/stable/contents.html)\n",
        "- [Seaborn 官方文件](https://seaborn.pydata.org/)\n"
      ]
    }
  ],
  "metadata": {
    "kernelspec": {
      "display_name": "Python 3",
      "language": "python",
      "name": "python3"
    },
    "language_info": {
      "codemirror_mode": {
        "name": "ipython",
        "version": 3
      },
      "file_extension": ".py",
      "mimetype": "text/x-python",
      "name": "python",
      "nbconvert_exporter": "python",
      "pygments_lexer": "ipython3",
      "version": "3.8.8"
    },
    "colab": {
      "provenance": [],
      "include_colab_link": true
    }
  },
  "nbformat": 4,
  "nbformat_minor": 0
}