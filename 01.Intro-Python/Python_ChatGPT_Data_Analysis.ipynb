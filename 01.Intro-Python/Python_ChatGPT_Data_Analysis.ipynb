{
  "cells": [
    {
      "cell_type": "markdown",
      "metadata": {
        "id": "view-in-github",
        "colab_type": "text"
      },
      "source": [
        "<a href=\"https://colab.research.google.com/github/willismax/MediaSystem-Python-Course/blob/main/01.Intro-Python/Python_ChatGPT_Data_Analysis.ipynb\" target=\"_parent\"><img src=\"https://colab.research.google.com/assets/colab-badge.svg\" alt=\"Open In Colab\"/></a>"
      ]
    },
    {
      "cell_type": "markdown",
      "id": "10a433d0",
      "metadata": {
        "id": "10a433d0"
      },
      "source": [
        "\n",
        "# 結合Python與ChatGPT進行數據分析\n",
        "\n",
        "## 課程目標\n",
        "\n",
        "1. 了解Python基礎及其在數據分析中的應用\n",
        "2. 了解ChatGPT並學習如何使用其API進行數據分析\n",
        "\n",
        "---\n",
        "\n",
        "## 暖身: Python基礎\n",
        "\n",
        "### 1.1 Python的基本概念\n",
        "- **Python簡介**：Python是一種高效且易於學習的編程語言，廣泛應用於數據分析和機器學習領域。\n",
        "- **範例程式碼**：\n",
        "[連結文字](https://)\n"
      ]
    },
    {
      "cell_type": "code",
      "source": [
        "# 計算公司部門的總數\n",
        "departments = [\"市場部\", \"技術部\", \"人資部\", \"財務部\"]\n",
        "total_departments = len(departments)\n",
        "print(f\"公司部門總數：{total_departments}\")"
      ],
      "metadata": {
        "colab": {
          "base_uri": "https://localhost:8080/"
        },
        "id": "feDgqabWGzjP",
        "outputId": "d8d93105-1b44-4927-db76-c05ffd9fff7a"
      },
      "id": "feDgqabWGzjP",
      "execution_count": 1,
      "outputs": [
        {
          "output_type": "stream",
          "name": "stdout",
          "text": [
            "公司部門總數：4\n"
          ]
        }
      ]
    },
    {
      "cell_type": "markdown",
      "source": [
        "#### 1.2 變數與數據類型\n",
        "- **變數**：變數是用來儲存數據的容器。Python支持多種數據類型，如整數、浮點數、字串和列表。\n",
        "- **範例程式碼**：\n"
      ],
      "metadata": {
        "id": "htENyanZG4-y"
      },
      "id": "htENyanZG4-y"
    },
    {
      "cell_type": "code",
      "source": [
        "# 記錄各部門的人數\n",
        "marketing_count = 25\n",
        "tech_count = 50\n",
        "hr_count = 10\n",
        "finance_count = 15\n",
        "print(f\"市場部人數：{marketing_count}\")\n",
        "print(f\"技術部人數：{tech_count}\")\n",
        "print(f\"人資部人數：{hr_count}\")\n",
        "print(f\"財務部人數：{finance_count}\")"
      ],
      "metadata": {
        "colab": {
          "base_uri": "https://localhost:8080/"
        },
        "id": "Sh6b_eWHG8c_",
        "outputId": "ff180319-63a4-4cb0-c554-9a8ec4ca9f6c"
      },
      "id": "Sh6b_eWHG8c_",
      "execution_count": 2,
      "outputs": [
        {
          "output_type": "stream",
          "name": "stdout",
          "text": [
            "市場部人數：25\n",
            "技術部人數：50\n",
            "人資部人數：10\n",
            "財務部人數：15\n"
          ]
        }
      ]
    },
    {
      "cell_type": "markdown",
      "source": [
        "#### 1.3 基本運算\n",
        "- **運算符**：Python中使用加、減、乘、除等運算符來進行數值運算。\n",
        "- **範例程式碼**：\n"
      ],
      "metadata": {
        "id": "0t8nDRNjG_LA"
      },
      "id": "0t8nDRNjG_LA"
    },
    {
      "cell_type": "code",
      "source": [
        "# 基本運算\n",
        "new_tech_staff = tech_count + 5\n",
        "print(f\"技術部新增員工後人數：{new_tech_staff}\")"
      ],
      "metadata": {
        "colab": {
          "base_uri": "https://localhost:8080/"
        },
        "id": "mAeEZmahHFH5",
        "outputId": "c943abb5-d080-415d-f2a0-f22c5f5d9593"
      },
      "id": "mAeEZmahHFH5",
      "execution_count": 3,
      "outputs": [
        {
          "output_type": "stream",
          "name": "stdout",
          "text": [
            "技術部新增員工後人數：55\n"
          ]
        }
      ]
    },
    {
      "cell_type": "markdown",
      "source": [
        "\n",
        "#### 1.4 條件判斷\n",
        "- **if語句**：if語句用於根據條件執行不同的代碼。\n",
        "- **範例程式碼**：\n"
      ],
      "metadata": {
        "id": "znJ-fcwjHLO5"
      },
      "id": "znJ-fcwjHLO5"
    },
    {
      "cell_type": "code",
      "source": [
        "# 條件判斷\n",
        "if new_tech_staff > 50:\n",
        "    print(\"技術部人數超過50人\")\n",
        "else:\n",
        "    print(\"技術部人數不足50人\")\n"
      ],
      "metadata": {
        "colab": {
          "base_uri": "https://localhost:8080/"
        },
        "id": "29GxtqmUHP_9",
        "outputId": "de793ae4-a94b-4533-db60-75bc3e68673c"
      },
      "id": "29GxtqmUHP_9",
      "execution_count": 4,
      "outputs": [
        {
          "output_type": "stream",
          "name": "stdout",
          "text": [
            "技術部人數超過50人\n"
          ]
        }
      ]
    },
    {
      "cell_type": "markdown",
      "source": [
        "#### 1.5 迴圈\n",
        "- **迴圈**：for迴圈和while迴圈用於重複執行代碼。\n",
        "- **範例程式碼**：\n"
      ],
      "metadata": {
        "id": "GPKIFgZaHT7h"
      },
      "id": "GPKIFgZaHT7h"
    },
    {
      "cell_type": "code",
      "source": [
        "# 迴圈\n",
        "for dept in departments:\n",
        "    print(f\"{dept}需要進行年度考核\")"
      ],
      "metadata": {
        "colab": {
          "base_uri": "https://localhost:8080/"
        },
        "id": "a91h0378HZZ0",
        "outputId": "c15ccad3-3a8c-481a-cdd6-2a2ba068696b"
      },
      "id": "a91h0378HZZ0",
      "execution_count": 5,
      "outputs": [
        {
          "output_type": "stream",
          "name": "stdout",
          "text": [
            "市場部需要進行年度考核\n",
            "技術部需要進行年度考核\n",
            "人資部需要進行年度考核\n",
            "財務部需要進行年度考核\n"
          ]
        }
      ]
    },
    {
      "cell_type": "markdown",
      "source": [
        "### 第二部分：數據分析基礎\n",
        "\n",
        "#### 2.1 資料的收集與整理\n",
        "- **資料收集**：學會從不同來源收集數據，並用Python進行整理。\n",
        "- **範例程式碼**：\n"
      ],
      "metadata": {
        "id": "VL0oOxvTHb2Q"
      },
      "id": "VL0oOxvTHb2Q"
    },
    {
      "cell_type": "code",
      "source": [
        "# 收集與整理數據\n",
        "department_salaries = {\"市場部\": 80000, \"技術部\": 120000, \"人資部\": 60000, \"財務部\": 70000}\n",
        "for dept, salary in department_salaries.items():\n",
        "    print(f\"{dept}的平均薪資是{salary}元\")"
      ],
      "metadata": {
        "colab": {
          "base_uri": "https://localhost:8080/"
        },
        "id": "IIzBdb2tHfFa",
        "outputId": "e4f8362f-b3e5-462e-d66d-af2adfc5fc4b"
      },
      "id": "IIzBdb2tHfFa",
      "execution_count": 6,
      "outputs": [
        {
          "output_type": "stream",
          "name": "stdout",
          "text": [
            "市場部的平均薪資是80000元\n",
            "技術部的平均薪資是120000元\n",
            "人資部的平均薪資是60000元\n",
            "財務部的平均薪資是70000元\n"
          ]
        }
      ]
    },
    {
      "cell_type": "markdown",
      "source": [
        "#### 2.2 資料的分析\n",
        "- **數據分析**：使用Python內建函數進行簡單的數據分析，如計算平均值。\n",
        "- **範例程式碼**：\n"
      ],
      "metadata": {
        "id": "dj7c56HXHh8A"
      },
      "id": "dj7c56HXHh8A"
    },
    {
      "cell_type": "code",
      "source": [
        "# 計算平均薪資\n",
        "total_salary = sum(department_salaries.values())\n",
        "average_salary = total_salary / len(department_salaries)\n",
        "print(f\"公司平均薪資是：{average_salary}元\")"
      ],
      "metadata": {
        "colab": {
          "base_uri": "https://localhost:8080/"
        },
        "id": "RCcQT4cnHhlO",
        "outputId": "aeb5dce4-afed-40b5-8bfa-3f85a08d85ce"
      },
      "id": "RCcQT4cnHhlO",
      "execution_count": 7,
      "outputs": [
        {
          "output_type": "stream",
          "name": "stdout",
          "text": [
            "公司平均薪資是：82500.0元\n"
          ]
        }
      ]
    },
    {
      "cell_type": "markdown",
      "source": [
        "#### 2.3 資料的視覺化\n",
        "- **數據視覺化**：學習如何使用matplotlib庫將數據可視化。\n",
        "- **範例程式碼**：\n"
      ],
      "metadata": {
        "id": "R-i3GeZ1Hk4T"
      },
      "id": "R-i3GeZ1Hk4T"
    },
    {
      "cell_type": "code",
      "source": [
        "!wget -O TaipeiSansTCBeta-Regular.ttf https://drive.google.com/uc?id=1eGAsTN1HBpJAkeVM57_C7ccp7hbgSz3_&export=download\n",
        "\n",
        "import matplotlib\n",
        "\n",
        "# 改style要在改font之前\n",
        "# plt.style.use('seaborn')\n",
        "matplotlib.font_manager.fontManager.addfont('TaipeiSansTCBeta-Regular.ttf')\n",
        "matplotlib.rc('font', family='Taipei Sans TC Beta')"
      ],
      "metadata": {
        "id": "omddQLESB7k5"
      },
      "id": "omddQLESB7k5",
      "execution_count": null,
      "outputs": []
    },
    {
      "cell_type": "code",
      "source": [
        "import matplotlib.pyplot as plt\n",
        "\n",
        "# 畫圖\n",
        "depts = list(department_salaries.keys())\n",
        "salaries = list(department_salaries.values())\n",
        "plt.bar(depts, salaries)\n",
        "plt.xlabel(\"部門\")\n",
        "plt.ylabel(\"平均薪資（元）\")\n",
        "plt.title(\"各部門平均薪資圖表\")\n",
        "plt.show()"
      ],
      "metadata": {
        "colab": {
          "base_uri": "https://localhost:8080/",
          "height": 472
        },
        "id": "I4tMdH2HHlOJ",
        "outputId": "aabbf0dc-59ee-4a31-f8ea-97477d865f02"
      },
      "id": "I4tMdH2HHlOJ",
      "execution_count": 9,
      "outputs": [
        {
          "output_type": "display_data",
          "data": {
            "text/plain": [
              "<Figure size 640x480 with 1 Axes>"
            ],
            "image/png": "[encoded data removed]"
          },
          "metadata": {}
        }
      ]
    },
    {
      "cell_type": "markdown",
      "source": [
        "\n",
        "### 第三部分：結合ChatGPT進行數據分析\n",
        "\n",
        "#### 3.1 介紹ChatGPT\n",
        "- **ChatGPT簡介**：ChatGPT是一個基於OpenAI的語言模型，可以進行自然語言處理和數據分析。\n",
        "\n",
        "#### 3.2 使用ChatGPT進行簡單的數據分析\n",
        "- **使用API**：學習如何使用OpenAI API與ChatGPT互動，進行基本的數據分析。\n",
        "- **範例程式碼**：\n"
      ],
      "metadata": {
        "id": "QqHY3WEDHwBb"
      },
      "id": "QqHY3WEDHwBb"
    },
    {
      "cell_type": "code",
      "source": [
        "!pip install -q openai"
      ],
      "metadata": {
        "colab": {
          "base_uri": "https://localhost:8080/"
        },
        "id": "Km0SG82y7OVl",
        "outputId": "16e291f6-340b-447c-a5c8-06af3e87371c"
      },
      "id": "Km0SG82y7OVl",
      "execution_count": null,
      "outputs": [
        {
          "output_type": "stream",
          "name": "stdout",
          "text": [
            "\u001b[2K     \u001b[90m━━━━━━━━━━━━━━━━━━━━━━━━━━━━━━━━━━━━━━━━\u001b[0m \u001b[32m325.5/325.5 kB\u001b[0m \u001b[31m3.3 MB/s\u001b[0m eta \u001b[36m0:00:00\u001b[0m\n",
            "\u001b[2K     \u001b[90m━━━━━━━━━━━━━━━━━━━━━━━━━━━━━━━━━━━━━━━━\u001b[0m \u001b[32m75.6/75.6 kB\u001b[0m \u001b[31m3.7 MB/s\u001b[0m eta \u001b[36m0:00:00\u001b[0m\n",
            "\u001b[2K     \u001b[90m━━━━━━━━━━━━━━━━━━━━━━━━━━━━━━━━━━━━━━━━\u001b[0m \u001b[32m77.9/77.9 kB\u001b[0m \u001b[31m8.2 MB/s\u001b[0m eta \u001b[36m0:00:00\u001b[0m\n",
            "\u001b[2K     \u001b[90m━━━━━━━━━━━━━━━━━━━━━━━━━━━━━━━━━━━━━━━━\u001b[0m \u001b[32m58.3/58.3 kB\u001b[0m \u001b[31m3.4 MB/s\u001b[0m eta \u001b[36m0:00:00\u001b[0m\n",
            "\u001b[?25h"
          ]
        }
      ]
    },
    {
      "cell_type": "code",
      "source": [
        "from google.colab import userdata\n",
        "OPENAI_API_KEY = userdata.get('OPENAI_API_KEY')"
      ],
      "metadata": {
        "id": "09UNyHc3Ncl7"
      },
      "id": "09UNyHc3Ncl7",
      "execution_count": null,
      "outputs": []
    },
    {
      "cell_type": "code",
      "source": [
        "import openai\n",
        "\n",
        "# 使用ChatGPT API進行數據分析\n",
        "openai.api_key = OPENAI_API_KEY  # 請替換為你的 API 密鑰\n",
        "\n",
        "def gpt_reply(message):\n",
        "  response = openai.chat.completions.create(\n",
        "      model=\"gpt-4o\",\n",
        "      messages=[\n",
        "          {\n",
        "              \"role\": \"system\",\n",
        "              \"content\": \"你現在是一位專業的數據分析師, 你會提供專業分析報告\"\n",
        "          },\n",
        "          {\n",
        "              \"role\": \"user\",\n",
        "              \"content\": message\n",
        "          }\n",
        "      ]\n",
        "  )\n",
        "  return response.choices[0].message.content"
      ],
      "metadata": {
        "id": "StOzT6ZuM5_p"
      },
      "id": "StOzT6ZuM5_p",
      "execution_count": null,
      "outputs": []
    },
    {
      "cell_type": "code",
      "source": [
        "message = \"請分析以下數據並告訴我有什麼有趣的發現：{'市場部': 80000, '技術部': 120000, '人資部': 60000, '財務部': 70000}\"\n",
        "reply = gpt_reply(message)\n",
        "\n",
        "print(reply)"
      ],
      "metadata": {
        "colab": {
          "base_uri": "https://localhost:8080/"
        },
        "id": "vAnsKNpo_u8D",
        "outputId": "afef8aa7-c77c-4b42-de2f-d68f63ba3e7b"
      },
      "id": "vAnsKNpo_u8D",
      "execution_count": null,
      "outputs": [
        {
          "output_type": "stream",
          "name": "stdout",
          "text": [
            "根據提供的數據，以下是一些有趣的發現和分析：\n",
            "\n",
            "1. **總體數據概況**：   \n",
            "   - 市場部: 80,000\n",
            "   - 技術部: 120,000\n",
            "   - 人資部: 60,000\n",
            "   - 財務部: 70,000\n",
            "\n",
            "2. **部門間的數據比較**：\n",
            "    - **技術部**的數據（120,000）顯著高於其他部門, 是數據最高的部門。\n",
            "    - **人資部**的數據（60,000）是四個部門中最低的。\n",
            "    - **市場部**和**財務部**的數據差距不大，但市場部略高於財務部。\n",
            "\n",
            "3. **百分比分析**：\n",
            "    - 技術部佔總數據的比例最高。計算如下：\n",
            "        \\[\n",
            "        總數據 = 80,000 + 120,000 + 60,000 + 70,000 = 330,000\n",
            "        \\]\n",
            "        \\[\n",
            "        技術部比例 = \\frac{120,000}{330,000} \\approx 36.36\\%\n",
            "        \\]\n",
            "    - 市場部比例：\n",
            "        \\[\n",
            "        市場部比例 = \\frac{80,000}{330,000} \\approx 24.24\\%\n",
            "        \\]\n",
            "    - 人資部比例：\n",
            "        \\[\n",
            "        人資部比例 = \\frac{60,000}{330,000} \\approx 18.18\\%\n",
            "        \\]\n",
            "    - 財務部比例：\n",
            "        \\[\n",
            "        財務部比例 = \\frac{70,000}{330,000} \\approx 21.21\\%\n",
            "        \\]\n",
            "\n",
            "4. **部門數據的相對差異**：\n",
            "    - 技術部的數據比市場部多了 40,000，比財務部多了 50,000，而比人資部多了 60,000。\n",
            "    - 市場部與財務部的差異為 10,000，市場部數據略高。\n",
            "    - 人資部的數據與其他部門相比較低，特別是與技術部的差異較大。\n",
            "\n",
            "5. **潛在洞察**：\n",
            "    - 技術部擁有相對較高的數據，可能表明該部門在資源投放、業務需求或工作產出等方面具有更大的權重或需求。\n",
            "    - 人資部數據相對較低，這可能表明該部門在資源分配或重要性上低於其他部門，或者其工作性質導致較少的數據產出。\n",
            "    - 市場部和財務部的數據接近，表明這兩個部門在企業中的資源投放或重要性相對均衡。\n",
            "\n",
            "這些發現能夠幫助企業進一步探討各部門數據的背後原因，調整資源分配，提升工作的有效性。具體的改進措施還需要更詳細的背景資料和業務需求分析。\n"
          ]
        }
      ]
    },
    {
      "cell_type": "code",
      "source": [
        "reply"
      ],
      "metadata": {
        "collapsed": true,
        "id": "bVm_G9YH_Pui"
      },
      "id": "bVm_G9YH_Pui",
      "execution_count": null,
      "outputs": []
    },
    {
      "cell_type": "markdown",
      "source": [
        "#### 3.3 深入的數據分析\n",
        "- **進階分析**：使用ChatGPT進行更深入的數據分析，找出數據中的趨勢和規律。\n",
        "- **範例程式碼**：\n"
      ],
      "metadata": {
        "id": "r9_xvRlyM949"
      },
      "id": "r9_xvRlyM949"
    },
    {
      "cell_type": "code",
      "source": [
        "# 深入分析\n",
        "\n",
        "message = \"請詳細分析以下數據並給出趨勢和規律：{'市場部': 80000, '技術部': 120000, '人資部': 60000, '財務部': 70000}\"\n",
        "reply = gpt_reply(message)\n",
        "\n",
        "print(reply)"
      ],
      "metadata": {
        "id": "tKWh_E30NBJD",
        "colab": {
          "base_uri": "https://localhost:8080/"
        },
        "outputId": "cfb00355-edc5-486d-8c96-061279d67b74"
      },
      "id": "tKWh_E30NBJD",
      "execution_count": null,
      "outputs": [
        {
          "output_type": "stream",
          "name": "stdout",
          "text": [
            "在分析這組數據時，我會從多個角度進行考量，來提供有價值的觀察和結論。以下是數據的具體分析：\n",
            "\n",
            "### 數據概述\n",
            "- 市場部：80,000\n",
            "- 技術部：120,000\n",
            "- 人資部：60,000\n",
            "- 財務部：70,000\n",
            "\n",
            "### 分析維度\n",
            "\n",
            "1. **絕對數值比較**\n",
            "   - **最高值**: 技術部 (120,000)\n",
            "   - **最低值**: 人資部 (60,000)\n",
            "   - 其他部門的數值相對集中在60,000到80,000之間，但是技術部的數值顯著高於其他部門。\n",
            "\n",
            "2. **相對比例分析**\n",
            "   - 技術部佔總比重最大(佔38.24%)，顯示該部門支出的資源最豐富/需求最大。\n",
            "   - 市場部(25.49%)、財務部(22.22%)、人資部(19.61%) 的比例相對較平均，但都小於技術部。\n",
            "\n",
            "   計算方式如下：\n",
            "   - 總和：\\( 80000 + 120000 + 60000 + 70000 = 330000 \\)\n",
            "   - 相對比例：\n",
            "     - 市場部：\\( \\frac{80000}{330000} \\approx 0.2424 \\rightarrow 24.24% \\)\n",
            "     - 技術部：\\( \\frac{120000}{330000} \\approx 0.3636 \\rightarrow 36.36% \\)\n",
            "     - 人資部：\\( \\frac{60000}{330000} \\approx 0.1818 \\rightarrow 18.18% \\)\n",
            "     - 財務部：\\( \\frac{70000}{330000} \\approx 0.2121 \\rightarrow 21.21% \\)\n",
            "\n",
            "3. **部門支出趨勢**\n",
            "   - 數據顯示技術部的資源投入是最多的，這可能與技術部門的業務在公司內部的重要性和支出密集型的特徵有關。\n",
            "   - 市場部和財務部的支出較為接近，暗示市場推廣和財務管理的支出在公司內部是相對均衡的。\n",
            "   - 人資部的支出相對最低，可能表示公司在技術和市場推廣方面更加重視，而人力資源成本可能相對較低或資源分配較少。\n",
            "\n",
            "### 對未來的推測和建議\n",
            "\n",
            "1. **技術部未來趨勢**：\n",
            "   - 如果技術部的支出持續增加，可能表明公司在技術研發和技術支持方面的需求和投資將持續增長。\n",
            "   - 建議關注技術部支出的效率，確保資源的有效使用。\n",
            "\n",
            "2. **市場部走向**：\n",
            "   - 市場部的現有支出也較高，暗示著市場推廣和銷售活動對公司的品牌和市場佔有率至關重要。\n",
            "   - 建議跟踪市場部支出的效果，包括市場回報率和客戶獲取成本。\n",
            "\n",
            "3. **人資部改進空間**：\n",
            "   - 人資部支出受限可能會影響人才招聘和員工福利，建議在確保其他部門高效運營的同時，適當增加人資投入，提升員工滿意度和留任率。\n",
            "\n",
            "4. **財務部穩健支出**：\n",
            "   - 財務部僅次於市場部，顯示出公司財務管理和監控的重要性。建議繼續保持財務部的有效管理，同時提升財務透明度和預算控制。\n",
            "\n",
            "### 總結\n",
            "總體來說，公司在技術部和市場部的資源分配明顯高於其他部門，這反映出技術創新和市場推廣對公司未來發展的重要性。建議在技術和市場方面繼續推進同時，不忽略人資和財務管理的重要性，以保持公司總體穩定和持續增長。\n"
          ]
        }
      ]
    },
    {
      "cell_type": "markdown",
      "source": [
        "### 第四部分：實踐與應用\n",
        "\n",
        "#### 4.1 實際案例分析\n",
        "- **案例分析**：學習如何從現實中收集數據，並使用所學技術進行分析。\n",
        "- **範例程式碼**：\n"
      ],
      "metadata": {
        "id": "k6MwFKzxNDIA"
      },
      "id": "k6MwFKzxNDIA"
    },
    {
      "cell_type": "code",
      "source": [
        "!wget -O TaipeiSansTCBeta-Regular.ttf https://drive.google.com/uc?id=1eGAsTN1HBpJAkeVM57_C7ccp7hbgSz3_&export=download\n",
        "\n",
        "import matplotlib\n",
        "\n",
        "# 改style要在改font之前\n",
        "# plt.style.use('seaborn')\n",
        "matplotlib.font_manager.fontManager.addfont('TaipeiSansTCBeta-Regular.ttf')\n",
        "matplotlib.rc('font', family='Taipei Sans TC Beta')"
      ],
      "metadata": {
        "id": "Ay5KRg8_BS_n"
      },
      "id": "Ay5KRg8_BS_n",
      "execution_count": null,
      "outputs": []
    },
    {
      "cell_type": "code",
      "source": [
        "import matplotlib.pyplot as plt\n",
        "\n",
        "# 收集銷售數據\n",
        "sales_data = {\n",
        "    \"月份\": [\"一月\", \"二月\", \"三月\", \"四月\"],\n",
        "    \"銷售額\": [100000, 150000, 200000, 250000]\n",
        "}\n",
        "\n",
        "# 使用Python進行數據分析\n",
        "total_sales = sum(sales_data[\"銷售額\"])\n",
        "print(f\"總銷售額：{total_sales}\")\n",
        "\n",
        "# 視覺化\n",
        "plt.plot(sales_data[\"月份\"], sales_data[\"銷售額\"])\n",
        "plt.xlabel(\"月份\")\n",
        "plt.ylabel(\"銷售額（元）\")\n",
        "plt.title(\"月度銷售額趨勢圖\")\n",
        "plt.show()\n"
      ],
      "metadata": {
        "id": "pB57Gi6VNF4W",
        "colab": {
          "base_uri": "https://localhost:8080/",
          "height": 489
        },
        "outputId": "f887689c-f9f1-4df0-a492-6ac42c04cc47"
      },
      "id": "pB57Gi6VNF4W",
      "execution_count": null,
      "outputs": [
        {
          "output_type": "stream",
          "name": "stdout",
          "text": [
            "總銷售額：700000\n"
          ]
        },
        {
          "output_type": "display_data",
          "data": {
            "text/plain": [
              "<Figure size 640x480 with 1 Axes>"
            ],
            "image/png": "[encoded data removed]"
          },
          "metadata": {}
        }
      ]
    },
    {
      "cell_type": "markdown",
      "source": [
        "#### 4.2 問題解決與思考\n",
        "- **問題解決**：思考數據分析過程中的挑戰，並嘗試解決這些問題。\n",
        "- **範例問題**："
      ],
      "metadata": {
        "id": "DvWkCjgdNMPE"
      },
      "id": "DvWkCjgdNMPE"
    },
    {
      "cell_type": "code",
      "source": [
        "# 試著解決數據缺失問題\n",
        "incomplete_data = {\"市場部\": 80000, \"技術部\": None, \"人資部\": 60000, \"財務部\": 70000}\n",
        "for dept, salary in incomplete_data.items():\n",
        "    if salary is None:\n",
        "        print(f\"{dept}的薪資數據缺失\")\n",
        "    else:\n",
        "        print(f\"{dept}的平均薪資是{salary}元\")"
      ],
      "metadata": {
        "id": "xh7gOUo1NKtW",
        "colab": {
          "base_uri": "https://localhost:8080/"
        },
        "outputId": "d310bf28-fdb6-4b45-a39d-c930e321f610"
      },
      "id": "xh7gOUo1NKtW",
      "execution_count": null,
      "outputs": [
        {
          "output_type": "stream",
          "name": "stdout",
          "text": [
            "市場部的平均薪資是80000元\n",
            "技術部的薪資數據缺失\n",
            "人資部的平均薪資是60000元\n",
            "財務部的平均薪資是70000元\n"
          ]
        }
      ]
    },
    {
      "cell_type": "markdown",
      "id": "8fc0f37a",
      "metadata": {
        "id": "8fc0f37a"
      },
      "source": [
        "\n",
        "## 參考來源\n",
        "\n",
        "- [Python官方文件](https://docs.python.org/zh-tw/3/)\n",
        "- [OpenAI ChatGPT API文檔](https://beta.openai.com/docs/)\n"
      ]
    }
  ],
  "metadata": {
    "colab": {
      "provenance": [],
      "include_colab_link": true
    },
    "language_info": {
      "name": "python"
    },
    "kernelspec": {
      "name": "python3",
      "display_name": "Python 3"
    }
  },
  "nbformat": 4,
  "nbformat_minor": 5
}