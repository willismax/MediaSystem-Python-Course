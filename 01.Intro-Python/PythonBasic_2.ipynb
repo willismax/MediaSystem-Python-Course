{
  "nbformat": 4,
  "nbformat_minor": 0,
  "metadata": {
    "kernelspec": {
      "name": "python3",
      "display_name": "Python 3"
    },
    "colab": {
      "provenance": [],
      "collapsed_sections": [
        "3M2f3-y_OT5A",
        "ONRogSZwaJ4C",
        "lsFRYln1amZq",
        "RzlIdwOKu2xP",
        "QTqmcPogoAs0",
        "CEPfC4nYwcNK",
        "XtYhHji5xVjZ",
        "QwX0KwQBVi-1",
        "9y236yrdSumf",
        "qfTjluhRySkS",
        "D0eFantpcZML"
      ],
      "include_colab_link": true
    },
    "language_info": {
      "name": "python"
    }
  },
  "cells": [
    {
      "cell_type": "markdown",
      "metadata": {
        "id": "view-in-github",
        "colab_type": "text"
      },
      "source": [
        "<a href=\"https://colab.research.google.com/github/willismax/MediaSystem-Python-Course/blob/main/01.Intro-Python/PythonBasic_2.ipynb\" target=\"_parent\"><img src=\"https://colab.research.google.com/assets/colab-badge.svg\" alt=\"Open In Colab\"/></a>"
      ]
    },
    {
      "cell_type": "markdown",
      "metadata": {
        "collapsed": true,
        "id": "6OZu7Iytc9vG"
      },
      "source": [
        "Python 基礎語法"
      ]
    },
    {
      "cell_type": "markdown",
      "metadata": {
        "id": "TJiUVgRg4YC9"
      },
      "source": [
        "![](https://python.rs/pylogo.png)"
      ]
    },
    {
      "cell_type": "markdown",
      "metadata": {
        "id": "3M2f3-y_OT5A"
      },
      "source": [
        "## 前言 - 程式的組成"
      ]
    },
    {
      "cell_type": "markdown",
      "metadata": {
        "id": "X1BqefV2c9vH"
      },
      "source": [
        "- 我們先來認識所謂「程式」的基礎，任何程式語言必備的元素有:\n",
        "    - 程式的組成\n",
        "        - 變數\n",
        "        - 基本資料型態\n",
        "          - 如: 整數、浮點數、字串、布林\n",
        "          - 如: 串列、元組、字典、集合等\n",
        "        - 格式化的輸出與輸入\n",
        "          - 如: print(), input()\n",
        "        - 運算子、運算式與敘述\n",
        "          - 如: 加減乘除\n",
        "          - 如: 大小等於\n",
        "        - 選擇性敘述\n",
        "          - 如: if-else\n",
        "        - 迴圈\n",
        "          - 如: for, while\n",
        "    - 進階程式的組成\n",
        "        - 函數fucntion\n",
        "          - 如: def my_function():\n",
        "        - 類別\n",
        "          - 如: class MyClass():"
      ]
    },
    {
      "cell_type": "markdown",
      "metadata": {
        "id": "ONRogSZwaJ4C"
      },
      "source": [
        "## 認識 Python"
      ]
    },
    {
      "cell_type": "markdown",
      "metadata": {
        "id": "VIBZSp-YaPy9"
      },
      "source": [
        "- 語法簡潔但不失優雅，以及 Python 龐大的生態環境可在不同領域都發揮作用所帶來的便利。\n",
        "- Python 是動態語言(dynamic language)\n",
        "    - 變數使用前不必宣告其資料型態，增加程式設計便利性，缺點是需要在底層判斷變數型別，較耗時。\n",
        "- Python 是直譯語言\n",
        "    - 執行前不必經過**編譯**(compile)的過程，而是使用**直譯器**(interpreter)直接直譯與執行，或稱腳本語言(scripting language)。\n",
        "    - 靜態語言如:C、C++、JAVA；動態語言如:Python、JavaScript、Ruby。\n",
        "- Why Python?\n",
        "    - 活躍的社群\n",
        "    - 開放原始碼\n",
        "    - 眾多第三方資源\n",
        "    - 可快速打造產品原型的工具\n",
        "    - 工程師的第二個程式語言\n",
        "\n",
        "- Python 的魅力:\n",
        "    - 語法簡潔但不失優雅，以及 Python 龐大的生態環境可在不同領域都發揮作用所帶來的便利。"
      ]
    },
    {
      "cell_type": "markdown",
      "metadata": {
        "id": "lsFRYln1amZq"
      },
      "source": [
        "## Python 變數與基本運算"
      ]
    },
    {
      "cell_type": "markdown",
      "source": [
        "### 變數\n",
        "- Python變數正確來說是資料內容的「標籤」，變數不是盒子。\n",
        "- 物件先存在，所以說是「變數x被指派給(assigned to) something」比較精確。\n",
        "- 命名不能與關鍵字重複，自訂義的命名也不要跟引入的模組重複。\n",
        "\n"
      ],
      "metadata": {
        "id": "F3KT9XAJbRpA"
      }
    },
    {
      "cell_type": "markdown",
      "metadata": {
        "id": "KnCzDgJtao2-"
      },
      "source": [
        "### 變數命名原則"
      ]
    },
    {
      "cell_type": "markdown",
      "metadata": {
        "id": "vDS0TCDeb4L2"
      },
      "source": [
        "- 開頭可以是: 英文字母、`_`底線)或中文字，支援`UTF-8`編碼，大小寫敏感。\n",
        "- 開頭不能是：數字。\n",
        "- 要避開Python關鍵字:\n",
        "    ```python\n",
        "    and, as, assert, break, class, continue, def, del, elif, else, except,\n",
        "    False, finally, for, from, global, if, import, in, is, lambda, None,\n",
        "    nonlocal, not, or, pass, raise, return, True, try, while, with, yield\n",
        "    ```\n",
        "- 建議避開[Python 函數](http://www.runoob.com/python/python-built-in-functions.html)名稱，會覆蓋功能。\n",
        "- 如果變數需要超過兩個英文單字表達，可用`_`底線連結，或是駝峰型如: MyName 或 myName。\n",
        "    ```python\n",
        "    my_name = 9527\n",
        "    MyName = 9527\n",
        "    myName = 9527\n",
        "    ```\n",
        "- 類別的命名依 PEP8，建議為\"大寫駝峰\"命名，如`MyClass`。\n",
        "    ```python\n",
        "    class MyClass():\n",
        "        pass\n",
        "    ```\n",
        "- 命名函式依 PEP8，以小寫及底線連結 (如：`my_function`)。\n",
        "    ```python\n",
        "    def my_function():\n",
        "        return result\n",
        "    ```\n",
        "---\n",
        "\n",
        "- 模組命名與保護，通常引入模組可以用的方式\n",
        "    ```python\n",
        "    import foo\n",
        "    from foo import *\n",
        "    import foo as fo\n",
        "    from foo import qoo as qo\n",
        "    ```\n",
        "- 要保護 module 變數或函式不被`from foo import *`\n",
        "    - 在名稱前底線`_`，例如除非用 `from foo import _var` 呼叫，才能使用 `_var` 模組 。\n",
        "- 要保護類別的 private 變數或方法，名稱前加上兩個底線`__`，如`MyClass.__my_private_module`，才能呼叫該私有變數或方法，但不夠嚴謹。"
      ]
    },
    {
      "cell_type": "code",
      "source": [
        "便利貼 = \"水壺\""
      ],
      "metadata": {
        "id": "2Jkz-0kKmc3A"
      },
      "execution_count": null,
      "outputs": []
    },
    {
      "cell_type": "code",
      "metadata": {
        "id": "c-jKqHFMbNOq",
        "colab": {
          "base_uri": "https://localhost:8080/",
          "height": 133
        },
        "outputId": "569e2aac-0326-4b16-c0eb-30741c736d36"
      },
      "source": [
        "#錯誤示範-數字不能當命名開頭\n",
        "\n",
        "9527_is_good = '多拉a夢'"
      ],
      "execution_count": null,
      "outputs": [
        {
          "output_type": "error",
          "ename": "SyntaxError",
          "evalue": "ignored",
          "traceback": [
            "\u001b[0;36m  File \u001b[0;32m\"<ipython-input-2-982e2ce27c32>\"\u001b[0;36m, line \u001b[0;32m3\u001b[0m\n\u001b[0;31m    9527_is_good = '多拉a夢'\u001b[0m\n\u001b[0m        ^\u001b[0m\n\u001b[0;31mSyntaxError\u001b[0m\u001b[0;31m:\u001b[0m invalid token\n"
          ]
        }
      ]
    },
    {
      "cell_type": "markdown",
      "metadata": {
        "id": "BxUsyirNSQRK"
      },
      "source": [
        "### 基本資料型態"
      ]
    },
    {
      "cell_type": "markdown",
      "source": [
        "### 整數 int\n",
        "- Python的int依記憶體可放無限制整數，不易溢位(overflow)。\n",
        "- C語言int佔4個位元組，取值範圍-2147483648～+2147483647，超過範圍會溢位。\n"
      ],
      "metadata": {
        "id": "l7P3tdp8kFag"
      }
    },
    {
      "cell_type": "markdown",
      "source": [
        "### 浮點數 float\n",
        "- 有小數點的數字，Python運算會簡易判斷自動轉換。\n",
        "- 由於電腦是以二進位的數值組合，轉換為十進位的浮點數會有誤差，依[IEEE 754](https://zh.wikipedia.org/wiki/IEEE_754)實作。\n",
        "    - 轉換二進位用`bin()`，在Python中為`0b`開頭的數字，如0b1101。\n",
        "    - 轉換八進位用`oct()`，在Python中為`0o`開頭的數字，如0o61。\n",
        "    - 轉換十六進位用`hex()`，在Python中為`0x`開頭的數字，如0x5D。\n"
      ],
      "metadata": {
        "id": "T-O0o-ujj9Y1"
      }
    },
    {
      "cell_type": "markdown",
      "source": [
        "### 布林 Boolean\n",
        "- 經條件判斷後，回傳結果為`True`或`False`\n",
        "- `int(True)`回傳1；`int(False)`回傳0。"
      ],
      "metadata": {
        "id": "i7k08BDUkQDh"
      }
    },
    {
      "cell_type": "code",
      "metadata": {
        "id": "D6o5Z69rTmz0",
        "colab": {
          "base_uri": "https://localhost:8080/"
        },
        "outputId": "35b9c037-24e2-42d2-dd63-3ea54ff8e32b"
      },
      "source": [
        "type(True)"
      ],
      "execution_count": null,
      "outputs": [
        {
          "output_type": "execute_result",
          "data": {
            "text/plain": [
              "bool"
            ]
          },
          "metadata": {},
          "execution_count": 3
        }
      ]
    },
    {
      "cell_type": "code",
      "metadata": {
        "id": "L0dceqn4TsJB",
        "colab": {
          "base_uri": "https://localhost:8080/"
        },
        "outputId": "2b002f90-560b-4c96-b240-b2b31d115bf3"
      },
      "source": [
        "type(int(True))"
      ],
      "execution_count": null,
      "outputs": [
        {
          "output_type": "execute_result",
          "data": {
            "text/plain": [
              "int"
            ]
          },
          "metadata": {},
          "execution_count": 5
        }
      ]
    },
    {
      "cell_type": "code",
      "metadata": {
        "id": "gBKWyis9TvQi",
        "colab": {
          "base_uri": "https://localhost:8080/"
        },
        "outputId": "88a712ef-cd84-4ee5-9e18-24a9e756febe"
      },
      "source": [
        "int(False)"
      ],
      "execution_count": null,
      "outputs": [
        {
          "output_type": "execute_result",
          "data": {
            "text/plain": [
              "0"
            ]
          },
          "metadata": {},
          "execution_count": 6
        }
      ]
    },
    {
      "cell_type": "markdown",
      "source": [
        "### 字串 String\n",
        "- 以單引號(`'`)或雙引號(`\"`)前後括起來的任意輸入文字。\n",
        "- 如果文句中有單/雙引號，則應以雙/單引號避免錯誤。\n",
        "- 超過一行的字串以3個單引號或3個雙引號包夾\n",
        "- 不想換行的分段輸入，在程式行末增加`\\`符號\n",
        "    "
      ],
      "metadata": {
        "id": "Lg8-UjeUkawQ"
      }
    },
    {
      "cell_type": "code",
      "source": [
        "print(\"Hello World\")\n",
        "print('Hello World')\n",
        "\n",
        "print('I love \"eat\" !')\n",
        "print(\"I love 'eat' !\")"
      ],
      "metadata": {
        "id": "zMExXr8VlwDq",
        "colab": {
          "base_uri": "https://localhost:8080/"
        },
        "outputId": "5fd7b0ff-9455-4791-eb82-1b6dc530d979"
      },
      "execution_count": null,
      "outputs": [
        {
          "output_type": "stream",
          "name": "stdout",
          "text": [
            "Hello World\n",
            "Hello World\n",
            "I love \"eat\" !\n",
            "I love 'eat' !\n"
          ]
        }
      ]
    },
    {
      "cell_type": "code",
      "source": [
        "\"\"\"ghghghjhjhjlhjk\n",
        "jkjkjkjkj\"\"\"\n"
      ],
      "metadata": {
        "colab": {
          "base_uri": "https://localhost:8080/",
          "height": 35
        },
        "id": "zkNHnHkoX41W",
        "outputId": "d08d1d93-02bb-418f-d90d-ffa6f90c42ab"
      },
      "execution_count": null,
      "outputs": [
        {
          "output_type": "execute_result",
          "data": {
            "text/plain": [
              "'ghghghjhjhjlhjk\\njkjkjkjkj'"
            ],
            "application/vnd.google.colaboratory.intrinsic+json": {
              "type": "string"
            }
          },
          "metadata": {},
          "execution_count": 11
        }
      ]
    },
    {
      "cell_type": "code",
      "metadata": {
        "id": "4iIuZRdM-c59",
        "colab": {
          "base_uri": "https://localhost:8080/",
          "height": 35
        },
        "outputId": "97e6a5f0-b62b-4815-9ada-be81b66902a3"
      },
      "source": [
        "  #會因程式換行以致輸出結果換行\n",
        "  \"\"\"\n",
        "  我是胖虎，我是孩子王\n",
        "  我是胖虎，我是孩子王\n",
        "  \"\"\""
      ],
      "execution_count": null,
      "outputs": [
        {
          "output_type": "execute_result",
          "data": {
            "text/plain": [
              "'\\n我是胖虎，我是孩子王\\n我是胖虎，我是孩子王\\n'"
            ],
            "application/vnd.google.colaboratory.intrinsic+json": {
              "type": "string"
            }
          },
          "metadata": {},
          "execution_count": 12
        }
      ]
    },
    {
      "cell_type": "code",
      "source": [
        "  #輸出結果不會換行的方式，行末增加\"\\\"\n",
        "  '''\\\n",
        "  我是胖虎，我是孩子王\\\n",
        "  我是胖虎，我是孩子王\\\n",
        "  '''"
      ],
      "metadata": {
        "id": "Z9Hrr9yKm5sA",
        "colab": {
          "base_uri": "https://localhost:8080/",
          "height": 35
        },
        "outputId": "b30e04c7-2eed-4885-cbe9-10f078915615"
      },
      "execution_count": null,
      "outputs": [
        {
          "output_type": "execute_result",
          "data": {
            "text/plain": [
              "'我是胖虎，我是孩子王我是胖虎，我是孩子王'"
            ],
            "application/vnd.google.colaboratory.intrinsic+json": {
              "type": "string"
            }
          },
          "metadata": {},
          "execution_count": 13
        }
      ]
    },
    {
      "cell_type": "markdown",
      "metadata": {
        "id": "LCXZNqWMiFw-"
      },
      "source": [
        "### 逸出字元(Escape Character)\n",
        "    \n",
        "|逸出字元|意義|\n",
        "|-|-|\n",
        "|`\\'`|顯示出單引號|\n",
        "|`\\\"`|顯示出雙引號|\n",
        "|`\\\\`|顯示出反斜線|\n",
        "|`\\n`|換行|\n",
        "|`\\t`|tab|"
      ]
    },
    {
      "cell_type": "markdown",
      "source": [
        "### 檢查資料型態\n",
        "```\n",
        "type()\n",
        "```"
      ],
      "metadata": {
        "id": "9OcZ8EpvlG3q"
      }
    },
    {
      "cell_type": "markdown",
      "source": [
        "### 轉換資料型態\n",
        "- 轉為文字`str()`，如`str(87)`，結果原來會判別為數字的87變成文字的'87'。\n",
        "- 轉為整數`int()`。\n",
        "- 轉為浮點數`float()`。\n",
        "- 轉為布林`bool()`，非0即為真。"
      ],
      "metadata": {
        "id": "9V4pjX4olOCw"
      }
    },
    {
      "cell_type": "code",
      "metadata": {
        "id": "ue9GjsFScrZL",
        "colab": {
          "base_uri": "https://localhost:8080/",
          "height": 35
        },
        "outputId": "9d58824d-2a53-4dcc-f41e-4fe3695ff95f"
      },
      "source": [
        "# your code here:\n",
        "\n",
        "str(87)\n"
      ],
      "execution_count": null,
      "outputs": [
        {
          "output_type": "execute_result",
          "data": {
            "text/plain": [
              "'87'"
            ],
            "application/vnd.google.colaboratory.intrinsic+json": {
              "type": "string"
            }
          },
          "metadata": {},
          "execution_count": 14
        }
      ]
    },
    {
      "cell_type": "markdown",
      "metadata": {
        "id": "RzlIdwOKu2xP"
      },
      "source": [
        "## 儲存容器\n",
        "-串列 list 、元組 tuple 、集合 Set\n"
      ]
    },
    {
      "cell_type": "markdown",
      "metadata": {
        "id": "QTqmcPogoAs0"
      },
      "source": [
        "### 串列 list `[]`\n",
        "\n"
      ]
    },
    {
      "cell_type": "markdown",
      "metadata": {
        "id": "rDYDucLroF4i"
      },
      "source": [
        "|計算|說明|\n",
        "|-|-|\n",
        "x in L\t|判斷 x 是否在 L 中\n",
        "x not in L\t|判斷 x 是否不在 L 中\n",
        "L + t\t|連接 L 及 t\n",
        "L ＊ n, n ＊ L\t|將 L 重複 n 次連接 L 本身\n",
        "L[i]|\t取得索引值 i 的元素\n",
        "L[i:j]\t|取得索引值 i 到 j 的子序列\n",
        "L[i:j:k]\t|取得索引值 i 到 j ，間隔 k 的子序列\n",
        "len(L)\t|回傳 L 的元素個數\n",
        "min(L)\t|回傳 L 中的最小值\n",
        "max(L)\t|回傳 L 中的最大值\n",
        "L.index(i)\t|取得 L 中第一次出現 i 的索引值\n",
        "L.count(i)\t|累計 L 中 i 出現的個數"
      ]
    },
    {
      "cell_type": "code",
      "metadata": {
        "id": "BGyqM9o1oTdA",
        "colab": {
          "base_uri": "https://localhost:8080/"
        },
        "outputId": "3c45210c-f1d3-4b10-905f-1efc6191333a"
      },
      "source": [
        "L = [9, 5, 2, 7]\n",
        "\n",
        "L"
      ],
      "execution_count": null,
      "outputs": [
        {
          "output_type": "execute_result",
          "data": {
            "text/plain": [
              "[9, 5, 2, 7]"
            ]
          },
          "metadata": {},
          "execution_count": 15
        }
      ]
    },
    {
      "cell_type": "code",
      "metadata": {
        "id": "VoWmZHkiogA2",
        "colab": {
          "base_uri": "https://localhost:8080/"
        },
        "outputId": "e5972b2b-5a0e-4815-a482-b57643b08b53"
      },
      "source": [
        "len(L)"
      ],
      "execution_count": null,
      "outputs": [
        {
          "output_type": "execute_result",
          "data": {
            "text/plain": [
              "4"
            ]
          },
          "metadata": {},
          "execution_count": 16
        }
      ]
    },
    {
      "cell_type": "code",
      "source": [
        "L[0]"
      ],
      "metadata": {
        "colab": {
          "base_uri": "https://localhost:8080/"
        },
        "id": "qdXA5f8NaCaZ",
        "outputId": "20584ad4-a0da-47b8-8dab-0e036641cb69"
      },
      "execution_count": null,
      "outputs": [
        {
          "output_type": "execute_result",
          "data": {
            "text/plain": [
              "9"
            ]
          },
          "metadata": {},
          "execution_count": 17
        }
      ]
    },
    {
      "cell_type": "code",
      "metadata": {
        "id": "KaxP4OKeoqh1",
        "colab": {
          "base_uri": "https://localhost:8080/"
        },
        "outputId": "6e9092a0-4c13-4027-af35-1b76da8acd81"
      },
      "source": [
        "L[:] # [魚頭 : 尾前]"
      ],
      "execution_count": null,
      "outputs": [
        {
          "output_type": "execute_result",
          "data": {
            "text/plain": [
              "5"
            ]
          },
          "metadata": {},
          "execution_count": 18
        }
      ]
    },
    {
      "cell_type": "code",
      "metadata": {
        "id": "7rpX3_p5_OYe",
        "colab": {
          "base_uri": "https://localhost:8080/"
        },
        "outputId": "ea4b724f-ac2c-4ddc-c570-a10bfd934d52"
      },
      "source": [
        "L[0:2]"
      ],
      "execution_count": null,
      "outputs": [
        {
          "output_type": "execute_result",
          "data": {
            "text/plain": [
              "[9, 5]"
            ]
          },
          "metadata": {},
          "execution_count": 19
        }
      ]
    },
    {
      "cell_type": "code",
      "metadata": {
        "id": "LU1lNsNJ_r2n"
      },
      "source": [
        "k=['庭','院','深','深','深','幾','許']"
      ],
      "execution_count": null,
      "outputs": []
    },
    {
      "cell_type": "code",
      "metadata": {
        "id": "3r1jy2AIsx1h"
      },
      "source": [
        "#深深深"
      ],
      "execution_count": null,
      "outputs": []
    },
    {
      "cell_type": "code",
      "metadata": {
        "id": "2iXDaYmz_wYH",
        "colab": {
          "base_uri": "https://localhost:8080/"
        },
        "outputId": "c51175f4-3517-4c3d-8698-903129dd14e5"
      },
      "source": [
        "k[2:5]"
      ],
      "execution_count": null,
      "outputs": [
        {
          "output_type": "execute_result",
          "data": {
            "text/plain": [
              "['深', '深', '深']"
            ]
          },
          "metadata": {},
          "execution_count": 21
        }
      ]
    },
    {
      "cell_type": "code",
      "metadata": {
        "id": "47gS6DypAHCR"
      },
      "source": [
        "!pip install twstock"
      ],
      "execution_count": null,
      "outputs": []
    },
    {
      "cell_type": "code",
      "metadata": {
        "id": "lk8hCNuYAM17",
        "colab": {
          "base_uri": "https://localhost:8080/"
        },
        "outputId": "1b598552-05ae-40b0-ed73-4e1afac2838b"
      },
      "source": [
        "import twstock\n",
        "\n",
        "stock = twstock.Stock(\"2330\")\n",
        "\n",
        "stock.price"
      ],
      "execution_count": 2,
      "outputs": [
        {
          "output_type": "execute_result",
          "data": {
            "text/plain": [
              "[552.0,\n",
              " 555.0,\n",
              " 549.0,\n",
              " 548.0,\n",
              " 557.0,\n",
              " 552.0,\n",
              " 550.0,\n",
              " 542.0,\n",
              " 539.0,\n",
              " 536.0,\n",
              " 544.0,\n",
              " 541.0,\n",
              " 550.0,\n",
              " 558.0,\n",
              " 540.0,\n",
              " 538.0,\n",
              " 535.0,\n",
              " 527.0,\n",
              " 522.0,\n",
              " 525.0,\n",
              " 519.0,\n",
              " 522.0,\n",
              " 523.0,\n",
              " 533.0,\n",
              " 529.0,\n",
              " 520.0,\n",
              " 528.0,\n",
              " 532.0,\n",
              " 544.0,\n",
              " 550.0,\n",
              " 553.0]"
            ]
          },
          "metadata": {},
          "execution_count": 2
        }
      ]
    },
    {
      "cell_type": "code",
      "metadata": {
        "id": "qOpc8ZHrAaBc",
        "colab": {
          "base_uri": "https://localhost:8080/"
        },
        "outputId": "d5225e46-766d-4e6f-f017-5efac01592f1"
      },
      "source": [
        "stock.price[-1]"
      ],
      "execution_count": null,
      "outputs": [
        {
          "output_type": "execute_result",
          "data": {
            "text/plain": [
              "438.0"
            ]
          },
          "metadata": {},
          "execution_count": 25
        }
      ]
    },
    {
      "cell_type": "markdown",
      "metadata": {
        "id": "s1UpBOeVoKjw"
      },
      "source": [
        "|計算|說明|\n",
        "|-|-|\n",
        "L[i] = x\t|將索引值 i 的元素指派為 x\n",
        "L[i:j] = t\t|將索引值 i 到 j 的元素指派為 t ， t 為迭代器\n",
        "del L[i:j]\t|刪除索引值 i 到 j 的元素\n",
        "L[i:j:k] = t\t|將索引值 i 到 j ，間隔 k 的元素指派為 t ， t 為迭代器\n",
        "del L[i:j:k]\t|刪除索引值 i 到 j ，間隔 k 的元素\n",
        "list comprehension\t|列表推導式：運用運算式生成新的串列"
      ]
    },
    {
      "cell_type": "code",
      "metadata": {
        "id": "Ifllvb53tl3C",
        "colab": {
          "base_uri": "https://localhost:8080/"
        },
        "outputId": "87b0f693-55e8-421e-d9e6-af21c200f761"
      },
      "source": [
        "#for 迴圈\n",
        "\n",
        "\n",
        "for i in [1,2,3,4]:\n",
        "    print(i*i)\n"
      ],
      "execution_count": null,
      "outputs": [
        {
          "output_type": "stream",
          "name": "stdout",
          "text": [
            "1\n",
            "4\n",
            "9\n",
            "16\n"
          ]
        }
      ]
    },
    {
      "cell_type": "code",
      "metadata": {
        "id": "Xc_-D-V3ux_A",
        "colab": {
          "base_uri": "https://localhost:8080/"
        },
        "outputId": "c14580ed-fb7d-4f90-822f-de15a1860c7d"
      },
      "source": [
        "r = []\n",
        "\n",
        "for i in range(10):\n",
        "    r.append(i)\n",
        "\n",
        "r"
      ],
      "execution_count": null,
      "outputs": [
        {
          "output_type": "execute_result",
          "data": {
            "text/plain": [
              "[0, 1, 2, 3, 4, 5, 6, 7, 8, 9]"
            ]
          },
          "metadata": {},
          "execution_count": 27
        }
      ]
    },
    {
      "cell_type": "code",
      "metadata": {
        "id": "WMF5iRcNA1ZH"
      },
      "source": [
        "a=[]\n",
        "for i in range(100):\n",
        "  if i % 2 == 1:\n",
        "    a.append(i)\n",
        "\n",
        "a"
      ],
      "execution_count": null,
      "outputs": []
    },
    {
      "cell_type": "code",
      "metadata": {
        "id": "kQLNC6hlj_16"
      },
      "source": [
        "#如以原本寫法如下\n",
        "\n",
        "L = [9, 5, 2, 7]\n",
        "\n",
        "result = [] #先創空list\n",
        "\n",
        "for x in L: #for迴圈逐一判斷\n",
        "  if x > 3: #判斷條件\n",
        "    result.append(x) #符合的結果附加到result串列裡\n",
        "\n",
        "print(result)"
      ],
      "execution_count": null,
      "outputs": []
    },
    {
      "cell_type": "code",
      "metadata": {
        "id": "5tNAtB4DozqD"
      },
      "source": [
        "#列表推導式list comprehension\n",
        "\n",
        "[x for x in L if x > 3]"
      ],
      "execution_count": null,
      "outputs": []
    },
    {
      "cell_type": "code",
      "metadata": {
        "id": "sd4ZOZRSwDjX"
      },
      "source": [
        "a = [ i for i in range(10)]\n",
        "a"
      ],
      "execution_count": null,
      "outputs": []
    },
    {
      "cell_type": "code",
      "metadata": {
        "id": "AsFVXVT0wYrg"
      },
      "source": [
        "b = [ i*i for i in range(10) if i % 2 == 1]\n",
        "b"
      ],
      "execution_count": null,
      "outputs": []
    },
    {
      "cell_type": "code",
      "metadata": {
        "id": "_vOnagPZBN2V",
        "colab": {
          "base_uri": "https://localhost:8080/"
        },
        "outputId": "f41ec84e-457b-4aca-a66a-280530c51590"
      },
      "source": [
        "%%timeit\n",
        "a=[ i**2\n",
        "   for i in range(100)\n",
        "   if i % 2 ==1]\n",
        "a"
      ],
      "execution_count": 15,
      "outputs": [
        {
          "output_type": "stream",
          "name": "stdout",
          "text": [
            "30.2 µs ± 6.61 µs per loop (mean ± std. dev. of 7 runs, 10000 loops each)\n"
          ]
        }
      ]
    },
    {
      "cell_type": "code",
      "source": [
        "%%timeit\n",
        "\n",
        "a=[]\n",
        "for i in range(100):\n",
        "  if i % 2 == 1:\n",
        "    a.append(i*i)\n",
        "\n",
        "a"
      ],
      "metadata": {
        "colab": {
          "base_uri": "https://localhost:8080/"
        },
        "id": "Cap7FWwWRe--",
        "outputId": "a1465d7e-4846-4134-bff2-7d9d3dda074b"
      },
      "execution_count": 14,
      "outputs": [
        {
          "output_type": "stream",
          "name": "stdout",
          "text": [
            "12.2 µs ± 3.62 µs per loop (mean ± std. dev. of 7 runs, 100000 loops each)\n"
          ]
        }
      ]
    },
    {
      "cell_type": "code",
      "metadata": {
        "id": "7vzuXp_84-9D"
      },
      "source": [
        "#sorted(iterable, *, key=None, reverse=False)\n",
        "\n",
        "sorted_L = sorted(L , reverse=True)\n",
        "sorted_L"
      ],
      "execution_count": null,
      "outputs": []
    },
    {
      "cell_type": "markdown",
      "metadata": {
        "id": "cLMHuRG5oNKI"
      },
      "source": [
        "|計算|說明|\n",
        "|-|-|\n",
        "list.append(x)\t|將 x 附加到 list 的最後\n",
        "list.extend(x)\t|將 x 中的元素附加到 list 的最後\n",
        "list.count(x)\t|計算 list 中 x 出現的次數\n",
        "list.index(x[, i[, j]])\t|回傳 x 在 list 最小的索引值\n",
        "list.insert(i, x)\t|將 x 插入 list 索引值 i 的地方\n",
        "list.pop([i])\t|取出 list 中索引值為 i 的元素，預設是最後一個\n",
        "list.remove(x)\t|移除 list 中第一個 x 元素\n",
        "list.reverse()\t|倒轉 list 中元素的順序\n",
        "list.sort([key[, reverse]])\t|排序 list 中的元素"
      ]
    },
    {
      "cell_type": "markdown",
      "metadata": {
        "id": "CEPfC4nYwcNK"
      },
      "source": [
        "### 元組 tuple ()"
      ]
    },
    {
      "cell_type": "markdown",
      "metadata": {
        "id": "B73EuJmmwYUl"
      },
      "source": [
        "- 元組 tuple 屬於不可變 (mutable) 的序列 (sequence) 型別，是不可更改的，可進行以下序列通用的計算。\n",
        "\n",
        "計算|\t說明\n",
        "-|-\n",
        "x in s\t|判斷 x 是否在 s 中\n",
        "x not in s\t|判斷 x 是否不在 s 中\n",
        "s + t\t|連接 s 及 t\n",
        "s * n, n * s\t|將 s 重複 n 次連接 s 本身\n",
        "s[i]\t|取得索引值 i 的元素\n",
        "s[i:j]\t|取得索引值 i 到 j 的子序列\n",
        "s[i:j:k]\t|取得索引值 i 到 j ，間隔 k 的子序列\n",
        "len(s)\t|回傳 s 的元素個數\n",
        "min(s)\t|回傳 s 中的最小值\n",
        "max(s)\t|回傳 s 中的最大值\n",
        "s.index(i)\t|取得 s 中第一次出現 i 的索引值\n",
        "s.count(i)\t|累計 s 中 i 出現的個數\n"
      ]
    },
    {
      "cell_type": "code",
      "metadata": {
        "id": "UMAdC1mvwhdO",
        "colab": {
          "base_uri": "https://localhost:8080/"
        },
        "outputId": "b78bfb71-1c0c-4aba-ca6c-403b206fa7b1"
      },
      "source": [
        "t = 2, 4, 6, 8\n",
        "type(t)"
      ],
      "execution_count": 19,
      "outputs": [
        {
          "output_type": "execute_result",
          "data": {
            "text/plain": [
              "tuple"
            ]
          },
          "metadata": {},
          "execution_count": 19
        }
      ]
    },
    {
      "cell_type": "code",
      "metadata": {
        "id": "ohA0lfRQze1B",
        "colab": {
          "base_uri": "https://localhost:8080/"
        },
        "outputId": "15a6a4ab-98c3-406d-b3c5-e1fe8d643f3d"
      },
      "source": [
        "L"
      ],
      "execution_count": 20,
      "outputs": [
        {
          "output_type": "execute_result",
          "data": {
            "text/plain": [
              "[9, 5, 2, 7]"
            ]
          },
          "metadata": {},
          "execution_count": 20
        }
      ]
    },
    {
      "cell_type": "code",
      "metadata": {
        "id": "oW6mwEnLwl-N",
        "colab": {
          "base_uri": "https://localhost:8080/",
          "height": 201
        },
        "outputId": "576240b1-2130-4853-8023-67b70235757e"
      },
      "source": [
        "#更改會報錯\n",
        "t[0] = 1"
      ],
      "execution_count": 21,
      "outputs": [
        {
          "output_type": "error",
          "ename": "TypeError",
          "evalue": "ignored",
          "traceback": [
            "\u001b[0;31m---------------------------------------------------------------------------\u001b[0m",
            "\u001b[0;31mTypeError\u001b[0m                                 Traceback (most recent call last)",
            "\u001b[0;32m<ipython-input-21-8d6c77d66458>\u001b[0m in \u001b[0;36m<cell line: 2>\u001b[0;34m()\u001b[0m\n\u001b[1;32m      1\u001b[0m \u001b[0;31m#更改會報錯\u001b[0m\u001b[0;34m\u001b[0m\u001b[0;34m\u001b[0m\u001b[0m\n\u001b[0;32m----> 2\u001b[0;31m \u001b[0mt\u001b[0m\u001b[0;34m[\u001b[0m\u001b[0;36m0\u001b[0m\u001b[0;34m]\u001b[0m \u001b[0;34m=\u001b[0m \u001b[0;36m1\u001b[0m\u001b[0;34m\u001b[0m\u001b[0;34m\u001b[0m\u001b[0m\n\u001b[0m",
            "\u001b[0;31mTypeError\u001b[0m: 'tuple' object does not support item assignment"
          ]
        }
      ]
    },
    {
      "cell_type": "code",
      "metadata": {
        "id": "KXlYCiIKDtOi",
        "colab": {
          "base_uri": "https://localhost:8080/"
        },
        "outputId": "580d73f3-900a-43ba-e6d2-07d7159ccd0f"
      },
      "source": [
        "2 in t"
      ],
      "execution_count": 22,
      "outputs": [
        {
          "output_type": "execute_result",
          "data": {
            "text/plain": [
              "True"
            ]
          },
          "metadata": {},
          "execution_count": 22
        }
      ]
    },
    {
      "cell_type": "markdown",
      "metadata": {
        "id": "XtYhHji5xVjZ"
      },
      "source": [
        "### 集合Set {}\n"
      ]
    },
    {
      "cell_type": "markdown",
      "metadata": {
        "id": "1CUyljg5xURE"
      },
      "source": [
        "- 集合set使用大括弧圍起來，但沒有重複的元素，且無序的存放元素。可將集合視為無鍵的字典物件。\n",
        "- 針對集合的`in`操作速度非常快，資料量大時更適合。\n",
        "- 不常用，但用在找出不重複的資料時好用。"
      ]
    },
    {
      "cell_type": "code",
      "metadata": {
        "id": "rdCJjxDOxWiG",
        "colab": {
          "base_uri": "https://localhost:8080/"
        },
        "outputId": "9f8ecd83-3b89-4894-a65c-bf9a15572eed"
      },
      "source": [
        "s1 = {9,9,5,5,2,2,7,7}\n",
        "s2 = {9,5,2,7}\n",
        "s1 == s2"
      ],
      "execution_count": 25,
      "outputs": [
        {
          "output_type": "execute_result",
          "data": {
            "text/plain": [
              "True"
            ]
          },
          "metadata": {},
          "execution_count": 25
        }
      ]
    },
    {
      "cell_type": "code",
      "metadata": {
        "id": "PQFwEpzq0Kcv",
        "colab": {
          "base_uri": "https://localhost:8080/"
        },
        "outputId": "4bfdc9c9-f4c5-4651-ddba-778eb342e0ad"
      },
      "source": [
        "s1"
      ],
      "execution_count": 26,
      "outputs": [
        {
          "output_type": "execute_result",
          "data": {
            "text/plain": [
              "{2, 5, 7, 9}"
            ]
          },
          "metadata": {},
          "execution_count": 26
        }
      ]
    },
    {
      "cell_type": "code",
      "metadata": {
        "id": "lnufk7NG0hrW"
      },
      "source": [
        "# !pip install jieba"
      ],
      "execution_count": null,
      "outputs": []
    },
    {
      "cell_type": "code",
      "metadata": {
        "id": "ElCI5lmUZd7P"
      },
      "source": [
        "import jieba\n",
        "\n",
        "text = \"\"\"2023 iThome 鐵人賽\n",
        "iThome 鐵人賽是 IT 圈的年度盛事，是推動台灣 IT 技術向上成長的重要力量！每年逾千名 IT 行內人透過鐵人賽「連續 30 天發表技術文章不中斷」，寫出一整年的成長與學習、爆發驚人的技術能量。\n",
        "鐵人們在賽事中寫下的成果，深獲業界好評與肯定。在博碩文化與 iThome 攜手合作之下，從 2018 年開始，陸續出版了多位得獎者的作品，讓得獎的鐵人們得以分享他們的榮耀與成果，幫助更多的讀者群、發揮更大的影響力，並且在寫code的人生中，為自己寫下最珍貴的那一頁。\n",
        "在 iThome 鐵人賽的 30 天挑戰中，參賽者每一天都必須努力趕在午夜 12 點前、克服萬難，按下【送出】鍵，更別說賽期中還有中秋、國慶兩大殺手連假。當你已經艱辛奮鬥，攀越學業、社交、職場、家庭等一座座山峰，不管是喘氣休息、還是正駐足欣賞當前美景，是否還有勇氣與毅力，繼續登頂？許多鐵人們回想參賽以來最大的收獲，往往就是「原來我做得到」。\n",
        "越來越多 IT 人透過 iThome 鐵人賽展現自我，並自豪地將賽事成果列入自己的履歷（讓徵才企業垂涎不已）。不用高估世界，也不用低估自己，今年就和眾多 IT 同儕一起喚醒心中最強大的鐵人！再一步，世界就在你的腳下。\"\"\"\n",
        "\n",
        "wordlist = jieba.cut(text,cut_all=False)\n",
        "wordlist = [ seg for seg in wordlist ]\n",
        "\n",
        "wordlist"
      ],
      "execution_count": null,
      "outputs": []
    },
    {
      "cell_type": "code",
      "metadata": {
        "id": "oBT4TyDGcons"
      },
      "source": [
        "wordset = set(wordlist)\n",
        "wordset"
      ],
      "execution_count": null,
      "outputs": []
    },
    {
      "cell_type": "code",
      "metadata": {
        "id": "xBkiJvWG2ZRs"
      },
      "source": [
        "'鐵人' in wordlist"
      ],
      "execution_count": null,
      "outputs": []
    },
    {
      "cell_type": "code",
      "metadata": {
        "id": "kRC_l6BDM2Iq"
      },
      "source": [
        "%%timeit\n",
        "'鐵人' in wordlist"
      ],
      "execution_count": null,
      "outputs": []
    },
    {
      "cell_type": "code",
      "metadata": {
        "id": "TwD4ebjbM9Qb"
      },
      "source": [
        "%timeit '鐵人' in wordset"
      ],
      "execution_count": null,
      "outputs": []
    },
    {
      "cell_type": "markdown",
      "metadata": {
        "id": "oLfIEvonyY8i"
      },
      "source": [
        "計算\t|說明\n",
        "    -|-\n",
        "    x in s\t|判斷 x 是否在 s 中\n",
        "    x not in s\t|判斷 x 是否不在 s 中\n",
        "    s1 & s2\t|且運算，取得 s1 與 s2 的交集，等於 s1.intersection(s2)\n",
        "    s2 | s2\t|或運算，取得 s1 與 s2 的聯集，等於 s1.union(s2)\n",
        "    s1 ^ s2\t|對稱差運算，取得 s1 與 s2 的對稱差集，等於 s1.symmetric_difference(s2)\n",
        "    s1 - s2\t|差運算，取得 s1 與 s2 的差集，等於 s1.difference(s2)\n",
        "    s1 < s2\t|判斷 s1 是否為 s2 的真子集\n",
        "    s1 <= s2\t|判斷 s1 是否為 s2 的子集，等於 s1.issubset(s2)\n",
        "    s1 > s2\t|判斷 s2 是否為 s1 的真子集\n",
        "    s1 >= s2\t|判斷 s2 是否為 s1 的子集，等於 s1.issuperset(s2)\n",
        "    len(s)\t|回傳 s 的元素個數\n",
        "    min(s)\t|回傳 s 中的最小值， s 中的元素必須是相同型態\n",
        "    max(s)\t|回傳 s 中的最大值， s 中的元素必須是相同型態\n",
        "\n",
        "\n",
        "- 由於 set 型態是可變的，因此有額外兩個新增與刪除元素的方法：\n",
        "\n",
        "方法|說明\n",
        "-|-\n",
        "s.add(e)|增加 e 為 s 的元素\n",
        "s.remove(e)\t|從 s 中刪除元素 e\n"
      ]
    },
    {
      "cell_type": "markdown",
      "metadata": {
        "id": "QwX0KwQBVi-1"
      },
      "source": [
        "### 字典Dictionary"
      ]
    },
    {
      "cell_type": "markdown",
      "metadata": {
        "id": "9IWvGnwmVq0I"
      },
      "source": [
        "- 以`{}`以及冒號`:`來分隔鍵與值，以創建字典物件\n",
        "- 建立字典變數可利用大括弧，裡頭以 `key:value` 為配對的資料項目，每一筆資料再以逗號區隔開，例如\n",
        "`d1 = {one:\"a\", two:\"b\"}`\n",
        "\n",
        "- 使用字典須注意， key 必須是不可變的資料型態，且不可重複，如數字、字串 (string) 等； value 沒有限制，因此有需要的話，使用串列 (list) 或字典皆可。\n",
        "\n",
        "- 也可以利用字典型態的建構子 (constructor) 建立物件。"
      ]
    },
    {
      "cell_type": "markdown",
      "source": [
        "- 字典、串列與JSON相似，用法可以相互參照\n",
        "- 一個公車交通資訊API [MOTC Transport API V2](https://ptx.transportdata.tw/MOTC/?t=Tourism&v=2#/)"
      ],
      "metadata": {
        "id": "Ho0QRmRsEU4B"
      }
    },
    {
      "cell_type": "markdown",
      "source": [
        "- 一個產品資訊API\n",
        "    ```\n",
        "    //\n",
        "    //取得產品列表(Get)：/api/livejs/v1/customer/{api_path}/products\n",
        "    {\n",
        "    \"status\": true,\n",
        "    \"products\": [\n",
        "        {\n",
        "        \"category\": \"產品分類 (String)\",\n",
        "        \"image\": \"產品圖片 (String)\",\n",
        "        \"id\": \"產品ID  (String)\",\n",
        "        \"title\": \"產品名稱  (String)\",\n",
        "        \"origin_price\": \"產品原始價錢 (Number)\",\n",
        "        \"price\": \"產品銷售價錢 (Number)\"\n",
        "        }\n",
        "    ]\n",
        "    }\n",
        "    ```"
      ],
      "metadata": {
        "id": "9mg2VtUeDAH5"
      }
    },
    {
      "cell_type": "code",
      "source": [
        "{\"數學\": [100, 90, 80, 70] }"
      ],
      "metadata": {
        "id": "zdrucczYE6al"
      },
      "execution_count": null,
      "outputs": []
    },
    {
      "cell_type": "code",
      "source": [
        "身高體重 = {\"andy\": [183, 70], \"Alice\": [163, 45]}"
      ],
      "metadata": {
        "id": "aC9BgZiSE-EA"
      },
      "execution_count": null,
      "outputs": []
    },
    {
      "cell_type": "code",
      "source": [
        "身高體重"
      ],
      "metadata": {
        "id": "qTzsMUESFGBc"
      },
      "execution_count": null,
      "outputs": []
    },
    {
      "cell_type": "code",
      "metadata": {
        "id": "xZlstgZbWVuS",
        "colab": {
          "base_uri": "https://localhost:8080/"
        },
        "outputId": "4aa4e100-68d5-42c9-90c2-1792a268974b"
      },
      "source": [
        "{\"one\":\"a\", \"two\":\"b\"}"
      ],
      "execution_count": 29,
      "outputs": [
        {
          "output_type": "execute_result",
          "data": {
            "text/plain": [
              "{'one': 'a', 'two': 'b'}"
            ]
          },
          "metadata": {},
          "execution_count": 29
        }
      ]
    },
    {
      "cell_type": "markdown",
      "source": [
        "- 組成dict的4種方法"
      ],
      "metadata": {
        "id": "R9DcrdEBUMhW"
      }
    },
    {
      "cell_type": "code",
      "source": [
        "dict(one=\"a\", two=\"b\")"
      ],
      "metadata": {
        "id": "vNMqqvQTFLUW"
      },
      "execution_count": null,
      "outputs": []
    },
    {
      "cell_type": "code",
      "source": [
        "dict({\"one\":\"a\", \"two\":\"b\"})"
      ],
      "metadata": {
        "id": "5AdTF5ZeFM03"
      },
      "execution_count": null,
      "outputs": []
    },
    {
      "cell_type": "code",
      "source": [
        "dict(zip((\"one\", \"two\"), (\"a\", \"b\")))"
      ],
      "metadata": {
        "id": "75nYlnOEFPE0"
      },
      "execution_count": null,
      "outputs": []
    },
    {
      "cell_type": "code",
      "metadata": {
        "id": "f75wL86m4YaP"
      },
      "source": [
        "dict([[\"one\", \"a\"], [\"two\", \"b\"]])"
      ],
      "execution_count": null,
      "outputs": []
    },
    {
      "cell_type": "markdown",
      "metadata": {
        "id": "cb6Y3ySDWvaS"
      },
      "source": [
        "- 字典物件可進行以下的運算\n",
        "\n",
        "|計算|\t說明|\n",
        "-|-\n",
        "d[key]\t|從 d 中取得 key 的 value\n",
        "d[key] = value\t|指定 d 的 key 的值為 value\n",
        "del d[key]\t|刪除 d 的 key 值\n",
        "key in d\t|判斷 key 是否在 d 中\n",
        "key not in d\t|判斷 key 是否不在 d 中\n",
        "iter(d)\t|回傳由 d 的 key 建立的迭代器\n",
        "len(d)\t|回傳 d 的配對資料個數"
      ]
    },
    {
      "cell_type": "markdown",
      "metadata": {
        "id": "nV9n9aSyXAAR"
      },
      "source": [
        "- 字典物件的方法 (method)\n",
        "\n",
        "|方法|\t描述|\n",
        "-|-\n",
        "dict.clear()\t|清空 dict 的所有配對資料\n",
        "dict.copy()\t|回傳 dict 的拷貝\n",
        "classmethod dict.fromkeys(seq[, value])\t|由 seq 中的元素構成 key ，每個 key 都給相同的 value 值\n",
        "dict.get(key[, default])\t|從 dict 中取得 key 的 value ，若無此 key 則回傳 default ， default 預設為 None\n",
        "dict.items()\t|回傳 dict_items 物件，使 key:value 儲存為序對，然後依序儲存在 dict_items 物件中\n",
        "dict.keys()\t|回傳 dict_items 物件，使 key 依序儲存在 dict_items 物件中\n",
        "dict.pop(key[, default])\t|將 key 的 value 從 dict 移除，若無此 kay ，回傳 default\n",
        "dict.popitem()\t|從 dict 移除任意一組 key:value\n",
        "dict.setdefault(key[, default])\t|如果 key 在 dict 中，回傳 value 值，反之，將 key:default 加入 dict 之中\n",
        "dict.update([other])\t|將 dict 以 other 更新\n",
        "dict.values()\t|回傳 dict_items 物件，使 value 依序儲存在 dict_items 物件中\n"
      ]
    },
    {
      "cell_type": "code",
      "metadata": {
        "id": "zCjgtIELt_Po"
      },
      "source": [
        "d1 = {'a' : 'C8763', \"b\" : [9, 5, 2, 7]}\n",
        "d1"
      ],
      "execution_count": null,
      "outputs": []
    },
    {
      "cell_type": "code",
      "metadata": {
        "id": "4SlfFqXU5rNT"
      },
      "source": [
        "type(d1[\"b\"])"
      ],
      "execution_count": null,
      "outputs": []
    },
    {
      "cell_type": "code",
      "metadata": {
        "id": "RdJ02qDbuDRq"
      },
      "source": [
        "d1[\"天線寶寶\"]=\"你好\"\n",
        "d1"
      ],
      "execution_count": null,
      "outputs": []
    },
    {
      "cell_type": "code",
      "metadata": {
        "id": "O4OpK27r6A1Y"
      },
      "source": [
        "bike = [{\"地點\":\"台中火車站\",\"車位\":0},{\"地點\":\"高美濕地\",\"車位\":100}]"
      ],
      "execution_count": null,
      "outputs": []
    },
    {
      "cell_type": "code",
      "metadata": {
        "id": "y3TYe_PjuH2t"
      },
      "source": [
        "d1['b']"
      ],
      "execution_count": null,
      "outputs": []
    },
    {
      "cell_type": "code",
      "metadata": {
        "id": "_irZR6qluL94"
      },
      "source": [
        "'b' in d1"
      ],
      "execution_count": null,
      "outputs": []
    },
    {
      "cell_type": "code",
      "metadata": {
        "id": "qi3nSp6QuP_K"
      },
      "source": [
        "del d1['b']\n",
        "d1"
      ],
      "execution_count": null,
      "outputs": []
    },
    {
      "cell_type": "code",
      "metadata": {
        "id": "85JNHCiDuWZS"
      },
      "source": [
        "d1.keys()"
      ],
      "execution_count": null,
      "outputs": []
    },
    {
      "cell_type": "code",
      "metadata": {
        "id": "q898i3dEuaQR"
      },
      "source": [
        "d1.values()"
      ],
      "execution_count": null,
      "outputs": []
    },
    {
      "cell_type": "code",
      "metadata": {
        "id": "ssU0_oTS3Som"
      },
      "source": [
        "d1.items()"
      ],
      "execution_count": null,
      "outputs": []
    },
    {
      "cell_type": "markdown",
      "metadata": {
        "id": "d3Y7iVhiug3C"
      },
      "source": [
        "- 可以update方法將字典合併"
      ]
    },
    {
      "cell_type": "code",
      "metadata": {
        "id": "--Qq2vucurMp"
      },
      "source": [
        "d1.update({'b':9487 , 'c': 'ithome'})\n",
        "d1  # 'b':[9,5,2,7]被覆寫掉了"
      ],
      "execution_count": null,
      "outputs": []
    },
    {
      "cell_type": "markdown",
      "metadata": {
        "id": "9y236yrdSumf"
      },
      "source": [
        "## 格式化輸出"
      ]
    },
    {
      "cell_type": "markdown",
      "metadata": {
        "id": "0ucylrK0Sw3g"
      },
      "source": [
        "### 認識print()函式\n"
      ]
    },
    {
      "cell_type": "markdown",
      "metadata": {
        "id": "MNGgXNA3y3aS"
      },
      "source": [
        "\n",
        "- `print(*objects, sep=' ', end='\\n', file=sys.stdout, flush=False)`\n",
        "    - `*objects`: 接受輸出的內容，多筆資料以逗號隔開。\n",
        "    - `sep`: 間隔，預設一個空白。\n",
        "    - `end`: 預設為`\\n`即換行。\n",
        "    - `file`: 預設為螢幕輸出。\n",
        "    - `flush`: 預設為布清除資料緩衝區。\n",
        "- 各參數不指定修改即為預設值。\n",
        "- 未來各種函數詳細內容可參閱文檔，或使用`help(print)`、`?print`查詢。"
      ]
    },
    {
      "cell_type": "code",
      "metadata": {
        "id": "5cfymMVxUXCt"
      },
      "source": [
        "?print\n",
        "# help(print)"
      ],
      "execution_count": null,
      "outputs": []
    },
    {
      "cell_type": "markdown",
      "metadata": {
        "id": "oUsFs5RcSzWy"
      },
      "source": [
        "### 格式化 print() 輸出語法"
      ]
    },
    {
      "cell_type": "markdown",
      "metadata": {
        "id": "fTxPF08mS4PI"
      },
      "source": [
        "#### `%`\n",
        "- 以類似C語言的`printf`語法輸出\n",
        "\n"
      ]
    },
    {
      "cell_type": "markdown",
      "metadata": {
        "id": "_vCXXuaQVHa5"
      },
      "source": [
        "\n",
        "|語法|說明|\n",
        "|-|-|\n",
        "|%s|輸出文字\n",
        "|%f|輸出浮點數\n",
        "|%d|輸出十進位整數\n",
        "|%e、%E|以科學記號輸出數值\n",
        "|%o|以八進位整數方式輸出數值\n",
        "|%x、%X|以十六進位整數方式輸出數值\n",
        "|%c|以字元方式輸出\n",
        "|%r|以 repr() 函數輸出文字\n",
        "|%%|輸出 % 百分比符號\n"
      ]
    },
    {
      "cell_type": "code",
      "metadata": {
        "id": "8gzV5_7RinVp",
        "colab": {
          "base_uri": "https://localhost:8080/"
        },
        "outputId": "78d7591d-ddd5-42a8-97fa-1004f535bfad"
      },
      "source": [
        "word_1 = 'Main9'\n",
        "word_2 = '48794'\n",
        "word_3 = '狂'\n",
        "print('%s%s%s' % (word_1, word_2, word_3))"
      ],
      "execution_count": null,
      "outputs": [
        {
          "output_type": "stream",
          "name": "stdout",
          "text": [
            "Main948794狂\n"
          ]
        }
      ]
    },
    {
      "cell_type": "markdown",
      "metadata": {
        "id": "UAMskvadWh0y"
      },
      "source": [
        "![](https://imgur.dcard.tw/P30BHIO.jpg)\n"
      ]
    },
    {
      "cell_type": "code",
      "metadata": {
        "id": "fCtrN1qMAx2C"
      },
      "source": [
        "#新八戰鬥力\n",
        "fp = {\"新八\":362, \"一般人\":360}"
      ],
      "execution_count": null,
      "outputs": []
    },
    {
      "cell_type": "code",
      "metadata": {
        "id": "_2f5-dN89GjU",
        "colab": {
          "base_uri": "https://localhost:8080/"
        },
        "outputId": "f48edb04-8b37-4df3-dde2-f6f430d85bd7"
      },
      "source": [
        "fp[\"新八\"]"
      ],
      "execution_count": null,
      "outputs": [
        {
          "output_type": "execute_result",
          "data": {
            "text/plain": [
              "362"
            ]
          },
          "metadata": {},
          "execution_count": 37
        }
      ]
    },
    {
      "cell_type": "code",
      "metadata": {
        "id": "t5wzI5_B9mKa",
        "colab": {
          "base_uri": "https://localhost:8080/"
        },
        "outputId": "823b3ab4-8160-4182-b5dd-71cb43a07c7d"
      },
      "source": [
        "print(\n",
        "    \"志村新八比一般人強%d個昆布，戰鬥力比一般人高%.2f%%個昆布\" %(\n",
        "        fp[\"新八\"] - fp[\"一般人\"],\n",
        "        (fp[\"新八\"] - fp[\"一般人\"])/fp[\"一般人\"] *100)\n",
        "    )"
      ],
      "execution_count": null,
      "outputs": [
        {
          "output_type": "stream",
          "name": "stdout",
          "text": [
            "志村新八比一般人強2個昆布，戰鬥力比一般人高0.56%個昆布\n"
          ]
        }
      ]
    },
    {
      "cell_type": "code",
      "metadata": {
        "id": "eJx4RyxcEkXs",
        "colab": {
          "base_uri": "https://localhost:8080/"
        },
        "outputId": "1b83d102-a2e9-4962-fac6-21bb1e5af546"
      },
      "source": [
        "fp1 = fp[\"新八\"] - fp[\"一般人\"]\n",
        "fp2 = (fp[\"新八\"] - fp[\"一般人\"]) / fp[\"一般人\"] *100\n",
        "\n",
        "print(\"志村新八比一般人強%d個昆布，戰鬥力比一般人高%.2f%%個昆布\" % (fp1, fp2))"
      ],
      "execution_count": null,
      "outputs": [
        {
          "output_type": "stream",
          "name": "stdout",
          "text": [
            "志村新八比一般人強2個昆布，戰鬥力比一般人高0.56%個昆布\n"
          ]
        }
      ]
    },
    {
      "cell_type": "markdown",
      "metadata": {
        "id": "M3WkiendU-g1"
      },
      "source": [
        "\n",
        "##### `%`空間與對齊\n",
        "- 控制輸出排版結果，以及控制小數點顯示位數\n",
        "- 以`%s`的`%`及`s`中間加入格式語法表示\n",
        "\n",
        "|目的|表示|\n",
        "|-|-|\n",
        "|以m格輸出|`\"%ms\" % _`|\n",
        "|數值空白前補0|`\"%0md\" % _`|\n",
        "|以m格靠左對齊|`\"%-ms\" % _`|\n",
        "|限制輸出字串長度上限|`\"%.ms\" % _`|\n",
        "|浮點數設定總寬度m及小數位數n|`\"%m.nf\" % _`|\n",
        "|強迫顯示正負號|`\"%+d\" % _`|\n",
        "|負號顯示、正數留空|`\"% d\" % _`|"
      ]
    },
    {
      "cell_type": "markdown",
      "metadata": {
        "id": "nYsQWeFXVNZO"
      },
      "source": [
        "#### `format`"
      ]
    },
    {
      "cell_type": "markdown",
      "metadata": {
        "id": "Cp_3xAYyS_oK"
      },
      "source": [
        "- `format`會自動處理各種類型的資料。\n",
        "- 如有2個以上的格式化輸出內容\n"
      ]
    },
    {
      "cell_type": "code",
      "metadata": {
        "id": "AmvkbMTwVPst",
        "colab": {
          "base_uri": "https://localhost:8080/"
        },
        "outputId": "83b86321-80b2-4685-f079-5193fe42c100"
      },
      "source": [
        "# 字串格式化\n",
        "msg='{}, {}!'.format('Hello','World')\n",
        "print(msg)"
      ],
      "execution_count": null,
      "outputs": [
        {
          "output_type": "stream",
          "name": "stdout",
          "text": [
            "Hello, World!\n"
          ]
        }
      ]
    },
    {
      "cell_type": "code",
      "metadata": {
        "id": "9cfZMwCNVbzP",
        "colab": {
          "base_uri": "https://localhost:8080/"
        },
        "outputId": "24a46679-fa65-4398-fa3b-bdf2f3013eaf"
      },
      "source": [
        "#照順序\n",
        "print(\"{} , {}!\".format(\"Hello\",\"World\"))"
      ],
      "execution_count": null,
      "outputs": [
        {
          "output_type": "stream",
          "name": "stdout",
          "text": [
            "Hello , World!\n"
          ]
        }
      ]
    },
    {
      "cell_type": "code",
      "source": [
        "#自編順序\n",
        "print(\"{1} , {0}!\".format(\"World\",\"Hello\"))"
      ],
      "metadata": {
        "id": "AYL4MfuKJBG9",
        "colab": {
          "base_uri": "https://localhost:8080/"
        },
        "outputId": "26394d8b-0550-48b1-92fa-9fa764f4c952"
      },
      "execution_count": null,
      "outputs": [
        {
          "output_type": "stream",
          "name": "stdout",
          "text": [
            "Hello , World!\n"
          ]
        }
      ]
    },
    {
      "cell_type": "code",
      "metadata": {
        "id": "gT5SnivHFkBA",
        "colab": {
          "base_uri": "https://localhost:8080/"
        },
        "outputId": "5f96b3bc-9660-416b-e8d1-0ae7661ff684"
      },
      "source": [
        "print(\"志村新八比一般人強{:^+10.3f}個昆布，戰鬥力比一般人高{:.2}%個昆布\".format(fp1,fp2))"
      ],
      "execution_count": null,
      "outputs": [
        {
          "output_type": "stream",
          "name": "stdout",
          "text": [
            "志村新八比一般人強  +2.000  個昆布，戰鬥力比一般人高0.56%個昆布\n"
          ]
        }
      ]
    },
    {
      "cell_type": "markdown",
      "metadata": {
        "id": "L5PmSyumVYKj"
      },
      "source": [
        "##### `format`空間與對齊\n",
        "    \n",
        "|目的|表示|\n",
        "|-|-|\n",
        "|以m格輸出|`\"{:m}\".format()`|\n",
        "|數值空白前補0|`\"{:0m}\".format()`|\n",
        "|靠右對齊|`\"{:>m}\".format()`|\n",
        "|靠左對齊|`\"{:<m}\".format()`|\n",
        "|置中對齊|`\"{:^m}\".format()`|\n",
        "|限制輸出字串長度上限|`\"{:.m}\".format()`|\n",
        "|浮點數設定總寬度m及小數位數n|`\"{:m.nf}\".format()`|\n",
        "|強迫顯示正負號|`\"{:+m}\".format()`|\n",
        "|負號顯示、正數留空|`\"{: m}\".format()`|\n"
      ]
    },
    {
      "cell_type": "markdown",
      "metadata": {
        "id": "uNwe6na8o5NM"
      },
      "source": [
        "#### `f-string`\n",
        "- Python 的格式化輸出自3.6版本起支援以 `f` 作為字串開頭的格式化代碼，更為簡潔易用。\n",
        "- 排版比照`format()`用法。\n",
        "```\n",
        "f\"{word:m.nf}\"\n",
        "```\n"
      ]
    },
    {
      "cell_type": "code",
      "metadata": {
        "id": "lBPhsGt7pM5g"
      },
      "source": [
        "#3種寫法一次比較\n",
        "name = \"巧虎\"\n",
        "age = 3"
      ],
      "execution_count": null,
      "outputs": []
    },
    {
      "cell_type": "code",
      "source": [
        "print(\"大家好我是%s，我今年%s歲!\"% (name, age))\n",
        "print(\"大家好我是{}，我今年{}歲!\".format(name, age))"
      ],
      "metadata": {
        "id": "onf75mL_KuHM",
        "colab": {
          "base_uri": "https://localhost:8080/"
        },
        "outputId": "3aed5855-07a9-4fa6-c9b8-0b435895db5c"
      },
      "execution_count": null,
      "outputs": [
        {
          "output_type": "stream",
          "name": "stdout",
          "text": [
            "大家好我是巧虎，我今年3歲!\n",
            "大家好我是巧虎，我今年3歲!\n"
          ]
        }
      ]
    },
    {
      "cell_type": "code",
      "source": [
        "print(f\"大家好我是{name}，我今年{age}歲!\")\n",
        "print(f\"{name}好乖，叔叔帶你喝養樂多!\")"
      ],
      "metadata": {
        "id": "qGKQMAfkKpr2",
        "colab": {
          "base_uri": "https://localhost:8080/"
        },
        "outputId": "522fa07f-a032-42de-97d4-c04470f5c41b"
      },
      "execution_count": null,
      "outputs": [
        {
          "output_type": "stream",
          "name": "stdout",
          "text": [
            "大家好我是巧虎，我今年3歲!\n",
            "巧虎好乖，叔叔帶你喝養樂多!\n"
          ]
        }
      ]
    },
    {
      "cell_type": "code",
      "metadata": {
        "id": "UqWQyFlliuSi",
        "colab": {
          "base_uri": "https://localhost:8080/"
        },
        "outputId": "1d4fc519-02ae-47cc-816b-4a1935e18f93"
      },
      "source": [
        "print(f\"大家好我是{name:^10}，我今年{age:^10.1f}歲!\")"
      ],
      "execution_count": null,
      "outputs": [
        {
          "output_type": "stream",
          "name": "stdout",
          "text": [
            "大家好我是    巧虎    ，我今年   3.0    歲!\n"
          ]
        }
      ]
    },
    {
      "cell_type": "code",
      "metadata": {
        "id": "P1clQpHllbKe",
        "colab": {
          "base_uri": "https://localhost:8080/"
        },
        "outputId": "10f75213-ec4a-4c97-af74-8c1e23c33ba0"
      },
      "source": [
        "import requests\n",
        "\n",
        "say = \"大家好我是啾啾協\"\n",
        "url = f\"https://howger.orange.tw/?mode=convert&translate=1&keys={say}&s=1.5\"\n",
        "\n",
        "r = requests.get(url)\n",
        "mov = r.text.split(\"id=\")[1][:13]\n",
        "mp4 = f\"https://howger.orange.tw/data/{mov}.mp4?\"\n",
        "print(mp4)"
      ],
      "execution_count": null,
      "outputs": [
        {
          "output_type": "stream",
          "name": "stdout",
          "text": [
            "https://howger.orange.tw/data/634128f59e23f.mp4?\n"
          ]
        }
      ]
    },
    {
      "cell_type": "code",
      "metadata": {
        "id": "ALiKlYNKnCcg",
        "colab": {
          "base_uri": "https://localhost:8080/",
          "height": 471
        },
        "outputId": "029f2204-a22d-48e4-a51d-51182d2ffe46"
      },
      "source": [
        "from IPython.display import HTML\n",
        "from base64 import b64encode\n",
        "\n",
        "\n",
        "HTML(f\"\"\"\n",
        "    <video width=800 controls>\n",
        "        <source src={mp4} type=\"video/mp4\">\n",
        "    </video>\"\"\"\n",
        "    )"
      ],
      "execution_count": null,
      "outputs": [
        {
          "output_type": "execute_result",
          "data": {
            "text/plain": [
              "<IPython.core.display.HTML object>"
            ],
            "text/html": [
              "\n",
              "    <video width=800 controls>\n",
              "        <source src=https://howger.orange.tw/data/634128f59e23f.mp4? type=\"video/mp4\">\n",
              "    </video>"
            ]
          },
          "metadata": {},
          "execution_count": 49
        }
      ]
    },
    {
      "cell_type": "markdown",
      "metadata": {
        "id": "qfTjluhRySkS"
      },
      "source": [
        "## 第二個動手做 - 用`f-string`製作Google Map 有效的超連結\n",
        "\n"
      ]
    },
    {
      "cell_type": "markdown",
      "source": [
        "### 網址挖洞練習:\n",
        "- 透過以下程式碼，搜尋地名、經緯度。\n",
        "- 用地名、經緯度等方法建立有效的 Google Map 連結\n",
        "- 完成要求:\n",
        "  1. 用 f-string\n",
        "  2. 輸出連結可連到正確位址\n",
        "  3. 換地點\n",
        "\n",
        "### 有效連結範例，請好好觀察網址\n",
        "- 經緯度定位\n",
        "    - https://www.google.com/maps/search/?api=1&map_action=map&zoom=16&query=24.149660,120.684166\n",
        "- 以地標搜尋\n",
        "    - https://www.google.com/maps/search/?api=1&query=台中科大\n",
        "- 導航\n",
        "    - https://www.google.com/maps/dir/?api=1&origin=台中火車站&destination=台中高鐵&travelmode=transit  (travelmode = [driving, walking, bicycling, transit)\n",
        "\n",
        "\n",
        "### 可查閱的資料\n",
        "- [Google Map Url 指引](https://developers.google.com/maps/documentation/urls/get-started?hl=zh-tw)\n",
        "- [好心人整理](https://svc.011.idv.tw/CodeHelper/Google/GISApi/index.htm)\n"
      ],
      "metadata": {
        "id": "bUJuEVfciR-7"
      }
    },
    {
      "cell_type": "code",
      "metadata": {
        "id": "yTk3wlwwvTUU"
      },
      "source": [
        "!pip install geocoder"
      ],
      "execution_count": null,
      "outputs": []
    },
    {
      "cell_type": "code",
      "metadata": {
        "id": "WtxBQFeGsWoy"
      },
      "source": [
        "# 查經緯度座標，注意Google MAP經緯度少一位數\n",
        "import geocoder\n",
        "\n",
        "location_name = \"國立台中科技大學\" #@param {type:\"string\"}\n",
        "location_gps = geocoder.osm(location_name).latlng\n",
        "\n",
        "print(location_gps)"
      ],
      "execution_count": null,
      "outputs": []
    },
    {
      "cell_type": "code",
      "metadata": {
        "id": "T-t5Csg4uaE6"
      },
      "source": [
        "# 作業- 建立使用 f-string 建立有效的 Google Map 連結\n",
        "# 完成要求: 1.用 f-string 2.輸出連結可連到正確位址\n",
        "\n",
        "locate= \"???\"\n",
        "\n",
        "url = f'...{locate}.'\n",
        "\n",
        "\n",
        "\n",
        "print(url)"
      ],
      "execution_count": null,
      "outputs": []
    },
    {
      "cell_type": "markdown",
      "source": [
        "## 延伸學習(後續會教)"
      ],
      "metadata": {
        "id": "D0eFantpcZML"
      }
    },
    {
      "cell_type": "code",
      "source": [
        "import requests\n",
        "\n",
        "# https://www.google.com/maps/search/?api=1&map_action=map&zoom=16&query=24.149660,120.684166\n",
        "payload  = {\"api\":\"1\", \"map_action\":\"map\", \"zoom\":\"16\", \"query\":\"24.149660,120.684166\"}\n",
        "r = requests.get(\n",
        "    'https://www.google.com/maps/search/',\n",
        "    params=payload\n",
        "    )\n",
        "\n",
        "print(r.url)"
      ],
      "metadata": {
        "id": "xSBGeQbVaAbF"
      },
      "execution_count": null,
      "outputs": []
    },
    {
      "cell_type": "code",
      "source": [
        "params = {'key1': 'value1', 'key2': 'value2'}\n",
        "r = requests.get('http://httpbin.org/get', params=params)\n",
        "print(r.url)"
      ],
      "metadata": {
        "id": "_ovvqTCFZUg8"
      },
      "execution_count": null,
      "outputs": []
    }
  ]
}