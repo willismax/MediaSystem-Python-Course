{
  "nbformat": 4,
  "nbformat_minor": 0,
  "metadata": {
    "kernelspec": {
      "name": "python3",
      "display_name": "Python 3"
    },
    "colab": {
      "provenance": [],
      "collapsed_sections": [
        "QTqmcPogoAs0",
        "CEPfC4nYwcNK",
        "XtYhHji5xVjZ",
        "QwX0KwQBVi-1",
        "IdIiR6zAGgqG",
        "1mABK55VGqej",
        "zwW3MXc1_6sq",
        "NfKEe2JnARFs",
        "YdY-mhy2lUjz",
        "8nM73obEICAd",
        "Y1V7f_WGZXgK",
        "TY3QLDDpXzF9",
        "P2B4ORKYcbPS",
        "BlJPJrTbclrJ",
        "758vCJ0FKtv2",
        "5isngi2t9aDh"
      ],
      "include_colab_link": true
    }
  },
  "cells": [
    {
      "cell_type": "markdown",
      "metadata": {
        "id": "view-in-github",
        "colab_type": "text"
      },
      "source": [
        "<a href=\"https://colab.research.google.com/github/willismax/MediaSystem-Python-Course/blob/main/01.Intro-Python/PythonBasic_3.ipynb\" target=\"_parent\"><img src=\"https://colab.research.google.com/assets/colab-badge.svg\" alt=\"Open In Colab\"/></a>"
      ]
    },
    {
      "cell_type": "markdown",
      "metadata": {
        "collapsed": true,
        "id": "6OZu7Iytc9vG"
      },
      "source": [
        "#  Python->基礎語法#3 儲存容器、控制敘述、列表推導式"
      ]
    },
    {
      "cell_type": "markdown",
      "metadata": {
        "id": "UZ34YQevW6W4"
      },
      "source": [
        "![](https://python.rs/pylogo.png)"
      ]
    },
    {
      "cell_type": "markdown",
      "metadata": {
        "id": "RzlIdwOKu2xP"
      },
      "source": [
        "## 儲存容器\n",
        "-串列 list 、元組 tuple 、集合 Set\n"
      ]
    },
    {
      "cell_type": "markdown",
      "metadata": {
        "id": "QTqmcPogoAs0"
      },
      "source": [
        "### 串列 list `[]`\n",
        "\n"
      ]
    },
    {
      "cell_type": "markdown",
      "metadata": {
        "id": "rDYDucLroF4i"
      },
      "source": [
        "|計算|說明|\n",
        "|-|-|\n",
        "x in L\t|判斷 x 是否在 L 中\n",
        "x not in L\t|判斷 x 是否不在 L 中\n",
        "L + t\t|連接 L 及 t\n",
        "L ＊ n, n ＊ L\t|將 L 重複 n 次連接 L 本身\n",
        "L[i]|\t取得索引值 i 的元素\n",
        "L[i:j]\t|取得索引值 i 到 j 的子序列\n",
        "L[i:j:k]\t|取得索引值 i 到 j ，間隔 k 的子序列\n",
        "len(L)\t|回傳 L 的元素個數\n",
        "min(L)\t|回傳 L 中的最小值\n",
        "max(L)\t|回傳 L 中的最大值\n",
        "L.index(i)\t|取得 L 中第一次出現 i 的索引值\n",
        "L.count(i)\t|累計 L 中 i 出現的個數"
      ]
    },
    {
      "cell_type": "code",
      "metadata": {
        "id": "BGyqM9o1oTdA",
        "colab": {
          "base_uri": "https://localhost:8080/"
        },
        "outputId": "3246d22f-4634-44a7-a621-629f163677e5"
      },
      "source": [
        "L = [9, 5, 2, 7]\n",
        "\n",
        "L"
      ],
      "execution_count": null,
      "outputs": [
        {
          "output_type": "execute_result",
          "data": {
            "text/plain": [
              "[9, 5, 2, 7]"
            ]
          },
          "metadata": {},
          "execution_count": 9
        }
      ]
    },
    {
      "cell_type": "code",
      "metadata": {
        "id": "VoWmZHkiogA2"
      },
      "source": [
        "len(L)"
      ],
      "execution_count": null,
      "outputs": []
    },
    {
      "cell_type": "code",
      "source": [
        "L[0]"
      ],
      "metadata": {
        "id": "qdXA5f8NaCaZ"
      },
      "execution_count": null,
      "outputs": []
    },
    {
      "cell_type": "code",
      "metadata": {
        "id": "KaxP4OKeoqh1"
      },
      "source": [
        "L[:] # [魚頭 : 尾前]"
      ],
      "execution_count": null,
      "outputs": []
    },
    {
      "cell_type": "code",
      "metadata": {
        "id": "7rpX3_p5_OYe"
      },
      "source": [
        "L[:2]"
      ],
      "execution_count": null,
      "outputs": []
    },
    {
      "cell_type": "code",
      "metadata": {
        "id": "LU1lNsNJ_r2n"
      },
      "source": [
        "k=['庭','院','深','深','深','幾','許']"
      ],
      "execution_count": null,
      "outputs": []
    },
    {
      "cell_type": "code",
      "metadata": {
        "id": "3r1jy2AIsx1h"
      },
      "source": [
        "#深深深"
      ],
      "execution_count": null,
      "outputs": []
    },
    {
      "cell_type": "code",
      "metadata": {
        "id": "2iXDaYmz_wYH"
      },
      "source": [
        "k[2:5]"
      ],
      "execution_count": null,
      "outputs": []
    },
    {
      "cell_type": "code",
      "metadata": {
        "id": "47gS6DypAHCR"
      },
      "source": [
        "!pip install twstock"
      ],
      "execution_count": null,
      "outputs": []
    },
    {
      "cell_type": "code",
      "source": [
        "!twstock -b 2330 6223"
      ],
      "metadata": {
        "id": "5AZ5BJLFPLIn"
      },
      "execution_count": null,
      "outputs": []
    },
    {
      "cell_type": "code",
      "metadata": {
        "id": "lk8hCNuYAM17"
      },
      "source": [
        "import twstock\n",
        "\n",
        "stock = twstock.Stock(\"2330\")\n",
        "stock.price"
      ],
      "execution_count": null,
      "outputs": []
    },
    {
      "cell_type": "code",
      "metadata": {
        "id": "qOpc8ZHrAaBc",
        "colab": {
          "base_uri": "https://localhost:8080/"
        },
        "outputId": "b7d074d2-79ba-4992-88ef-620a1da5be1e"
      },
      "source": [
        "stock.price[-1]"
      ],
      "execution_count": null,
      "outputs": [
        {
          "output_type": "execute_result",
          "data": {
            "text/plain": [
              "412.0"
            ]
          },
          "metadata": {},
          "execution_count": 20
        }
      ]
    },
    {
      "cell_type": "markdown",
      "metadata": {
        "id": "s1UpBOeVoKjw"
      },
      "source": [
        "|計算|說明|\n",
        "|-|-|\n",
        "L[i] = x\t|將索引值 i 的元素指派為 x\n",
        "L[i:j] = t\t|將索引值 i 到 j 的元素指派為 t ， t 為迭代器\n",
        "del L[i:j]\t|刪除索引值 i 到 j 的元素\n",
        "L[i:j:k] = t\t|將索引值 i 到 j ，間隔 k 的元素指派為 t ， t 為迭代器\n",
        "del L[i:j:k]\t|刪除索引值 i 到 j ，間隔 k 的元素\n",
        "list comprehension\t|列表推導式：運用運算式生成新的串列"
      ]
    },
    {
      "cell_type": "code",
      "metadata": {
        "id": "Ifllvb53tl3C"
      },
      "source": [
        "#for 迴圈\n",
        "\n",
        "\n",
        "for i in [1,2,3,4]:\n",
        "    print(i*i)\n"
      ],
      "execution_count": null,
      "outputs": []
    },
    {
      "cell_type": "code",
      "metadata": {
        "id": "Xc_-D-V3ux_A"
      },
      "source": [
        "r = []\n",
        "\n",
        "for i in range(10):\n",
        "    r.append(i*i)\n",
        "\n",
        "r"
      ],
      "execution_count": null,
      "outputs": []
    },
    {
      "cell_type": "code",
      "metadata": {
        "id": "WMF5iRcNA1ZH"
      },
      "source": [
        "a=[]\n",
        "\n",
        "for i in range(100):\n",
        "    if i % 2 == 1:\n",
        "        a.append(i)\n",
        "\n",
        "a"
      ],
      "execution_count": null,
      "outputs": []
    },
    {
      "cell_type": "code",
      "metadata": {
        "id": "sd4ZOZRSwDjX"
      },
      "source": [
        "a = [ i for i in range(10)]\n",
        "a"
      ],
      "execution_count": null,
      "outputs": []
    },
    {
      "cell_type": "code",
      "metadata": {
        "id": "jY0LBzIsxOLY"
      },
      "source": [
        "a = [ i\n",
        "     for i in range(10)\n",
        "     ]\n",
        "a"
      ],
      "execution_count": null,
      "outputs": []
    },
    {
      "cell_type": "code",
      "metadata": {
        "id": "AsFVXVT0wYrg"
      },
      "source": [
        "b = [ i*i for i in range(100) if i % 2 == 1]\n",
        "b"
      ],
      "execution_count": null,
      "outputs": []
    },
    {
      "cell_type": "code",
      "metadata": {
        "id": "_vOnagPZBN2V"
      },
      "source": [
        "%%timeit\n",
        "a=[ i**2\n",
        "   for i in range(100)\n",
        "   if i % 2 ==1]\n",
        "a"
      ],
      "execution_count": null,
      "outputs": []
    },
    {
      "cell_type": "code",
      "metadata": {
        "id": "5tNAtB4DozqD"
      },
      "source": [
        "#列表推導式list comprehension\n",
        "[x for x in L if x > 3]"
      ],
      "execution_count": null,
      "outputs": []
    },
    {
      "cell_type": "code",
      "metadata": {
        "id": "kQLNC6hlj_16"
      },
      "source": [
        "#如以原本寫法如下\n",
        "result = [] #先創空list\n",
        "for x in L: #for迴圈逐一判斷\n",
        "    if x >3: #判斷條件\n",
        "        result.append(x) #符合的結果附加到result串列裡\n",
        "\n",
        "print(result)"
      ],
      "execution_count": null,
      "outputs": []
    },
    {
      "cell_type": "code",
      "metadata": {
        "id": "7vzuXp_84-9D"
      },
      "source": [
        "#sorted(iterable, *, key=None, reverse=False)\n",
        "\n",
        "sorted_L = sorted(L , reverse=True)\n",
        "sorted_L"
      ],
      "execution_count": null,
      "outputs": []
    },
    {
      "cell_type": "code",
      "source": [
        "L.index(2)"
      ],
      "metadata": {
        "id": "xDNQ9BKWSkVK"
      },
      "execution_count": null,
      "outputs": []
    },
    {
      "cell_type": "markdown",
      "metadata": {
        "id": "cLMHuRG5oNKI"
      },
      "source": [
        "|計算|說明|\n",
        "|-|-|\n",
        "list.append(x)\t|將 x 附加到 list 的最後\n",
        "list.extend(x)\t|將 x 中的元素附加到 list 的最後\n",
        "list.count(x)\t|計算 list 中 x 出現的次數\n",
        "list.index(x[, i[, j]])\t|回傳 x 在 list 最小的索引值\n",
        "list.insert(i, x)\t|將 x 插入 list 索引值 i 的地方\n",
        "list.pop([i])\t|取出 list 中索引值為 i 的元素，預設是最後一個\n",
        "list.remove(x)\t|移除 list 中第一個 x 元素\n",
        "list.reverse()\t|倒轉 list 中元素的順序\n",
        "list.sort([key[, reverse]])\t|排序 list 中的元素"
      ]
    },
    {
      "cell_type": "markdown",
      "metadata": {
        "id": "CEPfC4nYwcNK"
      },
      "source": [
        "### 元組 tuple ()"
      ]
    },
    {
      "cell_type": "markdown",
      "metadata": {
        "id": "B73EuJmmwYUl"
      },
      "source": [
        "- 元組 tuple 屬於不可變 (mutable) 的序列 (sequence) 型別，是不可更改的，可進行以下序列通用的計算。\n",
        "\n",
        "計算|\t說明\n",
        "-|-\n",
        "`x in s`\t|判斷 x 是否在 s 中\n",
        "`x not in s`\t|判斷 x 是否不在 s 中\n",
        "`s + t`\t|連接 s 及 t\n",
        "`s * n, n * s`\t|將 s 重複 n 次連接 s 本身\n",
        "`s[i]`\t|取得索引值 i 的元素\n",
        "`s[i:j]`\t|取得索引值 i 到 j 的子序列\n",
        "`s[i:j:k]`\t|取得索引值 i 到 j ，間隔 k 的子序列\n",
        "`len(s)`\t|回傳 s 的元素個數\n",
        "`min(s)`\t|回傳 s 中的最小值\n",
        "`max(s)`\t|回傳 s 中的最大值\n",
        "`s.index(i)`\t|取得 s 中第一次出現 i 的索引值\n",
        "`s.count(i)`\t|累計 s 中 i 出現的個數\n"
      ]
    },
    {
      "cell_type": "code",
      "metadata": {
        "id": "UMAdC1mvwhdO"
      },
      "source": [
        "t = 2, 4, 6, 8\n",
        "type(t)"
      ],
      "execution_count": null,
      "outputs": []
    },
    {
      "cell_type": "code",
      "metadata": {
        "id": "oW6mwEnLwl-N"
      },
      "source": [
        "#更改會報錯\n",
        "t[0] = 1"
      ],
      "execution_count": null,
      "outputs": []
    },
    {
      "cell_type": "code",
      "metadata": {
        "id": "KXlYCiIKDtOi"
      },
      "source": [
        "2 in t"
      ],
      "execution_count": null,
      "outputs": []
    },
    {
      "cell_type": "markdown",
      "metadata": {
        "id": "XtYhHji5xVjZ"
      },
      "source": [
        "### 集合Set {}\n"
      ]
    },
    {
      "cell_type": "markdown",
      "metadata": {
        "id": "1CUyljg5xURE"
      },
      "source": [
        "- 集合set使用大括弧圍起來，但沒有重複的元素，且無序的存放元素。可將集合視為無鍵的字典物件。\n",
        "- 針對集合的`in`操作速度非常快，資料量大時更適合。\n",
        "- 不常用，但用在找出不重複的資料時好用。"
      ]
    },
    {
      "cell_type": "code",
      "metadata": {
        "id": "rdCJjxDOxWiG"
      },
      "source": [
        "s1 = {9,9,5,5,2,2,7,7}\n",
        "s2 = {9,5,2,7}\n",
        "s1 == s2"
      ],
      "execution_count": null,
      "outputs": []
    },
    {
      "cell_type": "code",
      "metadata": {
        "id": "PQFwEpzq0Kcv"
      },
      "source": [
        "s1"
      ],
      "execution_count": null,
      "outputs": []
    },
    {
      "cell_type": "code",
      "metadata": {
        "id": "lnufk7NG0hrW"
      },
      "source": [
        "# !pip install -Uq jieba"
      ],
      "execution_count": null,
      "outputs": []
    },
    {
      "cell_type": "code",
      "metadata": {
        "id": "ElCI5lmUZd7P"
      },
      "source": [
        "import jieba\n",
        "\n",
        "text = \"\"\"2022 iThome 鐵人賽\n",
        "iThome 鐵人賽是 IT 圈的年度盛事，是推動台灣 IT 技術向上成長的重要力量！每年逾千名 IT 行內人透過鐵人賽「連續 30 天發表技術文章不中斷」，寫出一整年的成長與學習、爆發驚人的技術能量。\n",
        "鐵人們在賽事中寫下的成果，深獲業界好評與肯定。在博碩文化與 iThome 攜手合作之下，從 2018 年開始，陸續出版了多位得獎者的作品，讓得獎的鐵人們得以分享他們的榮耀與成果，幫助更多的讀者群、發揮更大的影響力，並且在寫code的人生中，為自己寫下最珍貴的那一頁。\n",
        "在 iThome 鐵人賽的 30 天挑戰中，參賽者每一天都必須努力趕在午夜 12 點前、克服萬難，按下【送出】鍵，更別說賽期中還有中秋、國慶兩大殺手連假。當你已經艱辛奮鬥，攀越學業、社交、職場、家庭等一座座山峰，不管是喘氣休息、還是正駐足欣賞當前美景，是否還有勇氣與毅力，繼續登頂？許多鐵人們回想參賽以來最大的收獲，往往就是「原來我做得到」。\n",
        "越來越多 IT 人透過 iThome 鐵人賽展現自我，並自豪地將賽事成果列入自己的履歷（讓徵才企業垂涎不已）。不用高估世界，也不用低估自己，今年就和眾多 IT 同儕一起喚醒心中最強大的鐵人！再一步，世界就在你的腳下。\"\"\"\n",
        "\n",
        "wordlist = jieba.cut(text,cut_all=False)\n",
        "wordlist = [ seg for seg in wordlist ]\n",
        "\n",
        "wordlist"
      ],
      "execution_count": null,
      "outputs": []
    },
    {
      "cell_type": "code",
      "metadata": {
        "id": "oBT4TyDGcons"
      },
      "source": [
        "wordset = set(wordlist)\n",
        "wordset"
      ],
      "execution_count": null,
      "outputs": []
    },
    {
      "cell_type": "code",
      "metadata": {
        "id": "xBkiJvWG2ZRs"
      },
      "source": [
        "'鐵人' in wordlist"
      ],
      "execution_count": null,
      "outputs": []
    },
    {
      "cell_type": "code",
      "metadata": {
        "id": "kRC_l6BDM2Iq"
      },
      "source": [
        "%%timeit\n",
        "'鐵人' in wordlist"
      ],
      "execution_count": null,
      "outputs": []
    },
    {
      "cell_type": "code",
      "metadata": {
        "id": "TwD4ebjbM9Qb"
      },
      "source": [
        "%timeit '鐵人' in wordset"
      ],
      "execution_count": null,
      "outputs": []
    },
    {
      "cell_type": "markdown",
      "metadata": {
        "id": "oLfIEvonyY8i"
      },
      "source": [
        "計算\t|說明\n",
        "    -|-\n",
        "    `x in s`\t|判斷 x 是否在 s 中\n",
        "    `x not in s`\t|判斷 x 是否不在 s 中\n",
        "    `s1 & s2`\t|且運算，取得 s1 與 s2 的交集，等於 s1.intersection(s2)\n",
        "    `s2 \\| s2`\t|或運算，取得 s1 與 s2 的聯集，等於 s1.union(s2)\n",
        "    `s1 ^ s2`\t|對稱差運算，取得 s1 與 s2 的對稱差集，等於 s1.symmetric_difference(s2)\n",
        "    `s1 - s2`\t|差運算，取得 s1 與 s2 的差集，等於 s1.difference(s2)\n",
        "    `s1 < s2`\t|判斷 s1 是否為 s2 的真子集\n",
        "    `s1 <= s2`\t|判斷 s1 是否為 s2 的子集，等於 s1.issubset(s2)\n",
        "    `s1 > s2`\t|判斷 s2 是否為 s1 的真子集\n",
        "    `s1 >= s2`\t|判斷 s2 是否為 s1 的子集，等於 s1.issuperset(s2)\n",
        "    `len(s)`\t|回傳 s 的元素個數\n",
        "    `min(s)`\t|回傳 s 中的最小值， s 中的元素必須是相同型態\n",
        "    `max(s)`\t|回傳 s 中的最大值， s 中的元素必須是相同型態\n",
        "\n",
        "\n",
        "- 由於 set 型態是可變的，因此有額外兩個新增與刪除元素的方法：\n",
        "\n",
        "方法|說明\n",
        "-|-\n",
        "`s.add(e)`|增加 e 為 s 的元素\n",
        "`s.remove(e)`\t|從 s 中刪除元素 e\n"
      ]
    },
    {
      "cell_type": "markdown",
      "metadata": {
        "id": "QwX0KwQBVi-1"
      },
      "source": [
        "### 字典Dictionary"
      ]
    },
    {
      "cell_type": "markdown",
      "metadata": {
        "id": "9IWvGnwmVq0I"
      },
      "source": [
        "- 以`{}`以及冒號`:`來分隔鍵與值，以創建字典物件\n",
        "- 建立字典變數可利用大括弧，裡頭以 `key:value` 為配對的資料項目，每一筆資料再以逗號區隔開，例如\n",
        "`d1 = {one:\"a\", two:\"b\"}`\n",
        "\n",
        "- 使用字典須注意， key 必須是不可變的資料型態，且不可重複，如數字、字串 (string) 等； value 沒有限制，因此有需要的話，使用串列 (list) 或字典皆可。\n",
        "\n",
        "- 也可以利用字典型態的建構子 (constructor) 建立物件。"
      ]
    },
    {
      "cell_type": "code",
      "source": [
        "#NG\n",
        "\n",
        "{ [\"k\",\"e\",\"y\"] : 9527}"
      ],
      "metadata": {
        "id": "Aazsr6QfWZEB"
      },
      "execution_count": null,
      "outputs": []
    },
    {
      "cell_type": "markdown",
      "source": [
        "- 字典、串列與JSON相似，用法可以相互參照\n",
        "- 一個公車交通資訊API [MOTC Transport API V2](https://ptx.transportdata.tw/MOTC/?t=Tourism&v=2#/)"
      ],
      "metadata": {
        "id": "Ho0QRmRsEU4B"
      }
    },
    {
      "cell_type": "markdown",
      "source": [
        "- 一個產品資訊API\n",
        "    ```\n",
        "    //\n",
        "    //取得產品列表(Get)：/api/livejs/v1/customer/{api_path}/products\n",
        "    {\n",
        "    \"status\": true,\n",
        "    \"products\": [\n",
        "        {\n",
        "        \"category\": \"產品分類 (String)\",\n",
        "        \"image\": \"產品圖片 (String)\",\n",
        "        \"id\": \"產品ID  (String)\",\n",
        "        \"title\": \"產品名稱  (String)\",\n",
        "        \"origin_price\": \"產品原始價錢 (Number)\",\n",
        "        \"price\": \"產品銷售價錢 (Number)\"\n",
        "        }\n",
        "    ]\n",
        "    }\n",
        "    ```"
      ],
      "metadata": {
        "id": "9mg2VtUeDAH5"
      }
    },
    {
      "cell_type": "code",
      "source": [
        "{\"數學\": [100, 90, 80, 70] }"
      ],
      "metadata": {
        "id": "zdrucczYE6al"
      },
      "execution_count": null,
      "outputs": []
    },
    {
      "cell_type": "code",
      "source": [
        "score = {\"Math\": [183, 70], \"English\": [163, 45]}"
      ],
      "metadata": {
        "id": "aC9BgZiSE-EA"
      },
      "execution_count": null,
      "outputs": []
    },
    {
      "cell_type": "code",
      "source": [
        "score"
      ],
      "metadata": {
        "id": "qTzsMUESFGBc"
      },
      "execution_count": null,
      "outputs": []
    },
    {
      "cell_type": "code",
      "metadata": {
        "id": "xZlstgZbWVuS"
      },
      "source": [
        "{\"one\":\"a\", \"two\":\"b\"}"
      ],
      "execution_count": null,
      "outputs": []
    },
    {
      "cell_type": "code",
      "source": [
        "dict(one=\"a\", two=\"b\")"
      ],
      "metadata": {
        "id": "vNMqqvQTFLUW"
      },
      "execution_count": null,
      "outputs": []
    },
    {
      "cell_type": "code",
      "source": [
        "dict({\"one\":\"a\", \"two\":\"b\"})"
      ],
      "metadata": {
        "id": "5AdTF5ZeFM03"
      },
      "execution_count": null,
      "outputs": []
    },
    {
      "cell_type": "code",
      "source": [
        "dict(zip((\"one\", \"two\"), (\"a\", \"b\")))"
      ],
      "metadata": {
        "id": "75nYlnOEFPE0"
      },
      "execution_count": null,
      "outputs": []
    },
    {
      "cell_type": "code",
      "metadata": {
        "id": "f75wL86m4YaP"
      },
      "source": [
        "dict([[\"one\", \"a\"], [\"two\", \"b\"]])"
      ],
      "execution_count": null,
      "outputs": []
    },
    {
      "cell_type": "markdown",
      "metadata": {
        "id": "cb6Y3ySDWvaS"
      },
      "source": [
        "- 字典物件可進行以下的運算\n",
        "\n",
        "|計算|\t說明|\n",
        "-|-\n",
        "d[key]\t|從 d 中取得 key 的 value\n",
        "d[key] = value\t|指定 d 的 key 的值為 value\n",
        "del d[key]\t|刪除 d 的 key 值\n",
        "key in d\t|判斷 key 是否在 d 中\n",
        "key not in d\t|判斷 key 是否不在 d 中\n",
        "iter(d)\t|回傳由 d 的 key 建立的迭代器\n",
        "len(d)\t|回傳 d 的配對資料個數"
      ]
    },
    {
      "cell_type": "markdown",
      "metadata": {
        "id": "nV9n9aSyXAAR"
      },
      "source": [
        "- 字典物件的方法 (method)\n",
        "\n",
        "|方法|\t描述|\n",
        "-|-\n",
        "dict.clear()\t|清空 dict 的所有配對資料\n",
        "dict.copy()\t|回傳 dict 的拷貝\n",
        "classmethod dict.fromkeys(seq[, value])\t|由 seq 中的元素構成 key ，每個 key 都給相同的 value 值\n",
        "dict.get(key[, default])\t|從 dict 中取得 key 的 value ，若無此 key 則回傳 default ， default 預設為 None\n",
        "dict.items()\t|回傳 dict_items 物件，使 key:value 儲存為序對，然後依序儲存在 dict_items 物件中\n",
        "dict.keys()\t|回傳 dict_items 物件，使 key 依序儲存在 dict_items 物件中\n",
        "dict.pop(key[, default])\t|將 key 的 value 從 dict 移除，若無此 kay ，回傳 default\n",
        "dict.popitem()\t|從 dict 移除任意一組 key:value\n",
        "dict.setdefault(key[, default])\t|如果 key 在 dict 中，回傳 value 值，反之，將 key:default 加入 dict 之中\n",
        "dict.update([other])\t|將 dict 以 other 更新\n",
        "dict.values()\t|回傳 dict_items 物件，使 value 依序儲存在 dict_items 物件中\n"
      ]
    },
    {
      "cell_type": "code",
      "metadata": {
        "id": "zCjgtIELt_Po"
      },
      "source": [
        "d1 = {'a' : 'C8763', \"b\" : [9, 5, 2, 7]}\n",
        "d1"
      ],
      "execution_count": null,
      "outputs": []
    },
    {
      "cell_type": "code",
      "metadata": {
        "id": "4SlfFqXU5rNT"
      },
      "source": [
        "d1[\"b\"]"
      ],
      "execution_count": null,
      "outputs": []
    },
    {
      "cell_type": "code",
      "metadata": {
        "id": "RdJ02qDbuDRq"
      },
      "source": [
        "d1[\"天線寶寶\"]=\"你好\"\n",
        "d1"
      ],
      "execution_count": null,
      "outputs": []
    },
    {
      "cell_type": "code",
      "metadata": {
        "id": "O4OpK27r6A1Y"
      },
      "source": [
        "bike = [{\"地點\":\"台中火車站\",\"車位\":0},{\"地點\":\"高美濕地\",\"車位\":100}]"
      ],
      "execution_count": null,
      "outputs": []
    },
    {
      "cell_type": "code",
      "metadata": {
        "id": "y3TYe_PjuH2t"
      },
      "source": [
        "d1['b']"
      ],
      "execution_count": null,
      "outputs": []
    },
    {
      "cell_type": "code",
      "metadata": {
        "id": "_irZR6qluL94"
      },
      "source": [
        "'b' in d1"
      ],
      "execution_count": null,
      "outputs": []
    },
    {
      "cell_type": "code",
      "metadata": {
        "id": "qi3nSp6QuP_K"
      },
      "source": [
        "del d1['b']\n",
        "d1"
      ],
      "execution_count": null,
      "outputs": []
    },
    {
      "cell_type": "code",
      "metadata": {
        "id": "85JNHCiDuWZS"
      },
      "source": [
        "d1.keys()"
      ],
      "execution_count": null,
      "outputs": []
    },
    {
      "cell_type": "code",
      "metadata": {
        "id": "q898i3dEuaQR"
      },
      "source": [
        "d1.values()"
      ],
      "execution_count": null,
      "outputs": []
    },
    {
      "cell_type": "code",
      "metadata": {
        "id": "ssU0_oTS3Som"
      },
      "source": [
        "d1.items()"
      ],
      "execution_count": null,
      "outputs": []
    },
    {
      "cell_type": "markdown",
      "metadata": {
        "id": "d3Y7iVhiug3C"
      },
      "source": [
        "- 可以update方法將字典合併"
      ]
    },
    {
      "cell_type": "code",
      "metadata": {
        "id": "--Qq2vucurMp"
      },
      "source": [
        "d1.update({'b':[1,2,3] , 'c': 'ithome'})\n",
        "d1  # 'b':[9,5,2,7]被覆寫掉了"
      ],
      "execution_count": null,
      "outputs": []
    },
    {
      "cell_type": "markdown",
      "metadata": {
        "id": "IdIiR6zAGgqG"
      },
      "source": [
        "## Python控制敘述"
      ]
    },
    {
      "cell_type": "markdown",
      "metadata": {
        "id": "1mABK55VGqej"
      },
      "source": [
        "### 條件判斷 `if`, `elif`, `else`"
      ]
    },
    {
      "cell_type": "code",
      "metadata": {
        "id": "S4E8-KI9rIly"
      },
      "source": [
        "if True:\n",
        "  print(\"YES\")"
      ],
      "execution_count": null,
      "outputs": []
    },
    {
      "cell_type": "code",
      "metadata": {
        "id": "NaiboZPgG6ti"
      },
      "source": [
        "if 1:\n",
        "  print(\"YES\")"
      ],
      "execution_count": null,
      "outputs": []
    },
    {
      "cell_type": "code",
      "metadata": {
        "id": "ZWN3T_uJG8-J"
      },
      "source": [
        "%%timeit\n",
        "if 8+9 is 17:\n",
        "  print(\"YES\")"
      ],
      "execution_count": null,
      "outputs": []
    },
    {
      "cell_type": "code",
      "metadata": {
        "id": "EJ6EC8dqHPwZ"
      },
      "source": [
        "%%timeit\n",
        "if 8+9 == 17:\n",
        "  print(\"YES\")"
      ],
      "execution_count": null,
      "outputs": []
    },
    {
      "cell_type": "code",
      "metadata": {
        "id": "OGBToi4lnV04"
      },
      "source": [
        "鐵人幫第n日 = 20\n",
        "鐵人幫文章篇數 = 19\n",
        "if 鐵人幫文章篇數 - 鐵人幫文章篇數 <= 0:\n",
        "    print(\"快點寫! 連庫拉皮卡要下船了阿\")\n",
        "else:\n",
        "    print(\"不用趕稿我就讚!\")"
      ],
      "execution_count": null,
      "outputs": []
    },
    {
      "cell_type": "code",
      "metadata": {
        "id": "v9JlAUc9o0Wl"
      },
      "source": [
        "鐵人幫第n日 = 19\n",
        "鐵人幫文章篇數 = 19\n",
        "if 鐵人幫文章篇數 - 鐵人幫文章篇數 == 0:\n",
        "    print(\"快趕稿，別富奸阿!!!!\")\n",
        "elif 鐵人幫文章篇數 - 鐵人幫文章篇數 < 0:\n",
        "    print(\"斷更! 挑戰失敗\")\n",
        "else:\n",
        "    print(\"持續更新我就讚!\")"
      ],
      "execution_count": null,
      "outputs": []
    },
    {
      "cell_type": "markdown",
      "metadata": {
        "id": "HIHNeolCJNWg"
      },
      "source": [
        "### 迴圈"
      ]
    },
    {
      "cell_type": "markdown",
      "metadata": {
        "id": "zwW3MXc1_6sq"
      },
      "source": [
        "迴圈是程式語言的特徵，讓電腦協助你重覆執行某項判斷，主流用法就是for迴圈與while迴圈，另外python還有一個枚舉可以使用。\n",
        "\n",
        "\n",
        "### For迴圈\n",
        "- 先來個for迴圈吧，基本上for迴圈常與list結合使用，也常配合`range()`。\n",
        "\n",
        "    ```\n",
        "    for 指標 in 要判別的資料集:\n",
        "        執行項目\n",
        "    ```\n"
      ]
    },
    {
      "cell_type": "code",
      "metadata": {
        "id": "Xa3v9qxZJw3p"
      },
      "source": [
        "for i in range(10):\n",
        "  print (i, \"is less than 10\")"
      ],
      "execution_count": null,
      "outputs": []
    },
    {
      "cell_type": "code",
      "metadata": {
        "id": "u8EClBs1JV7X"
      },
      "source": [
        "for x in range(10):\n",
        "  if x==3:\n",
        "    continue # go immediately to the next iteration\n",
        "  if x==8:\n",
        "    break # quit the loop entirely\n",
        "  print(x)"
      ],
      "execution_count": null,
      "outputs": []
    },
    {
      "cell_type": "code",
      "metadata": {
        "id": "JOsTCx7dEEjJ"
      },
      "source": [
        "for i in range(5): #[0,1,2,3,4]\n",
        "    print(i)"
      ],
      "execution_count": null,
      "outputs": []
    },
    {
      "cell_type": "code",
      "metadata": {
        "id": "SKpz5Q0FBnBH"
      },
      "source": [
        "五俗藍 = [\"紅茶\", \"綠茶\", \"烏龍\", \"鐵觀音\", \"多多冰沙\", \"咖啡冰沙\", \"抹茶拿鐵\"]"
      ],
      "execution_count": null,
      "outputs": []
    },
    {
      "cell_type": "code",
      "metadata": {
        "id": "8mvMpIF61_Bi"
      },
      "source": [
        "for i in 五俗藍:\n",
        "    print(i)"
      ],
      "execution_count": null,
      "outputs": []
    },
    {
      "cell_type": "code",
      "metadata": {
        "id": "9xzcYwKc2FJ7"
      },
      "source": [
        "for i in range(len(五俗藍)): # 以len()取出串列內容個數\n",
        "    print(五俗藍[i])"
      ],
      "execution_count": null,
      "outputs": []
    },
    {
      "cell_type": "markdown",
      "metadata": {
        "id": "NfKEe2JnARFs"
      },
      "source": [
        "### 補充 range()\n",
        "\n",
        "- range()是建構式(constructor)，用來表示不可變(immutable)的數字序列，例如[0,1,2,3,4]。\n",
        "- 通常配合for迴圈產生內容。\n",
        "- 建構式比已經占用記憶體位置的list省空間。\n",
        "\n",
        "    ```\n",
        "    range(start, stop[, step])\n",
        "    range(stop)\n",
        "    ```"
      ]
    },
    {
      "cell_type": "code",
      "metadata": {
        "id": "FzrOlfrxD4_j"
      },
      "source": [
        "a = range(1,11,2)"
      ],
      "execution_count": 1,
      "outputs": []
    },
    {
      "cell_type": "code",
      "source": [
        "a\n",
        "#[1,3,5,7,9]"
      ],
      "metadata": {
        "id": "GolHhWB6c4SA"
      },
      "execution_count": null,
      "outputs": []
    },
    {
      "cell_type": "code",
      "source": [
        "# a.start\n",
        "a.step"
      ],
      "metadata": {
        "id": "2NG7Rc-3mRJs"
      },
      "execution_count": null,
      "outputs": []
    },
    {
      "cell_type": "code",
      "source": [
        "a.index(5)"
      ],
      "metadata": {
        "id": "raaS--LElqKV"
      },
      "execution_count": null,
      "outputs": []
    },
    {
      "cell_type": "code",
      "source": [
        "i = iter(a)\n",
        "i"
      ],
      "metadata": {
        "id": "5AqXoV_mmqEu"
      },
      "execution_count": null,
      "outputs": []
    },
    {
      "cell_type": "code",
      "source": [
        "next(i)"
      ],
      "metadata": {
        "id": "Yw2oyBcQm2bO"
      },
      "execution_count": null,
      "outputs": []
    },
    {
      "cell_type": "markdown",
      "metadata": {
        "id": "YdY-mhy2lUjz"
      },
      "source": [
        "### [Do it] HW3 : 九九乘法表"
      ]
    },
    {
      "cell_type": "markdown",
      "metadata": {
        "id": "_NUCX8nclUj1"
      },
      "source": [
        "- 試輸出以下樣式\n",
        "```\n",
        "2*1=02 2*2=04 2*3=06 2*4=08 2*5=10 2*6=12 2*7=14 2*8=16 2*9=18\n",
        "3*1=03 3*2=06 3*3=09 3*4=12 3*5=15 3*6=18 3*7=21 3*8=24 3*9=27\n",
        "4*1=04 4*2=08 4*3=12 4*4=16 4*5=20 4*6=24 4*7=28 4*8=32 4*9=36\n",
        "5*1=05 5*2=10 5*3=15 5*4=20 5*5=25 5*6=30 5*7=35 5*8=40 5*9=45\n",
        "6*1=06 6*2=12 6*3=18 6*4=24 6*5=30 6*6=36 6*7=42 6*8=48 6*9=54\n",
        "7*1=07 7*2=14 7*3=21 7*4=28 7*5=35 7*6=42 7*7=49 7*8=56 7*9=63\n",
        "8*1=08 8*2=16 8*3=24 8*4=32 8*5=40 8*6=48 8*7=56 8*8=64 8*9=72\n",
        "9*1=09 9*2=18 9*3=27 9*4=36 9*5=45 9*6=54 9*7=63 9*8=72 9*9=81\n",
        "```"
      ]
    },
    {
      "cell_type": "code",
      "metadata": {
        "id": "BBh2vibJlUj1"
      },
      "source": [
        "?print"
      ],
      "execution_count": null,
      "outputs": []
    },
    {
      "cell_type": "code",
      "source": [
        "# Your Code Here:\n",
        "\n",
        "\n"
      ],
      "metadata": {
        "id": "_U58kIOElUj1"
      },
      "execution_count": null,
      "outputs": []
    },
    {
      "cell_type": "markdown",
      "metadata": {
        "id": "lW0kZXDpBnBG"
      },
      "source": [
        "### enumerate()枚舉\n",
        "\n",
        "假設我們要迭代list成員的名稱，並獲取list中每個成員的位置。可以用enumerate，又稱枚舉"
      ]
    },
    {
      "cell_type": "code",
      "source": [
        "[9,5,2,7]\n",
        "{1:9, 2:5, 3:2 , 4:7}"
      ],
      "metadata": {
        "id": "mF7nCOd1euSg"
      },
      "execution_count": null,
      "outputs": []
    },
    {
      "cell_type": "code",
      "metadata": {
        "id": "6kd2F0eIBnBH"
      },
      "source": [
        "for i, v in enumerate(五俗藍):\n",
        "    print(i,v)"
      ],
      "execution_count": null,
      "outputs": []
    },
    {
      "cell_type": "markdown",
      "metadata": {
        "id": "8nM73obEICAd"
      },
      "source": [
        "### while迴圈\n",
        "\n",
        "- while迴圈，除非成立才會跳出循環。\n",
        "- 注意成為無窮迴圈。\n",
        "- 適合不知道要重複執行多少次任務時。\n",
        "\n",
        "    ```\n",
        "    初始值\n",
        "    while 條件式：\n",
        "       程式區塊\n",
        "       索引變化\n",
        "    ```"
      ]
    },
    {
      "cell_type": "code",
      "metadata": {
        "id": "61sIbGMMIMv4"
      },
      "source": [
        "x=0  #設定初始值\n",
        "while x < 10:  #條件判斷\n",
        "  print (x, \"is less than 10\")  #執行陳述\n",
        "  x += 1  #初值增減 x=x+1"
      ],
      "execution_count": null,
      "outputs": []
    },
    {
      "cell_type": "code",
      "metadata": {
        "id": "27Mj_-q7GMiz"
      },
      "source": [
        "count = 0\n",
        "\n",
        "while count < 6:\n",
        "    print('The count is:', count)\n",
        "    count += 1  #count=count+1\n",
        "\n",
        "print (\"Good bye!\")"
      ],
      "execution_count": null,
      "outputs": []
    },
    {
      "cell_type": "code",
      "metadata": {
        "id": "PDURjPN1GPYF"
      },
      "source": [
        "# continue\n",
        "i = 1\n",
        "while (i < 6):\n",
        "    i += 1   #  i=i+1\n",
        "    if i%2 > 0: #1\n",
        "        continue\n",
        "    print(i)"
      ],
      "execution_count": null,
      "outputs": []
    },
    {
      "cell_type": "code",
      "metadata": {
        "id": "qGajEMhzGTHk"
      },
      "source": [
        "# break\n",
        "i = 1\n",
        "while (1):\n",
        "    print(i)\n",
        "    i += 1\n",
        "    if i > 10:\n",
        "        break"
      ],
      "execution_count": null,
      "outputs": []
    },
    {
      "cell_type": "markdown",
      "metadata": {
        "id": "1J0wg1qrGVxU"
      },
      "source": [
        "*現學現賣之「金庫密碼」"
      ]
    },
    {
      "cell_type": "code",
      "metadata": {
        "id": "VHmhbgspGY6s"
      },
      "source": [
        "password = '' #先設一個空字串讓程式知道\n",
        "\n",
        "while password != \"1234\":\n",
        "  password = input(\"快點輸入密碼>>\")\n",
        "\n",
        "  if password == '1234':\n",
        "    print(\"進來吧\")\n",
        "    break\n",
        "  else:\n",
        "    print(\"密碼錯誤再來一次\")"
      ],
      "execution_count": null,
      "outputs": []
    },
    {
      "cell_type": "markdown",
      "metadata": {
        "id": "TW9dZkrB7vA3"
      },
      "source": [
        "- 通常密碼會單獨儲存在另一個檔案，作為環境變數。"
      ]
    },
    {
      "cell_type": "code",
      "metadata": {
        "id": "H4lxoQDr41tZ"
      },
      "source": [
        "%%writefile config.py\n",
        "\n",
        "# 金庫密碼\n",
        "SERECT = '5678'\n",
        "SERECT2 = '1111115678'"
      ],
      "execution_count": null,
      "outputs": []
    },
    {
      "cell_type": "code",
      "metadata": {
        "id": "3CrBLpBO5r5R"
      },
      "source": [
        "import config\n",
        "\n",
        "password = '' #先設一個空字串讓程式知道\n",
        "\n",
        "while password != config.SERECT:\n",
        "  password = input(\"快點輸入密碼>>\")\n",
        "\n",
        "  if password == config.SERECT:\n",
        "    print(\"進來吧\")\n",
        "    break\n",
        "  else:\n",
        "    print(\"密碼錯誤再來一次\")\n",
        "\n",
        "print(f\"註: 密碼為 {config.SERECT}\")"
      ],
      "execution_count": null,
      "outputs": []
    },
    {
      "cell_type": "markdown",
      "metadata": {
        "id": "uU9-G8Th8Xxj"
      },
      "source": [
        "- [註]: 在 Colab 如果遇到重複寫入 `config.py` 卻未更新參數時，請在選單[執行階段]選擇[重新啟動執行階段]，再執行一次。"
      ]
    },
    {
      "cell_type": "markdown",
      "metadata": {
        "id": "dv8BsUE9V6Dt"
      },
      "source": [
        "### 例外陳述"
      ]
    },
    {
      "cell_type": "markdown",
      "metadata": {
        "id": "1QwaYCYQV-E9"
      },
      "source": [
        "- 例外處理 (exception handling) 是利用 try 、 except 、 finally 及 else\n",
        "- 所謂例外 (exception) 是指已知有可能發生的錯誤 (error) ，像是開啟檔案，檔案卻不存在，或除數為 0 等等的情況。\n"
      ]
    },
    {
      "cell_type": "code",
      "metadata": {
        "id": "u8pW3M6axwuK"
      },
      "source": [
        "1/0"
      ],
      "execution_count": null,
      "outputs": []
    },
    {
      "cell_type": "code",
      "metadata": {
        "id": "IfCWVwZZWzHs"
      },
      "source": [
        "result = None\n",
        "try:\n",
        "    result = 1 / 0\n",
        "except ZeroDivisionError:\n",
        "    result = 1/1\n",
        "    print(\"......\")\n",
        "\n",
        "print(result)"
      ],
      "execution_count": null,
      "outputs": []
    },
    {
      "cell_type": "markdown",
      "metadata": {
        "id": "Kyg9-AXiWgk6"
      },
      "source": [
        "- try: 所有可能發生例外的程式碼都要放在try來嘗試是否有錯誤\n",
        "- except: 後空一格接例外類別 (class) ，底下程式區塊做相對應的例外處理\n",
        "- else:假設沒有例外發生的處理\n",
        "- finally 是例外處理結束後，無論如何都會執行的部分(可有可無)"
      ]
    },
    {
      "cell_type": "code",
      "metadata": {
        "id": "dfjTPID6YGQP"
      },
      "source": [
        "try:                     #需嘗試有無錯誤的程式區塊\n",
        "    a = 1 / 0\n",
        "except:                   #錯誤的話則...(省略ZeroDivisionError錯誤類別描述)\n",
        "    a = 0\n",
        "else:                    #未發生例外狀況則...\n",
        "    m1 = \"未發生例外狀況，粉好沒事\"\n",
        "finally:                   #無論錯誤最後一定會執行的\n",
        "    print(\"例外判斷結束句\")\n",
        "\n",
        "print(a)\n",
        "print(m1)"
      ],
      "execution_count": null,
      "outputs": []
    },
    {
      "cell_type": "code",
      "metadata": {
        "id": "MjMqhxjSzT5y"
      },
      "source": [
        "try:                     #需嘗試有無錯誤的程式區塊\n",
        "    a = 1 / None\n",
        "except:                   #錯誤的話則...(省略ZeroDivisionError錯誤類別描述)\n",
        "    a = 0\n",
        "else:                    #未發生例外狀況則...\n",
        "    m2 = \"未發生例外狀況，粉好沒事\"\n",
        "finally:                   #無論錯誤最後一定會執行的\n",
        "    print(\"例外判斷結束句\")\n",
        "\n",
        "print(a)\n",
        "print(m2)"
      ],
      "execution_count": null,
      "outputs": []
    },
    {
      "cell_type": "markdown",
      "metadata": {
        "id": "Y1V7f_WGZXgK"
      },
      "source": [
        "## 練習:以try/except撰寫模組安裝\n"
      ]
    },
    {
      "cell_type": "markdown",
      "metadata": {
        "id": "8u37VW_9cFaY"
      },
      "source": [
        "- 以try/except撰寫模組安裝，嘗試如果沒有安裝twswock模組([該模組介紹](https://twstock.readthedocs.io/zh_TW/latest/))，則安裝該模組。\n",
        "  - 提示1: 先嘗試import模組，沒有的話則安裝在import模組。\n",
        "  - 提示2: 安裝模組用到`!pip install 模組` 指令。"
      ]
    },
    {
      "cell_type": "code",
      "metadata": {
        "id": "pe5jvvSQ8j1_"
      },
      "source": [
        "# !pip install twstock"
      ],
      "execution_count": null,
      "outputs": []
    },
    {
      "cell_type": "code",
      "metadata": {
        "id": "IIovm8cG5g2W"
      },
      "source": [
        "import twstock"
      ],
      "execution_count": null,
      "outputs": []
    },
    {
      "cell_type": "code",
      "metadata": {
        "id": "acNP3e3cZ-qh"
      },
      "source": [
        "#Please answer here\n",
        "try:\n",
        "    import twstock\n",
        "except:\n",
        "    !pip install twstock\n",
        "    import twstock"
      ],
      "execution_count": null,
      "outputs": []
    },
    {
      "cell_type": "markdown",
      "metadata": {
        "id": "TY3QLDDpXzF9"
      },
      "source": [
        "## 列表推導式\n"
      ]
    },
    {
      "cell_type": "markdown",
      "metadata": {
        "id": "WOJuq2FIYh2c"
      },
      "source": [
        "- 列表推導式(list comprehension)非常帥氣，可以用英文List Creation from For Loop來理解，用以創建具有篩選能力的迴圈，其結果存為list"
      ]
    },
    {
      "cell_type": "markdown",
      "metadata": {
        "id": "P2B4ORKYcbPS"
      },
      "source": [
        "### 使用列表推導式"
      ]
    },
    {
      "cell_type": "code",
      "metadata": {
        "id": "ZdoFbIHza4rY"
      },
      "source": [
        "list1 = []\n",
        "\n",
        "for i in range(10):\n",
        "    list1.append(i)\n",
        "\n",
        "print(list1)"
      ],
      "execution_count": null,
      "outputs": []
    },
    {
      "cell_type": "code",
      "metadata": {
        "id": "fdhrEWlA9Har"
      },
      "source": [
        "[ i  for i in range(10) ]"
      ],
      "execution_count": null,
      "outputs": []
    },
    {
      "cell_type": "code",
      "metadata": {
        "id": "D2dQ2QHBaCLk"
      },
      "source": [
        "list2 = []\n",
        "\n",
        "for i in range(10):\n",
        "  if i%2>0:\n",
        "    list2.append(i)\n",
        "\n",
        "print(list2)"
      ],
      "execution_count": null,
      "outputs": []
    },
    {
      "cell_type": "code",
      "metadata": {
        "id": "K5ek8LtIZNWK"
      },
      "source": [
        "[ i for i in range(10) if i%2 > 0]"
      ],
      "execution_count": null,
      "outputs": []
    },
    {
      "cell_type": "code",
      "metadata": {
        "id": "8Tf3U0EFZiXg"
      },
      "source": [
        "[ i*i for i in range(10)]"
      ],
      "execution_count": null,
      "outputs": []
    },
    {
      "cell_type": "code",
      "metadata": {
        "id": "dyKGiwxkZxT0"
      },
      "source": [
        "[ i for i in range(10) if i%2>0 ]"
      ],
      "execution_count": null,
      "outputs": []
    },
    {
      "cell_type": "markdown",
      "metadata": {
        "id": "BlJPJrTbclrJ"
      },
      "source": [
        "### 使用列表推導式篩選字典"
      ]
    },
    {
      "cell_type": "code",
      "metadata": {
        "id": "6KWCuLxXbPaA"
      },
      "source": [
        "dict1 = {'國文':87, '英文':78, '韓文':101, '穿越文':178, '史豔文':999}\n",
        "dict1"
      ],
      "execution_count": null,
      "outputs": []
    },
    {
      "cell_type": "code",
      "metadata": {
        "id": "y4CYJ4-U_HNR"
      },
      "source": [
        "[ i for i in dict1 ]"
      ],
      "execution_count": null,
      "outputs": []
    },
    {
      "cell_type": "code",
      "metadata": {
        "id": "fiT67datASuO"
      },
      "source": [
        "dict1.keys()"
      ],
      "execution_count": null,
      "outputs": []
    },
    {
      "cell_type": "code",
      "metadata": {
        "id": "r1y4lvfbAY6J"
      },
      "source": [
        "dict1.values()"
      ],
      "execution_count": null,
      "outputs": []
    },
    {
      "cell_type": "code",
      "metadata": {
        "id": "1bcl--iuc1Ku"
      },
      "source": [
        "[ i for i in dict1.keys()]"
      ],
      "execution_count": null,
      "outputs": []
    },
    {
      "cell_type": "code",
      "metadata": {
        "id": "eIsiwCoQcwA4"
      },
      "source": [
        "[ i for i in dict1.values()]"
      ],
      "execution_count": null,
      "outputs": []
    },
    {
      "cell_type": "code",
      "metadata": {
        "id": "1guxl-4Af1aZ"
      },
      "source": [
        "[{k:v} for k , v in dict1.items()]"
      ],
      "execution_count": null,
      "outputs": []
    },
    {
      "cell_type": "code",
      "metadata": {
        "id": "JvnNsPn4gA3k"
      },
      "source": [
        "[k for k , v in dict1.items()]"
      ],
      "execution_count": null,
      "outputs": []
    },
    {
      "cell_type": "code",
      "metadata": {
        "id": "MaKoQiTHA0rt"
      },
      "source": [
        "dict1.items()"
      ],
      "execution_count": null,
      "outputs": []
    },
    {
      "cell_type": "code",
      "metadata": {
        "id": "bf0tRbRxA5rW"
      },
      "source": [
        "[ v for k,v in dict1.items()   ]"
      ],
      "execution_count": null,
      "outputs": []
    },
    {
      "cell_type": "code",
      "metadata": {
        "id": "kjVYja6_gD3C"
      },
      "source": [
        "[{k:v} for k , v in dict1.items()]"
      ],
      "execution_count": null,
      "outputs": []
    },
    {
      "cell_type": "markdown",
      "metadata": {
        "id": "l1QshDtSdFPe"
      },
      "source": [
        "## 練習:使用列表推導式篩選\n"
      ]
    },
    {
      "cell_type": "markdown",
      "metadata": {
        "id": "pKLCMvqcAgsc"
      },
      "source": [
        "- 使用列表推導式篩選上述dict1之中，值不大於87是哪些key?"
      ]
    },
    {
      "cell_type": "code",
      "metadata": {
        "id": "pbekRm_uieF2"
      },
      "source": [
        "# Your code here\n",
        "\n",
        "[ k for k,v in dict1.items() if v<87]\n"
      ],
      "execution_count": null,
      "outputs": []
    },
    {
      "cell_type": "markdown",
      "metadata": {
        "id": "7fPXV_hqDQM7"
      },
      "source": [
        "- 請執行以下程式，並使用列表推導式篩選出文字的彈幕\n",
        "  - 提示: 需先用for迴圈解析list，再解析每個dict，其中key = 其中key = \"text\"。也就是要2個for迴圈+if條件判斷。"
      ]
    },
    {
      "cell_type": "code",
      "source": [
        "#@title\n",
        "danmu = [\n",
        "    {\n",
        "        \"text\": \"頭香！！\",\n",
        "        \"color\": \"#FFFFFF\",\n",
        "        \"size\": 1,\n",
        "        \"position\": 0,\n",
        "        \"time\": 0,\n",
        "        \"sn\": 29146216,\n",
        "        \"userid\": \"Joyce14\"\n",
        "    },\n",
        "    {\n",
        "        \"text\": \"2天看完+1 中配讚讚\",\n",
        "        \"color\": \"#FFFFFF\",\n",
        "        \"size\": 1,\n",
        "        \"position\": 0,\n",
        "        \"time\": 140,\n",
        "        \"sn\": 29190448,\n",
        "        \"userid\": \"miki71003911\"\n",
        "    },\n",
        "    {\n",
        "        \"text\": \"4\",\n",
        "        \"color\": \"#FFFFFF\",\n",
        "        \"size\": 1,\n",
        "        \"position\": 0,\n",
        "        \"time\": 143,\n",
        "        \"sn\": 29148027,\n",
        "        \"userid\": \"Cs90412\"\n",
        "    },\n",
        "    {\n",
        "        \"text\": \"沒人？\",\n",
        "        \"color\": \"#FFFFFF\",\n",
        "        \"size\": 1,\n",
        "        \"position\": 0,\n",
        "        \"time\": 205,\n",
        "        \"sn\": 29154223,\n",
        "        \"userid\": \"owokkgg1\"\n",
        "    },\n",
        "    {\n",
        "        \"text\": \"彈幕好少\",\n",
        "        \"color\": \"#FFFFFF\",\n",
        "        \"size\": 1,\n",
        "        \"position\": 0,\n",
        "        \"time\": 205,\n",
        "        \"sn\": 29164510,\n",
        "        \"userid\": \"dean123811\"\n",
        "    },\n",
        "    {\n",
        "        \"text\": \"彈幕少正常，畢竟大家都看過日文了。\",\n",
        "        \"color\": \"#FFFFFF\",\n",
        "        \"size\": 1,\n",
        "        \"position\": 0,\n",
        "        \"time\": 222,\n",
        "        \"sn\": 29477266,\n",
        "        \"userid\": \"r90230222\"\n",
        "    },\n",
        "    {\n",
        "        \"text\": \"嗨\",\n",
        "        \"color\": \"#FFFFFF\",\n",
        "        \"size\": 1,\n",
        "        \"position\": 0,\n",
        "        \"time\": 243,\n",
        "        \"sn\": 29712805,\n",
        "        \"userid\": \"n910543\"\n",
        "    },\n",
        "    {\n",
        "        \"text\": \"把自己組織的標章這樣亂貼不怕壁r康嗎\",\n",
        "        \"color\": \"#FFFFFF\",\n",
        "        \"size\": 1,\n",
        "        \"position\": 0,\n",
        "        \"time\": 271,\n",
        "        \"sn\": 29603007,\n",
        "        \"userid\": \"Repliroid\"\n",
        "    },\n",
        "    {\n",
        "        \"text\": \"好笑，才要看中配。\",\n",
        "        \"color\": \"#FFFFFF\",\n",
        "        \"size\": 1,\n",
        "        \"position\": 0,\n",
        "        \"time\": 280,\n",
        "        \"sn\": 29762131,\n",
        "        \"userid\": \"jackypig777\"\n",
        "    },\n",
        "    {\n",
        "        \"text\": \"t rr  r r r r r\",\n",
        "        \"color\": \"#FFFFFF\",\n",
        "        \"size\": 1,\n",
        "        \"position\": 0,\n",
        "        \"time\": 305,\n",
        "        \"sn\": 29156538,\n",
        "        \"userid\": \"osps8787\"\n",
        "    },\n",
        "    {\n",
        "        \"text\": \"怪醫黑傑克的旁白\",\n",
        "        \"color\": \"#A7FE39\",\n",
        "        \"size\": 2,\n",
        "        \"position\": 2,\n",
        "        \"time\": 492,\n",
        "        \"sn\": 29164538,\n",
        "        \"userid\": \"dean123811\"\n",
        "    },\n",
        "    {\n",
        "        \"text\": \"航海王的旁白～\",\n",
        "        \"color\": \"#0036FA\",\n",
        "        \"size\": 2,\n",
        "        \"position\": 0,\n",
        "        \"time\": 555,\n",
        "        \"sn\": 29741923,\n",
        "        \"userid\": \"brenda85ee\"\n",
        "    },\n",
        "    {\n",
        "        \"text\": \"真希望能有多一點人支持中配\",\n",
        "        \"color\": \"#FFFFFF\",\n",
        "        \"size\": 1,\n",
        "        \"position\": 0,\n",
        "        \"time\": 607,\n",
        "        \"sn\": 29190478,\n",
        "        \"userid\": \"miki71003911\"\n",
        "    },\n",
        "    {\n",
        "        \"text\": \"台配讚\",\n",
        "        \"color\": \"#FF0026\",\n",
        "        \"size\": 2,\n",
        "        \"position\": 2,\n",
        "        \"time\": 650,\n",
        "        \"sn\": 29191681,\n",
        "        \"userid\": \"kikilala7777\"\n",
        "    },\n",
        "    {\n",
        "        \"text\": \"不得不說 這部中配真是夠水準 超讚\",\n",
        "        \"color\": \"#FFFFFF\",\n",
        "        \"size\": 1,\n",
        "        \"position\": 0,\n",
        "        \"time\": 666,\n",
        "        \"sn\": 29375554,\n",
        "        \"userid\": \"a29711412\"\n",
        "    },\n",
        "    {\n",
        "        \"text\": \"寶寶們很需要中配\",\n",
        "        \"color\": \"#FFFFFF\",\n",
        "        \"size\": 1,\n",
        "        \"position\": 0,\n",
        "        \"time\": 681,\n",
        "        \"sn\": 29692074,\n",
        "        \"userid\": \"dinosimon\"\n",
        "    },\n",
        "    {\n",
        "        \"text\": \"我有開字幕嗎🤔\",\n",
        "        \"color\": \"#FFFFFF\",\n",
        "        \"size\": 1,\n",
        "        \"position\": 0,\n",
        "        \"time\": 1460,\n",
        "        \"sn\": 29727426,\n",
        "        \"userid\": \"nses106001\"\n",
        "    },\n",
        "    {\n",
        "        \"text\": \"回覆白字：有\",\n",
        "        \"color\": \"#FFFFFF\",\n",
        "        \"size\": 1,\n",
        "        \"position\": 0,\n",
        "        \"time\": 1516,\n",
        "        \"sn\": 29758563,\n",
        "        \"userid\": \"bir54040111\"\n",
        "    },\n",
        "    {\n",
        "        \"text\": \"認真地說，好興奮真的沒挖庫挖庫有感\",\n",
        "        \"color\": \"#FFFFFF\",\n",
        "        \"size\": 1,\n",
        "        \"position\": 0,\n",
        "        \"time\": 1543,\n",
        "        \"sn\": 29812485,\n",
        "        \"userid\": \"s134587\"\n",
        "    },\n",
        "    {\n",
        "        \"text\": \"有誰時在今天10/2看的嗎？\",\n",
        "        \"color\": \"#FFFFFF\",\n",
        "        \"size\": 1,\n",
        "        \"position\": 0,\n",
        "        \"time\": 1869,\n",
        "        \"sn\": 29738975,\n",
        "        \"userid\": \"s0714279\"\n",
        "    },\n",
        "    {\n",
        "        \"text\": \"黃昏1人抵多人\",\n",
        "        \"color\": \"#FFFFFF\",\n",
        "        \"size\": 1,\n",
        "        \"position\": 0,\n",
        "        \"time\": 1959,\n",
        "        \"sn\": 29190501,\n",
        "        \"userid\": \"miki71003911\"\n",
        "    },\n",
        "    {\n",
        "        \"text\": \"中文沒人看笑死\",\n",
        "        \"color\": \"#BEBEBE\",\n",
        "        \"size\": 1,\n",
        "        \"position\": 0,\n",
        "        \"time\": 2030,\n",
        "        \"sn\": 29396980,\n",
        "        \"userid\": \"yyh5687423\"\n",
        "    },\n",
        "    {\n",
        "        \"text\": \"抽烟不好\",\n",
        "        \"color\": \"#FFFFFF\",\n",
        "        \"size\": 1,\n",
        "        \"position\": 0,\n",
        "        \"time\": 2040,\n",
        "        \"sn\": 29153140,\n",
        "        \"userid\": \"reborn1446\"\n",
        "    },\n",
        "    {\n",
        "        \"text\": \"安妮亞的聲音好熟悉啊~\",\n",
        "        \"color\": \"#FF0026\",\n",
        "        \"size\": 1,\n",
        "        \"position\": 0,\n",
        "        \"time\": 2593,\n",
        "        \"sn\": 29758577,\n",
        "        \"userid\": \"bir54040111\"\n",
        "    },\n",
        "    {\n",
        "        \"text\": \"有人嗎\",\n",
        "        \"color\": \"#00C3FC\",\n",
        "        \"size\": 2,\n",
        "        \"position\": 0,\n",
        "        \"time\": 2731,\n",
        "        \"sn\": 29246686,\n",
        "        \"userid\": \"AAOX2048\"\n",
        "    },\n",
        "    {\n",
        "        \"text\": \"支持\",\n",
        "        \"color\": \"#FFFFFF\",\n",
        "        \"size\": 1,\n",
        "        \"position\": 0,\n",
        "        \"time\": 2755,\n",
        "        \"sn\": 29783640,\n",
        "        \"userid\": \"rip66omg\"\n",
        "    },\n",
        "    {\n",
        "        \"text\": \"安妮亞日文配音比較可愛😍\",\n",
        "        \"color\": \"#FFFFFF\",\n",
        "        \"size\": 1,\n",
        "        \"position\": 0,\n",
        "        \"time\": 2994,\n",
        "        \"sn\": 29922328,\n",
        "        \"userid\": \"JIMY230fghkb\"\n",
        "    },\n",
        "    {\n",
        "        \"text\": \"黃昏爆肝工作中\",\n",
        "        \"color\": \"#FFFFFF\",\n",
        "        \"size\": 1,\n",
        "        \"position\": 0,\n",
        "        \"time\": 3045,\n",
        "        \"sn\": 29190546,\n",
        "        \"userid\": \"miki71003911\"\n",
        "    },\n",
        "    {\n",
        "        \"text\": \"爆肝還要被鄰居八卦\",\n",
        "        \"color\": \"#FFFFFF\",\n",
        "        \"size\": 1,\n",
        "        \"position\": 0,\n",
        "        \"time\": 3393,\n",
        "        \"sn\": 29190557,\n",
        "        \"userid\": \"miki71003911\"\n",
        "    },\n",
        "    {\n",
        "        \"text\": \" 整天在那八卦是有比較好嗎\",\n",
        "        \"color\": \"#FFFFFF\",\n",
        "        \"size\": 1,\n",
        "        \"position\": 0,\n",
        "        \"time\": 3414,\n",
        "        \"sn\": 29603076,\n",
        "        \"userid\": \"Repliroid\"\n",
        "    },\n",
        "    {\n",
        "        \"text\": \"水島太太\",\n",
        "        \"color\": \"#FFFFFF\",\n",
        "        \"size\": 1,\n",
        "        \"position\": 2,\n",
        "        \"time\": 3435,\n",
        "        \"sn\": 29496425,\n",
        "        \"userid\": \"Yamidovik\"\n",
        "    },\n",
        "    {\n",
        "        \"text\": \"爆肝還要被精神攻擊\",\n",
        "        \"color\": \"#FFFFFF\",\n",
        "        \"size\": 1,\n",
        "        \"position\": 0,\n",
        "        \"time\": 3483,\n",
        "        \"sn\": 29268265,\n",
        "        \"userid\": \"AHPS3335\"\n",
        "    },\n",
        "    {\n",
        "        \"text\": \"我想到今天我的每日任務還沒解啊\",\n",
        "        \"color\": \"#FF0026\",\n",
        "        \"size\": 1,\n",
        "        \"position\": 0,\n",
        "        \"time\": 3593,\n",
        "        \"sn\": 29758588,\n",
        "        \"userid\": \"bir54040111\"\n",
        "    },\n",
        "    {\n",
        "        \"text\": \"要等到10月了\",\n",
        "        \"color\": \"#FFFFFF\",\n",
        "        \"size\": 1,\n",
        "        \"position\": 0,\n",
        "        \"time\": 4032,\n",
        "        \"sn\": 29266327,\n",
        "        \"userid\": \"fcsd9822\"\n",
        "    },\n",
        "    {\n",
        "        \"text\": \"噗，害我噴飯了!!\",\n",
        "        \"color\": \"#FFFFFF\",\n",
        "        \"size\": 1,\n",
        "        \"position\": 0,\n",
        "        \"time\": 4104,\n",
        "        \"sn\": 29266324,\n",
        "        \"userid\": \"fcsd9822\"\n",
        "    },\n",
        "    {\n",
        "        \"text\": \"黃昏爺爺\",\n",
        "        \"color\": \"#FFFFFF\",\n",
        "        \"size\": 1,\n",
        "        \"position\": 0,\n",
        "        \"time\": 4115,\n",
        "        \"sn\": 29380929,\n",
        "        \"userid\": \"wxz810\"\n",
        "    },\n",
        "    {\n",
        "        \"text\": \"好像被榨乾三天三夜www\",\n",
        "        \"color\": \"#FFFFFF\",\n",
        "        \"size\": 1,\n",
        "        \"position\": 0,\n",
        "        \"time\": 4169,\n",
        "        \"sn\": 29190602,\n",
        "        \"userid\": \"miki71003911\"\n",
        "    },\n",
        "    {\n",
        "        \"text\": \"全家都藍白條紋\",\n",
        "        \"color\": \"#FFFFFF\",\n",
        "        \"size\": 1,\n",
        "        \"position\": 0,\n",
        "        \"time\": 4371,\n",
        "        \"sn\": 29603325,\n",
        "        \"userid\": \"Repliroid\"\n",
        "    },\n",
        "    {\n",
        "        \"text\": \"安妮亞棒讀中\",\n",
        "        \"color\": \"#FFFFFF\",\n",
        "        \"size\": 1,\n",
        "        \"position\": 0,\n",
        "        \"time\": 4441,\n",
        "        \"sn\": 29190632,\n",
        "        \"userid\": \"miki71003911\"\n",
        "    },\n",
        "    {\n",
        "        \"text\": \"棒讀中\",\n",
        "        \"color\": \"#FFFFFF\",\n",
        "        \"size\": 1,\n",
        "        \"position\": 0,\n",
        "        \"time\": 4443,\n",
        "        \"sn\": 29153153,\n",
        "        \"userid\": \"reborn1446\"\n",
        "    },\n",
        "    {\n",
        "        \"text\": \"台配聽起來有點尷尬\",\n",
        "        \"color\": \"#00C3FC\",\n",
        "        \"size\": 1,\n",
        "        \"position\": 0,\n",
        "        \"time\": 4539,\n",
        "        \"sn\": 29758600,\n",
        "        \"userid\": \"bir54040111\"\n",
        "    },\n",
        "    {\n",
        "        \"text\": \"安妮亞的棒讀好棒www\",\n",
        "        \"color\": \"#FFFFFF\",\n",
        "        \"size\": 1,\n",
        "        \"position\": 0,\n",
        "        \"time\": 4607,\n",
        "        \"sn\": 29207680,\n",
        "        \"userid\": \"maedazen\"\n",
        "    },\n",
        "    {\n",
        "        \"text\": \"嘟嘟~ 請搶 請搶\",\n",
        "        \"color\": \"#FF0026\",\n",
        "        \"size\": 1,\n",
        "        \"position\": 0,\n",
        "        \"time\": 4693,\n",
        "        \"sn\": 29181624,\n",
        "        \"userid\": \"AB123BA321\"\n",
        "    },\n",
        "    {\n",
        "        \"text\": \"nobody\",\n",
        "        \"color\": \"#FFFFFF\",\n",
        "        \"size\": 1,\n",
        "        \"position\": 0,\n",
        "        \"time\": 4871,\n",
        "        \"sn\": 29170301,\n",
        "        \"userid\": \"lladc310\"\n",
        "    },\n",
        "    {\n",
        "        \"text\": \"今天絕不加班!!!絕不!!!\",\n",
        "        \"color\": \"#FFFFFF\",\n",
        "        \"size\": 1,\n",
        "        \"position\": 0,\n",
        "        \"time\": 4922,\n",
        "        \"sn\": 29190647,\n",
        "        \"userid\": \"miki71003911\"\n",
        "    },\n",
        "    {\n",
        "        \"text\": \"倒不了這句聽起來異常好笑\",\n",
        "        \"color\": \"#FFFFFF\",\n",
        "        \"size\": 1,\n",
        "        \"position\": 0,\n",
        "        \"time\": 5082,\n",
        "        \"sn\": 29302717,\n",
        "        \"userid\": \"spfy\"\n",
        "    },\n",
        "    {\n",
        "        \"text\": \"wwwww\",\n",
        "        \"color\": \"#FFFFFF\",\n",
        "        \"size\": 1,\n",
        "        \"position\": 0,\n",
        "        \"time\": 5160,\n",
        "        \"sn\": 29742273,\n",
        "        \"userid\": \"kasky2021\"\n",
        "    },\n",
        "    {\n",
        "        \"text\": \"<===0\\\\/0\",\n",
        "        \"color\": \"#00C3FC\",\n",
        "        \"size\": 2,\n",
        "        \"position\": 2,\n",
        "        \"time\": 5185,\n",
        "        \"sn\": 29154379,\n",
        "        \"userid\": \"owokkgg1\"\n",
        "    },\n",
        "    {\n",
        "        \"text\": \"這麼大聲講出來真的沒問題嗎XDD\",\n",
        "        \"color\": \"#FFFFFF\",\n",
        "        \"size\": 1,\n",
        "        \"position\": 0,\n",
        "        \"time\": 5288,\n",
        "        \"sn\": 29207707,\n",
        "        \"userid\": \"maedazen\"\n",
        "    },\n",
        "    {\n",
        "        \"text\": \"講這種事小聲一點啦\",\n",
        "        \"color\": \"#FFFFFF\",\n",
        "        \"size\": 1,\n",
        "        \"position\": 0,\n",
        "        \"time\": 5293,\n",
        "        \"sn\": 29165213,\n",
        "        \"userid\": \"bctroy91224\"\n",
        "    },\n",
        "    {\n",
        "        \"text\": \"水築館wwwww\",\n",
        "        \"color\": \"#FFFFFF\",\n",
        "        \"size\": 1,\n",
        "        \"position\": 0,\n",
        "        \"time\": 5306,\n",
        "        \"sn\": 29152796,\n",
        "        \"userid\": \"lina24680\"\n",
        "    },\n",
        "    {\n",
        "        \"text\": \"這是強制劇情\",\n",
        "        \"color\": \"#FFFFFF\",\n",
        "        \"size\": 1,\n",
        "        \"position\": 0,\n",
        "        \"time\": 5332,\n",
        "        \"sn\": 29603340,\n",
        "        \"userid\": \"Repliroid\"\n",
        "    },\n",
        "    {\n",
        "        \"text\": \"強制加班ＸＤＤ\",\n",
        "        \"color\": \"#FFFFFF\",\n",
        "        \"size\": 1,\n",
        "        \"position\": 0,\n",
        "        \"time\": 5367,\n",
        "        \"sn\": 29199725,\n",
        "        \"userid\": \"cycpe92062\"\n",
        "    },\n",
        "    {\n",
        "        \"text\": \"好好笑笑死哈哈哈哈哈哈哈哈哈哈\",\n",
        "        \"color\": \"#00C3FC\",\n",
        "        \"size\": 1,\n",
        "        \"position\": 0,\n",
        "        \"time\": 5370,\n",
        "        \"sn\": 29824573,\n",
        "        \"userid\": \"gr108061\"\n",
        "    },\n",
        "    {\n",
        "        \"text\": \"直接無視啊喂\",\n",
        "        \"color\": \"#FFFFFF\",\n",
        "        \"size\": 1,\n",
        "        \"position\": 0,\n",
        "        \"time\": 5376,\n",
        "        \"sn\": 29758615,\n",
        "        \"userid\": \"bir54040111\"\n",
        "    },\n",
        "    {\n",
        "        \"text\": \"一定要加班就是了(´◑∀◐｀)\",\n",
        "        \"color\": \"#00C3FC\",\n",
        "        \"size\": 1,\n",
        "        \"position\": 0,\n",
        "        \"time\": 5416,\n",
        "        \"sn\": 29709830,\n",
        "        \"userid\": \"bhes107367\"\n",
        "    },\n",
        "    {\n",
        "        \"text\": \"請給我咖啡跟果汁！！！\",\n",
        "        \"color\": \"#FFFFFF\",\n",
        "        \"size\": 1,\n",
        "        \"position\": 0,\n",
        "        \"time\": 5419,\n",
        "        \"sn\": 29242677,\n",
        "        \"userid\": \"swayoung\"\n",
        "    },\n",
        "    {\n",
        "        \"text\": \"直接無視掉\",\n",
        "        \"color\": \"#BEBEBE\",\n",
        "        \"size\": 1,\n",
        "        \"position\": 0,\n",
        "        \"time\": 5444,\n",
        "        \"sn\": 29824581,\n",
        "        \"userid\": \"gr108061\"\n",
        "    },\n",
        "    {\n",
        "        \"text\": \"群眾的耳朵怎麼了？\",\n",
        "        \"color\": \"#FFFFFF\",\n",
        "        \"size\": 1,\n",
        "        \"position\": 0,\n",
        "        \"time\": 5502,\n",
        "        \"sn\": 29812553,\n",
        "        \"userid\": \"s134587\"\n",
        "    },\n",
        "    {\n",
        "        \"text\": \"鯊嘎娜～\",\n",
        "        \"color\": \"#00C3FC\",\n",
        "        \"size\": 1,\n",
        "        \"position\": 0,\n",
        "        \"time\": 5545,\n",
        "        \"sn\": 29758298,\n",
        "        \"userid\": \"dd6667747\"\n",
        "    },\n",
        "    {\n",
        "        \"text\": \"第一次來水族館的我\",\n",
        "        \"color\": \"#FFFFFF\",\n",
        "        \"size\": 1,\n",
        "        \"position\": 0,\n",
        "        \"time\": 5608,\n",
        "        \"sn\": 29758620,\n",
        "        \"userid\": \"bir54040111\"\n",
        "    },\n",
        "    {\n",
        "        \"text\": \"被強迫加班的黃昏好慘\",\n",
        "        \"color\": \"#FFFFFF\",\n",
        "        \"size\": 1,\n",
        "        \"position\": 0,\n",
        "        \"time\": 5826,\n",
        "        \"sn\": 29190690,\n",
        "        \"userid\": \"miki71003911\"\n",
        "    },\n",
        "    {\n",
        "        \"text\": \"跟來的\",\n",
        "        \"color\": \"#FFFFFF\",\n",
        "        \"size\": 1,\n",
        "        \"position\": 0,\n",
        "        \"time\": 5909,\n",
        "        \"sn\": 29758626,\n",
        "        \"userid\": \"bir54040111\"\n",
        "    },\n",
        "    {\n",
        "        \"text\": \"這是小丸子吧\",\n",
        "        \"color\": \"#FFFFFF\",\n",
        "        \"size\": 1,\n",
        "        \"position\": 0,\n",
        "        \"time\": 6097,\n",
        "        \"sn\": 29149246,\n",
        "        \"userid\": \"toranaco\"\n",
        "    },\n",
        "    {\n",
        "        \"text\": \"企鵝: 到底關我P事\",\n",
        "        \"color\": \"#FFFFFF\",\n",
        "        \"size\": 1,\n",
        "        \"position\": 0,\n",
        "        \"time\": 6128,\n",
        "        \"sn\": 29190712,\n",
        "        \"userid\": \"miki71003911\"\n",
        "    },\n",
        "    {\n",
        "        \"text\": \"好可愛(///▽///)\",\n",
        "        \"color\": \"#00C3FC\",\n",
        "        \"size\": 1,\n",
        "        \"position\": 0,\n",
        "        \"time\": 6449,\n",
        "        \"sn\": 29709852,\n",
        "        \"userid\": \"bhes107367\"\n",
        "    },\n",
        "    {\n",
        "        \"text\": \"老皮xDDD\",\n",
        "        \"color\": \"#FFFFFF\",\n",
        "        \"size\": 1,\n",
        "        \"position\": 0,\n",
        "        \"time\": 6929,\n",
        "        \"sn\": 29162606,\n",
        "        \"userid\": \"LWT1109\"\n",
        "    },\n",
        "    {\n",
        "        \"text\": \"還自帶翻譯功能?\",\n",
        "        \"color\": \"#FFFFFF\",\n",
        "        \"size\": 1,\n",
        "        \"position\": 0,\n",
        "        \"time\": 6955,\n",
        "        \"sn\": 29478125,\n",
        "        \"userid\": \"esonic\"\n",
        "    },\n",
        "    {\n",
        "        \"text\": \"老皮 笑死\",\n",
        "        \"color\": \"#FFFFFF\",\n",
        "        \"size\": 1,\n",
        "        \"position\": 0,\n",
        "        \"time\": 6955,\n",
        "        \"sn\": 29742342,\n",
        "        \"userid\": \"kasky2021\"\n",
        "    },\n",
        "    {\n",
        "        \"text\": \"呸\",\n",
        "        \"color\": \"#FFFFFF\",\n",
        "        \"size\": 1,\n",
        "        \"position\": 0,\n",
        "        \"time\": 7125,\n",
        "        \"sn\": 29154446,\n",
        "        \"userid\": \"owokkgg1\"\n",
        "    },\n",
        "    {\n",
        "        \"text\": \"宿醉 (X\",\n",
        "        \"color\": \"#FFFFFF\",\n",
        "        \"size\": 1,\n",
        "        \"position\": 0,\n",
        "        \"time\": 7138,\n",
        "        \"sn\": 29478132,\n",
        "        \"userid\": \"esonic\"\n",
        "    },\n",
        "    {\n",
        "        \"text\": \"中配其實還不錯，不過真的感覺有點尬....\",\n",
        "        \"color\": \"#FFFFFF\",\n",
        "        \"size\": 1,\n",
        "        \"position\": 0,\n",
        "        \"time\": 7263,\n",
        "        \"sn\": 29253253,\n",
        "        \"userid\": \"adsl161040\"\n",
        "    },\n",
        "    {\n",
        "        \"text\": \"柯南：我去一下廁所\",\n",
        "        \"color\": \"#FFFFFF\",\n",
        "        \"size\": 1,\n",
        "        \"position\": 0,\n",
        "        \"time\": 7307,\n",
        "        \"sn\": 29263584,\n",
        "        \"userid\": \"Jimmy50315\"\n",
        "    },\n",
        "    {\n",
        "        \"text\": \"並沒有\",\n",
        "        \"color\": \"#FFFFFF\",\n",
        "        \"size\": 1,\n",
        "        \"position\": 0,\n",
        "        \"time\": 7335,\n",
        "        \"sn\": 29154456,\n",
        "        \"userid\": \"owokkgg1\"\n",
        "    },\n",
        "    {\n",
        "        \"text\": \"grughurghyughtrduyh gh guhfdshnhueyiuyui\",\n",
        "        \"color\": \"#FFFFFF\",\n",
        "        \"size\": 1,\n",
        "        \"position\": 1,\n",
        "        \"time\": 7431,\n",
        "        \"sn\": 29192789,\n",
        "        \"userid\": \"ttc107357\"\n",
        "    },\n",
        "    {\n",
        "        \"text\": \"企鵝：幹\",\n",
        "        \"color\": \"#FFFFFF\",\n",
        "        \"size\": 1,\n",
        "        \"position\": 2,\n",
        "        \"time\": 7770,\n",
        "        \"sn\": 29154482,\n",
        "        \"userid\": \"owokkgg1\"\n",
        "    },\n",
        "    {\n",
        "        \"text\": \"超强記憶\",\n",
        "        \"color\": \"#FFFFFF\",\n",
        "        \"size\": 1,\n",
        "        \"position\": 0,\n",
        "        \"time\": 7890,\n",
        "        \"sn\": 29153234,\n",
        "        \"userid\": \"reborn1446\"\n",
        "    },\n",
        "    {\n",
        "        \"text\": \"這記憶力根本超鬼\",\n",
        "        \"color\": \"#FFFFFF\",\n",
        "        \"size\": 1,\n",
        "        \"position\": 0,\n",
        "        \"time\": 8068,\n",
        "        \"sn\": 29190791,\n",
        "        \"userid\": \"miki71003911\"\n",
        "    },\n",
        "    {\n",
        "        \"text\": \"克金玩家\",\n",
        "        \"color\": \"#FFFFFF\",\n",
        "        \"size\": 1,\n",
        "        \"position\": 0,\n",
        "        \"time\": 8076,\n",
        "        \"sn\": 29758658,\n",
        "        \"userid\": \"bir54040111\"\n",
        "    },\n",
        "    {\n",
        "        \"text\": \"企鵝暴動中\",\n",
        "        \"color\": \"#FFFFFF\",\n",
        "        \"size\": 1,\n",
        "        \"position\": 0,\n",
        "        \"time\": 8369,\n",
        "        \"sn\": 29190801,\n",
        "        \"userid\": \"miki71003911\"\n",
        "    },\n",
        "    {\n",
        "        \"text\": \"超強的記憶力XD\",\n",
        "        \"color\": \"#00C3FC\",\n",
        "        \"size\": 1,\n",
        "        \"position\": 0,\n",
        "        \"time\": 8495,\n",
        "        \"sn\": 29709893,\n",
        "        \"userid\": \"bhes107367\"\n",
        "    },\n",
        "    {\n",
        "        \"text\": \"E=mc²\",\n",
        "        \"color\": \"#FFFFFF\",\n",
        "        \"size\": 1,\n",
        "        \"position\": 0,\n",
        "        \"time\": 8504,\n",
        "        \"sn\": 29758668,\n",
        "        \"userid\": \"bir54040111\"\n",
        "    },\n",
        "    {\n",
        "        \"text\": \"這是替身攻擊\",\n",
        "        \"color\": \"#FFFFFF\",\n",
        "        \"size\": 1,\n",
        "        \"position\": 0,\n",
        "        \"time\": 8536,\n",
        "        \"sn\": 29204438,\n",
        "        \"userid\": \"wcltlcwty\"\n",
        "    },\n",
        "    {\n",
        "        \"text\": \"就可以使出替身攻擊\",\n",
        "        \"color\": \"#FFFFFF\",\n",
        "        \"size\": 1,\n",
        "        \"position\": 0,\n",
        "        \"time\": 8569,\n",
        "        \"sn\": 29603392,\n",
        "        \"userid\": \"Repliroid\"\n",
        "    },\n",
        "    {\n",
        "        \"text\": \"這隻企鵝似乎生病了，不如...\",\n",
        "        \"color\": \"#FFFFFF\",\n",
        "        \"size\": 1,\n",
        "        \"position\": 0,\n",
        "        \"time\": 8732,\n",
        "        \"sn\": 29370364,\n",
        "        \"userid\": \"zaq2272919\"\n",
        "    },\n",
        "    {\n",
        "        \"text\": \"企鵝肉？！！\",\n",
        "        \"color\": \"#FFFFFF\",\n",
        "        \"size\": 1,\n",
        "        \"position\": 0,\n",
        "        \"time\": 8794,\n",
        "        \"sn\": 29812617,\n",
        "        \"userid\": \"s134587\"\n",
        "    },\n",
        "    {\n",
        "        \"text\": \"啊啊啊啊啊\",\n",
        "        \"color\": \"#FFFFFF\",\n",
        "        \"size\": 1,\n",
        "        \"position\": 2,\n",
        "        \"time\": 8860,\n",
        "        \"sn\": 29154513,\n",
        "        \"userid\": \"owokkgg1\"\n",
        "    },\n",
        "    {\n",
        "        \"text\": \"帽子上的符號真的是可以的嗎？XD\",\n",
        "        \"color\": \"#FFFFFF\",\n",
        "        \"size\": 1,\n",
        "        \"position\": 0,\n",
        "        \"time\": 8973,\n",
        "        \"sn\": 29812631,\n",
        "        \"userid\": \"s134587\"\n",
        "    },\n",
        "    {\n",
        "        \"text\": \"一臉壞人樣\",\n",
        "        \"color\": \"#FFFFFF\",\n",
        "        \"size\": 1,\n",
        "        \"position\": 0,\n",
        "        \"time\": 9091,\n",
        "        \"sn\": 29190821,\n",
        "        \"userid\": \"miki71003911\"\n",
        "    },\n",
        "    {\n",
        "        \"text\": \"有杏仁味\",\n",
        "        \"color\": \"#FFFFFF\",\n",
        "        \"size\": 1,\n",
        "        \"position\": 0,\n",
        "        \"time\": 9285,\n",
        "        \"sn\": 29381092,\n",
        "        \"userid\": \"wxz810\"\n",
        "    },\n",
        "    {\n",
        "        \"text\": \"企鵝：嘎嘎啊啊（？？\",\n",
        "        \"color\": \"#00C3FC\",\n",
        "        \"size\": 1,\n",
        "        \"position\": 0,\n",
        "        \"time\": 9504,\n",
        "        \"sn\": 29709917,\n",
        "        \"userid\": \"bhes107367\"\n",
        "    },\n",
        "    {\n",
        "        \"text\": \"<====好可愛\",\n",
        "        \"color\": \"#FFFFFF\",\n",
        "        \"size\": 1,\n",
        "        \"position\": 0,\n",
        "        \"time\": 9580,\n",
        "        \"sn\": 29154537,\n",
        "        \"userid\": \"owokkgg1\"\n",
        "    },\n",
        "    {\n",
        "        \"text\": \"鳴人是你？\",\n",
        "        \"color\": \"#FDE53D\",\n",
        "        \"size\": 1,\n",
        "        \"position\": 0,\n",
        "        \"time\": 9809,\n",
        "        \"sn\": 29485177,\n",
        "        \"userid\": \"Fifi03\"\n",
        "    },\n",
        "    {\n",
        "        \"text\": \"利用老媽 可以阿~\",\n",
        "        \"color\": \"#FF0026\",\n",
        "        \"size\": 1,\n",
        "        \"position\": 0,\n",
        "        \"time\": 9850,\n",
        "        \"sn\": 29182370,\n",
        "        \"userid\": \"AB123BA321\"\n",
        "    },\n",
        "    {\n",
        "        \"text\": \"被迫上吊www\",\n",
        "        \"color\": \"#FFFFFF\",\n",
        "        \"size\": 0,\n",
        "        \"position\": 0,\n",
        "        \"time\": 9885,\n",
        "        \"sn\": 29192242,\n",
        "        \"userid\": \"kikilala7777\"\n",
        "    },\n",
        "    {\n",
        "        \"text\": \"遇上約兒的壞人好慘\",\n",
        "        \"color\": \"#FFFFFF\",\n",
        "        \"size\": 1,\n",
        "        \"position\": 0,\n",
        "        \"time\": 9892,\n",
        "        \"sn\": 29190865,\n",
        "        \"userid\": \"miki71003911\"\n",
        "    },\n",
        "    {\n",
        "        \"text\": \"四顆牙齒\",\n",
        "        \"color\": \"#00C3FC\",\n",
        "        \"size\": 2,\n",
        "        \"position\": 0,\n",
        "        \"time\": 9929,\n",
        "        \"sn\": 29774114,\n",
        "        \"userid\": \"mickeymouse0\"\n",
        "    },\n",
        "    {\n",
        "        \"text\": \"~名場面~\",\n",
        "        \"color\": \"#FFFFFF\",\n",
        "        \"size\": 1,\n",
        "        \"position\": 0,\n",
        "        \"time\": 9947,\n",
        "        \"sn\": 29151810,\n",
        "        \"userid\": \"gn01136933\"\n",
        "    },\n",
        "    {\n",
        "        \"text\": \"WOW\",\n",
        "        \"color\": \"#FFFFFF\",\n",
        "        \"size\": 1,\n",
        "        \"position\": 0,\n",
        "        \"time\": 9971,\n",
        "        \"sn\": 29267630,\n",
        "        \"userid\": \"az8541\"\n",
        "    },\n",
        "    {\n",
        "        \"text\": \"安妮亞：哇嗚~\",\n",
        "        \"color\": \"#00C3FC\",\n",
        "        \"size\": 1,\n",
        "        \"position\": 0,\n",
        "        \"time\": 9971,\n",
        "        \"sn\": 29709928,\n",
        "        \"userid\": \"bhes107367\"\n",
        "    },\n",
        "    {\n",
        "        \"text\": \"wow\",\n",
        "        \"color\": \"#FFFFFF\",\n",
        "        \"size\": 1,\n",
        "        \"position\": 0,\n",
        "        \"time\": 9972,\n",
        "        \"sn\": 29165415,\n",
        "        \"userid\": \"bctroy91224\"\n",
        "    },\n",
        "    {\n",
        "        \"text\": \"Wow~\",\n",
        "        \"color\": \"#FDE53D\",\n",
        "        \"size\": 1,\n",
        "        \"position\": 0,\n",
        "        \"time\": 9972,\n",
        "        \"sn\": 29194003,\n",
        "        \"userid\": \"Yarrows\"\n",
        "    },\n",
        "    {\n",
        "        \"text\": \"wow\",\n",
        "        \"color\": \"#FFFFFF\",\n",
        "        \"size\": 1,\n",
        "        \"position\": 0,\n",
        "        \"time\": 9975,\n",
        "        \"sn\": 29237404,\n",
        "        \"userid\": \"sgcvn8gc54\"\n",
        "    },\n",
        "    {\n",
        "        \"text\": \"WOW\",\n",
        "        \"color\": \"#FFFFFF\",\n",
        "        \"size\": 1,\n",
        "        \"position\": 0,\n",
        "        \"time\": 9975,\n",
        "        \"sn\": 29477321,\n",
        "        \"userid\": \"r90230222\"\n",
        "    },\n",
        "    {\n",
        "        \"text\": \"wow~\",\n",
        "        \"color\": \"#FFFFFF\",\n",
        "        \"size\": 1,\n",
        "        \"position\": 0,\n",
        "        \"time\": 9977,\n",
        "        \"sn\": 29207786,\n",
        "        \"userid\": \"maedazen\"\n",
        "    },\n",
        "    {\n",
        "        \"text\": \"哇嗚~\",\n",
        "        \"color\": \"#FFFFFF\",\n",
        "        \"size\": 1,\n",
        "        \"position\": 0,\n",
        "        \"time\": 9991,\n",
        "        \"sn\": 29181859,\n",
        "        \"userid\": \"AB123BA321\"\n",
        "    },\n",
        "    {\n",
        "        \"text\": \"wow\",\n",
        "        \"color\": \"#FFFFFF\",\n",
        "        \"size\": 1,\n",
        "        \"position\": 0,\n",
        "        \"time\": 10040,\n",
        "        \"sn\": 29500556,\n",
        "        \"userid\": \"tldj4aaup3\"\n",
        "    },\n",
        "    {\n",
        "        \"text\": \"哇嗚~~\",\n",
        "        \"color\": \"#FFFFFF\",\n",
        "        \"size\": 1,\n",
        "        \"position\": 0,\n",
        "        \"time\": 10041,\n",
        "        \"sn\": 29190878,\n",
        "        \"userid\": \"miki71003911\"\n",
        "    },\n",
        "    {\n",
        "        \"text\": \"wow\",\n",
        "        \"color\": \"#FFFFFF\",\n",
        "        \"size\": 1,\n",
        "        \"position\": 0,\n",
        "        \"time\": 10043,\n",
        "        \"sn\": 29207791,\n",
        "        \"userid\": \"maedazen\"\n",
        "    },\n",
        "    {\n",
        "        \"text\": \"wow\",\n",
        "        \"color\": \"#FFFFFF\",\n",
        "        \"size\": 1,\n",
        "        \"position\": 0,\n",
        "        \"time\": 10053,\n",
        "        \"sn\": 29162877,\n",
        "        \"userid\": \"BHSN00004lel\"\n",
        "    },\n",
        "    {\n",
        "        \"text\": \"這Wow是怎樣...\",\n",
        "        \"color\": \"#FFFFFF\",\n",
        "        \"size\": 1,\n",
        "        \"position\": 0,\n",
        "        \"time\": 10061,\n",
        "        \"sn\": 29212920,\n",
        "        \"userid\": \"P3e7k1k9a8\"\n",
        "    },\n",
        "    {\n",
        "        \"text\": \"比對了一下兩版的wow 都很精隨wwwww\",\n",
        "        \"color\": \"#FFFFFF\",\n",
        "        \"size\": 1,\n",
        "        \"position\": 0,\n",
        "        \"time\": 10122,\n",
        "        \"sn\": 29250816,\n",
        "        \"userid\": \"cheeseq5\"\n",
        "    },\n",
        "    {\n",
        "        \"text\": \"外遇對象是工作\",\n",
        "        \"color\": \"#FFFFFF\",\n",
        "        \"size\": 1,\n",
        "        \"position\": 0,\n",
        "        \"time\": 10216,\n",
        "        \"sn\": 29603433,\n",
        "        \"userid\": \"Repliroid\"\n",
        "    },\n",
        "    {\n",
        "        \"text\": \"兩個天龍國八婆\",\n",
        "        \"color\": \"#FF0026\",\n",
        "        \"size\": 1,\n",
        "        \"position\": 1,\n",
        "        \"time\": 10540,\n",
        "        \"sn\": 29708138,\n",
        "        \"userid\": \"stupidcr6\"\n",
        "    },\n",
        "    {\n",
        "        \"text\": \"地方媽媽戀愛了\",\n",
        "        \"color\": \"#FFFFFF\",\n",
        "        \"size\": 1,\n",
        "        \"position\": 2,\n",
        "        \"time\": 10710,\n",
        "        \"sn\": 29154576,\n",
        "        \"userid\": \"owokkgg1\"\n",
        "    },\n",
        "    {\n",
        "        \"text\": \"這幕真的好溫馨\",\n",
        "        \"color\": \"#FFFFFF\",\n",
        "        \"size\": 1,\n",
        "        \"position\": 0,\n",
        "        \"time\": 10894,\n",
        "        \"sn\": 29190952,\n",
        "        \"userid\": \"miki71003911\"\n",
        "    },\n",
        "    {\n",
        "        \"text\": \"快喝桂格養氣人蔘雞精(？\",\n",
        "        \"color\": \"#FFFFFF\",\n",
        "        \"size\": 1,\n",
        "        \"position\": 0,\n",
        "        \"time\": 10985,\n",
        "        \"sn\": 29381180,\n",
        "        \"userid\": \"wxz810\"\n",
        "    },\n",
        "    {\n",
        "        \"text\": \"嫁了（？\",\n",
        "        \"color\": \"#FFFFFF\",\n",
        "        \"size\": 1,\n",
        "        \"position\": 0,\n",
        "        \"time\": 11165,\n",
        "        \"sn\": 29812666,\n",
        "        \"userid\": \"s134587\"\n",
        "    },\n",
        "    {\n",
        "        \"text\": \"h03\",\n",
        "        \"color\": \"#FFFFFF\",\n",
        "        \"size\": 1,\n",
        "        \"position\": 0,\n",
        "        \"time\": 11194,\n",
        "        \"sn\": 29848217,\n",
        "        \"userid\": \"Aka10029\"\n",
        "    },\n",
        "    {\n",
        "        \"text\": \"台配看來有必要重追一下\",\n",
        "        \"color\": \"#FF0026\",\n",
        "        \"size\": 1,\n",
        "        \"position\": 0,\n",
        "        \"time\": 11401,\n",
        "        \"sn\": 29758704,\n",
        "        \"userid\": \"bir54040111\"\n",
        "    },\n",
        "    {\n",
        "        \"text\": \"波加曼\",\n",
        "        \"color\": \"#BEBEBE\",\n",
        "        \"size\": 1,\n",
        "        \"position\": 0,\n",
        "        \"time\": 11684,\n",
        "        \"sn\": 29154577,\n",
        "        \"userid\": \"ksuo3616\"\n",
        "    },\n",
        "    {\n",
        "        \"text\": \"笑死\",\n",
        "        \"color\": \"#FFFFFF\",\n",
        "        \"size\": 2,\n",
        "        \"position\": 0,\n",
        "        \"time\": 12034,\n",
        "        \"sn\": 29313927,\n",
        "        \"userid\": \"lovesid0923\"\n",
        "    },\n",
        "    {\n",
        "        \"text\": \"孩子靜悄悄，必定在作妖ww\",\n",
        "        \"color\": \"#FFFFFF\",\n",
        "        \"size\": 1,\n",
        "        \"position\": 0,\n",
        "        \"time\": 12508,\n",
        "        \"sn\": 29812693,\n",
        "        \"userid\": \"s134587\"\n",
        "    },\n",
        "    {\n",
        "        \"text\": \"上次帶你媽參觀的時候不是進去過一次\",\n",
        "        \"color\": \"#FFFFFF\",\n",
        "        \"size\": 1,\n",
        "        \"position\": 0,\n",
        "        \"time\": 12554,\n",
        "        \"sn\": 29603477,\n",
        "        \"userid\": \"Repliroid\"\n",
        "    },\n",
        "    {\n",
        "        \"text\": \"還有能毒死大象的毒藥\",\n",
        "        \"color\": \"#FFFFFF\",\n",
        "        \"size\": 1,\n",
        "        \"position\": 0,\n",
        "        \"time\": 12665,\n",
        "        \"sn\": 29709747,\n",
        "        \"userid\": \"Inaba1995\"\n",
        "    },\n",
        "    {\n",
        "        \"text\": \"哈哈大人眼中的中二病\",\n",
        "        \"color\": \"#B538FA\",\n",
        "        \"size\": 1,\n",
        "        \"position\": 1,\n",
        "        \"time\": 12975,\n",
        "        \"sn\": 29643073,\n",
        "        \"userid\": \"KUO0708KUO\"\n",
        "    },\n",
        "    {\n",
        "        \"text\": \"每次看到這覺得很好笑www\",\n",
        "        \"color\": \"#FFFFFF\",\n",
        "        \"size\": 1,\n",
        "        \"position\": 1,\n",
        "        \"time\": 13085,\n",
        "        \"sn\": 29148914,\n",
        "        \"userid\": \"e850104\"\n",
        "    },\n",
        "    {\n",
        "        \"text\": \"黃昏臉超紅www為了哄女兒也是豁出去了哈哈\",\n",
        "        \"color\": \"#FFFFFF\",\n",
        "        \"size\": 1,\n",
        "        \"position\": 0,\n",
        "        \"time\": 13088,\n",
        "        \"sn\": 29191075,\n",
        "        \"userid\": \"miki71003911\"\n",
        "    },\n",
        "    {\n",
        "        \"text\": \"好喜歡企鵝的聲線www\",\n",
        "        \"color\": \"#FFFFFF\",\n",
        "        \"size\": 1,\n",
        "        \"position\": 0,\n",
        "        \"time\": 13169,\n",
        "        \"sn\": 29151400,\n",
        "        \"userid\": \"sin214\"\n",
        "    },\n",
        "    {\n",
        "        \"text\": \"黃昏小劇場XD\",\n",
        "        \"color\": \"#FFFFFF\",\n",
        "        \"size\": 1,\n",
        "        \"position\": 0,\n",
        "        \"time\": 13316,\n",
        "        \"sn\": 29532436,\n",
        "        \"userid\": \"sdes3204\"\n",
        "    },\n",
        "    {\n",
        "        \"text\": \"遜\",\n",
        "        \"color\": \"#FDE53D\",\n",
        "        \"size\": 1,\n",
        "        \"position\": 0,\n",
        "        \"time\": 13325,\n",
        "        \"sn\": 29147053,\n",
        "        \"userid\": \"Qaqww223\"\n",
        "    },\n",
        "    {\n",
        "        \"text\": \"你只是想吃糖果吧哈哈\",\n",
        "        \"color\": \"#FFFFFF\",\n",
        "        \"size\": 1,\n",
        "        \"position\": 0,\n",
        "        \"time\": 13365,\n",
        "        \"sn\": 29191086,\n",
        "        \"userid\": \"miki71003911\"\n",
        "    },\n",
        "    {\n",
        "        \"text\": \" 公開處刑XDDD\",\n",
        "        \"color\": \"#FFFFFF\",\n",
        "        \"size\": 1,\n",
        "        \"position\": 0,\n",
        "        \"time\": 13462,\n",
        "        \"sn\": 29812713,\n",
        "        \"userid\": \"s134587\"\n",
        "    },\n",
        "    {\n",
        "        \"text\": \"超羞恥\",\n",
        "        \"color\": \"#FFFFFF\",\n",
        "        \"size\": 1,\n",
        "        \"position\": 0,\n",
        "        \"time\": 13474,\n",
        "        \"sn\": 29191091,\n",
        "        \"userid\": \"miki71003911\"\n",
        "    },\n",
        "    {\n",
        "        \"text\": \"機器人你臉紅了XD\",\n",
        "        \"color\": \"#FFFFFF\",\n",
        "        \"size\": 1,\n",
        "        \"position\": 0,\n",
        "        \"time\": 13490,\n",
        "        \"sn\": 29381296,\n",
        "        \"userid\": \"wxz810\"\n",
        "    },\n",
        "    {\n",
        "        \"text\": \"已追完畢~簽個到8888\",\n",
        "        \"color\": \"#FFFFFF\",\n",
        "        \"size\": 1,\n",
        "        \"position\": 0,\n",
        "        \"time\": 13541,\n",
        "        \"sn\": 29182070,\n",
        "        \"userid\": \"AB123BA321\"\n",
        "    },\n",
        "    {\n",
        "        \"text\": \"只要花生就行也是滿好養的\",\n",
        "        \"color\": \"#FFFFFF\",\n",
        "        \"size\": 1,\n",
        "        \"position\": 0,\n",
        "        \"time\": 13580,\n",
        "        \"sn\": 29603499,\n",
        "        \"userid\": \"Repliroid\"\n",
        "    },\n",
        "    {\n",
        "        \"text\": \"黃昏:間諜不能引人注目\",\n",
        "        \"color\": \"#FFFFFF\",\n",
        "        \"size\": 1,\n",
        "        \"position\": 0,\n",
        "        \"time\": 13647,\n",
        "        \"sn\": 29532445,\n",
        "        \"userid\": \"sdes3204\"\n",
        "    },\n",
        "    {\n",
        "        \"text\": \"2022/9/5 15：32確實追完中/台配\",\n",
        "        \"color\": \"#A7FE39\",\n",
        "        \"size\": 1,\n",
        "        \"position\": 0,\n",
        "        \"time\": 13716,\n",
        "        \"sn\": 29334617,\n",
        "        \"userid\": \"PDCEyt\"\n",
        "    },\n",
        "    {\n",
        "        \"text\": \"等待10月\",\n",
        "        \"color\": \"#FFFFFF\",\n",
        "        \"size\": 1,\n",
        "        \"position\": 0,\n",
        "        \"time\": 13730,\n",
        "        \"sn\": 29191106,\n",
        "        \"userid\": \"miki71003911\"\n",
        "    },\n",
        "    {\n",
        "        \"text\": \"台配感覺更可愛了~期待Part2！\",\n",
        "        \"color\": \"#FFFFFF\",\n",
        "        \"size\": 1,\n",
        "        \"position\": 0,\n",
        "        \"time\": 13746,\n",
        "        \"sn\": 29248490,\n",
        "        \"userid\": \"Bearjiajia\"\n",
        "    },\n",
        "    {\n",
        "        \"text\": \"確定重追台配\",\n",
        "        \"color\": \"#FF0026\",\n",
        "        \"size\": 1,\n",
        "        \"position\": 0,\n",
        "        \"time\": 13752,\n",
        "        \"sn\": 29758733,\n",
        "        \"userid\": \"bir54040111\"\n",
        "    },\n",
        "    {\n",
        "        \"text\": \"2022/8/31\",\n",
        "        \"color\": \"#00C3FC\",\n",
        "        \"size\": 2,\n",
        "        \"position\": 0,\n",
        "        \"time\": 13794,\n",
        "        \"sn\": 29246845,\n",
        "        \"userid\": \"AAOX2048\"\n",
        "    },\n",
        "    {\n",
        "        \"text\": \"真期待後續\",\n",
        "        \"color\": \"#FFFFFF\",\n",
        "        \"size\": 1,\n",
        "        \"position\": 0,\n",
        "        \"time\": 13820,\n",
        "        \"sn\": 29478263,\n",
        "        \"userid\": \"esonic\"\n",
        "    },\n",
        "    {\n",
        "        \"text\": \"期待第二季和中配~~~\",\n",
        "        \"color\": \"#FFFFFF\",\n",
        "        \"size\": 1,\n",
        "        \"position\": 0,\n",
        "        \"time\": 13862,\n",
        "        \"sn\": 29207854,\n",
        "        \"userid\": \"maedazen\"\n",
        "    },\n",
        "    {\n",
        "        \"text\": \"9/19完成，何時有第二季中配！！！\",\n",
        "        \"color\": \"#FFFFFF\",\n",
        "        \"size\": 1,\n",
        "        \"position\": 0,\n",
        "        \"time\": 13878,\n",
        "        \"sn\": 29536121,\n",
        "        \"userid\": \"chiupingyu\"\n",
        "    },\n",
        "    {\n",
        "        \"text\": \"十月見\",\n",
        "        \"color\": \"#FFFFFF\",\n",
        "        \"size\": 1,\n",
        "        \"position\": 0,\n",
        "        \"time\": 13938,\n",
        "        \"sn\": 29162939,\n",
        "        \"userid\": \"BHSN00004lel\"\n",
        "    },\n",
        "    {\n",
        "        \"text\": \"在下半季之前先用中配回味感覺真不錯\",\n",
        "        \"color\": \"#FFFFFF\",\n",
        "        \"size\": 1,\n",
        "        \"position\": 0,\n",
        "        \"time\": 14146,\n",
        "        \"sn\": 29242945,\n",
        "        \"userid\": \"swayoung\"\n",
        "    },\n",
        "    {\n",
        "        \"text\": \"首刷完來槍簽個到，中配也好棒！\",\n",
        "        \"color\": \"#FF9496\",\n",
        "        \"size\": 1,\n",
        "        \"position\": 0,\n",
        "        \"time\": 14428,\n",
        "        \"sn\": 29206396,\n",
        "        \"userid\": \"deleted5260\"\n",
        "    },\n",
        "    {\n",
        "        \"text\": \"二刷收工~撒花~\",\n",
        "        \"color\": \"#FFFFFF\",\n",
        "        \"size\": 1,\n",
        "        \"position\": 0,\n",
        "        \"time\": 14430,\n",
        "        \"sn\": 29151870,\n",
        "        \"userid\": \"gn01136933\"\n",
        "    },\n",
        "    {\n",
        "        \"text\": \"期待第二季!\",\n",
        "        \"color\": \"#FFFFFF\",\n",
        "        \"size\": 1,\n",
        "        \"position\": 0,\n",
        "        \"time\": 14500,\n",
        "        \"sn\": 29213086,\n",
        "        \"userid\": \"P3e7k1k9a8\"\n",
        "    }\n",
        "]"
      ],
      "metadata": {
        "id": "fdS6tU9rJ4A9"
      },
      "execution_count": null,
      "outputs": []
    },
    {
      "cell_type": "code",
      "metadata": {
        "id": "uTEp3T6wxNPD",
        "colab": {
          "base_uri": "https://localhost:8080/"
        },
        "outputId": "5cd7bc87-cff5-4a83-e97d-bfcd23270c11"
      },
      "source": [
        "list2 = []\n",
        "\n",
        "for i in danmu:  # 開list\n",
        "    for k,v in i.items(): # 開dict\n",
        "          if k == 'text':\n",
        "              list2.append(v)\n",
        "\n",
        "list2"
      ],
      "execution_count": null,
      "outputs": [
        {
          "output_type": "execute_result",
          "data": {
            "text/plain": [
              "['頭香！！',\n",
              " '2天看完+1 中配讚讚',\n",
              " '4',\n",
              " '沒人？',\n",
              " '彈幕好少',\n",
              " '彈幕少正常，畢竟大家都看過日文了。',\n",
              " '嗨',\n",
              " '把自己組織的標章這樣亂貼不怕壁r康嗎',\n",
              " '好笑，才要看中配。',\n",
              " 't rr  r r r r r',\n",
              " '怪醫黑傑克的旁白',\n",
              " '航海王的旁白～',\n",
              " '真希望能有多一點人支持中配',\n",
              " '台配讚',\n",
              " '不得不說 這部中配真是夠水準 超讚',\n",
              " '寶寶們很需要中配',\n",
              " '我有開字幕嗎🤔',\n",
              " '回覆白字：有',\n",
              " '認真地說，好興奮真的沒挖庫挖庫有感',\n",
              " '有誰時在今天10/2看的嗎？',\n",
              " '黃昏1人抵多人',\n",
              " '中文沒人看笑死',\n",
              " '抽烟不好',\n",
              " '安妮亞的聲音好熟悉啊~',\n",
              " '有人嗎',\n",
              " '支持',\n",
              " '安妮亞日文配音比較可愛😍',\n",
              " '黃昏爆肝工作中',\n",
              " '爆肝還要被鄰居八卦',\n",
              " ' 整天在那八卦是有比較好嗎',\n",
              " '水島太太',\n",
              " '爆肝還要被精神攻擊',\n",
              " '我想到今天我的每日任務還沒解啊',\n",
              " '要等到10月了',\n",
              " '噗，害我噴飯了!!',\n",
              " '黃昏爺爺',\n",
              " '好像被榨乾三天三夜www',\n",
              " '全家都藍白條紋',\n",
              " '安妮亞棒讀中',\n",
              " '棒讀中',\n",
              " '台配聽起來有點尷尬',\n",
              " '安妮亞的棒讀好棒www',\n",
              " '嘟嘟~ 請搶 請搶',\n",
              " 'nobody',\n",
              " '今天絕不加班!!!絕不!!!',\n",
              " '倒不了這句聽起來異常好笑',\n",
              " 'wwwww',\n",
              " '<===0\\\\/0',\n",
              " '這麼大聲講出來真的沒問題嗎XDD',\n",
              " '講這種事小聲一點啦',\n",
              " '水築館wwwww',\n",
              " '這是強制劇情',\n",
              " '強制加班ＸＤＤ',\n",
              " '好好笑笑死哈哈哈哈哈哈哈哈哈哈',\n",
              " '直接無視啊喂',\n",
              " '一定要加班就是了(´◑∀◐｀)',\n",
              " '請給我咖啡跟果汁！！！',\n",
              " '直接無視掉',\n",
              " '群眾的耳朵怎麼了？',\n",
              " '鯊嘎娜～',\n",
              " '第一次來水族館的我',\n",
              " '被強迫加班的黃昏好慘',\n",
              " '跟來的',\n",
              " '這是小丸子吧',\n",
              " '企鵝: 到底關我P事',\n",
              " '好可愛(///▽///)',\n",
              " '老皮xDDD',\n",
              " '還自帶翻譯功能?',\n",
              " '老皮 笑死',\n",
              " '呸',\n",
              " '宿醉 (X',\n",
              " '中配其實還不錯，不過真的感覺有點尬....',\n",
              " '柯南：我去一下廁所',\n",
              " '並沒有',\n",
              " 'grughurghyughtrduyh gh guhfdshnhueyiuyui',\n",
              " '企鵝：幹',\n",
              " '超强記憶',\n",
              " '這記憶力根本超鬼',\n",
              " '克金玩家',\n",
              " '企鵝暴動中',\n",
              " '超強的記憶力XD',\n",
              " 'E=mc²',\n",
              " '這是替身攻擊',\n",
              " '就可以使出替身攻擊',\n",
              " '這隻企鵝似乎生病了，不如...',\n",
              " '企鵝肉？！！',\n",
              " '啊啊啊啊啊',\n",
              " '帽子上的符號真的是可以的嗎？XD',\n",
              " '一臉壞人樣',\n",
              " '有杏仁味',\n",
              " '企鵝：嘎嘎啊啊（？？',\n",
              " '<====好可愛',\n",
              " '鳴人是你？',\n",
              " '利用老媽 可以阿~',\n",
              " '被迫上吊www',\n",
              " '遇上約兒的壞人好慘',\n",
              " '四顆牙齒',\n",
              " '~名場面~',\n",
              " 'WOW',\n",
              " '安妮亞：哇嗚~',\n",
              " 'wow',\n",
              " 'Wow~',\n",
              " 'wow',\n",
              " 'WOW',\n",
              " 'wow~',\n",
              " '哇嗚~',\n",
              " 'wow',\n",
              " '哇嗚~~',\n",
              " 'wow',\n",
              " 'wow',\n",
              " '這Wow是怎樣...',\n",
              " '比對了一下兩版的wow 都很精隨wwwww',\n",
              " '外遇對象是工作',\n",
              " '兩個天龍國八婆',\n",
              " '地方媽媽戀愛了',\n",
              " '這幕真的好溫馨',\n",
              " '快喝桂格養氣人蔘雞精(？',\n",
              " '嫁了（？',\n",
              " 'h03',\n",
              " '台配看來有必要重追一下',\n",
              " '波加曼',\n",
              " '笑死',\n",
              " '孩子靜悄悄，必定在作妖ww',\n",
              " '上次帶你媽參觀的時候不是進去過一次',\n",
              " '還有能毒死大象的毒藥',\n",
              " '哈哈大人眼中的中二病',\n",
              " '每次看到這覺得很好笑www',\n",
              " '黃昏臉超紅www為了哄女兒也是豁出去了哈哈',\n",
              " '好喜歡企鵝的聲線www',\n",
              " '黃昏小劇場XD',\n",
              " '遜',\n",
              " '你只是想吃糖果吧哈哈',\n",
              " ' 公開處刑XDDD',\n",
              " '超羞恥',\n",
              " '機器人你臉紅了XD',\n",
              " '已追完畢~簽個到8888',\n",
              " '只要花生就行也是滿好養的',\n",
              " '黃昏:間諜不能引人注目',\n",
              " '2022/9/5 15：32確實追完中/台配',\n",
              " '等待10月',\n",
              " '台配感覺更可愛了~期待Part2！',\n",
              " '確定重追台配',\n",
              " '2022/8/31',\n",
              " '真期待後續',\n",
              " '期待第二季和中配~~~',\n",
              " '9/19完成，何時有第二季中配！！！',\n",
              " '十月見',\n",
              " '在下半季之前先用中配回味感覺真不錯',\n",
              " '首刷完來槍簽個到，中配也好棒！',\n",
              " '二刷收工~撒花~',\n",
              " '期待第二季!']"
            ]
          },
          "metadata": {},
          "execution_count": 156
        }
      ]
    },
    {
      "cell_type": "code",
      "metadata": {
        "id": "gblAeVT4DE57"
      },
      "source": [
        "# Your code here\n",
        "\n",
        "[ ? for ? in ? for ?,? in ? if ?=='text']"
      ],
      "execution_count": null,
      "outputs": []
    },
    {
      "cell_type": "markdown",
      "metadata": {
        "id": "758vCJ0FKtv2"
      },
      "source": [
        "## 字典推導式"
      ]
    },
    {
      "cell_type": "code",
      "metadata": {
        "id": "jkT4ViBnAxPe"
      },
      "source": [
        "import jieba\n",
        "\n",
        "text = \"\"\"挑戰 iThome 鐵人賽\n",
        "喚醒心中最強大的鐵人\n",
        "iThome 鐵人賽已經是 IT 圈的年度盛事，也是推動台灣 IT 技術向上成長的重要力量！無數的技術人報名鐵人賽「連續 30 天發表技術文章不中斷」爆發驚人的技術能量，寫出一整年的成長與學習。\n",
        "鐵人們在 iThome 鐵人賽中寫下的成果受到業界肯定，博碩文化與 iThome 合作，第 12 屆的得獎作品正在陸續出版，而 2021 年第 13 屆 iThome 鐵人賽的得獎者，依然有機會將作品出版成書。\n",
        "挑戰 iThome 鐵人賽不容易的事，在 30 天的挑戰中，挑戰者每一天都必須努力趕在晚上 12 點之前克服萬難，按下【送出】鍵。這麼艱鉅的挑戰，許多人懷疑自己是否能做到？挑戰的第一步，就是不要低估自己。許多鐵人們回想參賽以來最大的收獲，往往就是「原來我做得到」。\n",
        "成功挑戰 iThome 鐵人賽是 IT 人技術生涯上耀眼的成績，越來越多企業將 iThome 鐵人賽的成績作為徵才的重要參考。優秀的 IT 人們，不用高估世界，也不用低估自己，今年就和眾多 IT 人一起喚醒心中最強大的鐵人！\"\"\"\n",
        "\n",
        "wordlist = jieba.cut(text,cut_all=False)\n",
        "wordlist = [ seg for seg in wordlist ]\n",
        "\n",
        "wordlist"
      ],
      "execution_count": null,
      "outputs": []
    },
    {
      "cell_type": "code",
      "metadata": {
        "id": "ODmAGHJbK9s-"
      },
      "source": [
        "word_dict = { w : wordlist.count(w) for w in wordlist}"
      ],
      "execution_count": null,
      "outputs": []
    },
    {
      "cell_type": "code",
      "metadata": {
        "id": "4xwhsRcCD_UN"
      },
      "source": [
        "word_dict"
      ],
      "execution_count": null,
      "outputs": []
    },
    {
      "cell_type": "code",
      "metadata": {
        "id": "SG3uWgUSLKyl"
      },
      "source": [
        "# 如果要依據出現頻率排序，在尚未教到lambda時，先參考https://ithelp.ithome.com.tw/articles/10222946\n",
        "sorted(word_dict.items(), key=lambda x:x[1], reverse=True)"
      ],
      "execution_count": null,
      "outputs": []
    },
    {
      "cell_type": "markdown",
      "metadata": {
        "id": "5isngi2t9aDh"
      },
      "source": [
        "## [Do it] HW3 : 九九乘法表"
      ]
    },
    {
      "cell_type": "markdown",
      "metadata": {
        "id": "qSXqwdE69zIP"
      },
      "source": [
        "- 試輸出以下樣式\n",
        "```\n",
        "2*1=02 2*2=04 2*3=06 2*4=08 2*5=10 2*6=12 2*7=14 2*8=16 2*9=18\n",
        "3*1=03 3*2=06 3*3=09 3*4=12 3*5=15 3*6=18 3*7=21 3*8=24 3*9=27\n",
        "4*1=04 4*2=08 4*3=12 4*4=16 4*5=20 4*6=24 4*7=28 4*8=32 4*9=36\n",
        "5*1=05 5*2=10 5*3=15 5*4=20 5*5=25 5*6=30 5*7=35 5*8=40 5*9=45\n",
        "6*1=06 6*2=12 6*3=18 6*4=24 6*5=30 6*6=36 6*7=42 6*8=48 6*9=54\n",
        "7*1=07 7*2=14 7*3=21 7*4=28 7*5=35 7*6=42 7*7=49 7*8=56 7*9=63\n",
        "8*1=08 8*2=16 8*3=24 8*4=32 8*5=40 8*6=48 8*7=56 8*8=64 8*9=72\n",
        "9*1=09 9*2=18 9*3=27 9*4=36 9*5=45 9*6=54 9*7=63 9*8=72 9*9=81\n",
        "```"
      ]
    },
    {
      "cell_type": "code",
      "metadata": {
        "id": "DD0KBYRJ0m18"
      },
      "source": [
        "?print"
      ],
      "execution_count": null,
      "outputs": []
    },
    {
      "cell_type": "code",
      "source": [
        "# Your Code Here:\n",
        "\n",
        "\n"
      ],
      "metadata": {
        "id": "WpcKmGa3b8hH"
      },
      "execution_count": null,
      "outputs": []
    }
  ]
}
