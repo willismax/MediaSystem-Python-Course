{
  "cells": [
    {
      "cell_type": "markdown",
      "metadata": {
        "id": "view-in-github",
        "colab_type": "text"
      },
      "source": [
        "<a href=\"https://colab.research.google.com/github/willismax/MediaSystem-Python-Course/blob/main/09.Apps/QRCode.ipynb\" target=\"_parent\"><img src=\"https://colab.research.google.com/assets/colab-badge.svg\" alt=\"Open In Colab\"/></a>"
      ]
    },
    {
      "cell_type": "markdown",
      "source": [
        "# QRCode 產生器\n",
        "- 以下為 Python 程式，您只需要登入 Google 帳號即可使用\n",
        "- 若您需要留存此筆記本，請複製到雲端硬碟\n",
        "- 檔案製作完請在左側資料欄下載，該檔案 Colab 關閉後即消失喔"
      ],
      "metadata": {
        "id": "nTnP3h-lf9YW"
      }
    },
    {
      "cell_type": "code",
      "execution_count": null,
      "metadata": {
        "id": "hp-U8QMhTd2O",
        "cellView": "form"
      },
      "outputs": [],
      "source": [
        "#@title 0. 輸入 URL 連結或文字\n",
        "url = 'https://willismax.github.io/my-site/' #@param {type:\"string\"}"
      ]
    },
    {
      "cell_type": "code",
      "source": [
        "#@title 1. (選用)上傳圖片(JPG, PNG, BMP, GIF)\n",
        "from google.colab import files\n",
        "picture = files.upload()\n",
        "pic = [ k for k,v in picture.items()][0]\n",
        "# https://drive.google.com/file/d/11C1lG26NR0xIzxKCak6VGGxb3G_1pf6P/view?usp=sharing"
      ],
      "metadata": {
        "id": "1nxfS5FXxjcB",
        "cellView": "form",
        "colab": {
          "base_uri": "https://localhost:8080/",
          "height": 76
        },
        "outputId": "92400bad-56c1-4011-9fe8-231efb7f5f56"
      },
      "execution_count": null,
      "outputs": [
        {
          "output_type": "display_data",
          "data": {
            "text/plain": [
              "<IPython.core.display.HTML object>"
            ],
            "text/html": [
              "\n",
              "     <input type=\"file\" id=\"files-6562d6f7-4193-4de5-826e-a61c457c5885\" name=\"files[]\" multiple disabled\n",
              "        style=\"border:none\" />\n",
              "     <output id=\"result-6562d6f7-4193-4de5-826e-a61c457c5885\">\n",
              "      Upload widget is only available when the cell has been executed in the\n",
              "      current browser session. Please rerun this cell to enable.\n",
              "      </output>\n",
              "      <script>// Copyright 2017 Google LLC\n",
              "//\n",
              "// Licensed under the Apache License, Version 2.0 (the \"License\");\n",
              "// you may not use this file except in compliance with the License.\n",
              "// You may obtain a copy of the License at\n",
              "//\n",
              "//      http://www.apache.org/licenses/LICENSE-2.0\n",
              "//\n",
              "// Unless required by applicable law or agreed to in writing, software\n",
              "// distributed under the License is distributed on an \"AS IS\" BASIS,\n",
              "// WITHOUT WARRANTIES OR CONDITIONS OF ANY KIND, either express or implied.\n",
              "// See the License for the specific language governing permissions and\n",
              "// limitations under the License.\n",
              "\n",
              "/**\n",
              " * @fileoverview Helpers for google.colab Python module.\n",
              " */\n",
              "(function(scope) {\n",
              "function span(text, styleAttributes = {}) {\n",
              "  const element = document.createElement('span');\n",
              "  element.textContent = text;\n",
              "  for (const key of Object.keys(styleAttributes)) {\n",
              "    element.style[key] = styleAttributes[key];\n",
              "  }\n",
              "  return element;\n",
              "}\n",
              "\n",
              "// Max number of bytes which will be uploaded at a time.\n",
              "const MAX_PAYLOAD_SIZE = 100 * 1024;\n",
              "\n",
              "function _uploadFiles(inputId, outputId) {\n",
              "  const steps = uploadFilesStep(inputId, outputId);\n",
              "  const outputElement = document.getElementById(outputId);\n",
              "  // Cache steps on the outputElement to make it available for the next call\n",
              "  // to uploadFilesContinue from Python.\n",
              "  outputElement.steps = steps;\n",
              "\n",
              "  return _uploadFilesContinue(outputId);\n",
              "}\n",
              "\n",
              "// This is roughly an async generator (not supported in the browser yet),\n",
              "// where there are multiple asynchronous steps and the Python side is going\n",
              "// to poll for completion of each step.\n",
              "// This uses a Promise to block the python side on completion of each step,\n",
              "// then passes the result of the previous step as the input to the next step.\n",
              "function _uploadFilesContinue(outputId) {\n",
              "  const outputElement = document.getElementById(outputId);\n",
              "  const steps = outputElement.steps;\n",
              "\n",
              "  const next = steps.next(outputElement.lastPromiseValue);\n",
              "  return Promise.resolve(next.value.promise).then((value) => {\n",
              "    // Cache the last promise value to make it available to the next\n",
              "    // step of the generator.\n",
              "    outputElement.lastPromiseValue = value;\n",
              "    return next.value.response;\n",
              "  });\n",
              "}\n",
              "\n",
              "/**\n",
              " * Generator function which is called between each async step of the upload\n",
              " * process.\n",
              " * @param {string} inputId Element ID of the input file picker element.\n",
              " * @param {string} outputId Element ID of the output display.\n",
              " * @return {!Iterable<!Object>} Iterable of next steps.\n",
              " */\n",
              "function* uploadFilesStep(inputId, outputId) {\n",
              "  const inputElement = document.getElementById(inputId);\n",
              "  inputElement.disabled = false;\n",
              "\n",
              "  const outputElement = document.getElementById(outputId);\n",
              "  outputElement.innerHTML = '';\n",
              "\n",
              "  const pickedPromise = new Promise((resolve) => {\n",
              "    inputElement.addEventListener('change', (e) => {\n",
              "      resolve(e.target.files);\n",
              "    });\n",
              "  });\n",
              "\n",
              "  const cancel = document.createElement('button');\n",
              "  inputElement.parentElement.appendChild(cancel);\n",
              "  cancel.textContent = 'Cancel upload';\n",
              "  const cancelPromise = new Promise((resolve) => {\n",
              "    cancel.onclick = () => {\n",
              "      resolve(null);\n",
              "    };\n",
              "  });\n",
              "\n",
              "  // Wait for the user to pick the files.\n",
              "  const files = yield {\n",
              "    promise: Promise.race([pickedPromise, cancelPromise]),\n",
              "    response: {\n",
              "      action: 'starting',\n",
              "    }\n",
              "  };\n",
              "\n",
              "  cancel.remove();\n",
              "\n",
              "  // Disable the input element since further picks are not allowed.\n",
              "  inputElement.disabled = true;\n",
              "\n",
              "  if (!files) {\n",
              "    return {\n",
              "      response: {\n",
              "        action: 'complete',\n",
              "      }\n",
              "    };\n",
              "  }\n",
              "\n",
              "  for (const file of files) {\n",
              "    const li = document.createElement('li');\n",
              "    li.append(span(file.name, {fontWeight: 'bold'}));\n",
              "    li.append(span(\n",
              "        `(${file.type || 'n/a'}) - ${file.size} bytes, ` +\n",
              "        `last modified: ${\n",
              "            file.lastModifiedDate ? file.lastModifiedDate.toLocaleDateString() :\n",
              "                                    'n/a'} - `));\n",
              "    const percent = span('0% done');\n",
              "    li.appendChild(percent);\n",
              "\n",
              "    outputElement.appendChild(li);\n",
              "\n",
              "    const fileDataPromise = new Promise((resolve) => {\n",
              "      const reader = new FileReader();\n",
              "      reader.onload = (e) => {\n",
              "        resolve(e.target.result);\n",
              "      };\n",
              "      reader.readAsArrayBuffer(file);\n",
              "    });\n",
              "    // Wait for the data to be ready.\n",
              "    let fileData = yield {\n",
              "      promise: fileDataPromise,\n",
              "      response: {\n",
              "        action: 'continue',\n",
              "      }\n",
              "    };\n",
              "\n",
              "    // Use a chunked sending to avoid message size limits. See b/62115660.\n",
              "    let position = 0;\n",
              "    do {\n",
              "      const length = Math.min(fileData.byteLength - position, MAX_PAYLOAD_SIZE);\n",
              "      const chunk = new Uint8Array(fileData, position, length);\n",
              "      position += length;\n",
              "\n",
              "      const base64 = btoa(String.fromCharCode.apply(null, chunk));\n",
              "      yield {\n",
              "        response: {\n",
              "          action: 'append',\n",
              "          file: file.name,\n",
              "          data: base64,\n",
              "        },\n",
              "      };\n",
              "\n",
              "      let percentDone = fileData.byteLength === 0 ?\n",
              "          100 :\n",
              "          Math.round((position / fileData.byteLength) * 100);\n",
              "      percent.textContent = `${percentDone}% done`;\n",
              "\n",
              "    } while (position < fileData.byteLength);\n",
              "  }\n",
              "\n",
              "  // All done.\n",
              "  yield {\n",
              "    response: {\n",
              "      action: 'complete',\n",
              "    }\n",
              "  };\n",
              "}\n",
              "\n",
              "scope.google = scope.google || {};\n",
              "scope.google.colab = scope.google.colab || {};\n",
              "scope.google.colab._files = {\n",
              "  _uploadFiles,\n",
              "  _uploadFilesContinue,\n",
              "};\n",
              "})(self);\n",
              "</script> "
            ]
          },
          "metadata": {}
        },
        {
          "output_type": "stream",
          "name": "stdout",
          "text": [
            "Saving 1.png to 1 (1).png\n"
          ]
        }
      ]
    },
    {
      "cell_type": "code",
      "source": [
        "#@title 2-1. 製作單純無背景的 QR Code\n",
        "try:\n",
        "    from MyQR import myqr\n",
        "except:\n",
        "    !pip install -qU MyQr\n",
        "    from MyQR import myqr\n",
        "\n",
        "myqr.run( words = url, level = 'L', colorized = False, save_name = './純黑白qrcode.jpg' )"
      ],
      "metadata": {
        "id": "3fPbn6ie2Sc5",
        "cellView": "form",
        "colab": {
          "base_uri": "https://localhost:8080/"
        },
        "outputId": "bb344a03-f039-41d3-8d57-a1cfa7d35274"
      },
      "execution_count": null,
      "outputs": [
        {
          "output_type": "stream",
          "name": "stdout",
          "text": [
            "  Preparing metadata (setup.py) ... \u001b[?25l\u001b[?25hdone\n",
            "  Building wheel for MyQr (setup.py) ... \u001b[?25l\u001b[?25hdone\n",
            "line 16: mode: byte\n"
          ]
        },
        {
          "output_type": "execute_result",
          "data": {
            "text/plain": [
              "(3, 'L', '/content/./純黑白qrcode.jpg')"
            ]
          },
          "metadata": {},
          "execution_count": 2
        }
      ]
    },
    {
      "cell_type": "markdown",
      "source": [
        "---\n"
      ],
      "metadata": {
        "id": "wAFzUpllNKlC"
      }
    },
    {
      "cell_type": "markdown",
      "metadata": {
        "id": "psXI5oUPWETu"
      },
      "source": [
        "### 製作有背景的 QR Code\n",
        "- 將生成彩色、黑白 QRCode 各1張\n",
        "- 如果底圖是 GIF 檔，底圖會動起來\n",
        "\n"
      ]
    },
    {
      "cell_type": "markdown",
      "source": [
        "> GIF 梗圖可至 [Tensor](https://tenor.com/zh-TW/) 尋找"
      ],
      "metadata": {
        "id": "jrvaHvD467zL"
      }
    },
    {
      "cell_type": "code",
      "execution_count": null,
      "metadata": {
        "id": "ICwXgoATTGLg",
        "cellView": "form",
        "colab": {
          "base_uri": "https://localhost:8080/"
        },
        "outputId": "f8ddb14b-056b-4786-e011-16fccc105b25"
      },
      "outputs": [
        {
          "output_type": "stream",
          "name": "stdout",
          "text": [
            "line 16: mode: byte\n"
          ]
        }
      ],
      "source": [
        "#安裝 MyQR 模組\n",
        "try:\n",
        "    from MyQR import myqr\n",
        "except:\n",
        "    !pip install -qU MyQr\n",
        "    from MyQR import myqr\n",
        "\n",
        "\n",
        "#@title 2-2. 製作 QR Code (黑白底圖)\n",
        "\n",
        "\n",
        "# 黑白圖片的QR Code\n",
        "try:\n",
        "  myqr.run(\n",
        "    words = url,\n",
        "    picture = pic,\n",
        "    version = 20, # QR Code的邊長，越大圖案越清楚\n",
        "    level = 'H', # 糾錯水平，預設是H(最高)\n",
        "    colorized = False, # 背景圖片是否用彩色，預設是False(黑白)\n",
        "    save_name = './qrcode-wb.png' # 儲存檔案名稱\n",
        "    )\n",
        "except:\n",
        "  myqr.run(\n",
        "    words = url,\n",
        "    picture = pic,\n",
        "    version = 20, # QR Code的邊長，越大圖案越清楚\n",
        "    level = 'H', # 糾錯水平，預設是H(最高)\n",
        "    colorized = False, # 背景圖片是否用彩色，預設是False(黑白)\n",
        "    save_name = './qrcode-wb.gif' # 儲存檔案名稱\n",
        "    )\n",
        "\n"
      ]
    },
    {
      "cell_type": "code",
      "source": [
        "#安裝 MyQR 模組\n",
        "try:\n",
        "    from MyQR import myqr\n",
        "except:\n",
        "    !pip install -qU MyQr\n",
        "    from MyQR import myqr\n",
        "\n",
        "#@title 2-3. 製作 QR Code (彩色底圖)\n",
        "\n",
        "# 2-3. 彩色圖片的QR Code\n",
        "try:\n",
        "  myqr.run(\n",
        "    words = url,\n",
        "    picture = pic,\n",
        "    version = 10,\n",
        "    level = 'H',\n",
        "    colorized = True, # 背景圖片是否用彩色，True為彩色\n",
        "    save_name = './qrcode-color.png'\n",
        "    )\n",
        "except:\n",
        "  myqr.run(\n",
        "    words = url,\n",
        "    picture = pic,\n",
        "    version = 10, # QR Code的邊長，越大圖案越清楚\n",
        "    level = 'H', # 糾錯水平，預設是H(最高)\n",
        "    colorized = True, # 背景圖片是否用彩色，預設是False(黑白)\n",
        "    save_name = './qrcode-color.gif' # 儲存檔案名稱\n",
        "    )"
      ],
      "metadata": {
        "colab": {
          "base_uri": "https://localhost:8080/"
        },
        "id": "G3TeW7FUyIzi",
        "outputId": "ea102a14-416c-4009-a659-61b99fa0d463",
        "cellView": "form"
      },
      "execution_count": null,
      "outputs": [
        {
          "output_type": "stream",
          "name": "stdout",
          "text": [
            "line 16: mode: byte\n"
          ]
        }
      ]
    },
    {
      "cell_type": "markdown",
      "source": [
        "## 下載QRCode\n",
        "- 點選介面左邊的資料夾，點兩下可以顯示檔案，右鍵可以下載檔案"
      ],
      "metadata": {
        "id": "-mXpHd-q0NzK"
      }
    }
  ],
  "metadata": {
    "colab": {
      "provenance": [],
      "include_colab_link": true
    },
    "kernelspec": {
      "display_name": "Python 3",
      "name": "python3"
    },
    "language_info": {
      "name": "python"
    }
  },
  "nbformat": 4,
  "nbformat_minor": 0
}