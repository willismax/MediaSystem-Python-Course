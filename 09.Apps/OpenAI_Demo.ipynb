{
  "nbformat": 4,
  "nbformat_minor": 0,
  "metadata": {
    "colab": {
      "provenance": [],
      "authorship_tag": "ABX9TyP8YHsXm/LXb7GqTlfI8ihT",
      "include_colab_link": true
    },
    "kernelspec": {
      "name": "python3",
      "display_name": "Python 3"
    },
    "language_info": {
      "name": "python"
    }
  },
  "cells": [
    {
      "cell_type": "markdown",
      "metadata": {
        "id": "view-in-github",
        "colab_type": "text"
      },
      "source": [
        "<a href=\"https://colab.research.google.com/github/willismax/MediaSystem-Python-Course/blob/main/09.Apps/OpenAI_Demo.ipynb\" target=\"_parent\"><img src=\"https://colab.research.google.com/assets/colab-badge.svg\" alt=\"Open In Colab\"/></a>"
      ]
    },
    {
      "cell_type": "markdown",
      "source": [
        "# OpenAI API\n",
        "- https://openai.com/api/\n",
        "- https://platform.openai.com/docs/introduction\n",
        "- https://github.com/openai/openai-python\n",
        "- https://platform.openai.com/docs/api-reference/completions/create?lang=python\n",
        "- https://beta.openai.com/account/usage"
      ],
      "metadata": {
        "id": "AAn5sebh_UmT"
      }
    },
    {
      "cell_type": "code",
      "source": [
        "!pip install -q openai"
      ],
      "metadata": {
        "id": "9zL3Crlz7-b5"
      },
      "execution_count": null,
      "outputs": []
    },
    {
      "cell_type": "markdown",
      "source": [
        "- OPENAI_API_KEY 加入 Clobe 環境變數後可用(上課時老師會提供一組練習用)"
      ],
      "metadata": {
        "id": "a_U2KT7GDnlY"
      }
    },
    {
      "cell_type": "code",
      "source": [
        "# 將 OPENAI_API_KEY 加入 Clobe 環境變數後可用\n",
        "from google.colab import userdata\n",
        "OPENAI_API_KEY = userdata.get('OPENAI_API_KEY')"
      ],
      "metadata": {
        "id": "55Hi9ahjgnlO"
      },
      "execution_count": null,
      "outputs": []
    },
    {
      "cell_type": "code",
      "source": [
        "#@title 使用測試-目前API\n",
        "import os\n",
        "from openai import OpenAI\n",
        "client = OpenAI(api_key=OPENAI_API_KEY)\n",
        "\n",
        "system_content = \"你是一個AI助教，會用蘇格拉底教學法代替老師初步回應，如果有需要會提醒學生跟老師確認\" #@param\n",
        "user_content = \"如何用python抓取api資料?\" #@param\n",
        "\n",
        "chat_completion = client.chat.completions.create(\n",
        "    model=\"gpt-3.5-turbo\",\n",
        "    messages=[\n",
        "    {\"role\": \"system\", \"content\": system_content},\n",
        "    {\"role\": \"user\", \"content\": user_content}\n",
        "  ]\n",
        ")"
      ],
      "metadata": {
        "id": "p-4t8fP-yixR"
      },
      "execution_count": null,
      "outputs": []
    },
    {
      "cell_type": "code",
      "source": [
        "chat_completion"
      ],
      "metadata": {
        "id": "Mb5I4bsw0V6j",
        "colab": {
          "base_uri": "https://localhost:8080/"
        },
        "outputId": "c530e76b-286c-47d1-eca2-f15adc10009c"
      },
      "execution_count": null,
      "outputs": [
        {
          "output_type": "execute_result",
          "data": {
            "text/plain": [
              "ChatCompletion(id='chatcmpl-8b6oO2LTApIXOPHjoK03pHY3hjR8S', choices=[Choice(finish_reason='stop', index=0, logprobs=None, message=ChatCompletionMessage(content='嗨！很高興看到你對使用Python抓取API資料有興趣。我可以提供一些基本的指導，但請確認你的問題具體指的是哪方面的API資料，因為不同的API服務可能有不同的使用方法。\\n\\n首先，你需要使用Python來發送HTTP請求以取得API的回應。你可以使用Python的內建模組 - `requests` 來執行這些操作。你可以透過以下步驟來開始：\\n\\n1. 安裝requests模組：你可以使用`pip`工具在終端機中執行以下指令：`pip install requests` （如果你已經安裝了Anaconda，則這個模組可能已經預先安裝了）。\\n\\n2. 導入requests模組：在你的Python腳本中，請確認你匯入了requests模組，以便使用它的功能。可以使用以下語句：`import requests`。\\n\\n3. 發送HTTP請求：使用requests模組的 `get()` 函數或 `post()` 函數來發送GET或POST請求。例如，如果你想發送一個GET請求獲取API的回應，請使用以下語句：`response = requests.get(url)`，其中 `url` 是API的網址。\\n\\n4. 處理回應：一旦你收到API的回應，你可以使用response的方法，如 `status_code` 和 `json()` 來檢查回應狀態並處理回應數據。例如，你可以使用以下語句檢查回應的狀態碼：`print(response.status_code)`。\\n\\n這是一個簡單的範例來幫助你開始：\\n\\n```python\\nimport requests\\n\\ndef fetch_data_from_api(url):\\n    response = requests.get(url)\\n    if response.status_code == 200:\\n        data = response.json()\\n        # 在此處處理API回應的資料\\n    else:\\n        print(\"無法取得API資料，請確認URL是否正確\")\\n\\nfetch_data_from_api(\\'https://api.example.com/data\\')\\n```\\n\\n記得在使用`fetch_data_from_api`函數之前，將URL修改為你要抓取的API的URL。\\n\\n上述只是一個簡單的示例，根據你具體使用的API和所需的資料處理邏輯，你可能需要進行更多的操作。\\n\\n請記得向你的老師查證以確保你按照他們的要求進行操作。希望這對你有所幫助！如果你需要更多幫助，請隨時問我。', role='assistant', function_call=None, tool_calls=None))], created=1703855012, model='gpt-3.5-turbo-0613', object='chat.completion', system_fingerprint=None, usage=CompletionUsage(completion_tokens=784, prompt_tokens=83, total_tokens=867))"
            ]
          },
          "metadata": {},
          "execution_count": 16
        }
      ]
    },
    {
      "cell_type": "code",
      "source": [
        "print(chat_completion.choices[0].message.content)"
      ],
      "metadata": {
        "id": "_CH0DxeH0jWA",
        "colab": {
          "base_uri": "https://localhost:8080/"
        },
        "outputId": "0d667801-cb00-4d7b-8bb5-26210480d2e8"
      },
      "execution_count": null,
      "outputs": [
        {
          "output_type": "stream",
          "name": "stdout",
          "text": [
            "嗨！很高興看到你對使用Python抓取API資料有興趣。我可以提供一些基本的指導，但請確認你的問題具體指的是哪方面的API資料，因為不同的API服務可能有不同的使用方法。\n",
            "\n",
            "首先，你需要使用Python來發送HTTP請求以取得API的回應。你可以使用Python的內建模組 - `requests` 來執行這些操作。你可以透過以下步驟來開始：\n",
            "\n",
            "1. 安裝requests模組：你可以使用`pip`工具在終端機中執行以下指令：`pip install requests` （如果你已經安裝了Anaconda，則這個模組可能已經預先安裝了）。\n",
            "\n",
            "2. 導入requests模組：在你的Python腳本中，請確認你匯入了requests模組，以便使用它的功能。可以使用以下語句：`import requests`。\n",
            "\n",
            "3. 發送HTTP請求：使用requests模組的 `get()` 函數或 `post()` 函數來發送GET或POST請求。例如，如果你想發送一個GET請求獲取API的回應，請使用以下語句：`response = requests.get(url)`，其中 `url` 是API的網址。\n",
            "\n",
            "4. 處理回應：一旦你收到API的回應，你可以使用response的方法，如 `status_code` 和 `json()` 來檢查回應狀態並處理回應數據。例如，你可以使用以下語句檢查回應的狀態碼：`print(response.status_code)`。\n",
            "\n",
            "這是一個簡單的範例來幫助你開始：\n",
            "\n",
            "```python\n",
            "import requests\n",
            "\n",
            "def fetch_data_from_api(url):\n",
            "    response = requests.get(url)\n",
            "    if response.status_code == 200:\n",
            "        data = response.json()\n",
            "        # 在此處處理API回應的資料\n",
            "    else:\n",
            "        print(\"無法取得API資料，請確認URL是否正確\")\n",
            "\n",
            "fetch_data_from_api('https://api.example.com/data')\n",
            "```\n",
            "\n",
            "記得在使用`fetch_data_from_api`函數之前，將URL修改為你要抓取的API的URL。\n",
            "\n",
            "上述只是一個簡單的示例，根據你具體使用的API和所需的資料處理邏輯，你可能需要進行更多的操作。\n",
            "\n",
            "請記得向你的老師查證以確保你按照他們的要求進行操作。希望這對你有所幫助！如果你需要更多幫助，請隨時問我。\n"
          ]
        }
      ]
    },
    {
      "cell_type": "markdown",
      "source": [
        "## Dell.E 繪圖"
      ],
      "metadata": {
        "id": "uSjy3tL2TImu"
      }
    },
    {
      "cell_type": "code",
      "source": [
        "from openai import OpenAI\n",
        "client = OpenAI(api_key=OPENAI_API_KEY)\n",
        "\n",
        "response = client.images.generate(\n",
        "  model=\"dall-e-3\",\n",
        "  prompt=\"a white siamese cat\",\n",
        "  size=\"1024x1024\",\n",
        "  quality=\"standard\",\n",
        "  n=1,\n",
        ")\n",
        "\n",
        "image_url = response.data[0].url"
      ],
      "metadata": {
        "id": "EAOl_j-5-oPb"
      },
      "execution_count": null,
      "outputs": []
    },
    {
      "cell_type": "code",
      "source": [
        "response"
      ],
      "metadata": {
        "id": "Bnx4AcDy2XTT"
      },
      "execution_count": null,
      "outputs": []
    },
    {
      "cell_type": "code",
      "source": [
        "response.data[0].revised_prompt, response.data[0].url"
      ],
      "metadata": {
        "id": "QTSqc7dgiNsk"
      },
      "execution_count": null,
      "outputs": []
    },
    {
      "cell_type": "markdown",
      "source": [
        "## Gradio"
      ],
      "metadata": {
        "id": "H6qeDIkOVUeW"
      }
    },
    {
      "cell_type": "code",
      "source": [
        "!pip install -U pip"
      ],
      "metadata": {
        "id": "czo1hCOMvJRM"
      },
      "execution_count": null,
      "outputs": []
    },
    {
      "cell_type": "code",
      "source": [
        "# https://github.com/gradio-app/gradio/issues/6090\n",
        "!pip install fastapi==0.104.1 typing_extensions==4.8.0 gradio==3.41.0"
      ],
      "metadata": {
        "colab": {
          "base_uri": "https://localhost:8080/"
        },
        "id": "WpejKhXTwgqy",
        "outputId": "b2d0ad8a-8270-472c-9665-bf4a4603fa79"
      },
      "execution_count": null,
      "outputs": [
        {
          "output_type": "stream",
          "name": "stdout",
          "text": [
            "\u001b[33mWARNING: Running pip as the 'root' user can result in broken permissions and conflicting behaviour with the system package manager. It is recommended to use a virtual environment instead: https://pip.pypa.io/warnings/venv\u001b[0m\u001b[33m\n",
            "\u001b[0m"
          ]
        }
      ]
    },
    {
      "cell_type": "code",
      "source": [
        "import gradio as gr\n",
        "\n",
        "def greet(name, intensity):\n",
        "    return \"Hello \" * intensity + name + \"!\"\n",
        "\n",
        "demo = gr.Interface(\n",
        "    fn=greet,\n",
        "    inputs=[\"text\", \"slider\"],\n",
        "    outputs=[\"text\"],\n",
        ")\n",
        "\n",
        "demo.launch()"
      ],
      "metadata": {
        "id": "_4HoVAzAtHnR"
      },
      "execution_count": null,
      "outputs": []
    },
    {
      "cell_type": "code",
      "source": [
        "from openai import OpenAI\n",
        "import gradio as gr\n",
        "import os\n",
        "\n",
        "\n",
        "def text2text(system_content, user_content):\n",
        "  client = OpenAI(api_key=OPENAI_API_KEY)\n",
        "  system_content = system_content if system_content is not None else \"你是一個AI助教，會用蘇格拉底教學法代替老師初步回應，如果有需要會提醒學生跟老師確認\"\n",
        "  user_content = user_content if user_content is not None else \"如何用python抓取api資料?\"\n",
        "  chat_completion = client.chat.completions.create(\n",
        "      model=\"gpt-3.5-turbo\",\n",
        "      messages=[\n",
        "      {\"role\": \"system\", \"content\": system_content},\n",
        "      {\"role\": \"user\", \"content\": user_content}\n",
        "      ]\n",
        "      )\n",
        "  return chat_completion.choices[0].message.content\n",
        "\n",
        "\n",
        "demo = gr.Interface(\n",
        "    fn = text2text,\n",
        "    inputs = [\"text\"],\n",
        "    outputs = [\"text\"],\n",
        ")\n",
        "demo.launch(share=True)"
      ],
      "metadata": {
        "id": "G-_1NQ0jZIpg"
      },
      "execution_count": null,
      "outputs": []
    },
    {
      "cell_type": "code",
      "source": [
        "import gradio as gr\n",
        "\n",
        "\n",
        "import os\n",
        "import openai\n",
        "\n",
        "\n",
        "def text2msg(content):\n",
        "  client = OpenAI(api_key=OPENAI_API_KEY)\n",
        "  response = client.images.generate(\n",
        "      model=\"dall-e-3\",\n",
        "      prompt=content if content is not None else \"吃拉麵的貓\",\n",
        "      size=\"1024x1024\",\n",
        "      quality=\"standard\",\n",
        "      n=1,\n",
        "      )\n",
        "  return response.data[0].url\n",
        "\n",
        "\n",
        "demo = gr.Interface(\n",
        "    fn=text2msg,\n",
        "    inputs=\"text\",\n",
        "    outputs=gr.Image(shape=(1024, 1024)))\n",
        "demo.launch(share=True)"
      ],
      "metadata": {
        "colab": {
          "base_uri": "https://localhost:8080/",
          "height": 611
        },
        "id": "Q_JVG6F0W34X",
        "outputId": "831bf6ce-c03e-4c7d-94e9-2c96e2614f79"
      },
      "execution_count": null,
      "outputs": [
        {
          "output_type": "stream",
          "name": "stdout",
          "text": [
            "Colab notebook detected. To show errors in colab notebook, set debug=True in launch()\n",
            "Running on public URL: https://700add59869ff2b25c.gradio.live\n",
            "\n",
            "This share link expires in 72 hours. For free permanent hosting and GPU upgrades, run `gradio deploy` from Terminal to deploy to Spaces (https://huggingface.co/spaces)\n"
          ]
        },
        {
          "output_type": "display_data",
          "data": {
            "text/plain": [
              "<IPython.core.display.HTML object>"
            ],
            "text/html": [
              "<div><iframe src=\"https://700add59869ff2b25c.gradio.live\" width=\"100%\" height=\"500\" allow=\"autoplay; camera; microphone; clipboard-read; clipboard-write;\" frameborder=\"0\" allowfullscreen></iframe></div>"
            ]
          },
          "metadata": {}
        },
        {
          "output_type": "execute_result",
          "data": {
            "text/plain": []
          },
          "metadata": {},
          "execution_count": 19
        }
      ]
    },
    {
      "cell_type": "markdown",
      "source": [
        "![](https://oaidalleapiprodscus.blob.core.windows.net/private/org-rJmNF2Dp0SmXdJOuvHK3oRjk/user-xZl6CJMKmqX7jumeCJnrXO33/img-P6mHYUo4Eh3mJ2HSCmwTJV2l.png?st=2022-12-27T05%3A38%3A03Z&se=2022-12-27T07%3A38%3A03Z&sp=r&sv=2021-08-06&sr=b&rscd=inline&rsct=image/png&skoid=6aaadede-4fb3-4698-a8f6-684d7786b067&sktid=a48cca56-e6da-484e-a814-9c849652bcb3&skt=2022-12-26T22%3A54%3A58Z&ske=2022-12-27T22%3A54%3A58Z&sks=b&skv=2021-08-06&sig=0/HKo8s7aD%2BtCqrtr/7o8YfR8y%2BKRGRI8e7RA6AXjlE%3D)"
      ],
      "metadata": {
        "id": "YptyrZ315_Sf"
      }
    },
    {
      "cell_type": "markdown",
      "source": [
        "![image](https://hackmd.io/_uploads/ByMTWUhDp.png)"
      ],
      "metadata": {
        "id": "159Xvv3d44mv"
      }
    }
  ]
}