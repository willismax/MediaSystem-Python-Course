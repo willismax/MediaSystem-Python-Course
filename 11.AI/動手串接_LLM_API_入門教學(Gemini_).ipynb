{
  "cells": [
    {
      "cell_type": "markdown",
      "metadata": {
        "id": "view-in-github",
        "colab_type": "text"
      },
      "source": [
        "<a href=\"https://colab.research.google.com/github/willismax/MediaSystem-Python-Course/blob/main/11.AI/%E5%8B%95%E6%89%8B%E4%B8%B2%E6%8E%A5_LLM_API_%E5%85%A5%E9%96%80%E6%95%99%E5%AD%B8(Gemini_).ipynb\" target=\"_parent\"><img src=\"https://colab.research.google.com/assets/colab-badge.svg\" alt=\"Open In Colab\"/></a>"
      ]
    },
    {
      "cell_type": "markdown",
      "source": [
        "#  LLM 入門課 - 動手串接 LLM API"
      ],
      "metadata": {
        "id": "YLsZP9q-r6H6"
      }
    },
    {
      "cell_type": "markdown",
      "source": [
        "### 📝 Part 1: 環境設定與介紹\n",
        "\n",
        "歡迎來到「LLM 入門課」的實作環節！\n",
        "\n",
        "在這個 Colab 筆記本中，我們將一步步帶你完成所有課程中的程式碼範例。\n",
        "\n",
        "在開始之前，請先完成以下步驟：\n",
        "\n",
        "- 取得 API 金鑰: 前往 Google AI Studio 取得你的 Gemini API 金鑰。\n",
        "- 設定 Colab Secrets: 為了安全地儲存你的 API 金鑰，請點擊左側邊欄的「🔑」(金鑰) 圖示，建立一個名為 GEMINI_API_KEY 的密鑰，並將你的金鑰貼入其值中。請務必啟用「Notebook access」。"
      ],
      "metadata": {
        "id": "nlKiHr1VrAkV"
      }
    },
    {
      "cell_type": "markdown",
      "source": [
        "執行下方的儲存格來安裝必要的 Python 函式庫。"
      ],
      "metadata": {
        "id": "XIFnn2LtrQFe"
      }
    },
    {
      "cell_type": "code",
      "source": [
        "!pip install -q requests\n",
        "\n",
        "print(\"✅ 環境設定完成！\")"
      ],
      "metadata": {
        "id": "rMIYCTfwrStx"
      },
      "execution_count": null,
      "outputs": []
    },
    {
      "cell_type": "markdown",
      "source": [
        "### 🔑 Part 2: 你的第一個 LLM API 請求\n",
        "\n",
        "現在，讓我們來發送第一個對 Gemini API 的請求。\n",
        "\n",
        "這個環節對應課程的 Part 2，我們將會：\n",
        "\n",
        "- 從 Colab Secrets 中讀取 API 金鑰。\n",
        "- 定義一個函式來呼叫 API。\n",
        "- 發送一個簡單的問候語，並看看 LLM 如何回應！\n",
        "\n",
        "執行下方的儲存格來定義函式並發送請求。"
      ],
      "metadata": {
        "id": "n3a5QT7Prn7C"
      }
    },
    {
      "cell_type": "code",
      "source": [
        "import requests\n",
        "import json\n",
        "from google.colab import userdata\n",
        "\n",
        "def call_gemini_api(prompt, api_key, temperature=0.7):\n",
        "    \"\"\"\n",
        "    一個通用的函式，用來呼叫 Google Gemini API。\n",
        "\n",
        "    Args:\n",
        "        prompt (str): 你想傳送給模型的指令。\n",
        "        api_key (str): 你的 Google AI Studio API 金鑰。\n",
        "        temperature (float): 控制模型輸出的隨機性，介於 0.0 到 1.0 之間。\n",
        "\n",
        "    Returns:\n",
        "        str: 模型生成的回應文字，如果失敗則返回錯誤訊息。\n",
        "    \"\"\"\n",
        "    if not api_key:\n",
        "        return \"❌ 錯誤：找不到 API 金鑰。請確認你已經在 Colab Secrets 中設定了 'GEMINI_API_KEY'。\"\n",
        "\n",
        "    # Gemini API 的 Endpoint\n",
        "    url = f\"https://generativelanguage.googleapis.com/v1beta/models/gemini-2.0-flash:generateContent?key={api_key}\"\n",
        "    headers = {'Content-Type': 'application/json'}\n",
        "\n",
        "    # API 請求的 Payload\n",
        "    data = {\n",
        "        \"contents\": [{\"parts\": [{\"text\": prompt}]}],\n",
        "        \"generationConfig\": {\n",
        "            \"temperature\": temperature,\n",
        "            \"maxOutputTokens\": 800\n",
        "        }\n",
        "    }\n",
        "\n",
        "    print(\"🚀 正在發送請求至 Gemini API...\")\n",
        "    print(f\"指令 (Prompt): {prompt[:100]}...\") # 只顯示部分 prompt\n",
        "\n",
        "    try:\n",
        "        response = requests.post(url, headers=headers, data=json.dumps(data), timeout=60)\n",
        "        response.raise_for_status()\n",
        "        result = response.json()\n",
        "\n",
        "        if (result.get('candidates') and result['candidates'][0]['content']['parts'][0]['text']):\n",
        "            return result['candidates'][0]['content']['parts'][0]['text']\n",
        "        else:\n",
        "            if result.get('promptFeedback', {}).get('blockReason'):\n",
        "                reason = result['promptFeedback']['blockReason']\n",
        "                return f\"❌ 請求被阻擋，原因: {reason}\"\n",
        "            return f\"❌ 無法從 API 回應中解析出有效的文字。回應內容: {result}\"\n",
        "\n",
        "    except requests.exceptions.RequestException as e:\n",
        "        return f\"❌ 請求失敗: {e}\"\n",
        "    except Exception as e:\n",
        "        return f\"❌ 發生未知錯誤: {e}\"\n",
        "\n"
      ],
      "metadata": {
        "id": "9g-K-76_ryyT"
      },
      "execution_count": null,
      "outputs": []
    },
    {
      "cell_type": "code",
      "source": [
        "# --- 主程式執行區 ---\n",
        "try:\n",
        "    # 從 Colab Secrets 讀取 API 金鑰\n",
        "    API_KEY = userdata.get('GEMINI_API_KEY')\n",
        "except userdata.SecretNotFoundError:\n",
        "    API_KEY = None\n",
        "\n",
        "# 我們的第一個 prompt\n",
        "first_prompt = \"你好！請用繁體中文做個簡短的自我介紹，並說一句鼓勵 Python 工程師的話。\"\n",
        "\n",
        "# 呼叫函式並印出結果\n",
        "response_text = call_gemini_api(first_prompt, API_KEY)\n",
        "\n",
        "print(\"\\n💡 Gemini API 的回應：\")\n",
        "print(\"=\"*50)\n",
        "print(response_text)\n",
        "print(\"=\"*50)"
      ],
      "metadata": {
        "colab": {
          "base_uri": "https://localhost:8080/"
        },
        "id": "ld6M7u07sqxI",
        "outputId": "0e231ea8-a7a4-412d-9562-0ff27a5dfae0"
      },
      "execution_count": null,
      "outputs": [
        {
          "output_type": "stream",
          "name": "stdout",
          "text": [
            "🚀 正在發送請求至 Gemini API...\n",
            "指令 (Prompt): 你好！請用繁體中文做個簡短的自我介紹，並說一句鼓勵 Python 工程師的話。...\n",
            "\n",
            "💡 Gemini API 的回應：\n",
            "==================================================\n",
            "哈囉！大家好！我是個大型語言模型，擅長處理文字相關的任務，像是翻譯、寫作、程式碼生成等等。很高興能和大家交流！\n",
            "\n",
            "對所有 Python 工程師們說一句：**持續精進，擁抱變化，讓 Python 的力量點亮你的未來！**\n",
            "\n",
            "==================================================\n"
          ]
        }
      ]
    },
    {
      "cell_type": "markdown",
      "source": [
        "### 🌡️ Part 3: 掌握關鍵 API 參數 (Temperature)\n",
        "\n",
        "temperature 是一個非常重要的參數，它控制著模型回覆的「創意程度」或「隨機性」。\n",
        "\n",
        "- 低 temperature (例如 0.1): 回應會比較穩定、可預測、更貼近事實。適合需要精確答案的場景。\n",
        "- 高 temperature (例如 0.9): 回應會更有創意、更多樣化、更天馬行空。適合需要腦力激盪的場景。\n",
        "\n",
        "執行下方的儲存格，比較看看不同 temperature 設定下的差異。\n",
        "\n",
        "觀察看看，高溫下的點子是不是感覺更有趣、更多元？"
      ],
      "metadata": {
        "id": "dCo1fa_TtGeu"
      }
    },
    {
      "cell_type": "code",
      "source": [
        "creative_prompt = \"幫我發想三個有創意的 Python 小專案點子\"\n",
        "\n",
        "print(\"--- 實驗 1: 低溫 (temperature=0.1) ---\")\n",
        "low_temp_response = call_gemini_api(creative_prompt, API_KEY, temperature=0.1)\n",
        "print(low_temp_response)\n",
        "print(\"\\n\" + \"=\"*50 + \"\\n\")"
      ],
      "metadata": {
        "colab": {
          "base_uri": "https://localhost:8080/"
        },
        "id": "T2mYII-YtR4Z",
        "outputId": "e1e64039-8496-4c23-c2f4-b93444e4718c"
      },
      "execution_count": null,
      "outputs": [
        {
          "output_type": "stream",
          "name": "stdout",
          "text": [
            "--- 實驗 1: 低溫 (temperature=0.1) ---\n",
            "🚀 正在發送請求至 Gemini API...\n",
            "指令 (Prompt): 幫我發想三個有創意的 Python 小專案點子...\n",
            "好的，這裡提供三個有創意的 Python 小專案點子，並附上簡要說明和可能的技術方向：\n",
            "\n",
            "**1.  AI 食譜生成器 (AI Recipe Generator)**\n",
            "\n",
            "*   **概念：**  利用機器學習模型，根據使用者提供的食材、飲食偏好（例如：素食、無麩質）和烹飪時間，自動生成食譜。\n",
            "*   **創意點：**\n",
            "    *   **減少浪費：**  幫助使用者利用現有食材，避免食物浪費。\n",
            "    *   **探索新口味：**  提供意想不到的食譜組合，激發烹飪靈感。\n",
            "    *   **個性化推薦：**  根據使用者歷史紀錄和喜好，提供更精準的食譜建議。\n",
            "*   **技術方向：**\n",
            "    *   **自然語言處理 (NLP):**  處理食材名稱、飲食偏好等文字輸入。\n",
            "    *   **機器學習 (ML):**  訓練模型，學習食材之間的搭配關係，並生成食譜步驟。\n",
            "    *   **資料庫：**  儲存食材資訊、食譜範例等資料。\n",
            "    *   **可能的 Python 函式庫：**  `nltk`, `transformers`, `scikit-learn`, `pandas`, `requests` (用於抓取食譜資料)\n",
            "    *   **額外挑戰：**  加入圖片生成功能，讓 AI 生成食譜的圖片。\n",
            "\n",
            "**2.  互動式故事生成器 (Interactive Story Generator)**\n",
            "\n",
            "*   **概念：**  使用者可以透過選擇不同的選項，影響故事的發展方向，創造獨一無二的故事情節。\n",
            "*   **創意點：**\n",
            "    *   **沉浸式體驗：**  讓使用者成為故事的一部分，增加參與感。\n",
            "    *   **多重結局：**  提供多種不同的結局，增加故事的趣味性和可玩性。\n",
            "    *   **主題多樣性：**  可以設計不同主題的故事，例如：科幻、奇幻、愛情等。\n",
            "*   **技術方向：**\n",
            "    *   **資料結構：**  使用圖 (Graph) 或樹 (Tree) 結構來表示故事的分支和選項。\n",
            "    *   **使用者介面 (UI):**  可以使用文字介面 (CLI) 或圖形介面 (GUI)。\n",
            "    *   **可能的 Python 函式庫：**  `tkinter` (GUI), `pygame` (GUI), `json` (儲存故事資料), `random` (隨機事件)\n",
            "    *   **額外挑戰：**\n",
            "        *   加入音效和音樂，增強故事的氛圍。\n",
            "        *   使用 AI 生成故事內容，讓故事更加豐富和多樣化。\n",
            "\n",
            "**3.  自動化社群媒體內容排程器 (Automated Social Media Content Scheduler)**\n",
            "\n",
            "*   **概念：**  使用者可以設定要發布的內容、時間和平台，程式會自動在指定的時間將內容發布到指定的社群媒體平台。\n",
            "*   **創意點：**\n",
            "    *   **節省時間：**  自動化發布流程，節省使用者手動發布的時間。\n",
            "    *   **最佳化發布時間：**  根據社群媒體平台的數據，分析最佳發布時間，提高內容的曝光率。\n",
            "    *   **跨平台管理：**  支援多個社群媒體平台，方便使用者統一管理。\n",
            "*   **技術方向：**\n",
            "    *   **API 整合：**  使用各個社群媒體平台的 API 來發布內容。\n",
            "    *   **排程器：**  使用排程器來在指定的時間執行\n",
            "\n",
            "==================================================\n",
            "\n"
          ]
        }
      ]
    },
    {
      "cell_type": "code",
      "source": [
        "print(\"--- 實驗 2: 高溫 (temperature=0.9) ---\")\n",
        "high_temp_response = call_gemini_api(creative_prompt, API_KEY, temperature=0.9)\n",
        "print(high_temp_response)\n",
        "print(\"\\n\" + \"=\"*50 + \"\\n\")"
      ],
      "metadata": {
        "colab": {
          "base_uri": "https://localhost:8080/"
        },
        "id": "B--3mQkPtZKP",
        "outputId": "291e8572-ac98-440f-a641-ceb670be159f"
      },
      "execution_count": null,
      "outputs": [
        {
          "output_type": "stream",
          "name": "stdout",
          "text": [
            "--- 實驗 2: 高溫 (temperature=0.9) ---\n",
            "🚀 正在發送請求至 Gemini API...\n",
            "指令 (Prompt): 幫我發想三個有創意的 Python 小專案點子...\n",
            "好的，這裡提供你三個有創意的 Python 小專案點子，兼顧趣味性與實用性：\n",
            "\n",
            "**1.  自動化情緒分析與建議播放清單產生器 (Sentiment-Based Playlist Generator)**\n",
            "\n",
            "*   **概念:** 這個專案結合了文字情緒分析與音樂串流服務 (例如 Spotify)。使用者輸入一段文字 (日記、評論、推文等)，程式會分析這段文字的情緒 (正面、負面、中性)，然後根據分析結果自動產生一個符合該情緒的 Spotify 播放清單。\n",
            "\n",
            "*   **技術要點:**\n",
            "    *   **情緒分析:** 使用 Python 的 NLTK、TextBlob 或 Transformers 庫 (例如 Hugging Face) 來進行情緒分析。\n",
            "    *   **Spotify API:** 使用 Spotipy 或類似的庫來連接 Spotify API，搜尋歌曲、建立播放清單等。\n",
            "    *   **情緒與音樂的關聯:** 設計一套邏輯，將不同情緒與不同音樂類型、節奏、風格關聯起來。  例如，正面情緒可能對應輕快、歡樂的音樂；負面情緒可能對應抒情、放鬆的音樂。\n",
            "    *   **使用者介面 (可選):**  可以使用 Tkinter、PyQt 或 Flask 等庫建立一個簡單的圖形介面或網頁介面，讓使用者輸入文字和查看結果。\n",
            "\n",
            "*   **創意亮點:**\n",
            "    *   個性化的音樂體驗：根據使用者當下的心情自動生成音樂，更貼近使用者的需求。\n",
            "    *   結合 AI 與音樂：將自然語言處理技術應用於音樂推薦，帶來新的可能性。\n",
            "    *   實用性：可以幫助使用者快速找到適合自己心情的音樂，提升生活品質。\n",
            "\n",
            "**2.  AI 食譜產生器與食材辨識器 (AI Recipe Generator & Ingredient Identifier)**\n",
            "\n",
            "*   **概念:** 這個專案可以讓使用者上傳冰箱裡現有食材的照片，程式會使用機器學習來辨識這些食材，然後根據這些食材自動生成食譜。\n",
            "\n",
            "*   **技術要點:**\n",
            "    *   **影像辨識:**  使用 TensorFlow、Keras 或 PyTorch 等機器學習框架，訓練一個可以辨識各種食材的影像辨識模型。可以使用現成的預訓練模型 (例如 ResNet、Inception) 進行微調，或者從零開始訓練。\n",
            "    *   **食譜資料庫:**  建立一個食譜資料庫，包含各種食譜的食材和做法。  可以從網路上抓取食譜數據，或者使用現成的食譜 API。\n",
            "    *   **食譜生成演算法:**  設計一個演算法，根據辨識出的食材，從食譜資料庫中找到包含這些食材的食譜，或者根據這些食材自動生成新的食譜。  可以使用自然語言生成技術 (例如 GPT-2、GPT-3) 來生成食譜的描述。\n",
            "    *   **使用者介面 (可選):** 使用 Tkinter、PyQt 或 Flask 等庫建立一個圖形介面或網頁介面，讓使用者上傳照片和查看食譜。\n",
            "\n",
            "*   **創意亮點:**\n",
            "    *   解決「今天吃什麼」的難題：根據現有食材生成食譜，避免浪費食物，同時提供創意料理靈感。\n",
            "    *   結合 AI 與美食：將機器學習應用於食譜生成，帶來新的飲食體驗。\n",
            "    *   實用性：可以幫助使用者快速找到適合自己食材的食譜，提升烹飪效率。\n",
            "\n",
            "**3.  文字冒險遊戲引擎 (Text Adventure Game Engine)**\n",
            "\n",
            "*   **概念:**  建立一個可以讓使用者輕鬆創建和遊玩文字冒險遊戲的引擎。  \n",
            "\n",
            "==================================================\n",
            "\n"
          ]
        }
      ]
    },
    {
      "cell_type": "markdown",
      "source": [
        "### 💻 Part 4: 實戰應用 - 程式碼註解產生器\n",
        "\n",
        "現在，我們要來打造一個實用的小工具：**程式碼註解產生器**。\n",
        "\n",
        "這邊的關鍵在於 Prompt Engineering (指令工程)。我們會設計一個結構化的指令，告訴 LLM 它的角色、任務、輸入和輸出格式，讓它能穩定地完成我們交辦的工作。\n",
        "\n",
        "執行下方的儲-存格來定義函式並產生註解。"
      ],
      "metadata": {
        "id": "2Aamf68gtukZ"
      }
    },
    {
      "cell_type": "code",
      "source": [
        "def generate_code_comment(code_snippet: str, api_key: str):\n",
        "  \"\"\"\n",
        "  為一段 Python 程式碼生成函式註解 (docstring)。\n",
        "\n",
        "  Args:\n",
        "      code_snippet (str): 需要被註解的 Python 程式碼。\n",
        "      api_key (str): 你的 Google AI Studio API 金鑰。\n",
        "\n",
        "  Returns:\n",
        "      str: 模型生成的註解。\n",
        "  \"\"\"\n",
        "  # --- Prompt Engineering 的核心 ---\n",
        "  prompt_template = f\"\"\"\n",
        "  你是一位資深的 Python 開發者，你的任務是為以下的 Python 函式撰寫專業且清晰的 docstring。\n",
        "\n",
        "  請遵循 Google Python 風格指南的 docstring 格式。\n",
        "  你的回覆應該只包含 docstring 的內容，不要包含任何額外的解釋或程式碼區塊標記 (例如 ```python ... ```)。\n",
        "\n",
        "  這是需要加上註解的函式：\n",
        "  {code_snippet}\n",
        "\n",
        "  請生成對應的 docstring:\n",
        "  \"\"\"\n",
        "\n",
        "  # 為了讓註解更精確，我們使用較低的 temperature\n",
        "  comment_response = call_gemini_api(prompt_template, api_key, temperature=0.2)\n",
        "  return comment_response.strip()"
      ],
      "outputs": [],
      "execution_count": 17,
      "metadata": {
        "id": "39WuXUiuq0TL"
      }
    },
    {
      "cell_type": "code",
      "source": [
        "# 準備一段沒有註解的程式碼\n",
        "sample_code = \"\"\"\n",
        "def process_user_data(data: dict, user_list: list) -> str:\n",
        "    if not isinstance(data, dict) or 'id' not in data:\n",
        "        raise TypeError(\"Input 'data' must be a dict with an 'id' key.\")\n",
        "    user_id = data.get('id')\n",
        "    if user_id in user_list:\n",
        "        return f\"User {user_id} already exists.\"\n",
        "    user_list.append(user_id)\n",
        "    return f\"User {user_id} added successfully.\"\n",
        "\"\"\"\n",
        "\n",
        "print(\"\\n--- 程式碼註解產生器 ---\")\n",
        "print(\"原始程式碼:\")\n",
        "print(sample_code)"
      ],
      "metadata": {
        "colab": {
          "base_uri": "https://localhost:8080/"
        },
        "id": "1FfjL701u19T",
        "outputId": "a66e98be-c8cc-4a6d-c26e-f50514899a9f"
      },
      "execution_count": null,
      "outputs": [
        {
          "output_type": "stream",
          "name": "stdout",
          "text": [
            "\n",
            "--- 程式碼註解產生器 ---\n",
            "原始程式碼:\n",
            "\n",
            "def process_user_data(data: dict, user_list: list) -> str:\n",
            "    if not isinstance(data, dict) or 'id' not in data:\n",
            "        raise TypeError(\"Input 'data' must be a dict with an 'id' key.\")\n",
            "    user_id = data.get('id')\n",
            "    if user_id in user_list:\n",
            "        return f\"User {user_id} already exists.\"\n",
            "    user_list.append(user_id)\n",
            "    return f\"User {user_id} added successfully.\"\n",
            "\n"
          ]
        }
      ]
    },
    {
      "cell_type": "code",
      "source": [
        "# 呼叫函式\n",
        "docstring = generate_code_comment(sample_code, API_KEY)"
      ],
      "metadata": {
        "colab": {
          "base_uri": "https://localhost:8080/"
        },
        "id": "itzzPAUxvFPK",
        "outputId": "1c72db2b-987a-4784-b5b5-d79e83c71224"
      },
      "execution_count": null,
      "outputs": [
        {
          "output_type": "stream",
          "name": "stdout",
          "text": [
            "🚀 正在發送請求至 Gemini API...\n",
            "指令 (Prompt): \n",
            "  你是一位資深的 Python 開發者，你的任務是為以下的 Python 函式撰寫專業且清晰的 docstring。\n",
            "\n",
            "  請遵循 Google Python 風格指南的 docstring 格式...\n"
          ]
        }
      ]
    },
    {
      "cell_type": "code",
      "source": [
        "print(\"\\n💡 AI 生成的 Docstring:\")\n",
        "print(\"=\"*50)\n",
        "print(docstring)\n",
        "print(\"=\"*50)\n",
        "print(\"\\n✨ 將註解整合回原始碼:\")"
      ],
      "metadata": {
        "colab": {
          "base_uri": "https://localhost:8080/"
        },
        "id": "1-f5EbgjvLEj",
        "outputId": "ce354ea7-9308-4820-a856-b8fcfaaa3b5b"
      },
      "execution_count": null,
      "outputs": [
        {
          "output_type": "stream",
          "name": "stdout",
          "text": [
            "\n",
            "💡 AI 生成的 Docstring:\n",
            "==================================================\n",
            "\"\"\"Processes user data and adds the user ID to a list if it doesn't exist.\n",
            "\n",
            "  Args:\n",
            "    data: A dictionary containing user data, which must include an 'id' key.\n",
            "    user_list: A list of existing user IDs.\n",
            "\n",
            "  Returns:\n",
            "    A string indicating whether the user was added successfully or already exists.\n",
            "\n",
            "  Raises:\n",
            "    TypeError: If the input 'data' is not a dictionary or does not contain an 'id' key.\n",
            "  \"\"\"\n",
            "==================================================\n",
            "\n",
            "✨ 將註解整合回原始碼:\n"
          ]
        }
      ]
    },
    {
      "cell_type": "code",
      "source": [
        "# 為了美觀，我們將生成的 docstring 插入到原始碼中再印出\n",
        "# 尋找第一個 \":\" 的位置來插入 docstring\n",
        "final_code = sample_code.replace(\":\", \":\\n    \\\"\\\"\\\"\\n    \" + docstring.replace(\"\\n\", \"\\n    \") + \"\\n    \\\"\\\"\\\"\", 1)\n",
        "print(final_code)"
      ],
      "metadata": {
        "colab": {
          "base_uri": "https://localhost:8080/"
        },
        "id": "UnKrmyRHvScJ",
        "outputId": "83c9ab33-9280-4cb2-a58c-b48946c2ebb8"
      },
      "execution_count": null,
      "outputs": [
        {
          "output_type": "stream",
          "name": "stdout",
          "text": [
            "\n",
            "def process_user_data(data:\n",
            "    \"\"\"\n",
            "    \"\"\"Processes user data and adds the user ID to a list if it doesn't exist.\n",
            "    \n",
            "      Args:\n",
            "        data: A dictionary containing user data, which must include an 'id' key.\n",
            "        user_list: A list of existing user IDs.\n",
            "    \n",
            "      Returns:\n",
            "        A string indicating whether the user was added successfully or already exists.\n",
            "    \n",
            "      Raises:\n",
            "        TypeError: If the input 'data' is not a dictionary or does not contain an 'id' key.\n",
            "      \"\"\"\n",
            "    \"\"\" dict, user_list: list) -> str:\n",
            "    if not isinstance(data, dict) or 'id' not in data:\n",
            "        raise TypeError(\"Input 'data' must be a dict with an 'id' key.\")\n",
            "    user_id = data.get('id')\n",
            "    if user_id in user_list:\n",
            "        return f\"User {user_id} already exists.\"\n",
            "    user_list.append(user_id)\n",
            "    return f\"User {user_id} added successfully.\"\n",
            "\n"
          ]
        }
      ]
    },
    {
      "cell_type": "markdown",
      "source": [
        "### 🎉 Part 5 & 6: 課程總結與下一步\n",
        "\n",
        "恭喜你！你已經成功學會了：\n",
        " - ✅ 如何設定環境並安全地使用 API 金鑰。\n",
        " - ✅ 如何呼叫 LLM API 並取得回應。\n",
        " - ✅ 如何利用 `temperature` 參數控制模型輸出。\n",
        " - ✅ 如何透過 Prompt Engineering 打造實用的 AI 小工具。\n",
        "\n",
        " **進階主題 (Part 5)** 如對話歷史、串流、JSON 模式，是建立更複雜應用的基石。你可以嘗試修改 `call_gemini_api` 函式，讓 `contents` 參數可以接收多輪對話的歷史紀錄。\n",
        "\n"
      ],
      "metadata": {
        "id": "1TTxpw7xvi2u"
      }
    },
    {
      "cell_type": "markdown",
      "source": [
        "**接下來你可以做什麼？**\n",
        " 1. **修改 Prompt**: 試試看修改「程式碼註解產生器」的 prompt，讓它產生不同風格 (例如 NumPy style) 的註解。\n",
        " 2. **發想新工具**: 你還能想到什麼可以用 LLM 解決的日常開發問題？(例如：Git commit 訊息產生器、正則表達式產生器、SQL 查詢產生器...) 3. **串接其他服務**: 將這個 Colab 的邏輯整合到你熟悉的 Web 框架 (如 Flask, Django) 或腳本中。\n",
        "\n",
        " ---\n",
        " **課程到此告一段落，動手玩玩看吧！ Happy Hacking!**"
      ],
      "metadata": {
        "id": "2zcxdYlAwAq-"
      }
    }
  ],
  "metadata": {
    "colab": {
      "provenance": [],
      "include_colab_link": true
    },
    "kernelspec": {
      "display_name": "Python 3",
      "name": "python3"
    }
  },
  "nbformat": 4,
  "nbformat_minor": 0
}