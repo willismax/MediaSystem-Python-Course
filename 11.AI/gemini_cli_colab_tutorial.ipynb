{
  "cells": [
    {
      "cell_type": "markdown",
      "metadata": {
        "id": "view-in-github",
        "colab_type": "text"
      },
      "source": [
        "<a href=\"https://colab.research.google.com/github/willismax/MediaSystem-Python-Course/blob/main/11.AI/gemini_cli_colab_tutorial.ipynb\" target=\"_parent\"><img src=\"https://colab.research.google.com/assets/colab-badge.svg\" alt=\"Open In Colab\"/></a>"
      ]
    },
    {
      "cell_type": "markdown",
      "metadata": {
        "id": "BtI5uGJTGbFc"
      },
      "source": [
        "# 在 Google Colab 中設定與使用 gemini-cli\n"
      ]
    },
    {
      "cell_type": "markdown",
      "source": [
        "## 直接使用版\n"
      ],
      "metadata": {
        "id": "xdloKaILtDE4"
      }
    },
    {
      "cell_type": "markdown",
      "source": [
        "\n",
        "1. 開啟 Colab 的終端機\n",
        "2. 執行以下 Colab cell 將 api token 存入環境變數`.env`"
      ],
      "metadata": {
        "id": "6gp0geF9u3wR"
      }
    },
    {
      "cell_type": "code",
      "source": [
        "# 已經有在 Colab 將 Token 紀錄在環境變數\n",
        "import os\n",
        "from google.colab import userdata\n",
        "\n",
        "try:\n",
        "    os.environ['GEMINI_API_KEY'] = userdata.get('GEMINI_API_KEY')\n",
        "except userdata.SecretNotFoundError as e:\n",
        "    print('Secret not found. Please set the GEMINI_API_KEY secret in Colab.')\n",
        "\n",
        "!echo 'GEMINI_API_KEY={userdata.get(\"GEMINI_API_KEY\")}' > .env"
      ],
      "metadata": {
        "id": "B735g1-stNT9"
      },
      "execution_count": 1,
      "outputs": []
    },
    {
      "cell_type": "markdown",
      "source": [
        "3. 執行終端機介面優化指令\n",
        "  ```\n",
        "  export LANG=C.UTF-8 LC_ALL=C.UTF-8 TERM=xterm-256color COLORTERM=truecolor\n",
        "  ```\n",
        "4. 在終端機執行 Gemini_cli ，可以用 `-y` 開啟 YOLO 模式\n",
        "  ```\n",
        "  gemini -y\n",
        "  ```"
      ],
      "metadata": {
        "id": "IC1R5fgQupwr"
      }
    },
    {
      "cell_type": "markdown",
      "source": [
        "## 逐步教學版"
      ],
      "metadata": {
        "id": "2kNFNXldtGtm"
      }
    },
    {
      "cell_type": "markdown",
      "metadata": {
        "id": "dMltzdKmGbFd"
      },
      "source": [
        "### 安裝 gemini-cli"
      ]
    },
    {
      "cell_type": "code",
      "execution_count": null,
      "metadata": {
        "id": "Znw_Wpu-GbFd"
      },
      "outputs": [],
      "source": [
        "# 預設已安裝\n",
        "# !pip install -q gemini-cli"
      ]
    },
    {
      "cell_type": "code",
      "execution_count": null,
      "metadata": {
        "id": "5LiWOy9aGbFe"
      },
      "outputs": [],
      "source": [
        "!gemini --help"
      ]
    },
    {
      "cell_type": "markdown",
      "metadata": {
        "id": "XKZBkYLDGbFe"
      },
      "source": [
        "### 設定 API 金鑰\n"
      ]
    },
    {
      "cell_type": "markdown",
      "source": [
        "您需要一組 Gemini API 金鑰：\n",
        "1. 前往 [Google AI Studio](https://aistudio.google.com/app/apikey) 取得您的 API 金鑰。\n",
        "2. 在 Colab 的左側面板中，點擊「金鑰」圖示。\n",
        "3. 新增一個名為 `GEMINI_API_KEY` 密鑰，並將您的 API 金鑰貼上為其值。"
      ],
      "metadata": {
        "id": "Jh-_mGXOY0m_"
      }
    },
    {
      "cell_type": "code",
      "execution_count": null,
      "metadata": {
        "id": "SH11vUnnGbFe"
      },
      "outputs": [],
      "source": [
        "# 可以在 Colab 將 Token 紀錄在環境變數\n",
        "import os\n",
        "from google.colab import userdata\n",
        "\n",
        "try:\n",
        "    os.environ['GEMINI_API_KEY'] = userdata.get('GEMINI_API_KEY')\n",
        "except userdata.SecretNotFoundError as e:\n",
        "    print('Secret not found. Please set the GEMINI_API_KEY secret in Colab.')"
      ]
    },
    {
      "cell_type": "markdown",
      "metadata": {
        "id": "xlIrea1rGbFf"
      },
      "source": [
        "### `!gemini` 開始對話"
      ]
    },
    {
      "cell_type": "code",
      "execution_count": null,
      "metadata": {
        "id": "-i31vXmFGbFf"
      },
      "outputs": [],
      "source": [
        "!gemini -p '1+1='"
      ]
    },
    {
      "cell_type": "code",
      "source": [
        "!gemini -y -p '在此目錄建立一份有關在colab建立ploty的教學，教學檔案使用.ipynb檔，之後會將此利用colab分享教學，目錄為@/content/drive/MyDrive/Teaching/勞工大學/114Py-GPT-DA/教材'"
      ],
      "metadata": {
        "id": "k_-29oxbKmqn"
      },
      "execution_count": null,
      "outputs": []
    },
    {
      "cell_type": "markdown",
      "source": [
        "- 實作成果 [Plotly_in_Colab_Tutorial](https://colab.research.google.com/drive/1mZG68QYRkFWqAjqloExY8wOoZ1RC9kGq?pli=1&usp=drive_fs#scrollTo=HhaPjuJCLzUw)"
      ],
      "metadata": {
        "id": "mj-sp3u4OTYP"
      }
    },
    {
      "cell_type": "markdown",
      "source": [
        "### 在 Colab 終端機使用 Gemini Cli 的方法\n",
        "- 因為不能很輕易的開新視窗進行 OAuth，所以較難使用 Login with Google。\n",
        "- 可以使用 Gemini API Key (Google AI Studio)"
      ],
      "metadata": {
        "id": "m1u9Hj3bUMaj"
      }
    },
    {
      "cell_type": "markdown",
      "source": [
        "#### 建立 `.env`\n"
      ],
      "metadata": {
        "id": "9KaevBIdaRYA"
      }
    },
    {
      "cell_type": "code",
      "source": [
        "from google.colab import userdata\n",
        "!echo 'GEMINI_API_KEY={userdata.get(\"GEMINI_API_KEY\")}' > .env"
      ],
      "metadata": {
        "id": "pxT6HPnhYIUh"
      },
      "execution_count": null,
      "outputs": []
    },
    {
      "cell_type": "markdown",
      "source": [
        "##### 顯示優化(謝謝Will保哥)\n",
        "\n",
        "```\n",
        "export LANG=C.UTF-8\n",
        "export LC_ALL=C.UTF-8\n",
        "export TERM=xterm-256color\n",
        "export COLORTERM=truecolor\n",
        "```\n",
        "\n"
      ],
      "metadata": {
        "id": "jzE-6IEsU6mf"
      }
    },
    {
      "cell_type": "markdown",
      "source": [
        "##### 可開啟 YOLO Mode\n",
        "```\n",
        "gemini -y\n",
        "```"
      ],
      "metadata": {
        "id": "irlmPU8df-hn"
      }
    },
    {
      "cell_type": "markdown",
      "source": [
        "#### 終端機開啟方法1:\n"
      ],
      "metadata": {
        "id": "r00w4GX5XQ3P"
      }
    },
    {
      "cell_type": "markdown",
      "source": [
        "- 可以在 Colab 介面左下方開啟終端機(先前是 Colab Pro用戶限定)\n"
      ],
      "metadata": {
        "id": "EfbAWsgaXiWL"
      }
    },
    {
      "cell_type": "markdown",
      "source": [
        "### 另一種終端機開啟方法(用外部套件開啟)"
      ],
      "metadata": {
        "id": "eqQl9IRZXW25"
      }
    },
    {
      "cell_type": "code",
      "source": [
        "# 使用外部套件開啟終端機\n",
        "!pip install -q colab-xterm\n",
        "%load_ext colabxterm\n",
        "%xterm"
      ],
      "metadata": {
        "id": "3o5G23d7XeP_"
      },
      "execution_count": null,
      "outputs": []
    },
    {
      "cell_type": "markdown",
      "source": [
        "### 同場加映:"
      ],
      "metadata": {
        "id": "Dy3EQVs0hCat"
      }
    },
    {
      "cell_type": "markdown",
      "source": [
        "### 防止閒置超時的 Javascript 技巧\n",
        "\n",
        "你可以在瀏覽器的開發者工具 (F12) 的主控台 (Console) 中貼上一段 JavaScript 程式碼，讓它每隔一段時間模擬點擊 Colab 頁面，欺騙閒置計時器。\n",
        "- 優點：簡單、能有效防止閒置超時。\n",
        "- 缺點：無法繞過 12 小時的最大時長限制，且你的電腦和瀏覽器必須一直開著。\n",
        "\n",
        "\n",
        "範例程式碼（每 60 秒點擊一次連線按鈕）：\n",
        "\n",
        "```javascript\n",
        "function ClickConnect(){\n",
        "  console.log(\"Working on the prevention of disconnection\");\n",
        "  document.querySelector(\"colab-connect-button\").click()\n",
        "}\n",
        "setInterval(ClickConnect, 60000)\n",
        "```\n"
      ],
      "metadata": {
        "id": "nxyLgLQshHFD"
      }
    },
    {
      "cell_type": "markdown",
      "source": [
        "### 3.使用 Google Drive 掛載來保存進度：\n",
        "\n",
        "這是最常用也最重要的方法。對於長時間的任務（特別是模型訓練），你必須定期將結果（如模型權重、日誌檔案）保存到掛載的 Google Drive。\n",
        "\n",
        "- 優點：即使 Colab 中斷了，你的進度也保存在雲端硬碟。下次重新連線後，可以從上次的存檔點繼續執行，而不是從頭開始。\n",
        "- 缺點：需要撰寫額外的存檔/讀取邏輯。\n",
        "\n",
        "\n",
        "範例：\n",
        "```python\n",
        "from google.colab import drive\n",
        "drive.mount('/content/drive')\n",
        "\n",
        "# 假設每訓練 10 個 epoch 就保存一次模型\n",
        "for epoch in range(num_epochs):\n",
        "  # ... 訓練過程 ...\n",
        "  if (epoch + 1) % 10 == 0:\n",
        "    model.save_weights(f'/content/drive/MyDrive/my_models/epoch_{epoch+1}.weights.h5')\n",
        "    print(f\"Epoch {epoch+1} model saved.\")\n",
        "```\n",
        "\n"
      ],
      "metadata": {
        "id": "dvlFsV2RhPx5"
      }
    }
  ],
  "metadata": {
    "colab": {
      "provenance": [],
      "include_colab_link": true
    },
    "kernelspec": {
      "display_name": "Python 3",
      "name": "python3"
    },
    "language_info": {
      "name": "python"
    }
  },
  "nbformat": 4,
  "nbformat_minor": 0
}