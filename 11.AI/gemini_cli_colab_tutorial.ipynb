{
  "cells": [
    {
      "cell_type": "markdown",
      "metadata": {
        "id": "view-in-github",
        "colab_type": "text"
      },
      "source": [
        "<a href=\"https://colab.research.google.com/github/willismax/MediaSystem-Python-Course/blob/main/11.AI/gemini_cli_colab_tutorial.ipynb\" target=\"_parent\"><img src=\"https://colab.research.google.com/assets/colab-badge.svg\" alt=\"Open In Colab\"/></a>"
      ]
    },
    {
      "cell_type": "markdown",
      "metadata": {
        "id": "BtI5uGJTGbFc"
      },
      "source": [
        "# 在 Google Colab 中設定與使用 gemini-cli\n",
        "這份筆記本將引導您如何在 Google Colab 環境中，透過幾個簡單的步驟設定並開始使用 `gemini-cli`。"
      ]
    },
    {
      "cell_type": "markdown",
      "metadata": {
        "id": "dMltzdKmGbFd"
      },
      "source": [
        "## 步驟一：安裝 gemini-cli"
      ]
    },
    {
      "cell_type": "code",
      "execution_count": null,
      "metadata": {
        "id": "Znw_Wpu-GbFd"
      },
      "outputs": [],
      "source": [
        "!pip install -q gemini-cli"
      ]
    },
    {
      "cell_type": "markdown",
      "metadata": {
        "id": "XKZBkYLDGbFe"
      },
      "source": [
        "## 步驟二：設定 API 金鑰\n",
        "為了使用 Gemini API，您需要一組 API 金鑰。請依照以下步驟設定：\n",
        "1. 前往 [Google AI Studio](https://aistudio.google.com/app/apikey) 取得您的 API 金鑰。\n",
        "2. 在 Colab 的左側面板中，點擊「金鑰」圖示。\n",
        "3. 新增一個名為 `GEMINI_API_KEY` ��密鑰，並將您的 API 金鑰貼上為其值。"
      ]
    },
    {
      "cell_type": "code",
      "execution_count": null,
      "metadata": {
        "id": "SH11vUnnGbFe"
      },
      "outputs": [],
      "source": [
        "import os\n",
        "from google.colab import userdata\n",
        "\n",
        "try:\n",
        "    os.environ['GEMINI_API_KEY'] = userdata.get('GEMINI_API_KEY')\n",
        "except userdata.SecretNotFoundError as e:\n",
        "    print('Secret not found. Please set the GEMINI_API_KEY secret in Colab.')"
      ]
    },
    {
      "cell_type": "markdown",
      "metadata": {
        "id": "1teiR2qwGbFe"
      },
      "source": [
        "## 步驟三：測試 gemini-cli"
      ]
    },
    {
      "cell_type": "code",
      "execution_count": null,
      "metadata": {
        "colab": {
          "base_uri": "https://localhost:8080/"
        },
        "id": "5LiWOy9aGbFe",
        "outputId": "8544c90d-341d-425f-fb27-7591cf26b2db"
      },
      "outputs": [
        {
          "output_type": "stream",
          "name": "stdout",
          "text": [
            "Options:\n",
            "  -m, --model                    Model      [string] [default: \"gemini-2.5-pro\"]\n",
            "  -p, --prompt                   Prompt. Appended to input on stdin (if any).\n",
            "                                                                        [string]\n",
            "  -s, --sandbox                  Run in sandbox?                       [boolean]\n",
            "      --sandbox-image            Sandbox image URI.                     [string]\n",
            "  -d, --debug                    Run in debug mode?   [boolean] [default: false]\n",
            "  -a, --all_files                Include ALL files in context?\n",
            "                                                      [boolean] [default: false]\n",
            "      --show_memory_usage        Show memory usage in status bar\n",
            "                                                      [boolean] [default: false]\n",
            "  -y, --yolo                     Automatically accept all actions (aka YOLO\n",
            "                                 mode, see\n",
            "                                 https://www.youtube.com/watch?v=xvFZjo5PgG0 for\n",
            "                                 more details)?       [boolean] [default: false]\n",
            "      --telemetry                Enable telemetry? This flag specifically\n",
            "                                 controls if telemetry is sent. Other\n",
            "                                 --telemetry-* flags set specific values but do\n",
            "                                 not enable telemetry on their own.    [boolean]\n",
            "      --telemetry-target         Set the telemetry target (local or gcp).\n",
            "                                 Overrides settings files.\n",
            "                                              [string] [choices: \"local\", \"gcp\"]\n",
            "      --telemetry-otlp-endpoint  Set the OTLP endpoint for telemetry. Overrides\n",
            "                                 environment variables and settings files.\n",
            "                                                                        [string]\n",
            "      --telemetry-log-prompts    Enable or disable logging of user prompts for\n",
            "                                 telemetry. Overrides settings files.  [boolean]\n",
            "  -c, --checkpointing            Enables checkpointing of file edits\n",
            "                                                      [boolean] [default: false]\n",
            "  -v, --version                  Show version number                   [boolean]\n",
            "  -h, --help                     Show help                             [boolean]\n"
          ]
        }
      ],
      "source": [
        "!gemini --help"
      ]
    },
    {
      "cell_type": "markdown",
      "metadata": {
        "id": "xlIrea1rGbFf"
      },
      "source": [
        "## 步驟四：開始使用\n",
        "現在您可以開始使用 `gemini-cli` 與 Gemini 模型互動了。例如，問一個簡單的問題："
      ]
    },
    {
      "cell_type": "code",
      "execution_count": null,
      "metadata": {
        "colab": {
          "base_uri": "https://localhost:8080/"
        },
        "id": "-i31vXmFGbFf",
        "outputId": "0b27dbe2-7b23-49b3-cc8a-fee4c7d135d7"
      },
      "outputs": [
        {
          "output_type": "stream",
          "name": "stdout",
          "text": [
            "2\n"
          ]
        }
      ],
      "source": [
        "!gemini -p '1+1='"
      ]
    },
    {
      "cell_type": "code",
      "source": [
        "!gemini -y -p '在此目錄建立一份有關在colab建立ploty的教學，教學檔案使用.ipynb檔，之後會將此利用colab分享教學，目錄為@/content/drive/MyDrive/Teaching/勞工大學/114Py-GPT-DA/教材'"
      ],
      "metadata": {
        "colab": {
          "base_uri": "https://localhost:8080/"
        },
        "id": "k_-29oxbKmqn",
        "outputId": "bae50f40-f18f-4be9-bd1e-26de820dc985"
      },
      "execution_count": null,
      "outputs": [
        {
          "output_type": "stream",
          "name": "stdout",
          "text": [
            "好的，我將為您在指定目錄中建立一個關於在 Colab 中使用 Plotly 的教學 Jupyter Notebook。\n",
            "\n",
            "首先，我將建立目標目錄。I will now create the directory `/content/drive/MyDrive/Teaching/勞工大學/114Py-GPT-DA/教材` to store the tutorial notebook.好的，目錄已建立。\n",
            "\n",
            "接下來，我將建立一個名為 `Plotly_in_Colab_Tutorial.ipynb` 的 Jupyter Notebook 檔案，並填入教學內容。I will now create the tutorial notebook file with Plotly examples.檔案 `Plotly_in_Colab_Tutorial.ipynb` 已成功建立於您指定的目錄 `/content/drive/MyDrive/Teaching/勞工大學/114Py-GPT-DA/教材/`。\n",
            "\n",
            "您可以直接在 Colab 中開啟此檔案，執行其中的程式碼，並將其分享給您的學員。\n"
          ]
        }
      ]
    },
    {
      "cell_type": "markdown",
      "source": [
        "- 實作成果 [Plotly_in_Colab_Tutorial](https://colab.research.google.com/drive/1mZG68QYRkFWqAjqloExY8wOoZ1RC9kGq?pli=1&usp=drive_fs#scrollTo=HhaPjuJCLzUw)"
      ],
      "metadata": {
        "id": "mj-sp3u4OTYP"
      }
    }
  ],
  "metadata": {
    "colab": {
      "provenance": [],
      "include_colab_link": true
    },
    "kernelspec": {
      "display_name": "Python 3",
      "name": "python3"
    },
    "language_info": {
      "name": "python"
    }
  },
  "nbformat": 4,
  "nbformat_minor": 0
}