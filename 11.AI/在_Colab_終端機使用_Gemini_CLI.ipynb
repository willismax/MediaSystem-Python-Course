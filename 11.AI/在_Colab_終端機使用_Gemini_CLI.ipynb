{
  "nbformat": 4,
  "nbformat_minor": 0,
  "metadata": {
    "colab": {
      "provenance": [],
      "mount_file_id": "1_51gSs-x5fwzsVOD1O9bnKnKBQtHjedO",
      "authorship_tag": "ABX9TyMZAj2Eh/npMsgohGcevcJa",
      "include_colab_link": true
    },
    "kernelspec": {
      "name": "python3",
      "display_name": "Python 3"
    },
    "language_info": {
      "name": "python"
    }
  },
  "cells": [
    {
      "cell_type": "markdown",
      "metadata": {
        "id": "view-in-github",
        "colab_type": "text"
      },
      "source": [
        "<a href=\"https://colab.research.google.com/github/willismax/MediaSystem-Python-Course/blob/main/11.AI/%E5%9C%A8_Colab_%E7%B5%82%E7%AB%AF%E6%A9%9F%E4%BD%BF%E7%94%A8_Gemini_CLI.ipynb\" target=\"_parent\"><img src=\"https://colab.research.google.com/assets/colab-badge.svg\" alt=\"Open In Colab\"/></a>"
      ]
    },
    {
      "cell_type": "markdown",
      "source": [
        "# 在 Colab 使用 Gemini CLI"
      ],
      "metadata": {
        "id": "AvqmOGscxp_V"
      }
    },
    {
      "cell_type": "markdown",
      "source": [
        "![image](https://hackmd.io/_uploads/HJpQlcuBgg.png)\n"
      ],
      "metadata": {
        "id": "kN5cpOJPNjGY"
      }
    },
    {
      "cell_type": "markdown",
      "source": [
        "Google Colab 提供了一個免費且強大的雲端計算環境，非常適合進行機器學習實驗和程式開發。Gemini CLI (命令列介面) 則讓您能透過簡單的指令與強大的 Gemini\n",
        "  模型互動。將兩者結合，您就可以在 Colab 中輕鬆完成程式碼生成、文本分析、檔案總結等各種任務。\n",
        "\n",
        "\n",
        "  這篇教學將帶您一步步完成設定，並透過幾個實用範例，展示 Gemini CLI 的強大功能。\n",
        "\n",
        "\n",
        "  "
      ],
      "metadata": {
        "id": "jNf6e-dz5brp"
      }
    },
    {
      "cell_type": "markdown",
      "source": [
        "## 在 Colab 使用的好處\n",
        "- Colab 可以雲端使用\n",
        "- 在 Colab 開啟的 Gemini CLI 已經安裝，只要在終端機執行`gemini`即可開始使用\n",
        "- 使用`gemini -y`指令進入，即可享受YOLO模式輕鬆用。\n",
        "- Colab 可以掛載自己的雲端硬碟，功能無限延伸!"
      ],
      "metadata": {
        "id": "oAtJg6VAF_fW"
      }
    },
    {
      "cell_type": "markdown",
      "source": [
        "## 前置需求\n",
        "\n",
        "\n",
        "1. 一個 Google 帳號。\n",
        "2. 前往 [Google AI Studio](https://aistudio.google.com/app/apikey)\n",
        "  取得您的 API 金鑰。\n",
        "3. 上方需要一個 Google Cloud Platform (GCP) 專案。如果您沒有，可以[點此免費建立](https://console.cloud.google.com/projectcreate)。\n",
        "\n",
        "## 收費及隱私\n",
        "- 如果用選項1 Google 帳戶登入，Colab無法開啟OAuth網頁介面，需要額外設定暫不推薦。\n",
        "- 如果用選項2 API 登入，用以下方法可以結合 Colab 的功能，簡易設定好 `.env`。\n",
        "- 如果用選項3 以 Vertx API 登入表示用 GCP 的專業戶，這篇教學將以選項2為主。"
      ],
      "metadata": {
        "id": "6-1QYv_vEaTb"
      }
    },
    {
      "cell_type": "markdown",
      "source": [
        "## 步驟2 :完成環境設定"
      ],
      "metadata": {
        "id": "k5iQY4zWBsw4"
      }
    },
    {
      "cell_type": "markdown",
      "source": [
        "在 [Google AI Studio](https://aistudio.google.com/app/apikey) 取得您的 API 金鑰，將 GEMINI_API_KEY 置換於終端機環境的`.env`檔案裡。\n",
        "\n"
      ],
      "metadata": {
        "id": "ljYLh-S27NYL"
      }
    },
    {
      "cell_type": "code",
      "source": [
        "# 建立具有 GEMINI_API_KEY 參數的 .env\n",
        "from google.colab import userdata\n",
        "!echo 'GEMINI_API_KEY={userdata.get(\"GEMINI_API_KEY\")}' > .env"
      ],
      "metadata": {
        "id": "uf9KAsOhEDod"
      },
      "execution_count": null,
      "outputs": []
    },
    {
      "cell_type": "markdown",
      "source": [
        "## 步驟3: 開啟 Colab 終端機的 2 個方法\n"
      ],
      "metadata": {
        "id": "1LSNbFz327s5"
      }
    },
    {
      "cell_type": "markdown",
      "source": [
        "- 方法1: 可以在 Colab 介面左下方開啟終端機(先前是 Colab Pro用戶限定)\n"
      ],
      "metadata": {
        "id": "S1l-4asa_C9J"
      }
    },
    {
      "cell_type": "markdown",
      "source": [
        "- 方法2: 免費使用者也可以輸入以下指令開啟終端機"
      ],
      "metadata": {
        "id": "C_Vx_9Bi_HA0"
      }
    },
    {
      "cell_type": "code",
      "source": [
        "!pip install -q colab-xterm\n",
        "%load_ext colabxterm\n",
        "%xterm"
      ],
      "metadata": {
        "id": "cew9a_2u3VcL"
      },
      "execution_count": null,
      "outputs": []
    },
    {
      "cell_type": "markdown",
      "source": [
        "- 方法3. 直接在 Colab 使用"
      ],
      "metadata": {
        "id": "0zN0z5LHeIRu"
      }
    },
    {
      "cell_type": "code",
      "source": [
        "!pip install -q gemini-cli"
      ],
      "metadata": {
        "id": "kSelUiSVeShz"
      },
      "execution_count": null,
      "outputs": []
    },
    {
      "cell_type": "code",
      "source": [
        "import os\n",
        "from google.colab import userdata\n",
        "\n",
        "try:\n",
        "    os.environ['GEMINI_API_KEY'] = userdata.get('GEMINI_API_KEY')\n",
        "except userdata.SecretNotFoundError as e:\n",
        "    print('Secret not found. Please set the GEMINI_API_KEY secret in Colab.')"
      ],
      "metadata": {
        "id": "e0_etU8neVQu"
      },
      "execution_count": null,
      "outputs": []
    },
    {
      "cell_type": "code",
      "source": [
        "!gemini --help"
      ],
      "metadata": {
        "id": "iibmT68_ecLh"
      },
      "execution_count": null,
      "outputs": []
    },
    {
      "cell_type": "markdown",
      "source": [
        "## 步驟4: 輸入 gemini 開始執行\n",
        "- 終端機輸入`gemini`即可進入 Gemini CLI 開始執行。\n",
        "- 終端機輸入`gemini -y`即可進入 Gemini CLI 進入 YOLO 模式。\n"
      ],
      "metadata": {
        "id": "MKW23x_GTaDo"
      }
    },
    {
      "cell_type": "markdown",
      "source": [
        "### 範例\n",
        "- 請製作教材\n",
        "```\n",
        "在此目錄建立一份有關在colab建立gemini_cli的教學，教學檔案使用.ipynb檔，之後會\n",
        "  將此利用colab分享教學，目錄為@/content/..../台中科大/教材\n",
        "```\n",
        "- 實作成果: [不用終端機，直接在 Colab 使用 Gemini CLI 的方法](https://colab.research.google.com/drive/13TxGzOHssxN1VLmctAHZHhGMvYhC2KxI#scrollTo=BtI5uGJTGbFc)"
      ],
      "metadata": {
        "id": "T7Kw4HNkJ0Lr"
      }
    },
    {
      "cell_type": "markdown",
      "source": [
        "## 同場加映:\n",
        "\n",
        "\n",
        "\n",
        "\n"
      ],
      "metadata": {
        "id": "Lqc2L7mnQvsH"
      }
    },
    {
      "cell_type": "markdown",
      "source": [
        "### 1. 終端機太醜? 沒有中文顯示? 在終端機輸入以下指令\n",
        "```\n",
        "export LANG=C.UTF-8\n",
        "export LC_ALL=C.UTF-8\n",
        "export TERM=xterm-256color\n",
        "export COLORTERM=truecolor\n",
        "```"
      ],
      "metadata": {
        "id": "XRwgApLK6yUP"
      }
    },
    {
      "cell_type": "markdown",
      "source": [
        "### 2. 防止閒置超時的 Javascript 技巧：\n",
        "\n",
        "你可以在瀏覽器的開發者工具 (F12) 的主控台 (Console) 中貼上一段 JavaScript 程式碼，讓它每隔一段時間模擬點擊 Colab 頁面，欺騙閒置計時器。\n",
        "- 優點：簡單、能有效防止閒置超時。\n",
        "- 缺點：無法繞過 12 小時的最大時長限制，且你的電腦和瀏覽器必須一直開著。\n",
        "\n",
        "\n",
        "範例程式碼（每 60 秒點擊一次連線按鈕）：\n",
        "\n",
        "```javascript\n",
        "function ClickConnect(){\n",
        "  console.log(\"Working on the prevention of disconnection\");\n",
        "  document.querySelector(\"colab-connect-button\").click()\n",
        "}\n",
        "setInterval(ClickConnect, 60000)\n",
        "```\n",
        "\n"
      ],
      "metadata": {
        "id": "ZLZymxHFR-kZ"
      }
    },
    {
      "cell_type": "markdown",
      "source": [
        "### 3.使用 Google Drive 掛載來保存進度：\n",
        "\n",
        "這是最常用也最重要的方法。對於長時間的任務（特別是模型訓練），你必須定期將結果（如模型權重、日誌檔案）保存到掛載的 Google Drive。\n",
        "\n",
        "- 優點：即使 Colab 中斷了，你的進度也保存在雲端硬碟。下次重新連線後，可以從上次的存檔點繼續執行，而不是從頭開始。\n",
        "- 缺點：需要撰寫額外的存檔/讀取邏輯。\n",
        "\n",
        "\n",
        "範例：\n",
        "```python\n",
        "from google.colab import drive\n",
        "drive.mount('/content/drive')\n",
        "\n",
        "# 假設每訓練 10 個 epoch 就保存一次模型\n",
        "for epoch in range(num_epochs):\n",
        "  # ... 訓練過程 ...\n",
        "  if (epoch + 1) % 10 == 0:\n",
        "    model.save_weights(f'/content/drive/MyDrive/my_models/epoch_{epoch+1}.weights.h5')\n",
        "    print(f\"Epoch {epoch+1} model saved.\")\n",
        "```\n",
        "\n"
      ],
      "metadata": {
        "id": "o5CRoMx6R5Ug"
      }
    }
  ]
}