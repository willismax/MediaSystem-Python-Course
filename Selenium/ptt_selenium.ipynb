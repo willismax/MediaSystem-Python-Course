{
 "cells": [
  {
   "cell_type": "markdown",
   "metadata": {},
   "source": [
    "## Install a Selenium "
   ]
  },
  {
   "cell_type": "code",
   "execution_count": null,
   "metadata": {},
   "outputs": [],
   "source": [
    "!pip install selenium"
   ]
  },
  {
   "cell_type": "code",
   "execution_count": null,
   "metadata": {},
   "outputs": [],
   "source": [
    "!pip install bs4"
   ]
  },
  {
   "cell_type": "markdown",
   "metadata": {},
   "source": [
    "## install webdriver\n",
    "- https://www.selenium.dev/documentation/webdriver/getting_started/install_drivers/\n",
    "- 下載跟您電腦對應的webdriver，像是目前教學時是108版 https://chromedriver.chromium.org/downloads\n",
    "- webdriver解壓縮放在指定目錄"
   ]
  },
  {
   "cell_type": "code",
   "execution_count": 3,
   "metadata": {},
   "outputs": [
    {
     "name": "stderr",
     "output_type": "stream",
     "text": [
      "C:\\Users\\WiixA\\AppData\\Local\\Temp\\ipykernel_21296\\1507535415.py:16: DeprecationWarning: use options instead of chrome_options\n",
      "  wd = webdriver.Chrome('chromedriver',chrome_options=chrome_options)\n"
     ]
    },
    {
     "name": "stdout",
     "output_type": "stream",
     "text": [
      "[{'title': 'Re: [討論] 《變形金剛：萬獸崛起》首支前導預告', 'href': 'https://www.ptt.cc/bbs/movie/M.1669973555.A.D5C.html'}, {'title': 'Re: [好爽雷] 《暴戾夜》爽快、血腥、溫馨', 'href': 'https://www.ptt.cc/bbs/movie/M.1669973650.A.126.html'}, {'title': '[好雷] 五星饗魘 - 幽默諷刺兼具的佳作 ', 'href': 'https://www.ptt.cc/bbs/movie/M.1669978757.A.17F.html'}, {'title': '[ 大負雷] 決戰38度線', 'href': 'https://www.ptt.cc/bbs/movie/M.1669984655.A.514.html'}, {'title': '[問片] 特異功能偷腎的片子', 'href': 'https://www.ptt.cc/bbs/movie/M.1669984735.A.07D.html'}, {'title': '[好雷] 初戀的極限與永恆：《以你的名字呼喚我 ', 'href': 'https://www.ptt.cc/bbs/movie/M.1669985745.A.D86.html'}, {'title': '[普雷]《通往夏天的隧道，再見的出口》，重獲愛 ', 'href': 'https://www.ptt.cc/bbs/movie/M.1669986667.A.747.html'}, {'title': '[無雷] 超好看！！梵天神器 滅世開端', 'href': 'https://www.ptt.cc/bbs/movie/M.1669987051.A.EAA.html'}, {'title': '[討論] 手塚治虫迷幻少女 iTunes 特價中', 'href': 'https://www.ptt.cc/bbs/movie/M.1669987067.A.56A.html'}]\n"
     ]
    }
   ],
   "source": [
    "#@title 以 Selenium 搜尋 PTT 指定列表\n",
    "\n",
    "from selenium import webdriver\n",
    "from selenium.webdriver.support.ui import WebDriverWait\n",
    "from selenium.webdriver.support import expected_conditions\n",
    "from selenium.webdriver.common.by import By\n",
    "from bs4 import BeautifulSoup\n",
    "import sys\n",
    "\n",
    "sys.path.insert(0,'chromedriver')\n",
    "\n",
    "chrome_options = webdriver.ChromeOptions()\n",
    "# chrome_options.add_argument('--headless') # 成為無頭模式\n",
    "chrome_options.add_argument('--no-sandbox')\n",
    "chrome_options.add_argument('--disable-dev-shm-usage')\n",
    "wd = webdriver.Chrome('chromedriver',chrome_options=chrome_options)\n",
    "url ='https://www.ptt.cc/bbs/movie/index.html'\n",
    "wd.get(url)\n",
    "\n",
    "elem = wd.find_element(By.CLASS_NAME,\"title\")\n",
    "# print(elem.text)\n",
    "\n",
    "#beautifulsoup解析\n",
    "soup = BeautifulSoup(wd.page_source,\"html.parser\")\n",
    "links = soup.select('div.title > a')\n",
    "\n",
    "# title = [ link.get_text() for link in links if '板規' not in link.get_text()]\n",
    "# href = [ f'https://www.ptt.cc{link.get(\"href\")}' for link in links ]\n",
    "\n",
    "res = [{\n",
    "    'title': link.get_text(),\n",
    "    'href': f'https://www.ptt.cc{link.get(\"href\")}'\n",
    "} for link in links if '板規' not in link.get_text() ]\n",
    "\n",
    "print(res)\n",
    "wd.close()"
   ]
  }
 ],
 "metadata": {
  "kernelspec": {
   "display_name": "Python 3.9.13 64-bit",
   "language": "python",
   "name": "python3"
  },
  "language_info": {
   "codemirror_mode": {
    "name": "ipython",
    "version": 3
   },
   "file_extension": ".py",
   "mimetype": "text/x-python",
   "name": "python",
   "nbconvert_exporter": "python",
   "pygments_lexer": "ipython3",
   "version": "3.9.13"
  },
  "orig_nbformat": 4,
  "vscode": {
   "interpreter": {
    "hash": "30e885505460fe2bd3e8d06b055622cb5488effccc056204a7cdd4d0f9ed2b6f"
   }
  }
 },
 "nbformat": 4,
 "nbformat_minor": 2
}
