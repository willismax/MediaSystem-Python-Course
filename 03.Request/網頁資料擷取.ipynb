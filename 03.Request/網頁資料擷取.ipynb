{
  "cells": [
    {
      "cell_type": "markdown",
      "metadata": {
        "id": "0bxcSKyjgZtB"
      },
      "source": [
        "# 爬蟲-網頁資料擷取"
      ]
    },
    {
      "cell_type": "markdown",
      "metadata": {
        "id": "VVxE3EyttF8k"
      },
      "source": [
        "- 擷取網頁用 [`requests`](https://docs.python-requests.org/en/latest/) 模組\n",
        "  - requests.get()\n",
        "  - requests.post()\n",
        "- 解析網頁用 [`beautiful Soup`](https://www.crummy.com/software/BeautifulSoup/bs4/doc.zh/) 模組\n",
        "  - soup.find()\n",
        "  - soup.find_all()\n",
        "  - soup.select()"
      ]
    },
    {
      "cell_type": "markdown",
      "metadata": {
        "id": "1cetpFdf0LVF"
      },
      "source": [
        "# Requests"
      ]
    },
    {
      "cell_type": "markdown",
      "metadata": {
        "id": "dYrMNwEeAvvx"
      },
      "source": [
        "### Requests常用狀態描述\n",
        "- `response.status_code`\n",
        "  - 200 OK\n",
        "  - 403 Forbidden （禁止）\n",
        "  - 404 Not Found\n",
        "- `response.encoding`\n",
        "  - 如果是中文網站要特別注意編碼的問題\n",
        "  - 常用編碼UTF-8，windows可能會遇到CP950、Big5等編碼問題\n",
        "- `response.text`\n",
        "  - 目標網頁的HTML文字，即被Tag包起來的內文(目標資訊）\n",
        "- `request.json()`\n",
        "  - 目標為JSON的話，可以解析為Python的list與dict\n"
      ]
    },
    {
      "cell_type": "markdown",
      "metadata": {
        "id": "nCbQZOMfFxBH"
      },
      "source": [
        "- 可從文件學習，搭配[requests官方文件quickstart服用](https://requests.readthedocs.io/en/latest/user/quickstart/)!!"
      ]
    },
    {
      "cell_type": "markdown",
      "metadata": {
        "id": "sbc61gdWJ6n1"
      },
      "source": [
        "### 檢查連線資訊"
      ]
    },
    {
      "cell_type": "code",
      "execution_count": null,
      "metadata": {
        "id": "vjvtq8j_aDVo"
      },
      "outputs": [],
      "source": [
        "import requests\n",
        "\n",
        "url=\"https://api.github.com/events\"\n",
        "r = requests.get(url)\n",
        "\n",
        "r.json()"
      ]
    },
    {
      "cell_type": "code",
      "execution_count": null,
      "metadata": {
        "id": "b-7VKFGVX6_b"
      },
      "outputs": [],
      "source": [
        "# 連線狀態\n",
        "r.status_code"
      ]
    },
    {
      "cell_type": "code",
      "execution_count": null,
      "metadata": {
        "id": "NYPGaXq4HiUr"
      },
      "outputs": [],
      "source": [
        "# 編碼\n",
        "r.encoding"
      ]
    },
    {
      "cell_type": "code",
      "execution_count": null,
      "metadata": {
        "id": "zQoFf4orT7u2"
      },
      "outputs": [],
      "source": [
        "# 內容\n",
        "r.content"
      ]
    },
    {
      "cell_type": "code",
      "execution_count": null,
      "metadata": {
        "id": "R9sIOw-fXyvB"
      },
      "outputs": [],
      "source": [
        "# 連線的錯誤訊息(正確連線則無)\n",
        "r.raise_for_status()"
      ]
    },
    {
      "cell_type": "code",
      "execution_count": null,
      "metadata": {
        "id": "w_eVG_e8ZLHB"
      },
      "outputs": [],
      "source": [
        "# cookies\n",
        "r.cookies"
      ]
    },
    {
      "cell_type": "code",
      "execution_count": null,
      "metadata": {
        "id": "nzr2Gz9CdPcZ"
      },
      "outputs": [],
      "source": [
        "# header (HTTP 標頭名稱不區分大小寫。)\n",
        "r.headers"
      ]
    },
    {
      "cell_type": "code",
      "execution_count": null,
      "metadata": {
        "id": "KaznVFfKdTe9"
      },
      "outputs": [],
      "source": [
        "r.headers['Content-Type']"
      ]
    },
    {
      "cell_type": "markdown",
      "metadata": {
        "id": "4PO-DgdV4Avk"
      },
      "source": [
        "- Request讀取影音圖片檔案(二進位制)的方式"
      ]
    },
    {
      "cell_type": "markdown",
      "metadata": {
        "id": "yIGVirc5JscG"
      },
      "source": [
        "### 快速認識`GET`、`POST`、`PUT`、`DELETE`"
      ]
    },
    {
      "cell_type": "code",
      "execution_count": null,
      "metadata": {
        "id": "p2aTkURA1cEE"
      },
      "outputs": [],
      "source": [
        "!curl -X GET \"https://api.github.com/events\""
      ]
    },
    {
      "cell_type": "code",
      "execution_count": null,
      "metadata": {
        "id": "V9ibgeIVs5ES"
      },
      "outputs": [],
      "source": [
        "# GET\n",
        "r = requests.get('https://httpbin.org/get')\n",
        "r.json()"
      ]
    },
    {
      "cell_type": "code",
      "execution_count": null,
      "metadata": {
        "id": "Ik3sWzjNOvvz"
      },
      "outputs": [],
      "source": [
        "# POST\n",
        "r = requests.post('https://httpbin.org/post', data={'key': 'value'})\n",
        "r.json()"
      ]
    },
    {
      "cell_type": "code",
      "execution_count": null,
      "metadata": {
        "id": "p1_2behXO5FB"
      },
      "outputs": [],
      "source": [
        "# PUT\n",
        "r = requests.put('https://httpbin.org/put', data={'key': 'value2'})\n",
        "r.json()"
      ]
    },
    {
      "cell_type": "code",
      "execution_count": null,
      "metadata": {
        "id": "1OCPVTtUPA-L"
      },
      "outputs": [],
      "source": [
        "# DELETE\n",
        "r = requests.delete('https://httpbin.org/delete')\n",
        "r.json()"
      ]
    },
    {
      "cell_type": "code",
      "execution_count": null,
      "metadata": {
        "id": "OSPrfhvDONxz"
      },
      "outputs": [],
      "source": [
        "r.text"
      ]
    },
    {
      "cell_type": "markdown",
      "metadata": {
        "id": "7P_uTgisJzKX"
      },
      "source": [
        "### `GET`，以及增加參數的方式"
      ]
    },
    {
      "cell_type": "code",
      "execution_count": null,
      "metadata": {
        "id": "nu5-xEIpQOq2"
      },
      "outputs": [],
      "source": [
        "!curl -X GET \"https://httpbin.org/get?k1=v1&k2=v2\""
      ]
    },
    {
      "cell_type": "code",
      "execution_count": null,
      "metadata": {
        "id": "I-AWDMjlFnR1"
      },
      "outputs": [],
      "source": [
        "import requests\n",
        "\n",
        "payload = {'k1': 'v1', 'k2': 'v2'}\n",
        "r = requests.get('https://httpbin.org/get', params=payload)\n",
        "print(r.url)"
      ]
    },
    {
      "cell_type": "code",
      "execution_count": null,
      "metadata": {
        "id": "dlVsV0zK2G7y"
      },
      "outputs": [],
      "source": [
        "# GET的參數會接在URL後面，還記得HW2嗎?\n",
        "import requests\n",
        "\n",
        "payload  = {\"api\":\"1\", \"map_action\":\"map\", \"zoom\":\"16\", \"query\":\"24.149660,120.684166\"}\n",
        "r = requests.get('https://www.google.com/maps/search/', params=payload )\n",
        "print(r.url)"
      ]
    },
    {
      "cell_type": "markdown",
      "metadata": {
        "id": "iixUXQhO4JEY"
      },
      "source": [
        "- `Request.get`大型檔案的方式，，`圖片、影音檔案、二進位制bin檔可用"
      ]
    },
    {
      "cell_type": "code",
      "execution_count": null,
      "metadata": {
        "id": "dhHbSzOiJgbv"
      },
      "outputs": [],
      "source": [
        "# 來源: https://stackoverflow.com/questions/16694907/download-large-file-in-python-with-requests\n",
        "import requests\n",
        "\n",
        "def download_file(url):\n",
        "  \"\"\"下載檔案，檔名為url.split('/')[-1]\"\"\"\n",
        "  local_filename = url.split('/')[-1]\n",
        "  with requests.get(url, stream=True) as r:\n",
        "      r.raise_for_status()\n",
        "      with open(local_filename, 'wb') as f:\n",
        "          for chunk in r.iter_content(chunk_size=8192):\n",
        "              f.write(chunk)\n",
        "  return local_filename\n",
        "\n",
        "if __name__=='__main__':\n",
        "  download_file(\"https://api.github.com/events\")"
      ]
    },
    {
      "cell_type": "markdown",
      "metadata": {
        "id": "nmhi4-huOaY-"
      },
      "source": [
        "### `POST`，帶有data的 POST 請求"
      ]
    },
    {
      "cell_type": "code",
      "execution_count": null,
      "metadata": {
        "id": "Rcijz6DGbhCn"
      },
      "outputs": [],
      "source": [
        "!curl -X POST -d \"key1=value1&key2=value2\" \"https://httpbin.org/post\""
      ]
    },
    {
      "cell_type": "code",
      "execution_count": null,
      "metadata": {
        "id": "iBWutafvOem9"
      },
      "outputs": [],
      "source": [
        "import requests\n",
        "\n",
        "payload = {'key1': 'value1', 'key2': 'value2'}\n",
        "r = requests.post(\"https://httpbin.org/post\", data=payload)\n",
        "\n",
        "print(r.text)"
      ]
    },
    {
      "cell_type": "markdown",
      "metadata": {
        "id": "NPOmQawd56bK"
      },
      "source": [
        "- `payload_tuples`與`payload_dict`用法，以下兩者相同"
      ]
    },
    {
      "cell_type": "code",
      "execution_count": null,
      "metadata": {
        "id": "cO3IjjoyOpNe"
      },
      "outputs": [],
      "source": [
        "import requests\n",
        "\n",
        "payload_tuples = [('key1', 'value1'), ('key1', 'value2')]\n",
        "requests.post('https://httpbin.org/post', data=payload_tuples).json()"
      ]
    },
    {
      "cell_type": "code",
      "execution_count": null,
      "metadata": {
        "id": "kwI0rdHt4vuM"
      },
      "outputs": [],
      "source": [
        "import requests\n",
        "\n",
        "payload_dict = {'key1': ['value1', 'value2']}\n",
        "requests.post('https://httpbin.org/post', data=payload_dict).json()"
      ]
    },
    {
      "cell_type": "markdown",
      "metadata": {
        "id": "n1uIbe94Pjmb"
      },
      "source": [
        "-  `post(url, data=None, json=None, **kwargs)`，以下示範參數放dict轉json或直接json\n"
      ]
    },
    {
      "cell_type": "code",
      "execution_count": null,
      "metadata": {
        "id": "snYNC7nPPfwU"
      },
      "outputs": [],
      "source": [
        "import json\n",
        "\n",
        "url = 'https://httpbin.org/post'\n",
        "payload = {'some': 'data'}\n",
        "\n",
        "# 以下兩種相同\n",
        "r = requests.post(url, data=json.dumps(payload))\n",
        "r = requests.post(url, json=payload)\n",
        "\n",
        "r.json()"
      ]
    },
    {
      "cell_type": "markdown",
      "metadata": {
        "id": "95RouNSnoAkj"
      },
      "source": [
        "- 加入`Cookies`"
      ]
    },
    {
      "cell_type": "code",
      "execution_count": null,
      "metadata": {
        "id": "IW1QYKaLoBvk"
      },
      "outputs": [],
      "source": [
        "url = 'http://www.google.com'\n",
        "r = requests.get(url)\n",
        "r.cookies"
      ]
    },
    {
      "cell_type": "code",
      "execution_count": null,
      "metadata": {
        "id": "RdbxuU1G2dWK"
      },
      "outputs": [],
      "source": [
        "!curl --cookie \"my_cookie=\" https://httpbin.org/cookies"
      ]
    },
    {
      "cell_type": "code",
      "execution_count": null,
      "metadata": {
        "id": "6JyzrAU8poBV"
      },
      "outputs": [],
      "source": [
        "url = 'https://httpbin.org/cookies'\n",
        "cookies = dict(cookies_are='working')\n",
        "r = requests.get(url, cookies=cookies)\n",
        "r.json()"
      ]
    },
    {
      "cell_type": "markdown",
      "metadata": {
        "id": "J3fahI50tvfq"
      },
      "source": [
        "- Timeouts"
      ]
    },
    {
      "cell_type": "code",
      "execution_count": null,
      "metadata": {
        "id": "WpIhTGGhtwly"
      },
      "outputs": [],
      "source": [
        "requests.get('https://github.com/', timeout=0.001)"
      ]
    },
    {
      "cell_type": "markdown",
      "metadata": {
        "id": "iodaXDy83xtV"
      },
      "source": [
        "## `GET` example網頁為例"
      ]
    },
    {
      "cell_type": "markdown",
      "metadata": {
        "id": "RKprYoPf31yH"
      },
      "source": [
        "\n",
        "- 先觀察目標網頁: http://www.example.com/\n",
        "- 以`requests.get`抓取網頁原始碼，並輸出結果\n",
        "- 這個階段有抓到網頁就大功告成了!"
      ]
    },
    {
      "cell_type": "code",
      "execution_count": null,
      "metadata": {
        "id": "3GFnb4ACf3ad"
      },
      "outputs": [],
      "source": [
        "import requests\n",
        "\n",
        "url = 'http://www.example.com/'\n",
        "response = requests.get(url)\n",
        "print(response.text)"
      ]
    },
    {
      "cell_type": "code",
      "execution_count": null,
      "metadata": {
        "id": "p0YRPSyeSPp6"
      },
      "outputs": [],
      "source": [
        "dir(requests)"
      ]
    },
    {
      "cell_type": "code",
      "execution_count": null,
      "metadata": {
        "id": "36Qif3AdSexz"
      },
      "outputs": [],
      "source": [
        "response.status_code"
      ]
    },
    {
      "cell_type": "code",
      "execution_count": null,
      "metadata": {
        "id": "6rmZASQ0H5Li"
      },
      "outputs": [],
      "source": [
        "response.encoding"
      ]
    },
    {
      "cell_type": "markdown",
      "metadata": {
        "id": "7bIWlzMJd_PJ"
      },
      "source": [
        "## `POST` [台灣高鐵訂票](https://www.thsrc.com.tw/ArticleContent/a3b630bb-1066-4352-a1ef-58c7b4e8ef7c)為例"
      ]
    },
    {
      "cell_type": "code",
      "execution_count": null,
      "metadata": {
        "id": "-dCp9XUzeHjV"
      },
      "outputs": [],
      "source": [
        "import requests\n",
        "\n",
        "url= 'https://www.thsrc.com.tw/TimeTable/Search'\n",
        "\n",
        "data={\n",
        "    'SearchType': 'S',\n",
        "    'Lang': 'TW',\n",
        "    'StartStation': 'NanGang',\n",
        "    'EndStation': 'ZuoYing',\n",
        "    'OutWardSearchDate': '2022/11/05',\n",
        "    'OutWardSearchTime': '16:00',\n",
        "    'ReturnSearchDate': '2022/11/05',\n",
        "    'ReturnSearchTime': '16:00',\n",
        "    'DiscountType': None\n",
        "}\n",
        "\n",
        "res = requests.post(url, data=data)"
      ]
    },
    {
      "cell_type": "code",
      "execution_count": null,
      "metadata": {
        "id": "2yHWIPRrGz-U"
      },
      "outputs": [],
      "source": [
        "res.json()"
      ]
    },
    {
      "cell_type": "code",
      "execution_count": null,
      "metadata": {
        "id": "sdEKMmBlwJHD"
      },
      "outputs": [],
      "source": [
        "res.text"
      ]
    },
    {
      "cell_type": "code",
      "execution_count": null,
      "metadata": {
        "id": "d-4XiprkCB70"
      },
      "outputs": [],
      "source": [
        "res.headers"
      ]
    },
    {
      "cell_type": "code",
      "execution_count": null,
      "metadata": {
        "id": "NLKTxQUXxryP"
      },
      "outputs": [],
      "source": [
        "r = res.json()\n",
        "r['data']"
      ]
    },
    {
      "cell_type": "markdown",
      "metadata": {
        "id": "S86BgvqY0Src"
      },
      "source": [
        "# BeautifulSoup"
      ]
    },
    {
      "cell_type": "markdown",
      "metadata": {
        "id": "uxl9C3YOIMGq"
      },
      "source": [
        "## 以Beautiful Soup讀取並解析HTML\n"
      ]
    },
    {
      "cell_type": "markdown",
      "metadata": {
        "id": "E5J2uIUKkUIU"
      },
      "source": [
        "- [文件](https://www.crummy.com/software/BeautifulSoup/bs4/doc.zh/)\n",
        "- Beautiful Soup是HTML解析器，將網頁解析為 `bs4.BeautifulSoup` 物件。\n",
        "- `bs4.BeautifulSoup` 物件是個結構樹(DOM)，依結構與各種方法搜尋目標。\n",
        "```\n",
        "!pip3 install beautifulsoup4\n",
        "```"
      ]
    },
    {
      "cell_type": "code",
      "execution_count": null,
      "metadata": {
        "colab": {
          "base_uri": "https://localhost:8080/"
        },
        "id": "8bMZLxcR0vso",
        "outputId": "984927a9-c77d-4a60-ee5f-27f2b3c9e84e"
      },
      "outputs": [
        {
          "name": "stdout",
          "output_type": "stream",
          "text": [
            "<html>\n",
            " <head>\n",
            "  <title>\n",
            "   The Dormouse's story\n",
            "  </title>\n",
            " </head>\n",
            " <body>\n",
            "  <p class=\"title\">\n",
            "   <b>\n",
            "    The Dormouse's story\n",
            "   </b>\n",
            "  </p>\n",
            "  <p class=\"story\">\n",
            "   Once upon a time there were three little sisters; and their names were\n",
            "   <a class=\"sister\" href=\"http://example.com/elsie\" id=\"link1\">\n",
            "    Elsie\n",
            "   </a>\n",
            "   ,\n",
            "   <a class=\"sister\" href=\"http://example.com/lacie\" id=\"link2\">\n",
            "    Lacie\n",
            "   </a>\n",
            "   and\n",
            "   <a class=\"sister\" href=\"http://example.com/tillie\" id=\"link3\">\n",
            "    Tillie\n",
            "   </a>\n",
            "   ;\n",
            "and they lived at the bottom of a well.\n",
            "  </p>\n",
            "  <p class=\"story\">\n",
            "   ...\n",
            "  </p>\n",
            " </body>\n",
            "</html>\n"
          ]
        }
      ],
      "source": [
        "from bs4 import BeautifulSoup\n",
        "\n",
        "html_doc=\"\"\"<html><head><title>The Dormouse's story</title></head>\n",
        "<body>\n",
        "<p class=\"title\"><b>The Dormouse's story</b></p>\n",
        "\n",
        "<p class=\"story\">Once upon a time there were three little sisters; and their names were\n",
        "<a href=\"http://example.com/elsie\" class=\"sister\" id=\"link1\">Elsie</a>,\n",
        "<a href=\"http://example.com/lacie\" class=\"sister\" id=\"link2\">Lacie</a> and\n",
        "<a href=\"http://example.com/tillie\" class=\"sister\" id=\"link3\">Tillie</a>;\n",
        "and they lived at the bottom of a well.</p>\n",
        "\n",
        "<p class=\"story\">...</p>\"\"\"\n",
        "\n",
        "\n",
        "soup = BeautifulSoup(html_doc, 'html.parser')\n",
        "print(soup.prettify())"
      ]
    },
    {
      "cell_type": "markdown",
      "metadata": {
        "id": "skguKwRaZfqY"
      },
      "source": [
        "下表列出了主要的解析器，以及它們的優缺點：\n",
        "\n",
        "解析器|使用方法|優勢|\t劣勢|\n",
        "-|-|-|-\n",
        "html.parser|\tBeautifulSoup(markup,\"html.parser\")\t|Python的內建標準庫、執行速度適中、文檔容錯能力強|Python 2.7.3及3.2.2之前的版本中文檔容錯能力差\n",
        "lxml HTML 解析器|\tBeautifulSoup(markup, \"lxml\")\t|速度快、文檔容錯能力強(通常用這個)|需要安装C语言库\n",
        "xml XML 解析器|BeautifulSoup(markup, \"xml\")|速度快、唯一支持XML的解析器|需要安装C语言库\n",
        "html5lib\t|BeautifulSoup(markup, \"html5lib\")\t|最好的容錯性、以瀏覽器的方式解析文檔、生成HTML5格式的文檔|速度慢、不依賴外部擴展\n"
      ]
    },
    {
      "cell_type": "markdown",
      "metadata": {
        "id": "qP1zGwhwiS7K"
      },
      "source": [
        "### 簡易解析文件\n",
        "- 用`.`的方式存取物件結構，快速但容易出錯\n",
        "- 用`find()`、`find_all()`、`select()`方法較嚴謹"
      ]
    },
    {
      "cell_type": "code",
      "execution_count": null,
      "metadata": {
        "colab": {
          "base_uri": "https://localhost:8080/"
        },
        "id": "LqZfNTrEiAyH",
        "outputId": "e2bdbd6d-6a54-4a22-8e6a-fe749827aa1f"
      },
      "outputs": [
        {
          "data": {
            "text/plain": [
              "<title>The Dormouse's story</title>"
            ]
          },
          "execution_count": 35,
          "metadata": {},
          "output_type": "execute_result"
        }
      ],
      "source": [
        "soup.title"
      ]
    },
    {
      "cell_type": "code",
      "execution_count": null,
      "metadata": {
        "colab": {
          "base_uri": "https://localhost:8080/",
          "height": 35
        },
        "id": "8LIP9oOJiC-a",
        "outputId": "599b2e27-59bf-4623-87ba-77c01f1d9779"
      },
      "outputs": [
        {
          "data": {
            "application/vnd.google.colaboratory.intrinsic+json": {
              "type": "string"
            },
            "text/plain": [
              "'title'"
            ]
          },
          "execution_count": 36,
          "metadata": {},
          "output_type": "execute_result"
        }
      ],
      "source": [
        "soup.title.name"
      ]
    },
    {
      "cell_type": "code",
      "execution_count": null,
      "metadata": {
        "colab": {
          "base_uri": "https://localhost:8080/",
          "height": 35
        },
        "id": "aesLKUl6iEu4",
        "outputId": "665cae83-da1b-4c43-8393-44f2b5ba17f0"
      },
      "outputs": [
        {
          "data": {
            "application/vnd.google.colaboratory.intrinsic+json": {
              "type": "string"
            },
            "text/plain": [
              "\"The Dormouse's story\""
            ]
          },
          "execution_count": 37,
          "metadata": {},
          "output_type": "execute_result"
        }
      ],
      "source": [
        "soup.title.string"
      ]
    },
    {
      "cell_type": "code",
      "execution_count": null,
      "metadata": {
        "colab": {
          "base_uri": "https://localhost:8080/",
          "height": 35
        },
        "id": "az2qGPQmmpdN",
        "outputId": "1038a549-a071-4efc-fa2d-4aa8869bf9b6"
      },
      "outputs": [
        {
          "data": {
            "application/vnd.google.colaboratory.intrinsic+json": {
              "type": "string"
            },
            "text/plain": [
              "\"The Dormouse's story\""
            ]
          },
          "execution_count": 38,
          "metadata": {},
          "output_type": "execute_result"
        }
      ],
      "source": [
        "soup.title.text"
      ]
    },
    {
      "cell_type": "code",
      "execution_count": null,
      "metadata": {
        "colab": {
          "base_uri": "https://localhost:8080/",
          "height": 35
        },
        "id": "wUgVbrQ9iHzD",
        "outputId": "c10963bf-e1c2-4c37-eb5e-540fa482211c"
      },
      "outputs": [
        {
          "data": {
            "application/vnd.google.colaboratory.intrinsic+json": {
              "type": "string"
            },
            "text/plain": [
              "'head'"
            ]
          },
          "execution_count": 39,
          "metadata": {},
          "output_type": "execute_result"
        }
      ],
      "source": [
        "soup.title.parent.name"
      ]
    },
    {
      "cell_type": "code",
      "execution_count": null,
      "metadata": {
        "colab": {
          "base_uri": "https://localhost:8080/"
        },
        "id": "4aNxYa5fiprU",
        "outputId": "c733b56b-f710-480a-9bd8-ad8c2422092b"
      },
      "outputs": [
        {
          "data": {
            "text/plain": [
              "<p class=\"title\"><b>The Dormouse's story</b></p>"
            ]
          },
          "execution_count": 40,
          "metadata": {},
          "output_type": "execute_result"
        }
      ],
      "source": [
        "soup.p"
      ]
    },
    {
      "cell_type": "code",
      "execution_count": null,
      "metadata": {
        "colab": {
          "base_uri": "https://localhost:8080/"
        },
        "id": "XaYmOcueirnZ",
        "outputId": "06dfee37-739b-408f-ed17-172622693706"
      },
      "outputs": [
        {
          "data": {
            "text/plain": [
              "['title']"
            ]
          },
          "execution_count": 44,
          "metadata": {},
          "output_type": "execute_result"
        }
      ],
      "source": [
        "soup.p['class']"
      ]
    },
    {
      "cell_type": "code",
      "execution_count": null,
      "metadata": {
        "colab": {
          "base_uri": "https://localhost:8080/"
        },
        "id": "RekX2eFfLPUC",
        "outputId": "922644e1-0343-4e84-fbb1-c0585053ec9e"
      },
      "outputs": [
        {
          "data": {
            "text/plain": [
              "['title']"
            ]
          },
          "execution_count": 46,
          "metadata": {},
          "output_type": "execute_result"
        }
      ],
      "source": [
        "soup.p.get(\"class\") #推薦使用`.get()`取得屬性"
      ]
    },
    {
      "cell_type": "code",
      "execution_count": null,
      "metadata": {
        "colab": {
          "base_uri": "https://localhost:8080/"
        },
        "id": "D6iLQ7GRiwrB",
        "outputId": "b5944ed3-849b-4e73-eeb0-035c0984bc98"
      },
      "outputs": [
        {
          "data": {
            "text/plain": [
              "<a class=\"sister\" href=\"http://example.com/elsie\" id=\"link1\">Elsie</a>"
            ]
          },
          "execution_count": 47,
          "metadata": {},
          "output_type": "execute_result"
        }
      ],
      "source": [
        "soup.a"
      ]
    },
    {
      "cell_type": "code",
      "execution_count": null,
      "metadata": {
        "colab": {
          "base_uri": "https://localhost:8080/",
          "height": 35
        },
        "id": "_4sybp4xi1ZC",
        "outputId": "0272bded-d6f0-4898-87b8-19eb3d84728e"
      },
      "outputs": [
        {
          "data": {
            "application/vnd.google.colaboratory.intrinsic+json": {
              "type": "string"
            },
            "text/plain": [
              "'http://example.com/elsie'"
            ]
          },
          "execution_count": 48,
          "metadata": {},
          "output_type": "execute_result"
        }
      ],
      "source": [
        "soup.a[\"href\"]"
      ]
    },
    {
      "cell_type": "code",
      "execution_count": null,
      "metadata": {
        "colab": {
          "base_uri": "https://localhost:8080/",
          "height": 35
        },
        "id": "cXfVft0ELfJP",
        "outputId": "f6f16cb2-5a31-4116-afd8-2c9ef8ddb1af"
      },
      "outputs": [
        {
          "data": {
            "application/vnd.google.colaboratory.intrinsic+json": {
              "type": "string"
            },
            "text/plain": [
              "'http://example.com/elsie'"
            ]
          },
          "execution_count": 49,
          "metadata": {},
          "output_type": "execute_result"
        }
      ],
      "source": [
        "soup.a.get('href')"
      ]
    },
    {
      "cell_type": "code",
      "execution_count": null,
      "metadata": {
        "colab": {
          "base_uri": "https://localhost:8080/"
        },
        "id": "Rx1iadEvjfaJ",
        "outputId": "0791a914-5132-4d37-e3fe-4d20fef7fc15"
      },
      "outputs": [
        {
          "name": "stdout",
          "output_type": "stream",
          "text": [
            "<class 'bs4.element.Tag'>\n",
            "<class 'bs4.element.Tag'>\n",
            "<class 'bs4.element.Tag'>\n"
          ]
        }
      ],
      "source": [
        "print(type(soup.title))\n",
        "print(type(soup.p))\n",
        "print(type(soup.a))"
      ]
    },
    {
      "cell_type": "code",
      "execution_count": null,
      "metadata": {
        "colab": {
          "base_uri": "https://localhost:8080/"
        },
        "id": "zSBaLK7W3vga",
        "outputId": "1aa095fb-a2cc-4909-8b99-a3413de61650"
      },
      "outputs": [
        {
          "name": "stdout",
          "output_type": "stream",
          "text": [
            "http://example.com/elsie\n",
            "http://example.com/lacie\n",
            "http://example.com/tillie\n"
          ]
        }
      ],
      "source": [
        "for link in soup.find_all('a'):\n",
        "    print(link.get('href'))"
      ]
    },
    {
      "cell_type": "code",
      "execution_count": null,
      "metadata": {
        "colab": {
          "base_uri": "https://localhost:8080/"
        },
        "id": "tDbLOG8A3yff",
        "outputId": "21bff53e-ef4c-4dc0-bd8e-d247a113c345"
      },
      "outputs": [
        {
          "data": {
            "text/plain": [
              "['http://example.com/elsie',\n",
              " 'http://example.com/lacie',\n",
              " 'http://example.com/tillie']"
            ]
          },
          "execution_count": 52,
          "metadata": {},
          "output_type": "execute_result"
        }
      ],
      "source": [
        "[ i.get(\"href\") for i in soup.find_all('a') ]"
      ]
    },
    {
      "cell_type": "markdown",
      "metadata": {
        "id": "Bgtv3fFn6AD2"
      },
      "source": [
        "### `soup.find()`\n",
        "\n"
      ]
    },
    {
      "cell_type": "markdown",
      "metadata": {
        "id": "mQPcgAtPkoJ3"
      },
      "source": [
        "-  回傳第一個被tag包圍的區塊\n",
        "- 傳入的引數第一個通常是 tag 名稱，第二個引數若未指明屬性就代表 class 名稱，也可以直接使用 id 等屬性去定位區塊。定位到區塊後，可以取出其屬性與包含的字串值\n",
        "\n",
        "  ```python\n",
        "  soup.find(name=None,    # 第一個tag name\n",
        "      attrs={},      # {”屬性名”=“屬性值”}\n",
        "      recursive=True,  # 迴圈搜尋開啟\n",
        "      text=None,    # 查找內文\n",
        "      **kwargs)\n",
        "  ```"
      ]
    },
    {
      "cell_type": "code",
      "execution_count": null,
      "metadata": {
        "id": "-F3nFNZF6XUA"
      },
      "outputs": [],
      "source": [
        "help(soup.find())\n",
        "#soup.find(name=None, attrs={}, recursive=True, text=None, **kwargs)"
      ]
    },
    {
      "cell_type": "code",
      "execution_count": null,
      "metadata": {
        "colab": {
          "base_uri": "https://localhost:8080/"
        },
        "id": "rFyV0EaQ50KG",
        "outputId": "4c269489-fd0e-432d-fb99-c368109227fb"
      },
      "outputs": [
        {
          "name": "stdout",
          "output_type": "stream",
          "text": [
            "<p class=\"title\"><b>The Dormouse's story</b></p>\n",
            "<a class=\"sister\" href=\"http://example.com/elsie\" id=\"link1\">Elsie</a>\n",
            "Elsie\n",
            "Elsie\n",
            "The Dormouse's story\n",
            "The Dormouse's story\n"
          ]
        }
      ],
      "source": [
        "print(soup.find('p'))\n",
        "print(soup.find(\"a\"))\n",
        "\n",
        "#取<a>內容</a>\n",
        "print(soup.find(\"a\").string)\n",
        "print(soup.find(\"a\").text)\n",
        "\n",
        "#取<title>標題</title>，\n",
        "print(soup.title.string)\n",
        "print(soup.title.text)"
      ]
    },
    {
      "cell_type": "markdown",
      "metadata": {
        "id": "kGUUCPFfm_ZV"
      },
      "source": [
        "### `soup.find().get(屬性)`"
      ]
    },
    {
      "cell_type": "markdown",
      "metadata": {
        "id": "UGKFDMlZDCU1"
      },
      "source": [
        "- 取出節點屬性的較好方法`.get(\"屬性\")`\n",
        "  - 使用`get()`如無此屬性，回傳結果為none。\n",
        "  - 如果不用`get()`也可以擷取屬性，但不存在時會出現錯誤，有礙後續爬蟲執行。\n",
        "  - 其他詳細用法可參考 [BeautifulSoup的官方文件](https://www.crummy.com/software/BeautifulSoup/bs4/doc/)"
      ]
    },
    {
      "cell_type": "code",
      "execution_count": null,
      "metadata": {
        "colab": {
          "base_uri": "https://localhost:8080/",
          "height": 306
        },
        "id": "ck6CqC5upT4t",
        "outputId": "30f3f3ad-0bbf-4724-a1c4-e03db53daca6"
      },
      "outputs": [
        {
          "ename": "KeyError",
          "evalue": "ignored",
          "output_type": "error",
          "traceback": [
            "\u001b[0;31m---------------------------------------------------------------------------\u001b[0m",
            "\u001b[0;31mKeyError\u001b[0m                                  Traceback (most recent call last)",
            "\u001b[0;32m<ipython-input-55-c242388b7e11>\u001b[0m in \u001b[0;36m<module>\u001b[0;34m\u001b[0m\n\u001b[1;32m      1\u001b[0m \u001b[0;31m# 找不到屬性就出錯! #id, class, href, src\u001b[0m\u001b[0;34m\u001b[0m\u001b[0;34m\u001b[0m\u001b[0;34m\u001b[0m\u001b[0m\n\u001b[0;32m----> 2\u001b[0;31m \u001b[0msoup\u001b[0m\u001b[0;34m.\u001b[0m\u001b[0mfind\u001b[0m\u001b[0;34m(\u001b[0m\u001b[0;34m\"p\"\u001b[0m\u001b[0;34m)\u001b[0m\u001b[0;34m[\u001b[0m\u001b[0;34m'style'\u001b[0m\u001b[0;34m]\u001b[0m\u001b[0;34m\u001b[0m\u001b[0;34m\u001b[0m\u001b[0m\n\u001b[0m",
            "\u001b[0;32m/usr/local/lib/python3.7/dist-packages/bs4/element.py\u001b[0m in \u001b[0;36m__getitem__\u001b[0;34m(self, key)\u001b[0m\n\u001b[1;32m   1069\u001b[0m         \"\"\"tag[key] returns the value of the 'key' attribute for the tag,\n\u001b[1;32m   1070\u001b[0m         and throws an exception if it's not there.\"\"\"\n\u001b[0;32m-> 1071\u001b[0;31m         \u001b[0;32mreturn\u001b[0m \u001b[0mself\u001b[0m\u001b[0;34m.\u001b[0m\u001b[0mattrs\u001b[0m\u001b[0;34m[\u001b[0m\u001b[0mkey\u001b[0m\u001b[0;34m]\u001b[0m\u001b[0;34m\u001b[0m\u001b[0;34m\u001b[0m\u001b[0m\n\u001b[0m\u001b[1;32m   1072\u001b[0m \u001b[0;34m\u001b[0m\u001b[0m\n\u001b[1;32m   1073\u001b[0m     \u001b[0;32mdef\u001b[0m \u001b[0m__iter__\u001b[0m\u001b[0;34m(\u001b[0m\u001b[0mself\u001b[0m\u001b[0;34m)\u001b[0m\u001b[0;34m:\u001b[0m\u001b[0;34m\u001b[0m\u001b[0;34m\u001b[0m\u001b[0m\n",
            "\u001b[0;31mKeyError\u001b[0m: 'style'"
          ]
        }
      ],
      "source": [
        "# 找不到屬性就出錯! #id, class, href, src\n",
        "soup.find(\"p\")['style']"
      ]
    },
    {
      "cell_type": "code",
      "execution_count": null,
      "metadata": {
        "colab": {
          "base_uri": "https://localhost:8080/"
        },
        "id": "XkEDEZTEpiOF",
        "outputId": "2ac70a37-c7c0-469c-bd1b-c2b9e24ed74d"
      },
      "outputs": [
        {
          "name": "stdout",
          "output_type": "stream",
          "text": [
            "None\n"
          ]
        }
      ],
      "source": [
        "# 找不到屬性回傳None\n",
        "print(soup.find('p').get('style'))"
      ]
    },
    {
      "cell_type": "markdown",
      "metadata": {
        "id": "lX0Q_MEdepVA"
      },
      "source": [
        "### `soup.find_all()`\n",
        "\n",
        "\n",
        "\n"
      ]
    },
    {
      "cell_type": "markdown",
      "metadata": {
        "id": "DjT29um4ndQ9"
      },
      "source": [
        "- 我全都要，回傳結果為`bs4.element.ResultSet`物件\n",
        "  ```python\n",
        "  soup.find_all(name=None,     #第一個tag name\n",
        "         attrs={},      #{”屬性名”=“屬性值”}\n",
        "         text=None,     #查找內文\n",
        "         limit=None,     #限制搜尋數量\n",
        "         **kwargs)\n",
        "  ```"
      ]
    },
    {
      "cell_type": "code",
      "execution_count": null,
      "metadata": {
        "id": "yYarGEZvnoow"
      },
      "outputs": [],
      "source": [
        "import requests\n",
        "from bs4 import BeautifulSoup\n",
        "\n",
        "res = requests.get('https://www.python.org/')\n",
        "soup = BeautifulSoup(res.text, \"lxml\")"
      ]
    },
    {
      "cell_type": "code",
      "execution_count": null,
      "metadata": {
        "colab": {
          "base_uri": "https://localhost:8080/"
        },
        "id": "P7R0n1YHnnsE",
        "outputId": "a092c953-8fca-4c01-ecbe-29cfbe14af0c"
      },
      "outputs": [
        {
          "data": {
            "text/plain": [
              "[<p><strong>Notice:</strong> While JavaScript is not essential for this website, your interaction with the content will be limited. Please turn JavaScript on for the full experience. </p>,\n",
              " <p>The core of extensible programming is defining functions. Python allows mandatory and optional arguments, keyword arguments, and even arbitrary argument lists. <a href=\"//docs.python.org/3/tutorial/controlflow.html#defining-functions\">More about defining functions in Python 3</a></p>,\n",
              " <p>Lists (known as arrays in other languages) are one of the compound data types that Python understands. Lists can be indexed, sliced and manipulated with other built-in functions. <a href=\"//docs.python.org/3/tutorial/introduction.html#lists\">More about lists in Python 3</a></p>,\n",
              " <p>Calculations are simple with Python, and expression syntax is straightforward: the operators <code>+</code>, <code>-</code>, <code>*</code> and <code>/</code> work as expected; parentheses <code>()</code> can be used for grouping. <a href=\"http://docs.python.org/3/tutorial/introduction.html#using-python-as-a-calculator\">More about simple math functions in Python 3</a>.</p>,\n",
              " <p>Python knows the usual control flow statements that other languages speak — <code>if</code>, <code>for</code>, <code>while</code> and <code>range</code> — with some of its own twists, of course. <a href=\"//docs.python.org/3/tutorial/controlflow.html\">More control flow tools in Python 3</a></p>,\n",
              " <p>Experienced programmers in any other language can pick up Python very quickly, and beginners find the clean syntax and indentation structure easy to learn. <a href=\"//docs.python.org/3/tutorial/\">Whet your appetite</a> with our Python 3 overview.</p>,\n",
              " <p>Python is a programming language that lets you work quickly <span class=\"breaker\"></span>and integrate systems more effectively. <a class=\"readmore\" href=\"/doc/\">Learn More</a></p>,\n",
              " <p>Whether you're new to programming or an experienced developer, it's easy to learn and use Python.</p>,\n",
              " <p><a href=\"/about/gettingstarted/\">Start with our Beginner’s Guide</a></p>,\n",
              " <p>Python source code and installers are available for download for all versions!</p>,\n",
              " <p>Latest: <a href=\"/downloads/release/python-3110/\">Python 3.11.0</a></p>,\n",
              " <p>Documentation for Python's standard library, along with tutorials and guides, are available online.</p>,\n",
              " <p><a href=\"https://docs.python.org\">docs.python.org</a></p>,\n",
              " <p>Looking for work or have a Python related position that you're trying to hire for? Our <strong>relaunched community-run job board</strong> is the place to go.</p>,\n",
              " <p><a href=\"//jobs.python.org\">jobs.python.org</a></p>,\n",
              " <p class=\"give-me-more\"><a href=\"https://blog.python.org\" title=\"More News\">More</a></p>,\n",
              " <p class=\"give-me-more\"><a href=\"/events/calendars/\" title=\"More Events\">More</a></p>,\n",
              " <p class=\"give-me-more\"><a href=\"/success-stories/\" title=\"More Success Stories\">More</a></p>,\n",
              " <p><a href=\"/success-stories/deliver-clean-and-safe-code-for-your-python-applications/\">Deliver Clean and Safe Code for Your Python Applications</a> <em>by Kirti Joshi, Nicolas Bontoux</em></p>,\n",
              " <p class=\"give-me-more\"><a href=\"/about/apps\" title=\"More Applications\">More</a></p>,\n",
              " <p>The mission of the Python Software Foundation is to promote, protect, and advance the Python programming language, and to support and facilitate the growth of a diverse and international community of Python programmers. <a class=\"readmore\" href=\"/psf/\">Learn more</a> </p>,\n",
              " <p class=\"click-these\">\n",
              " <a class=\"button\" href=\"/users/membership/\">Become a Member</a>\n",
              " <a class=\"button\" href=\"/psf/donations/\">Donate to the PSF</a>\n",
              " </p>,\n",
              " <p><small>\n",
              " <span class=\"pre\">Copyright ©2001-2022.</span>\n",
              "                              <span class=\"pre\"><a href=\"/psf-landing/\">Python Software Foundation</a></span>\n",
              "                              <span class=\"pre\"><a href=\"/about/legal/\">Legal Statements</a></span>\n",
              "                              <span class=\"pre\"><a href=\"/privacy/\">Privacy Policy</a></span>\n",
              "                              <span class=\"pre\"><a href=\"/psf/sponsorship/sponsors/#heroku\">Powered by Heroku</a></span>\n",
              " </small></p>]"
            ]
          },
          "execution_count": 64,
          "metadata": {},
          "output_type": "execute_result"
        }
      ],
      "source": [
        "p_tags = soup.find_all(\"p\")\n",
        "p_tags"
      ]
    },
    {
      "cell_type": "code",
      "execution_count": null,
      "metadata": {
        "colab": {
          "base_uri": "https://localhost:8080/"
        },
        "id": "X1bYlMczFy5z",
        "outputId": "8bd3ae9a-2ba6-43df-b60c-7d1528ba2c83"
      },
      "outputs": [
        {
          "data": {
            "text/plain": [
              "bs4.element.ResultSet"
            ]
          },
          "execution_count": 65,
          "metadata": {},
          "output_type": "execute_result"
        }
      ],
      "source": [
        "type(p_tags)"
      ]
    },
    {
      "cell_type": "code",
      "execution_count": null,
      "metadata": {
        "colab": {
          "base_uri": "https://localhost:8080/"
        },
        "id": "LRgwqCBTrF9o",
        "outputId": "827a624c-9dbc-46cd-f178-3f29a3170703"
      },
      "outputs": [
        {
          "name": "stdout",
          "output_type": "stream",
          "text": [
            "['Latest News']\n"
          ]
        }
      ],
      "source": [
        "# 找出所有內容等於的文字\n",
        "print(soup.find_all(text=\"Latest News\"))"
      ]
    },
    {
      "cell_type": "markdown",
      "metadata": {
        "id": "vsQsDD2SoNMg"
      },
      "source": [
        "- `bs4.element.ResultSet`物件內容以for迴圈取出"
      ]
    },
    {
      "cell_type": "code",
      "execution_count": null,
      "metadata": {
        "colab": {
          "base_uri": "https://localhost:8080/"
        },
        "id": "c2WOX3w8dKAn",
        "outputId": "0519d1c1-0f4b-40bc-834c-a2a31da9f18e"
      },
      "outputs": [
        {
          "name": "stdout",
          "output_type": "stream",
          "text": [
            "<p><strong>Notice:</strong> While JavaScript is not essential for this website, your interaction with the content will be limited. Please turn JavaScript on for the full experience. </p>\n",
            "<class 'bs4.element.Tag'>\n",
            "<p>The core of extensible programming is defining functions. Python allows mandatory and optional arguments, keyword arguments, and even arbitrary argument lists. <a href=\"//docs.python.org/3/tutorial/controlflow.html#defining-functions\">More about defining functions in Python 3</a></p>\n",
            "<class 'bs4.element.Tag'>\n",
            "<p>Lists (known as arrays in other languages) are one of the compound data types that Python understands. Lists can be indexed, sliced and manipulated with other built-in functions. <a href=\"//docs.python.org/3/tutorial/introduction.html#lists\">More about lists in Python 3</a></p>\n",
            "<class 'bs4.element.Tag'>\n",
            "<p>Calculations are simple with Python, and expression syntax is straightforward: the operators <code>+</code>, <code>-</code>, <code>*</code> and <code>/</code> work as expected; parentheses <code>()</code> can be used for grouping. <a href=\"http://docs.python.org/3/tutorial/introduction.html#using-python-as-a-calculator\">More about simple math functions in Python 3</a>.</p>\n",
            "<class 'bs4.element.Tag'>\n",
            "<p>Python knows the usual control flow statements that other languages speak — <code>if</code>, <code>for</code>, <code>while</code> and <code>range</code> — with some of its own twists, of course. <a href=\"//docs.python.org/3/tutorial/controlflow.html\">More control flow tools in Python 3</a></p>\n",
            "<class 'bs4.element.Tag'>\n",
            "<p>Experienced programmers in any other language can pick up Python very quickly, and beginners find the clean syntax and indentation structure easy to learn. <a href=\"//docs.python.org/3/tutorial/\">Whet your appetite</a> with our Python 3 overview.</p>\n",
            "<class 'bs4.element.Tag'>\n",
            "<p>Python is a programming language that lets you work quickly <span class=\"breaker\"></span>and integrate systems more effectively. <a class=\"readmore\" href=\"/doc/\">Learn More</a></p>\n",
            "<class 'bs4.element.Tag'>\n",
            "<p>Whether you're new to programming or an experienced developer, it's easy to learn and use Python.</p>\n",
            "<class 'bs4.element.Tag'>\n",
            "<p><a href=\"/about/gettingstarted/\">Start with our Beginner’s Guide</a></p>\n",
            "<class 'bs4.element.Tag'>\n",
            "<p>Python source code and installers are available for download for all versions!</p>\n",
            "<class 'bs4.element.Tag'>\n",
            "<p>Latest: <a href=\"/downloads/release/python-3110/\">Python 3.11.0</a></p>\n",
            "<class 'bs4.element.Tag'>\n",
            "<p>Documentation for Python's standard library, along with tutorials and guides, are available online.</p>\n",
            "<class 'bs4.element.Tag'>\n",
            "<p><a href=\"https://docs.python.org\">docs.python.org</a></p>\n",
            "<class 'bs4.element.Tag'>\n",
            "<p>Looking for work or have a Python related position that you're trying to hire for? Our <strong>relaunched community-run job board</strong> is the place to go.</p>\n",
            "<class 'bs4.element.Tag'>\n",
            "<p><a href=\"//jobs.python.org\">jobs.python.org</a></p>\n",
            "<class 'bs4.element.Tag'>\n",
            "<p class=\"give-me-more\"><a href=\"https://blog.python.org\" title=\"More News\">More</a></p>\n",
            "<class 'bs4.element.Tag'>\n",
            "<p class=\"give-me-more\"><a href=\"/events/calendars/\" title=\"More Events\">More</a></p>\n",
            "<class 'bs4.element.Tag'>\n",
            "<p class=\"give-me-more\"><a href=\"/success-stories/\" title=\"More Success Stories\">More</a></p>\n",
            "<class 'bs4.element.Tag'>\n",
            "<p><a href=\"/success-stories/deliver-clean-and-safe-code-for-your-python-applications/\">Deliver Clean and Safe Code for Your Python Applications</a> <em>by Kirti Joshi, Nicolas Bontoux</em></p>\n",
            "<class 'bs4.element.Tag'>\n",
            "<p class=\"give-me-more\"><a href=\"/about/apps\" title=\"More Applications\">More</a></p>\n",
            "<class 'bs4.element.Tag'>\n",
            "<p>The mission of the Python Software Foundation is to promote, protect, and advance the Python programming language, and to support and facilitate the growth of a diverse and international community of Python programmers. <a class=\"readmore\" href=\"/psf/\">Learn more</a> </p>\n",
            "<class 'bs4.element.Tag'>\n",
            "<p class=\"click-these\">\n",
            "<a class=\"button\" href=\"/users/membership/\">Become a Member</a>\n",
            "<a class=\"button\" href=\"/psf/donations/\">Donate to the PSF</a>\n",
            "</p>\n",
            "<class 'bs4.element.Tag'>\n",
            "<p><small>\n",
            "<span class=\"pre\">Copyright ©2001-2022.</span>\n",
            "                             <span class=\"pre\"><a href=\"/psf-landing/\">Python Software Foundation</a></span>\n",
            "                             <span class=\"pre\"><a href=\"/about/legal/\">Legal Statements</a></span>\n",
            "                             <span class=\"pre\"><a href=\"/privacy/\">Privacy Policy</a></span>\n",
            "                             <span class=\"pre\"><a href=\"/psf/sponsorship/sponsors/#heroku\">Powered by Heroku</a></span>\n",
            "</small></p>\n",
            "<class 'bs4.element.Tag'>\n"
          ]
        }
      ],
      "source": [
        "for tag in p_tags:\n",
        "  print(tag)\n",
        "  print(type(tag)) # 取出一層，內層是`bs4.element.Tag`物件"
      ]
    },
    {
      "cell_type": "code",
      "execution_count": null,
      "metadata": {
        "colab": {
          "base_uri": "https://localhost:8080/"
        },
        "id": "_-qbhw_1oi6S",
        "outputId": "ed76c076-c0a1-4389-842e-59bbb0b2c81f"
      },
      "outputs": [
        {
          "name": "stdout",
          "output_type": "stream",
          "text": [
            "Notice: While JavaScript is not essential for this website, your interaction with the content will be limited. Please turn JavaScript on for the full experience. \n",
            "<class 'str'>\n",
            "The core of extensible programming is defining functions. Python allows mandatory and optional arguments, keyword arguments, and even arbitrary argument lists. More about defining functions in Python 3\n",
            "<class 'str'>\n",
            "Lists (known as arrays in other languages) are one of the compound data types that Python understands. Lists can be indexed, sliced and manipulated with other built-in functions. More about lists in Python 3\n",
            "<class 'str'>\n",
            "Calculations are simple with Python, and expression syntax is straightforward: the operators +, -, * and / work as expected; parentheses () can be used for grouping. More about simple math functions in Python 3.\n",
            "<class 'str'>\n",
            "Python knows the usual control flow statements that other languages speak — if, for, while and range — with some of its own twists, of course. More control flow tools in Python 3\n",
            "<class 'str'>\n",
            "Experienced programmers in any other language can pick up Python very quickly, and beginners find the clean syntax and indentation structure easy to learn. Whet your appetite with our Python 3 overview.\n",
            "<class 'str'>\n",
            "Python is a programming language that lets you work quickly and integrate systems more effectively. Learn More\n",
            "<class 'str'>\n",
            "Whether you're new to programming or an experienced developer, it's easy to learn and use Python.\n",
            "<class 'str'>\n",
            "Start with our Beginner’s Guide\n",
            "<class 'str'>\n",
            "Python source code and installers are available for download for all versions!\n",
            "<class 'str'>\n",
            "Latest: Python 3.11.0\n",
            "<class 'str'>\n",
            "Documentation for Python's standard library, along with tutorials and guides, are available online.\n",
            "<class 'str'>\n",
            "docs.python.org\n",
            "<class 'str'>\n",
            "Looking for work or have a Python related position that you're trying to hire for? Our relaunched community-run job board is the place to go.\n",
            "<class 'str'>\n",
            "jobs.python.org\n",
            "<class 'str'>\n",
            "More\n",
            "<class 'str'>\n",
            "More\n",
            "<class 'str'>\n",
            "More\n",
            "<class 'str'>\n",
            "Deliver Clean and Safe Code for Your Python Applications by Kirti Joshi, Nicolas Bontoux\n",
            "<class 'str'>\n",
            "More\n",
            "<class 'str'>\n",
            "The mission of the Python Software Foundation is to promote, protect, and advance the Python programming language, and to support and facilitate the growth of a diverse and international community of Python programmers. Learn more \n",
            "<class 'str'>\n",
            "\n",
            "Become a Member\n",
            "Donate to the PSF\n",
            "\n",
            "<class 'str'>\n",
            "\n",
            "Copyright ©2001-2022.\n",
            "                             Python Software Foundation\n",
            "                             Legal Statements\n",
            "                             Privacy Policy\n",
            "                             Powered by Heroku\n",
            "\n",
            "<class 'str'>\n"
          ]
        }
      ],
      "source": [
        "for tag in p_tags:\n",
        "  print(tag.text)\n",
        "  print(type(tag.text)) # 已解析內文，為文字str"
      ]
    },
    {
      "cell_type": "code",
      "execution_count": null,
      "metadata": {
        "colab": {
          "base_uri": "https://localhost:8080/"
        },
        "id": "jNMNUGqIBNRV",
        "outputId": "61711641-809b-4491-874b-430a95d3a47e"
      },
      "outputs": [
        {
          "name": "stdout",
          "output_type": "stream",
          "text": [
            "#content\n",
            "#python-network\n",
            "/\n",
            "/psf-landing/\n",
            "https://docs.python.org\n",
            "https://pypi.org/\n",
            "/jobs/\n",
            "/community-landing/\n",
            "#top\n",
            "/\n",
            "https://psfmember.org/civicrm/contribute/transact?reset=1&id=2\n",
            "#site-map\n",
            "#\n",
            "javascript:;\n",
            "javascript:;\n",
            "javascript:;\n",
            "#\n",
            "https://www.facebook.com/pythonlang?fref=ts\n",
            "https://twitter.com/ThePSF\n",
            "/community/irc/\n",
            "/about/\n",
            "/about/apps/\n",
            "/about/quotes/\n",
            "/about/gettingstarted/\n",
            "/about/help/\n",
            "http://brochure.getpython.info/\n",
            "/downloads/\n",
            "/downloads/\n",
            "/downloads/source/\n",
            "/downloads/windows/\n",
            "/downloads/macos/\n",
            "/download/other/\n",
            "https://docs.python.org/3/license.html\n",
            "/download/alternatives\n",
            "/doc/\n",
            "/doc/\n",
            "/doc/av\n",
            "https://wiki.python.org/moin/BeginnersGuide\n",
            "https://devguide.python.org/\n",
            "https://docs.python.org/faq/\n",
            "http://wiki.python.org/moin/Languages\n",
            "http://python.org/dev/peps/\n",
            "https://wiki.python.org/moin/PythonBooks\n",
            "/doc/essays/\n",
            "/community/\n",
            "/community/diversity/\n",
            "/community/lists/\n",
            "/community/irc/\n",
            "/community/forums/\n",
            "/psf/annual-report/2021/\n",
            "/community/workshops/\n",
            "/community/sigs/\n",
            "/community/logos/\n",
            "https://wiki.python.org/moin/\n",
            "/community/merchandise/\n",
            "/community/awards\n",
            "/psf/conduct/\n",
            "/psf/get-involved/\n",
            "/psf/community-stories/\n",
            "/success-stories/\n",
            "/success-stories/category/arts/\n",
            "/success-stories/category/business/\n",
            "/success-stories/category/education/\n",
            "/success-stories/category/engineering/\n",
            "/success-stories/category/government/\n",
            "/success-stories/category/scientific/\n",
            "/success-stories/category/software-development/\n",
            "/blogs/\n",
            "/blogs/\n",
            "/psf/newsletter/\n",
            "http://planetpython.org/\n",
            "http://pyfound.blogspot.com/\n",
            "http://pycon.blogspot.com/\n",
            "/events/\n",
            "/events/python-events/\n",
            "/events/python-user-group/\n",
            "/events/python-events/past/\n",
            "/events/python-user-group/past/\n",
            "https://wiki.python.org/moin/PythonEventsCalendar#Submitting_an_Event\n",
            "/shell/\n",
            "//docs.python.org/3/tutorial/controlflow.html#defining-functions\n",
            "//docs.python.org/3/tutorial/introduction.html#lists\n",
            "http://docs.python.org/3/tutorial/introduction.html#using-python-as-a-calculator\n",
            "//docs.python.org/3/tutorial/controlflow.html\n",
            "//docs.python.org/3/tutorial/\n",
            "/doc/\n",
            "https://www.python.org/psf/donations/2022-q4-drive/\n",
            "/about/gettingstarted/\n",
            "/downloads/release/python-3110/\n",
            "https://docs.python.org\n",
            "//jobs.python.org\n",
            "https://blog.python.org\n",
            "https://pythoninsider.blogspot.com/2022/11/python-3120-alpha-2-released.html\n",
            "https://pyfound.blogspot.com/2022/11/its-time-for-our-annual-year-end-psf.html\n",
            "https://pyfound.blogspot.com/2022/11/thank-you-for-making-pycon-us-amazing.html\n",
            "https://pyfound.blogspot.com/2022/10/announcing-python-software-foundation.html\n",
            "https://mailchi.mp/python/psf-nov-15542325\n",
            "/events/calendars/\n",
            "/events/python-user-group/1388/\n",
            "/events/python-events/1331/\n",
            "/events/python-user-group/1335/\n",
            "/events/python-user-group/1390/\n",
            "/events/python-user-group/1387/\n",
            "/success-stories/\n",
            "/success-stories/deliver-clean-and-safe-code-for-your-python-applications/\n",
            "/success-stories/deliver-clean-and-safe-code-for-your-python-applications/\n",
            "/about/apps\n",
            "http://www.djangoproject.com/\n",
            "http://www.pylonsproject.org/\n",
            "http://bottlepy.org\n",
            "http://tornadoweb.org\n",
            "http://flask.pocoo.org/\n",
            "http://www.web2py.com/\n",
            "http://wiki.python.org/moin/TkInter\n",
            "https://wiki.gnome.org/Projects/PyGObject\n",
            "http://www.riverbankcomputing.co.uk/software/pyqt/intro\n",
            "https://wiki.qt.io/PySide\n",
            "https://kivy.org/\n",
            "http://www.wxpython.org/\n",
            "http://www.scipy.org\n",
            "http://pandas.pydata.org/\n",
            "http://ipython.org\n",
            "http://buildbot.net/\n",
            "http://trac.edgewall.org/\n",
            "http://roundup.sourceforge.net/\n",
            "http://www.ansible.com\n",
            "https://saltproject.io\n",
            "https://www.openstack.org\n",
            "https://xon.sh\n",
            "/dev/peps/\n",
            "/dev/peps/peps.rss\n",
            "/psf/\n",
            "/psf/\n",
            "/users/membership/\n",
            "/psf/donations/\n",
            "#python-network\n",
            "/about/\n",
            "/about/apps/\n",
            "/about/quotes/\n",
            "/about/gettingstarted/\n",
            "/about/help/\n",
            "http://brochure.getpython.info/\n",
            "/downloads/\n",
            "/downloads/\n",
            "/downloads/source/\n",
            "/downloads/windows/\n",
            "/downloads/macos/\n",
            "/download/other/\n",
            "https://docs.python.org/3/license.html\n",
            "/download/alternatives\n",
            "/doc/\n",
            "/doc/\n",
            "/doc/av\n",
            "https://wiki.python.org/moin/BeginnersGuide\n",
            "https://devguide.python.org/\n",
            "https://docs.python.org/faq/\n",
            "http://wiki.python.org/moin/Languages\n",
            "http://python.org/dev/peps/\n",
            "https://wiki.python.org/moin/PythonBooks\n",
            "/doc/essays/\n",
            "/community/\n",
            "/community/diversity/\n",
            "/community/lists/\n",
            "/community/irc/\n",
            "/community/forums/\n",
            "/psf/annual-report/2021/\n",
            "/community/workshops/\n",
            "/community/sigs/\n",
            "/community/logos/\n",
            "https://wiki.python.org/moin/\n",
            "/community/merchandise/\n",
            "/community/awards\n",
            "/psf/conduct/\n",
            "/psf/get-involved/\n",
            "/psf/community-stories/\n",
            "/success-stories/\n",
            "/success-stories/category/arts/\n",
            "/success-stories/category/business/\n",
            "/success-stories/category/education/\n",
            "/success-stories/category/engineering/\n",
            "/success-stories/category/government/\n",
            "/success-stories/category/scientific/\n",
            "/success-stories/category/software-development/\n",
            "/blogs/\n",
            "/blogs/\n",
            "/psf/newsletter/\n",
            "http://planetpython.org/\n",
            "http://pyfound.blogspot.com/\n",
            "http://pycon.blogspot.com/\n",
            "/events/\n",
            "/events/python-events/\n",
            "/events/python-user-group/\n",
            "/events/python-events/past/\n",
            "/events/python-user-group/past/\n",
            "https://wiki.python.org/moin/PythonEventsCalendar#Submitting_an_Event\n",
            "/dev/\n",
            "https://devguide.python.org/\n",
            "https://bugs.python.org/\n",
            "https://mail.python.org/mailman/listinfo/python-dev\n",
            "/dev/core-mentorship/\n",
            "/dev/security/\n",
            "#python-network\n",
            "/about/help/\n",
            "/community/diversity/\n",
            "https://github.com/python/pythondotorg/issues\n",
            "https://status.python.org/\n",
            "/psf-landing/\n",
            "/about/legal/\n",
            "/privacy/\n",
            "/psf/sponsorship/sponsors/#heroku\n"
          ]
        }
      ],
      "source": [
        "# 取出節點屬性\n",
        "\n",
        "a_tags = soup.find_all(\"a\")\n",
        "for tag in a_tags:\n",
        "  print(tag.get('href'))"
      ]
    },
    {
      "cell_type": "markdown",
      "metadata": {
        "id": "hhVDY1zNpcmy"
      },
      "source": [
        "- `soup.find_all()`以list`[]`同時搜尋多種標籤"
      ]
    },
    {
      "cell_type": "code",
      "execution_count": null,
      "metadata": {
        "colab": {
          "base_uri": "https://localhost:8080/"
        },
        "id": "HFKxz_XoBe3P",
        "outputId": "b06e2c46-50d1-47a9-f75c-080d8bbc502b"
      },
      "outputs": [
        {
          "name": "stdout",
          "output_type": "stream",
          "text": [
            "[<p><strong>Notice:</strong> While JavaScript is not essential for this website, your interaction with the content will be limited. Please turn JavaScript on for the full experience. </p>,\n",
            " <a href=\"#content\" title=\"Skip to content\">Skip to content</a>,\n",
            " <a aria-hidden=\"true\" class=\"jump-link\" href=\"#python-network\" id=\"close-python-network\">\n",
            "<span aria-hidden=\"true\" class=\"icon-arrow-down\"><span>▼</span></span> Close\n",
            "                </a>,\n",
            " <a class=\"current_item selectedcurrent_branch selected\" href=\"/\" title=\"The Python Programming Language\">Python</a>,\n",
            " <a href=\"/psf-landing/\" title=\"The Python Software Foundation\">PSF</a>,\n",
            " <a href=\"https://docs.python.org\" title=\"Python Documentation\">Docs</a>,\n",
            " <a href=\"https://pypi.org/\" title=\"Python Package Index\">PyPI</a>,\n",
            " <a href=\"/jobs/\" title=\"Python Job Board\">Jobs</a>,\n",
            " <a href=\"/community-landing/\">Community</a>,\n",
            " <a aria-hidden=\"true\" class=\"jump-link\" href=\"#top\" id=\"python-network\">\n",
            "<span aria-hidden=\"true\" class=\"icon-arrow-up\"><span>▲</span></span> The Python Network\n",
            "                </a>,\n",
            " <a href=\"/\"><img alt=\"python™\" class=\"python-logo\" src=\"/static/img/python-logo.png\"/></a>,\n",
            " <a class=\"donate-button\" href=\"https://psfmember.org/civicrm/contribute/transact?reset=1&amp;id=2\">Donate</a>,\n",
            " <a class=\"jump-to-menu\" href=\"#site-map\" id=\"site-map-link\"><span class=\"menu-icon\">≡</span> Menu</a>,\n",
            " <a class=\"action-trigger\" href=\"#\"><strong><small>A</small> A</strong></a>,\n",
            " <a class=\"text-shrink\" href=\"javascript:;\" title=\"Make Text Smaller\">Smaller</a>,\n",
            " <a class=\"text-grow\" href=\"javascript:;\" title=\"Make Text Larger\">Larger</a>,\n",
            " <a class=\"text-reset\" href=\"javascript:;\" title=\"Reset any font size changes I have made\">Reset</a>,\n",
            " <a class=\"action-trigger\" href=\"#\">Socialize</a>,\n",
            " <a href=\"https://www.facebook.com/pythonlang?fref=ts\"><span aria-hidden=\"true\" class=\"icon-facebook\"></span>Facebook</a>,\n",
            " <a href=\"https://twitter.com/ThePSF\"><span aria-hidden=\"true\" class=\"icon-twitter\"></span>Twitter</a>,\n",
            " <a href=\"/community/irc/\"><span aria-hidden=\"true\" class=\"icon-freenode\"></span>Chat on IRC</a>,\n",
            " <a class=\"\" href=\"/about/\" title=\"\">About</a>,\n",
            " <a href=\"/about/apps/\" title=\"\">Applications</a>,\n",
            " <a href=\"/about/quotes/\" title=\"\">Quotes</a>,\n",
            " <a href=\"/about/gettingstarted/\" title=\"\">Getting Started</a>,\n",
            " <a href=\"/about/help/\" title=\"\">Help</a>,\n",
            " <a href=\"http://brochure.getpython.info/\" title=\"\">Python Brochure</a>,\n",
            " <a class=\"\" href=\"/downloads/\" title=\"\">Downloads</a>,\n",
            " <a href=\"/downloads/\" title=\"\">All releases</a>,\n",
            " <a href=\"/downloads/source/\" title=\"\">Source code</a>,\n",
            " <a href=\"/downloads/windows/\" title=\"\">Windows</a>,\n",
            " <a href=\"/downloads/macos/\" title=\"\">macOS</a>,\n",
            " <a href=\"/download/other/\" title=\"\">Other Platforms</a>,\n",
            " <a href=\"https://docs.python.org/3/license.html\" title=\"\">License</a>,\n",
            " <a href=\"/download/alternatives\" title=\"\">Alternative Implementations</a>,\n",
            " <a class=\"\" href=\"/doc/\" title=\"\">Documentation</a>,\n",
            " <a href=\"/doc/\" title=\"\">Docs</a>,\n",
            " <a href=\"/doc/av\" title=\"\">Audio/Visual Talks</a>,\n",
            " <a href=\"https://wiki.python.org/moin/BeginnersGuide\" title=\"\">Beginner's Guide</a>,\n",
            " <a href=\"https://devguide.python.org/\" title=\"\">Developer's Guide</a>,\n",
            " <a href=\"https://docs.python.org/faq/\" title=\"\">FAQ</a>,\n",
            " <a href=\"http://wiki.python.org/moin/Languages\" title=\"\">Non-English Docs</a>,\n",
            " <a href=\"http://python.org/dev/peps/\" title=\"\">PEP Index</a>,\n",
            " <a href=\"https://wiki.python.org/moin/PythonBooks\" title=\"\">Python Books</a>,\n",
            " <a href=\"/doc/essays/\" title=\"\">Python Essays</a>,\n",
            " <a class=\"\" href=\"/community/\" title=\"\">Community</a>,\n",
            " <a href=\"/community/diversity/\" title=\"\">Diversity</a>,\n",
            " <a href=\"/community/lists/\" title=\"\">Mailing Lists</a>,\n",
            " <a href=\"/community/irc/\" title=\"\">IRC</a>,\n",
            " <a href=\"/community/forums/\" title=\"\">Forums</a>,\n",
            " <a href=\"/psf/annual-report/2021/\" title=\"\">PSF Annual Impact Report</a>,\n",
            " <a href=\"/community/workshops/\" title=\"\">Python Conferences</a>,\n",
            " <a href=\"/community/sigs/\" title=\"\">Special Interest Groups</a>,\n",
            " <a href=\"/community/logos/\" title=\"\">Python Logo</a>,\n",
            " <a href=\"https://wiki.python.org/moin/\" title=\"\">Python Wiki</a>,\n",
            " <a href=\"/community/merchandise/\" title=\"\">Merchandise</a>,\n",
            " <a href=\"/community/awards\" title=\"\">Community Awards</a>,\n",
            " <a href=\"/psf/conduct/\" title=\"\">Code of Conduct</a>,\n",
            " <a href=\"/psf/get-involved/\" title=\"\">Get Involved</a>,\n",
            " <a href=\"/psf/community-stories/\" title=\"\">Shared Stories</a>,\n",
            " <a class=\"\" href=\"/success-stories/\" title=\"success-stories\">Success Stories</a>,\n",
            " <a href=\"/success-stories/category/arts/\" title=\"\">Arts</a>,\n",
            " <a href=\"/success-stories/category/business/\" title=\"\">Business</a>,\n",
            " <a href=\"/success-stories/category/education/\" title=\"\">Education</a>,\n",
            " <a href=\"/success-stories/category/engineering/\" title=\"\">Engineering</a>,\n",
            " <a href=\"/success-stories/category/government/\" title=\"\">Government</a>,\n",
            " <a href=\"/success-stories/category/scientific/\" title=\"\">Scientific</a>,\n",
            " <a href=\"/success-stories/category/software-development/\" title=\"\">Software Development</a>,\n",
            " <a class=\"\" href=\"/blogs/\" title=\"News from around the Python world\">News</a>,\n",
            " <a href=\"/blogs/\" title=\"Python Insider Blog Posts\">Python News</a>,\n",
            " <a href=\"/psf/newsletter/\" title=\"Python Software Foundation Newsletter\">PSF Newsletter</a>,\n",
            " <a href=\"http://planetpython.org/\" title=\"Planet Python\">Community News</a>,\n",
            " <a href=\"http://pyfound.blogspot.com/\" title=\"PSF Blog\">PSF News</a>,\n",
            " <a href=\"http://pycon.blogspot.com/\" title=\"PyCon Blog\">PyCon News</a>,\n",
            " <a class=\"\" href=\"/events/\" title=\"\">Events</a>,\n",
            " <a href=\"/events/python-events/\" title=\"\">Python Events</a>,\n",
            " <a href=\"/events/python-user-group/\" title=\"\">User Group Events</a>,\n",
            " <a href=\"/events/python-events/past/\" title=\"\">Python Events Archive</a>,\n",
            " <a href=\"/events/python-user-group/past/\" title=\"\">User Group Events Archive</a>,\n",
            " <a href=\"https://wiki.python.org/moin/PythonEventsCalendar#Submitting_an_Event\" title=\"\">Submit an Event</a>,\n",
            " <a class=\"button prompt\" data-shell-container=\"#dive-into-python\" href=\"/shell/\" id=\"start-shell\">&gt;_\n",
            "                        <span class=\"message\">Launch Interactive Shell</span>\n",
            "</a>,\n",
            " <p>The core of extensible programming is defining functions. Python allows mandatory and optional arguments, keyword arguments, and even arbitrary argument lists. <a href=\"//docs.python.org/3/tutorial/controlflow.html#defining-functions\">More about defining functions in Python 3</a></p>,\n",
            " <a href=\"//docs.python.org/3/tutorial/controlflow.html#defining-functions\">More about defining functions in Python 3</a>,\n",
            " <p>Lists (known as arrays in other languages) are one of the compound data types that Python understands. Lists can be indexed, sliced and manipulated with other built-in functions. <a href=\"//docs.python.org/3/tutorial/introduction.html#lists\">More about lists in Python 3</a></p>,\n",
            " <a href=\"//docs.python.org/3/tutorial/introduction.html#lists\">More about lists in Python 3</a>,\n",
            " <p>Calculations are simple with Python, and expression syntax is straightforward: the operators <code>+</code>, <code>-</code>, <code>*</code> and <code>/</code> work as expected; parentheses <code>()</code> can be used for grouping. <a href=\"http://docs.python.org/3/tutorial/introduction.html#using-python-as-a-calculator\">More about simple math functions in Python 3</a>.</p>,\n",
            " <a href=\"http://docs.python.org/3/tutorial/introduction.html#using-python-as-a-calculator\">More about simple math functions in Python 3</a>,\n",
            " <p>Python knows the usual control flow statements that other languages speak — <code>if</code>, <code>for</code>, <code>while</code> and <code>range</code> — with some of its own twists, of course. <a href=\"//docs.python.org/3/tutorial/controlflow.html\">More control flow tools in Python 3</a></p>,\n",
            " <a href=\"//docs.python.org/3/tutorial/controlflow.html\">More control flow tools in Python 3</a>,\n",
            " <p>Experienced programmers in any other language can pick up Python very quickly, and beginners find the clean syntax and indentation structure easy to learn. <a href=\"//docs.python.org/3/tutorial/\">Whet your appetite</a> with our Python 3 overview.</p>,\n",
            " <a href=\"//docs.python.org/3/tutorial/\">Whet your appetite</a>,\n",
            " <p>Python is a programming language that lets you work quickly <span class=\"breaker\"></span>and integrate systems more effectively. <a class=\"readmore\" href=\"/doc/\">Learn More</a></p>,\n",
            " <a class=\"readmore\" href=\"/doc/\">Learn More</a>,\n",
            " <a class=\"button button--dark button--small button--primary\" href=\"https://www.python.org/psf/donations/2022-q4-drive/\" rel=\"noopener\" style=\"color: #606060; border-color: #006dad; background-color: #006dad;\" target=\"_blank\">Join in today!</a>,\n",
            " <p>Whether you're new to programming or an experienced developer, it's easy to learn and use Python.</p>,\n",
            " <p><a href=\"/about/gettingstarted/\">Start with our Beginner’s Guide</a></p>,\n",
            " <a href=\"/about/gettingstarted/\">Start with our Beginner’s Guide</a>,\n",
            " <p>Python source code and installers are available for download for all versions!</p>,\n",
            " <p>Latest: <a href=\"/downloads/release/python-3110/\">Python 3.11.0</a></p>,\n",
            " <a href=\"/downloads/release/python-3110/\">Python 3.11.0</a>,\n",
            " <p>Documentation for Python's standard library, along with tutorials and guides, are available online.</p>,\n",
            " <p><a href=\"https://docs.python.org\">docs.python.org</a></p>,\n",
            " <a href=\"https://docs.python.org\">docs.python.org</a>,\n",
            " <p>Looking for work or have a Python related position that you're trying to hire for? Our <strong>relaunched community-run job board</strong> is the place to go.</p>,\n",
            " <p><a href=\"//jobs.python.org\">jobs.python.org</a></p>,\n",
            " <a href=\"//jobs.python.org\">jobs.python.org</a>,\n",
            " <p class=\"give-me-more\"><a href=\"https://blog.python.org\" title=\"More News\">More</a></p>,\n",
            " <a href=\"https://blog.python.org\" title=\"More News\">More</a>,\n",
            " <a href=\"https://pythoninsider.blogspot.com/2022/11/python-3120-alpha-2-released.html\">Python 3.12.0 alpha 2 released</a>,\n",
            " <a href=\"https://pyfound.blogspot.com/2022/11/its-time-for-our-annual-year-end-psf.html\">It's time for our annual year-end PSF fundraiser and membership drive 🎉</a>,\n",
            " <a href=\"https://pyfound.blogspot.com/2022/11/thank-you-for-making-pycon-us-amazing.html\">Thank You for Making PyCon US amazing, Jackie!</a>,\n",
            " <a href=\"https://pyfound.blogspot.com/2022/10/announcing-python-software-foundation.html\">Announcing Python Software Foundation Fellow Members for Q3 2022! 🎉</a>,\n",
            " <a href=\"https://mailchi.mp/python/psf-nov-15542325\">Python Software Foundation - October 2022 Newsletter</a>,\n",
            " <p class=\"give-me-more\"><a href=\"/events/calendars/\" title=\"More Events\">More</a></p>,\n",
            " <a href=\"/events/calendars/\" title=\"More Events\">More</a>,\n",
            " <a href=\"/events/python-user-group/1388/\">NZPUG-Auckland Coding Challenge \"Office Hours\" </a>,\n",
            " <a href=\"/events/python-events/1331/\">Pyjamas Conf 2022</a>,\n",
            " <a href=\"/events/python-user-group/1335/\">Django Girls Groningen</a>,\n",
            " <a href=\"/events/python-user-group/1390/\">Getting back to Python land - Stockholm Python User Group</a>,\n",
            " <a href=\"/events/python-user-group/1387/\">NZPUG-Auckland Coding Challenge \"Office Hours\" </a>,\n",
            " <p class=\"give-me-more\"><a href=\"/success-stories/\" title=\"More Success Stories\">More</a></p>,\n",
            " <a href=\"/success-stories/\" title=\"More Success Stories\">More</a>,\n",
            " <a href=\"/success-stories/deliver-clean-and-safe-code-for-your-python-applications/\">\"Some of the things [SonarCloud] spots are impressive (probably driven by some introspection and/or type inference), not just the simple pattern matching that I am used to in most of the flake8 ecosystem.\"\r\n",
            "- Peter J. A. Cock - maintainer of BioPython</a>,\n",
            " <p><a href=\"/success-stories/deliver-clean-and-safe-code-for-your-python-applications/\">Deliver Clean and Safe Code for Your Python Applications</a> <em>by Kirti Joshi, Nicolas Bontoux</em></p>,\n",
            " <a href=\"/success-stories/deliver-clean-and-safe-code-for-your-python-applications/\">Deliver Clean and Safe Code for Your Python Applications</a>,\n",
            " <p class=\"give-me-more\"><a href=\"/about/apps\" title=\"More Applications\">More</a></p>,\n",
            " <a href=\"/about/apps\" title=\"More Applications\">More</a>,\n",
            " <b>Web Development</b>,\n",
            " <a class=\"tag\" href=\"http://www.djangoproject.com/\">Django</a>,\n",
            " <a class=\"tag\" href=\"http://www.pylonsproject.org/\">Pyramid</a>,\n",
            " <a class=\"tag\" href=\"http://bottlepy.org\">Bottle</a>,\n",
            " <a class=\"tag\" href=\"http://tornadoweb.org\">Tornado</a>,\n",
            " <a class=\"tag\" href=\"http://flask.pocoo.org/\">Flask</a>,\n",
            " <a class=\"tag\" href=\"http://www.web2py.com/\">web2py</a>,\n",
            " <b>GUI Development</b>,\n",
            " <a class=\"tag\" href=\"http://wiki.python.org/moin/TkInter\">tkInter</a>,\n",
            " <a class=\"tag\" href=\"https://wiki.gnome.org/Projects/PyGObject\">PyGObject</a>,\n",
            " <a class=\"tag\" href=\"http://www.riverbankcomputing.co.uk/software/pyqt/intro\">PyQt</a>,\n",
            " <a class=\"tag\" href=\"https://wiki.qt.io/PySide\">PySide</a>,\n",
            " <a class=\"tag\" href=\"https://kivy.org/\">Kivy</a>,\n",
            " <a class=\"tag\" href=\"http://www.wxpython.org/\">wxPython</a>,\n",
            " <b>Scientific and Numeric</b>,\n",
            " <a class=\"tag\" href=\"http://www.scipy.org\">SciPy</a>,\n",
            " <a class=\"tag\" href=\"http://pandas.pydata.org/\">Pandas</a>,\n",
            " <a class=\"tag\" href=\"http://ipython.org\">IPython</a>,\n",
            " <b>Software Development</b>,\n",
            " <a class=\"tag\" href=\"http://buildbot.net/\">Buildbot</a>,\n",
            " <a class=\"tag\" href=\"http://trac.edgewall.org/\">Trac</a>,\n",
            " <a class=\"tag\" href=\"http://roundup.sourceforge.net/\">Roundup</a>,\n",
            " <b>System Administration</b>,\n",
            " <a class=\"tag\" href=\"http://www.ansible.com\">Ansible</a>,\n",
            " <a class=\"tag\" href=\"https://saltproject.io\">Salt</a>,\n",
            " <a class=\"tag\" href=\"https://www.openstack.org\">OpenStack</a>,\n",
            " <a class=\"tag\" href=\"https://xon.sh\">xonsh</a>,\n",
            " <a href=\"/dev/peps/\">Python Enhancement Proposals<span class=\"say-no-more\"> (PEPs)</span></a>,\n",
            " <a aria-hidden=\"true\" class=\"rss-link\" href=\"/dev/peps/peps.rss\"><span class=\"icon-feed\"></span> RSS</a>,\n",
            " <a href=\"/psf/\">Python Software Foundation</a>,\n",
            " <p>The mission of the Python Software Foundation is to promote, protect, and advance the Python programming language, and to support and facilitate the growth of a diverse and international community of Python programmers. <a class=\"readmore\" href=\"/psf/\">Learn more</a> </p>,\n",
            " <a class=\"readmore\" href=\"/psf/\">Learn more</a>,\n",
            " <p class=\"click-these\">\n",
            "<a class=\"button\" href=\"/users/membership/\">Become a Member</a>\n",
            "<a class=\"button\" href=\"/psf/donations/\">Donate to the PSF</a>\n",
            "</p>,\n",
            " <a class=\"button\" href=\"/users/membership/\">Become a Member</a>,\n",
            " <a class=\"button\" href=\"/psf/donations/\">Donate to the PSF</a>,\n",
            " <a class=\"jump-link\" href=\"#python-network\" id=\"back-to-top-1\"><span aria-hidden=\"true\" class=\"icon-arrow-up\"><span>▲</span></span> Back to Top</a>,\n",
            " <a href=\"/about/\">About</a>,\n",
            " <a href=\"/about/apps/\" title=\"\">Applications</a>,\n",
            " <a href=\"/about/quotes/\" title=\"\">Quotes</a>,\n",
            " <a href=\"/about/gettingstarted/\" title=\"\">Getting Started</a>,\n",
            " <a href=\"/about/help/\" title=\"\">Help</a>,\n",
            " <a href=\"http://brochure.getpython.info/\" title=\"\">Python Brochure</a>,\n",
            " <a href=\"/downloads/\">Downloads</a>,\n",
            " <a href=\"/downloads/\" title=\"\">All releases</a>,\n",
            " <a href=\"/downloads/source/\" title=\"\">Source code</a>,\n",
            " <a href=\"/downloads/windows/\" title=\"\">Windows</a>,\n",
            " <a href=\"/downloads/macos/\" title=\"\">macOS</a>,\n",
            " <a href=\"/download/other/\" title=\"\">Other Platforms</a>,\n",
            " <a href=\"https://docs.python.org/3/license.html\" title=\"\">License</a>,\n",
            " <a href=\"/download/alternatives\" title=\"\">Alternative Implementations</a>,\n",
            " <a href=\"/doc/\">Documentation</a>,\n",
            " <a href=\"/doc/\" title=\"\">Docs</a>,\n",
            " <a href=\"/doc/av\" title=\"\">Audio/Visual Talks</a>,\n",
            " <a href=\"https://wiki.python.org/moin/BeginnersGuide\" title=\"\">Beginner's Guide</a>,\n",
            " <a href=\"https://devguide.python.org/\" title=\"\">Developer's Guide</a>,\n",
            " <a href=\"https://docs.python.org/faq/\" title=\"\">FAQ</a>,\n",
            " <a href=\"http://wiki.python.org/moin/Languages\" title=\"\">Non-English Docs</a>,\n",
            " <a href=\"http://python.org/dev/peps/\" title=\"\">PEP Index</a>,\n",
            " <a href=\"https://wiki.python.org/moin/PythonBooks\" title=\"\">Python Books</a>,\n",
            " <a href=\"/doc/essays/\" title=\"\">Python Essays</a>,\n",
            " <a href=\"/community/\">Community</a>,\n",
            " <a href=\"/community/diversity/\" title=\"\">Diversity</a>,\n",
            " <a href=\"/community/lists/\" title=\"\">Mailing Lists</a>,\n",
            " <a href=\"/community/irc/\" title=\"\">IRC</a>,\n",
            " <a href=\"/community/forums/\" title=\"\">Forums</a>,\n",
            " <a href=\"/psf/annual-report/2021/\" title=\"\">PSF Annual Impact Report</a>,\n",
            " <a href=\"/community/workshops/\" title=\"\">Python Conferences</a>,\n",
            " <a href=\"/community/sigs/\" title=\"\">Special Interest Groups</a>,\n",
            " <a href=\"/community/logos/\" title=\"\">Python Logo</a>,\n",
            " <a href=\"https://wiki.python.org/moin/\" title=\"\">Python Wiki</a>,\n",
            " <a href=\"/community/merchandise/\" title=\"\">Merchandise</a>,\n",
            " <a href=\"/community/awards\" title=\"\">Community Awards</a>,\n",
            " <a href=\"/psf/conduct/\" title=\"\">Code of Conduct</a>,\n",
            " <a href=\"/psf/get-involved/\" title=\"\">Get Involved</a>,\n",
            " <a href=\"/psf/community-stories/\" title=\"\">Shared Stories</a>,\n",
            " <a href=\"/success-stories/\" title=\"success-stories\">Success Stories</a>,\n",
            " <a href=\"/success-stories/category/arts/\" title=\"\">Arts</a>,\n",
            " <a href=\"/success-stories/category/business/\" title=\"\">Business</a>,\n",
            " <a href=\"/success-stories/category/education/\" title=\"\">Education</a>,\n",
            " <a href=\"/success-stories/category/engineering/\" title=\"\">Engineering</a>,\n",
            " <a href=\"/success-stories/category/government/\" title=\"\">Government</a>,\n",
            " <a href=\"/success-stories/category/scientific/\" title=\"\">Scientific</a>,\n",
            " <a href=\"/success-stories/category/software-development/\" title=\"\">Software Development</a>,\n",
            " <a href=\"/blogs/\" title=\"News from around the Python world\">News</a>,\n",
            " <a href=\"/blogs/\" title=\"Python Insider Blog Posts\">Python News</a>,\n",
            " <a href=\"/psf/newsletter/\" title=\"Python Software Foundation Newsletter\">PSF Newsletter</a>,\n",
            " <a href=\"http://planetpython.org/\" title=\"Planet Python\">Community News</a>,\n",
            " <a href=\"http://pyfound.blogspot.com/\" title=\"PSF Blog\">PSF News</a>,\n",
            " <a href=\"http://pycon.blogspot.com/\" title=\"PyCon Blog\">PyCon News</a>,\n",
            " <a href=\"/events/\">Events</a>,\n",
            " <a href=\"/events/python-events/\" title=\"\">Python Events</a>,\n",
            " <a href=\"/events/python-user-group/\" title=\"\">User Group Events</a>,\n",
            " <a href=\"/events/python-events/past/\" title=\"\">Python Events Archive</a>,\n",
            " <a href=\"/events/python-user-group/past/\" title=\"\">User Group Events Archive</a>,\n",
            " <a href=\"https://wiki.python.org/moin/PythonEventsCalendar#Submitting_an_Event\" title=\"\">Submit an Event</a>,\n",
            " <a href=\"/dev/\">Contributing</a>,\n",
            " <a href=\"https://devguide.python.org/\" title=\"\">Developer's Guide</a>,\n",
            " <a href=\"https://bugs.python.org/\" title=\"\">Issue Tracker</a>,\n",
            " <a href=\"https://mail.python.org/mailman/listinfo/python-dev\" title=\"\">python-dev list</a>,\n",
            " <a href=\"/dev/core-mentorship/\" title=\"\">Core Mentorship</a>,\n",
            " <a href=\"/dev/security/\" title=\"\">Report a Security Issue</a>,\n",
            " <a class=\"jump-link\" href=\"#python-network\" id=\"back-to-top-2\"><span aria-hidden=\"true\" class=\"icon-arrow-up\"><span>▲</span></span> Back to Top</a>,\n",
            " <a href=\"/about/help/\">Help &amp; <span class=\"say-no-more\">General</span> Contact</a>,\n",
            " <a href=\"/community/diversity/\">Diversity <span class=\"say-no-more\">Initiatives</span></a>,\n",
            " <a href=\"https://github.com/python/pythondotorg/issues\">Submit Website Bug</a>,\n",
            " <a href=\"https://status.python.org/\">Status <span class=\"python-status-indicator-default\" id=\"python-status-indicator\"></span></a>,\n",
            " <p><small>\n",
            "<span class=\"pre\">Copyright ©2001-2022.</span>\n",
            "                             <span class=\"pre\"><a href=\"/psf-landing/\">Python Software Foundation</a></span>\n",
            "                             <span class=\"pre\"><a href=\"/about/legal/\">Legal Statements</a></span>\n",
            "                             <span class=\"pre\"><a href=\"/privacy/\">Privacy Policy</a></span>\n",
            "                             <span class=\"pre\"><a href=\"/psf/sponsorship/sponsors/#heroku\">Powered by Heroku</a></span>\n",
            "</small></p>,\n",
            " <a href=\"/psf-landing/\">Python Software Foundation</a>,\n",
            " <a href=\"/about/legal/\">Legal Statements</a>,\n",
            " <a href=\"/privacy/\">Privacy Policy</a>,\n",
            " <a href=\"/psf/sponsorship/sponsors/#heroku\">Powered by Heroku</a>]\n"
          ]
        }
      ],
      "source": [
        "from pprint import pprint\n",
        "\n",
        "tags = soup.find_all([\"a\", \"b\", \"p\"]) # 搜尋所有超連結與粗體字\n",
        "pprint(tags)"
      ]
    },
    {
      "cell_type": "code",
      "execution_count": null,
      "metadata": {
        "colab": {
          "base_uri": "https://localhost:8080/"
        },
        "id": "QdWbrjToCZJe",
        "outputId": "333f57bb-8a4c-480f-c348-c8768508876e"
      },
      "outputs": [
        {
          "name": "stdout",
          "output_type": "stream",
          "text": [
            "[<p><strong>Notice:</strong> While JavaScript is not essential for this website, your interaction with the content will be limited. Please turn JavaScript on for the full experience. </p>,\n",
            " <a href=\"#content\" title=\"Skip to content\">Skip to content</a>]\n"
          ]
        }
      ],
      "source": [
        "tags = soup.find_all([\"a\", \"p\"], limit=2) # 限制搜尋結果數量limit\n",
        "pprint(tags)"
      ]
    },
    {
      "cell_type": "markdown",
      "metadata": {
        "id": "4aLRQSw9HuZ0"
      },
      "source": [
        "### `soup.select()`\n"
      ]
    },
    {
      "cell_type": "markdown",
      "metadata": {
        "id": "iaMkgMgTtZVR"
      },
      "source": [
        "- 用CSS Seletor選擇器，結果回傳為list\n",
        "- list裡面如果還是標籤形式，這些標籤還是`bs`物件，要解出來才能接著python操作\n",
        "\n",
        "```python\n",
        "select(selector, _candidate_generator=None, limit=None)\n",
        "\n",
        "```"
      ]
    },
    {
      "cell_type": "code",
      "execution_count": null,
      "metadata": {
        "id": "gs024RN3vl9c"
      },
      "outputs": [],
      "source": [
        "from bs4 import BeautifulSoup\n",
        "import requests\n",
        "\n",
        "res = requests.get('http://www.example.com/')\n",
        "soup = BeautifulSoup(res.text, \"lxml\")"
      ]
    },
    {
      "cell_type": "code",
      "execution_count": null,
      "metadata": {
        "id": "xYb6livXvo0c"
      },
      "outputs": [],
      "source": [
        "select_a = soup.select(\"a\")"
      ]
    },
    {
      "cell_type": "code",
      "execution_count": null,
      "metadata": {
        "colab": {
          "base_uri": "https://localhost:8080/"
        },
        "id": "lsEnAh36wFar",
        "outputId": "1a4a858e-78ea-4801-88e4-d0f3a5c7104a"
      },
      "outputs": [
        {
          "name": "stdout",
          "output_type": "stream",
          "text": [
            "<class 'list'>\n",
            "[<a href=\"https://www.iana.org/domains/example\">More information...</a>]\n"
          ]
        }
      ],
      "source": [
        "print(type(select_a))\n",
        "print(select_a)"
      ]
    },
    {
      "cell_type": "code",
      "execution_count": null,
      "metadata": {
        "colab": {
          "base_uri": "https://localhost:8080/"
        },
        "id": "8ucczof1vyvi",
        "outputId": "97fcbc57-9839-401a-ab88-94c4fcc2ed47"
      },
      "outputs": [
        {
          "name": "stdout",
          "output_type": "stream",
          "text": [
            "<class 'bs4.element.Tag'>\n",
            "<a href=\"https://www.iana.org/domains/example\">More information...</a>\n"
          ]
        }
      ],
      "source": [
        "print(type(select_a[0]))\n",
        "print(select_a[0])"
      ]
    },
    {
      "cell_type": "code",
      "execution_count": null,
      "metadata": {
        "colab": {
          "base_uri": "https://localhost:8080/"
        },
        "id": "EcAnjLQ2v7Xx",
        "outputId": "3da66508-8d2f-4847-a07d-c24d92c5a443"
      },
      "outputs": [
        {
          "name": "stdout",
          "output_type": "stream",
          "text": [
            "<property object at 0x7f5bd4446590>\n",
            "More information...\n"
          ]
        }
      ],
      "source": [
        "#解析內文\n",
        "print(type(select_a[0]).text)\n",
        "print(select_a[0].text)"
      ]
    },
    {
      "cell_type": "code",
      "execution_count": null,
      "metadata": {
        "id": "q8m7gTGhwNjs"
      },
      "outputs": [],
      "source": [
        "select_href1 = soup.select('[href]')"
      ]
    },
    {
      "cell_type": "code",
      "execution_count": null,
      "metadata": {
        "colab": {
          "base_uri": "https://localhost:8080/"
        },
        "id": "9YUGKinNwpVu",
        "outputId": "26744f6f-33d6-4fc5-902c-549624592185"
      },
      "outputs": [
        {
          "name": "stdout",
          "output_type": "stream",
          "text": [
            "<class 'list'>\n",
            "[<a href=\"https://www.iana.org/domains/example\">More information...</a>]\n"
          ]
        }
      ],
      "source": [
        "print(type(select_href1))\n",
        "print(select_href1)"
      ]
    },
    {
      "cell_type": "code",
      "execution_count": null,
      "metadata": {
        "colab": {
          "base_uri": "https://localhost:8080/"
        },
        "id": "TzxFg2jlwrNo",
        "outputId": "6bedcf0f-056d-40c9-e6fe-985ee3062952"
      },
      "outputs": [
        {
          "name": "stdout",
          "output_type": "stream",
          "text": [
            "<class 'bs4.element.Tag'>\n",
            "<a href=\"https://www.iana.org/domains/example\">More information...</a>\n"
          ]
        }
      ],
      "source": [
        "print(type(select_href1[0]))\n",
        "print(select_href1[0])"
      ]
    },
    {
      "cell_type": "code",
      "execution_count": null,
      "metadata": {
        "colab": {
          "base_uri": "https://localhost:8080/"
        },
        "id": "Hjlvmti9wzXr",
        "outputId": "e2f9b762-4702-4f6d-c3e9-5c14a02a8aee"
      },
      "outputs": [
        {
          "name": "stdout",
          "output_type": "stream",
          "text": [
            "<class 'str'>\n",
            "https://www.iana.org/domains/example\n"
          ]
        }
      ],
      "source": [
        "#配合`.get(屬性)`來解析屬性\n",
        "print(type(select_href1[0].get('href')))\n",
        "print(select_href1[0].get('href'))"
      ]
    },
    {
      "cell_type": "code",
      "execution_count": null,
      "metadata": {
        "id": "Z2Y1wQN7IQiU"
      },
      "outputs": [],
      "source": [
        "import requests\n",
        "from bs4 import BeautifulSoup\n",
        "\n",
        "res = requests.get('http://python.org/')\n",
        "soup = BeautifulSoup(res.text, \"lxml\")\n",
        "a1=soup.select(\"#touchnav-wrapper > header > div > h1 > a > img\")"
      ]
    },
    {
      "cell_type": "code",
      "execution_count": null,
      "metadata": {
        "colab": {
          "base_uri": "https://localhost:8080/"
        },
        "id": "FdW1cAuEKdcb",
        "outputId": "4e12a02f-824a-40ac-edeb-3c5433a4da1a"
      },
      "outputs": [
        {
          "data": {
            "text/plain": [
              "[<img alt=\"python™\" class=\"python-logo\" src=\"/static/img/python-logo.png\"/>]"
            ]
          },
          "execution_count": 89,
          "metadata": {},
          "output_type": "execute_result"
        }
      ],
      "source": [
        "a1"
      ]
    },
    {
      "cell_type": "code",
      "execution_count": null,
      "metadata": {
        "id": "yWF8D_bSqBe6"
      },
      "outputs": [],
      "source": []
    },
    {
      "cell_type": "code",
      "execution_count": null,
      "metadata": {
        "colab": {
          "base_uri": "https://localhost:8080/",
          "height": 35
        },
        "id": "NhlAE_M0OvP-",
        "outputId": "bdead5d3-aa3d-4fff-a733-893693847130"
      },
      "outputs": [
        {
          "data": {
            "application/vnd.google.colaboratory.intrinsic+json": {
              "type": "string"
            },
            "text/plain": [
              "'/static/img/python-logo.png'"
            ]
          },
          "execution_count": 90,
          "metadata": {},
          "output_type": "execute_result"
        }
      ],
      "source": [
        "a1[0].get(\"src\")"
      ]
    },
    {
      "cell_type": "markdown",
      "metadata": {
        "id": "PbkO2Q-K9QCi"
      },
      "source": [
        "## 結合正規表達式regular expression進行搜尋\n"
      ]
    },
    {
      "cell_type": "markdown",
      "metadata": {
        "id": "eNSsgL9jx250"
      },
      "source": [
        "- 正規表達式對於精準抓取網頁的各種標籤及內文非常有幫助，解決了許多Xpath與CSS selector無法精確擷取的問題，有必要好好理解。\n",
        "- 擷取的文句段落可以使用[regex101.com](https://regex101.com/)測試。"
      ]
    },
    {
      "cell_type": "markdown",
      "metadata": {
        "id": "DFqB9BQol4IN"
      },
      "source": [
        "\n",
        "|符號|意義|範例|符合字串範例\n",
        "|-|-|-|-\n",
        "|`*`|`*`之前的字元、表達式或`[]`字元集合，出現為0或1個以上|`a*b*`|aaaa、aaabb、bbbb\n",
        "|`+`|`+`之前的字元、表達式或`[]`字元集合，出現為1或1個以上|`a+b+`|aaab、aabbb、abbb\n",
        "|`?`|`+`之前的字元、表達式或`[]`字元集合，出現為0或1次|`a?b?`|ab、b\n",
        "|`[]`|`[]`內的任一字元挑一個|`[A-Z]*`|ALLPE、CAP、QWER\n",
        "|`()`|`()`群組，群組運算優先處理|`(a*b)*`|aabaab、abaab、ababab\n",
        "|`{m,n}`|符合在`{m,n}`前一個字元、表達式或`[]`集合，出現m到n次(包含m與n|`a{2,3}b{2,3}`|aabbb、aaabbb、aabb\n",
        "|`[^]`|符合任一個不再`[]`的字元|`[^A-Z]*`|apple、banana、cat\n",
        "|`\\|`|符合被`\\|`隔開的前後任一字元、字串或表達式|`b(a\\|i\\|e)d`|bad、bid、bed\n",
        "|`.`|符合任一字元(含符號、數字、空格等)|`b.d`|bsd、bid、bed\n",
        "|`^`|`^`之後的第1個字元為開頭的字串|`^a`|apple、afk\n",
        "|`$`|`$`之前的末1個字元為結尾，否則會`.*`|`[A-Z]*[a-z]*$`|Aab、zzz\n",
        "|`\\d`|所有數字|`\\d`|455、5566\n",
        "|`\\w`|所有文字字元|`\\w`|123ABC、C8763\n",
        "|`\\s`|所有非無的字元與操作|`\\s`|`Tab, Space, Escape, …`\n",
        "\n"
      ]
    },
    {
      "cell_type": "markdown",
      "metadata": {
        "id": "bhyq1jQH_Hzm"
      },
      "source": [
        "#### Python的re模組\n",
        "- 可至[regex101](https://regex101.com/)嘗試\n",
        "- 為了避免與字串中的跳脫字元產生混淆，定義正規表達式樣式建議使用原始字串(raw string)，也就是在字串前加r''"
      ]
    },
    {
      "cell_type": "markdown",
      "metadata": {
        "id": "tMcBImeQIiDh"
      },
      "source": [
        "##### 參考寫法\n",
        "```python\n",
        "import re\n",
        "\n",
        "# 找出所有內容等於 python_crawler 的文字\n",
        "pattern = \"我寫好的 regular expression\"\n",
        "string = \"我想要找的字串\"\n",
        "re.findall(pattern, string)\n",
        "```"
      ]
    },
    {
      "cell_type": "code",
      "execution_count": null,
      "metadata": {
        "colab": {
          "base_uri": "https://localhost:8080/"
        },
        "id": "RZDDwMTBL2Nh",
        "outputId": "7e9b43e3-a7e3-44b7-ffc8-99cd23f032e5"
      },
      "outputs": [
        {
          "data": {
            "text/plain": [
              "['我', '我', '我']"
            ]
          },
          "execution_count": 91,
          "metadata": {},
          "output_type": "execute_result"
        }
      ],
      "source": [
        "import re\n",
        "\n",
        "pattern = \"我\"\n",
        "string = \"我想要找的字串我我\"\n",
        "re.findall(pattern, string)"
      ]
    },
    {
      "cell_type": "code",
      "execution_count": null,
      "metadata": {
        "id": "CYwDH1z1Yy5j"
      },
      "outputs": [],
      "source": [
        "import re\n",
        "\n",
        "pattern = \"^[a-zA-Z0-9\\._-]+@[a-zA-Z0-9\\._-]+$\"\n",
        "string = \"willismax.com@gmail.com\"\n",
        "re.findall(pattern, string)"
      ]
    },
    {
      "cell_type": "code",
      "execution_count": null,
      "metadata": {
        "colab": {
          "base_uri": "https://localhost:8080/"
        },
        "id": "BdZYbCHWc7eM",
        "outputId": "1774cb23-2e6c-4432-9855-4b3c1f477d64"
      },
      "outputs": [
        {
          "data": {
            "text/plain": [
              "['h1',\n",
              " 'h1',\n",
              " 'h1',\n",
              " 'h1',\n",
              " 'h1',\n",
              " 'h1',\n",
              " 'h1',\n",
              " 'h1',\n",
              " 'h1',\n",
              " 'h1',\n",
              " 'h1',\n",
              " 'h1',\n",
              " 'h2',\n",
              " 'h2',\n",
              " 'h2',\n",
              " 'h2',\n",
              " 'h2',\n",
              " 'h2',\n",
              " 'h2',\n",
              " 'h2',\n",
              " 'h2',\n",
              " 'h2',\n",
              " 'h2',\n",
              " 'h2',\n",
              " 'h2',\n",
              " 'h2',\n",
              " 'h2',\n",
              " 'h2',\n",
              " 'h2',\n",
              " 'h2',\n",
              " 'h2',\n",
              " 'h2']"
            ]
          },
          "execution_count": 92,
          "metadata": {},
          "output_type": "execute_result"
        }
      ],
      "source": [
        "import requests\n",
        "import re\n",
        "\n",
        "res = requests.get('http://python.org/')\n",
        "\n",
        "pattern = r'h[1-6]' #標題h1-h6\n",
        "string = res.text\n",
        "re.findall(pattern, string)"
      ]
    },
    {
      "cell_type": "code",
      "execution_count": null,
      "metadata": {
        "colab": {
          "base_uri": "https://localhost:8080/"
        },
        "id": "5cBsSTM4d1oq",
        "outputId": "922faea4-34de-4f7c-bddf-121ae005d4cf"
      },
      "outputs": [
        {
          "data": {
            "text/plain": [
              "['\"/static/apple-touch-icon-144x144-precomposed.png\"',\n",
              " '\"/static/apple-touch-icon-114x114-precomposed.png\"',\n",
              " '\"/static/apple-touch-icon-72x72-precomposed.png\"',\n",
              " '\"/static/apple-touch-icon-precomposed.png\"',\n",
              " '\"/static/apple-touch-icon-precomposed.png\"',\n",
              " '\"/static/metro-icon-144x144-precomposed.png\"',\n",
              " '\"https://www.python.org/static/opengraph-icon-200x200.png\"',\n",
              " '\"https://www.python.org/static/opengraph-icon-200x200.png\"',\n",
              " '\"/static/img/python-logo.png\"']"
            ]
          },
          "execution_count": 94,
          "metadata": {},
          "output_type": "execute_result"
        }
      ],
      "source": [
        "import re\n",
        "\n",
        "res = requests.get('http://python.org/')\n",
        "\n",
        "pattern = r'\"\\S*.png\"' # .jpg或.png結尾\n",
        "string = res.text\n",
        "re.findall(pattern, string)"
      ]
    },
    {
      "cell_type": "markdown",
      "metadata": {
        "id": "_InTBJdlqQNE"
      },
      "source": [
        "## 網頁擷取實例\n"
      ]
    },
    {
      "cell_type": "markdown",
      "metadata": {
        "id": "RrUdffk-pK7M"
      },
      "source": [
        "### 以PPT 為例\n"
      ]
    },
    {
      "cell_type": "markdown",
      "metadata": {
        "id": "qF4cq73HpMg1"
      },
      "source": [
        "- 這邊開始要示範使用Chrome開發者工具進行搜尋\n",
        "- 先觀察目標網頁: https://www.ptt.cc/bbs/StupidClown/index.html\n",
        "- 使用Chrome瀏覽器，以滑鼠右鍵選擇「檢查」，快捷鍵在windows環境為ctrl+Shift+I或F12\n",
        "\n",
        "- 另外如果要用別人寫好的，參閱https://dotblogs.com.tw/codinghouse/2018/10/22/pttcrawler"
      ]
    },
    {
      "cell_type": "code",
      "execution_count": null,
      "metadata": {
        "id": "TAZxybs3ONZy"
      },
      "outputs": [],
      "source": [
        "//*[@id=\"main-container\"]/div[2]/div[2]/div[2]/a\n",
        "#main-container > div.r-list-container.action-bar-margin.bbs-screen > div:nth-child(2) > div.title > a"
      ]
    },
    {
      "cell_type": "markdown",
      "metadata": {
        "id": "XMdTi4BBfd-C"
      },
      "source": [
        "![](https://i.imgur.com/K55v4SH.png)\n"
      ]
    },
    {
      "cell_type": "markdown",
      "metadata": {
        "id": "JiNSwFzUhMb9"
      },
      "source": [
        "- 文章列表可以觀察到推文數、文章標題、作者、日期及文章連結\n",
        "- 我們先觀察他的樹狀結構，對應的標籤與屬性\n",
        "- 以COPY XPath紀錄\n",
        "\n",
        "|名稱|selector|\n",
        "-|-\n",
        "標題|`//*[@id=\"main-container\"]/div[2]/div[4]/div[2]/a`\n",
        "連結|`//*[@id=\"main-container\"]/div[2]/div[4]/div[2]/a`"
      ]
    },
    {
      "cell_type": "code",
      "execution_count": null,
      "metadata": {
        "colab": {
          "base_uri": "https://localhost:8080/"
        },
        "id": "nFIcyv2v6hRg",
        "outputId": "2622ccba-3881-45c2-cfcf-1203b837f5ac"
      },
      "outputs": [
        {
          "name": "stdout",
          "output_type": "stream",
          "text": [
            "<!DOCTYPE html>\n",
            "<html>\n",
            "\t<head>\n",
            "\t\t<meta charset=\"utf-8\">\n",
            "\t\t\n",
            "\n",
            "<meta name=\"viewport\" content=\"width=device-width, initial-scale=1\">\n",
            "\n",
            "<title>看板 StupidClown 文章列表 - 批踢踢實業坊</title>\n",
            "\n",
            "<link rel=\"stylesheet\" type=\"text/css\" href=\"//images.ptt.cc/bbs/v2.27/bbs-common.css\">\n",
            "<link rel=\"stylesheet\" type=\"text/css\" href=\"//images.ptt.cc/bbs/v2.27/bbs-base.css\" media=\"screen\">\n",
            "<link rel=\"stylesheet\" type=\"text/css\" href=\"//images.ptt.cc/bbs/v2.27/bbs-custom.css\">\n",
            "<link rel=\"stylesheet\" type=\"text/css\" href=\"//images.ptt.cc/bbs/v2.27/pushstream.css\" media=\"screen\">\n",
            "<link rel=\"stylesheet\" type=\"text/css\" href=\"//images.ptt.cc/bbs/v2.27/bbs-print.css\" media=\"print\">\n",
            "\n",
            "\n",
            "\n",
            "\n",
            "\t</head>\n",
            "    <body>\n",
            "\t\t\n",
            "<div id=\"topbar-container\">\n",
            "\t<div id=\"topbar\" class=\"bbs-content\">\n",
            "\t\t<a id=\"logo\" href=\"/bbs/\">批踢踢實業坊</a>\n",
            "\t\t<span>&rsaquo;</span>\n",
            "\t\t<a class=\"board\" href=\"/bbs/StupidClown/index.html\"><span class=\"board-label\">看板 </span>StupidClown</a>\n",
            "\t\t<a class=\"right small\" href=\"/about.html\">關於我們</a>\n",
            "\t\t<a class=\"right small\" href=\"/contact.html\">聯絡資訊</a>\n",
            "\t</div>\n",
            "</div>\n",
            "\n",
            "<div id=\"main-container\">\n",
            "\t<div id=\"action-bar-container\">\n",
            "\t\t<div class=\"action-bar\">\n",
            "\t\t\t<div class=\"btn-group btn-group-dir\">\n",
            "\t\t\t\t<a class=\"btn selected\" href=\"/bbs/StupidClown/index.html\">看板</a>\n",
            "\t\t\t\t<a class=\"btn\" href=\"/man/StupidClown/index.html\">精華區</a>\n",
            "\t\t\t</div>\n",
            "\t\t\t<div class=\"btn-group btn-group-paging\">\n",
            "\t\t\t\t<a class=\"btn wide\" href=\"/bbs/StupidClown/index1.html\">最舊</a>\n",
            "\t\t\t\t<a class=\"btn wide\" href=\"/bbs/StupidClown/index4029.html\">&lsaquo; 上頁</a>\n",
            "\t\t\t\t<a class=\"btn wide disabled\">下頁 &rsaquo;</a>\n",
            "\t\t\t\t<a class=\"btn wide\" href=\"/bbs/StupidClown/index.html\">最新</a>\n",
            "\t\t\t</div>\n",
            "\t\t</div>\n",
            "\t</div>\n",
            "\n",
            "\t<div class=\"r-list-container action-bar-margin bbs-screen\">\n",
            "\t\t<div class=\"search-bar\">\n",
            "\t\t\t<form type=\"get\" action=\"search\" id=\"search-bar\">\n",
            "\t\t\t\t<input class=\"query\" type=\"text\" name=\"q\" value=\"\" placeholder=\"搜尋文章&#x22ef;\">\n",
            "\t\t\t</form>\n",
            "\t\t</div>\n",
            "\n",
            "\t\t\n",
            "\t\t\n",
            "            \n",
            "        \n",
            "        \n",
            "\t\t<div class=\"r-ent\">\n",
            "\t\t\t<div class=\"nrec\"><span class=\"hl f2\">2</span></div>\n",
            "\t\t\t<div class=\"title\">\n",
            "\t\t\t\n",
            "\t\t\t\t<a href=\"/bbs/StupidClown/M.1668829121.A.8E6.html\">Re: [無言] 下錯月台</a>\n",
            "\t\t\t\n",
            "\t\t\t</div>\n",
            "\t\t\t<div class=\"meta\">\n",
            "\t\t\t\t<div class=\"author\">MoronJJ</div>\n",
            "\t\t\t\t<div class=\"article-menu\">\n",
            "\t\t\t\t\t\n",
            "\t\t\t\t\t<div class=\"trigger\">&#x22ef;</div>\n",
            "\t\t\t\t\t<div class=\"dropdown\">\n",
            "\t\t\t\t\t\t<div class=\"item\"><a href=\"/bbs/StupidClown/search?q=thread%3A%5B%E7%84%A1%E8%A8%80%5D&#43;%E4%B8%8B%E9%8C%AF%E6%9C%88%E5%8F%B0\">搜尋同標題文章</a></div>\n",
            "\t\t\t\t\t\t\n",
            "\t\t\t\t\t\t<div class=\"item\"><a href=\"/bbs/StupidClown/search?q=author%3AMoronJJ\">搜尋看板內 MoronJJ 的文章</a></div>\n",
            "\t\t\t\t\t\t\n",
            "\t\t\t\t\t</div>\n",
            "\t\t\t\t\t\n",
            "\t\t\t\t</div>\n",
            "\t\t\t\t<div class=\"date\">11/19</div>\n",
            "\t\t\t\t<div class=\"mark\"></div>\n",
            "\t\t\t</div>\n",
            "\t\t</div>\n",
            "\n",
            "\t\t\n",
            "            \n",
            "        \n",
            "        \n",
            "\t\t<div class=\"r-ent\">\n",
            "\t\t\t<div class=\"nrec\"></div>\n",
            "\t\t\t<div class=\"title\">\n",
            "\t\t\t\n",
            "\t\t\t\t<a href=\"/bbs/StupidClown/M.1668831384.A.31C.html\">Re: [無言] 電腦白痴</a>\n",
            "\t\t\t\n",
            "\t\t\t</div>\n",
            "\t\t\t<div class=\"meta\">\n",
            "\t\t\t\t<div class=\"author\">dw7931425</div>\n",
            "\t\t\t\t<div class=\"article-menu\">\n",
            "\t\t\t\t\t\n",
            "\t\t\t\t\t<div class=\"trigger\">&#x22ef;</div>\n",
            "\t\t\t\t\t<div class=\"dropdown\">\n",
            "\t\t\t\t\t\t<div class=\"item\"><a href=\"/bbs/StupidClown/search?q=thread%3A%5B%E7%84%A1%E8%A8%80%5D&#43;%E9%9B%BB%E8%85%A6%E7%99%BD%E7%97%B4\">搜尋同標題文章</a></div>\n",
            "\t\t\t\t\t\t\n",
            "\t\t\t\t\t\t<div class=\"item\"><a href=\"/bbs/StupidClown/search?q=author%3Adw7931425\">搜尋看板內 dw7931425 的文章</a></div>\n",
            "\t\t\t\t\t\t\n",
            "\t\t\t\t\t</div>\n",
            "\t\t\t\t\t\n",
            "\t\t\t\t</div>\n",
            "\t\t\t\t<div class=\"date\">11/19</div>\n",
            "\t\t\t\t<div class=\"mark\"></div>\n",
            "\t\t\t</div>\n",
            "\t\t</div>\n",
            "\n",
            "\t\t\n",
            "        \n",
            "        <div class=\"r-list-sep\"></div>\n",
            "            \n",
            "                \n",
            "        \n",
            "        \n",
            "\t\t<div class=\"r-ent\">\n",
            "\t\t\t<div class=\"nrec\"></div>\n",
            "\t\t\t<div class=\"title\">\n",
            "\t\t\t\n",
            "\t\t\t\t<a href=\"/bbs/StupidClown/M.1158735717.A.828.html\">[公告] 笨板板規</a>\n",
            "\t\t\t\n",
            "\t\t\t</div>\n",
            "\t\t\t<div class=\"meta\">\n",
            "\t\t\t\t<div class=\"author\">F7</div>\n",
            "\t\t\t\t<div class=\"article-menu\">\n",
            "\t\t\t\t\t\n",
            "\t\t\t\t\t<div class=\"trigger\">&#x22ef;</div>\n",
            "\t\t\t\t\t<div class=\"dropdown\">\n",
            "\t\t\t\t\t\t<div class=\"item\"><a href=\"/bbs/StupidClown/search?q=thread%3A%5B%E5%85%AC%E5%91%8A%5D&#43;%E7%AC%A8%E6%9D%BF%E6%9D%BF%E8%A6%8F\">搜尋同標題文章</a></div>\n",
            "\t\t\t\t\t\t\n",
            "\t\t\t\t\t\t<div class=\"item\"><a href=\"/bbs/StupidClown/search?q=author%3AF7\">搜尋看板內 F7 的文章</a></div>\n",
            "\t\t\t\t\t\t\n",
            "\t\t\t\t\t</div>\n",
            "\t\t\t\t\t\n",
            "\t\t\t\t</div>\n",
            "\t\t\t\t<div class=\"date\"> 9/20</div>\n",
            "\t\t\t\t<div class=\"mark\">!</div>\n",
            "\t\t\t</div>\n",
            "\t\t</div>\n",
            "\n",
            "            \n",
            "                \n",
            "        \n",
            "        \n",
            "\t\t<div class=\"r-ent\">\n",
            "\t\t\t<div class=\"nrec\"><span class=\"hl f3\">22</span></div>\n",
            "\t\t\t<div class=\"title\">\n",
            "\t\t\t\n",
            "\t\t\t\t<a href=\"/bbs/StupidClown/M.1435710970.A.31E.html\">[公告]本板即日起不可PO問卷文</a>\n",
            "\t\t\t\n",
            "\t\t\t</div>\n",
            "\t\t\t<div class=\"meta\">\n",
            "\t\t\t\t<div class=\"author\">F7</div>\n",
            "\t\t\t\t<div class=\"article-menu\">\n",
            "\t\t\t\t\t\n",
            "\t\t\t\t\t<div class=\"trigger\">&#x22ef;</div>\n",
            "\t\t\t\t\t<div class=\"dropdown\">\n",
            "\t\t\t\t\t\t<div class=\"item\"><a href=\"/bbs/StupidClown/search?q=thread%3A%5B%E5%85%AC%E5%91%8A%5D%E6%9C%AC%E6%9D%BF%E5%8D%B3%E6%97%A5%E8%B5%B7%E4%B8%8D%E5%8F%AFPO%E5%95%8F%E5%8D%B7%E6%96%87\">搜尋同標題文章</a></div>\n",
            "\t\t\t\t\t\t\n",
            "\t\t\t\t\t\t<div class=\"item\"><a href=\"/bbs/StupidClown/search?q=author%3AF7\">搜尋看板內 F7 的文章</a></div>\n",
            "\t\t\t\t\t\t\n",
            "\t\t\t\t\t</div>\n",
            "\t\t\t\t\t\n",
            "\t\t\t\t</div>\n",
            "\t\t\t\t<div class=\"date\"> 7/01</div>\n",
            "\t\t\t\t<div class=\"mark\">M</div>\n",
            "\t\t\t</div>\n",
            "\t\t</div>\n",
            "\n",
            "            \n",
            "                \n",
            "        \n",
            "        \n",
            "\t\t<div class=\"r-ent\">\n",
            "\t\t\t<div class=\"nrec\"><span class=\"hl f2\">6</span></div>\n",
            "\t\t\t<div class=\"title\">\n",
            "\t\t\t\n",
            "\t\t\t\t<a href=\"/bbs/StupidClown/M.1667491247.A.0B7.html\">[公告] 11月份置底閒聊文 </a>\n",
            "\t\t\t\n",
            "\t\t\t</div>\n",
            "\t\t\t<div class=\"meta\">\n",
            "\t\t\t\t<div class=\"author\">F7</div>\n",
            "\t\t\t\t<div class=\"article-menu\">\n",
            "\t\t\t\t\t\n",
            "\t\t\t\t\t<div class=\"trigger\">&#x22ef;</div>\n",
            "\t\t\t\t\t<div class=\"dropdown\">\n",
            "\t\t\t\t\t\t<div class=\"item\"><a href=\"/bbs/StupidClown/search?q=thread%3A%5B%E5%85%AC%E5%91%8A%5D&#43;11%E6%9C%88%E4%BB%BD%E7%BD%AE%E5%BA%95%E9%96%92%E8%81%8A%E6%96%87&#43;\">搜尋同標題文章</a></div>\n",
            "\t\t\t\t\t\t\n",
            "\t\t\t\t\t\t<div class=\"item\"><a href=\"/bbs/StupidClown/search?q=author%3AF7\">搜尋看板內 F7 的文章</a></div>\n",
            "\t\t\t\t\t\t\n",
            "\t\t\t\t\t</div>\n",
            "\t\t\t\t\t\n",
            "\t\t\t\t</div>\n",
            "\t\t\t\t<div class=\"date\">11/04</div>\n",
            "\t\t\t\t<div class=\"mark\"></div>\n",
            "\t\t\t</div>\n",
            "\t\t</div>\n",
            "\n",
            "            \n",
            "        \n",
            "\t</div>\n",
            "\n",
            "    \n",
            "</div>\n",
            "\n",
            "\t\t\n",
            "\n",
            "<script>\n",
            "  (function(i,s,o,g,r,a,m){i['GoogleAnalyticsObject']=r;i[r]=i[r]||function(){\n",
            "  (i[r].q=i[r].q||[]).push(arguments)},i[r].l=1*new Date();a=s.createElement(o),\n",
            "  m=s.getElementsByTagName(o)[0];a.async=1;a.src=g;m.parentNode.insertBefore(a,m)\n",
            "  })(window,document,'script','https://www.google-analytics.com/analytics.js','ga');\n",
            "\n",
            "  ga('create', 'UA-32365737-1', {\n",
            "    cookieDomain: 'ptt.cc',\n",
            "    legacyCookieDomain: 'ptt.cc'\n",
            "  });\n",
            "  ga('send', 'pageview');\n",
            "</script>\n",
            "\n",
            "\n",
            "\t\t\n",
            "<script src=\"//ajax.googleapis.com/ajax/libs/jquery/2.1.1/jquery.min.js\"></script>\n",
            "<script src=\"//images.ptt.cc/bbs/v2.27/bbs.js\"></script>\n",
            "\n",
            "    <script defer src=\"https://static.cloudflareinsights.com/beacon.min.js/vaafb692b2aea4879b33c060e79fe94621666317369993\" integrity=\"sha512-0ahDYl866UMhKuYcW078ScMalXqtFJggm7TmlUtp0UlD4eQk0Ixfnm5ykXKvGJNFjLMoortdseTfsRT8oCfgGA==\" data-cf-beacon='{\"rayId\":\"76c71d9c8bef0ce3\",\"version\":\"2022.11.0\",\"r\":1,\"token\":\"515615eb5fab4c9b91a11e9bf529e6cf\",\"si\":100}' crossorigin=\"anonymous\"></script>\n",
            "</body>\n",
            "</html>\n",
            "\n"
          ]
        }
      ],
      "source": [
        "#目標網址https://www.ptt.cc/bbs/StupidClown/index.html\n",
        "import requests\n",
        "from bs4 import BeautifulSoup\n",
        "\n",
        "res = requests.get('https://www.ptt.cc/bbs/StupidClown/index.html')\n",
        "soup = BeautifulSoup(res.text ,\"lxml\")\n",
        "print(res.text)"
      ]
    },
    {
      "cell_type": "code",
      "execution_count": null,
      "metadata": {
        "colab": {
          "base_uri": "https://localhost:8080/"
        },
        "id": "BSjTlja9pqx_",
        "outputId": "e7236106-1aaf-4dcd-cb70-c83781ceb85c"
      },
      "outputs": [
        {
          "name": "stdout",
          "output_type": "stream",
          "text": [
            "<!DOCTYPE html>\n",
            "<html>\n",
            " <head>\n",
            "  <meta charset=\"utf-8\"/>\n",
            "  <meta content=\"width=device-width, initial-scale=1\" name=\"viewport\"/>\n",
            "  <title>\n",
            "   看板 StupidClown 文章列表 - 批踢踢實業坊\n",
            "  </title>\n",
            "  <link href=\"//images.ptt.cc/bbs/v2.27/bbs-common.css\" rel=\"stylesheet\" type=\"text/css\"/>\n",
            "  <link href=\"//images.ptt.cc/bbs/v2.27/bbs-base.css\" media=\"screen\" rel=\"stylesheet\" type=\"text/css\"/>\n",
            "  <link href=\"//images.ptt.cc/bbs/v2.27/bbs-custom.css\" rel=\"stylesheet\" type=\"text/css\"/>\n",
            "  <link href=\"//images.ptt.cc/bbs/v2.27/pushstream.css\" media=\"screen\" rel=\"stylesheet\" type=\"text/css\"/>\n",
            "  <link href=\"//images.ptt.cc/bbs/v2.27/bbs-print.css\" media=\"print\" rel=\"stylesheet\" type=\"text/css\"/>\n",
            " </head>\n",
            " <body>\n",
            "  <div id=\"topbar-container\">\n",
            "   <div class=\"bbs-content\" id=\"topbar\">\n",
            "    <a href=\"/bbs/\" id=\"logo\">\n",
            "     批踢踢實業坊\n",
            "    </a>\n",
            "    <span>\n",
            "     ›\n",
            "    </span>\n",
            "    <a class=\"board\" href=\"/bbs/StupidClown/index.html\">\n",
            "     <span class=\"board-label\">\n",
            "      看板\n",
            "     </span>\n",
            "     StupidClown\n",
            "    </a>\n",
            "    <a class=\"right small\" href=\"/about.html\">\n",
            "     關於我們\n",
            "    </a>\n",
            "    <a class=\"right small\" href=\"/contact.html\">\n",
            "     聯絡資訊\n",
            "    </a>\n",
            "   </div>\n",
            "  </div>\n",
            "  <div id=\"main-container\">\n",
            "   <div id=\"action-bar-container\">\n",
            "    <div class=\"action-bar\">\n",
            "     <div class=\"btn-group btn-group-dir\">\n",
            "      <a class=\"btn selected\" href=\"/bbs/StupidClown/index.html\">\n",
            "       看板\n",
            "      </a>\n",
            "      <a class=\"btn\" href=\"/man/StupidClown/index.html\">\n",
            "       精華區\n",
            "      </a>\n",
            "     </div>\n",
            "     <div class=\"btn-group btn-group-paging\">\n",
            "      <a class=\"btn wide\" href=\"/bbs/StupidClown/index1.html\">\n",
            "       最舊\n",
            "      </a>\n",
            "      <a class=\"btn wide\" href=\"/bbs/StupidClown/index4029.html\">\n",
            "       ‹ 上頁\n",
            "      </a>\n",
            "      <a class=\"btn wide disabled\">\n",
            "       下頁 ›\n",
            "      </a>\n",
            "      <a class=\"btn wide\" href=\"/bbs/StupidClown/index.html\">\n",
            "       最新\n",
            "      </a>\n",
            "     </div>\n",
            "    </div>\n",
            "   </div>\n",
            "   <div class=\"r-list-container action-bar-margin bbs-screen\">\n",
            "    <div class=\"search-bar\">\n",
            "     <form action=\"search\" id=\"search-bar\" type=\"get\">\n",
            "      <input class=\"query\" name=\"q\" placeholder=\"搜尋文章⋯\" type=\"text\" value=\"\"/>\n",
            "     </form>\n",
            "    </div>\n",
            "    <div class=\"r-ent\">\n",
            "     <div class=\"nrec\">\n",
            "      <span class=\"hl f2\">\n",
            "       2\n",
            "      </span>\n",
            "     </div>\n",
            "     <div class=\"title\">\n",
            "      <a href=\"/bbs/StupidClown/M.1668829121.A.8E6.html\">\n",
            "       Re: [無言] 下錯月台\n",
            "      </a>\n",
            "     </div>\n",
            "     <div class=\"meta\">\n",
            "      <div class=\"author\">\n",
            "       MoronJJ\n",
            "      </div>\n",
            "      <div class=\"article-menu\">\n",
            "       <div class=\"trigger\">\n",
            "        ⋯\n",
            "       </div>\n",
            "       <div class=\"dropdown\">\n",
            "        <div class=\"item\">\n",
            "         <a href=\"/bbs/StupidClown/search?q=thread%3A%5B%E7%84%A1%E8%A8%80%5D+%E4%B8%8B%E9%8C%AF%E6%9C%88%E5%8F%B0\">\n",
            "          搜尋同標題文章\n",
            "         </a>\n",
            "        </div>\n",
            "        <div class=\"item\">\n",
            "         <a href=\"/bbs/StupidClown/search?q=author%3AMoronJJ\">\n",
            "          搜尋看板內 MoronJJ 的文章\n",
            "         </a>\n",
            "        </div>\n",
            "       </div>\n",
            "      </div>\n",
            "      <div class=\"date\">\n",
            "       11/19\n",
            "      </div>\n",
            "      <div class=\"mark\">\n",
            "      </div>\n",
            "     </div>\n",
            "    </div>\n",
            "    <div class=\"r-ent\">\n",
            "     <div class=\"nrec\">\n",
            "     </div>\n",
            "     <div class=\"title\">\n",
            "      <a href=\"/bbs/StupidClown/M.1668831384.A.31C.html\">\n",
            "       Re: [無言] 電腦白痴\n",
            "      </a>\n",
            "     </div>\n",
            "     <div class=\"meta\">\n",
            "      <div class=\"author\">\n",
            "       dw7931425\n",
            "      </div>\n",
            "      <div class=\"article-menu\">\n",
            "       <div class=\"trigger\">\n",
            "        ⋯\n",
            "       </div>\n",
            "       <div class=\"dropdown\">\n",
            "        <div class=\"item\">\n",
            "         <a href=\"/bbs/StupidClown/search?q=thread%3A%5B%E7%84%A1%E8%A8%80%5D+%E9%9B%BB%E8%85%A6%E7%99%BD%E7%97%B4\">\n",
            "          搜尋同標題文章\n",
            "         </a>\n",
            "        </div>\n",
            "        <div class=\"item\">\n",
            "         <a href=\"/bbs/StupidClown/search?q=author%3Adw7931425\">\n",
            "          搜尋看板內 dw7931425 的文章\n",
            "         </a>\n",
            "        </div>\n",
            "       </div>\n",
            "      </div>\n",
            "      <div class=\"date\">\n",
            "       11/19\n",
            "      </div>\n",
            "      <div class=\"mark\">\n",
            "      </div>\n",
            "     </div>\n",
            "    </div>\n",
            "    <div class=\"r-list-sep\">\n",
            "    </div>\n",
            "    <div class=\"r-ent\">\n",
            "     <div class=\"nrec\">\n",
            "     </div>\n",
            "     <div class=\"title\">\n",
            "      <a href=\"/bbs/StupidClown/M.1158735717.A.828.html\">\n",
            "       [公告] 笨板板規\n",
            "      </a>\n",
            "     </div>\n",
            "     <div class=\"meta\">\n",
            "      <div class=\"author\">\n",
            "       F7\n",
            "      </div>\n",
            "      <div class=\"article-menu\">\n",
            "       <div class=\"trigger\">\n",
            "        ⋯\n",
            "       </div>\n",
            "       <div class=\"dropdown\">\n",
            "        <div class=\"item\">\n",
            "         <a href=\"/bbs/StupidClown/search?q=thread%3A%5B%E5%85%AC%E5%91%8A%5D+%E7%AC%A8%E6%9D%BF%E6%9D%BF%E8%A6%8F\">\n",
            "          搜尋同標題文章\n",
            "         </a>\n",
            "        </div>\n",
            "        <div class=\"item\">\n",
            "         <a href=\"/bbs/StupidClown/search?q=author%3AF7\">\n",
            "          搜尋看板內 F7 的文章\n",
            "         </a>\n",
            "        </div>\n",
            "       </div>\n",
            "      </div>\n",
            "      <div class=\"date\">\n",
            "       9/20\n",
            "      </div>\n",
            "      <div class=\"mark\">\n",
            "       !\n",
            "      </div>\n",
            "     </div>\n",
            "    </div>\n",
            "    <div class=\"r-ent\">\n",
            "     <div class=\"nrec\">\n",
            "      <span class=\"hl f3\">\n",
            "       22\n",
            "      </span>\n",
            "     </div>\n",
            "     <div class=\"title\">\n",
            "      <a href=\"/bbs/StupidClown/M.1435710970.A.31E.html\">\n",
            "       [公告]本板即日起不可PO問卷文\n",
            "      </a>\n",
            "     </div>\n",
            "     <div class=\"meta\">\n",
            "      <div class=\"author\">\n",
            "       F7\n",
            "      </div>\n",
            "      <div class=\"article-menu\">\n",
            "       <div class=\"trigger\">\n",
            "        ⋯\n",
            "       </div>\n",
            "       <div class=\"dropdown\">\n",
            "        <div class=\"item\">\n",
            "         <a href=\"/bbs/StupidClown/search?q=thread%3A%5B%E5%85%AC%E5%91%8A%5D%E6%9C%AC%E6%9D%BF%E5%8D%B3%E6%97%A5%E8%B5%B7%E4%B8%8D%E5%8F%AFPO%E5%95%8F%E5%8D%B7%E6%96%87\">\n",
            "          搜尋同標題文章\n",
            "         </a>\n",
            "        </div>\n",
            "        <div class=\"item\">\n",
            "         <a href=\"/bbs/StupidClown/search?q=author%3AF7\">\n",
            "          搜尋看板內 F7 的文章\n",
            "         </a>\n",
            "        </div>\n",
            "       </div>\n",
            "      </div>\n",
            "      <div class=\"date\">\n",
            "       7/01\n",
            "      </div>\n",
            "      <div class=\"mark\">\n",
            "       M\n",
            "      </div>\n",
            "     </div>\n",
            "    </div>\n",
            "    <div class=\"r-ent\">\n",
            "     <div class=\"nrec\">\n",
            "      <span class=\"hl f2\">\n",
            "       6\n",
            "      </span>\n",
            "     </div>\n",
            "     <div class=\"title\">\n",
            "      <a href=\"/bbs/StupidClown/M.1667491247.A.0B7.html\">\n",
            "       [公告] 11月份置底閒聊文\n",
            "      </a>\n",
            "     </div>\n",
            "     <div class=\"meta\">\n",
            "      <div class=\"author\">\n",
            "       F7\n",
            "      </div>\n",
            "      <div class=\"article-menu\">\n",
            "       <div class=\"trigger\">\n",
            "        ⋯\n",
            "       </div>\n",
            "       <div class=\"dropdown\">\n",
            "        <div class=\"item\">\n",
            "         <a href=\"/bbs/StupidClown/search?q=thread%3A%5B%E5%85%AC%E5%91%8A%5D+11%E6%9C%88%E4%BB%BD%E7%BD%AE%E5%BA%95%E9%96%92%E8%81%8A%E6%96%87+\">\n",
            "          搜尋同標題文章\n",
            "         </a>\n",
            "        </div>\n",
            "        <div class=\"item\">\n",
            "         <a href=\"/bbs/StupidClown/search?q=author%3AF7\">\n",
            "          搜尋看板內 F7 的文章\n",
            "         </a>\n",
            "        </div>\n",
            "       </div>\n",
            "      </div>\n",
            "      <div class=\"date\">\n",
            "       11/04\n",
            "      </div>\n",
            "      <div class=\"mark\">\n",
            "      </div>\n",
            "     </div>\n",
            "    </div>\n",
            "   </div>\n",
            "  </div>\n",
            "  <script>\n",
            "   (function(i,s,o,g,r,a,m){i['GoogleAnalyticsObject']=r;i[r]=i[r]||function(){\n",
            "  (i[r].q=i[r].q||[]).push(arguments)},i[r].l=1*new Date();a=s.createElement(o),\n",
            "  m=s.getElementsByTagName(o)[0];a.async=1;a.src=g;m.parentNode.insertBefore(a,m)\n",
            "  })(window,document,'script','https://www.google-analytics.com/analytics.js','ga');\n",
            "\n",
            "  ga('create', 'UA-32365737-1', {\n",
            "    cookieDomain: 'ptt.cc',\n",
            "    legacyCookieDomain: 'ptt.cc'\n",
            "  });\n",
            "  ga('send', 'pageview');\n",
            "  </script>\n",
            "  <script src=\"//ajax.googleapis.com/ajax/libs/jquery/2.1.1/jquery.min.js\">\n",
            "  </script>\n",
            "  <script src=\"//images.ptt.cc/bbs/v2.27/bbs.js\">\n",
            "  </script>\n",
            "  <script crossorigin=\"anonymous\" data-cf-beacon='{\"rayId\":\"76c71d9c8bef0ce3\",\"version\":\"2022.11.0\",\"r\":1,\"token\":\"515615eb5fab4c9b91a11e9bf529e6cf\",\"si\":100}' defer=\"\" integrity=\"sha512-0ahDYl866UMhKuYcW078ScMalXqtFJggm7TmlUtp0UlD4eQk0Ixfnm5ykXKvGJNFjLMoortdseTfsRT8oCfgGA==\" src=\"https://static.cloudflareinsights.com/beacon.min.js/vaafb692b2aea4879b33c060e79fe94621666317369993\">\n",
            "  </script>\n",
            " </body>\n",
            "</html>\n",
            "\n"
          ]
        }
      ],
      "source": [
        "print(soup.prettify())"
      ]
    },
    {
      "cell_type": "markdown",
      "metadata": {
        "id": "oW-IKihpv0HR"
      },
      "source": [
        "- 有抓到網頁，接下來如果簡單針對連結、標題的話，觀察都在div標籤的class='title'裡"
      ]
    },
    {
      "cell_type": "code",
      "execution_count": null,
      "metadata": {
        "colab": {
          "base_uri": "https://localhost:8080/"
        },
        "id": "2NorSJDRXBok",
        "outputId": "36009720-e946-4d5c-d623-dc43dbe80439"
      },
      "outputs": [
        {
          "name": "stdout",
          "output_type": "stream",
          "text": [
            "[<a href=\"/bbs/StupidClown/M.1668829121.A.8E6.html\">Re: [無言] 下錯月台</a>, <a href=\"/bbs/StupidClown/M.1668831384.A.31C.html\">Re: [無言] 電腦白痴</a>, <a href=\"/bbs/StupidClown/M.1158735717.A.828.html\">[公告] 笨板板規</a>, <a href=\"/bbs/StupidClown/M.1435710970.A.31E.html\">[公告]本板即日起不可PO問卷文</a>, <a href=\"/bbs/StupidClown/M.1667491247.A.0B7.html\">[公告] 11月份置底閒聊文 </a>]\n",
            "<class 'list'>\n"
          ]
        }
      ],
      "source": [
        "# #main-container > div.r-list-container.action-bar-margin.bbs-screen > div:nth-child(5) > div.title > a\n",
        "results = soup.select(\"div.title > a\")\n",
        "print(results)\n",
        "print(type(results))"
      ]
    },
    {
      "cell_type": "code",
      "execution_count": null,
      "metadata": {
        "colab": {
          "base_uri": "https://localhost:8080/"
        },
        "id": "vRrphsEiq8YP",
        "outputId": "55f9ea8e-daba-485a-83c7-af78ee3696f8"
      },
      "outputs": [
        {
          "data": {
            "text/plain": [
              "[<a href=\"/bbs/StupidClown/M.1668829121.A.8E6.html\">Re: [無言] 下錯月台</a>,\n",
              " <a href=\"/bbs/StupidClown/M.1668831384.A.31C.html\">Re: [無言] 電腦白痴</a>,\n",
              " <a href=\"/bbs/StupidClown/M.1158735717.A.828.html\">[公告] 笨板板規</a>,\n",
              " <a href=\"/bbs/StupidClown/M.1435710970.A.31E.html\">[公告]本板即日起不可PO問卷文</a>,\n",
              " <a href=\"/bbs/StupidClown/M.1667491247.A.0B7.html\">[公告] 11月份置底閒聊文 </a>]"
            ]
          },
          "execution_count": 99,
          "metadata": {},
          "output_type": "execute_result"
        }
      ],
      "source": [
        "article_href = soup.select(\"div.title a\")\n",
        "article_href"
      ]
    },
    {
      "cell_type": "code",
      "execution_count": null,
      "metadata": {
        "colab": {
          "base_uri": "https://localhost:8080/"
        },
        "id": "zKnxpxaorHjr",
        "outputId": "cb1a3b92-87eb-4324-aa02-f735036c6aea"
      },
      "outputs": [
        {
          "name": "stdout",
          "output_type": "stream",
          "text": [
            "Re: [無言] 下錯月台\n",
            "href: https://www.ptt.cc/bbs/StupidClown/M.1668829121.A.8E6.html\n",
            "saved\n",
            "Re: [無言] 電腦白痴\n",
            "href: https://www.ptt.cc/bbs/StupidClown/M.1668831384.A.31C.html\n",
            "saved\n",
            "[公告] 笨板板規\n",
            "href: https://www.ptt.cc/bbs/StupidClown/M.1158735717.A.828.html\n",
            "saved\n",
            "[公告]本板即日起不可PO問卷文\n",
            "href: https://www.ptt.cc/bbs/StupidClown/M.1435710970.A.31E.html\n",
            "saved\n",
            "[公告] 11月份置底閒聊文 \n",
            "href: https://www.ptt.cc/bbs/StupidClown/M.1667491247.A.0B7.html\n",
            "saved\n"
          ]
        }
      ],
      "source": [
        "# 逐一取出標題、合併超連結\n",
        "for a in article_href:\n",
        "  print(f'{a.text}')\n",
        "  print(f'href: https://www.ptt.cc{a.get(\"href\")}')\n",
        "\n",
        "  #打開連結內的網頁並另存\n",
        "  content_url = f'https://www.ptt.cc{a.get(\"href\")}'\n",
        "  r = requests.get(content_url)\n",
        "  with open (f'{a.text}.html', 'w+') as f:\n",
        "    f.write(r.text)\n",
        "    print('saved')"
      ]
    },
    {
      "cell_type": "code",
      "execution_count": null,
      "metadata": {
        "colab": {
          "base_uri": "https://localhost:8080/"
        },
        "id": "MkRd8kgpuIQh",
        "outputId": "79f9d51c-4f67-49f2-c125-4627d56588ff"
      },
      "outputs": [
        {
          "name": "stdout",
          "output_type": "stream",
          "text": [
            "'Re: [無言] 下錯月台.html'  '[公告] 11月份置底閒聊文 .html'\n",
            "'Re: [無言] 電腦白痴.html'  '[公告]本板即日起不可PO問卷文.html'\n",
            " \u001b[0m\u001b[01;34msample_data\u001b[0m/               '[公告] 笨板板規.html'\n"
          ]
        }
      ],
      "source": [
        "%ls"
      ]
    },
    {
      "cell_type": "code",
      "execution_count": null,
      "metadata": {
        "colab": {
          "base_uri": "https://localhost:8080/"
        },
        "id": "1vyg4HrFLfVJ",
        "outputId": "8dd40c65-d8f0-49ea-ffa8-2a9f39ff7ebb"
      },
      "outputs": [
        {
          "name": "stdout",
          "output_type": "stream",
          "text": [
            "<!DOCTYPE html>\n",
            "<html>\n",
            "\t<head>\n",
            "\t\t<meta charset=\"utf-8\">\n",
            "\t\t\n",
            "\n",
            "<meta name=\"viewport\" content=\"width=device-width, initial-scale=1\">\n",
            "\n",
            "<title>看板 Gossiping 文章列表 - 批踢踢實業坊</title>\n",
            "\n",
            "<link rel=\"stylesheet\" type=\"text/css\" href=\"//images.ptt.cc/bbs/v2.27/bbs-common.css\">\n",
            "<link rel=\"stylesheet\" type=\"text/css\" href=\"//images.ptt.cc/bbs/v2.27/bbs-base.css\" media=\"screen\">\n",
            "<link rel=\"stylesheet\" type=\"text/css\" href=\"//images.ptt.cc/bbs/v2.27/bbs-custom.css\">\n",
            "<link rel=\"stylesheet\" type=\"text/css\" href=\"//images.ptt.cc/bbs/v2.27/pushstream.css\" media=\"screen\">\n",
            "<link rel=\"stylesheet\" type=\"text/css\" href=\"//images.ptt.cc/bbs/v2.27/bbs-print.css\" media=\"print\">\n",
            "\n",
            "\n",
            "\n",
            "\n",
            "\t</head>\n",
            "    <body>\n",
            "\t\t\n",
            "<div id=\"topbar-container\">\n",
            "\t<div id=\"topbar\" class=\"bbs-content\">\n",
            "\t\t<a id=\"logo\" href=\"/bbs/\">批踢踢實業坊</a>\n",
            "\t\t<span>&rsaquo;</span>\n",
            "\t\t<a class=\"board\" href=\"/bbs/Gossiping/index.html\"><span class=\"board-label\">看板 </span>Gossiping</a>\n",
            "\t\t<a class=\"right small\" href=\"/about.html\">關於我們</a>\n",
            "\t\t<a class=\"right small\" href=\"/contact.html\">聯絡資訊</a>\n",
            "\t</div>\n",
            "</div>\n",
            "\n",
            "<div id=\"main-container\">\n",
            "\t<div id=\"action-bar-container\">\n",
            "\t\t<div class=\"action-bar\">\n",
            "\t\t\t<div class=\"btn-group btn-group-dir\">\n",
            "\t\t\t\t<a class=\"btn selected\" href=\"/bbs/Gossiping/index.html\">看板</a>\n",
            "\t\t\t\t<a class=\"btn\" href=\"/man/Gossiping/index.html\">精華區</a>\n",
            "\t\t\t</div>\n",
            "\t\t\t<div class=\"btn-group btn-group-paging\">\n",
            "\t\t\t\t<a class=\"btn wide\" href=\"/bbs/Gossiping/index1.html\">最舊</a>\n",
            "\t\t\t\t<a class=\"btn wide\" href=\"/bbs/Gossiping/index39290.html\">&lsaquo; 上頁</a>\n",
            "\t\t\t\t<a class=\"btn wide disabled\">下頁 &rsaquo;</a>\n",
            "\t\t\t\t<a class=\"btn wide\" href=\"/bbs/Gossiping/index.html\">最新</a>\n",
            "\t\t\t</div>\n",
            "\t\t</div>\n",
            "\t</div>\n",
            "\n",
            "\t<div class=\"r-list-container action-bar-margin bbs-screen\">\n",
            "\t\t<div class=\"search-bar\">\n",
            "\t\t\t<form type=\"get\" action=\"search\" id=\"search-bar\">\n",
            "\t\t\t\t<input class=\"query\" type=\"text\" name=\"q\" value=\"\" placeholder=\"搜尋文章&#x22ef;\">\n",
            "\t\t\t</form>\n",
            "\t\t</div>\n",
            "\n",
            "\t\t\n",
            "\t\t\n",
            "            \n",
            "        \n",
            "        \n",
            "\t\t<div class=\"r-ent\">\n",
            "\t\t\t<div class=\"nrec\"></div>\n",
            "\t\t\t<div class=\"title\">\n",
            "\t\t\t\n",
            "\t\t\t\t<a href=\"/bbs/Gossiping/M.1668842343.A.179.html\">[問卦] DNS用8.8.8.8會比較快嗎</a>\n",
            "\t\t\t\n",
            "\t\t\t</div>\n",
            "\t\t\t<div class=\"meta\">\n",
            "\t\t\t\t<div class=\"author\">lianpig5566</div>\n",
            "\t\t\t\t<div class=\"article-menu\">\n",
            "\t\t\t\t\t\n",
            "\t\t\t\t\t<div class=\"trigger\">&#x22ef;</div>\n",
            "\t\t\t\t\t<div class=\"dropdown\">\n",
            "\t\t\t\t\t\t<div class=\"item\"><a href=\"/bbs/Gossiping/search?q=thread%3A%5B%E5%95%8F%E5%8D%A6%5D&#43;DNS%E7%94%A88.8.8.8%E6%9C%83%E6%AF%94%E8%BC%83%E5%BF%AB%E5%97%8E\">搜尋同標題文章</a></div>\n",
            "\t\t\t\t\t\t\n",
            "\t\t\t\t\t\t<div class=\"item\"><a href=\"/bbs/Gossiping/search?q=author%3Alianpig5566\">搜尋看板內 lianpig5566 的文章</a></div>\n",
            "\t\t\t\t\t\t\n",
            "\t\t\t\t\t</div>\n",
            "\t\t\t\t\t\n",
            "\t\t\t\t</div>\n",
            "\t\t\t\t<div class=\"date\">11/19</div>\n",
            "\t\t\t\t<div class=\"mark\"></div>\n",
            "\t\t\t</div>\n",
            "\t\t</div>\n",
            "\n",
            "\t\t\n",
            "            \n",
            "        \n",
            "        \n",
            "\t\t<div class=\"r-ent\">\n",
            "\t\t\t<div class=\"nrec\"><span class=\"hl f2\">3</span></div>\n",
            "\t\t\t<div class=\"title\">\n",
            "\t\t\t\n",
            "\t\t\t\t<a href=\"/bbs/Gossiping/M.1668842398.A.E9A.html\">[新聞] 62歲黑木瞳靠中藥逆齡 最想合作張艾嘉</a>\n",
            "\t\t\t\n",
            "\t\t\t</div>\n",
            "\t\t\t<div class=\"meta\">\n",
            "\t\t\t\t<div class=\"author\">annie06045</div>\n",
            "\t\t\t\t<div class=\"article-menu\">\n",
            "\t\t\t\t\t\n",
            "\t\t\t\t\t<div class=\"trigger\">&#x22ef;</div>\n",
            "\t\t\t\t\t<div class=\"dropdown\">\n",
            "\t\t\t\t\t\t<div class=\"item\"><a href=\"/bbs/Gossiping/search?q=thread%3A%5B%E6%96%B0%E8%81%9E%5D&#43;62%E6%AD%B2%E9%BB%91%E6%9C%A8%E7%9E%B3%E9%9D%A0%E4%B8%AD%E8%97%A5%E9%80%86%E9%BD%A1&#43;%E6%9C%80%E6%83%B3%E5%90%88%E4%BD%9C%E5%BC%B5%E8%89%BE%E5%98%89\">搜尋同標題文章</a></div>\n",
            "\t\t\t\t\t\t\n",
            "\t\t\t\t\t\t<div class=\"item\"><a href=\"/bbs/Gossiping/search?q=author%3Aannie06045\">搜尋看板內 annie06045 的文章</a></div>\n",
            "\t\t\t\t\t\t\n",
            "\t\t\t\t\t</div>\n",
            "\t\t\t\t\t\n",
            "\t\t\t\t</div>\n",
            "\t\t\t\t<div class=\"date\">11/19</div>\n",
            "\t\t\t\t<div class=\"mark\"></div>\n",
            "\t\t\t</div>\n",
            "\t\t</div>\n",
            "\n",
            "\t\t\n",
            "            \n",
            "        \n",
            "        \n",
            "\t\t<div class=\"r-ent\">\n",
            "\t\t\t<div class=\"nrec\"></div>\n",
            "\t\t\t<div class=\"title\">\n",
            "\t\t\t\n",
            "\t\t\t\t<a href=\"/bbs/Gossiping/M.1668842436.A.4AE.html\">Re: [爆卦] 疑似烏克蘭軍人稱陣亡台灣人為狗</a>\n",
            "\t\t\t\n",
            "\t\t\t</div>\n",
            "\t\t\t<div class=\"meta\">\n",
            "\t\t\t\t<div class=\"author\">freddy50301</div>\n",
            "\t\t\t\t<div class=\"article-menu\">\n",
            "\t\t\t\t\t\n",
            "\t\t\t\t\t<div class=\"trigger\">&#x22ef;</div>\n",
            "\t\t\t\t\t<div class=\"dropdown\">\n",
            "\t\t\t\t\t\t<div class=\"item\"><a href=\"/bbs/Gossiping/search?q=thread%3A%5B%E7%88%86%E5%8D%A6%5D&#43;%E7%96%91%E4%BC%BC%E7%83%8F%E5%85%8B%E8%98%AD%E8%BB%8D%E4%BA%BA%E7%A8%B1%E9%99%A3%E4%BA%A1%E5%8F%B0%E7%81%A3%E4%BA%BA%E7%82%BA%E7%8B%97\">搜尋同標題文章</a></div>\n",
            "\t\t\t\t\t\t\n",
            "\t\t\t\t\t\t<div class=\"item\"><a href=\"/bbs/Gossiping/search?q=author%3Afreddy50301\">搜尋看板內 freddy50301 的文章</a></div>\n",
            "\t\t\t\t\t\t\n",
            "\t\t\t\t\t</div>\n",
            "\t\t\t\t\t\n",
            "\t\t\t\t</div>\n",
            "\t\t\t\t<div class=\"date\">11/19</div>\n",
            "\t\t\t\t<div class=\"mark\"></div>\n",
            "\t\t\t</div>\n",
            "\t\t</div>\n",
            "\n",
            "\t\t\n",
            "            \n",
            "        \n",
            "        \n",
            "\t\t<div class=\"r-ent\">\n",
            "\t\t\t<div class=\"nrec\"><span class=\"hl f2\">2</span></div>\n",
            "\t\t\t<div class=\"title\">\n",
            "\t\t\t\n",
            "\t\t\t\t<a href=\"/bbs/Gossiping/M.1668842448.A.E3A.html\">[問卦] 懶蛋被叮了是不是等於口爆蚊子☺  </a>\n",
            "\t\t\t\n",
            "\t\t\t</div>\n",
            "\t\t\t<div class=\"meta\">\n",
            "\t\t\t\t<div class=\"author\">insomniatw</div>\n",
            "\t\t\t\t<div class=\"article-menu\">\n",
            "\t\t\t\t\t\n",
            "\t\t\t\t\t<div class=\"trigger\">&#x22ef;</div>\n",
            "\t\t\t\t\t<div class=\"dropdown\">\n",
            "\t\t\t\t\t\t<div class=\"item\"><a href=\"/bbs/Gossiping/search?q=thread%3A%5B%E5%95%8F%E5%8D%A6%5D&#43;%E6%87%B6%E8%9B%8B%E8%A2%AB%E5%8F%AE%E4%BA%86%E6%98%AF%E4%B8%8D%E6%98%AF%E7%AD%89%E6%96%BC%E5%8F%A3%E7%88%86%E8%9A%8A%E5%AD%90%E2%98%BA&#43;&#43;\">搜尋同標題文章</a></div>\n",
            "\t\t\t\t\t\t\n",
            "\t\t\t\t\t\t<div class=\"item\"><a href=\"/bbs/Gossiping/search?q=author%3Ainsomniatw\">搜尋看板內 insomniatw 的文章</a></div>\n",
            "\t\t\t\t\t\t\n",
            "\t\t\t\t\t</div>\n",
            "\t\t\t\t\t\n",
            "\t\t\t\t</div>\n",
            "\t\t\t\t<div class=\"date\">11/19</div>\n",
            "\t\t\t\t<div class=\"mark\"></div>\n",
            "\t\t\t</div>\n",
            "\t\t</div>\n",
            "\n",
            "\t\t\n",
            "        \n",
            "        <div class=\"r-list-sep\"></div>\n",
            "            \n",
            "                \n",
            "        \n",
            "        \n",
            "\t\t<div class=\"r-ent\">\n",
            "\t\t\t<div class=\"nrec\"></div>\n",
            "\t\t\t<div class=\"title\">\n",
            "\t\t\t\n",
            "\t\t\t\t<a href=\"/bbs/Gossiping/M.1667236084.A.47C.html\">[公告] 八卦板板規(2022.11.01)</a>\n",
            "\t\t\t\n",
            "\t\t\t</div>\n",
            "\t\t\t<div class=\"meta\">\n",
            "\t\t\t\t<div class=\"author\">lwt501cx</div>\n",
            "\t\t\t\t<div class=\"article-menu\">\n",
            "\t\t\t\t\t\n",
            "\t\t\t\t\t<div class=\"trigger\">&#x22ef;</div>\n",
            "\t\t\t\t\t<div class=\"dropdown\">\n",
            "\t\t\t\t\t\t<div class=\"item\"><a href=\"/bbs/Gossiping/search?q=thread%3A%5B%E5%85%AC%E5%91%8A%5D&#43;%E5%85%AB%E5%8D%A6%E6%9D%BF%E6%9D%BF%E8%A6%8F%282022.11.01%29\">搜尋同標題文章</a></div>\n",
            "\t\t\t\t\t\t\n",
            "\t\t\t\t\t\t<div class=\"item\"><a href=\"/bbs/Gossiping/search?q=author%3Alwt501cx\">搜尋看板內 lwt501cx 的文章</a></div>\n",
            "\t\t\t\t\t\t\n",
            "\t\t\t\t\t</div>\n",
            "\t\t\t\t\t\n",
            "\t\t\t\t</div>\n",
            "\t\t\t\t<div class=\"date\">11/01</div>\n",
            "\t\t\t\t<div class=\"mark\">!</div>\n",
            "\t\t\t</div>\n",
            "\t\t</div>\n",
            "\n",
            "            \n",
            "                \n",
            "        \n",
            "        \n",
            "\t\t<div class=\"r-ent\">\n",
            "\t\t\t<div class=\"nrec\"><span class=\"hl f1\">爆</span></div>\n",
            "\t\t\t<div class=\"title\">\n",
            "\t\t\t\n",
            "\t\t\t\t<a href=\"/bbs/Gossiping/M.1667480198.A.DB5.html\">[公告] 十一月禁尻跟即將全台縣市大選的閒聊區</a>\n",
            "\t\t\t\n",
            "\t\t\t</div>\n",
            "\t\t\t<div class=\"meta\">\n",
            "\t\t\t\t<div class=\"author\">ubcs</div>\n",
            "\t\t\t\t<div class=\"article-menu\">\n",
            "\t\t\t\t\t\n",
            "\t\t\t\t\t<div class=\"trigger\">&#x22ef;</div>\n",
            "\t\t\t\t\t<div class=\"dropdown\">\n",
            "\t\t\t\t\t\t<div class=\"item\"><a href=\"/bbs/Gossiping/search?q=thread%3A%5B%E5%85%AC%E5%91%8A%5D&#43;%E5%8D%81%E4%B8%80%E6%9C%88%E7%A6%81%E5%B0%BB%E8%B7%9F%E5%8D%B3%E5%B0%87%E5%85%A8%E5%8F%B0%E7%B8%A3%E5%B8%82%E5%A4%A7%E9%81%B8%E7%9A%84%E9%96%92%E8%81%8A%E5%8D%80\">搜尋同標題文章</a></div>\n",
            "\t\t\t\t\t\t\n",
            "\t\t\t\t\t\t<div class=\"item\"><a href=\"/bbs/Gossiping/search?q=author%3Aubcs\">搜尋看板內 ubcs 的文章</a></div>\n",
            "\t\t\t\t\t\t\n",
            "\t\t\t\t\t</div>\n",
            "\t\t\t\t\t\n",
            "\t\t\t\t</div>\n",
            "\t\t\t\t<div class=\"date\">11/03</div>\n",
            "\t\t\t\t<div class=\"mark\"></div>\n",
            "\t\t\t</div>\n",
            "\t\t</div>\n",
            "\n",
            "            \n",
            "                \n",
            "        \n",
            "        \n",
            "\t\t<div class=\"r-ent\">\n",
            "\t\t\t<div class=\"nrec\"><span class=\"hl f3\">50</span></div>\n",
            "\t\t\t<div class=\"title\">\n",
            "\t\t\t\n",
            "\t\t\t\t<a href=\"/bbs/Gossiping/M.1667981981.A.F1C.html\">Fw: [公告] 關於利用網路擄人、囚禁等議題請板主宣導</a>\n",
            "\t\t\t\n",
            "\t\t\t</div>\n",
            "\t\t\t<div class=\"meta\">\n",
            "\t\t\t\t<div class=\"author\">s5048218</div>\n",
            "\t\t\t\t<div class=\"article-menu\">\n",
            "\t\t\t\t\t\n",
            "\t\t\t\t\t<div class=\"trigger\">&#x22ef;</div>\n",
            "\t\t\t\t\t<div class=\"dropdown\">\n",
            "\t\t\t\t\t\t<div class=\"item\"><a href=\"/bbs/Gossiping/search?q=thread%3A%5B%E5%85%AC%E5%91%8A%5D&#43;%E9%97%9C%E6%96%BC%E5%88%A9%E7%94%A8%E7%B6%B2%E8%B7%AF%E6%93%84%E4%BA%BA%E3%80%81%E5%9B%9A%E7%A6%81%E7%AD%89%E8%AD%B0%E9%A1%8C%E8%AB%8B%E6%9D%BF%E4%B8%BB%E5%AE%A3%E5%B0%8E\">搜尋同標題文章</a></div>\n",
            "\t\t\t\t\t\t\n",
            "\t\t\t\t\t\t<div class=\"item\"><a href=\"/bbs/Gossiping/search?q=author%3As5048218\">搜尋看板內 s5048218 的文章</a></div>\n",
            "\t\t\t\t\t\t\n",
            "\t\t\t\t\t</div>\n",
            "\t\t\t\t\t\n",
            "\t\t\t\t</div>\n",
            "\t\t\t\t<div class=\"date\">11/09</div>\n",
            "\t\t\t\t<div class=\"mark\"></div>\n",
            "\t\t\t</div>\n",
            "\t\t</div>\n",
            "\n",
            "            \n",
            "                \n",
            "        \n",
            "        \n",
            "\t\t<div class=\"r-ent\">\n",
            "\t\t\t<div class=\"nrec\"><span class=\"hl f3\">19</span></div>\n",
            "\t\t\t<div class=\"title\">\n",
            "\t\t\t\n",
            "\t\t\t\t<a href=\"/bbs/Gossiping/M.1667999455.A.AB5.html\">[協尋] 11/1 三重衝撞行人事故行車紀錄影片</a>\n",
            "\t\t\t\n",
            "\t\t\t</div>\n",
            "\t\t\t<div class=\"meta\">\n",
            "\t\t\t\t<div class=\"author\">holalynd</div>\n",
            "\t\t\t\t<div class=\"article-menu\">\n",
            "\t\t\t\t\t\n",
            "\t\t\t\t\t<div class=\"trigger\">&#x22ef;</div>\n",
            "\t\t\t\t\t<div class=\"dropdown\">\n",
            "\t\t\t\t\t\t<div class=\"item\"><a href=\"/bbs/Gossiping/search?q=thread%3A%5B%E5%8D%94%E5%B0%8B%5D&#43;11%2F1&#43;%E4%B8%89%E9%87%8D%E8%A1%9D%E6%92%9E%E8%A1%8C%E4%BA%BA%E4%BA%8B%E6%95%85%E8%A1%8C%E8%BB%8A%E7%B4%80%E9%8C%84%E5%BD%B1%E7%89%87\">搜尋同標題文章</a></div>\n",
            "\t\t\t\t\t\t\n",
            "\t\t\t\t\t\t<div class=\"item\"><a href=\"/bbs/Gossiping/search?q=author%3Aholalynd\">搜尋看板內 holalynd 的文章</a></div>\n",
            "\t\t\t\t\t\t\n",
            "\t\t\t\t\t</div>\n",
            "\t\t\t\t\t\n",
            "\t\t\t\t</div>\n",
            "\t\t\t\t<div class=\"date\">11/09</div>\n",
            "\t\t\t\t<div class=\"mark\"></div>\n",
            "\t\t\t</div>\n",
            "\t\t</div>\n",
            "\n",
            "            \n",
            "                \n",
            "        \n",
            "        \n",
            "\t\t<div class=\"r-ent\">\n",
            "\t\t\t<div class=\"nrec\"><span class=\"hl f1\">爆</span></div>\n",
            "\t\t\t<div class=\"title\">\n",
            "\t\t\t\n",
            "\t\t\t\t<a href=\"/bbs/Gossiping/M.1668588389.A.A04.html\">[公告] 選前十日民調相關禁止事項(重要發錢)</a>\n",
            "\t\t\t\n",
            "\t\t\t</div>\n",
            "\t\t\t<div class=\"meta\">\n",
            "\t\t\t\t<div class=\"author\">ubcs</div>\n",
            "\t\t\t\t<div class=\"article-menu\">\n",
            "\t\t\t\t\t\n",
            "\t\t\t\t\t<div class=\"trigger\">&#x22ef;</div>\n",
            "\t\t\t\t\t<div class=\"dropdown\">\n",
            "\t\t\t\t\t\t<div class=\"item\"><a href=\"/bbs/Gossiping/search?q=thread%3A%5B%E5%85%AC%E5%91%8A%5D&#43;%E9%81%B8%E5%89%8D%E5%8D%81%E6%97%A5%E6%B0%91%E8%AA%BF%E7%9B%B8%E9%97%9C%E7%A6%81%E6%AD%A2%E4%BA%8B%E9%A0%85%28%E9%87%8D%E8%A6%81%E7%99%BC%E9%8C%A2%29\">搜尋同標題文章</a></div>\n",
            "\t\t\t\t\t\t\n",
            "\t\t\t\t\t\t<div class=\"item\"><a href=\"/bbs/Gossiping/search?q=author%3Aubcs\">搜尋看板內 ubcs 的文章</a></div>\n",
            "\t\t\t\t\t\t\n",
            "\t\t\t\t\t</div>\n",
            "\t\t\t\t\t\n",
            "\t\t\t\t</div>\n",
            "\t\t\t\t<div class=\"date\">11/16</div>\n",
            "\t\t\t\t<div class=\"mark\">M</div>\n",
            "\t\t\t</div>\n",
            "\t\t</div>\n",
            "\n",
            "            \n",
            "        \n",
            "\t</div>\n",
            "\n",
            "    \n",
            "<div class=\"bbs-screen bbs-footer-message\">本網站已依台灣網站內容分級規定處理。此區域為限制級，未滿十八歲者不得瀏覽。</div>\n",
            "\n",
            "</div>\n",
            "\n",
            "\t\t\n",
            "\n",
            "<script>\n",
            "  (function(i,s,o,g,r,a,m){i['GoogleAnalyticsObject']=r;i[r]=i[r]||function(){\n",
            "  (i[r].q=i[r].q||[]).push(arguments)},i[r].l=1*new Date();a=s.createElement(o),\n",
            "  m=s.getElementsByTagName(o)[0];a.async=1;a.src=g;m.parentNode.insertBefore(a,m)\n",
            "  })(window,document,'script','https://www.google-analytics.com/analytics.js','ga');\n",
            "\n",
            "  ga('create', 'UA-32365737-1', {\n",
            "    cookieDomain: 'ptt.cc',\n",
            "    legacyCookieDomain: 'ptt.cc'\n",
            "  });\n",
            "  ga('send', 'pageview');\n",
            "</script>\n",
            "\n",
            "\n",
            "\t\t\n",
            "<script src=\"//ajax.googleapis.com/ajax/libs/jquery/2.1.1/jquery.min.js\"></script>\n",
            "<script src=\"//images.ptt.cc/bbs/v2.27/bbs.js\"></script>\n",
            "\n",
            "    <script defer src=\"https://static.cloudflareinsights.com/beacon.min.js/vaafb692b2aea4879b33c060e79fe94621666317369993\" integrity=\"sha512-0ahDYl866UMhKuYcW078ScMalXqtFJggm7TmlUtp0UlD4eQk0Ixfnm5ykXKvGJNFjLMoortdseTfsRT8oCfgGA==\" data-cf-beacon='{\"rayId\":\"76c73363a9a17bd9\",\"version\":\"2022.11.0\",\"r\":1,\"token\":\"515615eb5fab4c9b91a11e9bf529e6cf\",\"si\":100}' crossorigin=\"anonymous\"></script>\n",
            "</body>\n",
            "</html>\n",
            "\n"
          ]
        }
      ],
      "source": [
        "#需滿18歲要加cookies\n",
        "import requests\n",
        "\n",
        "def fetch(url):\n",
        "    response = requests.get(url)\n",
        "    response = requests.get(url, cookies={'over18': '1'})  # 一直向 server 回答滿 18 歲了 !\n",
        "    return response\n",
        "\n",
        "url = 'https://www.ptt.cc/bbs/Gossiping/index.html'\n",
        "resp = fetch(url)  # step-1\n",
        "\n",
        "print(resp.text) # result of setp-1"
      ]
    },
    {
      "cell_type": "markdown",
      "metadata": {
        "id": "lDF2XVSvNs_4"
      },
      "source": [
        "- 更多可參考[爬蟲教學 CrawlerTutorial](https://github.com/leVirve/CrawlerTutorial)"
      ]
    },
    {
      "cell_type": "markdown",
      "metadata": {
        "id": "sdsBCb4BkOkK"
      },
      "source": [
        "### 以wiki亞洲國家資訊為例"
      ]
    },
    {
      "cell_type": "markdown",
      "metadata": {
        "id": "rINKbz4-kXl8"
      },
      "source": [
        "- 參考來源[Web Scraping Wikipedia Tables using BeautifulSoup and Python](https://medium.com/analytics-vidhya/web-scraping-wiki-tables-using-beautifulsoup-and-python-6b9ea26d8722)"
      ]
    },
    {
      "cell_type": "code",
      "execution_count": null,
      "metadata": {
        "colab": {
          "base_uri": "https://localhost:8080/"
        },
        "id": "MwJK3gS2kpmJ",
        "outputId": "8e9a18d0-2bb6-455b-b831-48f414518a79"
      },
      "outputs": [
        {
          "name": "stdout",
          "output_type": "stream",
          "text": [
            "<!DOCTYPE html>\n",
            "<html class=\"client-nojs\" dir=\"ltr\" lang=\"en\">\n",
            " <head>\n",
            "  <meta charset=\"utf-8\"/>\n",
            "  <title>\n",
            "   List of Asian countries by area - Wikipedia\n",
            "  </title>\n",
            "  <script>\n",
            "   document.documentElement.className=\"client-js\";RLCONF={\"wgBreakFrames\":false,\"wgSeparatorTransformTable\":[\"\",\"\"],\"wgDigitTransformTable\":[\"\",\"\"],\"wgDefaultDateFormat\":\"dmy\",\"wgMonthNames\":[\"\",\"January\",\"February\",\"March\",\"April\",\"May\",\"June\",\"July\",\"August\",\"September\",\"October\",\"November\",\"December\"],\"wgRequestId\":\"c2a\n"
          ]
        }
      ],
      "source": [
        "import requests\n",
        "\n",
        "url='https://en.wikipedia.org/wiki/List_of_Asian_countries_by_area'\n",
        "website_url = requests.get(url).text\n",
        "\n",
        "from bs4 import BeautifulSoup\n",
        "soup = BeautifulSoup(website_url,'lxml')\n",
        "print(soup.prettify()[:500])"
      ]
    },
    {
      "cell_type": "markdown",
      "metadata": {
        "id": "ysX4Mq1JlKTT"
      },
      "source": [
        "![](https://miro.medium.com/max/740/1*NyaaGqqHnemKSWu8DQqUHQ.png)"
      ]
    },
    {
      "cell_type": "code",
      "execution_count": null,
      "metadata": {
        "colab": {
          "base_uri": "https://localhost:8080/"
        },
        "id": "ELYuAc4plPCN",
        "outputId": "42c00d25-3b33-402c-d909-b74de0636654"
      },
      "outputs": [
        {
          "data": {
            "text/plain": [
              "<table class=\"wikitable sortable\">\n",
              "<tbody><tr>\n",
              "<th rowspan=\"2\">Rank\n",
              "</th>\n",
              "<th rowspan=\"2\">Country\n",
              "</th>\n",
              "<th colspan=\"2\">Area\n",
              "</th>\n",
              "<th class=\"unsortable\" rowspan=\"2\">Notes\n",
              "</th>\n",
              "<th rowspan=\"2\">Facts\n",
              "</th></tr>\n",
              "<tr>\n",
              "<th>km²\n",
              "</th>\n",
              "<th>sq mi\n",
              "</th></tr>\n",
              "<tr>\n",
              "<td>1\n",
              "</td>\n",
              "<td><span class=\"flagicon\" style=\"display:inline-block;width:25px;\"><img alt=\"\" class=\"thumbborder\" data-file-height=\"600\" data-file-width=\"900\" decoding=\"async\" height=\"15\" src=\"//upload.wikimedia.org/wikipedia/en/thumb/f/f3/Flag_of_Russia.svg/23px-Flag_of_Russia.svg.png\" srcset=\"//upload.wikimedia.org/wikipedia/en/thumb/f/f3/Flag_of_Russia.svg/35px-Flag_of_Russia.svg.png 1.5x, //upload.wikimedia.org/wikipedia/en/thumb/f/f3/Flag_of_Russia.svg/45px-Flag_of_Russia.svg.png 2x\" width=\"23\"/></span> <a href=\"/wiki/Russia\" title=\"Russia\">Russia</a>*\n",
              "</td>\n",
              "<td data-sort-value=\"7013131291420000000\" style=\"text-align:right;\">13,129,142\n",
              "</td>\n",
              "<td data-sort-value=\"7013131291420000000\" style=\"text-align:right;\">5,069,190\n",
              "</td>\n",
              "<td>17,098,242 km<sup>2</sup> (6,601,668 sq mi) including <a href=\"/wiki/European_Russia\" title=\"European Russia\">European Russia</a>.<sup class=\"reference\" id=\"cite_ref-russiaTotalAreaByCIA_1-0\"><a href=\"#cite_note-russiaTotalAreaByCIA-1\">[1]</a></sup>\n",
              "</td>\n",
              "<td>Largest country in the world by area.\n",
              "</td></tr>\n",
              "<tr>\n",
              "<td>2\n",
              "</td>\n",
              "<td><span class=\"flagicon\" style=\"display:inline-block;width:25px;\"><img alt=\"\" class=\"thumbborder\" data-file-height=\"600\" data-file-width=\"900\" decoding=\"async\" height=\"15\" src=\"//upload.wikimedia.org/wikipedia/commons/thumb/f/fa/Flag_of_the_People%27s_Republic_of_China.svg/23px-Flag_of_the_People%27s_Republic_of_China.svg.png\" srcset=\"//upload.wikimedia.org/wikipedia/commons/thumb/f/fa/Flag_of_the_People%27s_Republic_of_China.svg/35px-Flag_of_the_People%27s_Republic_of_China.svg.png 1.5x, //upload.wikimedia.org/wikipedia/commons/thumb/f/fa/Flag_of_the_People%27s_Republic_of_China.svg/45px-Flag_of_the_People%27s_Republic_of_China.svg.png 2x\" width=\"23\"/></span> <a href=\"/wiki/China\" title=\"China\">China</a>\n",
              "</td>\n",
              "<td data-sort-value=\"7012961522200000000\" style=\"text-align:right;\">9,615,222\n",
              "</td>\n",
              "<td data-sort-value=\"7012961522200000000\" style=\"text-align:right;\">3,712,458\n",
              "</td>\n",
              "<td>Excluding <a href=\"/wiki/Taiwan\" title=\"Taiwan\">Taiwan</a>, <a href=\"/wiki/Hong_Kong\" title=\"Hong Kong\">Hong Kong</a> and <a href=\"/wiki/Macau\" title=\"Macau\">Macau</a>.\n",
              "</td>\n",
              "<td>Largest country by population in Asia as well as in the world.\n",
              "</td></tr>\n",
              "<tr>\n",
              "<td>3\n",
              "</td>\n",
              "<td><span class=\"flagicon\" style=\"display:inline-block;width:25px;\"><img alt=\"\" class=\"thumbborder\" data-file-height=\"900\" data-file-width=\"1350\" decoding=\"async\" height=\"15\" src=\"//upload.wikimedia.org/wikipedia/en/thumb/4/41/Flag_of_India.svg/23px-Flag_of_India.svg.png\" srcset=\"//upload.wikimedia.org/wikipedia/en/thumb/4/41/Flag_of_India.svg/35px-Flag_of_India.svg.png 1.5x, //upload.wikimedia.org/wikipedia/en/thumb/4/41/Flag_of_India.svg/45px-Flag_of_India.svg.png 2x\" width=\"23\"/></span> <a href=\"/wiki/India\" title=\"India\">India</a>\n",
              "</td>\n",
              "<td data-sort-value=\"7012328726300000000\" style=\"text-align:right;\">3,287,263\n",
              "</td>\n",
              "<td data-sort-value=\"7012328726300000000\" style=\"text-align:right;\">1,269,219\n",
              "</td>\n",
              "<td>\n",
              "</td>\n",
              "<td>\n",
              "</td></tr>\n",
              "<tr>\n",
              "<td>4\n",
              "</td>\n",
              "<td><span class=\"flagicon\" style=\"display:inline-block;width:25px;\"><img alt=\"\" class=\"thumbborder\" data-file-height=\"500\" data-file-width=\"1000\" decoding=\"async\" height=\"12\" src=\"//upload.wikimedia.org/wikipedia/commons/thumb/d/d3/Flag_of_Kazakhstan.svg/23px-Flag_of_Kazakhstan.svg.png\" srcset=\"//upload.wikimedia.org/wikipedia/commons/thumb/d/d3/Flag_of_Kazakhstan.svg/35px-Flag_of_Kazakhstan.svg.png 1.5x, //upload.wikimedia.org/wikipedia/commons/thumb/d/d3/Flag_of_Kazakhstan.svg/46px-Flag_of_Kazakhstan.svg.png 2x\" width=\"23\"/></span> <a href=\"/wiki/Kazakhstan\" title=\"Kazakhstan\">Kazakhstan</a>*\n",
              "</td>\n",
              "<td data-sort-value=\"7012254490000000000\" style=\"text-align:right;\">2,544,900\n",
              "</td>\n",
              "<td data-sort-value=\"7012254490000000000\" style=\"text-align:right;\">982,600\n",
              "</td>\n",
              "<td>2,724,900 km<sup>2</sup> (1,052,100 sq mi) including European part.\n",
              "</td>\n",
              "<td>Largest landlocked country in Asia and in the world.\n",
              "</td></tr>\n",
              "<tr>\n",
              "<td>5\n",
              "</td>\n",
              "<td><span class=\"flagicon\" style=\"display:inline-block;width:25px;\"><img alt=\"\" class=\"thumbborder\" data-file-height=\"600\" data-file-width=\"900\" decoding=\"async\" height=\"15\" src=\"//upload.wikimedia.org/wikipedia/commons/thumb/0/0d/Flag_of_Saudi_Arabia.svg/23px-Flag_of_Saudi_Arabia.svg.png\" srcset=\"//upload.wikimedia.org/wikipedia/commons/thumb/0/0d/Flag_of_Saudi_Arabia.svg/35px-Flag_of_Saudi_Arabia.svg.png 1.5x, //upload.wikimedia.org/wikipedia/commons/thumb/0/0d/Flag_of_Saudi_Arabia.svg/45px-Flag_of_Saudi_Arabia.svg.png 2x\" width=\"23\"/></span> <a href=\"/wiki/Saudi_Arabia\" title=\"Saudi Arabia\">Saudi Arabia</a>\n",
              "</td>\n",
              "<td data-sort-value=\"7012214969000000000\" style=\"text-align:right;\">2,149,690\n",
              "</td>\n",
              "<td data-sort-value=\"7012214969000000000\" style=\"text-align:right;\">830,000\n",
              "</td>\n",
              "<td>\n",
              "</td>\n",
              "<td>\n",
              "</td></tr>\n",
              "<tr>\n",
              "<td>6\n",
              "</td>\n",
              "<td><span class=\"flagicon\" style=\"display:inline-block;width:25px;\"><img alt=\"\" class=\"thumbborder\" data-file-height=\"360\" data-file-width=\"630\" decoding=\"async\" height=\"13\" src=\"//upload.wikimedia.org/wikipedia/commons/thumb/c/ca/Flag_of_Iran.svg/23px-Flag_of_Iran.svg.png\" srcset=\"//upload.wikimedia.org/wikipedia/commons/thumb/c/ca/Flag_of_Iran.svg/35px-Flag_of_Iran.svg.png 1.5x, //upload.wikimedia.org/wikipedia/commons/thumb/c/ca/Flag_of_Iran.svg/46px-Flag_of_Iran.svg.png 2x\" width=\"23\"/></span> <a href=\"/wiki/Iran\" title=\"Iran\">Iran</a>\n",
              "</td>\n",
              "<td data-sort-value=\"7012164819500000000\" style=\"text-align:right;\">1,648,195\n",
              "</td>\n",
              "<td data-sort-value=\"7012164819500000000\" style=\"text-align:right;\">636,372\n",
              "</td>\n",
              "<td>\n",
              "</td>\n",
              "<td>\n",
              "</td></tr>\n",
              "<tr>\n",
              "<td>7\n",
              "</td>\n",
              "<td><span class=\"flagicon\" style=\"display:inline-block;width:25px;\"><img alt=\"\" class=\"thumbborder\" data-file-height=\"600\" data-file-width=\"1200\" decoding=\"async\" height=\"12\" src=\"//upload.wikimedia.org/wikipedia/commons/thumb/4/4c/Flag_of_Mongolia.svg/23px-Flag_of_Mongolia.svg.png\" srcset=\"//upload.wikimedia.org/wikipedia/commons/thumb/4/4c/Flag_of_Mongolia.svg/35px-Flag_of_Mongolia.svg.png 1.5x, //upload.wikimedia.org/wikipedia/commons/thumb/4/4c/Flag_of_Mongolia.svg/46px-Flag_of_Mongolia.svg.png 2x\" width=\"23\"/></span> <a href=\"/wiki/Mongolia\" title=\"Mongolia\">Mongolia</a>\n",
              "</td>\n",
              "<td data-sort-value=\"7012156411000000000\" style=\"text-align:right;\">1,564,110\n",
              "</td>\n",
              "<td data-sort-value=\"7012156411000000000\" style=\"text-align:right;\">603,910\n",
              "</td>\n",
              "<td>\n",
              "</td>\n",
              "<td>\n",
              "</td></tr>\n",
              "<tr>\n",
              "<td>8\n",
              "</td>\n",
              "<td><span class=\"flagicon\" style=\"display:inline-block;width:25px;\"><img alt=\"\" class=\"thumbborder\" data-file-height=\"600\" data-file-width=\"900\" decoding=\"async\" height=\"15\" src=\"//upload.wikimedia.org/wikipedia/commons/thumb/9/9f/Flag_of_Indonesia.svg/23px-Flag_of_Indonesia.svg.png\" srcset=\"//upload.wikimedia.org/wikipedia/commons/thumb/9/9f/Flag_of_Indonesia.svg/35px-Flag_of_Indonesia.svg.png 1.5x, //upload.wikimedia.org/wikipedia/commons/thumb/9/9f/Flag_of_Indonesia.svg/45px-Flag_of_Indonesia.svg.png 2x\" width=\"23\"/></span> <a href=\"/wiki/Indonesia\" title=\"Indonesia\">Indonesia</a>*\n",
              "</td>\n",
              "<td data-sort-value=\"7012150202900000000\" style=\"text-align:right;\">1,502,029\n",
              "</td>\n",
              "<td data-sort-value=\"7012150202900000000\" style=\"text-align:right;\">579,937\n",
              "</td>\n",
              "<td>1,904,569 km<sup>2</sup> (735,358 sq mi) including the <a href=\"/wiki/Western_New_Guinea\" title=\"Western New Guinea\">Indonesian Papua</a> in <a href=\"/wiki/Oceania\" title=\"Oceania\">Oceania</a>.\n",
              "</td>\n",
              "<td>Largest island country in Asia as well as in the World.\n",
              "</td></tr>\n",
              "<tr>\n",
              "<td>9\n",
              "</td>\n",
              "<td><span class=\"flagicon\" style=\"display:inline-block;width:25px;\"><img alt=\"\" class=\"thumbborder\" data-file-height=\"600\" data-file-width=\"900\" decoding=\"async\" height=\"15\" src=\"//upload.wikimedia.org/wikipedia/commons/thumb/3/32/Flag_of_Pakistan.svg/23px-Flag_of_Pakistan.svg.png\" srcset=\"//upload.wikimedia.org/wikipedia/commons/thumb/3/32/Flag_of_Pakistan.svg/35px-Flag_of_Pakistan.svg.png 1.5x, //upload.wikimedia.org/wikipedia/commons/thumb/3/32/Flag_of_Pakistan.svg/45px-Flag_of_Pakistan.svg.png 2x\" width=\"23\"/></span> <a href=\"/wiki/Pakistan\" title=\"Pakistan\">Pakistan</a>\n",
              "</td>\n",
              "<td data-sort-value=\"7011881913000000000\" style=\"text-align:right;\">881,913\n",
              "</td>\n",
              "<td data-sort-value=\"7011881913000000000\" style=\"text-align:right;\">340,509\n",
              "</td>\n",
              "<td>\n",
              "</td>\n",
              "<td>\n",
              "</td></tr>\n",
              "<tr>\n",
              "<td>10\n",
              "</td>\n",
              "<td><span class=\"flagicon\" style=\"display:inline-block;width:25px;\"><img alt=\"\" class=\"thumbborder\" data-file-height=\"800\" data-file-width=\"1200\" decoding=\"async\" height=\"15\" src=\"//upload.wikimedia.org/wikipedia/commons/thumb/b/b4/Flag_of_Turkey.svg/23px-Flag_of_Turkey.svg.png\" srcset=\"//upload.wikimedia.org/wikipedia/commons/thumb/b/b4/Flag_of_Turkey.svg/35px-Flag_of_Turkey.svg.png 1.5x, //upload.wikimedia.org/wikipedia/commons/thumb/b/b4/Flag_of_Turkey.svg/45px-Flag_of_Turkey.svg.png 2x\" width=\"23\"/></span> <a href=\"/wiki/Turkey\" title=\"Turkey\">Turkey</a>*\n",
              "</td>\n",
              "<td data-sort-value=\"7011759592000000000\" style=\"text-align:right;\">759,592\n",
              "</td>\n",
              "<td data-sort-value=\"7011759592000000000\" style=\"text-align:right;\">293,280\n",
              "</td>\n",
              "<td>783,562 km<sup>2</sup> (302,535 sq mi) including <a href=\"/wiki/East_Thrace\" title=\"East Thrace\">European Turkey</a>.\n",
              "</td>\n",
              "<td>\n",
              "</td></tr>\n",
              "<tr>\n",
              "<td>11\n",
              "</td>\n",
              "<td><span class=\"flagicon\" style=\"display:inline-block;width:25px;\"><img alt=\"\" class=\"thumbborder\" data-file-height=\"800\" data-file-width=\"1200\" decoding=\"async\" height=\"15\" src=\"//upload.wikimedia.org/wikipedia/commons/thumb/8/8c/Flag_of_Myanmar.svg/23px-Flag_of_Myanmar.svg.png\" srcset=\"//upload.wikimedia.org/wikipedia/commons/thumb/8/8c/Flag_of_Myanmar.svg/35px-Flag_of_Myanmar.svg.png 1.5x, //upload.wikimedia.org/wikipedia/commons/thumb/8/8c/Flag_of_Myanmar.svg/45px-Flag_of_Myanmar.svg.png 2x\" width=\"23\"/></span> <a href=\"/wiki/Myanmar\" title=\"Myanmar\">Myanmar</a>\n",
              "</td>\n",
              "<td data-sort-value=\"7011676578000000000\" style=\"text-align:right;\">676,578\n",
              "</td>\n",
              "<td data-sort-value=\"7011676578000000000\" style=\"text-align:right;\">261,228\n",
              "</td>\n",
              "<td>\n",
              "</td>\n",
              "<td>\n",
              "</td></tr>\n",
              "<tr>\n",
              "<td>12\n",
              "</td>\n",
              "<td><span class=\"flagicon\" style=\"display:inline-block;width:25px;\"><img alt=\"\" class=\"thumbborder\" data-file-height=\"500\" data-file-width=\"1000\" decoding=\"async\" height=\"12\" src=\"//upload.wikimedia.org/wikipedia/commons/thumb/5/5c/Flag_of_the_Taliban.svg/23px-Flag_of_the_Taliban.svg.png\" srcset=\"//upload.wikimedia.org/wikipedia/commons/thumb/5/5c/Flag_of_the_Taliban.svg/35px-Flag_of_the_Taliban.svg.png 1.5x, //upload.wikimedia.org/wikipedia/commons/thumb/5/5c/Flag_of_the_Taliban.svg/46px-Flag_of_the_Taliban.svg.png 2x\" width=\"23\"/></span> <a href=\"/wiki/Afghanistan\" title=\"Afghanistan\">Afghanistan</a>\n",
              "</td>\n",
              "<td data-sort-value=\"7011652230000000000\" style=\"text-align:right;\">652,230\n",
              "</td>\n",
              "<td data-sort-value=\"7011652230000000000\" style=\"text-align:right;\">251,830\n",
              "</td>\n",
              "<td>\n",
              "</td>\n",
              "<td>Largest landlocked country by population in Asia.\n",
              "</td></tr>\n",
              "<tr>\n",
              "<td>13\n",
              "</td>\n",
              "<td><span class=\"flagicon\" style=\"display:inline-block;width:25px;\"><img alt=\"\" class=\"thumbborder\" data-file-height=\"600\" data-file-width=\"900\" decoding=\"async\" height=\"15\" src=\"//upload.wikimedia.org/wikipedia/commons/thumb/8/89/Flag_of_Yemen.svg/23px-Flag_of_Yemen.svg.png\" srcset=\"//upload.wikimedia.org/wikipedia/commons/thumb/8/89/Flag_of_Yemen.svg/35px-Flag_of_Yemen.svg.png 1.5x, //upload.wikimedia.org/wikipedia/commons/thumb/8/89/Flag_of_Yemen.svg/45px-Flag_of_Yemen.svg.png 2x\" width=\"23\"/></span> <a href=\"/wiki/Yemen\" title=\"Yemen\">Yemen</a>\n",
              "</td>\n",
              "<td data-sort-value=\"7011527968000000000\" style=\"text-align:right;\">527,968\n",
              "</td>\n",
              "<td data-sort-value=\"7011527968000000000\" style=\"text-align:right;\">203,850\n",
              "</td>\n",
              "<td>\n",
              "</td>\n",
              "<td>\n",
              "</td></tr>\n",
              "<tr>\n",
              "<td>14\n",
              "</td>\n",
              "<td><span class=\"flagicon\" style=\"display:inline-block;width:25px;\"><img alt=\"\" class=\"thumbborder\" data-file-height=\"600\" data-file-width=\"900\" decoding=\"async\" height=\"15\" src=\"//upload.wikimedia.org/wikipedia/commons/thumb/a/a9/Flag_of_Thailand.svg/23px-Flag_of_Thailand.svg.png\" srcset=\"//upload.wikimedia.org/wikipedia/commons/thumb/a/a9/Flag_of_Thailand.svg/35px-Flag_of_Thailand.svg.png 1.5x, //upload.wikimedia.org/wikipedia/commons/thumb/a/a9/Flag_of_Thailand.svg/45px-Flag_of_Thailand.svg.png 2x\" width=\"23\"/></span> <a href=\"/wiki/Thailand\" title=\"Thailand\">Thailand</a>\n",
              "</td>\n",
              "<td data-sort-value=\"7011513120000000000\" style=\"text-align:right;\">513,120\n",
              "</td>\n",
              "<td data-sort-value=\"7011513120000000000\" style=\"text-align:right;\">198,120\n",
              "</td>\n",
              "<td>\n",
              "</td>\n",
              "<td>\n",
              "</td></tr>\n",
              "<tr>\n",
              "<td>15\n",
              "</td>\n",
              "<td><span class=\"flagicon\" style=\"display:inline-block;width:25px;\"><img alt=\"\" class=\"thumbborder\" data-file-height=\"600\" data-file-width=\"900\" decoding=\"async\" height=\"15\" src=\"//upload.wikimedia.org/wikipedia/commons/thumb/1/1b/Flag_of_Turkmenistan.svg/23px-Flag_of_Turkmenistan.svg.png\" srcset=\"//upload.wikimedia.org/wikipedia/commons/thumb/1/1b/Flag_of_Turkmenistan.svg/35px-Flag_of_Turkmenistan.svg.png 1.5x, //upload.wikimedia.org/wikipedia/commons/thumb/1/1b/Flag_of_Turkmenistan.svg/45px-Flag_of_Turkmenistan.svg.png 2x\" width=\"23\"/></span> <a href=\"/wiki/Turkmenistan\" title=\"Turkmenistan\">Turkmenistan</a>\n",
              "</td>\n",
              "<td data-sort-value=\"7011488100000000000\" style=\"text-align:right;\">488,100\n",
              "</td>\n",
              "<td data-sort-value=\"7011488100000000000\" style=\"text-align:right;\">188,500\n",
              "</td>\n",
              "<td>\n",
              "</td>\n",
              "<td>\n",
              "</td></tr>\n",
              "<tr>\n",
              "<td>16\n",
              "</td>\n",
              "<td><span class=\"flagicon\" style=\"display:inline-block;width:25px;\"><img alt=\"\" class=\"thumbborder\" data-file-height=\"500\" data-file-width=\"1000\" decoding=\"async\" height=\"12\" src=\"//upload.wikimedia.org/wikipedia/commons/thumb/8/84/Flag_of_Uzbekistan.svg/23px-Flag_of_Uzbekistan.svg.png\" srcset=\"//upload.wikimedia.org/wikipedia/commons/thumb/8/84/Flag_of_Uzbekistan.svg/35px-Flag_of_Uzbekistan.svg.png 1.5x, //upload.wikimedia.org/wikipedia/commons/thumb/8/84/Flag_of_Uzbekistan.svg/46px-Flag_of_Uzbekistan.svg.png 2x\" width=\"23\"/></span> <a href=\"/wiki/Uzbekistan\" title=\"Uzbekistan\">Uzbekistan</a>\n",
              "</td>\n",
              "<td data-sort-value=\"7011447400000000000\" style=\"text-align:right;\">447,400\n",
              "</td>\n",
              "<td data-sort-value=\"7011447400000000000\" style=\"text-align:right;\">172,700\n",
              "</td>\n",
              "<td>\n",
              "</td>\n",
              "<td>\n",
              "</td></tr>\n",
              "<tr>\n",
              "<td>17\n",
              "</td>\n",
              "<td><span class=\"flagicon\" style=\"display:inline-block;width:25px;\"><img alt=\"\" class=\"thumbborder\" data-file-height=\"600\" data-file-width=\"900\" decoding=\"async\" height=\"15\" src=\"//upload.wikimedia.org/wikipedia/commons/thumb/f/f6/Flag_of_Iraq.svg/23px-Flag_of_Iraq.svg.png\" srcset=\"//upload.wikimedia.org/wikipedia/commons/thumb/f/f6/Flag_of_Iraq.svg/35px-Flag_of_Iraq.svg.png 1.5x, //upload.wikimedia.org/wikipedia/commons/thumb/f/f6/Flag_of_Iraq.svg/45px-Flag_of_Iraq.svg.png 2x\" width=\"23\"/></span> <a href=\"/wiki/Iraq\" title=\"Iraq\">Iraq</a>\n",
              "</td>\n",
              "<td data-sort-value=\"7011438317000000000\" style=\"text-align:right;\">438,317\n",
              "</td>\n",
              "<td data-sort-value=\"7011438317000000000\" style=\"text-align:right;\">169,235\n",
              "</td>\n",
              "<td>\n",
              "</td>\n",
              "<td>\n",
              "</td></tr>\n",
              "<tr>\n",
              "<td>18\n",
              "</td>\n",
              "<td><span class=\"flagicon\" style=\"display:inline-block;width:25px;\"><img alt=\"\" class=\"thumbborder\" data-file-height=\"600\" data-file-width=\"900\" decoding=\"async\" height=\"15\" src=\"//upload.wikimedia.org/wikipedia/en/thumb/9/9e/Flag_of_Japan.svg/23px-Flag_of_Japan.svg.png\" srcset=\"//upload.wikimedia.org/wikipedia/en/thumb/9/9e/Flag_of_Japan.svg/35px-Flag_of_Japan.svg.png 1.5x, //upload.wikimedia.org/wikipedia/en/thumb/9/9e/Flag_of_Japan.svg/45px-Flag_of_Japan.svg.png 2x\" width=\"23\"/></span> <a href=\"/wiki/Japan\" title=\"Japan\">Japan</a>\n",
              "</td>\n",
              "<td data-sort-value=\"7011377930000000000\" style=\"text-align:right;\">377,930\n",
              "</td>\n",
              "<td data-sort-value=\"7011377930000000000\" style=\"text-align:right;\">145,920\n",
              "</td>\n",
              "<td>\n",
              "</td>\n",
              "<td>\n",
              "</td></tr>\n",
              "<tr>\n",
              "<td>19\n",
              "</td>\n",
              "<td><span class=\"flagicon\" style=\"display:inline-block;width:25px;\"><img alt=\"\" class=\"thumbborder\" data-file-height=\"600\" data-file-width=\"900\" decoding=\"async\" height=\"15\" src=\"//upload.wikimedia.org/wikipedia/commons/thumb/2/21/Flag_of_Vietnam.svg/23px-Flag_of_Vietnam.svg.png\" srcset=\"//upload.wikimedia.org/wikipedia/commons/thumb/2/21/Flag_of_Vietnam.svg/35px-Flag_of_Vietnam.svg.png 1.5x, //upload.wikimedia.org/wikipedia/commons/thumb/2/21/Flag_of_Vietnam.svg/45px-Flag_of_Vietnam.svg.png 2x\" width=\"23\"/></span> <a href=\"/wiki/Vietnam\" title=\"Vietnam\">Vietnam</a>\n",
              "</td>\n",
              "<td data-sort-value=\"7011331212000000000\" style=\"text-align:right;\">331,212\n",
              "</td>\n",
              "<td data-sort-value=\"7011331212000000000\" style=\"text-align:right;\">127,882\n",
              "</td>\n",
              "<td>\n",
              "</td>\n",
              "<td>\n",
              "</td></tr>\n",
              "<tr>\n",
              "<td>20\n",
              "</td>\n",
              "<td><span class=\"flagicon\" style=\"display:inline-block;width:25px;\"><img alt=\"\" class=\"thumbborder\" data-file-height=\"600\" data-file-width=\"1200\" decoding=\"async\" height=\"12\" src=\"//upload.wikimedia.org/wikipedia/commons/thumb/6/66/Flag_of_Malaysia.svg/23px-Flag_of_Malaysia.svg.png\" srcset=\"//upload.wikimedia.org/wikipedia/commons/thumb/6/66/Flag_of_Malaysia.svg/35px-Flag_of_Malaysia.svg.png 1.5x, //upload.wikimedia.org/wikipedia/commons/thumb/6/66/Flag_of_Malaysia.svg/46px-Flag_of_Malaysia.svg.png 2x\" width=\"23\"/></span> <a href=\"/wiki/Malaysia\" title=\"Malaysia\">Malaysia</a>\n",
              "</td>\n",
              "<td data-sort-value=\"7011330803000000000\" style=\"text-align:right;\">330,803\n",
              "</td>\n",
              "<td data-sort-value=\"7011330803000000000\" style=\"text-align:right;\">127,724\n",
              "</td>\n",
              "<td>\n",
              "</td>\n",
              "<td>\n",
              "</td></tr>\n",
              "<tr>\n",
              "<td>21\n",
              "</td>\n",
              "<td><span class=\"flagicon\" style=\"display:inline-block;width:25px;\"><img alt=\"\" class=\"thumbborder\" data-file-height=\"600\" data-file-width=\"1200\" decoding=\"async\" height=\"12\" src=\"//upload.wikimedia.org/wikipedia/commons/thumb/d/dd/Flag_of_Oman.svg/23px-Flag_of_Oman.svg.png\" srcset=\"//upload.wikimedia.org/wikipedia/commons/thumb/d/dd/Flag_of_Oman.svg/35px-Flag_of_Oman.svg.png 1.5x, //upload.wikimedia.org/wikipedia/commons/thumb/d/dd/Flag_of_Oman.svg/46px-Flag_of_Oman.svg.png 2x\" width=\"23\"/></span> <a href=\"/wiki/Oman\" title=\"Oman\">Oman</a>\n",
              "</td>\n",
              "<td data-sort-value=\"7011309500000000000\" style=\"text-align:right;\">309,500\n",
              "</td>\n",
              "<td data-sort-value=\"7011309500000000000\" style=\"text-align:right;\">119,500\n",
              "</td>\n",
              "<td>\n",
              "</td>\n",
              "<td>\n",
              "</td></tr>\n",
              "<tr>\n",
              "<td>22\n",
              "</td>\n",
              "<td><span class=\"flagicon\" style=\"display:inline-block;width:25px;\"><img alt=\"\" class=\"thumbborder\" data-file-height=\"600\" data-file-width=\"1200\" decoding=\"async\" height=\"12\" src=\"//upload.wikimedia.org/wikipedia/commons/thumb/9/99/Flag_of_the_Philippines.svg/23px-Flag_of_the_Philippines.svg.png\" srcset=\"//upload.wikimedia.org/wikipedia/commons/thumb/9/99/Flag_of_the_Philippines.svg/35px-Flag_of_the_Philippines.svg.png 1.5x, //upload.wikimedia.org/wikipedia/commons/thumb/9/99/Flag_of_the_Philippines.svg/46px-Flag_of_the_Philippines.svg.png 2x\" width=\"23\"/></span> <a href=\"/wiki/Philippines\" title=\"Philippines\">Philippines</a>\n",
              "</td>\n",
              "<td data-sort-value=\"7011300000000000000\" style=\"text-align:right;\">300,000\n",
              "</td>\n",
              "<td data-sort-value=\"7011300000000000000\" style=\"text-align:right;\">120,000\n",
              "</td>\n",
              "<td>\n",
              "</td>\n",
              "<td>\n",
              "</td></tr>\n",
              "<tr>\n",
              "<td>23\n",
              "</td>\n",
              "<td><span class=\"flagicon\" style=\"display:inline-block;width:25px;\"><img alt=\"\" class=\"thumbborder\" data-file-height=\"600\" data-file-width=\"900\" decoding=\"async\" height=\"15\" src=\"//upload.wikimedia.org/wikipedia/commons/thumb/5/56/Flag_of_Laos.svg/23px-Flag_of_Laos.svg.png\" srcset=\"//upload.wikimedia.org/wikipedia/commons/thumb/5/56/Flag_of_Laos.svg/35px-Flag_of_Laos.svg.png 1.5x, //upload.wikimedia.org/wikipedia/commons/thumb/5/56/Flag_of_Laos.svg/45px-Flag_of_Laos.svg.png 2x\" width=\"23\"/></span> <a href=\"/wiki/Laos\" title=\"Laos\">Laos</a>\n",
              "</td>\n",
              "<td data-sort-value=\"7011236800000000000\" style=\"text-align:right;\">236,800\n",
              "</td>\n",
              "<td data-sort-value=\"7011236800000000000\" style=\"text-align:right;\">91,400\n",
              "</td>\n",
              "<td>\n",
              "</td>\n",
              "<td>\n",
              "</td></tr>\n",
              "<tr>\n",
              "<td>24\n",
              "</td>\n",
              "<td><span class=\"flagicon\" style=\"display:inline-block;width:25px;\"><img alt=\"\" class=\"thumbborder\" data-file-height=\"600\" data-file-width=\"1000\" decoding=\"async\" height=\"14\" src=\"//upload.wikimedia.org/wikipedia/commons/thumb/c/c7/Flag_of_Kyrgyzstan.svg/23px-Flag_of_Kyrgyzstan.svg.png\" srcset=\"//upload.wikimedia.org/wikipedia/commons/thumb/c/c7/Flag_of_Kyrgyzstan.svg/35px-Flag_of_Kyrgyzstan.svg.png 1.5x, //upload.wikimedia.org/wikipedia/commons/thumb/c/c7/Flag_of_Kyrgyzstan.svg/46px-Flag_of_Kyrgyzstan.svg.png 2x\" width=\"23\"/></span> <a href=\"/wiki/Kyrgyzstan\" title=\"Kyrgyzstan\">Kyrgyzstan</a>\n",
              "</td>\n",
              "<td data-sort-value=\"7011199951000000000\" style=\"text-align:right;\">199,951\n",
              "</td>\n",
              "<td data-sort-value=\"7011199951000000000\" style=\"text-align:right;\">77,202\n",
              "</td>\n",
              "<td>\n",
              "</td>\n",
              "<td>\n",
              "</td></tr>\n",
              "<tr>\n",
              "<td>25\n",
              "</td>\n",
              "<td><span class=\"flagicon\" style=\"display:inline-block;width:25px;\"><img alt=\"\" class=\"thumbborder\" data-file-height=\"600\" data-file-width=\"900\" decoding=\"async\" height=\"15\" src=\"//upload.wikimedia.org/wikipedia/commons/thumb/5/53/Flag_of_Syria.svg/23px-Flag_of_Syria.svg.png\" srcset=\"//upload.wikimedia.org/wikipedia/commons/thumb/5/53/Flag_of_Syria.svg/35px-Flag_of_Syria.svg.png 1.5x, //upload.wikimedia.org/wikipedia/commons/thumb/5/53/Flag_of_Syria.svg/45px-Flag_of_Syria.svg.png 2x\" width=\"23\"/></span> <a href=\"/wiki/Syria\" title=\"Syria\">Syria</a>\n",
              "</td>\n",
              "<td data-sort-value=\"7011185180000000000\" style=\"text-align:right;\">185,180\n",
              "</td>\n",
              "<td data-sort-value=\"7011185180000000000\" style=\"text-align:right;\">71,500\n",
              "</td>\n",
              "<td>Including the <a href=\"/wiki/Golan_Heights\" title=\"Golan Heights\">Golan Heights</a>.\n",
              "</td>\n",
              "<td>\n",
              "</td></tr>\n",
              "<tr>\n",
              "<td>26\n",
              "</td>\n",
              "<td><span class=\"flagicon\" style=\"display:inline-block;width:25px;\"><img alt=\"\" class=\"thumbborder\" data-file-height=\"640\" data-file-width=\"1000\" decoding=\"async\" height=\"15\" src=\"//upload.wikimedia.org/wikipedia/commons/thumb/8/83/Flag_of_Cambodia.svg/23px-Flag_of_Cambodia.svg.png\" srcset=\"//upload.wikimedia.org/wikipedia/commons/thumb/8/83/Flag_of_Cambodia.svg/35px-Flag_of_Cambodia.svg.png 1.5x, //upload.wikimedia.org/wikipedia/commons/thumb/8/83/Flag_of_Cambodia.svg/46px-Flag_of_Cambodia.svg.png 2x\" width=\"23\"/></span> <a href=\"/wiki/Cambodia\" title=\"Cambodia\">Cambodia</a>\n",
              "</td>\n",
              "<td data-sort-value=\"7011181035000000000\" style=\"text-align:right;\">181,035\n",
              "</td>\n",
              "<td data-sort-value=\"7011181035000000000\" style=\"text-align:right;\">69,898\n",
              "</td>\n",
              "<td>\n",
              "</td>\n",
              "<td>\n",
              "</td></tr>\n",
              "<tr>\n",
              "<td>27\n",
              "</td>\n",
              "<td><span class=\"flagicon\" style=\"display:inline-block;width:25px;\"><img alt=\"\" class=\"thumbborder\" data-file-height=\"600\" data-file-width=\"1000\" decoding=\"async\" height=\"14\" src=\"//upload.wikimedia.org/wikipedia/commons/thumb/f/f9/Flag_of_Bangladesh.svg/23px-Flag_of_Bangladesh.svg.png\" srcset=\"//upload.wikimedia.org/wikipedia/commons/thumb/f/f9/Flag_of_Bangladesh.svg/35px-Flag_of_Bangladesh.svg.png 1.5x, //upload.wikimedia.org/wikipedia/commons/thumb/f/f9/Flag_of_Bangladesh.svg/46px-Flag_of_Bangladesh.svg.png 2x\" width=\"23\"/></span> <a href=\"/wiki/Bangladesh\" title=\"Bangladesh\">Bangladesh</a>\n",
              "</td>\n",
              "<td data-sort-value=\"7011148460000000000\" style=\"text-align:right;\">148,460\n",
              "</td>\n",
              "<td data-sort-value=\"7011148460000000000\" style=\"text-align:right;\">57,320\n",
              "</td>\n",
              "<td>\n",
              "</td>\n",
              "<td>\n",
              "</td></tr>\n",
              "<tr>\n",
              "<td>28\n",
              "</td>\n",
              "<td><span class=\"flagicon\" style=\"display:inline-block;width:25px;\"><img alt=\"\" data-file-height=\"885\" data-file-width=\"726\" decoding=\"async\" height=\"20\" src=\"//upload.wikimedia.org/wikipedia/commons/thumb/9/9b/Flag_of_Nepal.svg/16px-Flag_of_Nepal.svg.png\" srcset=\"//upload.wikimedia.org/wikipedia/commons/thumb/9/9b/Flag_of_Nepal.svg/25px-Flag_of_Nepal.svg.png 1.5x, //upload.wikimedia.org/wikipedia/commons/thumb/9/9b/Flag_of_Nepal.svg/33px-Flag_of_Nepal.svg.png 2x\" width=\"16\"/></span> <a href=\"/wiki/Nepal\" title=\"Nepal\">Nepal</a>\n",
              "</td>\n",
              "<td data-sort-value=\"7011147516000000000\" style=\"text-align:right;\">147,516\n",
              "</td>\n",
              "<td data-sort-value=\"7011147516000000000\" style=\"text-align:right;\">56,956\n",
              "</td>\n",
              "<td>including highest mountain in the world\n",
              "</td></tr>\n",
              "<tr>\n",
              "<td>29\n",
              "</td>\n",
              "<td><span class=\"flagicon\" style=\"display:inline-block;width:25px;\"><img alt=\"\" class=\"thumbborder\" data-file-height=\"600\" data-file-width=\"1200\" decoding=\"async\" height=\"12\" src=\"//upload.wikimedia.org/wikipedia/commons/thumb/d/d0/Flag_of_Tajikistan.svg/23px-Flag_of_Tajikistan.svg.png\" srcset=\"//upload.wikimedia.org/wikipedia/commons/thumb/d/d0/Flag_of_Tajikistan.svg/35px-Flag_of_Tajikistan.svg.png 1.5x, //upload.wikimedia.org/wikipedia/commons/thumb/d/d0/Flag_of_Tajikistan.svg/46px-Flag_of_Tajikistan.svg.png 2x\" width=\"23\"/></span> <a href=\"/wiki/Tajikistan\" title=\"Tajikistan\">Tajikistan</a>\n",
              "</td>\n",
              "<td data-sort-value=\"7011143100000000000\" style=\"text-align:right;\">143,100\n",
              "</td>\n",
              "<td data-sort-value=\"7011143100000000000\" style=\"text-align:right;\">55,300\n",
              "</td>\n",
              "<td>\n",
              "</td>\n",
              "<td>\n",
              "</td></tr>\n",
              "<tr>\n",
              "<td>30\n",
              "</td>\n",
              "<td><span class=\"flagicon\" style=\"display:inline-block;width:25px;\"><img alt=\"\" class=\"thumbborder\" data-file-height=\"800\" data-file-width=\"1600\" decoding=\"async\" height=\"12\" src=\"//upload.wikimedia.org/wikipedia/commons/thumb/5/51/Flag_of_North_Korea.svg/23px-Flag_of_North_Korea.svg.png\" srcset=\"//upload.wikimedia.org/wikipedia/commons/thumb/5/51/Flag_of_North_Korea.svg/35px-Flag_of_North_Korea.svg.png 1.5x, //upload.wikimedia.org/wikipedia/commons/thumb/5/51/Flag_of_North_Korea.svg/46px-Flag_of_North_Korea.svg.png 2x\" width=\"23\"/></span> <a href=\"/wiki/North_Korea\" title=\"North Korea\">North Korea</a>\n",
              "</td>\n",
              "<td data-sort-value=\"7011120538000000000\" style=\"text-align:right;\">120,538\n",
              "</td>\n",
              "<td data-sort-value=\"7011120538000000000\" style=\"text-align:right;\">46,540\n",
              "</td>\n",
              "<td>\n",
              "</td>\n",
              "<td>\n",
              "</td></tr>\n",
              "<tr>\n",
              "<td>31\n",
              "</td>\n",
              "<td><span class=\"flagicon\" style=\"display:inline-block;width:25px;\"><img alt=\"\" class=\"thumbborder\" data-file-height=\"600\" data-file-width=\"900\" decoding=\"async\" height=\"15\" src=\"//upload.wikimedia.org/wikipedia/commons/thumb/0/09/Flag_of_South_Korea.svg/23px-Flag_of_South_Korea.svg.png\" srcset=\"//upload.wikimedia.org/wikipedia/commons/thumb/0/09/Flag_of_South_Korea.svg/35px-Flag_of_South_Korea.svg.png 1.5x, //upload.wikimedia.org/wikipedia/commons/thumb/0/09/Flag_of_South_Korea.svg/45px-Flag_of_South_Korea.svg.png 2x\" width=\"23\"/></span> <a href=\"/wiki/South_Korea\" title=\"South Korea\">South Korea</a>\n",
              "</td>\n",
              "<td data-sort-value=\"7011100210000000000\" style=\"text-align:right;\">100,210\n",
              "</td>\n",
              "<td data-sort-value=\"7011100210000000000\" style=\"text-align:right;\">38,690\n",
              "</td>\n",
              "<td>\n",
              "</td>\n",
              "<td>\n",
              "</td></tr>\n",
              "<tr>\n",
              "<td>32\n",
              "</td>\n",
              "<td><span class=\"flagicon\" style=\"display:inline-block;width:25px;\"><img alt=\"\" class=\"thumbborder\" data-file-height=\"600\" data-file-width=\"1200\" decoding=\"async\" height=\"12\" src=\"//upload.wikimedia.org/wikipedia/commons/thumb/c/c0/Flag_of_Jordan.svg/23px-Flag_of_Jordan.svg.png\" srcset=\"//upload.wikimedia.org/wikipedia/commons/thumb/c/c0/Flag_of_Jordan.svg/35px-Flag_of_Jordan.svg.png 1.5x, //upload.wikimedia.org/wikipedia/commons/thumb/c/c0/Flag_of_Jordan.svg/46px-Flag_of_Jordan.svg.png 2x\" width=\"23\"/></span> <a href=\"/wiki/Jordan\" title=\"Jordan\">Jordan</a>\n",
              "</td>\n",
              "<td data-sort-value=\"7010893420000000000\" style=\"text-align:right;\">89,342\n",
              "</td>\n",
              "<td data-sort-value=\"7010893420000000000\" style=\"text-align:right;\">34,495\n",
              "</td>\n",
              "<td>\n",
              "</td>\n",
              "<td>\n",
              "</td></tr>\n",
              "<tr>\n",
              "<td>33\n",
              "</td>\n",
              "<td><span class=\"flagicon\" style=\"display:inline-block;width:25px;\"><img alt=\"\" class=\"thumbborder\" data-file-height=\"600\" data-file-width=\"1200\" decoding=\"async\" height=\"12\" src=\"//upload.wikimedia.org/wikipedia/commons/thumb/c/cb/Flag_of_the_United_Arab_Emirates.svg/23px-Flag_of_the_United_Arab_Emirates.svg.png\" srcset=\"//upload.wikimedia.org/wikipedia/commons/thumb/c/cb/Flag_of_the_United_Arab_Emirates.svg/35px-Flag_of_the_United_Arab_Emirates.svg.png 1.5x, //upload.wikimedia.org/wikipedia/commons/thumb/c/cb/Flag_of_the_United_Arab_Emirates.svg/46px-Flag_of_the_United_Arab_Emirates.svg.png 2x\" width=\"23\"/></span> <a href=\"/wiki/United_Arab_Emirates\" title=\"United Arab Emirates\">United Arab Emirates</a>\n",
              "</td>\n",
              "<td data-sort-value=\"7010836000000000000\" style=\"text-align:right;\">83,600\n",
              "</td>\n",
              "<td data-sort-value=\"7010836000000000000\" style=\"text-align:right;\">32,300\n",
              "</td>\n",
              "<td>\n",
              "</td>\n",
              "<td>\n",
              "</td></tr>\n",
              "<tr>\n",
              "<td>34\n",
              "</td>\n",
              "<td><span class=\"flagicon\" style=\"display:inline-block;width:25px;\"><img alt=\"\" class=\"thumbborder\" data-file-height=\"600\" data-file-width=\"1200\" decoding=\"async\" height=\"12\" src=\"//upload.wikimedia.org/wikipedia/commons/thumb/d/dd/Flag_of_Azerbaijan.svg/23px-Flag_of_Azerbaijan.svg.png\" srcset=\"//upload.wikimedia.org/wikipedia/commons/thumb/d/dd/Flag_of_Azerbaijan.svg/35px-Flag_of_Azerbaijan.svg.png 1.5x, //upload.wikimedia.org/wikipedia/commons/thumb/d/dd/Flag_of_Azerbaijan.svg/46px-Flag_of_Azerbaijan.svg.png 2x\" width=\"23\"/></span> <a href=\"/wiki/Azerbaijan\" title=\"Azerbaijan\">Azerbaijan</a>*\n",
              "</td>\n",
              "<td data-sort-value=\"7010796400000000000\" style=\"text-align:right;\">79,640\n",
              "</td>\n",
              "<td data-sort-value=\"7010796400000000000\" style=\"text-align:right;\">30,750\n",
              "</td>\n",
              "<td>86,600 km<sup>2</sup> (33,400 sq mi) including European part. Located in the <a href=\"/wiki/Caucasus\" title=\"Caucasus\">Caucasus</a>, between <a href=\"/wiki/Europe\" title=\"Europe\">Europe</a> and <a href=\"/wiki/Asia\" title=\"Asia\">Asia</a>.\n",
              "</td>\n",
              "<td>\n",
              "</td></tr>\n",
              "<tr>\n",
              "<td>35\n",
              "</td>\n",
              "<td><span class=\"flagicon\" style=\"display:inline-block;width:25px;\"><img alt=\"\" class=\"thumbborder\" data-file-height=\"600\" data-file-width=\"900\" decoding=\"async\" height=\"15\" src=\"//upload.wikimedia.org/wikipedia/commons/thumb/0/0f/Flag_of_Georgia.svg/23px-Flag_of_Georgia.svg.png\" srcset=\"//upload.wikimedia.org/wikipedia/commons/thumb/0/0f/Flag_of_Georgia.svg/35px-Flag_of_Georgia.svg.png 1.5x, //upload.wikimedia.org/wikipedia/commons/thumb/0/0f/Flag_of_Georgia.svg/45px-Flag_of_Georgia.svg.png 2x\" width=\"23\"/></span> <a href=\"/wiki/Georgia_(country)\" title=\"Georgia (country)\">Georgia</a>*\n",
              "</td>\n",
              "<td data-sort-value=\"7010672720000000000\" style=\"text-align:right;\">67,272\n",
              "</td>\n",
              "<td data-sort-value=\"7010672720000000000\" style=\"text-align:right;\">25,974\n",
              "</td>\n",
              "<td>69,700 km<sup>2</sup> (26,900 sq mi) including European part. Located in the <a href=\"/wiki/Caucasus\" title=\"Caucasus\">Caucasus</a>, between <a href=\"/wiki/Europe\" title=\"Europe\">Europe</a> and <a href=\"/wiki/Asia\" title=\"Asia\">Asia</a>.\n",
              "</td>\n",
              "<td>\n",
              "</td></tr>\n",
              "<tr>\n",
              "<td>36\n",
              "</td>\n",
              "<td><span class=\"flagicon\" style=\"display:inline-block;width:25px;\"><img alt=\"\" class=\"thumbborder\" data-file-height=\"600\" data-file-width=\"1200\" decoding=\"async\" height=\"12\" src=\"//upload.wikimedia.org/wikipedia/commons/thumb/1/11/Flag_of_Sri_Lanka.svg/23px-Flag_of_Sri_Lanka.svg.png\" srcset=\"//upload.wikimedia.org/wikipedia/commons/thumb/1/11/Flag_of_Sri_Lanka.svg/35px-Flag_of_Sri_Lanka.svg.png 1.5x, //upload.wikimedia.org/wikipedia/commons/thumb/1/11/Flag_of_Sri_Lanka.svg/46px-Flag_of_Sri_Lanka.svg.png 2x\" width=\"23\"/></span> <a href=\"/wiki/Sri_Lanka\" title=\"Sri Lanka\">Sri Lanka</a>\n",
              "</td>\n",
              "<td data-sort-value=\"7010656100000000000\" style=\"text-align:right;\">65,610\n",
              "</td>\n",
              "<td data-sort-value=\"7010656100000000000\" style=\"text-align:right;\">25,330\n",
              "</td>\n",
              "<td>\n",
              "</td>\n",
              "<td>\n",
              "</td></tr>\n",
              "<tr>\n",
              "<td>37\n",
              "</td>\n",
              "<td><span class=\"flagicon\" style=\"display:inline-block;width:25px;\"><img alt=\"\" class=\"thumbborder\" data-file-height=\"600\" data-file-width=\"900\" decoding=\"async\" height=\"15\" src=\"//upload.wikimedia.org/wikipedia/commons/thumb/f/fe/Flag_of_Egypt.svg/23px-Flag_of_Egypt.svg.png\" srcset=\"//upload.wikimedia.org/wikipedia/commons/thumb/f/fe/Flag_of_Egypt.svg/35px-Flag_of_Egypt.svg.png 1.5x, //upload.wikimedia.org/wikipedia/commons/thumb/f/fe/Flag_of_Egypt.svg/45px-Flag_of_Egypt.svg.png 2x\" width=\"23\"/></span> <a href=\"/wiki/Egypt\" title=\"Egypt\">Egypt</a>*\n",
              "</td>\n",
              "<td data-sort-value=\"7010600000000000000\" style=\"text-align:right;\">60,000\n",
              "</td>\n",
              "<td data-sort-value=\"7010600000000000000\" style=\"text-align:right;\">23,000\n",
              "</td>\n",
              "<td>1,010,408 km<sup>2</sup> (390,121 sq mi) including African part.\n",
              "</td>\n",
              "<td>\n",
              "</td></tr>\n",
              "<tr>\n",
              "<td>38\n",
              "</td>\n",
              "<td><span class=\"flagicon\" style=\"display:inline-block;width:25px;\"><img alt=\"\" class=\"thumbborder\" data-file-height=\"600\" data-file-width=\"900\" decoding=\"async\" height=\"15\" src=\"//upload.wikimedia.org/wikipedia/commons/thumb/9/91/Flag_of_Bhutan.svg/23px-Flag_of_Bhutan.svg.png\" srcset=\"//upload.wikimedia.org/wikipedia/commons/thumb/9/91/Flag_of_Bhutan.svg/35px-Flag_of_Bhutan.svg.png 1.5x, //upload.wikimedia.org/wikipedia/commons/thumb/9/91/Flag_of_Bhutan.svg/45px-Flag_of_Bhutan.svg.png 2x\" width=\"23\"/></span> <a href=\"/wiki/Bhutan\" title=\"Bhutan\">Bhutan</a>\n",
              "</td>\n",
              "<td data-sort-value=\"7010383940000000000\" style=\"text-align:right;\">38,394\n",
              "</td>\n",
              "<td data-sort-value=\"7010383940000000000\" style=\"text-align:right;\">14,824\n",
              "</td>\n",
              "<td>\n",
              "</td>\n",
              "<td>Smallest landlocked country by population in Asia.\n",
              "</td></tr>\n",
              "<tr>\n",
              "<td>39\n",
              "</td>\n",
              "<td><span class=\"flagicon\" style=\"display:inline-block;width:25px;\"><img alt=\"\" class=\"thumbborder\" data-file-height=\"600\" data-file-width=\"900\" decoding=\"async\" height=\"15\" src=\"//upload.wikimedia.org/wikipedia/commons/thumb/7/72/Flag_of_the_Republic_of_China.svg/23px-Flag_of_the_Republic_of_China.svg.png\" srcset=\"//upload.wikimedia.org/wikipedia/commons/thumb/7/72/Flag_of_the_Republic_of_China.svg/35px-Flag_of_the_Republic_of_China.svg.png 1.5x, //upload.wikimedia.org/wikipedia/commons/thumb/7/72/Flag_of_the_Republic_of_China.svg/45px-Flag_of_the_Republic_of_China.svg.png 2x\" width=\"23\"/></span> <a href=\"/wiki/Taiwan\" title=\"Taiwan\">Taiwan</a>\n",
              "</td>\n",
              "<td data-sort-value=\"7010361930000000000\" style=\"text-align:right;\">36,193\n",
              "</td>\n",
              "<td data-sort-value=\"7010361930000000000\" style=\"text-align:right;\">13,974\n",
              "</td>\n",
              "<td>Total area under the jurisdiction of the <a href=\"/wiki/Free_area_of_the_Republic_of_China\" title=\"Free area of the Republic of China\">free area of the Republic of China</a>.\n",
              "</td>\n",
              "<td>\n",
              "</td></tr>\n",
              "<tr>\n",
              "<td>40\n",
              "</td>\n",
              "<td><span class=\"flagicon\" style=\"display:inline-block;width:25px;\"><img alt=\"\" class=\"thumbborder\" data-file-height=\"600\" data-file-width=\"1200\" decoding=\"async\" height=\"12\" src=\"//upload.wikimedia.org/wikipedia/commons/thumb/2/2f/Flag_of_Armenia.svg/23px-Flag_of_Armenia.svg.png\" srcset=\"//upload.wikimedia.org/wikipedia/commons/thumb/2/2f/Flag_of_Armenia.svg/35px-Flag_of_Armenia.svg.png 1.5x, //upload.wikimedia.org/wikipedia/commons/thumb/2/2f/Flag_of_Armenia.svg/46px-Flag_of_Armenia.svg.png 2x\" width=\"23\"/></span> <a href=\"/wiki/Armenia\" title=\"Armenia\">Armenia</a>*\n",
              "</td>\n",
              "<td data-sort-value=\"7010298430000000000\" style=\"text-align:right;\">29,843\n",
              "</td>\n",
              "<td data-sort-value=\"7010298430000000000\" style=\"text-align:right;\">11,522\n",
              "</td>\n",
              "<td>Located in the <a href=\"/wiki/Armenian_highlands\" title=\"Armenian highlands\">Armenian highlands</a> and the <a href=\"/wiki/Caucasus\" title=\"Caucasus\">Caucasus</a>, between <a href=\"/wiki/Europe\" title=\"Europe\">Europe</a> and <a href=\"/wiki/Asia\" title=\"Asia\">Asia</a>.\n",
              "</td>\n",
              "<td>Smallest landlocked country in Asia.\n",
              "</td></tr>\n",
              "<tr>\n",
              "<td>41\n",
              "</td>\n",
              "<td><span class=\"flagicon\"><img alt=\"\" class=\"thumbborder\" data-file-height=\"800\" data-file-width=\"1100\" decoding=\"async\" height=\"15\" src=\"//upload.wikimedia.org/wikipedia/commons/thumb/d/d4/Flag_of_Israel.svg/21px-Flag_of_Israel.svg.png\" srcset=\"//upload.wikimedia.org/wikipedia/commons/thumb/d/d4/Flag_of_Israel.svg/32px-Flag_of_Israel.svg.png 1.5x, //upload.wikimedia.org/wikipedia/commons/thumb/d/d4/Flag_of_Israel.svg/41px-Flag_of_Israel.svg.png 2x\" width=\"21\"/> </span><a href=\"/wiki/Israel\" title=\"Israel\">Israel</a>\n",
              "</td>\n",
              "<td data-sort-value=\"7010220720000000000\" style=\"text-align:right;\">22,072\n",
              "</td>\n",
              "<td data-sort-value=\"7010220720000000000\" style=\"text-align:right;\">8,522\n",
              "</td>\n",
              "<td>Excluding the <a href=\"/wiki/West_Bank\" title=\"West Bank\">West Bank</a>, <a href=\"/wiki/Gaza_Strip\" title=\"Gaza Strip\">Gaza Strip</a>, and <a href=\"/wiki/Golan_Heights\" title=\"Golan Heights\">Golan Heights</a>.\n",
              "</td>\n",
              "<td>\n",
              "</td></tr>\n",
              "<tr>\n",
              "<td>42\n",
              "</td>\n",
              "<td><span class=\"flagicon\" style=\"display:inline-block;width:25px;\"><img alt=\"\" class=\"thumbborder\" data-file-height=\"600\" data-file-width=\"1200\" decoding=\"async\" height=\"12\" src=\"//upload.wikimedia.org/wikipedia/commons/thumb/a/aa/Flag_of_Kuwait.svg/23px-Flag_of_Kuwait.svg.png\" srcset=\"//upload.wikimedia.org/wikipedia/commons/thumb/a/aa/Flag_of_Kuwait.svg/35px-Flag_of_Kuwait.svg.png 1.5x, //upload.wikimedia.org/wikipedia/commons/thumb/a/aa/Flag_of_Kuwait.svg/46px-Flag_of_Kuwait.svg.png 2x\" width=\"23\"/></span> <a href=\"/wiki/Kuwait\" title=\"Kuwait\">Kuwait</a>\n",
              "</td>\n",
              "<td data-sort-value=\"7010178180000000000\" style=\"text-align:right;\">17,818\n",
              "</td>\n",
              "<td data-sort-value=\"7010178180000000000\" style=\"text-align:right;\">6,880\n",
              "</td>\n",
              "<td>\n",
              "</td>\n",
              "<td>\n",
              "</td></tr>\n",
              "<tr>\n",
              "<td>43\n",
              "</td>\n",
              "<td><span class=\"flagicon\" style=\"display:inline-block;width:25px;\"><img alt=\"\" class=\"thumbborder\" data-file-height=\"600\" data-file-width=\"1200\" decoding=\"async\" height=\"12\" src=\"//upload.wikimedia.org/wikipedia/commons/thumb/2/26/Flag_of_East_Timor.svg/23px-Flag_of_East_Timor.svg.png\" srcset=\"//upload.wikimedia.org/wikipedia/commons/thumb/2/26/Flag_of_East_Timor.svg/35px-Flag_of_East_Timor.svg.png 1.5x, //upload.wikimedia.org/wikipedia/commons/thumb/2/26/Flag_of_East_Timor.svg/46px-Flag_of_East_Timor.svg.png 2x\" width=\"23\"/></span> <a href=\"/wiki/East_Timor\" title=\"East Timor\">Timor-Leste</a>\n",
              "</td>\n",
              "<td data-sort-value=\"7010148740000000000\" style=\"text-align:right;\">14,874\n",
              "</td>\n",
              "<td data-sort-value=\"7010148740000000000\" style=\"text-align:right;\">5,743\n",
              "</td>\n",
              "<td>\n",
              "</td>\n",
              "<td>\n",
              "</td></tr>\n",
              "<tr>\n",
              "<td>44\n",
              "</td>\n",
              "<td><span class=\"flagicon\" style=\"display:inline-block;width:25px;\"><img alt=\"\" class=\"thumbborder\" data-file-height=\"550\" data-file-width=\"1400\" decoding=\"async\" height=\"9\" src=\"//upload.wikimedia.org/wikipedia/commons/thumb/6/65/Flag_of_Qatar.svg/23px-Flag_of_Qatar.svg.png\" srcset=\"//upload.wikimedia.org/wikipedia/commons/thumb/6/65/Flag_of_Qatar.svg/35px-Flag_of_Qatar.svg.png 1.5x, //upload.wikimedia.org/wikipedia/commons/thumb/6/65/Flag_of_Qatar.svg/46px-Flag_of_Qatar.svg.png 2x\" width=\"23\"/></span> <a href=\"/wiki/Qatar\" title=\"Qatar\">Qatar</a>\n",
              "</td>\n",
              "<td data-sort-value=\"7010115860000000000\" style=\"text-align:right;\">11,586\n",
              "</td>\n",
              "<td data-sort-value=\"7010115860000000000\" style=\"text-align:right;\">4,473\n",
              "</td>\n",
              "<td>\n",
              "</td>\n",
              "<td>\n",
              "</td></tr>\n",
              "<tr>\n",
              "<td>45\n",
              "</td>\n",
              "<td><span class=\"flagicon\" style=\"display:inline-block;width:25px;\"><img alt=\"\" class=\"thumbborder\" data-file-height=\"600\" data-file-width=\"900\" decoding=\"async\" height=\"15\" src=\"//upload.wikimedia.org/wikipedia/commons/thumb/5/59/Flag_of_Lebanon.svg/23px-Flag_of_Lebanon.svg.png\" srcset=\"//upload.wikimedia.org/wikipedia/commons/thumb/5/59/Flag_of_Lebanon.svg/35px-Flag_of_Lebanon.svg.png 1.5x, //upload.wikimedia.org/wikipedia/commons/thumb/5/59/Flag_of_Lebanon.svg/45px-Flag_of_Lebanon.svg.png 2x\" width=\"23\"/></span> <a href=\"/wiki/Lebanon\" title=\"Lebanon\">Lebanon</a>\n",
              "</td>\n",
              "<td data-sort-value=\"7010104520000000000\" style=\"text-align:right;\">10,452\n",
              "</td>\n",
              "<td data-sort-value=\"7010104520000000000\" style=\"text-align:right;\">4,036\n",
              "</td>\n",
              "<td>\n",
              "</td>\n",
              "<td>\n",
              "</td></tr>\n",
              "<tr>\n",
              "<td>46\n",
              "</td>\n",
              "<td><span class=\"flagicon\" style=\"display:inline-block;width:25px;\"><img alt=\"\" class=\"thumbborder\" data-file-height=\"600\" data-file-width=\"900\" decoding=\"async\" height=\"15\" src=\"//upload.wikimedia.org/wikipedia/commons/thumb/d/d4/Flag_of_Cyprus.svg/23px-Flag_of_Cyprus.svg.png\" srcset=\"//upload.wikimedia.org/wikipedia/commons/thumb/d/d4/Flag_of_Cyprus.svg/35px-Flag_of_Cyprus.svg.png 1.5x, //upload.wikimedia.org/wikipedia/commons/thumb/d/d4/Flag_of_Cyprus.svg/45px-Flag_of_Cyprus.svg.png 2x\" width=\"23\"/></span> <a href=\"/wiki/Cyprus\" title=\"Cyprus\">Cyprus</a>*\n",
              "</td>\n",
              "<td data-sort-value=\"7009925100000000000\" style=\"text-align:right;\">9,251\n",
              "</td>\n",
              "<td data-sort-value=\"7009925100000000000\" style=\"text-align:right;\">3,572\n",
              "</td>\n",
              "<td>Including <a href=\"/wiki/Northern_Cyprus\" title=\"Northern Cyprus\">Northern Cyprus</a>.\n",
              "</td>\n",
              "<td>\n",
              "</td></tr>\n",
              "<tr>\n",
              "<td>47\n",
              "</td>\n",
              "<td><span class=\"flagicon\" style=\"display:inline-block;width:25px;\"><img alt=\"\" class=\"thumbborder\" data-file-height=\"216\" data-file-width=\"432\" decoding=\"async\" height=\"12\" src=\"//upload.wikimedia.org/wikipedia/commons/thumb/0/00/Flag_of_Palestine.svg/23px-Flag_of_Palestine.svg.png\" srcset=\"//upload.wikimedia.org/wikipedia/commons/thumb/0/00/Flag_of_Palestine.svg/35px-Flag_of_Palestine.svg.png 1.5x, //upload.wikimedia.org/wikipedia/commons/thumb/0/00/Flag_of_Palestine.svg/46px-Flag_of_Palestine.svg.png 2x\" width=\"23\"/></span> <a href=\"/wiki/State_of_Palestine\" title=\"State of Palestine\">Palestine</a>\n",
              "</td>\n",
              "<td data-sort-value=\"7009602000000000000\" style=\"text-align:right;\">6,020\n",
              "</td>\n",
              "<td data-sort-value=\"7009602000000000000\" style=\"text-align:right;\">2,320\n",
              "</td>\n",
              "<td>Including the <a href=\"/wiki/West_Bank\" title=\"West Bank\">West Bank</a> and <a href=\"/wiki/Gaza_Strip\" title=\"Gaza Strip\">Gaza Strip</a>.\n",
              "</td>\n",
              "<td>\n",
              "</td></tr>\n",
              "<tr>\n",
              "<td>48\n",
              "</td>\n",
              "<td><span class=\"flagicon\" style=\"display:inline-block;width:25px;\"><img alt=\"\" class=\"thumbborder\" data-file-height=\"720\" data-file-width=\"1440\" decoding=\"async\" height=\"12\" src=\"//upload.wikimedia.org/wikipedia/commons/thumb/9/9c/Flag_of_Brunei.svg/23px-Flag_of_Brunei.svg.png\" srcset=\"//upload.wikimedia.org/wikipedia/commons/thumb/9/9c/Flag_of_Brunei.svg/35px-Flag_of_Brunei.svg.png 1.5x, //upload.wikimedia.org/wikipedia/commons/thumb/9/9c/Flag_of_Brunei.svg/46px-Flag_of_Brunei.svg.png 2x\" width=\"23\"/></span> <a href=\"/wiki/Brunei\" title=\"Brunei\">Brunei</a>\n",
              "</td>\n",
              "<td data-sort-value=\"7009576500000000000\" style=\"text-align:right;\">5,765\n",
              "</td>\n",
              "<td data-sort-value=\"7009576500000000000\" style=\"text-align:right;\">2,226\n",
              "</td>\n",
              "<td>\n",
              "</td>\n",
              "<td>\n",
              "</td></tr>\n",
              "<tr>\n",
              "<td>49\n",
              "</td>\n",
              "<td><span class=\"flagicon\" style=\"display:inline-block;width:25px;\"><img alt=\"\" class=\"thumbborder\" data-file-height=\"900\" data-file-width=\"1500\" decoding=\"async\" height=\"14\" src=\"//upload.wikimedia.org/wikipedia/commons/thumb/2/2c/Flag_of_Bahrain.svg/23px-Flag_of_Bahrain.svg.png\" srcset=\"//upload.wikimedia.org/wikipedia/commons/thumb/2/2c/Flag_of_Bahrain.svg/35px-Flag_of_Bahrain.svg.png 1.5x, //upload.wikimedia.org/wikipedia/commons/thumb/2/2c/Flag_of_Bahrain.svg/46px-Flag_of_Bahrain.svg.png 2x\" width=\"23\"/></span> <a href=\"/wiki/Bahrain\" title=\"Bahrain\">Bahrain</a>\n",
              "</td>\n",
              "<td data-sort-value=\"7008780000000000000\" style=\"text-align:right;\">780\n",
              "</td>\n",
              "<td data-sort-value=\"7008780000000000000\" style=\"text-align:right;\">300\n",
              "</td>\n",
              "<td>\n",
              "</td>\n",
              "<td>\n",
              "</td></tr>\n",
              "<tr>\n",
              "<td>50\n",
              "</td>\n",
              "<td><span class=\"flagicon\" style=\"display:inline-block;width:25px;\"><img alt=\"\" class=\"thumbborder\" data-file-height=\"600\" data-file-width=\"900\" decoding=\"async\" height=\"15\" src=\"//upload.wikimedia.org/wikipedia/commons/thumb/4/48/Flag_of_Singapore.svg/23px-Flag_of_Singapore.svg.png\" srcset=\"//upload.wikimedia.org/wikipedia/commons/thumb/4/48/Flag_of_Singapore.svg/35px-Flag_of_Singapore.svg.png 1.5x, //upload.wikimedia.org/wikipedia/commons/thumb/4/48/Flag_of_Singapore.svg/45px-Flag_of_Singapore.svg.png 2x\" width=\"23\"/></span> <a href=\"/wiki/Singapore\" title=\"Singapore\">Singapore</a>\n",
              "</td>\n",
              "<td data-sort-value=\"7008753000000000000\" style=\"text-align:right;\">753\n",
              "</td>\n",
              "<td data-sort-value=\"7008753000000000000\" style=\"text-align:right;\">291\n",
              "</td>\n",
              "<td>\n",
              "</td>\n",
              "<td>\n",
              "</td></tr>\n",
              "<tr>\n",
              "<td>51\n",
              "</td>\n",
              "<td><span class=\"flagicon\" style=\"display:inline-block;width:25px;\"><img alt=\"\" class=\"thumbborder\" data-file-height=\"480\" data-file-width=\"720\" decoding=\"async\" height=\"15\" src=\"//upload.wikimedia.org/wikipedia/commons/thumb/0/0f/Flag_of_Maldives.svg/23px-Flag_of_Maldives.svg.png\" srcset=\"//upload.wikimedia.org/wikipedia/commons/thumb/0/0f/Flag_of_Maldives.svg/35px-Flag_of_Maldives.svg.png 1.5x, //upload.wikimedia.org/wikipedia/commons/thumb/0/0f/Flag_of_Maldives.svg/45px-Flag_of_Maldives.svg.png 2x\" width=\"23\"/></span> <a href=\"/wiki/Maldives\" title=\"Maldives\">Maldives</a>\n",
              "</td>\n",
              "<td data-sort-value=\"7008300000000000000\" style=\"text-align:right;\">300\n",
              "</td>\n",
              "<td data-sort-value=\"7008300000000000000\" style=\"text-align:right;\">120\n",
              "</td>\n",
              "<td>\n",
              "</td>\n",
              "<td>Smallest country by area and population in Asia.\n",
              "</td></tr>\n",
              "<tr>\n",
              "<td>\n",
              "</td>\n",
              "<td><b>Total</b>\n",
              "</td>\n",
              "<td data-sort-value=\"7013445263160000000\" style=\"text-align:right;\">44,526,316\n",
              "</td>\n",
              "<td data-sort-value=\"7013445263160000000\" style=\"text-align:right;\">17,191,707\n",
              "</td>\n",
              "<td>\n",
              "</td>\n",
              "<td>\n",
              "</td></tr></tbody></table>"
            ]
          },
          "execution_count": 105,
          "metadata": {},
          "output_type": "execute_result"
        }
      ],
      "source": [
        "My_table = soup.find(\"table\",{\"class\":\"wikitable sortable\"})\n",
        "My_table"
      ]
    },
    {
      "cell_type": "code",
      "execution_count": null,
      "metadata": {
        "colab": {
          "base_uri": "https://localhost:8080/"
        },
        "id": "vPKOb288lhI1",
        "outputId": "9c15e830-4b0e-44e8-e0c2-0acb24fdade6"
      },
      "outputs": [
        {
          "data": {
            "text/plain": [
              "[<a href=\"/wiki/Russia\" title=\"Russia\">Russia</a>,\n",
              " <a href=\"/wiki/European_Russia\" title=\"European Russia\">European Russia</a>,\n",
              " <a href=\"#cite_note-russiaTotalAreaByCIA-1\">[1]</a>,\n",
              " <a href=\"/wiki/China\" title=\"China\">China</a>,\n",
              " <a href=\"/wiki/Taiwan\" title=\"Taiwan\">Taiwan</a>,\n",
              " <a href=\"/wiki/Hong_Kong\" title=\"Hong Kong\">Hong Kong</a>,\n",
              " <a href=\"/wiki/Macau\" title=\"Macau\">Macau</a>,\n",
              " <a href=\"/wiki/India\" title=\"India\">India</a>,\n",
              " <a href=\"/wiki/Kazakhstan\" title=\"Kazakhstan\">Kazakhstan</a>,\n",
              " <a href=\"/wiki/Saudi_Arabia\" title=\"Saudi Arabia\">Saudi Arabia</a>,\n",
              " <a href=\"/wiki/Iran\" title=\"Iran\">Iran</a>,\n",
              " <a href=\"/wiki/Mongolia\" title=\"Mongolia\">Mongolia</a>,\n",
              " <a href=\"/wiki/Indonesia\" title=\"Indonesia\">Indonesia</a>,\n",
              " <a href=\"/wiki/Western_New_Guinea\" title=\"Western New Guinea\">Indonesian Papua</a>,\n",
              " <a href=\"/wiki/Oceania\" title=\"Oceania\">Oceania</a>,\n",
              " <a href=\"/wiki/Pakistan\" title=\"Pakistan\">Pakistan</a>,\n",
              " <a href=\"/wiki/Turkey\" title=\"Turkey\">Turkey</a>,\n",
              " <a href=\"/wiki/East_Thrace\" title=\"East Thrace\">European Turkey</a>,\n",
              " <a href=\"/wiki/Myanmar\" title=\"Myanmar\">Myanmar</a>,\n",
              " <a href=\"/wiki/Afghanistan\" title=\"Afghanistan\">Afghanistan</a>,\n",
              " <a href=\"/wiki/Yemen\" title=\"Yemen\">Yemen</a>,\n",
              " <a href=\"/wiki/Thailand\" title=\"Thailand\">Thailand</a>,\n",
              " <a href=\"/wiki/Turkmenistan\" title=\"Turkmenistan\">Turkmenistan</a>,\n",
              " <a href=\"/wiki/Uzbekistan\" title=\"Uzbekistan\">Uzbekistan</a>,\n",
              " <a href=\"/wiki/Iraq\" title=\"Iraq\">Iraq</a>,\n",
              " <a href=\"/wiki/Japan\" title=\"Japan\">Japan</a>,\n",
              " <a href=\"/wiki/Vietnam\" title=\"Vietnam\">Vietnam</a>,\n",
              " <a href=\"/wiki/Malaysia\" title=\"Malaysia\">Malaysia</a>,\n",
              " <a href=\"/wiki/Oman\" title=\"Oman\">Oman</a>,\n",
              " <a href=\"/wiki/Philippines\" title=\"Philippines\">Philippines</a>,\n",
              " <a href=\"/wiki/Laos\" title=\"Laos\">Laos</a>,\n",
              " <a href=\"/wiki/Kyrgyzstan\" title=\"Kyrgyzstan\">Kyrgyzstan</a>,\n",
              " <a href=\"/wiki/Syria\" title=\"Syria\">Syria</a>,\n",
              " <a href=\"/wiki/Golan_Heights\" title=\"Golan Heights\">Golan Heights</a>,\n",
              " <a href=\"/wiki/Cambodia\" title=\"Cambodia\">Cambodia</a>,\n",
              " <a href=\"/wiki/Bangladesh\" title=\"Bangladesh\">Bangladesh</a>,\n",
              " <a href=\"/wiki/Nepal\" title=\"Nepal\">Nepal</a>,\n",
              " <a href=\"/wiki/Tajikistan\" title=\"Tajikistan\">Tajikistan</a>,\n",
              " <a href=\"/wiki/North_Korea\" title=\"North Korea\">North Korea</a>,\n",
              " <a href=\"/wiki/South_Korea\" title=\"South Korea\">South Korea</a>,\n",
              " <a href=\"/wiki/Jordan\" title=\"Jordan\">Jordan</a>,\n",
              " <a href=\"/wiki/United_Arab_Emirates\" title=\"United Arab Emirates\">United Arab Emirates</a>,\n",
              " <a href=\"/wiki/Azerbaijan\" title=\"Azerbaijan\">Azerbaijan</a>,\n",
              " <a href=\"/wiki/Caucasus\" title=\"Caucasus\">Caucasus</a>,\n",
              " <a href=\"/wiki/Europe\" title=\"Europe\">Europe</a>,\n",
              " <a href=\"/wiki/Asia\" title=\"Asia\">Asia</a>,\n",
              " <a href=\"/wiki/Georgia_(country)\" title=\"Georgia (country)\">Georgia</a>,\n",
              " <a href=\"/wiki/Caucasus\" title=\"Caucasus\">Caucasus</a>,\n",
              " <a href=\"/wiki/Europe\" title=\"Europe\">Europe</a>,\n",
              " <a href=\"/wiki/Asia\" title=\"Asia\">Asia</a>,\n",
              " <a href=\"/wiki/Sri_Lanka\" title=\"Sri Lanka\">Sri Lanka</a>,\n",
              " <a href=\"/wiki/Egypt\" title=\"Egypt\">Egypt</a>,\n",
              " <a href=\"/wiki/Bhutan\" title=\"Bhutan\">Bhutan</a>,\n",
              " <a href=\"/wiki/Taiwan\" title=\"Taiwan\">Taiwan</a>,\n",
              " <a href=\"/wiki/Free_area_of_the_Republic_of_China\" title=\"Free area of the Republic of China\">free area of the Republic of China</a>,\n",
              " <a href=\"/wiki/Armenia\" title=\"Armenia\">Armenia</a>,\n",
              " <a href=\"/wiki/Armenian_highlands\" title=\"Armenian highlands\">Armenian highlands</a>,\n",
              " <a href=\"/wiki/Caucasus\" title=\"Caucasus\">Caucasus</a>,\n",
              " <a href=\"/wiki/Europe\" title=\"Europe\">Europe</a>,\n",
              " <a href=\"/wiki/Asia\" title=\"Asia\">Asia</a>,\n",
              " <a href=\"/wiki/Israel\" title=\"Israel\">Israel</a>,\n",
              " <a href=\"/wiki/West_Bank\" title=\"West Bank\">West Bank</a>,\n",
              " <a href=\"/wiki/Gaza_Strip\" title=\"Gaza Strip\">Gaza Strip</a>,\n",
              " <a href=\"/wiki/Golan_Heights\" title=\"Golan Heights\">Golan Heights</a>,\n",
              " <a href=\"/wiki/Kuwait\" title=\"Kuwait\">Kuwait</a>,\n",
              " <a href=\"/wiki/East_Timor\" title=\"East Timor\">Timor-Leste</a>,\n",
              " <a href=\"/wiki/Qatar\" title=\"Qatar\">Qatar</a>,\n",
              " <a href=\"/wiki/Lebanon\" title=\"Lebanon\">Lebanon</a>,\n",
              " <a href=\"/wiki/Cyprus\" title=\"Cyprus\">Cyprus</a>,\n",
              " <a href=\"/wiki/Northern_Cyprus\" title=\"Northern Cyprus\">Northern Cyprus</a>,\n",
              " <a href=\"/wiki/State_of_Palestine\" title=\"State of Palestine\">Palestine</a>,\n",
              " <a href=\"/wiki/West_Bank\" title=\"West Bank\">West Bank</a>,\n",
              " <a href=\"/wiki/Gaza_Strip\" title=\"Gaza Strip\">Gaza Strip</a>,\n",
              " <a href=\"/wiki/Brunei\" title=\"Brunei\">Brunei</a>,\n",
              " <a href=\"/wiki/Bahrain\" title=\"Bahrain\">Bahrain</a>,\n",
              " <a href=\"/wiki/Singapore\" title=\"Singapore\">Singapore</a>,\n",
              " <a href=\"/wiki/Maldives\" title=\"Maldives\">Maldives</a>]"
            ]
          },
          "execution_count": 106,
          "metadata": {},
          "output_type": "execute_result"
        }
      ],
      "source": [
        "links = My_table.findAll('a')\n",
        "links"
      ]
    },
    {
      "cell_type": "code",
      "execution_count": null,
      "metadata": {
        "id": "m7n_vzVClthW"
      },
      "outputs": [],
      "source": [
        "country = [\n",
        "        link.get('title')\n",
        "        for link in links\n",
        "        if link.get('title') != None\n",
        "        ]"
      ]
    },
    {
      "cell_type": "code",
      "execution_count": null,
      "metadata": {
        "colab": {
          "base_uri": "https://localhost:8080/"
        },
        "id": "iRTNH6y_JAOy",
        "outputId": "f6f604ee-acf3-45d4-b8de-9328a5a046df"
      },
      "outputs": [
        {
          "data": {
            "text/plain": [
              "['Russia',\n",
              " 'European Russia',\n",
              " 'China',\n",
              " 'Taiwan',\n",
              " 'Hong Kong',\n",
              " 'Macau',\n",
              " 'India',\n",
              " 'Kazakhstan',\n",
              " 'Saudi Arabia',\n",
              " 'Iran',\n",
              " 'Mongolia',\n",
              " 'Indonesia',\n",
              " 'Western New Guinea',\n",
              " 'Oceania',\n",
              " 'Pakistan',\n",
              " 'Turkey',\n",
              " 'East Thrace',\n",
              " 'Myanmar',\n",
              " 'Afghanistan',\n",
              " 'Yemen',\n",
              " 'Thailand',\n",
              " 'Turkmenistan',\n",
              " 'Uzbekistan',\n",
              " 'Iraq',\n",
              " 'Japan',\n",
              " 'Vietnam',\n",
              " 'Malaysia',\n",
              " 'Oman',\n",
              " 'Philippines',\n",
              " 'Laos',\n",
              " 'Kyrgyzstan',\n",
              " 'Syria',\n",
              " 'Golan Heights',\n",
              " 'Cambodia',\n",
              " 'Bangladesh',\n",
              " 'Nepal',\n",
              " 'Tajikistan',\n",
              " 'North Korea',\n",
              " 'South Korea',\n",
              " 'Jordan',\n",
              " 'United Arab Emirates',\n",
              " 'Azerbaijan',\n",
              " 'Caucasus',\n",
              " 'Europe',\n",
              " 'Asia',\n",
              " 'Georgia (country)',\n",
              " 'Caucasus',\n",
              " 'Europe',\n",
              " 'Asia',\n",
              " 'Sri Lanka',\n",
              " 'Egypt',\n",
              " 'Bhutan',\n",
              " 'Taiwan',\n",
              " 'Free area of the Republic of China',\n",
              " 'Armenia',\n",
              " 'Armenian highlands',\n",
              " 'Caucasus',\n",
              " 'Europe',\n",
              " 'Asia',\n",
              " 'Israel',\n",
              " 'West Bank',\n",
              " 'Gaza Strip',\n",
              " 'Golan Heights',\n",
              " 'Kuwait',\n",
              " 'East Timor',\n",
              " 'Qatar',\n",
              " 'Lebanon',\n",
              " 'Cyprus',\n",
              " 'Northern Cyprus',\n",
              " 'State of Palestine',\n",
              " 'West Bank',\n",
              " 'Gaza Strip',\n",
              " 'Brunei',\n",
              " 'Bahrain',\n",
              " 'Singapore',\n",
              " 'Maldives']"
            ]
          },
          "execution_count": 108,
          "metadata": {},
          "output_type": "execute_result"
        }
      ],
      "source": [
        "country"
      ]
    },
    {
      "cell_type": "code",
      "execution_count": null,
      "metadata": {
        "id": "sn8E6Dc4shNy"
      },
      "outputs": [],
      "source": [
        "country=[]\n",
        "for link in links:\n",
        "  if link.get(\"title\") != None:\n",
        "    country.append(link.get(\"title\"))\n",
        "\n",
        "country"
      ]
    },
    {
      "cell_type": "code",
      "execution_count": null,
      "metadata": {
        "colab": {
          "base_uri": "https://localhost:8080/",
          "height": 424
        },
        "id": "5QaTp8NcmdGZ",
        "outputId": "0e67bc90-f0e1-473b-8a8d-0e0a31251da8"
      },
      "outputs": [
        {
          "data": {
            "text/html": [
              "\n",
              "  <div id=\"df-8bfd53f8-122e-40ed-bb23-2a62cb80a18b\">\n",
              "    <div class=\"colab-df-container\">\n",
              "      <div>\n",
              "<style scoped>\n",
              "    .dataframe tbody tr th:only-of-type {\n",
              "        vertical-align: middle;\n",
              "    }\n",
              "\n",
              "    .dataframe tbody tr th {\n",
              "        vertical-align: top;\n",
              "    }\n",
              "\n",
              "    .dataframe thead th {\n",
              "        text-align: right;\n",
              "    }\n",
              "</style>\n",
              "<table border=\"1\" class=\"dataframe\">\n",
              "  <thead>\n",
              "    <tr style=\"text-align: right;\">\n",
              "      <th></th>\n",
              "      <th>Country</th>\n",
              "    </tr>\n",
              "  </thead>\n",
              "  <tbody>\n",
              "    <tr>\n",
              "      <th>0</th>\n",
              "      <td>Russia</td>\n",
              "    </tr>\n",
              "    <tr>\n",
              "      <th>1</th>\n",
              "      <td>European Russia</td>\n",
              "    </tr>\n",
              "    <tr>\n",
              "      <th>2</th>\n",
              "      <td>China</td>\n",
              "    </tr>\n",
              "    <tr>\n",
              "      <th>3</th>\n",
              "      <td>Taiwan</td>\n",
              "    </tr>\n",
              "    <tr>\n",
              "      <th>4</th>\n",
              "      <td>Hong Kong</td>\n",
              "    </tr>\n",
              "    <tr>\n",
              "      <th>...</th>\n",
              "      <td>...</td>\n",
              "    </tr>\n",
              "    <tr>\n",
              "      <th>71</th>\n",
              "      <td>Gaza Strip</td>\n",
              "    </tr>\n",
              "    <tr>\n",
              "      <th>72</th>\n",
              "      <td>Brunei</td>\n",
              "    </tr>\n",
              "    <tr>\n",
              "      <th>73</th>\n",
              "      <td>Bahrain</td>\n",
              "    </tr>\n",
              "    <tr>\n",
              "      <th>74</th>\n",
              "      <td>Singapore</td>\n",
              "    </tr>\n",
              "    <tr>\n",
              "      <th>75</th>\n",
              "      <td>Maldives</td>\n",
              "    </tr>\n",
              "  </tbody>\n",
              "</table>\n",
              "<p>76 rows × 1 columns</p>\n",
              "</div>\n",
              "      <button class=\"colab-df-convert\" onclick=\"convertToInteractive('df-8bfd53f8-122e-40ed-bb23-2a62cb80a18b')\"\n",
              "              title=\"Convert this dataframe to an interactive table.\"\n",
              "              style=\"display:none;\">\n",
              "        \n",
              "  <svg xmlns=\"http://www.w3.org/2000/svg\" height=\"24px\"viewBox=\"0 0 24 24\"\n",
              "       width=\"24px\">\n",
              "    <path d=\"M0 0h24v24H0V0z\" fill=\"none\"/>\n",
              "    <path d=\"M18.56 5.44l.94 2.06.94-2.06 2.06-.94-2.06-.94-.94-2.06-.94 2.06-2.06.94zm-11 1L8.5 8.5l.94-2.06 2.06-.94-2.06-.94L8.5 2.5l-.94 2.06-2.06.94zm10 10l.94 2.06.94-2.06 2.06-.94-2.06-.94-.94-2.06-.94 2.06-2.06.94z\"/><path d=\"M17.41 7.96l-1.37-1.37c-.4-.4-.92-.59-1.43-.59-.52 0-1.04.2-1.43.59L10.3 9.45l-7.72 7.72c-.78.78-.78 2.05 0 2.83L4 21.41c.39.39.9.59 1.41.59.51 0 1.02-.2 1.41-.59l7.78-7.78 2.81-2.81c.8-.78.8-2.07 0-2.86zM5.41 20L4 18.59l7.72-7.72 1.47 1.35L5.41 20z\"/>\n",
              "  </svg>\n",
              "      </button>\n",
              "      \n",
              "  <style>\n",
              "    .colab-df-container {\n",
              "      display:flex;\n",
              "      flex-wrap:wrap;\n",
              "      gap: 12px;\n",
              "    }\n",
              "\n",
              "    .colab-df-convert {\n",
              "      background-color: #E8F0FE;\n",
              "      border: none;\n",
              "      border-radius: 50%;\n",
              "      cursor: pointer;\n",
              "      display: none;\n",
              "      fill: #1967D2;\n",
              "      height: 32px;\n",
              "      padding: 0 0 0 0;\n",
              "      width: 32px;\n",
              "    }\n",
              "\n",
              "    .colab-df-convert:hover {\n",
              "      background-color: #E2EBFA;\n",
              "      box-shadow: 0px 1px 2px rgba(60, 64, 67, 0.3), 0px 1px 3px 1px rgba(60, 64, 67, 0.15);\n",
              "      fill: #174EA6;\n",
              "    }\n",
              "\n",
              "    [theme=dark] .colab-df-convert {\n",
              "      background-color: #3B4455;\n",
              "      fill: #D2E3FC;\n",
              "    }\n",
              "\n",
              "    [theme=dark] .colab-df-convert:hover {\n",
              "      background-color: #434B5C;\n",
              "      box-shadow: 0px 1px 3px 1px rgba(0, 0, 0, 0.15);\n",
              "      filter: drop-shadow(0px 1px 2px rgba(0, 0, 0, 0.3));\n",
              "      fill: #FFFFFF;\n",
              "    }\n",
              "  </style>\n",
              "\n",
              "      <script>\n",
              "        const buttonEl =\n",
              "          document.querySelector('#df-8bfd53f8-122e-40ed-bb23-2a62cb80a18b button.colab-df-convert');\n",
              "        buttonEl.style.display =\n",
              "          google.colab.kernel.accessAllowed ? 'block' : 'none';\n",
              "\n",
              "        async function convertToInteractive(key) {\n",
              "          const element = document.querySelector('#df-8bfd53f8-122e-40ed-bb23-2a62cb80a18b');\n",
              "          const dataTable =\n",
              "            await google.colab.kernel.invokeFunction('convertToInteractive',\n",
              "                                                     [key], {});\n",
              "          if (!dataTable) return;\n",
              "\n",
              "          const docLinkHtml = 'Like what you see? Visit the ' +\n",
              "            '<a target=\"_blank\" href=https://colab.research.google.com/notebooks/data_table.ipynb>data table notebook</a>'\n",
              "            + ' to learn more about interactive tables.';\n",
              "          element.innerHTML = '';\n",
              "          dataTable['output_type'] = 'display_data';\n",
              "          await google.colab.output.renderOutput(dataTable, element);\n",
              "          const docLink = document.createElement('div');\n",
              "          docLink.innerHTML = docLinkHtml;\n",
              "          element.appendChild(docLink);\n",
              "        }\n",
              "      </script>\n",
              "    </div>\n",
              "  </div>\n",
              "  "
            ],
            "text/plain": [
              "            Country\n",
              "0            Russia\n",
              "1   European Russia\n",
              "2             China\n",
              "3            Taiwan\n",
              "4         Hong Kong\n",
              "..              ...\n",
              "71       Gaza Strip\n",
              "72           Brunei\n",
              "73          Bahrain\n",
              "74        Singapore\n",
              "75         Maldives\n",
              "\n",
              "[76 rows x 1 columns]"
            ]
          },
          "execution_count": 110,
          "metadata": {},
          "output_type": "execute_result"
        }
      ],
      "source": [
        "import pandas as pd\n",
        "\n",
        "df = pd.DataFrame()\n",
        "df['Country'] = country\n",
        "df"
      ]
    },
    {
      "cell_type": "code",
      "execution_count": null,
      "metadata": {
        "colab": {
          "base_uri": "https://localhost:8080/",
          "height": 424
        },
        "id": "0Hdt3qwunW_g",
        "outputId": "7b03611f-af9e-44b3-d22e-3c29b09eb60e"
      },
      "outputs": [
        {
          "data": {
            "text/html": [
              "\n",
              "  <div id=\"df-7bab6723-9aa6-474a-a09f-367428d8a2c5\">\n",
              "    <div class=\"colab-df-container\">\n",
              "      <div>\n",
              "<style scoped>\n",
              "    .dataframe tbody tr th:only-of-type {\n",
              "        vertical-align: middle;\n",
              "    }\n",
              "\n",
              "    .dataframe tbody tr th {\n",
              "        vertical-align: top;\n",
              "    }\n",
              "\n",
              "    .dataframe thead th {\n",
              "        text-align: right;\n",
              "    }\n",
              "</style>\n",
              "<table border=\"1\" class=\"dataframe\">\n",
              "  <thead>\n",
              "    <tr style=\"text-align: right;\">\n",
              "      <th></th>\n",
              "      <th>Country</th>\n",
              "    </tr>\n",
              "  </thead>\n",
              "  <tbody>\n",
              "    <tr>\n",
              "      <th>0</th>\n",
              "      <td>Afghanistan</td>\n",
              "    </tr>\n",
              "    <tr>\n",
              "      <th>1</th>\n",
              "      <td>Armenia</td>\n",
              "    </tr>\n",
              "    <tr>\n",
              "      <th>2</th>\n",
              "      <td>Armenian highlands</td>\n",
              "    </tr>\n",
              "    <tr>\n",
              "      <th>3</th>\n",
              "      <td>Asia</td>\n",
              "    </tr>\n",
              "    <tr>\n",
              "      <th>4</th>\n",
              "      <td>Asia</td>\n",
              "    </tr>\n",
              "    <tr>\n",
              "      <th>...</th>\n",
              "      <td>...</td>\n",
              "    </tr>\n",
              "    <tr>\n",
              "      <th>71</th>\n",
              "      <td>Vietnam</td>\n",
              "    </tr>\n",
              "    <tr>\n",
              "      <th>72</th>\n",
              "      <td>West Bank</td>\n",
              "    </tr>\n",
              "    <tr>\n",
              "      <th>73</th>\n",
              "      <td>West Bank</td>\n",
              "    </tr>\n",
              "    <tr>\n",
              "      <th>74</th>\n",
              "      <td>Western New Guinea</td>\n",
              "    </tr>\n",
              "    <tr>\n",
              "      <th>75</th>\n",
              "      <td>Yemen</td>\n",
              "    </tr>\n",
              "  </tbody>\n",
              "</table>\n",
              "<p>76 rows × 1 columns</p>\n",
              "</div>\n",
              "      <button class=\"colab-df-convert\" onclick=\"convertToInteractive('df-7bab6723-9aa6-474a-a09f-367428d8a2c5')\"\n",
              "              title=\"Convert this dataframe to an interactive table.\"\n",
              "              style=\"display:none;\">\n",
              "        \n",
              "  <svg xmlns=\"http://www.w3.org/2000/svg\" height=\"24px\"viewBox=\"0 0 24 24\"\n",
              "       width=\"24px\">\n",
              "    <path d=\"M0 0h24v24H0V0z\" fill=\"none\"/>\n",
              "    <path d=\"M18.56 5.44l.94 2.06.94-2.06 2.06-.94-2.06-.94-.94-2.06-.94 2.06-2.06.94zm-11 1L8.5 8.5l.94-2.06 2.06-.94-2.06-.94L8.5 2.5l-.94 2.06-2.06.94zm10 10l.94 2.06.94-2.06 2.06-.94-2.06-.94-.94-2.06-.94 2.06-2.06.94z\"/><path d=\"M17.41 7.96l-1.37-1.37c-.4-.4-.92-.59-1.43-.59-.52 0-1.04.2-1.43.59L10.3 9.45l-7.72 7.72c-.78.78-.78 2.05 0 2.83L4 21.41c.39.39.9.59 1.41.59.51 0 1.02-.2 1.41-.59l7.78-7.78 2.81-2.81c.8-.78.8-2.07 0-2.86zM5.41 20L4 18.59l7.72-7.72 1.47 1.35L5.41 20z\"/>\n",
              "  </svg>\n",
              "      </button>\n",
              "      \n",
              "  <style>\n",
              "    .colab-df-container {\n",
              "      display:flex;\n",
              "      flex-wrap:wrap;\n",
              "      gap: 12px;\n",
              "    }\n",
              "\n",
              "    .colab-df-convert {\n",
              "      background-color: #E8F0FE;\n",
              "      border: none;\n",
              "      border-radius: 50%;\n",
              "      cursor: pointer;\n",
              "      display: none;\n",
              "      fill: #1967D2;\n",
              "      height: 32px;\n",
              "      padding: 0 0 0 0;\n",
              "      width: 32px;\n",
              "    }\n",
              "\n",
              "    .colab-df-convert:hover {\n",
              "      background-color: #E2EBFA;\n",
              "      box-shadow: 0px 1px 2px rgba(60, 64, 67, 0.3), 0px 1px 3px 1px rgba(60, 64, 67, 0.15);\n",
              "      fill: #174EA6;\n",
              "    }\n",
              "\n",
              "    [theme=dark] .colab-df-convert {\n",
              "      background-color: #3B4455;\n",
              "      fill: #D2E3FC;\n",
              "    }\n",
              "\n",
              "    [theme=dark] .colab-df-convert:hover {\n",
              "      background-color: #434B5C;\n",
              "      box-shadow: 0px 1px 3px 1px rgba(0, 0, 0, 0.15);\n",
              "      filter: drop-shadow(0px 1px 2px rgba(0, 0, 0, 0.3));\n",
              "      fill: #FFFFFF;\n",
              "    }\n",
              "  </style>\n",
              "\n",
              "      <script>\n",
              "        const buttonEl =\n",
              "          document.querySelector('#df-7bab6723-9aa6-474a-a09f-367428d8a2c5 button.colab-df-convert');\n",
              "        buttonEl.style.display =\n",
              "          google.colab.kernel.accessAllowed ? 'block' : 'none';\n",
              "\n",
              "        async function convertToInteractive(key) {\n",
              "          const element = document.querySelector('#df-7bab6723-9aa6-474a-a09f-367428d8a2c5');\n",
              "          const dataTable =\n",
              "            await google.colab.kernel.invokeFunction('convertToInteractive',\n",
              "                                                     [key], {});\n",
              "          if (!dataTable) return;\n",
              "\n",
              "          const docLinkHtml = 'Like what you see? Visit the ' +\n",
              "            '<a target=\"_blank\" href=https://colab.research.google.com/notebooks/data_table.ipynb>data table notebook</a>'\n",
              "            + ' to learn more about interactive tables.';\n",
              "          element.innerHTML = '';\n",
              "          dataTable['output_type'] = 'display_data';\n",
              "          await google.colab.output.renderOutput(dataTable, element);\n",
              "          const docLink = document.createElement('div');\n",
              "          docLink.innerHTML = docLinkHtml;\n",
              "          element.appendChild(docLink);\n",
              "        }\n",
              "      </script>\n",
              "    </div>\n",
              "  </div>\n",
              "  "
            ],
            "text/plain": [
              "               Country\n",
              "0          Afghanistan\n",
              "1              Armenia\n",
              "2   Armenian highlands\n",
              "3                 Asia\n",
              "4                 Asia\n",
              "..                 ...\n",
              "71             Vietnam\n",
              "72           West Bank\n",
              "73           West Bank\n",
              "74  Western New Guinea\n",
              "75               Yemen\n",
              "\n",
              "[76 rows x 1 columns]"
            ]
          },
          "execution_count": 111,
          "metadata": {},
          "output_type": "execute_result"
        }
      ],
      "source": [
        "df = df.sort_values(by=\"Country\").reset_index(drop = True)\n",
        "df"
      ]
    },
    {
      "cell_type": "markdown",
      "metadata": {
        "id": "vnv7fzVMaPCz"
      },
      "source": [
        "# 練習"
      ]
    },
    {
      "cell_type": "markdown",
      "metadata": {
        "id": "Ta5rh-Up1vQe"
      },
      "source": [
        "##  練習1"
      ]
    },
    {
      "cell_type": "markdown",
      "metadata": {
        "id": "E76LBd6BaSRE"
      },
      "source": [
        "- 試著看懂並執行、拆解以下程式\n",
        "- 程式來源https://github.com/jwlin/web-crawler-tutorial/blob/master/ch3/ptt_gossiping.py"
      ]
    },
    {
      "cell_type": "code",
      "execution_count": null,
      "metadata": {
        "colab": {
          "base_uri": "https://localhost:8080/"
        },
        "id": "8HJHhY5qaJtf",
        "outputId": "5ba853e9-78bb-4b62-9238-8ab64662fce4"
      },
      "outputs": [
        {
          "name": "stdout",
          "output_type": "stream",
          "text": [
            "今天有531篇文章\n",
            "熱門文章(>50推):\n",
            "{'title': '[新聞] 北市動物園含淚放手 大貓熊「團團」心跳1', 'href': '/bbs/Gossiping/M.1668838683.A.2B2.html', 'push_count': 98, 'author': ''}\n",
            "{'title': '[新聞] 快訊／「向團團珍重再見」\\u3000柯文哲悼：', 'href': '/bbs/Gossiping/M.1668838392.A.C36.html', 'push_count': 71, 'author': ''}\n",
            "{'title': '[新聞] 快訊／高雄市區又無預警停電\\u3000877戶傳災情...台電緊急搶修中', 'href': '/bbs/Gossiping/M.1668836369.A.C06.html', 'push_count': 79, 'author': ''}\n",
            "{'title': '[新聞] 快訊／大貓熊團團驚傳逝世！\\u3000醫療團隊沉', 'href': '/bbs/Gossiping/M.1668835302.A.A0D.html', 'push_count': 99, 'author': ''}\n",
            "{'title': '[新聞] 高虹安扯「死亡之握」惹怒藍營 馬英九：', 'href': '/bbs/Gossiping/M.1668835304.A.535.html', 'push_count': 80, 'author': ''}\n",
            "{'title': '[新聞] 快訊／大貓熊團團驚傳逝世！\\u3000醫療團隊沉', 'href': '/bbs/Gossiping/M.1668835423.A.951.html', 'push_count': 99, 'author': ''}\n",
            "{'title': '[爆卦] 疑似烏克蘭軍人稱陣亡台灣人為狗', 'href': '/bbs/Gossiping/M.1668834804.A.B46.html', 'push_count': 99, 'author': ''}\n",
            "{'title': '[新聞] 回應高虹安「死亡之握」 馬英九：事情已經解決 她道歉了', 'href': '/bbs/Gossiping/M.1668833633.A.E04.html', 'push_count': 99, 'author': ''}\n",
            "{'title': '[問卦] Howard今晚收視率會不會比金馬獎還高啊？', 'href': '/bbs/Gossiping/M.1668832574.A.45B.html', 'push_count': 70, 'author': ''}\n",
            "{'title': '[問卦] 魔獸Dwight Howard台灣首場數據?(1000P)', 'href': '/bbs/Gossiping/M.1668830917.A.917.html', 'push_count': 99, 'author': ''}\n",
            "{'title': '[新聞] 88會館屢遭檢舉「通通查無不法」 吹哨者', 'href': '/bbs/Gossiping/M.1668830176.A.76D.html', 'push_count': 99, 'author': ''}\n",
            "{'title': '[新聞] 高虹安調侃「死亡之握」 藍營炸鍋', 'href': '/bbs/Gossiping/M.1668828161.A.A0E.html', 'push_count': 99, 'author': ''}\n",
            "{'title': '[新聞] 托福考不過...富二代赴美「洗學歷」\\u30007年', 'href': '/bbs/Gossiping/M.1668826532.A.161.html', 'push_count': 99, 'author': ''}\n",
            "{'title': '[問卦] 林聰明砂鍋魚頭好吃嗎', 'href': '/bbs/Gossiping/M.1668826792.A.CE2.html', 'push_count': 86, 'author': ''}\n",
            "{'title': '[新聞] 陳時中擋掮客財路飆仇恨值？\\u3000黃珊珊酸', 'href': '/bbs/Gossiping/M.1668827304.A.470.html', 'push_count': 58, 'author': ''}\n",
            "{'title': 'Re: [新聞] 為了高虹安「梭哈全黨」？柯文哲：國家', 'href': '/bbs/Gossiping/M.1668825879.A.D78.html', 'push_count': 99, 'author': ''}\n",
            "{'title': '[問卦] 恩恩爸11/25一晚 一跪 機率高不高阿?', 'href': '/bbs/Gossiping/M.1668826074.A.925.html', 'push_count': 71, 'author': ''}\n",
            "{'title': '[新聞] 對蔡英文這舉動不可置信！他直呼恐創歷史', 'href': '/bbs/Gossiping/M.1668824738.A.0BB.html', 'push_count': 99, 'author': ''}\n",
            "{'title': '[新聞] 為了高虹安「梭哈全黨」？柯文哲：國家', 'href': '/bbs/Gossiping/M.1668824843.A.A55.html', 'push_count': 73, 'author': ''}\n",
            "{'title': '[新聞] 柯宇綸被說「塔綠班」怒告網友\\u3000法官判', 'href': '/bbs/Gossiping/M.1668822576.A.5C4.html', 'push_count': 99, 'author': ''}\n",
            "{'title': 'Re: [新聞] 陳時中挨批「謀財害命」 鄭弘儀反嗆對手', 'href': '/bbs/Gossiping/M.1668823130.A.AB0.html', 'push_count': 68, 'author': ''}\n",
            "{'title': '[新聞] 蔡壁如：高虹安前助理 轉綠委辦公室', 'href': '/bbs/Gossiping/M.1668823742.A.6CC.html', 'push_count': 99, 'author': ''}\n",
            "{'title': '[新聞] 抓到了！送999元「林聰明沙鍋魚頭」500', 'href': '/bbs/Gossiping/M.1668820396.A.453.html', 'push_count': 99, 'author': ''}\n",
            "{'title': '[問卦] 台中火力發電廠也太大@@', 'href': '/bbs/Gossiping/M.1668818153.A.BD6.html', 'push_count': 73, 'author': ''}\n",
            "{'title': 'Re: [新聞] 陳時中遭爆選前急售高雄亞灣第一豪宅「', 'href': '/bbs/Gossiping/M.1668818262.A.8B4.html', 'push_count': 84, 'author': ''}\n",
            "{'title': '[新聞] 「他」成首位法院認證塔綠班？！媒體人', 'href': '/bbs/Gossiping/M.1668816271.A.BA6.html', 'push_count': 99, 'author': ''}\n",
            "{'title': '[新聞] 「金正恩女兒」首度曝光！緊牽爸視察導彈', 'href': '/bbs/Gossiping/M.1668817471.A.C62.html', 'push_count': 99, 'author': ''}\n",
            "{'title': '[新聞] 高虹安助理費「吹哨者」曾有前科？他：這', 'href': '/bbs/Gossiping/M.1668812352.A.81B.html', 'push_count': 99, 'author': ''}\n",
            "{'title': 'Re: [新聞] 陳時中挨批「謀財害命」 鄭弘儀反嗆對手', 'href': '/bbs/Gossiping/M.1668815234.A.ED4.html', 'push_count': 99, 'author': ''}\n",
            "{'title': '[新聞] 柯文哲評王世堅在民進黨「不久了」 入白', 'href': '/bbs/Gossiping/M.1668809689.A.1D1.html', 'push_count': 99, 'author': ''}\n",
            "{'title': '[新聞] 追討債務未果 體重破百公斤女子氣憤壓死債務人', 'href': '/bbs/Gossiping/M.1668812284.A.E9D.html', 'push_count': 99, 'author': ''}\n",
            "{'title': 'Re: [新聞] 陳時中挨批「謀財害命」 鄭弘儀反嗆', 'href': '/bbs/Gossiping/M.1668801382.A.169.html', 'push_count': 99, 'author': ''}\n",
            "{'title': '[爆卦] 發現7-11店員偷藏i珍時食品', 'href': '/bbs/Gossiping/M.1668796394.A.68A.html', 'push_count': 99, 'author': ''}\n",
            "{'title': '[新聞] 被網友指為「塔綠班」 柯宇綸提告結果出', 'href': '/bbs/Gossiping/M.1668791763.A.756.html', 'push_count': 99, 'author': ''}\n",
            "{'title': 'Re: [問卦] 館長誰來Talk館  今天怎麼沒人看....?', 'href': '/bbs/Gossiping/M.1668788563.A.7D3.html', 'push_count': 55, 'author': ''}\n",
            "{'title': '[爆卦] 徐定禎政見會 能選舉投票很不錯了', 'href': '/bbs/Gossiping/M.1668787841.A.504.html', 'push_count': 99, 'author': ''}\n"
          ]
        }
      ],
      "source": [
        "import requests\n",
        "import time\n",
        "import json\n",
        "from bs4 import BeautifulSoup\n",
        "\n",
        "\n",
        "PTT_URL = 'https://www.ptt.cc'\n",
        "\n",
        "\n",
        "def get_web_page(url):\n",
        "  resp = requests.get(\n",
        "    url=url,\n",
        "    cookies={'over18': '1'}\n",
        "  )\n",
        "  if resp.status_code != 200:\n",
        "    print(f'Invalid url: {resp.url}')\n",
        "    return None\n",
        "  else:\n",
        "    return resp.text\n",
        "\n",
        "\n",
        "def get_articles(dom, date):\n",
        "  soup = BeautifulSoup(dom, 'html5lib')\n",
        "\n",
        "  # 取得上一頁的連結\n",
        "  paging_div = soup.find('div', 'btn-group btn-group-paging')\n",
        "  prev_url = paging_div.find_all('a')[1]['href']\n",
        "\n",
        "  articles = []  # 儲存取得的文章資料\n",
        "  divs = soup.find_all('div', 'r-ent')\n",
        "  for d in divs:\n",
        "    if d.find('div', 'date').text.strip() == date:  # 發文日期正確\n",
        "      # 取得推文數\n",
        "      push_count = 0\n",
        "      push_str = d.find('div', 'nrec').text\n",
        "      if push_str:\n",
        "        try:\n",
        "          push_count = int(push_str)  # 轉換字串為數字\n",
        "        except ValueError:\n",
        "          # 若轉換失敗，可能是'爆'或 'X1', 'X2', ...\n",
        "          # 若不是, 不做任何事，push_count 保持為 0\n",
        "          if push_str == '爆':\n",
        "            push_count = 99\n",
        "          elif push_str.startswith('X'):\n",
        "            push_count = -10\n",
        "\n",
        "        # 取得文章連結及標題\n",
        "        if d.find('a'):  # 有超連結，表示文章存在，未被刪除\n",
        "          href = d.find('a')['href']\n",
        "          title = d.find('a').text\n",
        "          author = ''  # author = d.find('div', 'author').text if d.find('div', 'author') else ''\n",
        "          articles.append({\n",
        "            'title': title,\n",
        "            'href': href,\n",
        "            'push_count': push_count,\n",
        "            'author': author\n",
        "          })\n",
        "          # [ {'title': __, 'href:__'}, ]\n",
        "  return articles, prev_url\n",
        "\n",
        "\n",
        "def get_author_ids(posts, pattern):\n",
        "  ids = set()\n",
        "  for post in posts:\n",
        "    if pattern in post['author']:\n",
        "      ids.add(post['author'])\n",
        "  return ids\n",
        "\n",
        "if __name__ == '__main__':\n",
        "  current_page = get_web_page(PTT_URL + '/bbs/Gossiping/index.html')\n",
        "  if current_page:\n",
        "    articles = []  # 全部的今日文章\n",
        "    today = time.strftime(\"%m/%d\").lstrip('0')  # 今天日期, 去掉開頭的 '0' 以符合 PTT 網站格式\n",
        "    current_articles, prev_url = get_articles(current_page, today)  # 目前頁面的今日文章\n",
        "    while current_articles:  # 若目前頁面有今日文章則加入 articles，並回到上一頁繼續尋找是否有今日文章\n",
        "      articles += current_articles\n",
        "      current_page = get_web_page(PTT_URL + prev_url)\n",
        "      current_articles, prev_url = get_articles(current_page, today)\n",
        "\n",
        "    # 印出所有不同的 5566 id\n",
        "    # print(get_author_ids(articles, '5566'))\n",
        "\n",
        "    # 儲存或處理文章資訊\n",
        "    print(f'今天有{len(articles)}篇文章')\n",
        "    threshold = 50\n",
        "    print(f'熱門文章(>{threshold}推):')\n",
        "    for a in articles:\n",
        "      if int(a['push_count']) > threshold:\n",
        "        print(a)\n",
        "    with open('gossiping.json', 'w', encoding='utf-8') as f:\n",
        "      json.dump(articles, f, indent=2, sort_keys=True, ensure_ascii=False)"
      ]
    },
    {
      "cell_type": "markdown",
      "metadata": {
        "id": "wyXAXDIN1MBI"
      },
      "source": [
        "## 練習2"
      ]
    },
    {
      "cell_type": "markdown",
      "metadata": {
        "id": "l9CxzWKIcqEZ"
      },
      "source": [
        "- 試著看懂並執行、拆解以下程式\n",
        "- 程式來源https://github.com/jwlin/web-crawler-tutorial/blob/master/ch3/yahoo_movie.py"
      ]
    },
    {
      "cell_type": "code",
      "execution_count": null,
      "metadata": {
        "colab": {
          "base_uri": "https://localhost:8080/"
        },
        "id": "mq4Xi5X-cc9A",
        "outputId": "b8fca313-23ff-4d14-aeed-1addac0f1277"
      },
      "outputs": [
        {
          "name": "stdout",
          "output_type": "stream",
          "text": [
            "{'expectation': '100%', 'ch_name': '2022 TEFF歐洲影展', 'eng_name': 'Taiwan European Film Festival', 'movie_id': '14318', 'poster_url': None, 'release_date': '2022-11-17', 'intro': '一、關於影展\\t\\nTEFF歐洲影展（Taiwan European Film Festival）自2005年起，於全台各地播放歐洲電影並提供觀眾免費入場觀看，希望台灣民眾藉由欣賞歐洲電影的過程中，認識歐洲國家的文化、藝術、和語言的多樣性，目前總觀影人次已超過 180,000 名。 \\n\\n2022年第18屆台灣歐洲影展由歐洲經貿辦事處主辦，外交部、文化部、台北市文化局合辦，與歐盟駐台各代表處協辦，邀請17個歐洲國家個別推選出一部電影參展，於2022年11月17日至2023年01月31日期間，在全台各地藝文空間、表演空間、戲院、大專院校等超過20個場地隆重巡迴放映。 \\n\\n今年影展片單，由歐盟駐台代表高哲夫(Filip Grzegorzeski)處長領軍選片，各歐盟國駐台代表，也由該國選一部最能代表該國的影片，總集成17國、17部影片，可謂是年度歐洲電影一時之選。也透過各歐盟成員國的選片觀點，呈現當下歐洲電影現況。\\n\\n 綜觀今年17部電影中，有9部是移民、難民議題電影，反映現今歐洲面臨的嚴正課題。另外8部，有溫馨的親情、懸疑的苦戀、清新的愛情、懵懂的青春、與成長的記憶等等。透過影片，書寫生活日常的歐洲，也刻劃永恆情愛的人性深層命題。\\n\\n二、影展主題\\n《邊界‧無界》------ 有線的邊界，無界的愛。\\n在邊界的內外，認同與原鄉、回歸與新生，一再糾結不斷。\\n在愛的本質上，家庭與親情，男女與愛情，永遠無法割裂。\\n電影影像與故事文本，如同法國哲學家德勒茲 (Gilles Deleuze) 的空間、時間、影像的辯證關係般。無限循環，永恆回溯，在愛的框內與邊界的框外，一再去框化、再框化……。\\n\\n三、影展時間、地點\\n1、開幕日：2022年11月17日(四) 光點華山電影館\\n2、全國巡迴放映：2022年11月18日~2023年1月31日，全國各公、私立大專院校、及藝文影視展演空間。\\n\\n四、主協辦單位\\n1、主辦單位：歐洲經貿辦事處\\n2、合辦單位：外交部、文化部、台北市文化局\\n3、承辦單位：佳映娛樂\\n4、協辦單位：\\n奧地利臺北辦事處 Austrian Office, Taipei \\n比利時臺北辦事處 Belgian Office,Taipei \\n捷克經濟文化辦事處 Czech Economic and Cultural Office,Taipei \\n丹麥商務辦事處 Trade Council of Denmark, Taipei \\n芬蘭商務辦事處 Finland Trade Center in Taiwan \\n法國在臺協會 French Office in Taipei \\n德國在臺協會 German Institute in Taipei \\n匈牙利貿易辦事處 Hungarian Trade Office \\n義大利經濟貿易文化推廣辦事處 Italian Economic,Trade and Cultural Promotion Office \\n盧森堡臺北辦事處 Luxembourg Trade and Investment Office \\n荷蘭貿易暨投資辦事處 Netherlands Trade and Investment Office \\n波蘭台北辦事處 Polish Office in Taipei \\n斯洛伐克經濟文化辦事處 Slovak Economic and Cultural Office \\n西班牙商務辦事處 Spanish Chamber of Commerce \\n瑞典貿易暨投資委員會台北辦事處 Business Sweden, The Swedish Trade and Invest  Council \\n瑞士商務辦事處 Trade Office of Swiss Industries \\n英國在台辦事處 British Office \\n臺灣歐洲聯盟中心 European Union Centre in Taiwan \\n英國文化協會 British Council \\n法國文化中心 Institut Français \\n歌德學院 Goethe Institute, Taipei E España \\n西班牙教育部 Cervantes Institute \\n5、協力單位：CinemaWorld 世界電影頻道， Moleskine\\n\\n五、活動總覽\\n1、影展期間： 2022年11月18日 (五)至 2023年1月31日(二) \\n2、放映地點：全國各公、私立大專院校及藝文、影視、展演空間\\n3、放映電影：5~17部\\n4、影展主題：《邊界．無界》\\n5、活動特色：每部僅放映一次，絕無僅有的影展盛會\\n6、觀影方式：免費入場，可採預約報名及現場索票方式\\n7、放映材料：DVD為主 (或BD )', 'trailer_url': 'https://movies.yahoo.com.tw/video/2022-teff%E6%AD%90%E6%B4%B2%E5%BD%B1%E5%B1%95-%E5%BD%B1%E5%B1%95%E9%A0%90%E5%91%8A-093041883.html?movie_id=14318'}\n",
            "{'expectation': '88%', 'ch_name': '她有話要說', 'eng_name': 'She Said', 'movie_id': '13682', 'poster_url': None, 'release_date': '2022-11-18', 'intro': '二度入圍奧斯卡金像獎女演員凱莉墨里根（《花漾女子》、《名媛教育》）以及柔依卡珊（迷你影集《美國外史》、《愛情昏迷中》）分別飾演《紐約時報》女記者茱蒂坎特與梅根圖伊，她們聯手撰寫了這個世代最重要的一篇報導，進而引發#MeToo運動（#我也是反性侵運動），不但揭發了好萊塢數十年來默許的性侵真相，也永遠改變了美國文化。\\n\\n曾經以《自由之心》、《月光下的藍色男孩》、《夢想之地》、《逐夢大道》以及《愛情昏迷中》獲得奧斯卡金像獎肯定的製作團隊，加上曾以《00:30凌晨密令》及《瞞天大佈局》入圍奧斯卡獎的製片攜手製作的《她有話要說》一片，改編自《紐約時報》暢銷書《性、謊言、吹哨者》（紐約時報記者揭發好萊塢史上最大規模性騷擾案，引爆#MeToo運動的新聞內幕直擊）。\\n\\n《她有話要說》一片的導演是曾經榮獲艾美獎肯定的瑪莉亞雪德（迷你影集《出走布魯克林》），編劇則是奧斯卡金像獎得主蕾貝卡蘭克維茲（《依達的抉擇》）。\\n\\n這部電影的製片包括B計畫娛樂的奧斯卡金像獎得主布萊德彼特、蒂蒂嘉納及傑瑞米克萊納，執行製片則是安納布爾納影業曾經入圍奧斯卡金像獎的梅根艾利森及蘇奈格。', 'trailer_url': 'https://movies.yahoo.com.tw/video/%E5%A5%B9%E6%9C%89%E8%A9%B1%E8%A6%81%E8%AA%AA-%E9%A6%96%E6%94%AF%E9%A0%90%E5%91%8A-035902186.html?movie_id=13682'}\n",
            "{'expectation': '80%', 'ch_name': '書情話慾', 'eng_name': 'Deception', 'movie_id': '14049', 'poster_url': None, 'release_date': '2022-11-18', 'intro': '1987年，菲利普是一位正在倫敦流亡的知名美籍小說家，他的情婦經常到他的辦公室來與他幽會，陷入熱戀的兩人將辦公室當成感情的避難所。他們在辦公室中做愛、爭吵然後和解，並花大把時間對話——談論那些對小說家具有代表性的女人，也談論愛與不愛、性慾與激情、各自對文學作品的見解，以及如何忠於自己的慾望……\\n\\n菲利普將兩人的對話記在筆記本中，太太無意間看見他的筆記，遂開始懷疑丈夫的忠貞，但菲利普卻不斷地向太太解釋自己沒有出軌，那不過是他杜撰出來的下一本小說內容。\\n\\n《書情話慾》榮獲《巴塞隆納聖喬治國際電影節》最佳女主角與影評人協會獎，全片充滿法式的詩意與浪漫，幾可媲美法式《愛在三部曲》。電影改編自美國當代文豪菲利普羅斯的作品《欺騙》，找來《藍色是最溫暖的顏色》金棕櫚影后蕾雅瑟杜擔綱主演，並與有著「法版李國修」之譽的大師級演員《安妮詩快跑》德尼波達里戴斯，在片中大談禁忌慾戀，隨著一次次相處，兩人不只滿足靠近對方的慾望，更暢聊生活中的各種思考與議題。', 'trailer_url': 'https://movies.yahoo.com.tw/video/%E6%9B%B8%E6%83%85%E8%A9%B1%E6%85%BE-%E5%8F%B0%E7%81%A3%E7%8D%A8%E5%AE%B6%E9%A0%90%E5%91%8A-115446251.html?movie_id=14049'}\n",
            "{'expectation': '100%', 'ch_name': '劇場版 歌之☆王子殿下♪ 真愛ST☆RISH TOURS', 'eng_name': 'Utano☆Princesama Maji LOVE ST☆RISH TOURS', 'movie_id': '14068', 'poster_url': None, 'release_date': '2022-11-18', 'intro': '夢想總是由這7人開始，\\n\\n並與你攜手啟程。\\n\\n來吧！與ST☆RISH一起踏上旅程，在全世界散播愛吧！', 'trailer_url': 'https://movies.yahoo.com.tw/video/%E5%8A%87%E5%A0%B4%E7%89%88-%E6%AD%8C%E4%B9%8B-%E7%8E%8B%E5%AD%90%E6%AE%BF%E4%B8%8B-%E7%9C%9F%E6%84%9Bst-rish-075809064.html?movie_id=14068'}\n",
            "{'expectation': '100%', 'ch_name': '天才狂歡派對：首部曲', 'eng_name': 'Genius Party', 'movie_id': '14224', 'poster_url': None, 'release_date': '2022-11-18', 'intro': '★《惡童當街》、《海獸之子》、《煙囪小鎮的普佩》動畫製作公司STUDIO ★4℃集結七名當代日本動畫界鬼才，傾力打造今秋動畫經典\\n★超越NETFLIX動畫短篇集《愛x死x機器人》，十五週年首次全台大銀幕公映版完整呈現\\n★齊聚《阿基拉》《JoJo的奇妙冒險 ADVENTURE》《犬王》《星際牛仔》《劇場版 超時空要塞F~戀離飛翼~》等日本動畫界台前幕後菁英，獨特風格直擊感官，一生必看嶄新派對電影\\n\\n《GENIUS PARTY》(導演 福島敦子)\\n以靈感誕生瞬間為主題創作。空曠的荒地、不斷奔跑的鳥人，搖曳的靈感之光。難以捉摸的靈感碎片稍縱即逝，又會產生連鎖反應，進而創造出一個感官被強烈刺激的影像世界。\\n\\n《上海大龍》(導演 河森正治)\\n創意拯救未來？屁孩英雄誕生！\\n20世紀後半的上海老街，某個還在流鼻涕的小屁孩，是個愛畫畫的幼稚園學生。有一天，一道閃光把他的學校砸出一個隕石坑，屁孩撿起神秘的棒狀物，原來那是可以把想法化為實體的「意象實體化系統」。孩子們都迷上了這個奇妙的魔法棒，但他們面前卻出現了誰也沒料到的巨大敵人？\\n\\n《DEATHTIC 4》(導演 木村真二)\\n在地底下存在著另一個寬廣的喪屍世界，那裡不容許「生命」存在。主角洛特偶然撿到一隻誤入其中的活青蛙，洛特與夥伴們想前往「癢癢洞」把青蛙送回原本的世界，可是卻遭遇生物警察追捕…因此展開一連串雞飛狗跳的的追逐\\n\\n《門鈴》(導演 福山庸治)\\n一如往常，放學回到家的高中生阿裕，正要進門時，他發現媽媽和妹妹的反應和平常不同。試圖理解情況的阿裕卻驚見另外一個「已經回到家的自己」？！從此進入了被「另一個我」處處牽制與競爭的神秘漩渦中…\\n\\n《LIMIT CYCLE》(導演 二村秀樹)\\n從黑暗中浮現的虛擬現實空間，多層結構組成的大數據城市。彷彿陷入無止境工作循環的上班族男人。以迷幻絢麗的畫面進入一段意識流的哲學旅程。\\n\\n《做夢機器》(導演 湯淺政明)\\n從繽紛溫馨的嬰兒房開始，但不久後寶寶就被丟到荒野中困難求生。在旅途中認識了夥伴、失去過朋友、經歷挫敗又繼續努力。多次哭泣，但也擁有歡笑時光，感受著世界的一切。多年過去，昔日寶寶已經長大，最終在旅途的盡頭等待是什麼呢？\\n\\n《BABY BLUE》(導演 渡邊信一郎)\\n初夏，福生市的某所高中，阿翔找葉月翹課出去玩。他們是青梅竹馬，但歲月仍然改變了某些事，最近甚至不太常找對方說話了。兩人買了煙火，想要前往江之島，路上他們說起了兒時尋寶找到的神祕物品…而短短的一日冒險，卻也成為他們之間酸澀又甜美的回憶。', 'trailer_url': 'https://movies.yahoo.com.tw/video/%E5%A4%A9%E6%89%8D%E7%8B%82%E6%AD%A1%E6%B4%BE%E5%B0%8D-%E6%AD%A3%E5%BC%8F%E9%A0%90%E5%91%8A-055926798.html?movie_id=14224'}\n",
            "{'expectation': '100%', 'ch_name': '愛情需要編劇', 'eng_name': 'Happy Ending', 'movie_id': '14227', 'poster_url': None, 'release_date': '2022-11-18', 'intro': '★笑中帶淚、溫暖人心！《騎機男孩》導演打造最滿心愉悅愛情喜劇！\\n★小鹿亂撞的五段灑糖愛情，浪漫媲美《愛是您・愛是我》！\\n★勇奪泰國新片票房冠軍，榮登當月上映泰國電影最高票房！\\n★型男鬼才編劇，小宇宙爆發粉紅泡泡愛情故事，保證樂趣無窮！\\n★不相信「幸福的結局」，但心怎麼又開始蹦蹦跳了起來？\\n★《海苔億萬富翁》男主角演繹不信愛情鬼才編劇，大銀幕浪漫談情！\\n★《交友網戰》男主角演繹失業賭博愛好者，豪賭14天內贏得隔壁美人芳心！\\n★《我的甜心正太》男主角PK《這一次不再錯過你》女主角競速談愛！\\n★ 泰國實力派唱將辛托努姆喬克獻唱浪漫主題曲！\\n\\n這一次，不再錯過你！\\n不信愛情的編劇家阿刁（帕查拉奇拉錫瓦特飾演），不得不在他母親於醫院接受治療期間，迅速完成五段愛情故事。他在加護病房外面邂逅了小蓮（潘荻拉皮皮緹亞功飾演），小蓮對他要寫的愛情故事產生好奇，就在你來我往的愛情激辯當中，阿刁的靈感油然而生，讓他重新體會到被愛的感覺。文思泉湧的他，在跟小蓮充滿曖昧的互動下，成就出五段風格迥異、讓人心跳加速的愛情故事…。\\n\\n【關於電影】\\n\\n勇奪泰國新片票房冠軍，浪漫媲美《愛是您・愛是我》\\n泰國年度浪漫愛情電影《愛情需要編劇》強勢登台！本片由曾編導《騎機男孩》的普吉艾魯奇（Prueksa Amaruji）打造，不僅勇奪泰國新片票房冠軍，當時在泰國上映，更創下當月份最賣座泰國電影佳績。全片巧妙將五段讓人小鹿亂撞的愛情故事灑滿糖霜，讓人甜到心坎裡，不僅笑中帶淚、溫暖人心，更是今年最滿心愉悅的愛情喜劇，浪漫媲美《愛是您・愛是我》（Love Actually）。\\n\\n第一段故事《陪病二人組》，找來曾演出《音為愛》、《海苔億萬富翁》、《倒數夜驚魂》的「Peach」帕查拉奇拉錫瓦特，演繹不信愛情的型男編劇「阿刁」。由於母親在重症加護病房治療，讓待在外面的他，本想撰寫新的電影劇本，卻又毫無靈感。直到他邂逅了同樣來到重症加護病房外面等待男友的小蓮（由曾演出《轉學來的女生2》的「Minnie」潘荻拉皮皮緹亞功飾演），兩人隨著時間推移，對彼此產生更多了解，成為無話不談的朋友。而阿刁所要寫的故事，是否也會跟著產生粉紅泡泡的幸福結局呢？\\n\\n第二段故事《愛情解除隔離》，描述由《交友網戰》男主角「Nat」納特奇查理所飾演的失業賭鬼「阿孔」，他什麼都想要贏的。某日他搖控無人機買食物回家，沒想到無人機卻失控飛向對面棟女孩「小晶」（由曾演出《賣萌這件小事》的「Earth」艾絲特蘇普莉拉飾演）所住的陽台。阿孔的友人跟他打賭，如果14天內可以成功贏得小晶芳心，阿孔就可以獲得賭金兩萬泰銖，外加兩箱啤酒。一段愛的輸贏就此展開，在這不合時宜的期間，好勝的他也發現自己的心，似乎默默產生了變化…。\\n\\n第三段故事《遠距的鄰家女》，描述在他人眼中，總是懶惰愛滋事的高中生「阿德」（由「Tigger」阿奇拉潘波姆飾演），雖然母親是老師，卻依然冷漠故我還常負傷回家。他與模範生「奶茶」（由「Pure」飄瓦琳可西里薇拉濃飾演）是隔壁鄰居，不過兩人好像生活在不同世界。這時，奶茶獲得遠赴中國留學的特殊機會，與她分隔兩地的阿德，將如何想方設法，拉近彼此心的距離呢？\\n\\n第四段故事《把恨變成愛》，找來曾演出《我的甜心正太》、《特長生》等BL作品的「Chimon」瓦奇拉維讓維瓦，飾演血氣方剛的外送員「阿歐」。他為支付生病父親的醫藥費，並要照顧年紀還小的妹妹而加入飆車賭局。此時，一位自稱來自未來的「神秘女孩」（由《這一次不再錯過你》女主角「Pahn」達莉莎坎波伊飾演），開始亂入到他的工作與生活中與他競爭。只是阿歐卻不知道，這位女孩的出現，將改變他未來的命運…。\\n\\n第五段故事《為愛拉近距離》，描述由「Lee」塔納羅坤宋巴所飾演的超商店員「阿虎」，名字雖然凶猛，但最害怕的事情，就是無法向每晚都會遇到的女孩（由中泰混血女星「Fon」苼楠塔茬塔納潘披散飾演）告白。某天，女孩發生了一件事情，讓阿虎决心做出驚天動地的決定。他隱藏內心的感情行動，是否為時已晚呢？Prueksa Amaruji', 'trailer_url': 'https://movies.yahoo.com.tw/video/%E6%84%9B%E6%83%85%E9%9C%80%E8%A6%81%E7%B7%A8%E5%8A%87-%E6%89%BE%E5%B0%8D%E8%B1%A1%E7%AF%87-075214904.html?movie_id=14227'}\n",
            "{'expectation': '100%', 'ch_name': '性徒', 'eng_name': 'Believers', 'movie_id': '14261', 'poster_url': None, 'release_date': '2022-11-18', 'intro': '★日本電影學院獎、日本TAMA電影獎最佳新人 磯村勇斗首次主演電影\\n★日本情色漫畫宗師山本直樹邪教團體情慾爭議之作改編\\n★粉紅電影教父《我想被女高中生殺死》《性之劇藥》城定秀夫導演\\n★在荒島上進行戒色修行的三人，無法壓抑的慾望卻不斷滋長…\\n★露骨描繪人性的慾望與卑劣，令人血脈噴張的恐怖邪教衝擊結局！\\n\\n無法壓抑的慾望、即將爆發…\\n故事描述在荒島上進行戒色修行的三人，穿著所屬邪教「微笑人生中心」團體的T恤，互相不知對方的真實身分，負責紀錄的接線員(磯村勇斗 飾)、島上唯一的女生副議長(北村優衣 飾)，和監督的議長(宇野祥平 飾)，為了踏上通往安住之地的旅途，一邊完成神祕的指令，一邊以淨化為目標過著共同生活。某日島上遭人闖入，三人的關係開始破裂，人類的慾望本能也漸漸顯露出來…。', 'trailer_url': 'https://movies.yahoo.com.tw/video/%E6%80%A7%E5%BE%92-%E4%B8%AD%E6%96%87%E9%A0%90%E5%91%8A-152953624.html?movie_id=14261'}\n",
            "{'expectation': '100%', 'ch_name': '一家子兒咕咕叫', 'eng_name': 'Coo-Coo 043', 'movie_id': '14263', 'poster_url': None, 'release_date': '2022-11-18', 'intro': '一個以賽鴿維生的家庭，因兒子失蹤、經濟壓力和青春躁動，逐漸壓垮彼此身心…\\n\\n而一名流浪少年的加入，為他們的生活帶來改變，一場風暴也即將來臨。', 'trailer_url': 'https://movies.yahoo.com.tw/video/%E5%AE%B6%E5%AD%90%E5%85%92%E5%92%95%E5%92%95%E5%8F%AB-%E4%B8%AD%E6%96%87%E9%A0%90%E5%91%8A-023407125.html?movie_id=14263'}\n",
            "{'expectation': '100%', 'ch_name': '厄憶追凶', 'eng_name': 'Remember', 'movie_id': '14265', 'poster_url': None, 'release_date': '2022-11-18', 'intro': '★ 2022美國夏威夷國際影展正式入選\\n★ 觀影人次破970萬《王牌計中計》李一炯導演睽違7年自編自導驚悚鉅獻\\n★ 影帝李星民完美詮釋阿茲海默症患者，實行最殘酷的復仇計畫！\\n★《二十五，二十一》南柱赫展現純熟演技，扮演單純青年誤陷危機！\\n★ 60年的計畫，為了復仇展開危險的同行！\\n\\n「壞掉的車…手上沾了血…一把手槍…我為何會在這呢？」\\n\\n韓弼洙（李星民 飾）是名罹患阿茲海默症的腦瘤末期患者。在日本占領韓國時期，因為親日派的關係，讓他失去所有家人。在弼洙的妻子過世後，他打算去執行自己耗費60多年的時間所構思的復仇計畫。於是弼洙委託他的忘年之交——20多歲的仁奎（南柱赫 飾），擔任他一週的司機。毫不知情的仁奎跟著弼洙來到第一個復仇現場，沒想到卻被監視器拍到，成為頭號嫌犯。而在警方逐漸縮小搜查範圍時，弼洙則和漸漸消失的記憶拉鋸不休，繼續實行他的復仇計畫……', 'trailer_url': 'https://movies.yahoo.com.tw/video/%E5%8E%84%E6%86%B6%E8%BF%BD%E5%87%B6-%E4%B8%AD%E6%96%87%E9%A0%90%E5%91%8A-163525998.html?movie_id=14265'}\n",
            "{'expectation': '100%', 'ch_name': '錯位的青春', 'eng_name': 'A Girl on the Shore', 'movie_id': '14266', 'poster_url': None, 'release_date': '2022-11-18', 'intro': '★ 改編自日本漫畫家 淺野一二O 原創青春漫畫\\n★ 《伊索遊戲》石川瑠華 x 童星出身 青木柚 新生代演員共同主演\\n★ 描繪青春期敏感卻殘酷的「戀」與「性」。\\n★ 已經無法回到年少無知的自己了。\\n\\n住在海邊小鎮的平凡國中生小梅，對憧憬的學長告白遭拒後大受打擊，竟與曾表明喜歡自己、性格內向的磯邊發生肉體關係。起初只是出於好奇，並沒有把磯邊視為戀愛對象的小梅，漸漸對他產生感情，然而，磯邊卻因家庭的巨變，令心中矛盾又不安的情緒膨脹，甚至開始想逃離與小梅的這段關係…。', 'trailer_url': 'https://movies.yahoo.com.tw/video/%E9%8C%AF%E4%BD%8D%E7%9A%84%E9%9D%92%E6%98%A5-%E4%B8%AD%E6%96%87%E9%A0%90%E5%91%8A-171349548.html?movie_id=14266'}\n"
          ]
        }
      ],
      "source": [
        "import requests\n",
        "import re\n",
        "import json\n",
        "from bs4 import BeautifulSoup\n",
        "\n",
        "\n",
        "Y_MOVIE_URL = 'https://tw.movies.yahoo.com/movie_thisweek.html'\n",
        "\n",
        "# 以下網址後面加上 \"/id=MOVIE_ID\" 即為該影片各項資訊\n",
        "Y_INTRO_URL = 'https://tw.movies.yahoo.com/movieinfo_main.html'  # 詳細資訊\n",
        "Y_PHOTO_URL = 'https://tw.movies.yahoo.com/movieinfo_photos.html'  # 劇照\n",
        "Y_TIME_URL = 'https://tw.movies.yahoo.com/movietime_result.html'  # 時刻表\n",
        "\n",
        "\n",
        "def get_web_page(url):\n",
        "    resp = requests.get(url)\n",
        "    if resp.status_code != 200:\n",
        "        print(f'Invalid url:{resp.url}')\n",
        "        return None\n",
        "    else:\n",
        "        return resp.text\n",
        "\n",
        "\n",
        "def get_movies(dom):\n",
        "  soup = BeautifulSoup(dom, 'html5lib')\n",
        "  movies = []\n",
        "  rows = soup.find_all('div', 'release_info_text')\n",
        "  for row in rows:\n",
        "    movie = dict()\n",
        "    movie['expectation'] = row.find('div', 'leveltext').span.text.strip()\n",
        "    movie['ch_name'] = row.find('div', 'release_movie_name').a.text.strip()\n",
        "    movie['eng_name'] = row.find('div', 'release_movie_name').find('div', 'en').a.text.strip()\n",
        "    movie['movie_id'] = get_movie_id(row.find('div', 'release_movie_name').a.get('href'))\n",
        "    movie['poster_url'] = row.parent.find_previous_sibling('div', 'release_foto').a.get('src')\n",
        "    movie['release_date'] = get_date(row.find('div', 'release_movie_time').text)\n",
        "    movie['intro'] = row.find('div', 'release_text').text.replace(u'詳全文', '').strip()\n",
        "    trailer_a = row.find_next_sibling('div', 'release_btn color_btnbox').find_all('a')[1]\n",
        "    movie['trailer_url'] = trailer_a['href'] if 'href' in trailer_a.attrs.keys() else ''\n",
        "    movies.append(movie)\n",
        "  return movies\n",
        "\n",
        "\n",
        "def get_date(date_str):\n",
        "  # e.g. \"上映日期：2022-11-04\" -> match.group(0): \"2022-11-04\"\n",
        "  pattern = '\\d+-\\d+-\\d+'\n",
        "  match = re.search(pattern, date_str)\n",
        "  if match is None:\n",
        "    return date_str\n",
        "  else:\n",
        "    return match.group(0)\n",
        "\n",
        "\n",
        "def get_movie_id(url):\n",
        "  # 20180515: URL 格式有變, e.g., 'https://movies.yahoo.com.tw/movieinfo_main/%E6%AD%BB%E4%BE%8D2-deadpool-2-7820.html\n",
        "  # e.g., \"https://tw.rd.yahoo.com/referurl/movie/thisweek/info/*https://tw.movies.yahoo.com/movieinfo_main.html/id=6707\"\n",
        "  #       -> match.group(0): \"/id=6707\"\n",
        "  try:\n",
        "    movie_id = url.split('.html')[0].split('-')[-1]\n",
        "  except:\n",
        "    movie_id = url\n",
        "  return movie_id\n",
        "\n",
        "\n",
        "def get_trailer_url(url):\n",
        "  # e.g., 'https://tw.rd.yahoo.com/referurl/movie/thisweek/trailer/*https://tw.movies.yahoo.com/video/美女與野獸-最終版預告-024340912.html'\n",
        "  return url.split('*')[1]\n",
        "\n",
        "\n",
        "def get_complete_intro(movie_id):\n",
        "  page = get_web_page(Y_INTRO_URL + '/id=' + movie_id)\n",
        "  if page:\n",
        "    soup = BeautifulSoup(page, 'html5lib')\n",
        "    infobox = soup.find('div', 'gray_infobox_inner')\n",
        "    print(infobox.text.strip())\n",
        "\n",
        "\n",
        "def main():\n",
        "  page = get_web_page(Y_MOVIE_URL)\n",
        "  if page:\n",
        "    movies = get_movies(page)\n",
        "    for movie in movies:\n",
        "      print(movie)\n",
        "      # get_complete_intro(movie[\"movie_id\"])\n",
        "    with open('movie.json', 'w', encoding='utf-8') as f:\n",
        "      json.dump(movies, f, indent=2, sort_keys=True, ensure_ascii=False)\n",
        "\n",
        "\n",
        "if __name__ == '__main__':\n",
        "  main()"
      ]
    },
    {
      "cell_type": "markdown",
      "metadata": {
        "id": "rgZmPsh9zZlN"
      },
      "source": [
        "## 練習3\n"
      ]
    },
    {
      "cell_type": "markdown",
      "metadata": {
        "id": "w3GT1nsfzhEy"
      },
      "source": [
        "- 擷取並parse「批批踢JOKE版的一篇文章」\n",
        "- 請依下列步驟練習：\n",
        "    - 以GET方法將網頁https://www.ptt.cc/bbs/joke/M.1571755669.A.663.html 原始碼讀入\n",
        "    - 依照上述步驟parse出推文內容及推文者\n",
        "    - 透過for迴圈，整齊印出"
      ]
    }
  ],
  "metadata": {
    "colab": {
      "collapsed_sections": [
        "0bxcSKyjgZtB",
        "1cetpFdf0LVF",
        "dYrMNwEeAvvx",
        "sbc61gdWJ6n1",
        "yIGVirc5JscG",
        "7P_uTgisJzKX",
        "nmhi4-huOaY-",
        "iodaXDy83xtV",
        "7bIWlzMJd_PJ",
        "S86BgvqY0Src",
        "uxl9C3YOIMGq",
        "qP1zGwhwiS7K",
        "Bgtv3fFn6AD2",
        "kGUUCPFfm_ZV",
        "lX0Q_MEdepVA",
        "4aLRQSw9HuZ0",
        "PbkO2Q-K9QCi",
        "bhyq1jQH_Hzm",
        "tMcBImeQIiDh",
        "RrUdffk-pK7M",
        "sdsBCb4BkOkK",
        "vnv7fzVMaPCz",
        "Ta5rh-Up1vQe",
        "wyXAXDIN1MBI",
        "rgZmPsh9zZlN"
      ],
      "provenance": []
    },
    "kernelspec": {
      "display_name": "Python 3",
      "name": "python3"
    }
  },
  "nbformat": 4,
  "nbformat_minor": 0
}
