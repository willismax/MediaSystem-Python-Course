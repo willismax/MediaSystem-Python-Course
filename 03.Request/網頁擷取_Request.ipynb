{
  "cells": [
    {
      "cell_type": "markdown",
      "metadata": {
        "id": "0bxcSKyjgZtB"
      },
      "source": [
        "# 爬蟲-網頁資料擷取"
      ]
    },
    {
      "cell_type": "markdown",
      "metadata": {
        "id": "VVxE3EyttF8k"
      },
      "source": [
        "- 擷取網頁用 [`requests`](https://docs.python-requests.org/en/latest/) 模組\n",
        "  - requests.get()\n",
        "  - requests.post()\n",
        "- 解析網頁用 [`beautiful Soup`](https://www.crummy.com/software/BeautifulSoup/bs4/doc.zh/) 模組\n",
        "  - soup.find()\n",
        "  - soup.find_all()\n",
        "  - soup.select()"
      ]
    },
    {
      "cell_type": "markdown",
      "metadata": {
        "id": "1cetpFdf0LVF"
      },
      "source": [
        "# Requests"
      ]
    },
    {
      "cell_type": "markdown",
      "metadata": {
        "id": "dYrMNwEeAvvx"
      },
      "source": [
        "### Requests常用狀態描述\n",
        "- `response.status_code`\n",
        "  - 200 OK\n",
        "  - 403 Forbidden （禁止）\n",
        "  - 404 Not Found\n",
        "- `response.encoding`\n",
        "  - 如果是中文網站要特別注意編碼的問題\n",
        "  - 常用編碼UTF-8，windows可能會遇到CP950、Big5等編碼問題\n",
        "- `response.text`\n",
        "  - 目標網頁的HTML文字，即被Tag包起來的內文(目標資訊）\n",
        "- `request.json()`\n",
        "  - 目標為JSON的話，可以解析為Python的list與dict\n"
      ]
    },
    {
      "cell_type": "markdown",
      "metadata": {
        "id": "nCbQZOMfFxBH"
      },
      "source": [
        "- 可從文件學習，搭配[requests官方文件quickstart服用](https://requests.readthedocs.io/en/latest/user/quickstart/)!!"
      ]
    },
    {
      "cell_type": "markdown",
      "metadata": {
        "id": "sbc61gdWJ6n1"
      },
      "source": [
        "### 檢查連線資訊"
      ]
    },
    {
      "cell_type": "code",
      "execution_count": null,
      "metadata": {
        "id": "vjvtq8j_aDVo"
      },
      "outputs": [],
      "source": [
        "import requests\n",
        "\n",
        "url = \"https://api.github.com/events\"\n",
        "r = requests.get(url)\n",
        "\n",
        "r.json()"
      ]
    },
    {
      "cell_type": "code",
      "execution_count": null,
      "metadata": {
        "id": "b-7VKFGVX6_b"
      },
      "outputs": [],
      "source": [
        "# 連線狀態\n",
        "r.status_code"
      ]
    },
    {
      "cell_type": "code",
      "execution_count": null,
      "metadata": {
        "id": "NYPGaXq4HiUr"
      },
      "outputs": [],
      "source": [
        "# 編碼\n",
        "r.encoding"
      ]
    },
    {
      "cell_type": "code",
      "execution_count": null,
      "metadata": {
        "id": "zQoFf4orT7u2"
      },
      "outputs": [],
      "source": [
        "# 內容\n",
        "r.content"
      ]
    },
    {
      "cell_type": "code",
      "execution_count": null,
      "metadata": {
        "id": "R9sIOw-fXyvB"
      },
      "outputs": [],
      "source": [
        "# 連線的錯誤訊息(正確連線則無)\n",
        "r.raise_for_status()"
      ]
    },
    {
      "cell_type": "code",
      "execution_count": null,
      "metadata": {
        "id": "w_eVG_e8ZLHB"
      },
      "outputs": [],
      "source": [
        "# cookies\n",
        "r.cookies"
      ]
    },
    {
      "cell_type": "code",
      "execution_count": null,
      "metadata": {
        "id": "nzr2Gz9CdPcZ"
      },
      "outputs": [],
      "source": [
        "# header (HTTP 標頭名稱不區分大小寫。)\n",
        "r.headers"
      ]
    },
    {
      "cell_type": "code",
      "execution_count": null,
      "metadata": {
        "id": "KaznVFfKdTe9"
      },
      "outputs": [],
      "source": [
        "r.headers['Content-Type']"
      ]
    },
    {
      "cell_type": "markdown",
      "metadata": {
        "id": "4PO-DgdV4Avk"
      },
      "source": [
        "- Request讀取影音圖片檔案(二進位制)的方式"
      ]
    },
    {
      "cell_type": "markdown",
      "metadata": {
        "id": "yIGVirc5JscG"
      },
      "source": [
        "### 快速認識`GET`、`POST`、`PUT`、`DELETE`"
      ]
    },
    {
      "cell_type": "code",
      "execution_count": null,
      "metadata": {
        "id": "p2aTkURA1cEE"
      },
      "outputs": [],
      "source": [
        "!curl -X GET \"https://api.github.com/events\""
      ]
    },
    {
      "cell_type": "code",
      "execution_count": null,
      "metadata": {
        "id": "V9ibgeIVs5ES"
      },
      "outputs": [],
      "source": [
        "# GET\n",
        "r = requests.get('https://httpbin.org/get')\n",
        "r.json()"
      ]
    },
    {
      "cell_type": "code",
      "execution_count": null,
      "metadata": {
        "id": "Ik3sWzjNOvvz"
      },
      "outputs": [],
      "source": [
        "# POST\n",
        "r = requests.post('https://httpbin.org/post', data={'key': 'value'})\n",
        "r.json()"
      ]
    },
    {
      "cell_type": "code",
      "execution_count": null,
      "metadata": {
        "id": "p1_2behXO5FB"
      },
      "outputs": [],
      "source": [
        "# PUT\n",
        "r = requests.put('https://httpbin.org/put', data={'key': 'value2'})\n",
        "r.json()"
      ]
    },
    {
      "cell_type": "code",
      "execution_count": null,
      "metadata": {
        "id": "1OCPVTtUPA-L"
      },
      "outputs": [],
      "source": [
        "# DELETE\n",
        "r = requests.delete('https://httpbin.org/delete')\n",
        "r.json()"
      ]
    },
    {
      "cell_type": "code",
      "execution_count": null,
      "metadata": {
        "id": "OSPrfhvDONxz"
      },
      "outputs": [],
      "source": [
        "r.text"
      ]
    },
    {
      "cell_type": "markdown",
      "metadata": {
        "id": "7P_uTgisJzKX"
      },
      "source": [
        "### `GET`，以及增加參數的方式"
      ]
    },
    {
      "cell_type": "code",
      "execution_count": null,
      "metadata": {
        "id": "nu5-xEIpQOq2"
      },
      "outputs": [],
      "source": [
        "!curl -X GET \"https://httpbin.org/get?k1=v1&k2=v2\""
      ]
    },
    {
      "cell_type": "code",
      "execution_count": null,
      "metadata": {
        "id": "I-AWDMjlFnR1"
      },
      "outputs": [],
      "source": [
        "import requests\n",
        "\n",
        "payload = {'k1': 'v1', 'k2': 'v2'}\n",
        "r = requests.get('https://httpbin.org/get', params=payload)\n",
        "print(r.url)"
      ]
    },
    {
      "cell_type": "code",
      "execution_count": null,
      "metadata": {
        "id": "dlVsV0zK2G7y"
      },
      "outputs": [],
      "source": [
        "# GET的參數會接在URL後面?\n",
        "import requests\n",
        "\n",
        "payload  = {\"api\":\"1\", \"map_action\":\"map\", \"zoom\":\"16\", \"query\":\"24.149660,120.684166\"}\n",
        "r = requests.get('https://www.google.com/maps/search/', params=payload )\n",
        "print(r.url)"
      ]
    },
    {
      "cell_type": "markdown",
      "metadata": {
        "id": "iixUXQhO4JEY"
      },
      "source": [
        "- `Request.get`大型檔案的方式，，`圖片、影音檔案、二進位制bin檔可用"
      ]
    },
    {
      "cell_type": "code",
      "execution_count": null,
      "metadata": {
        "id": "dhHbSzOiJgbv"
      },
      "outputs": [],
      "source": [
        "# 來源: https://stackoverflow.com/questions/16694907/download-large-file-in-python-with-requests\n",
        "import requests\n",
        "\n",
        "def download_file(url):\n",
        "  \"\"\"下載檔案，檔名為url.split('/')[-1]\"\"\"\n",
        "  local_filename = url.split('/')[-1]\n",
        "  with requests.get(url, stream=True) as r:\n",
        "      r.raise_for_status()\n",
        "      with open(local_filename, 'wb') as f:\n",
        "          for chunk in r.iter_content(chunk_size=8192):\n",
        "              f.write(chunk)\n",
        "  return local_filename\n",
        "\n",
        "if __name__=='__main__':\n",
        "  download_file(\"https://api.github.com/events\")"
      ]
    },
    {
      "cell_type": "markdown",
      "metadata": {
        "id": "nmhi4-huOaY-"
      },
      "source": [
        "### `POST`，帶有data的 POST 請求"
      ]
    },
    {
      "cell_type": "code",
      "execution_count": null,
      "metadata": {
        "id": "Rcijz6DGbhCn"
      },
      "outputs": [],
      "source": [
        "!curl -X POST -d \"key1=value1&key2=value2\" \"https://httpbin.org/post\""
      ]
    },
    {
      "cell_type": "code",
      "execution_count": null,
      "metadata": {
        "id": "iBWutafvOem9"
      },
      "outputs": [],
      "source": [
        "import requests\n",
        "\n",
        "payload = {'key1': 'value1', 'key2': 'value2'}\n",
        "r = requests.post(\"https://httpbin.org/post\", data=payload)\n",
        "\n",
        "print(r.text)"
      ]
    },
    {
      "cell_type": "markdown",
      "metadata": {
        "id": "NPOmQawd56bK"
      },
      "source": [
        "- `payload_tuples`與`payload_dict`用法，以下兩者相同"
      ]
    },
    {
      "cell_type": "code",
      "execution_count": null,
      "metadata": {
        "id": "cO3IjjoyOpNe"
      },
      "outputs": [],
      "source": [
        "import requests\n",
        "\n",
        "payload_tuples = [('key1', 'value1'), ('key1', 'value2')]\n",
        "requests.post('https://httpbin.org/post', data=payload_tuples).json()"
      ]
    },
    {
      "cell_type": "code",
      "execution_count": null,
      "metadata": {
        "id": "kwI0rdHt4vuM"
      },
      "outputs": [],
      "source": [
        "import requests\n",
        "\n",
        "payload_dict = {'key1': ['value1', 'value2']}\n",
        "requests.post('https://httpbin.org/post', data=payload_dict).json()"
      ]
    },
    {
      "cell_type": "markdown",
      "metadata": {
        "id": "n1uIbe94Pjmb"
      },
      "source": [
        "-  `post(url, data=None, json=None, **kwargs)`，以下示範參數放dict轉json或直接json\n"
      ]
    },
    {
      "cell_type": "code",
      "execution_count": null,
      "metadata": {
        "id": "snYNC7nPPfwU"
      },
      "outputs": [],
      "source": [
        "import json\n",
        "\n",
        "url = 'https://httpbin.org/post'\n",
        "payload = {'some': 'data'}\n",
        "\n",
        "# 以下兩種相同\n",
        "r = requests.post(url, data=json.dumps(payload))\n",
        "r = requests.post(url, json=payload)\n",
        "\n",
        "r.json()"
      ]
    },
    {
      "cell_type": "markdown",
      "metadata": {
        "id": "95RouNSnoAkj"
      },
      "source": [
        "- 加入`Cookies`"
      ]
    },
    {
      "cell_type": "code",
      "execution_count": null,
      "metadata": {
        "id": "IW1QYKaLoBvk"
      },
      "outputs": [],
      "source": [
        "url = 'http://www.google.com'\n",
        "r = requests.get(url)\n",
        "r.cookies"
      ]
    },
    {
      "cell_type": "code",
      "execution_count": null,
      "metadata": {
        "id": "RdbxuU1G2dWK"
      },
      "outputs": [],
      "source": [
        "!curl --cookie \"my_cookie=\" https://httpbin.org/cookies"
      ]
    },
    {
      "cell_type": "code",
      "execution_count": null,
      "metadata": {
        "id": "6JyzrAU8poBV"
      },
      "outputs": [],
      "source": [
        "url = 'https://httpbin.org/cookies'\n",
        "cookies = dict(cookies_are='working')\n",
        "r = requests.get(url, cookies=cookies)\n",
        "r.json()"
      ]
    },
    {
      "cell_type": "markdown",
      "metadata": {
        "id": "J3fahI50tvfq"
      },
      "source": [
        "- Timeouts"
      ]
    },
    {
      "cell_type": "code",
      "execution_count": null,
      "metadata": {
        "id": "WpIhTGGhtwly"
      },
      "outputs": [],
      "source": [
        "requests.get('https://github.com/', timeout=0.001)"
      ]
    },
    {
      "cell_type": "markdown",
      "metadata": {
        "id": "iodaXDy83xtV"
      },
      "source": [
        "## `GET` example網頁為例"
      ]
    },
    {
      "cell_type": "markdown",
      "metadata": {
        "id": "RKprYoPf31yH"
      },
      "source": [
        "\n",
        "- 先觀察目標網頁: http://www.example.com/\n",
        "- 以`requests.get`抓取網頁原始碼，並輸出結果\n",
        "- 這個階段有抓到網頁就大功告成了!"
      ]
    },
    {
      "cell_type": "code",
      "execution_count": null,
      "metadata": {
        "id": "3GFnb4ACf3ad"
      },
      "outputs": [],
      "source": [
        "import requests\n",
        "\n",
        "url = 'http://www.example.com/'\n",
        "response = requests.get(url)\n",
        "print(response.text)"
      ]
    },
    {
      "cell_type": "code",
      "execution_count": null,
      "metadata": {
        "id": "p0YRPSyeSPp6"
      },
      "outputs": [],
      "source": [
        "dir(requests)"
      ]
    },
    {
      "cell_type": "code",
      "execution_count": null,
      "metadata": {
        "id": "36Qif3AdSexz"
      },
      "outputs": [],
      "source": [
        "response.status_code"
      ]
    },
    {
      "cell_type": "code",
      "execution_count": null,
      "metadata": {
        "id": "6rmZASQ0H5Li"
      },
      "outputs": [],
      "source": [
        "response.encoding"
      ]
    },
    {
      "cell_type": "markdown",
      "metadata": {
        "id": "7bIWlzMJd_PJ"
      },
      "source": [
        "## `POST` [台灣高鐵訂票](https://www.thsrc.com.tw/ArticleContent/a3b630bb-1066-4352-a1ef-58c7b4e8ef7c)為例"
      ]
    },
    {
      "cell_type": "markdown",
      "source": [
        "![image.png](https://hackmd.io/_uploads/SyFC06yma.png)\n"
      ],
      "metadata": {
        "id": "P4mHnNWaA_vf"
      }
    },
    {
      "cell_type": "code",
      "execution_count": null,
      "metadata": {
        "id": "-dCp9XUzeHjV"
      },
      "outputs": [],
      "source": [
        "import requests\n",
        "\n",
        "url= 'https://www.thsrc.com.tw/TimeTable/Search'\n",
        "\n",
        "data={\n",
        "    'SearchType': 'S',\n",
        "    'Lang': 'TW',\n",
        "    'StartStation': 'NanGang',\n",
        "    'EndStation': 'ZuoYing',\n",
        "    'OutWardSearchDate': '2023/11/05',\n",
        "    'OutWardSearchTime': '16:00',\n",
        "    'ReturnSearchDate': '2023/11/05',\n",
        "    'ReturnSearchTime': '16:00',\n",
        "    'DiscountType': None\n",
        "}\n",
        "\n",
        "res = requests.post(url, data=data)"
      ]
    },
    {
      "cell_type": "code",
      "execution_count": null,
      "metadata": {
        "id": "2yHWIPRrGz-U"
      },
      "outputs": [],
      "source": [
        "res.json()"
      ]
    },
    {
      "cell_type": "code",
      "execution_count": null,
      "metadata": {
        "id": "sdEKMmBlwJHD"
      },
      "outputs": [],
      "source": [
        "res.text"
      ]
    },
    {
      "cell_type": "code",
      "execution_count": null,
      "metadata": {
        "id": "d-4XiprkCB70"
      },
      "outputs": [],
      "source": [
        "res.headers"
      ]
    },
    {
      "cell_type": "code",
      "execution_count": null,
      "metadata": {
        "id": "NLKTxQUXxryP"
      },
      "outputs": [],
      "source": [
        "r = res.json()\n",
        "r['data']"
      ]
    },
    {
      "cell_type": "markdown",
      "metadata": {
        "id": "S86BgvqY0Src"
      },
      "source": [
        "# BeautifulSoup"
      ]
    },
    {
      "cell_type": "markdown",
      "metadata": {
        "id": "uxl9C3YOIMGq"
      },
      "source": [
        "## 以Beautiful Soup讀取並解析HTML\n"
      ]
    },
    {
      "cell_type": "markdown",
      "metadata": {
        "id": "E5J2uIUKkUIU"
      },
      "source": [
        "- [文件](https://www.crummy.com/software/BeautifulSoup/bs4/doc.zh/)\n",
        "- Beautiful Soup是HTML解析器，將網頁解析為 `bs4.BeautifulSoup` 物件。\n",
        "- `bs4.BeautifulSoup` 物件是個結構樹(DOM)，依結構與各種方法搜尋目標。\n",
        "```\n",
        "!pip3 install beautifulsoup4\n",
        "```"
      ]
    },
    {
      "cell_type": "code",
      "execution_count": null,
      "metadata": {
        "id": "8bMZLxcR0vso"
      },
      "outputs": [],
      "source": [
        "from bs4 import BeautifulSoup\n",
        "\n",
        "html_doc=\"\"\"<html><head><title>The Dormouse's story</title></head>\n",
        "<body>\n",
        "<p class=\"title\"><b>The Dormouse's story</b></p>\n",
        "\n",
        "<p class=\"story\">Once upon a time there were three little sisters; and their names were\n",
        "<a href=\"http://example.com/elsie\" class=\"sister\" id=\"link1\">Elsie</a>,\n",
        "<a href=\"http://example.com/lacie\" class=\"sister\" id=\"link2\">Lacie</a> and\n",
        "<a href=\"http://example.com/tillie\" class=\"sister\" id=\"link3\">Tillie</a>;\n",
        "and they lived at the bottom of a well.</p>\n",
        "\n",
        "<p class=\"story\">...</p>\"\"\"\n",
        "\n",
        "\n",
        "soup = BeautifulSoup(html_doc, 'html.parser')\n",
        "print(soup.prettify())"
      ]
    },
    {
      "cell_type": "markdown",
      "metadata": {
        "id": "skguKwRaZfqY"
      },
      "source": [
        "下表列出了主要的解析器，以及它們的優缺點：\n",
        "\n",
        "解析器|使用方法|優勢|\t劣勢|\n",
        "-|-|-|-\n",
        "html.parser|\tBeautifulSoup(markup,\"html.parser\")\t|Python的內建標準庫、執行速度適中、文檔容錯能力強|Python 2.7.3及3.2.2之前的版本中文檔容錯能力差\n",
        "lxml HTML 解析器|\tBeautifulSoup(markup, \"lxml\")\t|速度快、文檔容錯能力強(通常用這個)|需要安装C语言库\n",
        "xml XML 解析器|BeautifulSoup(markup, \"xml\")|速度快、唯一支持XML的解析器|需要安装C语言库\n",
        "html5lib\t|BeautifulSoup(markup, \"html5lib\")\t|最好的容錯性、以瀏覽器的方式解析文檔、生成HTML5格式的文檔|速度慢、不依賴外部擴展\n"
      ]
    },
    {
      "cell_type": "markdown",
      "metadata": {
        "id": "qP1zGwhwiS7K"
      },
      "source": [
        "### 簡易解析文件\n",
        "- 用`.`的方式存取物件結構，快速但容易出錯\n",
        "- 用`find()`、`find_all()`、`select()`方法較嚴謹"
      ]
    },
    {
      "cell_type": "code",
      "execution_count": null,
      "metadata": {
        "colab": {
          "base_uri": "https://localhost:8080/"
        },
        "id": "LqZfNTrEiAyH",
        "outputId": "c2266856-1be6-42a4-dfce-77f1f4190212"
      },
      "outputs": [
        {
          "output_type": "execute_result",
          "data": {
            "text/plain": [
              "<title>The Dormouse's story</title>"
            ]
          },
          "metadata": {},
          "execution_count": 44
        }
      ],
      "source": [
        "soup.title"
      ]
    },
    {
      "cell_type": "code",
      "execution_count": null,
      "metadata": {
        "colab": {
          "base_uri": "https://localhost:8080/",
          "height": 36
        },
        "id": "8LIP9oOJiC-a",
        "outputId": "6f07a1c4-3517-4035-8940-f138d4dc3f4d"
      },
      "outputs": [
        {
          "output_type": "execute_result",
          "data": {
            "text/plain": [
              "'title'"
            ],
            "application/vnd.google.colaboratory.intrinsic+json": {
              "type": "string"
            }
          },
          "metadata": {},
          "execution_count": 45
        }
      ],
      "source": [
        "soup.title.name"
      ]
    },
    {
      "cell_type": "code",
      "execution_count": null,
      "metadata": {
        "colab": {
          "base_uri": "https://localhost:8080/",
          "height": 36
        },
        "id": "aesLKUl6iEu4",
        "outputId": "81e82d3b-ad8b-4685-bb9d-63dd91f34447"
      },
      "outputs": [
        {
          "output_type": "execute_result",
          "data": {
            "text/plain": [
              "\"The Dormouse's story\""
            ],
            "application/vnd.google.colaboratory.intrinsic+json": {
              "type": "string"
            }
          },
          "metadata": {},
          "execution_count": 46
        }
      ],
      "source": [
        "soup.title.string"
      ]
    },
    {
      "cell_type": "code",
      "execution_count": null,
      "metadata": {
        "colab": {
          "base_uri": "https://localhost:8080/",
          "height": 36
        },
        "id": "az2qGPQmmpdN",
        "outputId": "2df1e84e-0aff-4a84-f9b3-722b8374506e"
      },
      "outputs": [
        {
          "output_type": "execute_result",
          "data": {
            "text/plain": [
              "\"The Dormouse's story\""
            ],
            "application/vnd.google.colaboratory.intrinsic+json": {
              "type": "string"
            }
          },
          "metadata": {},
          "execution_count": 47
        }
      ],
      "source": [
        "soup.title.text"
      ]
    },
    {
      "cell_type": "code",
      "execution_count": null,
      "metadata": {
        "colab": {
          "base_uri": "https://localhost:8080/",
          "height": 36
        },
        "id": "wUgVbrQ9iHzD",
        "outputId": "b9692abe-e7e5-4c7e-b5cd-21d4f2a6a20c"
      },
      "outputs": [
        {
          "output_type": "execute_result",
          "data": {
            "text/plain": [
              "'head'"
            ],
            "application/vnd.google.colaboratory.intrinsic+json": {
              "type": "string"
            }
          },
          "metadata": {},
          "execution_count": 48
        }
      ],
      "source": [
        "soup.title.parent.name"
      ]
    },
    {
      "cell_type": "code",
      "execution_count": null,
      "metadata": {
        "colab": {
          "base_uri": "https://localhost:8080/"
        },
        "id": "4aNxYa5fiprU",
        "outputId": "25b9db09-1fe4-4ec8-bcdb-4cd502fe81ba"
      },
      "outputs": [
        {
          "output_type": "execute_result",
          "data": {
            "text/plain": [
              "<p class=\"title\"><b>The Dormouse's story</b></p>"
            ]
          },
          "metadata": {},
          "execution_count": 49
        }
      ],
      "source": [
        "soup.p"
      ]
    },
    {
      "cell_type": "code",
      "execution_count": null,
      "metadata": {
        "colab": {
          "base_uri": "https://localhost:8080/"
        },
        "id": "XaYmOcueirnZ",
        "outputId": "6b9d43c3-239b-48f9-cee9-68c5ab1697e5"
      },
      "outputs": [
        {
          "output_type": "execute_result",
          "data": {
            "text/plain": [
              "['title']"
            ]
          },
          "metadata": {},
          "execution_count": 50
        }
      ],
      "source": [
        "soup.p['class']"
      ]
    },
    {
      "cell_type": "code",
      "execution_count": null,
      "metadata": {
        "colab": {
          "base_uri": "https://localhost:8080/"
        },
        "id": "RekX2eFfLPUC",
        "outputId": "2f83ab8c-1727-4d1c-857c-7b2e8d149b56"
      },
      "outputs": [
        {
          "output_type": "execute_result",
          "data": {
            "text/plain": [
              "['title']"
            ]
          },
          "metadata": {},
          "execution_count": 51
        }
      ],
      "source": [
        "soup.p.get(\"class\") #推薦使用`.get()`取得屬性"
      ]
    },
    {
      "cell_type": "code",
      "execution_count": null,
      "metadata": {
        "colab": {
          "base_uri": "https://localhost:8080/"
        },
        "id": "D6iLQ7GRiwrB",
        "outputId": "561e54c2-2823-4081-e991-0de34527420a"
      },
      "outputs": [
        {
          "output_type": "execute_result",
          "data": {
            "text/plain": [
              "<a class=\"sister\" href=\"http://example.com/elsie\" id=\"link1\">Elsie</a>"
            ]
          },
          "metadata": {},
          "execution_count": 52
        }
      ],
      "source": [
        "soup.a"
      ]
    },
    {
      "cell_type": "code",
      "execution_count": null,
      "metadata": {
        "colab": {
          "base_uri": "https://localhost:8080/",
          "height": 36
        },
        "id": "_4sybp4xi1ZC",
        "outputId": "82995d7f-1774-44ff-c0f0-d1ea39ecd516"
      },
      "outputs": [
        {
          "output_type": "execute_result",
          "data": {
            "text/plain": [
              "'http://example.com/elsie'"
            ],
            "application/vnd.google.colaboratory.intrinsic+json": {
              "type": "string"
            }
          },
          "metadata": {},
          "execution_count": 53
        }
      ],
      "source": [
        "soup.a[\"href\"]"
      ]
    },
    {
      "cell_type": "code",
      "execution_count": null,
      "metadata": {
        "colab": {
          "base_uri": "https://localhost:8080/",
          "height": 36
        },
        "id": "cXfVft0ELfJP",
        "outputId": "46e4648d-90ec-4752-eb6e-f5b0fc045f2e"
      },
      "outputs": [
        {
          "output_type": "execute_result",
          "data": {
            "text/plain": [
              "'http://example.com/elsie'"
            ],
            "application/vnd.google.colaboratory.intrinsic+json": {
              "type": "string"
            }
          },
          "metadata": {},
          "execution_count": 54
        }
      ],
      "source": [
        "soup.a.get('href')"
      ]
    },
    {
      "cell_type": "code",
      "execution_count": null,
      "metadata": {
        "colab": {
          "base_uri": "https://localhost:8080/"
        },
        "id": "Rx1iadEvjfaJ",
        "outputId": "911951bd-a499-4296-f502-58ff69f49e7e"
      },
      "outputs": [
        {
          "output_type": "stream",
          "name": "stdout",
          "text": [
            "<class 'bs4.element.Tag'>\n",
            "<class 'bs4.element.Tag'>\n",
            "<class 'bs4.element.Tag'>\n"
          ]
        }
      ],
      "source": [
        "print(type(soup.title))\n",
        "print(type(soup.p))\n",
        "print(type(soup.a))"
      ]
    },
    {
      "cell_type": "code",
      "execution_count": null,
      "metadata": {
        "colab": {
          "base_uri": "https://localhost:8080/"
        },
        "id": "zSBaLK7W3vga",
        "outputId": "f525038a-f080-40a0-c22b-c08eea936f44"
      },
      "outputs": [
        {
          "output_type": "stream",
          "name": "stdout",
          "text": [
            "http://example.com/elsie\n",
            "http://example.com/lacie\n",
            "http://example.com/tillie\n"
          ]
        }
      ],
      "source": [
        "for link in soup.find_all('a'):\n",
        "    print(link.get('href'))"
      ]
    },
    {
      "cell_type": "code",
      "execution_count": null,
      "metadata": {
        "colab": {
          "base_uri": "https://localhost:8080/"
        },
        "id": "tDbLOG8A3yff",
        "outputId": "c9788c81-04bb-49fd-cb08-61c7d8aefaf0"
      },
      "outputs": [
        {
          "output_type": "execute_result",
          "data": {
            "text/plain": [
              "['http://example.com/elsie',\n",
              " 'http://example.com/lacie',\n",
              " 'http://example.com/tillie']"
            ]
          },
          "metadata": {},
          "execution_count": 57
        }
      ],
      "source": [
        "[ i.get(\"href\") for i in soup.find_all('a') ]"
      ]
    },
    {
      "cell_type": "markdown",
      "metadata": {
        "id": "Bgtv3fFn6AD2"
      },
      "source": [
        "### `soup.find()`\n",
        "\n"
      ]
    },
    {
      "cell_type": "markdown",
      "metadata": {
        "id": "mQPcgAtPkoJ3"
      },
      "source": [
        "-  回傳第一個被tag包圍的區塊\n",
        "- 傳入的引數第一個通常是 tag 名稱，第二個引數若未指明屬性就代表 class 名稱，也可以直接使用 id 等屬性去定位區塊。定位到區塊後，可以取出其屬性與包含的字串值\n",
        "\n",
        "  ```python\n",
        "  soup.find(name=None,    # 第一個tag name\n",
        "      attrs={},      # {”屬性名”=“屬性值”}\n",
        "      recursive=True,  # 迴圈搜尋開啟\n",
        "      text=None,    # 查找內文\n",
        "      **kwargs)\n",
        "  ```"
      ]
    },
    {
      "cell_type": "code",
      "execution_count": null,
      "metadata": {
        "id": "-F3nFNZF6XUA"
      },
      "outputs": [],
      "source": [
        "help(soup.find())\n",
        "#soup.find(name=None, attrs={}, recursive=True, text=None, **kwargs)"
      ]
    },
    {
      "cell_type": "code",
      "execution_count": null,
      "metadata": {
        "id": "rFyV0EaQ50KG"
      },
      "outputs": [],
      "source": [
        "print(soup.find('p'))\n",
        "print(soup.find(\"a\"))\n",
        "\n",
        "#取<a>內容</a>\n",
        "print(soup.find(\"a\").string)\n",
        "print(soup.find(\"a\").text)\n",
        "\n",
        "#取<title>標題</title>，\n",
        "print(soup.title.string)\n",
        "print(soup.title.text)"
      ]
    },
    {
      "cell_type": "markdown",
      "metadata": {
        "id": "kGUUCPFfm_ZV"
      },
      "source": [
        "### `soup.find().get(屬性)`"
      ]
    },
    {
      "cell_type": "markdown",
      "metadata": {
        "id": "UGKFDMlZDCU1"
      },
      "source": [
        "- 取出節點屬性的較好方法`.get(\"屬性\")`\n",
        "  - 使用`get()`如無此屬性，回傳結果為none。\n",
        "  - 如果不用`get()`也可以擷取屬性，但不存在時會出現錯誤，有礙後續爬蟲執行。\n",
        "  - 其他詳細用法可參考 [BeautifulSoup的官方文件](https://www.crummy.com/software/BeautifulSoup/bs4/doc/)"
      ]
    },
    {
      "cell_type": "code",
      "execution_count": null,
      "metadata": {
        "id": "ck6CqC5upT4t"
      },
      "outputs": [],
      "source": [
        "# 找不到屬性就出錯! #id, class, href, src\n",
        "soup.find(\"p\")['style']"
      ]
    },
    {
      "cell_type": "code",
      "execution_count": null,
      "metadata": {
        "id": "XkEDEZTEpiOF"
      },
      "outputs": [],
      "source": [
        "# 找不到屬性回傳None\n",
        "print(soup.find('p').get('style'))"
      ]
    },
    {
      "cell_type": "markdown",
      "metadata": {
        "id": "lX0Q_MEdepVA"
      },
      "source": [
        "### `soup.find_all()`\n",
        "\n",
        "\n",
        "\n"
      ]
    },
    {
      "cell_type": "markdown",
      "metadata": {
        "id": "DjT29um4ndQ9"
      },
      "source": [
        "- 我全都要，回傳結果為`bs4.element.ResultSet`物件\n",
        "  ```python\n",
        "  soup.find_all(name=None,     #第一個tag name\n",
        "         attrs={},      #{”屬性名”=“屬性值”}\n",
        "         text=None,     #查找內文\n",
        "         limit=None,     #限制搜尋數量\n",
        "         **kwargs)\n",
        "  ```"
      ]
    },
    {
      "cell_type": "code",
      "execution_count": null,
      "metadata": {
        "id": "yYarGEZvnoow"
      },
      "outputs": [],
      "source": [
        "import requests\n",
        "from bs4 import BeautifulSoup\n",
        "\n",
        "res = requests.get('https://www.python.org/')\n",
        "soup = BeautifulSoup(res.text, \"lxml\")"
      ]
    },
    {
      "cell_type": "code",
      "execution_count": null,
      "metadata": {
        "id": "P7R0n1YHnnsE"
      },
      "outputs": [],
      "source": [
        "p_tags = soup.find_all(\"p\")\n",
        "p_tags"
      ]
    },
    {
      "cell_type": "code",
      "execution_count": null,
      "metadata": {
        "id": "X1bYlMczFy5z"
      },
      "outputs": [],
      "source": [
        "type(p_tags)"
      ]
    },
    {
      "cell_type": "code",
      "execution_count": null,
      "metadata": {
        "id": "LRgwqCBTrF9o"
      },
      "outputs": [],
      "source": [
        "# 找出所有內容等於的文字\n",
        "print(soup.find_all(text=\"Latest News\"))"
      ]
    },
    {
      "cell_type": "markdown",
      "metadata": {
        "id": "vsQsDD2SoNMg"
      },
      "source": [
        "- `bs4.element.ResultSet`物件內容以for迴圈取出"
      ]
    },
    {
      "cell_type": "code",
      "execution_count": null,
      "metadata": {
        "id": "c2WOX3w8dKAn"
      },
      "outputs": [],
      "source": [
        "for tag in p_tags:\n",
        "  print(tag)\n",
        "  print(type(tag)) # 取出一層，內層是`bs4.element.Tag`物件"
      ]
    },
    {
      "cell_type": "code",
      "execution_count": null,
      "metadata": {
        "id": "_-qbhw_1oi6S"
      },
      "outputs": [],
      "source": [
        "for tag in p_tags:\n",
        "  print(tag.text)\n",
        "  print(type(tag.text)) # 已解析內文，為文字str"
      ]
    },
    {
      "cell_type": "code",
      "execution_count": null,
      "metadata": {
        "id": "jNMNUGqIBNRV"
      },
      "outputs": [],
      "source": [
        "# 取出節點屬性\n",
        "\n",
        "a_tags = soup.find_all(\"a\")\n",
        "for tag in a_tags:\n",
        "  print(tag.get('href'))"
      ]
    },
    {
      "cell_type": "markdown",
      "metadata": {
        "id": "hhVDY1zNpcmy"
      },
      "source": [
        "- `soup.find_all()`以list`[]`同時搜尋多種標籤"
      ]
    },
    {
      "cell_type": "code",
      "execution_count": null,
      "metadata": {
        "id": "HFKxz_XoBe3P"
      },
      "outputs": [],
      "source": [
        "from pprint import pprint\n",
        "\n",
        "tags = soup.find_all([\"a\", \"b\", \"p\"]) # 搜尋所有超連結與粗體字\n",
        "pprint(tags)"
      ]
    },
    {
      "cell_type": "code",
      "execution_count": null,
      "metadata": {
        "id": "QdWbrjToCZJe"
      },
      "outputs": [],
      "source": [
        "tags = soup.find_all([\"a\", \"p\"], limit=2) # 限制搜尋結果數量limit\n",
        "pprint(tags)"
      ]
    },
    {
      "cell_type": "markdown",
      "metadata": {
        "id": "4aLRQSw9HuZ0"
      },
      "source": [
        "### `soup.select()`\n"
      ]
    },
    {
      "cell_type": "markdown",
      "metadata": {
        "id": "iaMkgMgTtZVR"
      },
      "source": [
        "- 用CSS Seletor選擇器，結果回傳為list\n",
        "- list裡面如果還是標籤形式，這些標籤還是`bs`物件，要解出來才能接著python操作\n",
        "\n",
        "```python\n",
        "select(selector, _candidate_generator=None, limit=None)\n",
        "\n",
        "```"
      ]
    },
    {
      "cell_type": "code",
      "execution_count": null,
      "metadata": {
        "id": "gs024RN3vl9c"
      },
      "outputs": [],
      "source": [
        "from bs4 import BeautifulSoup\n",
        "import requests\n",
        "\n",
        "res = requests.get('http://www.example.com/')\n",
        "soup = BeautifulSoup(res.text, \"lxml\")"
      ]
    },
    {
      "cell_type": "code",
      "execution_count": null,
      "metadata": {
        "id": "xYb6livXvo0c"
      },
      "outputs": [],
      "source": [
        "select_a = soup.select(\"a\")"
      ]
    },
    {
      "cell_type": "code",
      "execution_count": null,
      "metadata": {
        "id": "lsEnAh36wFar"
      },
      "outputs": [],
      "source": [
        "print(type(select_a))\n",
        "print(select_a)"
      ]
    },
    {
      "cell_type": "code",
      "execution_count": null,
      "metadata": {
        "id": "8ucczof1vyvi"
      },
      "outputs": [],
      "source": [
        "print(type(select_a[0]))\n",
        "print(select_a[0])"
      ]
    },
    {
      "cell_type": "code",
      "execution_count": null,
      "metadata": {
        "id": "EcAnjLQ2v7Xx"
      },
      "outputs": [],
      "source": [
        "#解析內文\n",
        "print(type(select_a[0]).text)\n",
        "print(select_a[0].text)"
      ]
    },
    {
      "cell_type": "code",
      "execution_count": null,
      "metadata": {
        "id": "q8m7gTGhwNjs"
      },
      "outputs": [],
      "source": [
        "select_href1 = soup.select('[href]')"
      ]
    },
    {
      "cell_type": "code",
      "execution_count": null,
      "metadata": {
        "id": "9YUGKinNwpVu"
      },
      "outputs": [],
      "source": [
        "print(type(select_href1))\n",
        "print(select_href1)"
      ]
    },
    {
      "cell_type": "code",
      "execution_count": null,
      "metadata": {
        "id": "TzxFg2jlwrNo"
      },
      "outputs": [],
      "source": [
        "print(type(select_href1[0]))\n",
        "print(select_href1[0])"
      ]
    },
    {
      "cell_type": "code",
      "execution_count": null,
      "metadata": {
        "id": "Hjlvmti9wzXr"
      },
      "outputs": [],
      "source": [
        "#配合`.get(屬性)`來解析屬性\n",
        "print(type(select_href1[0].get('href')))\n",
        "print(select_href1[0].get('href'))"
      ]
    },
    {
      "cell_type": "code",
      "execution_count": null,
      "metadata": {
        "id": "Z2Y1wQN7IQiU"
      },
      "outputs": [],
      "source": [
        "import requests\n",
        "from bs4 import BeautifulSoup\n",
        "\n",
        "res = requests.get('http://python.org/')\n",
        "soup = BeautifulSoup(res.text, \"lxml\")\n",
        "a1=soup.select(\"#touchnav-wrapper > header > div > h1 > a > img\")"
      ]
    },
    {
      "cell_type": "code",
      "execution_count": null,
      "metadata": {
        "id": "FdW1cAuEKdcb"
      },
      "outputs": [],
      "source": [
        "a1"
      ]
    },
    {
      "cell_type": "code",
      "execution_count": null,
      "metadata": {
        "id": "yWF8D_bSqBe6"
      },
      "outputs": [],
      "source": []
    },
    {
      "cell_type": "code",
      "execution_count": null,
      "metadata": {
        "id": "NhlAE_M0OvP-"
      },
      "outputs": [],
      "source": [
        "a1[0].get(\"src\")"
      ]
    },
    {
      "cell_type": "markdown",
      "metadata": {
        "id": "PbkO2Q-K9QCi"
      },
      "source": [
        "## 結合正規表達式regular expression進行搜尋\n"
      ]
    },
    {
      "cell_type": "markdown",
      "metadata": {
        "id": "eNSsgL9jx250"
      },
      "source": [
        "- 正規表達式對於精準抓取網頁的各種標籤及內文非常有幫助，解決了許多Xpath與CSS selector無法精確擷取的問題，有必要好好理解。\n",
        "- 擷取的文句段落可以使用[regex101.com](https://regex101.com/)測試。"
      ]
    },
    {
      "cell_type": "markdown",
      "metadata": {
        "id": "DFqB9BQol4IN"
      },
      "source": [
        "\n",
        "|符號|意義|範例|符合字串範例\n",
        "|-|-|-|-\n",
        "|`*`|`*`之前的字元、表達式或`[]`字元集合，出現為0或1個以上|`a*b*`|aaaa、aaabb、bbbb\n",
        "|`+`|`+`之前的字元、表達式或`[]`字元集合，出現為1或1個以上|`a+b+`|aaab、aabbb、abbb\n",
        "|`?`|`+`之前的字元、表達式或`[]`字元集合，出現為0或1次|`a?b?`|ab、b\n",
        "|`[]`|`[]`內的任一字元挑一個|`[A-Z]*`|ALLPE、CAP、QWER\n",
        "|`()`|`()`群組，群組運算優先處理|`(a*b)*`|aabaab、abaab、ababab\n",
        "|`{m,n}`|符合在`{m,n}`前一個字元、表達式或`[]`集合，出現m到n次(包含m與n|`a{2,3}b{2,3}`|aabbb、aaabbb、aabb\n",
        "|`[^]`|符合任一個不再`[]`的字元|`[^A-Z]*`|apple、banana、cat\n",
        "|`\\|`|符合被`\\|`隔開的前後任一字元、字串或表達式|`b(a\\|i\\|e)d`|bad、bid、bed\n",
        "|`.`|符合任一字元(含符號、數字、空格等)|`b.d`|bsd、bid、bed\n",
        "|`^`|`^`之後的第1個字元為開頭的字串|`^a`|apple、afk\n",
        "|`$`|`$`之前的末1個字元為結尾，否則會`.*`|`[A-Z]*[a-z]*$`|Aab、zzz\n",
        "|`\\d`|所有數字|`\\d`|455、5566\n",
        "|`\\w`|所有文字字元|`\\w`|123ABC、C8763\n",
        "|`\\s`|所有非無的字元與操作|`\\s`|`Tab, Space, Escape, …`\n",
        "\n"
      ]
    },
    {
      "cell_type": "markdown",
      "metadata": {
        "id": "bhyq1jQH_Hzm"
      },
      "source": [
        "#### Python的re模組\n",
        "- 可至[regex101](https://regex101.com/)嘗試\n",
        "- 為了避免與字串中的跳脫字元產生混淆，定義正規表達式樣式建議使用原始字串(raw string)，也就是在字串前加r''"
      ]
    },
    {
      "cell_type": "markdown",
      "metadata": {
        "id": "tMcBImeQIiDh"
      },
      "source": [
        "##### 參考寫法\n",
        "```python\n",
        "import re\n",
        "\n",
        "# 找出所有內容等於 python_crawler 的文字\n",
        "pattern = \"我寫好的 regular expression\"\n",
        "string = \"我想要找的字串\"\n",
        "re.findall(pattern, string)\n",
        "```"
      ]
    },
    {
      "cell_type": "code",
      "execution_count": null,
      "metadata": {
        "id": "RZDDwMTBL2Nh"
      },
      "outputs": [],
      "source": [
        "import re\n",
        "\n",
        "pattern = \"我\"\n",
        "string = \"我想要找的字串我我\"\n",
        "re.findall(pattern, string)"
      ]
    },
    {
      "cell_type": "code",
      "execution_count": null,
      "metadata": {
        "id": "CYwDH1z1Yy5j"
      },
      "outputs": [],
      "source": [
        "import re\n",
        "\n",
        "pattern = \"^[a-zA-Z0-9\\._-]+@[a-zA-Z0-9\\._-]+$\"\n",
        "string = \"willismax.com@gmail.com\"\n",
        "re.findall(pattern, string)"
      ]
    },
    {
      "cell_type": "code",
      "execution_count": null,
      "metadata": {
        "id": "BdZYbCHWc7eM"
      },
      "outputs": [],
      "source": [
        "import requests\n",
        "import re\n",
        "\n",
        "res = requests.get('http://python.org/')\n",
        "\n",
        "pattern = r'h[1-6]' #標題h1-h6\n",
        "string = res.text\n",
        "re.findall(pattern, string)"
      ]
    },
    {
      "cell_type": "code",
      "execution_count": null,
      "metadata": {
        "id": "5cBsSTM4d1oq"
      },
      "outputs": [],
      "source": [
        "import re\n",
        "\n",
        "res = requests.get('http://python.org/')\n",
        "\n",
        "pattern = r'\"\\S*.png\"' # .jpg或.png結尾\n",
        "string = res.text\n",
        "re.findall(pattern, string)"
      ]
    },
    {
      "cell_type": "markdown",
      "metadata": {
        "id": "_InTBJdlqQNE"
      },
      "source": [
        "## 網頁擷取實例\n"
      ]
    },
    {
      "cell_type": "markdown",
      "metadata": {
        "id": "RrUdffk-pK7M"
      },
      "source": [
        "### 以PPT 為例\n"
      ]
    },
    {
      "cell_type": "markdown",
      "metadata": {
        "id": "qF4cq73HpMg1"
      },
      "source": [
        "- 這邊開始要示範使用Chrome開發者工具進行搜尋\n",
        "- 先觀察目標網頁: https://www.ptt.cc/bbs/StupidClown/index.html\n",
        "- 使用Chrome瀏覽器，以滑鼠右鍵選擇「檢查」，快捷鍵在windows環境為ctrl+Shift+I或F12\n",
        "\n",
        "- 另外如果要用別人寫好的，參閱https://dotblogs.com.tw/codinghouse/2018/10/22/pttcrawler"
      ]
    },
    {
      "cell_type": "markdown",
      "source": [
        "```\n",
        "//*[@id=\"main-container\"]/div[2]/div[2]/div[2]/a\n",
        "#main-container > div.r-list-container.action-bar-margin.bbs-screen > div:nth-child(2) > div.title > a\n",
        "```"
      ],
      "metadata": {
        "id": "0sFqQzBvBxIZ"
      }
    },
    {
      "cell_type": "markdown",
      "metadata": {
        "id": "XMdTi4BBfd-C"
      },
      "source": [
        "![](https://i.imgur.com/K55v4SH.png)\n"
      ]
    },
    {
      "cell_type": "markdown",
      "metadata": {
        "id": "JiNSwFzUhMb9"
      },
      "source": [
        "- 文章列表可以觀察到推文數、文章標題、作者、日期及文章連結\n",
        "- 我們先觀察他的樹狀結構，對應的標籤與屬性\n",
        "- 以COPY XPath紀錄\n",
        "\n",
        "|名稱|selector|\n",
        "-|-\n",
        "標題|`//*[@id=\"main-container\"]/div[2]/div[4]/div[2]/a`\n",
        "連結|`//*[@id=\"main-container\"]/div[2]/div[4]/div[2]/a`"
      ]
    },
    {
      "cell_type": "code",
      "execution_count": null,
      "metadata": {
        "id": "nFIcyv2v6hRg"
      },
      "outputs": [],
      "source": [
        "#目標網址https://www.ptt.cc/bbs/StupidClown/index.html\n",
        "import requests\n",
        "from bs4 import BeautifulSoup\n",
        "\n",
        "res = requests.get('https://www.ptt.cc/bbs/StupidClown/index.html')\n",
        "soup = BeautifulSoup(res.text ,\"lxml\")\n",
        "print(res.text)"
      ]
    },
    {
      "cell_type": "code",
      "execution_count": null,
      "metadata": {
        "id": "BSjTlja9pqx_"
      },
      "outputs": [],
      "source": [
        "print(soup.prettify())"
      ]
    },
    {
      "cell_type": "markdown",
      "metadata": {
        "id": "oW-IKihpv0HR"
      },
      "source": [
        "- 有抓到網頁，接下來如果簡單針對連結、標題的話，觀察都在div標籤的class='title'裡"
      ]
    },
    {
      "cell_type": "code",
      "execution_count": null,
      "metadata": {
        "id": "2NorSJDRXBok"
      },
      "outputs": [],
      "source": [
        "# #main-container > div.r-list-container.action-bar-margin.bbs-screen > div:nth-child(5) > div.title > a\n",
        "results = soup.select(\"div.title > a\")\n",
        "print(results)\n",
        "print(type(results))"
      ]
    },
    {
      "cell_type": "code",
      "execution_count": null,
      "metadata": {
        "id": "vRrphsEiq8YP"
      },
      "outputs": [],
      "source": [
        "article_href = soup.select(\"div.title a\")\n",
        "article_href"
      ]
    },
    {
      "cell_type": "code",
      "execution_count": null,
      "metadata": {
        "id": "zKnxpxaorHjr"
      },
      "outputs": [],
      "source": [
        "# 逐一取出標題、合併超連結\n",
        "for a in article_href:\n",
        "  print(f'{a.text}')\n",
        "  print(f'href: https://www.ptt.cc{a.get(\"href\")}')\n",
        "\n",
        "  #打開連結內的網頁並另存\n",
        "  content_url = f'https://www.ptt.cc{a.get(\"href\")}'\n",
        "  r = requests.get(content_url)\n",
        "  with open (f'{a.text}.html', 'w+') as f:\n",
        "    f.write(r.text)\n",
        "    print('saved')"
      ]
    },
    {
      "cell_type": "code",
      "execution_count": null,
      "metadata": {
        "id": "MkRd8kgpuIQh"
      },
      "outputs": [],
      "source": [
        "%ls"
      ]
    },
    {
      "cell_type": "code",
      "execution_count": null,
      "metadata": {
        "id": "1vyg4HrFLfVJ"
      },
      "outputs": [],
      "source": [
        "#需滿18歲要加cookies\n",
        "import requests\n",
        "\n",
        "def fetch(url):\n",
        "    response = requests.get(url)\n",
        "    response = requests.get(url, cookies={'over18': '1'})  # 一直向 server 回答滿 18 歲了 !\n",
        "    return response\n",
        "\n",
        "url = 'https://www.ptt.cc/bbs/Gossiping/index.html'\n",
        "resp = fetch(url)  # step-1\n",
        "\n",
        "print(resp.text) # result of setp-1"
      ]
    },
    {
      "cell_type": "markdown",
      "metadata": {
        "id": "lDF2XVSvNs_4"
      },
      "source": [
        "- 更多可參考[爬蟲教學 CrawlerTutorial](https://github.com/leVirve/CrawlerTutorial)"
      ]
    },
    {
      "cell_type": "markdown",
      "metadata": {
        "id": "sdsBCb4BkOkK"
      },
      "source": [
        "### 以wiki亞洲國家資訊為例"
      ]
    },
    {
      "cell_type": "markdown",
      "metadata": {
        "id": "rINKbz4-kXl8"
      },
      "source": [
        "- 參考來源[Web Scraping Wikipedia Tables using BeautifulSoup and Python](https://medium.com/analytics-vidhya/web-scraping-wiki-tables-using-beautifulsoup-and-python-6b9ea26d8722)"
      ]
    },
    {
      "cell_type": "code",
      "execution_count": null,
      "metadata": {
        "id": "MwJK3gS2kpmJ"
      },
      "outputs": [],
      "source": [
        "import requests\n",
        "\n",
        "url='https://en.wikipedia.org/wiki/List_of_Asian_countries_by_area'\n",
        "website_url = requests.get(url).text\n",
        "\n",
        "from bs4 import BeautifulSoup\n",
        "soup = BeautifulSoup(website_url,'lxml')\n",
        "print(soup.prettify()[:500])"
      ]
    },
    {
      "cell_type": "markdown",
      "metadata": {
        "id": "ysX4Mq1JlKTT"
      },
      "source": [
        "![](https://miro.medium.com/max/740/1*NyaaGqqHnemKSWu8DQqUHQ.png)"
      ]
    },
    {
      "cell_type": "code",
      "execution_count": null,
      "metadata": {
        "id": "ELYuAc4plPCN"
      },
      "outputs": [],
      "source": [
        "My_table = soup.find(\"table\",{\"class\":\"wikitable sortable\"})\n",
        "My_table"
      ]
    },
    {
      "cell_type": "code",
      "execution_count": null,
      "metadata": {
        "id": "vPKOb288lhI1"
      },
      "outputs": [],
      "source": [
        "links = My_table.findAll('a')\n",
        "links"
      ]
    },
    {
      "cell_type": "code",
      "execution_count": null,
      "metadata": {
        "id": "m7n_vzVClthW"
      },
      "outputs": [],
      "source": [
        "country = [\n",
        "        link.get('title')\n",
        "        for link in links\n",
        "        if link.get('title') != None\n",
        "        ]"
      ]
    },
    {
      "cell_type": "code",
      "execution_count": null,
      "metadata": {
        "id": "iRTNH6y_JAOy"
      },
      "outputs": [],
      "source": [
        "country"
      ]
    },
    {
      "cell_type": "code",
      "execution_count": null,
      "metadata": {
        "id": "sn8E6Dc4shNy"
      },
      "outputs": [],
      "source": [
        "country=[]\n",
        "for link in links:\n",
        "  if link.get(\"title\") != None:\n",
        "    country.append(link.get(\"title\"))\n",
        "\n",
        "country"
      ]
    },
    {
      "cell_type": "code",
      "execution_count": null,
      "metadata": {
        "id": "5QaTp8NcmdGZ"
      },
      "outputs": [],
      "source": [
        "import pandas as pd\n",
        "\n",
        "df = pd.DataFrame()\n",
        "df['Country'] = country\n",
        "df"
      ]
    },
    {
      "cell_type": "code",
      "execution_count": null,
      "metadata": {
        "id": "0Hdt3qwunW_g"
      },
      "outputs": [],
      "source": [
        "df = df.sort_values(by=\"Country\").reset_index(drop = True)\n",
        "df"
      ]
    },
    {
      "cell_type": "markdown",
      "metadata": {
        "id": "vnv7fzVMaPCz"
      },
      "source": [
        "# 練習"
      ]
    },
    {
      "cell_type": "markdown",
      "metadata": {
        "id": "Ta5rh-Up1vQe"
      },
      "source": [
        "##  練習1"
      ]
    },
    {
      "cell_type": "markdown",
      "metadata": {
        "id": "E76LBd6BaSRE"
      },
      "source": [
        "- 試著看懂並執行、拆解以下程式\n",
        "- 程式來源https://github.com/jwlin/web-crawler-tutorial/blob/master/ch3/ptt_gossiping.py"
      ]
    },
    {
      "cell_type": "code",
      "execution_count": null,
      "metadata": {
        "id": "8HJHhY5qaJtf"
      },
      "outputs": [],
      "source": [
        "import requests\n",
        "import time\n",
        "import json\n",
        "from bs4 import BeautifulSoup\n",
        "\n",
        "\n",
        "PTT_URL = 'https://www.ptt.cc'\n",
        "\n",
        "\n",
        "def get_web_page(url):\n",
        "  resp = requests.get(\n",
        "    url=url,\n",
        "    cookies={'over18': '1'}\n",
        "  )\n",
        "  if resp.status_code != 200:\n",
        "    print(f'Invalid url: {resp.url}')\n",
        "    return None\n",
        "  else:\n",
        "    return resp.text\n",
        "\n",
        "\n",
        "def get_articles(dom, date):\n",
        "  soup = BeautifulSoup(dom, 'html5lib')\n",
        "  # 取得上一頁的連結\n",
        "  paging_div = soup.find('div', 'btn-group btn-group-paging')\n",
        "  prev_url = paging_div.find_all('a')[1]['href']\n",
        "  articles = []  # 儲存取得的文章資料\n",
        "  divs = soup.find_all('div', 'r-ent')\n",
        "  for d in divs:\n",
        "    if d.find('div', 'date').text.strip() == date:  # 發文日期正確\n",
        "      # 取得推文數\n",
        "      push_count = 0\n",
        "      push_str = d.find('div', 'nrec').text\n",
        "      if push_str:\n",
        "        try:\n",
        "          push_count = int(push_str)  # 轉換字串為數字\n",
        "        except ValueError:\n",
        "          # 若轉換失敗，可能是'爆'或 'X1', 'X2', ...\n",
        "          # 若不是, 不做任何事，push_count 保持為 0\n",
        "          if push_str == '爆':\n",
        "            push_count = 99\n",
        "          elif push_str.startswith('X'):\n",
        "            push_count = -10\n",
        "        # 取得文章連結及標題\n",
        "        if d.find('a'):  # 有超連結，表示文章存在，未被刪除\n",
        "          href = d.find('a')['href']\n",
        "          title = d.find('a').text\n",
        "          author = ''  # author = d.find('div', 'author').text if d.find('div', 'author') else ''\n",
        "          articles.append({\n",
        "            'title': title,\n",
        "            'href': href,\n",
        "            'push_count': push_count,\n",
        "            'author': author\n",
        "          })\n",
        "          # [ {'title': __, 'href:__'}, ]\n",
        "  return articles, prev_url\n",
        "\n",
        "\n",
        "def get_author_ids(posts, pattern):\n",
        "  ids = set()\n",
        "  for post in posts:\n",
        "    if pattern in post['author']:\n",
        "      ids.add(post['author'])\n",
        "  return ids\n",
        "\n",
        "if __name__ == '__main__':\n",
        "  current_page = get_web_page(PTT_URL + '/bbs/Gossiping/index.html')\n",
        "  if current_page:\n",
        "    articles = []  # 全部的今日文章\n",
        "    today = time.strftime(\"%m/%d\").lstrip('0')  # 今天日期, 去掉開頭的 '0' 以符合 PTT 網站格式\n",
        "    current_articles, prev_url = get_articles(current_page, today)  # 目前頁面的今日文章\n",
        "    while current_articles:  # 若目前頁面有今日文章則加入 articles，並回到上一頁繼續尋找是否有今日文章\n",
        "      articles += current_articles\n",
        "      current_page = get_web_page(PTT_URL + prev_url)\n",
        "      current_articles, prev_url = get_articles(current_page, today)\n",
        "    # 印出所有不同的 5566 id\n",
        "    # print(get_author_ids(articles, '5566'))\n",
        "    # 儲存或處理文章資訊\n",
        "    print(f'今天有{len(articles)}篇文章')\n",
        "    threshold = 50\n",
        "    print(f'熱門文章(>{threshold}推):')\n",
        "    for a in articles:\n",
        "      if int(a['push_count']) > threshold:\n",
        "        print(a)\n",
        "    with open('gossiping.json', 'w', encoding='utf-8') as f:\n",
        "      json.dump(articles, f, indent=2, sort_keys=True, ensure_ascii=False)"
      ]
    },
    {
      "cell_type": "markdown",
      "metadata": {
        "id": "rgZmPsh9zZlN"
      },
      "source": [
        "## 練習2\n"
      ]
    },
    {
      "cell_type": "markdown",
      "metadata": {
        "id": "w3GT1nsfzhEy"
      },
      "source": [
        "- 擷取並parse「批批踢JOKE版的一篇文章」\n",
        "- 請依下列步驟練習：\n",
        "    - 以GET方法將網頁https://www.ptt.cc/bbs/joke/M.1571755669.A.663.html 原始碼讀入\n",
        "    - 依照上述步驟parse出推文內容及推文者\n",
        "    - 透過for迴圈，整齊印出"
      ]
    }
  ],
  "metadata": {
    "colab": {
      "collapsed_sections": [
        "0bxcSKyjgZtB",
        "1cetpFdf0LVF",
        "dYrMNwEeAvvx",
        "sbc61gdWJ6n1",
        "yIGVirc5JscG",
        "7P_uTgisJzKX",
        "nmhi4-huOaY-",
        "iodaXDy83xtV",
        "7bIWlzMJd_PJ",
        "S86BgvqY0Src",
        "uxl9C3YOIMGq",
        "qP1zGwhwiS7K",
        "Bgtv3fFn6AD2",
        "kGUUCPFfm_ZV",
        "lX0Q_MEdepVA",
        "4aLRQSw9HuZ0",
        "PbkO2Q-K9QCi",
        "bhyq1jQH_Hzm",
        "tMcBImeQIiDh",
        "RrUdffk-pK7M",
        "sdsBCb4BkOkK",
        "vnv7fzVMaPCz",
        "Ta5rh-Up1vQe",
        "wyXAXDIN1MBI",
        "rgZmPsh9zZlN"
      ],
      "provenance": []
    },
    "kernelspec": {
      "display_name": "Python 3",
      "name": "python3"
    }
  },
  "nbformat": 4,
  "nbformat_minor": 0
}