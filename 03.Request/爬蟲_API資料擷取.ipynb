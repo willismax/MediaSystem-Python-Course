{
  "nbformat": 4,
  "nbformat_minor": 0,
  "metadata": {
    "colab": {
      "provenance": [],
      "collapsed_sections": [
        "oKpQHK3uJcmX"
      ],
      "include_colab_link": true
    },
    "kernelspec": {
      "name": "python3",
      "display_name": "Python 3"
    }
  },
  "cells": [
    {
      "cell_type": "markdown",
      "metadata": {
        "id": "view-in-github",
        "colab_type": "text"
      },
      "source": [
        "<a href=\"https://colab.research.google.com/github/willismax/MediaSystem-Python-Course/blob/main/03.Request/%E7%88%AC%E8%9F%B2_API%E8%B3%87%E6%96%99%E6%93%B7%E5%8F%96.ipynb\" target=\"_parent\"><img src=\"https://colab.research.google.com/assets/colab-badge.svg\" alt=\"Open In Colab\"/></a>"
      ]
    },
    {
      "cell_type": "markdown",
      "metadata": {
        "id": "oKpQHK3uJcmX"
      },
      "source": [
        "# 全球即時匯率產生器\n",
        "匯率資料來源:https://tw.rter.info/howto_currencyapi.php#\n"
      ]
    },
    {
      "cell_type": "markdown",
      "source": [
        "![image.png](https://hackmd.io/_uploads/r1-Uc317p.png)"
      ],
      "metadata": {
        "id": "qvBy_dQBs_rI"
      }
    },
    {
      "cell_type": "code",
      "source": [
        "import requests\n",
        "r = requests.get('https://tw.rter.info/capi.php')\n",
        "currency = r.json()"
      ],
      "metadata": {
        "id": "p6G8UdqTh07x"
      },
      "execution_count": null,
      "outputs": []
    },
    {
      "cell_type": "code",
      "metadata": {
        "id": "9uw70lymtpy5"
      },
      "source": [
        "type(currency)"
      ],
      "execution_count": null,
      "outputs": []
    },
    {
      "cell_type": "code",
      "source": [
        "currency"
      ],
      "metadata": {
        "id": "ZdS5_SiEisqZ"
      },
      "execution_count": null,
      "outputs": []
    },
    {
      "cell_type": "code",
      "metadata": {
        "id": "0LlVjLUtJNlI"
      },
      "source": [
        "currency['USDTWD']"
      ],
      "execution_count": null,
      "outputs": []
    },
    {
      "cell_type": "code",
      "metadata": {
        "id": "nfN3TaTztTYV"
      },
      "source": [
        "usd_to_twd = currency['USDTWD']['Exrate']\n",
        "usd_to_twd"
      ],
      "execution_count": null,
      "outputs": []
    },
    {
      "cell_type": "code",
      "metadata": {
        "id": "K-cMfKmpu5Vz"
      },
      "source": [
        "currency_time = currency['USDTWD']['UTC']\n",
        "currency_time"
      ],
      "execution_count": null,
      "outputs": []
    },
    {
      "cell_type": "code",
      "metadata": {
        "id": "6c6UtuqkSVxG"
      },
      "source": [
        "print(f'美元 USD 對台幣 TWD：1:{usd_to_twd},更新時間：{currency_time}')"
      ],
      "execution_count": null,
      "outputs": []
    },
    {
      "cell_type": "code",
      "source": [
        "# 完整範例\n",
        "import requests\n",
        "\n",
        "response = requests.get('https://tw.rter.info/capi.php')\n",
        "currency = response.json()\n",
        "\n",
        "usd_to_twd = currency['USDTWD']['Exrate']\n",
        "currency_time = currency['USDTWD']['UTC']\n",
        "print(f'美元 USD 對台幣 TWD：1:{usd_to_twd},更新時間：{currency_time}')"
      ],
      "metadata": {
        "id": "PTawfvlwJEnX"
      },
      "execution_count": null,
      "outputs": []
    },
    {
      "cell_type": "markdown",
      "metadata": {
        "id": "JkFJhIF9MHvj"
      },
      "source": [
        "# 顯著有感地震報告\n",
        "https://data.gov.tw/dataset/6068"
      ]
    },
    {
      "cell_type": "markdown",
      "source": [
        "![image.png](https://hackmd.io/_uploads/ryFionJmT.png)"
      ],
      "metadata": {
        "id": "oEoSOcZAuR8I"
      }
    },
    {
      "cell_type": "code",
      "metadata": {
        "id": "fIZUNjzcMRjm"
      },
      "source": [
        "import requests\n",
        "url = 'https://opendata.cwb.gov.tw/api/v1/rest/datastore/E-A0015-001?Authorization=rdec-key-123-45678-011121314'\n",
        "r = requests.get(url)\n",
        "earthquake = r.json()"
      ],
      "execution_count": null,
      "outputs": []
    },
    {
      "cell_type": "code",
      "metadata": {
        "id": "sizwe7O8MqmL"
      },
      "source": [
        "earthquake"
      ],
      "execution_count": null,
      "outputs": []
    },
    {
      "cell_type": "code",
      "metadata": {
        "id": "JPg4d0e-o1GW",
        "colab": {
          "base_uri": "https://localhost:8080/",
          "height": 36
        },
        "outputId": "2443d064-b340-4e98-a983-36c31e260a79"
      },
      "source": [
        "earthquake['records']['Earthquake'][0]['ReportContent']"
      ],
      "execution_count": null,
      "outputs": [
        {
          "output_type": "execute_result",
          "data": {
            "text/plain": [
              "'10/31-20:33臺灣東部海域發生規模4.7有感地震，最大震度臺東縣長濱3級。'"
            ],
            "application/vnd.google.colaboratory.intrinsic+json": {
              "type": "string"
            }
          },
          "metadata": {},
          "execution_count": 19
        }
      ]
    },
    {
      "cell_type": "markdown",
      "metadata": {
        "id": "yBlKg2y3N_8F"
      },
      "source": [
        "氣象局網站看板\n",
        "https://scweb.cwa.gov.tw/"
      ]
    },
    {
      "cell_type": "markdown",
      "metadata": {
        "id": "1q7imLaZ8HLR"
      },
      "source": [
        "# 建立 LINE Notify 訊息推播通知"
      ]
    },
    {
      "cell_type": "markdown",
      "source": [
        "![image.png](https://hackmd.io/_uploads/Sk8V23k76.png)"
      ],
      "metadata": {
        "id": "3mKDwU7Yuz5y"
      }
    },
    {
      "cell_type": "markdown",
      "metadata": {
        "id": "4Le68Ewt8JoZ"
      },
      "source": [
        "\n",
        "- 取得權杖 https://notify-bot.line.me/my/\n",
        "- [API Doc](https://notify-bot.line.me/doc/en/)\n",
        "- [Line Sticker List](https://developers.line.biz/en/docs/messaging-api/sticker-list/)\n",
        "\n",
        "    ```\n",
        "    request.post(url, header, params)\n",
        "    ```"
      ]
    },
    {
      "cell_type": "code",
      "metadata": {
        "id": "h80XHmvy77x9"
      },
      "source": [
        "#基本功能測試\n",
        "import requests\n",
        "\n",
        "def lineNotifyMessage(token, msg):\n",
        "    \"\"\"LINE Notify 訊息通知\n",
        "    Args:\n",
        "      token: 至Notify取得專屬權杖\n",
        "      msg: 輸入文字\n",
        "    \"\"\"\n",
        "    headers = {\n",
        "        \"Authorization\": f\"Bearer {token}\",\n",
        "        \"Content-Type\": \"application/x-www-form-urlencoded\"}\n",
        "    payload = {\n",
        "        'message': msg}\n",
        "    r = requests.post(\n",
        "        \"https://notify-api.line.me/api/notify\",\n",
        "        headers = headers,\n",
        "        params = payload)\n",
        "    return r.status_code\n",
        "\n",
        "\n",
        "if __name__ == \"__main__\":\n",
        "  token =  'tBgyVsheKccCmgPNqS9C7KasnNumAYTmyJYahLLwfPO'  #'你的權杖內容'\n",
        "  message = '早安鳩咪'\n",
        "  lineNotifyMessage(token, message)"
      ],
      "execution_count": null,
      "outputs": []
    },
    {
      "cell_type": "code",
      "source": [
        "#基本功能測試(同上)\n",
        "import requests\n",
        "\n",
        "def lineNotifyMessage(token, msg):\n",
        "    \"\"\"LINE Notify 訊息通知\n",
        "    Args:\n",
        "      token: 至Notify取得專屬權杖\n",
        "      msg: 輸入文字\n",
        "    \"\"\"\n",
        "    r = requests.post(\n",
        "        \"https://notify-api.line.me/api/notify\",\n",
        "        headers = {\n",
        "            \"Authorization\": f\"Bearer {token}\",\n",
        "            \"Content-Type\": \"application/x-www-form-urlencoded\"},\n",
        "        params = {\n",
        "            'message': msg}\n",
        "        )\n",
        "    return r.status_code\n",
        "\n",
        "\n",
        "if __name__ == \"__main__\":\n",
        "  token = '你的權杖內容'\n",
        "  message = '基本功能測試'\n",
        "  lineNotifyMessage(token, message)"
      ],
      "metadata": {
        "id": "kbdCPtjsSQpK"
      },
      "execution_count": null,
      "outputs": []
    },
    {
      "cell_type": "markdown",
      "metadata": {
        "id": "YnBLn-GuQfWN"
      },
      "source": [
        "# 個股日成交資訊\n",
        "https://data.gov.tw/dataset/11549"
      ]
    },
    {
      "cell_type": "markdown",
      "source": [
        "![image.png](https://hackmd.io/_uploads/S1NBfTJmT.png)"
      ],
      "metadata": {
        "id": "j1C5CSa40uB8"
      }
    },
    {
      "cell_type": "code",
      "metadata": {
        "id": "2asGKZ9yQfxr"
      },
      "source": [
        "import csv\n",
        "import requests\n",
        "\n",
        "CSV_URL = 'http://www.twse.com.tw/exchangeReport/STOCK_DAY_ALL?response=open_data'\n",
        "\n",
        "\n",
        "with requests.Session() as s:\n",
        "  download = s.get(CSV_URL)\n",
        "  content = download.content.decode('utf-8').splitlines()\n",
        "  cr = csv.reader(content, delimiter=',')\n",
        "  my_list = list(cr)\n",
        "  for row in my_list:\n",
        "    print(row)"
      ],
      "execution_count": null,
      "outputs": []
    },
    {
      "cell_type": "code",
      "source": [
        "my_list"
      ],
      "metadata": {
        "id": "M30iMiqpqeJQ"
      },
      "execution_count": null,
      "outputs": []
    },
    {
      "cell_type": "code",
      "metadata": {
        "id": "7cXf-ucpS-uO"
      },
      "source": [
        "import pandas as pd\n",
        "df = pd.read_csv(CSV_URL)\n",
        "df"
      ],
      "execution_count": null,
      "outputs": []
    },
    {
      "cell_type": "code",
      "metadata": {
        "id": "gutFHVr_CZ45"
      },
      "source": [
        "df['證券代號']=='0050'"
      ],
      "execution_count": null,
      "outputs": []
    },
    {
      "cell_type": "code",
      "metadata": {
        "id": "uAT1W-Uc_qRg"
      },
      "source": [
        "df[df['證券代號']=='2330']['證券名稱']"
      ],
      "execution_count": null,
      "outputs": []
    },
    {
      "cell_type": "code",
      "source": [
        "df[df['證券名稱']=='台積電']"
      ],
      "metadata": {
        "id": "kZOvg2m91KLj"
      },
      "execution_count": null,
      "outputs": []
    },
    {
      "cell_type": "code",
      "metadata": {
        "id": "3XRIohhxTnna"
      },
      "source": [
        "import requests\n",
        "# https://data.gov.tw/dataset/40448\n",
        "r = requests.get('https://data.moenv.gov.tw/api/v2/aqx_p_432?api_key=e8dd42e6-9b8b-43f8-991e-b3dee723a52d&limit=1000&sort=ImportDate%20desc&format=JSON')\n",
        "res = r.json()"
      ],
      "execution_count": null,
      "outputs": []
    },
    {
      "cell_type": "code",
      "metadata": {
        "id": "ttJPUyfo7o4m"
      },
      "source": [
        "res"
      ],
      "execution_count": null,
      "outputs": []
    },
    {
      "cell_type": "markdown",
      "source": [
        "# Get 資料"
      ],
      "metadata": {
        "id": "4LmhhgAmwuA6"
      }
    },
    {
      "cell_type": "markdown",
      "source": [
        "![image.png](https://hackmd.io/_uploads/H1Tkh61mp.png)\n"
      ],
      "metadata": {
        "id": "d9DGIGex-Feu"
      }
    },
    {
      "cell_type": "code",
      "source": [
        "params = {'key1': 'value1', 'key2': 'value2'}\n",
        "r = requests.get('http://httpbin.org/get', params=params)\n",
        "print(r.url)"
      ],
      "metadata": {
        "id": "I-yWbbXQw538"
      },
      "execution_count": null,
      "outputs": []
    },
    {
      "cell_type": "code",
      "source": [
        "import requests\n",
        "\n",
        "payload = {\"api\":\"1\", \"map_action\":\"map\", \"zoom\":\"16\", \"query\":\"24.149660,120.684166\"}\n",
        "\n",
        "r = requests.get('https://www.google.com/maps/search/', params=payload)\n",
        "\n",
        "print(r.url)"
      ],
      "metadata": {
        "id": "45FTZfSzw30c",
        "colab": {
          "base_uri": "https://localhost:8080/"
        },
        "outputId": "74de6c5d-8dd9-45de-9f41-9fcac31fc1d5"
      },
      "execution_count": 36,
      "outputs": [
        {
          "output_type": "stream",
          "name": "stdout",
          "text": [
            "https://www.google.com/maps/search/?api=1&map_action=map&zoom=16&query=24.149660%2C120.684166\n"
          ]
        }
      ]
    }
  ]
}