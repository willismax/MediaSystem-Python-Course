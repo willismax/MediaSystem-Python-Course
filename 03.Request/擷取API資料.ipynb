{
  "cells": [
    {
      "cell_type": "markdown",
      "metadata": {
        "id": "view-in-github",
        "colab_type": "text"
      },
      "source": [
        "<a href=\"https://colab.research.google.com/github/willismax/MediaSystem-Python-Course/blob/main/03.Request/%E6%93%B7%E5%8F%96API%E8%B3%87%E6%96%99.ipynb\" target=\"_parent\"><img src=\"https://colab.research.google.com/assets/colab-badge.svg\" alt=\"Open In Colab\"/></a>"
      ]
    },
    {
      "cell_type": "markdown",
      "metadata": {
        "id": "oKpQHK3uJcmX"
      },
      "source": [
        "## 全球即時匯率產生器\n",
        "匯率資料來源:https://tw.rter.info/howto_currencyapi.php#\n"
      ]
    },
    {
      "cell_type": "markdown",
      "metadata": {
        "id": "qvBy_dQBs_rI"
      },
      "source": [
        "![image.png](https://hackmd.io/_uploads/r1-Uc317p.png)"
      ]
    },
    {
      "cell_type": "code",
      "execution_count": 1,
      "metadata": {
        "id": "p6G8UdqTh07x"
      },
      "outputs": [],
      "source": [
        "import requests\n",
        "r = requests.get('https://tw.rter.info/capi.php')\n",
        "currency = r.json()"
      ]
    },
    {
      "cell_type": "code",
      "execution_count": 2,
      "metadata": {
        "id": "9uw70lymtpy5",
        "outputId": "a480ba48-551c-4f29-cfe4-3617ac13f02d",
        "colab": {
          "base_uri": "https://localhost:8080/"
        }
      },
      "outputs": [
        {
          "output_type": "execute_result",
          "data": {
            "text/plain": [
              "dict"
            ]
          },
          "metadata": {},
          "execution_count": 2
        }
      ],
      "source": [
        "type(currency)"
      ]
    },
    {
      "cell_type": "code",
      "execution_count": null,
      "metadata": {
        "id": "ZdS5_SiEisqZ"
      },
      "outputs": [],
      "source": [
        "currency"
      ]
    },
    {
      "cell_type": "code",
      "execution_count": 4,
      "metadata": {
        "id": "0LlVjLUtJNlI",
        "outputId": "ff5768f1-90bf-4849-ffe5-d68819a1ef6c",
        "colab": {
          "base_uri": "https://localhost:8080/"
        }
      },
      "outputs": [
        {
          "output_type": "execute_result",
          "data": {
            "text/plain": [
              "{'Exrate': 29.588, 'UTC': '2025-06-22 04:00:21'}"
            ]
          },
          "metadata": {},
          "execution_count": 4
        }
      ],
      "source": [
        "currency['USDTWD']"
      ]
    },
    {
      "cell_type": "code",
      "execution_count": 5,
      "metadata": {
        "id": "nfN3TaTztTYV",
        "outputId": "ef517bed-bd8e-4619-c92a-c7677ce1bfcc",
        "colab": {
          "base_uri": "https://localhost:8080/"
        }
      },
      "outputs": [
        {
          "output_type": "execute_result",
          "data": {
            "text/plain": [
              "29.588"
            ]
          },
          "metadata": {},
          "execution_count": 5
        }
      ],
      "source": [
        "usd_to_twd = currency['USDTWD']['Exrate']\n",
        "usd_to_twd"
      ]
    },
    {
      "cell_type": "code",
      "execution_count": 6,
      "metadata": {
        "id": "K-cMfKmpu5Vz",
        "outputId": "c84a2e5b-255c-490c-bb50-fda902ba6185",
        "colab": {
          "base_uri": "https://localhost:8080/",
          "height": 36
        }
      },
      "outputs": [
        {
          "output_type": "execute_result",
          "data": {
            "text/plain": [
              "'2025-06-22 04:00:21'"
            ],
            "application/vnd.google.colaboratory.intrinsic+json": {
              "type": "string"
            }
          },
          "metadata": {},
          "execution_count": 6
        }
      ],
      "source": [
        "currency_time = currency['USDTWD']['UTC']\n",
        "currency_time"
      ]
    },
    {
      "cell_type": "code",
      "execution_count": 7,
      "metadata": {
        "id": "6c6UtuqkSVxG",
        "outputId": "f94e135b-f9e4-4d46-e119-934324f71676",
        "colab": {
          "base_uri": "https://localhost:8080/"
        }
      },
      "outputs": [
        {
          "output_type": "stream",
          "name": "stdout",
          "text": [
            "美元 USD 對台幣 TWD：1:29.588,更新時間：2025-06-22 04:00:21\n"
          ]
        }
      ],
      "source": [
        "print(f'美元 USD 對台幣 TWD：1:{usd_to_twd},更新時間：{currency_time}')"
      ]
    },
    {
      "cell_type": "code",
      "execution_count": 8,
      "metadata": {
        "id": "PTawfvlwJEnX",
        "outputId": "99799c8d-08c1-46af-a6cf-b4de2f71122e",
        "colab": {
          "base_uri": "https://localhost:8080/"
        }
      },
      "outputs": [
        {
          "output_type": "stream",
          "name": "stdout",
          "text": [
            "美元 USD 對台幣 TWD：1:29.588,更新時間：2025-06-22 04:00:21\n"
          ]
        }
      ],
      "source": [
        "# 完整範例\n",
        "import requests\n",
        "\n",
        "response = requests.get('https://tw.rter.info/capi.php')\n",
        "currency = response.json()\n",
        "\n",
        "usd_to_twd = currency['USDTWD']['Exrate']\n",
        "currency_time = currency['USDTWD']['UTC']\n",
        "print(f'美元 USD 對台幣 TWD：1:{usd_to_twd},更新時間：{currency_time}')"
      ]
    },
    {
      "cell_type": "markdown",
      "metadata": {
        "id": "JkFJhIF9MHvj"
      },
      "source": [
        "## 顯著有感地震報告\n",
        "https://data.gov.tw/dataset/6068"
      ]
    },
    {
      "cell_type": "markdown",
      "metadata": {
        "id": "oEoSOcZAuR8I"
      },
      "source": [
        "![image.png](https://hackmd.io/_uploads/ryFionJmT.png)"
      ]
    },
    {
      "cell_type": "code",
      "execution_count": 9,
      "metadata": {
        "id": "fIZUNjzcMRjm"
      },
      "outputs": [],
      "source": [
        "import requests\n",
        "url = 'https://opendata.cwa.gov.tw/api/v1/rest/datastore/E-A0015-002?Authorization=rdec-key-123-45678-011121314'\n",
        "r = requests.get(url)\n",
        "earthquake = r.json()\n"
      ]
    },
    {
      "cell_type": "code",
      "execution_count": null,
      "metadata": {
        "id": "sizwe7O8MqmL"
      },
      "outputs": [],
      "source": [
        "earthquake"
      ]
    },
    {
      "cell_type": "markdown",
      "source": [
        "https://jsoncrack.com/editor\n",
        "![image](https://hackmd.io/_uploads/r1ZTsdiGyx.png)\n"
      ],
      "metadata": {
        "id": "AzKDr9M1H7Sd"
      }
    },
    {
      "cell_type": "code",
      "execution_count": 11,
      "metadata": {
        "id": "JPg4d0e-o1GW",
        "outputId": "a006cae6-a8e4-4e41-d698-5d69093d1030",
        "colab": {
          "base_uri": "https://localhost:8080/",
          "height": 36
        }
      },
      "outputs": [
        {
          "output_type": "execute_result",
          "data": {
            "text/plain": [
              "'Magnitude 4.2 earthquake occurred at 06/15-05:07 in Taiwan. Epicenter was about 64.1 km SSW of Hualien County Hall. Highest intensity was 4 around Hualien County.'"
            ],
            "application/vnd.google.colaboratory.intrinsic+json": {
              "type": "string"
            }
          },
          "metadata": {},
          "execution_count": 11
        }
      ],
      "source": [
        "earthquake['records']['Earthquake'][0]['ReportContent']"
      ]
    },
    {
      "cell_type": "markdown",
      "metadata": {
        "id": "yBlKg2y3N_8F"
      },
      "source": [
        "氣象局網站看板\n",
        "https://scweb.cwa.gov.tw/"
      ]
    },
    {
      "cell_type": "markdown",
      "metadata": {
        "id": "YnBLn-GuQfWN"
      },
      "source": [
        "## 個股日成交資訊\n",
        "https://data.gov.tw/dataset/11549"
      ]
    },
    {
      "cell_type": "markdown",
      "metadata": {
        "id": "j1C5CSa40uB8"
      },
      "source": [
        "![image.png](https://hackmd.io/_uploads/S1NBfTJmT.png)"
      ]
    },
    {
      "cell_type": "markdown",
      "source": [
        "- 如果有檔案為CSV，用Pandas會比用Requests更通用。"
      ],
      "metadata": {
        "id": "HoLjOBNSlW4P"
      }
    },
    {
      "cell_type": "code",
      "execution_count": null,
      "metadata": {
        "id": "2asGKZ9yQfxr"
      },
      "outputs": [],
      "source": [
        "import csv\n",
        "import requests\n",
        "\n",
        "CSV_URL = 'http://www.twse.com.tw/exchangeReport/STOCK_DAY_ALL?response=open_data'\n",
        "\n",
        "\n",
        "with requests.Session() as s:\n",
        "  download = s.get(CSV_URL)\n",
        "  content = download.content.decode('utf-8').splitlines()\n",
        "  cr = csv.reader(content, delimiter=',')\n",
        "  my_list = list(cr)\n",
        "  for row in my_list:\n",
        "    print(row)"
      ]
    },
    {
      "cell_type": "code",
      "execution_count": null,
      "metadata": {
        "id": "M30iMiqpqeJQ"
      },
      "outputs": [],
      "source": [
        "my_list"
      ]
    },
    {
      "cell_type": "code",
      "execution_count": null,
      "metadata": {
        "id": "7cXf-ucpS-uO"
      },
      "outputs": [],
      "source": [
        "import pandas as pd\n",
        "df = pd.read_csv(CSV_URL)\n",
        "df.head()"
      ]
    },
    {
      "cell_type": "code",
      "execution_count": null,
      "metadata": {
        "id": "gutFHVr_CZ45"
      },
      "outputs": [],
      "source": [
        "df['證券代號']=='0050'"
      ]
    },
    {
      "cell_type": "code",
      "execution_count": 16,
      "metadata": {
        "id": "uAT1W-Uc_qRg",
        "outputId": "c8c6f9a5-3297-4744-a7ba-00f84995d724",
        "colab": {
          "base_uri": "https://localhost:8080/",
          "height": 115
        }
      },
      "outputs": [
        {
          "output_type": "execute_result",
          "data": {
            "text/plain": [
              "496    台積電\n",
              "Name: 證券名稱, dtype: object"
            ],
            "text/html": [
              "<div>\n",
              "<style scoped>\n",
              "    .dataframe tbody tr th:only-of-type {\n",
              "        vertical-align: middle;\n",
              "    }\n",
              "\n",
              "    .dataframe tbody tr th {\n",
              "        vertical-align: top;\n",
              "    }\n",
              "\n",
              "    .dataframe thead th {\n",
              "        text-align: right;\n",
              "    }\n",
              "</style>\n",
              "<table border=\"1\" class=\"dataframe\">\n",
              "  <thead>\n",
              "    <tr style=\"text-align: right;\">\n",
              "      <th></th>\n",
              "      <th>證券名稱</th>\n",
              "    </tr>\n",
              "  </thead>\n",
              "  <tbody>\n",
              "    <tr>\n",
              "      <th>496</th>\n",
              "      <td>台積電</td>\n",
              "    </tr>\n",
              "  </tbody>\n",
              "</table>\n",
              "</div><br><label><b>dtype:</b> object</label>"
            ]
          },
          "metadata": {},
          "execution_count": 16
        }
      ],
      "source": [
        "df[df['證券代號']=='2330']['證券名稱']"
      ]
    },
    {
      "cell_type": "code",
      "execution_count": 17,
      "metadata": {
        "id": "kZOvg2m91KLj",
        "outputId": "7b5f4a9f-e411-42e8-a2fd-262597399981",
        "colab": {
          "base_uri": "https://localhost:8080/",
          "height": 81
        }
      },
      "outputs": [
        {
          "output_type": "execute_result",
          "data": {
            "text/plain": [
              "          日期  證券代號 證券名稱        成交股數          成交金額     開盤價     最高價     最低價  \\\n",
              "496  1140620  2330  台積電  67241164.0  7.046169e+10  1030.0  1055.0  1025.0   \n",
              "\n",
              "        收盤價  漲跌價差     成交筆數  \n",
              "496  1055.0  20.0  33114.0  "
            ],
            "text/html": [
              "\n",
              "  <div id=\"df-66ad103a-146d-4f3d-9c23-8b467916164f\" class=\"colab-df-container\">\n",
              "    <div>\n",
              "<style scoped>\n",
              "    .dataframe tbody tr th:only-of-type {\n",
              "        vertical-align: middle;\n",
              "    }\n",
              "\n",
              "    .dataframe tbody tr th {\n",
              "        vertical-align: top;\n",
              "    }\n",
              "\n",
              "    .dataframe thead th {\n",
              "        text-align: right;\n",
              "    }\n",
              "</style>\n",
              "<table border=\"1\" class=\"dataframe\">\n",
              "  <thead>\n",
              "    <tr style=\"text-align: right;\">\n",
              "      <th></th>\n",
              "      <th>日期</th>\n",
              "      <th>證券代號</th>\n",
              "      <th>證券名稱</th>\n",
              "      <th>成交股數</th>\n",
              "      <th>成交金額</th>\n",
              "      <th>開盤價</th>\n",
              "      <th>最高價</th>\n",
              "      <th>最低價</th>\n",
              "      <th>收盤價</th>\n",
              "      <th>漲跌價差</th>\n",
              "      <th>成交筆數</th>\n",
              "    </tr>\n",
              "  </thead>\n",
              "  <tbody>\n",
              "    <tr>\n",
              "      <th>496</th>\n",
              "      <td>1140620</td>\n",
              "      <td>2330</td>\n",
              "      <td>台積電</td>\n",
              "      <td>67241164.0</td>\n",
              "      <td>7.046169e+10</td>\n",
              "      <td>1030.0</td>\n",
              "      <td>1055.0</td>\n",
              "      <td>1025.0</td>\n",
              "      <td>1055.0</td>\n",
              "      <td>20.0</td>\n",
              "      <td>33114.0</td>\n",
              "    </tr>\n",
              "  </tbody>\n",
              "</table>\n",
              "</div>\n",
              "    <div class=\"colab-df-buttons\">\n",
              "\n",
              "  <div class=\"colab-df-container\">\n",
              "    <button class=\"colab-df-convert\" onclick=\"convertToInteractive('df-66ad103a-146d-4f3d-9c23-8b467916164f')\"\n",
              "            title=\"Convert this dataframe to an interactive table.\"\n",
              "            style=\"display:none;\">\n",
              "\n",
              "  <svg xmlns=\"http://www.w3.org/2000/svg\" height=\"24px\" viewBox=\"0 -960 960 960\">\n",
              "    <path d=\"M120-120v-720h720v720H120Zm60-500h600v-160H180v160Zm220 220h160v-160H400v160Zm0 220h160v-160H400v160ZM180-400h160v-160H180v160Zm440 0h160v-160H620v160ZM180-180h160v-160H180v160Zm440 0h160v-160H620v160Z\"/>\n",
              "  </svg>\n",
              "    </button>\n",
              "\n",
              "  <style>\n",
              "    .colab-df-container {\n",
              "      display:flex;\n",
              "      gap: 12px;\n",
              "    }\n",
              "\n",
              "    .colab-df-convert {\n",
              "      background-color: #E8F0FE;\n",
              "      border: none;\n",
              "      border-radius: 50%;\n",
              "      cursor: pointer;\n",
              "      display: none;\n",
              "      fill: #1967D2;\n",
              "      height: 32px;\n",
              "      padding: 0 0 0 0;\n",
              "      width: 32px;\n",
              "    }\n",
              "\n",
              "    .colab-df-convert:hover {\n",
              "      background-color: #E2EBFA;\n",
              "      box-shadow: 0px 1px 2px rgba(60, 64, 67, 0.3), 0px 1px 3px 1px rgba(60, 64, 67, 0.15);\n",
              "      fill: #174EA6;\n",
              "    }\n",
              "\n",
              "    .colab-df-buttons div {\n",
              "      margin-bottom: 4px;\n",
              "    }\n",
              "\n",
              "    [theme=dark] .colab-df-convert {\n",
              "      background-color: #3B4455;\n",
              "      fill: #D2E3FC;\n",
              "    }\n",
              "\n",
              "    [theme=dark] .colab-df-convert:hover {\n",
              "      background-color: #434B5C;\n",
              "      box-shadow: 0px 1px 3px 1px rgba(0, 0, 0, 0.15);\n",
              "      filter: drop-shadow(0px 1px 2px rgba(0, 0, 0, 0.3));\n",
              "      fill: #FFFFFF;\n",
              "    }\n",
              "  </style>\n",
              "\n",
              "    <script>\n",
              "      const buttonEl =\n",
              "        document.querySelector('#df-66ad103a-146d-4f3d-9c23-8b467916164f button.colab-df-convert');\n",
              "      buttonEl.style.display =\n",
              "        google.colab.kernel.accessAllowed ? 'block' : 'none';\n",
              "\n",
              "      async function convertToInteractive(key) {\n",
              "        const element = document.querySelector('#df-66ad103a-146d-4f3d-9c23-8b467916164f');\n",
              "        const dataTable =\n",
              "          await google.colab.kernel.invokeFunction('convertToInteractive',\n",
              "                                                    [key], {});\n",
              "        if (!dataTable) return;\n",
              "\n",
              "        const docLinkHtml = 'Like what you see? Visit the ' +\n",
              "          '<a target=\"_blank\" href=https://colab.research.google.com/notebooks/data_table.ipynb>data table notebook</a>'\n",
              "          + ' to learn more about interactive tables.';\n",
              "        element.innerHTML = '';\n",
              "        dataTable['output_type'] = 'display_data';\n",
              "        await google.colab.output.renderOutput(dataTable, element);\n",
              "        const docLink = document.createElement('div');\n",
              "        docLink.innerHTML = docLinkHtml;\n",
              "        element.appendChild(docLink);\n",
              "      }\n",
              "    </script>\n",
              "  </div>\n",
              "\n",
              "\n",
              "    </div>\n",
              "  </div>\n"
            ],
            "application/vnd.google.colaboratory.intrinsic+json": {
              "type": "dataframe",
              "summary": "{\n  \"name\": \"df[df['\\u8b49\\u5238\\u540d\\u7a31']=='\\u53f0\\u7a4d\\u96fb']\",\n  \"rows\": 1,\n  \"fields\": [\n    {\n      \"column\": \"\\u65e5\\u671f\",\n      \"properties\": {\n        \"dtype\": \"number\",\n        \"std\": null,\n        \"min\": 1140620,\n        \"max\": 1140620,\n        \"num_unique_values\": 1,\n        \"samples\": [\n          1140620\n        ],\n        \"semantic_type\": \"\",\n        \"description\": \"\"\n      }\n    },\n    {\n      \"column\": \"\\u8b49\\u5238\\u4ee3\\u865f\",\n      \"properties\": {\n        \"dtype\": \"string\",\n        \"num_unique_values\": 1,\n        \"samples\": [\n          \"2330\"\n        ],\n        \"semantic_type\": \"\",\n        \"description\": \"\"\n      }\n    },\n    {\n      \"column\": \"\\u8b49\\u5238\\u540d\\u7a31\",\n      \"properties\": {\n        \"dtype\": \"string\",\n        \"num_unique_values\": 1,\n        \"samples\": [\n          \"\\u53f0\\u7a4d\\u96fb\"\n        ],\n        \"semantic_type\": \"\",\n        \"description\": \"\"\n      }\n    },\n    {\n      \"column\": \"\\u6210\\u4ea4\\u80a1\\u6578\",\n      \"properties\": {\n        \"dtype\": \"number\",\n        \"std\": null,\n        \"min\": 67241164.0,\n        \"max\": 67241164.0,\n        \"num_unique_values\": 1,\n        \"samples\": [\n          67241164.0\n        ],\n        \"semantic_type\": \"\",\n        \"description\": \"\"\n      }\n    },\n    {\n      \"column\": \"\\u6210\\u4ea4\\u91d1\\u984d\",\n      \"properties\": {\n        \"dtype\": \"number\",\n        \"std\": null,\n        \"min\": 70461692958.0,\n        \"max\": 70461692958.0,\n        \"num_unique_values\": 1,\n        \"samples\": [\n          70461692958.0\n        ],\n        \"semantic_type\": \"\",\n        \"description\": \"\"\n      }\n    },\n    {\n      \"column\": \"\\u958b\\u76e4\\u50f9\",\n      \"properties\": {\n        \"dtype\": \"number\",\n        \"std\": null,\n        \"min\": 1030.0,\n        \"max\": 1030.0,\n        \"num_unique_values\": 1,\n        \"samples\": [\n          1030.0\n        ],\n        \"semantic_type\": \"\",\n        \"description\": \"\"\n      }\n    },\n    {\n      \"column\": \"\\u6700\\u9ad8\\u50f9\",\n      \"properties\": {\n        \"dtype\": \"number\",\n        \"std\": null,\n        \"min\": 1055.0,\n        \"max\": 1055.0,\n        \"num_unique_values\": 1,\n        \"samples\": [\n          1055.0\n        ],\n        \"semantic_type\": \"\",\n        \"description\": \"\"\n      }\n    },\n    {\n      \"column\": \"\\u6700\\u4f4e\\u50f9\",\n      \"properties\": {\n        \"dtype\": \"number\",\n        \"std\": null,\n        \"min\": 1025.0,\n        \"max\": 1025.0,\n        \"num_unique_values\": 1,\n        \"samples\": [\n          1025.0\n        ],\n        \"semantic_type\": \"\",\n        \"description\": \"\"\n      }\n    },\n    {\n      \"column\": \"\\u6536\\u76e4\\u50f9\",\n      \"properties\": {\n        \"dtype\": \"number\",\n        \"std\": null,\n        \"min\": 1055.0,\n        \"max\": 1055.0,\n        \"num_unique_values\": 1,\n        \"samples\": [\n          1055.0\n        ],\n        \"semantic_type\": \"\",\n        \"description\": \"\"\n      }\n    },\n    {\n      \"column\": \"\\u6f32\\u8dcc\\u50f9\\u5dee\",\n      \"properties\": {\n        \"dtype\": \"number\",\n        \"std\": null,\n        \"min\": 20.0,\n        \"max\": 20.0,\n        \"num_unique_values\": 1,\n        \"samples\": [\n          20.0\n        ],\n        \"semantic_type\": \"\",\n        \"description\": \"\"\n      }\n    },\n    {\n      \"column\": \"\\u6210\\u4ea4\\u7b46\\u6578\",\n      \"properties\": {\n        \"dtype\": \"number\",\n        \"std\": null,\n        \"min\": 33114.0,\n        \"max\": 33114.0,\n        \"num_unique_values\": 1,\n        \"samples\": [\n          33114.0\n        ],\n        \"semantic_type\": \"\",\n        \"description\": \"\"\n      }\n    }\n  ]\n}"
            }
          },
          "metadata": {},
          "execution_count": 17
        }
      ],
      "source": [
        "df[df['證券名稱']=='台積電']"
      ]
    },
    {
      "cell_type": "code",
      "execution_count": 18,
      "metadata": {
        "id": "3XRIohhxTnna"
      },
      "outputs": [],
      "source": [
        "import requests\n",
        "# https://data.gov.tw/dataset/40448\n",
        "r = requests.get('https://data.moenv.gov.tw/api/v2/aqx_p_432?api_key=e8dd42e6-9b8b-43f8-991e-b3dee723a52d&limit=1000&sort=ImportDate%20desc&format=JSON')\n",
        "res = r.json()"
      ]
    },
    {
      "cell_type": "code",
      "execution_count": null,
      "metadata": {
        "id": "ttJPUyfo7o4m"
      },
      "outputs": [],
      "source": [
        "res"
      ]
    },
    {
      "cell_type": "markdown",
      "metadata": {
        "id": "4LmhhgAmwuA6"
      },
      "source": [
        "## Get 地圖資料"
      ]
    },
    {
      "cell_type": "markdown",
      "metadata": {
        "id": "d9DGIGex-Feu"
      },
      "source": [
        "![image.png](https://hackmd.io/_uploads/H1Tkh61mp.png)\n"
      ]
    },
    {
      "cell_type": "code",
      "execution_count": 20,
      "metadata": {
        "id": "I-yWbbXQw538",
        "outputId": "7988662e-8384-4173-d7f7-d2dfdf09529f",
        "colab": {
          "base_uri": "https://localhost:8080/"
        }
      },
      "outputs": [
        {
          "output_type": "stream",
          "name": "stdout",
          "text": [
            "http://httpbin.org/get?key1=value1&key2=value2\n"
          ]
        }
      ],
      "source": [
        "params = {'key1': 'value1', 'key2': 'value2'}\n",
        "r = requests.get('http://httpbin.org/get', params=params)\n",
        "print(r.url)"
      ]
    },
    {
      "cell_type": "code",
      "execution_count": 21,
      "metadata": {
        "id": "45FTZfSzw30c",
        "outputId": "4f23a762-3b8f-468e-8fc6-a6455b12f393",
        "colab": {
          "base_uri": "https://localhost:8080/"
        }
      },
      "outputs": [
        {
          "output_type": "stream",
          "name": "stdout",
          "text": [
            "https://www.google.com/maps/search/?api=1&map_action=map&zoom=16&query=24.149660%2C120.684166\n"
          ]
        }
      ],
      "source": [
        "import requests\n",
        "\n",
        "payload = {\"api\":\"1\", \"map_action\":\"map\", \"zoom\":\"16\", \"query\":\"24.149660,120.684166\"}\n",
        "\n",
        "r = requests.get('https://www.google.com/maps/search/', params=payload)\n",
        "\n",
        "print(r.url)"
      ]
    },
    {
      "cell_type": "markdown",
      "source": [
        "### 同場加映\n",
        "```\n",
        "https://www.google.com/maps/search/?api=1&query=%s\n",
        "```\n",
        "![image](https://hackmd.io/_uploads/B1BildjMJx.png)\n",
        "\n"
      ],
      "metadata": {
        "id": "Npu2NwOzKdF7"
      }
    },
    {
      "cell_type": "markdown",
      "source": [
        "## 交通資料TDX\n",
        "\n",
        "\n",
        "- https://tdx.transportdata.tw/api-service/swagger\n",
        "- https://tdx.transportdata.tw/user/dataservice/key"
      ],
      "metadata": {
        "id": "SftJl-nn5Aev"
      }
    },
    {
      "cell_type": "code",
      "source": [
        "!curl -X 'GET' \\\n",
        "  'https://tdx.transportdata.tw/api/basic/v1/EV/ChargingPoint/Freeway/ServiceArea?%24top=30&%24format=JSON' \\\n",
        "  -H 'accept: application/json'"
      ],
      "metadata": {
        "id": "aRXf9DOU5YN_",
        "outputId": "4619162c-d647-4a6d-a716-b7bdc2257087",
        "colab": {
          "base_uri": "https://localhost:8080/"
        }
      },
      "execution_count": 28,
      "outputs": [
        {
          "output_type": "stream",
          "name": "stdout",
          "text": [
            "Valid API Key Required"
          ]
        }
      ]
    },
    {
      "cell_type": "code",
      "source": [
        "!curl -X 'GET' \\\n",
        "  'https://tdx.transportdata.tw/api/basic/v2/Bus/RealTimeByFrequency/Streaming/City/TaitungCounty?%24top=30&%24format=JSON' \\\n",
        "  -H 'accept: application/json'"
      ],
      "metadata": {
        "id": "7R_3B1dL56ot"
      },
      "execution_count": null,
      "outputs": []
    },
    {
      "cell_type": "markdown",
      "source": [
        "https://github.com/tdxmotc/SampleCode/blob/master/Python3/auth_TDX.py"
      ],
      "metadata": {
        "id": "YiVl3hTVAW_b"
      }
    },
    {
      "cell_type": "code",
      "source": [
        "from google.colab import userdata\n",
        "TDX_API_ID = userdata.get('TDX_API_ID')\n",
        "TDX_SECRET_KEY = userdata.get('TDX_SECRET_KEY')"
      ],
      "metadata": {
        "id": "cunAaX_mLuYD"
      },
      "execution_count": 29,
      "outputs": []
    },
    {
      "cell_type": "code",
      "source": [
        "import requests\n",
        "from pprint import pprint\n",
        "import json\n",
        "\n",
        "app_id = TDX_API_ID\n",
        "app_key = TDX_SECRET_KEY\n",
        "\n",
        "auth_url=\"https://tdx.transportdata.tw/auth/realms/TDXConnect/protocol/openid-connect/token\"\n",
        "url = \"https://tdx.transportdata.tw/api/basic/v2/Rail/TRA/LiveTrainDelay?$top=30&$format=JSON\"\n",
        "\n",
        "class Auth():\n",
        "\n",
        "    def __init__(self, app_id, app_key):\n",
        "        self.app_id = app_id\n",
        "        self.app_key = app_key\n",
        "\n",
        "    def get_auth_header(self):\n",
        "        content_type = 'application/x-www-form-urlencoded'\n",
        "        grant_type = 'client_credentials'\n",
        "\n",
        "        return{\n",
        "            'content-type' : content_type,\n",
        "            'grant_type' : grant_type,\n",
        "            'client_id' : self.app_id,\n",
        "            'client_secret' : self.app_key\n",
        "        }\n",
        "\n",
        "class data():\n",
        "\n",
        "    def __init__(self, app_id, app_key, auth_response):\n",
        "        self.app_id = app_id\n",
        "        self.app_key = app_key\n",
        "        self.auth_response = auth_response\n",
        "\n",
        "    def get_data_header(self):\n",
        "        auth_JSON = json.loads(self.auth_response.text)\n",
        "        access_token = auth_JSON.get('access_token')\n",
        "\n",
        "        return{\n",
        "            'authorization': 'Bearer ' + access_token,\n",
        "            'Accept-Encoding': 'gzip'\n",
        "        }\n",
        "\n",
        "if __name__ == '__main__':\n",
        "    try:\n",
        "        d = data(app_id, app_key, auth_response)\n",
        "        data_response = requests.get(url, headers=d.get_data_header())\n",
        "    except:\n",
        "        a = Auth(app_id, app_key)\n",
        "        auth_response = requests.post(auth_url, a.get_auth_header())\n",
        "        d = data(app_id, app_key, auth_response)\n",
        "        data_response = requests.get(url, headers=d.get_data_header())\n",
        "    print(auth_response)\n",
        "    pprint(auth_response.text)\n",
        "    print(data_response)\n",
        "    pprint(data_response.text)\n",
        "\n"
      ],
      "metadata": {
        "id": "CUdepK2C9mjL"
      },
      "execution_count": null,
      "outputs": []
    },
    {
      "cell_type": "code",
      "source": [
        "data_response.json()"
      ],
      "metadata": {
        "id": "Nen7xRCAMDuL",
        "outputId": "da94eadb-7685-49dc-cc42-43c63a6c14ec",
        "colab": {
          "base_uri": "https://localhost:8080/"
        }
      },
      "execution_count": 34,
      "outputs": [
        {
          "output_type": "execute_result",
          "data": {
            "text/plain": [
              "[{'TrainNo': '1',\n",
              "  'StationID': '5190',\n",
              "  'StationName': {'Zh_tw': '大武', 'En': 'Dawu'},\n",
              "  'DelayTime': 0,\n",
              "  'SrcUpdateTime': '2025-06-22T12:46:02+08:00',\n",
              "  'UpdateTime': '2025-06-22T12:52:24+08:00'},\n",
              " {'TrainNo': '1006',\n",
              "  'StationID': '1070',\n",
              "  'StationName': {'Zh_tw': '鶯歌', 'En': 'Yingge'},\n",
              "  'DelayTime': 4,\n",
              "  'SrcUpdateTime': '2025-06-22T12:50:05+08:00',\n",
              "  'UpdateTime': '2025-06-22T12:52:24+08:00'},\n",
              " {'TrainNo': '113',\n",
              "  'StationID': '4300',\n",
              "  'StationName': {'Zh_tw': '路竹', 'En': 'Luzhu'},\n",
              "  'DelayTime': 0,\n",
              "  'SrcUpdateTime': '2025-06-22T12:51:45+08:00',\n",
              "  'UpdateTime': '2025-06-22T12:52:24+08:00'},\n",
              " {'TrainNo': '114',\n",
              "  'StationID': '1040',\n",
              "  'StationName': {'Zh_tw': '樹林', 'En': 'Shulin'},\n",
              "  'DelayTime': 5,\n",
              "  'SrcUpdateTime': '2025-06-22T12:50:37+08:00',\n",
              "  'UpdateTime': '2025-06-22T12:52:24+08:00'},\n",
              " {'TrainNo': '115',\n",
              "  'StationID': '4120',\n",
              "  'StationName': {'Zh_tw': '新營', 'En': 'Xinying'},\n",
              "  'DelayTime': 0,\n",
              "  'SrcUpdateTime': '2025-06-22T12:51:55+08:00',\n",
              "  'UpdateTime': '2025-06-22T12:52:24+08:00'},\n",
              " {'TrainNo': '116',\n",
              "  'StationID': '1230',\n",
              "  'StationName': {'Zh_tw': '香山', 'En': 'Xiangshan'},\n",
              "  'DelayTime': 7,\n",
              "  'SrcUpdateTime': '2025-06-22T12:50:11+08:00',\n",
              "  'UpdateTime': '2025-06-22T12:52:24+08:00'},\n",
              " {'TrainNo': '1169',\n",
              "  'StationID': '1160',\n",
              "  'StationName': {'Zh_tw': '湖口', 'En': 'Hukou'},\n",
              "  'DelayTime': 0,\n",
              "  'SrcUpdateTime': '2025-06-22T12:51:31+08:00',\n",
              "  'UpdateTime': '2025-06-22T12:52:24+08:00'},\n",
              " {'TrainNo': '117',\n",
              "  'StationID': '3390',\n",
              "  'StationName': {'Zh_tw': '員林', 'En': 'Yuanlin'},\n",
              "  'DelayTime': 0,\n",
              "  'SrcUpdateTime': '2025-06-22T12:51:13+08:00',\n",
              "  'UpdateTime': '2025-06-22T12:52:24+08:00'},\n",
              " {'TrainNo': '1171',\n",
              "  'StationID': '1110',\n",
              "  'StationName': {'Zh_tw': '埔心', 'En': 'Puxin'},\n",
              "  'DelayTime': 0,\n",
              "  'SrcUpdateTime': '2025-06-22T12:51:45+08:00',\n",
              "  'UpdateTime': '2025-06-22T12:52:24+08:00'},\n",
              " {'TrainNo': '1172',\n",
              "  'StationID': '0960',\n",
              "  'StationName': {'Zh_tw': '汐止', 'En': 'Xizhi'},\n",
              "  'DelayTime': 0,\n",
              "  'SrcUpdateTime': '2025-06-22T12:51:51+08:00',\n",
              "  'UpdateTime': '2025-06-22T12:52:24+08:00'},\n",
              " {'TrainNo': '1177',\n",
              "  'StationID': '1060',\n",
              "  'StationName': {'Zh_tw': '山佳', 'En': 'Shanjia'},\n",
              "  'DelayTime': 0,\n",
              "  'SrcUpdateTime': '2025-06-22T12:49:43+08:00',\n",
              "  'UpdateTime': '2025-06-22T12:52:24+08:00'},\n",
              " {'TrainNo': '1178',\n",
              "  'StationID': '0990',\n",
              "  'StationName': {'Zh_tw': '松山', 'En': 'Songshan'},\n",
              "  'DelayTime': 0,\n",
              "  'SrcUpdateTime': '2025-06-22T12:50:31+08:00',\n",
              "  'UpdateTime': '2025-06-22T12:52:24+08:00'},\n",
              " {'TrainNo': '118',\n",
              "  'StationID': '3250',\n",
              "  'StationName': {'Zh_tw': '潭子', 'En': 'Tanzi'},\n",
              "  'DelayTime': 0,\n",
              "  'SrcUpdateTime': '2025-06-22T12:51:49+08:00',\n",
              "  'UpdateTime': '2025-06-22T12:52:24+08:00'},\n",
              " {'TrainNo': '1181',\n",
              "  'StationID': '1040',\n",
              "  'StationName': {'Zh_tw': '樹林', 'En': 'Shulin'},\n",
              "  'DelayTime': 0,\n",
              "  'SrcUpdateTime': '2025-06-22T12:51:47+08:00',\n",
              "  'UpdateTime': '2025-06-22T12:52:24+08:00'},\n",
              " {'TrainNo': '1182',\n",
              "  'StationID': '1080',\n",
              "  'StationName': {'Zh_tw': '桃園', 'En': 'Taoyuan'},\n",
              "  'DelayTime': 4,\n",
              "  'SrcUpdateTime': '2025-06-22T12:46:30+08:00',\n",
              "  'UpdateTime': '2025-06-22T12:52:24+08:00'},\n",
              " {'TrainNo': '1187',\n",
              "  'StationID': '0930',\n",
              "  'StationName': {'Zh_tw': '七堵', 'En': 'Qidu'},\n",
              "  'DelayTime': 0,\n",
              "  'SrcUpdateTime': '2025-06-22T12:50:23+08:00',\n",
              "  'UpdateTime': '2025-06-22T12:52:24+08:00'},\n",
              " {'TrainNo': '1188',\n",
              "  'StationID': '1090',\n",
              "  'StationName': {'Zh_tw': '內壢', 'En': 'Neili'},\n",
              "  'DelayTime': 0,\n",
              "  'SrcUpdateTime': '2025-06-22T12:51:35+08:00',\n",
              "  'UpdateTime': '2025-06-22T12:52:24+08:00'},\n",
              " {'TrainNo': '119',\n",
              "  'StationID': '2190',\n",
              "  'StationName': {'Zh_tw': '日南', 'En': 'Rinan'},\n",
              "  'DelayTime': 0,\n",
              "  'SrcUpdateTime': '2025-06-22T12:50:31+08:00',\n",
              "  'UpdateTime': '2025-06-22T12:52:24+08:00'},\n",
              " {'TrainNo': '1191',\n",
              "  'StationID': '0960',\n",
              "  'StationName': {'Zh_tw': '汐止', 'En': 'Xizhi'},\n",
              "  'DelayTime': 0,\n",
              "  'SrcUpdateTime': '2025-06-22T12:50:57+08:00',\n",
              "  'UpdateTime': '2025-06-22T12:52:24+08:00'},\n",
              " {'TrainNo': '1192',\n",
              "  'StationID': '1170',\n",
              "  'StationName': {'Zh_tw': '新豐', 'En': 'Xinfeng'},\n",
              "  'DelayTime': 0,\n",
              "  'SrcUpdateTime': '2025-06-22T12:51:35+08:00',\n",
              "  'UpdateTime': '2025-06-22T12:52:24+08:00'},\n",
              " {'TrainNo': '1194',\n",
              "  'StationID': '1250',\n",
              "  'StationName': {'Zh_tw': '竹南', 'En': 'Zhunan'},\n",
              "  'DelayTime': 2,\n",
              "  'SrcUpdateTime': '2025-06-22T12:45:22+08:00',\n",
              "  'UpdateTime': '2025-06-22T12:52:24+08:00'},\n",
              " {'TrainNo': '1197',\n",
              "  'StationID': '0930',\n",
              "  'StationName': {'Zh_tw': '七堵', 'En': 'Qidu'},\n",
              "  'DelayTime': 0,\n",
              "  'SrcUpdateTime': '2025-06-22T12:50:31+08:00',\n",
              "  'UpdateTime': '2025-06-22T12:52:24+08:00'},\n",
              " {'TrainNo': '1198',\n",
              "  'StationID': '1230',\n",
              "  'StationName': {'Zh_tw': '香山', 'En': 'Xiangshan'},\n",
              "  'DelayTime': 7,\n",
              "  'SrcUpdateTime': '2025-06-22T12:51:35+08:00',\n",
              "  'UpdateTime': '2025-06-22T12:52:24+08:00'},\n",
              " {'TrainNo': '120',\n",
              "  'StationID': '3360',\n",
              "  'StationName': {'Zh_tw': '彰化', 'En': 'Changhua'},\n",
              "  'DelayTime': 1,\n",
              "  'SrcUpdateTime': '2025-06-22T12:50:33+08:00',\n",
              "  'UpdateTime': '2025-06-22T12:52:24+08:00'},\n",
              " {'TrainNo': '1208',\n",
              "  'StationID': '3160',\n",
              "  'StationName': {'Zh_tw': '苗栗', 'En': 'Miaoli'},\n",
              "  'DelayTime': 0,\n",
              "  'SrcUpdateTime': '2025-06-22T12:49:21+08:00',\n",
              "  'UpdateTime': '2025-06-22T12:52:24+08:00'},\n",
              " {'TrainNo': '121',\n",
              "  'StationID': '3190',\n",
              "  'StationName': {'Zh_tw': '三義', 'En': 'Sanyi'},\n",
              "  'DelayTime': 0,\n",
              "  'SrcUpdateTime': '2025-06-22T12:51:35+08:00',\n",
              "  'UpdateTime': '2025-06-22T12:52:24+08:00'},\n",
              " {'TrainNo': '122',\n",
              "  'StationID': '4170',\n",
              "  'StationName': {'Zh_tw': '善化', 'En': 'Shanhua'},\n",
              "  'DelayTime': 0,\n",
              "  'SrcUpdateTime': '2025-06-22T12:50:11+08:00',\n",
              "  'UpdateTime': '2025-06-22T12:52:24+08:00'},\n",
              " {'TrainNo': '123',\n",
              "  'StationID': '1130',\n",
              "  'StationName': {'Zh_tw': '富岡', 'En': 'Fugang'},\n",
              "  'DelayTime': 0,\n",
              "  'SrcUpdateTime': '2025-06-22T12:50:45+08:00',\n",
              "  'UpdateTime': '2025-06-22T12:52:24+08:00'},\n",
              " {'TrainNo': '124',\n",
              "  'StationID': '4290',\n",
              "  'StationName': {'Zh_tw': '大湖', 'En': 'Dahu'},\n",
              "  'DelayTime': 0,\n",
              "  'SrcUpdateTime': '2025-06-22T12:51:37+08:00',\n",
              "  'UpdateTime': '2025-06-22T12:52:24+08:00'},\n",
              " {'TrainNo': '125',\n",
              "  'StationID': '0990',\n",
              "  'StationName': {'Zh_tw': '松山', 'En': 'Songshan'},\n",
              "  'DelayTime': 0,\n",
              "  'SrcUpdateTime': '2025-06-22T12:51:17+08:00',\n",
              "  'UpdateTime': '2025-06-22T12:52:24+08:00'}]"
            ]
          },
          "metadata": {},
          "execution_count": 34
        }
      ]
    },
    {
      "cell_type": "code",
      "source": [
        "data_response.text"
      ],
      "metadata": {
        "id": "goMdYHxW_BBO",
        "outputId": "3574cf4c-5ea2-4c67-eed8-1ea900a5adb8",
        "colab": {
          "base_uri": "https://localhost:8080/",
          "height": 123
        }
      },
      "execution_count": 35,
      "outputs": [
        {
          "output_type": "execute_result",
          "data": {
            "text/plain": [
              "'[{\"TrainNo\":\"1\",\"StationID\":\"5190\",\"StationName\":{\"Zh_tw\":\"大武\",\"En\":\"Dawu\"},\"DelayTime\":0,\"SrcUpdateTime\":\"2025-06-22T12:46:02+08:00\",\"UpdateTime\":\"2025-06-22T12:52:24+08:00\"},{\"TrainNo\":\"1006\",\"StationID\":\"1070\",\"StationName\":{\"Zh_tw\":\"鶯歌\",\"En\":\"Yingge\"},\"DelayTime\":4,\"SrcUpdateTime\":\"2025-06-22T12:50:05+08:00\",\"UpdateTime\":\"2025-06-22T12:52:24+08:00\"},{\"TrainNo\":\"113\",\"StationID\":\"4300\",\"StationName\":{\"Zh_tw\":\"路竹\",\"En\":\"Luzhu\"},\"DelayTime\":0,\"SrcUpdateTime\":\"2025-06-22T12:51:45+08:00\",\"UpdateTime\":\"2025-06-22T12:52:24+08:00\"},{\"TrainNo\":\"114\",\"StationID\":\"1040\",\"StationName\":{\"Zh_tw\":\"樹林\",\"En\":\"Shulin\"},\"DelayTime\":5,\"SrcUpdateTime\":\"2025-06-22T12:50:37+08:00\",\"UpdateTime\":\"2025-06-22T12:52:24+08:00\"},{\"TrainNo\":\"115\",\"StationID\":\"4120\",\"StationName\":{\"Zh_tw\":\"新營\",\"En\":\"Xinying\"},\"DelayTime\":0,\"SrcUpdateTime\":\"2025-06-22T12:51:55+08:00\",\"UpdateTime\":\"2025-06-22T12:52:24+08:00\"},{\"TrainNo\":\"116\",\"StationID\":\"1230\",\"StationName\":{\"Zh_tw\":\"香山\",\"En\":\"Xiangshan\"},\"DelayTime\":7,\"SrcUpdateTime\":\"2025-06-22T12:50:11+08:00\",\"UpdateTime\":\"2025-06-22T12:52:24+08:00\"},{\"TrainNo\":\"1169\",\"StationID\":\"1160\",\"StationName\":{\"Zh_tw\":\"湖口\",\"En\":\"Hukou\"},\"DelayTime\":0,\"SrcUpdateTime\":\"2025-06-22T12:51:31+08:00\",\"UpdateTime\":\"2025-06-22T12:52:24+08:00\"},{\"TrainNo\":\"117\",\"StationID\":\"3390\",\"StationName\":{\"Zh_tw\":\"員林\",\"En\":\"Yuanlin\"},\"DelayTime\":0,\"SrcUpdateTime\":\"2025-06-22T12:51:13+08:00\",\"UpdateTime\":\"2025-06-22T12:52:24+08:00\"},{\"TrainNo\":\"1171\",\"StationID\":\"1110\",\"StationName\":{\"Zh_tw\":\"埔心\",\"En\":\"Puxin\"},\"DelayTime\":0,\"SrcUpdateTime\":\"2025-06-22T12:51:45+08:00\",\"UpdateTime\":\"2025-06-22T12:52:24+08:00\"},{\"TrainNo\":\"1172\",\"StationID\":\"0960\",\"StationName\":{\"Zh_tw\":\"汐止\",\"En\":\"Xizhi\"},\"DelayTime\":0,\"SrcUpdateTime\":\"2025-06-22T12:51:51+08:00\",\"UpdateTime\":\"2025-06-22T12:52:24+08:00\"},{\"TrainNo\":\"1177\",\"StationID\":\"1060\",\"StationName\":{\"Zh_tw\":\"山佳\",\"En\":\"Shanjia\"},\"DelayTime\":0,\"SrcUpdateTime\":\"2025-06-22T12:49:43+08:00\",\"UpdateTime\":\"2025-06-22T12:52:24+08:00\"},{\"TrainNo\":\"1178\",\"StationID\":\"0990\",\"StationName\":{\"Zh_tw\":\"松山\",\"En\":\"Songshan\"},\"DelayTime\":0,\"SrcUpdateTime\":\"2025-06-22T12:50:31+08:00\",\"UpdateTime\":\"2025-06-22T12:52:24+08:00\"},{\"TrainNo\":\"118\",\"StationID\":\"3250\",\"StationName\":{\"Zh_tw\":\"潭子\",\"En\":\"Tanzi\"},\"DelayTime\":0,\"SrcUpdateTime\":\"2025-06-22T12:51:49+08:00\",\"UpdateTime\":\"2025-06-22T12:52:24+08:00\"},{\"TrainNo\":\"1181\",\"StationID\":\"1040\",\"StationName\":{\"Zh_tw\":\"樹林\",\"En\":\"Shulin\"},\"DelayTime\":0,\"SrcUpdateTime\":\"2025-06-22T12:51:47+08:00\",\"UpdateTime\":\"2025-06-22T12:52:24+08:00\"},{\"TrainNo\":\"1182\",\"StationID\":\"1080\",\"StationName\":{\"Zh_tw\":\"桃園\",\"En\":\"Taoyuan\"},\"DelayTime\":4,\"SrcUpdateTime\":\"2025-06-22T12:46:30+08:00\",\"UpdateTime\":\"2025-06-22T12:52:24+08:00\"},{\"TrainNo\":\"1187\",\"StationID\":\"0930\",\"StationName\":{\"Zh_tw\":\"七堵\",\"En\":\"Qidu\"},\"DelayTime\":0,\"SrcUpdateTime\":\"2025-06-22T12:50:23+08:00\",\"UpdateTime\":\"2025-06-22T12:52:24+08:00\"},{\"TrainNo\":\"1188\",\"StationID\":\"1090\",\"StationName\":{\"Zh_tw\":\"內壢\",\"En\":\"Neili\"},\"DelayTime\":0,\"SrcUpdateTime\":\"2025-06-22T12:51:35+08:00\",\"UpdateTime\":\"2025-06-22T12:52:24+08:00\"},{\"TrainNo\":\"119\",\"StationID\":\"2190\",\"StationName\":{\"Zh_tw\":\"日南\",\"En\":\"Rinan\"},\"DelayTime\":0,\"SrcUpdateTime\":\"2025-06-22T12:50:31+08:00\",\"UpdateTime\":\"2025-06-22T12:52:24+08:00\"},{\"TrainNo\":\"1191\",\"StationID\":\"0960\",\"StationName\":{\"Zh_tw\":\"汐止\",\"En\":\"Xizhi\"},\"DelayTime\":0,\"SrcUpdateTime\":\"2025-06-22T12:50:57+08:00\",\"UpdateTime\":\"2025-06-22T12:52:24+08:00\"},{\"TrainNo\":\"1192\",\"StationID\":\"1170\",\"StationName\":{\"Zh_tw\":\"新豐\",\"En\":\"Xinfeng\"},\"DelayTime\":0,\"SrcUpdateTime\":\"2025-06-22T12:51:35+08:00\",\"UpdateTime\":\"2025-06-22T12:52:24+08:00\"},{\"TrainNo\":\"1194\",\"StationID\":\"1250\",\"StationName\":{\"Zh_tw\":\"竹南\",\"En\":\"Zhunan\"},\"DelayTime\":2,\"SrcUpdateTime\":\"2025-06-22T12:45:22+08:00\",\"UpdateTime\":\"2025-06-22T12:52:24+08:00\"},{\"TrainNo\":\"1197\",\"StationID\":\"0930\",\"StationName\":{\"Zh_tw\":\"七堵\",\"En\":\"Qidu\"},\"DelayTime\":0,\"SrcUpdateTime\":\"2025-06-22T12:50:31+08:00\",\"UpdateTime\":\"2025-06-22T12:52:24+08:00\"},{\"TrainNo\":\"1198\",\"StationID\":\"1230\",\"StationName\":{\"Zh_tw\":\"香山\",\"En\":\"Xiangshan\"},\"DelayTime\":7,\"SrcUpdateTime\":\"2025-06-22T12:51:35+08:00\",\"UpdateTime\":\"2025-06-22T12:52:24+08:00\"},{\"TrainNo\":\"120\",\"StationID\":\"3360\",\"StationName\":{\"Zh_tw\":\"彰化\",\"En\":\"Changhua\"},\"DelayTime\":1,\"SrcUpdateTime\":\"2025-06-22T12:50:33+08:00\",\"UpdateTime\":\"2025-06-22T12:52:24+08:00\"},{\"TrainNo\":\"1208\",\"StationID\":\"3160\",\"StationName\":{\"Zh_tw\":\"苗栗\",\"En\":\"Miaoli\"},\"DelayTime\":0,\"SrcUpdateTime\":\"2025-06-22T12:49:21+08:00\",\"UpdateTime\":\"2025-06-22T12:52:24+08:00\"},{\"TrainNo\":\"121\",\"StationID\":\"3190\",\"StationName\":{\"Zh_tw\":\"三義\",\"En\":\"Sanyi\"},\"DelayTime\":0,\"SrcUpdateTime\":\"2025-06-22T12:51:35+08:00\",\"UpdateTime\":\"2025-06-22T12:52:24+08:00\"},{\"TrainNo\":\"122\",\"StationID\":\"4170\",\"StationName\":{\"Zh_tw\":\"善化\",\"En\":\"Shanhua\"},\"DelayTime\":0,\"SrcUpdateTime\":\"2025-06-22T12:50:11+08:00\",\"UpdateTime\":\"2025-06-22T12:52:24+08:00\"},{\"TrainNo\":\"123\",\"StationID\":\"1130\",\"StationName\":{\"Zh_tw\":\"富岡\",\"En\":\"Fugang\"},\"DelayTime\":0,\"SrcUpdateTime\":\"2025-06-22T12:50:45+08:00\",\"UpdateTime\":\"2025-06-22T12:52:24+08:00\"},{\"TrainNo\":\"124\",\"StationID\":\"4290\",\"StationName\":{\"Zh_tw\":\"大湖\",\"En\":\"Dahu\"},\"DelayTime\":0,\"SrcUpdateTime\":\"2025-06-22T12:51:37+08:00\",\"UpdateTime\":\"2025-06-22T12:52:24+08:00\"},{\"TrainNo\":\"125\",\"StationID\":\"0990\",\"StationName\":{\"Zh_tw\":\"松山\",\"En\":\"Songshan\"},\"DelayTime\":0,\"SrcUpdateTime\":\"2025-06-22T12:51:17+08:00\",\"UpdateTime\":\"2025-06-22T12:52:24+08:00\"}]'"
            ],
            "application/vnd.google.colaboratory.intrinsic+json": {
              "type": "string"
            }
          },
          "metadata": {},
          "execution_count": 35
        }
      ]
    },
    {
      "cell_type": "code",
      "source": [],
      "metadata": {
        "id": "17iuMdiH_J0G"
      },
      "execution_count": null,
      "outputs": []
    }
  ],
  "metadata": {
    "colab": {
      "collapsed_sections": [
        "oKpQHK3uJcmX"
      ],
      "provenance": [],
      "include_colab_link": true
    },
    "kernelspec": {
      "display_name": "Python 3",
      "name": "python3"
    }
  },
  "nbformat": 4,
  "nbformat_minor": 0
}