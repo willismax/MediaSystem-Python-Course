{
  "cells": [
    {
      "cell_type": "markdown",
      "metadata": {
        "id": "view-in-github",
        "colab_type": "text"
      },
      "source": [
        "<a href=\"https://colab.research.google.com/github/willismax/MediaSystem-Python-Course/blob/main/03.Request/%E6%93%B7%E5%8F%96API%E8%B3%87%E6%96%99.ipynb\" target=\"_parent\"><img src=\"https://colab.research.google.com/assets/colab-badge.svg\" alt=\"Open In Colab\"/></a>"
      ]
    },
    {
      "cell_type": "markdown",
      "metadata": {
        "id": "oKpQHK3uJcmX"
      },
      "source": [
        "# 全球即時匯率產生器\n",
        "匯率資料來源:https://tw.rter.info/howto_currencyapi.php#\n"
      ]
    },
    {
      "cell_type": "markdown",
      "metadata": {
        "id": "qvBy_dQBs_rI"
      },
      "source": [
        "![image.png](https://hackmd.io/_uploads/r1-Uc317p.png)"
      ]
    },
    {
      "cell_type": "code",
      "execution_count": 1,
      "metadata": {
        "id": "p6G8UdqTh07x"
      },
      "outputs": [],
      "source": [
        "import requests\n",
        "r = requests.get('https://tw.rter.info/capi.php')\n",
        "currency = r.json()"
      ]
    },
    {
      "cell_type": "code",
      "execution_count": null,
      "metadata": {
        "id": "9uw70lymtpy5"
      },
      "outputs": [],
      "source": [
        "type(currency)"
      ]
    },
    {
      "cell_type": "code",
      "execution_count": null,
      "metadata": {
        "id": "ZdS5_SiEisqZ"
      },
      "outputs": [],
      "source": [
        "currency"
      ]
    },
    {
      "cell_type": "code",
      "execution_count": null,
      "metadata": {
        "id": "0LlVjLUtJNlI"
      },
      "outputs": [],
      "source": [
        "currency['USDTWD']"
      ]
    },
    {
      "cell_type": "code",
      "execution_count": null,
      "metadata": {
        "id": "nfN3TaTztTYV"
      },
      "outputs": [],
      "source": [
        "usd_to_twd = currency['USDTWD']['Exrate']\n",
        "usd_to_twd"
      ]
    },
    {
      "cell_type": "code",
      "execution_count": null,
      "metadata": {
        "id": "K-cMfKmpu5Vz"
      },
      "outputs": [],
      "source": [
        "currency_time = currency['USDTWD']['UTC']\n",
        "currency_time"
      ]
    },
    {
      "cell_type": "code",
      "execution_count": null,
      "metadata": {
        "id": "6c6UtuqkSVxG"
      },
      "outputs": [],
      "source": [
        "print(f'美元 USD 對台幣 TWD：1:{usd_to_twd},更新時間：{currency_time}')"
      ]
    },
    {
      "cell_type": "code",
      "execution_count": null,
      "metadata": {
        "id": "PTawfvlwJEnX"
      },
      "outputs": [],
      "source": [
        "# 完整範例\n",
        "import requests\n",
        "\n",
        "response = requests.get('https://tw.rter.info/capi.php')\n",
        "currency = response.json()\n",
        "\n",
        "usd_to_twd = currency['USDTWD']['Exrate']\n",
        "currency_time = currency['USDTWD']['UTC']\n",
        "print(f'美元 USD 對台幣 TWD：1:{usd_to_twd},更新時間：{currency_time}')"
      ]
    },
    {
      "cell_type": "markdown",
      "metadata": {
        "id": "JkFJhIF9MHvj"
      },
      "source": [
        "# 顯著有感地震報告\n",
        "https://data.gov.tw/dataset/6068"
      ]
    },
    {
      "cell_type": "markdown",
      "metadata": {
        "id": "oEoSOcZAuR8I"
      },
      "source": [
        "![image.png](https://hackmd.io/_uploads/ryFionJmT.png)"
      ]
    },
    {
      "cell_type": "code",
      "execution_count": 10,
      "metadata": {
        "id": "fIZUNjzcMRjm"
      },
      "outputs": [],
      "source": [
        "import requests\n",
        "url = 'https://opendata.cwa.gov.tw/api/v1/rest/datastore/E-A0015-002?Authorization=rdec-key-123-45678-011121314'\n",
        "r = requests.get(url)\n",
        "earthquake = r.json()"
      ]
    },
    {
      "cell_type": "code",
      "execution_count": null,
      "metadata": {
        "id": "sizwe7O8MqmL"
      },
      "outputs": [],
      "source": [
        "earthquake"
      ]
    },
    {
      "cell_type": "code",
      "execution_count": null,
      "metadata": {
        "id": "JPg4d0e-o1GW"
      },
      "outputs": [],
      "source": [
        "earthquake['records']['Earthquake'][0]['ReportContent']"
      ]
    },
    {
      "cell_type": "markdown",
      "metadata": {
        "id": "yBlKg2y3N_8F"
      },
      "source": [
        "氣象局網站看板\n",
        "https://scweb.cwa.gov.tw/"
      ]
    },
    {
      "cell_type": "markdown",
      "metadata": {
        "id": "1q7imLaZ8HLR"
      },
      "source": [
        "# 建立 LINE Notify 訊息推播通知"
      ]
    },
    {
      "cell_type": "markdown",
      "metadata": {
        "id": "3mKDwU7Yuz5y"
      },
      "source": [
        "![image.png](https://hackmd.io/_uploads/Sk8V23k76.png)"
      ]
    },
    {
      "cell_type": "markdown",
      "metadata": {
        "id": "4Le68Ewt8JoZ"
      },
      "source": [
        "\n",
        "- 取得權杖 https://notify-bot.line.me/my/\n",
        "- [API Doc](https://notify-bot.line.me/doc/en/)\n",
        "- [Line Sticker List](https://developers.line.biz/en/docs/messaging-api/sticker-list/)\n",
        "\n",
        "    ```\n",
        "    request.post(url, header, params)\n",
        "    ```"
      ]
    },
    {
      "cell_type": "code",
      "execution_count": 13,
      "metadata": {
        "id": "h80XHmvy77x9"
      },
      "outputs": [],
      "source": [
        "#基本功能測試\n",
        "import requests\n",
        "\n",
        "def lineNotifyMessage(token, msg):\n",
        "    \"\"\"LINE Notify 訊息通知\n",
        "    Args:\n",
        "      token: 至Notify取得專屬權杖\n",
        "      msg: 輸入文字\n",
        "    \"\"\"\n",
        "    headers = {\n",
        "        \"Authorization\": f\"Bearer {token}\",\n",
        "        \"Content-Type\": \"application/x-www-form-urlencoded\"}\n",
        "    payload = {\n",
        "        'message': msg}\n",
        "    r = requests.post(\n",
        "        \"https://notify-api.line.me/api/notify\",\n",
        "        headers = headers,\n",
        "        params = payload)\n",
        "    return r.status_code\n",
        "\n",
        "\n",
        "if __name__ == \"__main__\":\n",
        "  token =  'tBgyVsheKccCmgPNqS9C7KasnNumAYTmyJYahLLwfPO'  #'你的權杖內容'\n",
        "  message = '早安鳩咪'\n",
        "  lineNotifyMessage(token, message)"
      ]
    },
    {
      "cell_type": "code",
      "source": [
        "!pip install -Uq gradio"
      ],
      "metadata": {
        "id": "GT6UT39FmAd7"
      },
      "execution_count": null,
      "outputs": []
    },
    {
      "cell_type": "code",
      "execution_count": null,
      "metadata": {
        "id": "kbdCPtjsSQpK",
        "outputId": "8c2d82ea-af83-410e-e766-9dafe5f930c0",
        "colab": {
          "base_uri": "https://localhost:8080/",
          "height": 591
        }
      },
      "outputs": [
        {
          "output_type": "stream",
          "name": "stdout",
          "text": [
            "Colab notebook detected. To show errors in colab notebook, set debug=True in launch()\n",
            "Running on public URL: https://ffd1d9e7d66718d529.gradio.live\n",
            "\n",
            "This share link expires in 72 hours. For free permanent hosting and GPU upgrades, run `gradio deploy` from Terminal to deploy to Spaces (https://huggingface.co/spaces)\n"
          ]
        },
        {
          "output_type": "display_data",
          "data": {
            "text/plain": [
              "<IPython.core.display.HTML object>"
            ],
            "text/html": [
              "<div><iframe src=\"https://ffd1d9e7d66718d529.gradio.live\" width=\"100%\" height=\"500\" allow=\"autoplay; camera; microphone; clipboard-read; clipboard-write;\" frameborder=\"0\" allowfullscreen></iframe></div>"
            ]
          },
          "metadata": {}
        },
        {
          "output_type": "execute_result",
          "data": {
            "text/plain": []
          },
          "metadata": {},
          "execution_count": 7
        }
      ],
      "source": [
        "# 結合Colab環境變數\n",
        "# 結合Gradio做UI\n",
        "from google.colab import userdata\n",
        "LINE_NOTIFY_TOKEN = userdata.get('LINE_NOTIFY_TOKEN')\n",
        "import gradio as gr\n",
        "import requests\n",
        "\n",
        "def lineNotifyMessage(msg):\n",
        "    \"\"\"LINE Notify 訊息通知\n",
        "    Args:\n",
        "      token: 至Notify取得專屬權杖\n",
        "      msg: 輸入文字\n",
        "    \"\"\"\n",
        "    r = requests.post(\n",
        "        \"https://notify-api.line.me/api/notify\",\n",
        "        headers = {\n",
        "            \"Authorization\": f\"Bearer {LINE_NOTIFY_TOKEN}\",\n",
        "            \"Content-Type\": \"application/x-www-form-urlencoded\"},\n",
        "        params = {\n",
        "            'message': msg}\n",
        "        )\n",
        "    return r.status_code, msg\n",
        "\n",
        "\n",
        "token = LINE_NOTIFY_TOKEN\n",
        "message = '基本功能測試'\n",
        "# lineNotifyMessage(message)\n",
        "\n",
        "demo = gr.Interface(\n",
        "  fn=lineNotifyMessage,\n",
        "  inputs=\"text\",\n",
        "  outputs=\"text\",\n",
        ")\n",
        "demo.launch(share=True)\n",
        "\n",
        "\n"
      ]
    },
    {
      "cell_type": "markdown",
      "metadata": {
        "id": "YnBLn-GuQfWN"
      },
      "source": [
        "# 個股日成交資訊\n",
        "https://data.gov.tw/dataset/11549"
      ]
    },
    {
      "cell_type": "markdown",
      "metadata": {
        "id": "j1C5CSa40uB8"
      },
      "source": [
        "![image.png](https://hackmd.io/_uploads/S1NBfTJmT.png)"
      ]
    },
    {
      "cell_type": "code",
      "execution_count": null,
      "metadata": {
        "id": "2asGKZ9yQfxr"
      },
      "outputs": [],
      "source": [
        "import csv\n",
        "import requests\n",
        "\n",
        "CSV_URL = 'http://www.twse.com.tw/exchangeReport/STOCK_DAY_ALL?response=open_data'\n",
        "\n",
        "\n",
        "with requests.Session() as s:\n",
        "  download = s.get(CSV_URL)\n",
        "  content = download.content.decode('utf-8').splitlines()\n",
        "  cr = csv.reader(content, delimiter=',')\n",
        "  my_list = list(cr)\n",
        "  for row in my_list:\n",
        "    print(row)"
      ]
    },
    {
      "cell_type": "code",
      "execution_count": null,
      "metadata": {
        "id": "M30iMiqpqeJQ"
      },
      "outputs": [],
      "source": [
        "my_list"
      ]
    },
    {
      "cell_type": "code",
      "execution_count": null,
      "metadata": {
        "id": "7cXf-ucpS-uO"
      },
      "outputs": [],
      "source": [
        "import pandas as pd\n",
        "df = pd.read_csv(CSV_URL)\n",
        "df"
      ]
    },
    {
      "cell_type": "code",
      "execution_count": null,
      "metadata": {
        "id": "gutFHVr_CZ45"
      },
      "outputs": [],
      "source": [
        "df['證券代號']=='0050'"
      ]
    },
    {
      "cell_type": "code",
      "execution_count": null,
      "metadata": {
        "id": "uAT1W-Uc_qRg"
      },
      "outputs": [],
      "source": [
        "df[df['證券代號']=='2330']['證券名稱']"
      ]
    },
    {
      "cell_type": "code",
      "execution_count": null,
      "metadata": {
        "id": "kZOvg2m91KLj"
      },
      "outputs": [],
      "source": [
        "df[df['證券名稱']=='台積電']"
      ]
    },
    {
      "cell_type": "code",
      "execution_count": 19,
      "metadata": {
        "id": "3XRIohhxTnna"
      },
      "outputs": [],
      "source": [
        "import requests\n",
        "# https://data.gov.tw/dataset/40448\n",
        "r = requests.get('https://data.moenv.gov.tw/api/v2/aqx_p_432?api_key=e8dd42e6-9b8b-43f8-991e-b3dee723a52d&limit=1000&sort=ImportDate%20desc&format=JSON')\n",
        "res = r.json()"
      ]
    },
    {
      "cell_type": "code",
      "execution_count": null,
      "metadata": {
        "id": "ttJPUyfo7o4m"
      },
      "outputs": [],
      "source": [
        "res"
      ]
    },
    {
      "cell_type": "markdown",
      "metadata": {
        "id": "4LmhhgAmwuA6"
      },
      "source": [
        "# Get 資料"
      ]
    },
    {
      "cell_type": "markdown",
      "metadata": {
        "id": "d9DGIGex-Feu"
      },
      "source": [
        "![image.png](https://hackmd.io/_uploads/H1Tkh61mp.png)\n"
      ]
    },
    {
      "cell_type": "code",
      "execution_count": null,
      "metadata": {
        "id": "I-yWbbXQw538"
      },
      "outputs": [],
      "source": [
        "params = {'key1': 'value1', 'key2': 'value2'}\n",
        "r = requests.get('http://httpbin.org/get', params=params)\n",
        "print(r.url)"
      ]
    },
    {
      "cell_type": "code",
      "execution_count": null,
      "metadata": {
        "colab": {
          "base_uri": "https://localhost:8080/"
        },
        "id": "45FTZfSzw30c",
        "outputId": "74de6c5d-8dd9-45de-9f41-9fcac31fc1d5"
      },
      "outputs": [
        {
          "name": "stdout",
          "output_type": "stream",
          "text": [
            "https://www.google.com/maps/search/?api=1&map_action=map&zoom=16&query=24.149660%2C120.684166\n"
          ]
        }
      ],
      "source": [
        "import requests\n",
        "\n",
        "payload = {\"api\":\"1\", \"map_action\":\"map\", \"zoom\":\"16\", \"query\":\"24.149660,120.684166\"}\n",
        "\n",
        "r = requests.get('https://www.google.com/maps/search/', params=payload)\n",
        "\n",
        "print(r.url)"
      ]
    }
  ],
  "metadata": {
    "colab": {
      "collapsed_sections": [
        "oKpQHK3uJcmX"
      ],
      "provenance": [],
      "include_colab_link": true
    },
    "kernelspec": {
      "display_name": "Python 3",
      "name": "python3"
    }
  },
  "nbformat": 4,
  "nbformat_minor": 0
}