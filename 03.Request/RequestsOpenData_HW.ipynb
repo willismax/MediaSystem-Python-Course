{
  "nbformat": 4,
  "nbformat_minor": 0,
  "metadata": {
    "colab": {
      "provenance": [],
      "include_colab_link": true
    },
    "kernelspec": {
      "name": "python3",
      "display_name": "Python 3"
    },
    "language_info": {
      "name": "python"
    }
  },
  "cells": [
    {
      "cell_type": "markdown",
      "metadata": {
        "id": "view-in-github",
        "colab_type": "text"
      },
      "source": [
        "<a href=\"https://colab.research.google.com/github/willismax/MediaSystem-Python-Course/blob/main/03.Request/RequestsOpenData_HW.ipynb\" target=\"_parent\"><img src=\"https://colab.research.google.com/assets/colab-badge.svg\" alt=\"Open In Colab\"/></a>"
      ]
    },
    {
      "cell_type": "markdown",
      "source": [
        "\n",
        "# API擷取練習\n"
      ],
      "metadata": {
        "id": "LmtfVbfzDtWl"
      }
    },
    {
      "cell_type": "markdown",
      "source": [
        "- 請自己在政府開放資料等資料集找一個API，顯示並說明抓取的目標資料。\n",
        "- 不可以跟別人重複\n",
        "- 練習用Python的requests.get().json()、Linux bash的curl X GET ..."
      ],
      "metadata": {
        "id": "lihpR7BGGuIH"
      }
    },
    {
      "cell_type": "markdown",
      "source": [
        "## 作業範例"
      ],
      "metadata": {
        "id": "28vDftMbGyBZ"
      }
    },
    {
      "cell_type": "markdown",
      "source": [
        "![image.png](https://hackmd.io/_uploads/SyxyNrmQp.png)\n",
        "\n"
      ],
      "metadata": {
        "id": "OlGZHDZpfqLA"
      }
    },
    {
      "cell_type": "markdown",
      "source": [
        "## 你的資料來源\n",
        "- 目標: 臺中市車輛偵測器VD動態資訊\n",
        "- 來源: https://data.gov.tw/dataset/119912\n",
        "- 資料集: https://datacenter.taichung.gov.tw/swagger/OpenData/9b7a8145-ae42-4564-a54f-295defd1ff70\n",
        "- 說明: 臺中市政府OAS標準之API說明文件:https://datacenter.taichung.gov.tw/swagger/yaml/387290000H ，Swagger 產生API說明頁面網址。https://datacenter.taichung.gov.tw/swagger/api-docs/"
      ],
      "metadata": {
        "id": "vRiASTzGEFaB"
      }
    },
    {
      "cell_type": "code",
      "execution_count": null,
      "metadata": {
        "id": "dzNppNbyDsb3"
      },
      "outputs": [],
      "source": [
        "!curl -X GET \"https://datacenter.taichung.gov.tw/swagger/OpenData/9b7a8145-ae42-4564-a54f-295defd1ff70\" -H \"Accept: application/json\""
      ]
    },
    {
      "cell_type": "code",
      "source": [
        "import requests\n",
        "\n",
        "url = 'https://datacenter.taichung.gov.tw/swagger/OpenData/9b7a8145-ae42-4564-a54f-295defd1ff70'\n",
        "res = requests.get(url)\n",
        "res.json()"
      ],
      "metadata": {
        "id": "DQAKYgdhEN5Y"
      },
      "execution_count": null,
      "outputs": []
    },
    {
      "cell_type": "code",
      "source": [
        "data = res.json()"
      ],
      "metadata": {
        "id": "pwLCo_tGHBX3"
      },
      "execution_count": 9,
      "outputs": []
    },
    {
      "cell_type": "code",
      "source": [
        "data[0]"
      ],
      "metadata": {
        "colab": {
          "base_uri": "https://localhost:8080/"
        },
        "id": "32KdUsAyFJXZ",
        "outputId": "696db66c-545d-4060-c6e2-3fa683ae4270"
      },
      "execution_count": 10,
      "outputs": [
        {
          "output_type": "execute_result",
          "data": {
            "text/plain": [
              "{'ID': 'V003320',\n",
              " 'Location': '大鵬路(長安路~中清路間) (西東)',\n",
              " 'RoadID': 'm1ET03',\n",
              " 'RoadName': '大鵬路',\n",
              " 'SectionName': '中清路二段-中平路',\n",
              " 'AVGSpeed': '38',\n",
              " 'AVGOccupy': '2',\n",
              " 'TotalVol': '6',\n",
              " 'UpdateTime': '2023-11-04 12:05:00'}"
            ]
          },
          "metadata": {},
          "execution_count": 10
        }
      ]
    }
  ]
}